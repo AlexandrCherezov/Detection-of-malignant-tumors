{
 "cells": [
  {
   "cell_type": "markdown",
   "id": "e0e0e697",
   "metadata": {
    "id": "e0e0e697"
   },
   "source": [
    "# Исследование состояния выявления и лечения злокачественных образований в России\n",
    "\n",
    "Заказчик из Министерства здравоохранения России ставит задачу:\n",
    "- создать универсальный обработчик, который будет обрабатывать разрозненные файлы, предоставленых в формате .xls, без участия человека и сохранять обработанный результат в том или ином виде: обработанной сводной таблицы\n",
    "- произвести анализ обработанных данных\n",
    "\n",
    "Нам предоставлены файлы, содержащие в себе данные за 2021 год:\n",
    "- Сведения о лечении злокачественных новообразований (ЗНО), впервые зарегистрированных в 2021 г. подлежащих радикальному лечению\n",
    "- Сведения о контингенте больных со злокачественными новообразованиями, состоящем на учете в онкологических учреждениях в 2021 г.\n",
    "- Заболеваемость населения территорий России злокачественными новообразованиями\n",
    "- Смертность населения территорий России от злокачественных новообразований\n",
    "\n",
    "\n",
    "**В исследовании:**\n",
    "- Произведем автоматизированную загрузку в рабочую папку предоставленных таблиц\n",
    "- Выясним, по какому признаку возможно объединение\n",
    "- Для каждого принятого признака произведем:\n",
    " - загрузку файлов в тетрадку Юпитера или Коллаба\n",
    " - обработку данных\n",
    " - объединение файлов и получение сводного датафрейма\n",
    " - выгрузку сводных данных в рабочую папку в формате Excel\n",
    "- Проведем анализ полученных сводных данных.\n",
    "\n",
    "**Подготовим для заказчика скрипт для автоматизированного использования кода**\n",
    "\n",
    "**Ход исследования:**\n",
    "- Загрузка данных из предоставленных файлов и подготовка их к анализу\n",
    "- Обработка и объединение данных в сводные таблицы\n",
    "- Изучение общей информации о датафрейме и предобработка данных\n",
    "- Исследовательский анализ данных\n",
    "- Выводы и заключения\n"
   ]
  },
  {
   "cell_type": "markdown",
   "id": "6e00c8ae",
   "metadata": {
    "id": "6e00c8ae"
   },
   "source": [
    "## Загрузка и подготовка данных к анализу\n",
    "\n",
    "\n",
    "**Путь к файлу**\n",
    "\n",
    "[Ссылка на данные](https://disk.yandex.ru/d/lSgVpGltZ4xIgQ).\n",
    "\n",
    "\n",
    "\n",
    "Изучим данные и выполним предобработку. Есть ли в данных пропуски и дубликаты? Убедимся, что типы данных во всех колонках соответствуют сохранённым в них значениям."
   ]
  },
  {
   "cell_type": "markdown",
   "id": "efdcddb7",
   "metadata": {
    "id": "efdcddb7"
   },
   "source": [
    "Загрузим библиотеку Яндекс.Диск"
   ]
  },
  {
   "cell_type": "code",
   "execution_count": 193,
   "id": "d4869112",
   "metadata": {
    "id": "d4869112",
    "outputId": "b0f68aa7-fb50-4cea-d808-6c44e8fc2132",
    "scrolled": true
   },
   "outputs": [
    {
     "name": "stdout",
     "output_type": "stream",
     "text": [
      "Note: you may need to restart the kernel to use updated packages.\n"
     ]
    }
   ],
   "source": [
    "pip install yadisk --quiet"
   ]
  },
  {
   "cell_type": "markdown",
   "id": "81c7151d",
   "metadata": {
    "id": "81c7151d"
   },
   "source": [
    "### Импортируем библиотеки:\n",
    "- **pandas**  \n",
    "- **sys**\n",
    "- **IPython.display** для отображения данных\n",
    "- **warnings** для отключения предупреждений\n",
    "- **yadisk** для работы с данными Яндекс.Диска\n",
    "- **os** для управления папками с данными\n",
    "- **tqdm** для корректного отображения данных\n",
    "- **openpyxl** для работы с таблицами Excel\n",
    "- **logging** - для отображения логов\n",
    "- **tqdm** - для отображения прцесса вычисления кода\n"
   ]
  },
  {
   "cell_type": "code",
   "execution_count": 194,
   "id": "b9559596",
   "metadata": {
    "id": "b9559596"
   },
   "outputs": [],
   "source": [
    "# импортируем библиотеки\n",
    "import pandas as pd\n",
    "import sys\n",
    "from IPython.display import display\n",
    "\n",
    "import os\n",
    "from tqdm import tqdm\n",
    "from openpyxl import load_workbook\n",
    "import warnings\n",
    "from openpyxl import load_workbook\n",
    "#pip install openpyxl\n",
    "from openpyxl.cell.text import Font, InlineFont\n",
    "from openpyxl import Workbook\n",
    "from openpyxl.utils.dataframe import dataframe_to_rows\n",
    "import yadisk\n",
    "import logging"
   ]
  },
  {
   "cell_type": "markdown",
   "id": "f23a19bc",
   "metadata": {
    "id": "f23a19bc"
   },
   "source": [
    "Перейдем в рабочую область"
   ]
  },
  {
   "cell_type": "code",
   "execution_count": 195,
   "id": "4d332580",
   "metadata": {
    "id": "4d332580",
    "outputId": "00f9298a-5aa7-487e-f837-a81b66370409"
   },
   "outputs": [],
   "source": [
    "os.chdir('/home/jovyan/work')"
   ]
  },
  {
   "cell_type": "markdown",
   "id": "49f1550a",
   "metadata": {
    "id": "2fa82541"
   },
   "source": [
    "Введем идентификационные данные для подключения"
   ]
  },
  {
   "cell_type": "code",
   "execution_count": 196,
   "id": "fad739c8",
   "metadata": {
    "id": "fad739c8"
   },
   "outputs": [],
   "source": [
    "from cfg import app_id, secret_id, ya_token"
   ]
  },
  {
   "cell_type": "markdown",
   "id": "ed0d5700",
   "metadata": {
    "id": "77645e5c"
   },
   "source": [
    "Загрузим словарь `regions_in_federal`, в котором в качестве ключей укажем наименования федеральных округов, а в качестве значений - наименования входящих в этот федеральный округ регионов"
   ]
  },
  {
   "cell_type": "code",
   "execution_count": 197,
   "id": "310d98d4",
   "metadata": {},
   "outputs": [],
   "source": [
    "from fo_regions import regions_in_federal"
   ]
  },
  {
   "cell_type": "markdown",
   "id": "e0333120",
   "metadata": {
    "id": "e0333120"
   },
   "source": [
    "Получим токен для доступа к Яндекс,диску"
   ]
  },
  {
   "cell_type": "code",
   "execution_count": 198,
   "id": "1419aaa3",
   "metadata": {
    "id": "1419aaa3",
    "outputId": "e276528a-d53b-4d95-eca1-209deaf11fa3",
    "scrolled": false
   },
   "outputs": [
    {
     "name": "stdout",
     "output_type": "stream",
     "text": [
      "Sucessfully received token!\n"
     ]
    }
   ],
   "source": [
    "# получаем токен для доступа к яндекс диску\n",
    "\n",
    "\n",
    "y = yadisk.YaDisk(app_id, secret_id, ya_token)\n",
    "\n",
    "if y.check_token():\n",
    "    print(\"Sucessfully received token!\")\n",
    "else:\n",
    "    print(\"Something went wrong. Not sure how though...\")\n"
   ]
  },
  {
   "cell_type": "markdown",
   "id": "19223434",
   "metadata": {
    "id": "19223434"
   },
   "source": [
    "Создадим список файлов для загрузки с Яндекс.Диска"
   ]
  },
  {
   "cell_type": "code",
   "execution_count": 199,
   "id": "0af83dd3",
   "metadata": {
    "id": "0af83dd3",
    "outputId": "2796372c-3ac5-4315-8e8e-3391eec597fc"
   },
   "outputs": [
    {
     "name": "stdout",
     "output_type": "stream",
     "text": [
      "\u001b[34m\u001b[1mСоздан список файлов list_of_files\n"
     ]
    }
   ],
   "source": [
    "# создаем список файлов для загрузки\n",
    "list_of_files = []\n",
    "for el in list(y.listdir('file_processor')):\n",
    "    if el['path'].endswith('.xlsx'):\n",
    "        list_of_files.append(el['path'])\n",
    "print(\"\\033[34m\"\"\\033[1m\"\"Создан список файлов list_of_files\")"
   ]
  },
  {
   "cell_type": "markdown",
   "id": "7947a5f5",
   "metadata": {
    "id": "7947a5f5"
   },
   "source": [
    "### Для отслеживания работы кода создадим файл `mylog.log`, куда будем сохранять логи.   \n"
   ]
  },
  {
   "cell_type": "code",
   "execution_count": 200,
   "id": "3822c6b9",
   "metadata": {},
   "outputs": [],
   "source": [
    "logging.basicConfig(\n",
    "    level=logging.DEBUG, \n",
    "    filename = \"mylog.log\", \n",
    "    format = \"%(asctime)s - %(module)s - %(levelname)s - %(funcName)s: %(lineno)d - %(message)s\", \n",
    "    datefmt='%H:%M:%S',\n",
    "    )\n",
    "\n",
    "logging.info('info')\n",
    "logging.debug('debug')\n",
    "logging.warning('warning_message')"
   ]
  },
  {
   "cell_type": "markdown",
   "id": "340588fe",
   "metadata": {
    "id": "340588fe"
   },
   "source": [
    "### Загрузка файлов в рабочую папку\n",
    "\n",
    "Создадим в рабочей области папку для загрузки файлов с Яндекс.Диска и перейдем в нее"
   ]
  },
  {
   "cell_type": "code",
   "execution_count": 201,
   "id": "23ae0c3d",
   "metadata": {
    "id": "23ae0c3d"
   },
   "outputs": [],
   "source": [
    "# создаем папку загрузки\n",
    "load_path = 'test_files'\n",
    "if not os.path.exists(load_path):\n",
    "    os.mkdir(load_path)\n",
    "os.chdir(load_path)"
   ]
  },
  {
   "cell_type": "markdown",
   "id": "2e94fced",
   "metadata": {
    "id": "2e94fced"
   },
   "source": [
    "Загрузим (скопируем) файлы с Яндекс.Диска в созданную папку в рабочей области"
   ]
  },
  {
   "cell_type": "code",
   "execution_count": 202,
   "id": "ebc9562e",
   "metadata": {
    "id": "ebc9562e",
    "outputId": "ddd72b44-e183-4a82-e605-500f4459c989"
   },
   "outputs": [
    {
     "name": "stderr",
     "output_type": "stream",
     "text": [
      "100%|██████████| 147/147 [01:06<00:00,  2.20it/s]"
     ]
    },
    {
     "name": "stdout",
     "output_type": "stream",
     "text": [
      "\u001b[34m\u001b[1mФайлы загружены в папку в рабочей области test_files\n"
     ]
    },
    {
     "name": "stderr",
     "output_type": "stream",
     "text": [
      "\n"
     ]
    }
   ],
   "source": [
    "# загружаем файлы с яндекс диска\n",
    "for file in tqdm(list_of_files):\n",
    "    y.download(file.split(':')[1], file.split('/')[-1])\n",
    "    \n",
    "print(\"\\033[34m\"\"\\033[1m\"\"Файлы загружены в папку в рабочей области test_files\")    "
   ]
  },
  {
   "cell_type": "markdown",
   "id": "aa2cdc27",
   "metadata": {
    "id": "aa2cdc27"
   },
   "source": [
    "Перейдем в рабочую папку"
   ]
  },
  {
   "cell_type": "code",
   "execution_count": 203,
   "id": "de142656",
   "metadata": {
    "id": "de142656"
   },
   "outputs": [],
   "source": [
    "os.chdir(path=\"/home/jovyan/work/test_files\")"
   ]
  },
  {
   "cell_type": "markdown",
   "id": "f8e1cb3e",
   "metadata": {
    "id": "f8e1cb3e"
   },
   "source": [
    "\n",
    "### Обработка первой группы файлов.\n",
    "Обработаем файлы, содержащие Сведения о лечении злокачественных новообразований (ЗНО), впервые зарегистрированных в 2021 г. подлежащих радикальному лечению."
   ]
  },
  {
   "cell_type": "markdown",
   "id": "7cc58d9e",
   "metadata": {
    "id": "7cc58d9e"
   },
   "source": [
    "#### Подготовительные действия"
   ]
  },
  {
   "cell_type": "markdown",
   "id": "2d58042a",
   "metadata": {
    "id": "2d58042a"
   },
   "source": [
    "Cоздадим список `files_list_one`, содержащий в себе изменяющуюся часть названий файлов, удовлетворяющих условиям:\n",
    "- Название файла: `2021_Таблица_ХХХ_Состояние_онко_помощи_в_РФ.xlsx`  \n",
    "- Содержание файла: \"Сведения о лечении злокачественных новообразований (ЗНО), впервые зарегистрированных в 2021 г. подлежащих радикальному лечению \"  \n",
    "- где `XXX` - в диапазоне: 058, 061-085"
   ]
  },
  {
   "cell_type": "code",
   "execution_count": 204,
   "id": "aa4fd080",
   "metadata": {
    "id": "aa4fd080"
   },
   "outputs": [],
   "source": [
    "files_list_one = [58] + list(range(61, 86))"
   ]
  },
  {
   "cell_type": "markdown",
   "id": "e107c2ff",
   "metadata": {
    "id": "e107c2ff"
   },
   "source": [
    "Преобразуем список - приведем его элементы к трех-значному виду.   \n",
    "Создадим для этого функцию:\n",
    "- `reload_files_list` - наполнит список трех-значными значениями\n"
   ]
  },
  {
   "cell_type": "code",
   "execution_count": 205,
   "id": "2cae0468",
   "metadata": {
    "id": "2cae0468"
   },
   "outputs": [],
   "source": [
    "def reload_files_list (list_name):\n",
    "\n",
    "    return(['00' + str(x) if len(str(x)) == 1  \\\n",
    "                  else '0' + str(x) if len(str(x)) == 2 \\\n",
    "                  else str(x) \\\n",
    "                  for x in list_name])"
   ]
  },
  {
   "cell_type": "code",
   "execution_count": 206,
   "id": "dc92303f",
   "metadata": {},
   "outputs": [],
   "source": [
    "files_list_one = reload_files_list(files_list_one)"
   ]
  },
  {
   "cell_type": "markdown",
   "id": "19d89579",
   "metadata": {
    "id": "19d89579"
   },
   "source": [
    "Создадим функцию `list_file_names`, которая создаст и заполнит список `convert_one` (и другие списки) названиями файлов, удовлетворяющих задаваемым условиям:\n"
   ]
  },
  {
   "cell_type": "code",
   "execution_count": 207,
   "id": "66df14dc",
   "metadata": {
    "id": "66df14dc"
   },
   "outputs": [],
   "source": [
    "def list_file_names(list_name):\n",
    "    os.chdir('/home/jovyan/work/test_files')\n",
    "    #print(\"\\033[34m\"'Текущая папка: '\"\\033[1m\", os.getcwd())\n",
    "    convert_one = []\n",
    "    for file in os.listdir():\n",
    "        if not 'checkpoints' in file:\n",
    "            if str(file.split('_')[2]) in list_name and 'Сос' in file:\n",
    "                convert_one.append(file)\n",
    "            else:\n",
    "                pass\n",
    "    return(convert_one)"
   ]
  },
  {
   "cell_type": "markdown",
   "id": "a3ef189f",
   "metadata": {
    "id": "a3ef189f"
   },
   "source": [
    "Вызовем функцию `list_file_names` и создадим список `convert_one` с названиями файлов, удовлетворяющих условиям:\n",
    "- Название файла: `2021_Таблица_ХХХ_Состояние_онко_помощи_в_РФ.xlsx`  \n",
    "- Содержание файла: \"Сведения о лечении злокачественных новообразований (ЗНО), впервые зарегистрированных в 2021 г. подлежащих радикальному лечению \"  \n",
    "- где `XXX` - в диапазоне: 058, 061-085"
   ]
  },
  {
   "cell_type": "code",
   "execution_count": 208,
   "id": "684b3c9f",
   "metadata": {
    "id": "684b3c9f",
    "outputId": "1bc36485-60a7-4bf3-b1b9-2fee8fe97f73"
   },
   "outputs": [],
   "source": [
    "convert_one = list_file_names(files_list_one)"
   ]
  },
  {
   "cell_type": "markdown",
   "id": "1521cb4f",
   "metadata": {
    "id": "1521cb4f"
   },
   "source": [
    "#### Создание сводного датафрейма"
   ]
  },
  {
   "cell_type": "markdown",
   "id": "e31889a3",
   "metadata": {
    "id": "e31889a3"
   },
   "source": [
    "Создадим для последующего заполнения пустой список `final_one`"
   ]
  },
  {
   "cell_type": "code",
   "execution_count": 209,
   "id": "5b6c16dd",
   "metadata": {
    "id": "5b6c16dd"
   },
   "outputs": [],
   "source": [
    "final_one = []"
   ]
  },
  {
   "cell_type": "markdown",
   "id": "e39d51b7",
   "metadata": {
    "id": "e39d51b7"
   },
   "source": [
    "Заполним список `final_one` названиями файлов, удовлетворяющих условиям:\n",
    "- Название файла: `2021_Таблица_ХХХ_Состояние_онко_помощи_в_РФ.xlsx`  \n",
    "- Содержание файла: \"Сведения о лечении злокачественных новообразований (ЗНО), впервые зарегистрированных в 2021 г. подлежащих радикальному лечению \"  \n",
    "- где `XXX` - в диапазоне: 058, 061-085"
   ]
  },
  {
   "cell_type": "code",
   "execution_count": 210,
   "id": "995f495e",
   "metadata": {
    "id": "7d5ba7e6",
    "outputId": "e0b92f4b-f3d9-46eb-a0c0-ad5ef5d2dc57",
    "scrolled": false
   },
   "outputs": [
    {
     "name": "stderr",
     "output_type": "stream",
     "text": [
      "100%|██████████| 26/26 [00:04<00:00,  5.26it/s]\n"
     ]
    }
   ],
   "source": [
    "for el in tqdm(convert_one):\n",
    "    vars = load_workbook(el).active['A1'].value.split('  ')\n",
    "\n",
    "    ind, loc = ' '.join(vars[0].split('\\n')[0:2]).capitalize(), vars[0].split('\\n')[2]\n",
    "    table = vars[-1].strip()\n",
    "    df = pd.read_excel(el, header=[2])\n",
    "    df.columns = ['Регион',\n",
    "                  'Число ЗНО, выявленных в отчетном году, радикальное лечение которых закончено в отчетном году, чел.',\n",
    "                  'Число ЗНО, выявленных в отчетном году, радикальное лечение которых закончено в отчетном году, % от впервые выявленных',\n",
    "                  'Число ЗНО, выявленных в отчетном году, радикальное лечение которых будет продолжено в отчетом году, чел.',\n",
    "                  'Число ЗНО, выявленных в отчетном году, радикальное лечение которых будет продолжено в отчетном году, % от впервые выявленных',\n",
    "                  'В том числе с использованием методов только хирургического, %',\n",
    "                  'В том числе с использованием методов только лучевого, %',\n",
    "                  'В том числе с использованием методов только лекарственного, %',\n",
    "                  'В том числе с использованием методов комбинированного или комплексного (кроме химиолучевого), %',\n",
    "                  'В том числе с использованием методов химиолучевого, %']\n",
    "    df['Индикатор'] = ind\n",
    "    df['Локализация'] = loc\n",
    "    df['Таблица'] = table\n",
    "    df['Тип данных'] = 'СОП'\n",
    "    final_one.append(df)"
   ]
  },
  {
   "cell_type": "code",
   "execution_count": 211,
   "id": "17cdceec",
   "metadata": {
    "id": "17cdceec"
   },
   "outputs": [],
   "source": [
    "final_one_df = pd.concat(final_one).reset_index(drop=True)"
   ]
  },
  {
   "cell_type": "markdown",
   "id": "5da1326f",
   "metadata": {
    "id": "5da1326f"
   },
   "source": [
    "В переменную `bad_regions` сохраним список значений из столбца `Регион`, обозначающих наименования федеральных округов"
   ]
  },
  {
   "cell_type": "code",
   "execution_count": 212,
   "id": "9d1d04dc",
   "metadata": {
    "id": "9d1d04dc"
   },
   "outputs": [],
   "source": [
    "bad_regions = final_one_df[final_one_df.Регион.str.upper().str.contains('ФО')]['Регион'].tolist()"
   ]
  },
  {
   "cell_type": "markdown",
   "id": "4ad10179",
   "metadata": {
    "id": "4ad10179"
   },
   "source": [
    "Для дальнейшего анализа создадим датафрейм `data_federal_district`: сохраним в нем строки (записи) , в которых в толбце `Регион` присутствуют значения, означающие наименования федеральных округов (присутствуют в переменной `bad_regions`)"
   ]
  },
  {
   "cell_type": "code",
   "execution_count": 213,
   "id": "f85245ac",
   "metadata": {
    "id": "f85245ac",
    "outputId": "a503ed3d-3a74-4159-bed6-724e5f884dfe"
   },
   "outputs": [],
   "source": [
    "data_federal_district = final_one_df[final_one_df.Регион.isin(bad_regions)]"
   ]
  },
  {
   "cell_type": "markdown",
   "id": "0a37a856",
   "metadata": {
    "id": "0a37a856"
   },
   "source": [
    "Удалим строки (записи) , в которых в столбце `Регион` присутствуют значения, означающие наименования федеральных округов (присутствуют в переменной `bad_regions`)"
   ]
  },
  {
   "cell_type": "code",
   "execution_count": 214,
   "id": "11351eea",
   "metadata": {
    "id": "11351eea"
   },
   "outputs": [],
   "source": [
    "final_one_df = final_one_df[~final_one_df.Регион.isin(bad_regions)]"
   ]
  },
  {
   "cell_type": "markdown",
   "id": "0fec57e3",
   "metadata": {
    "id": "0fec57e3"
   },
   "source": [
    "Произведем категоризацию данных по наименованию региона и соответствующие наименования федеральных округов запишем в столбец `ФО`."
   ]
  },
  {
   "cell_type": "code",
   "execution_count": 215,
   "id": "17e5d408",
   "metadata": {
    "id": "17e5d408",
    "scrolled": true
   },
   "outputs": [],
   "source": [
    "def categorize_purpose(total_income):\n",
    "    for key, value in regions_in_federal.items():\n",
    "        if total_income in value:\n",
    "            return key\n",
    "\n",
    "final_one_df['ФО'] = final_one_df['Регион'].apply(categorize_purpose)"
   ]
  },
  {
   "cell_type": "markdown",
   "id": "a7892fe9",
   "metadata": {
    "id": "a7892fe9"
   },
   "source": [
    "Изменим имеющийся порядок столбцов и поместим наименование округа после наименования региона"
   ]
  },
  {
   "cell_type": "code",
   "execution_count": 216,
   "id": "30055ac6",
   "metadata": {
    "id": "30055ac6",
    "outputId": "87f42dc8-4b32-4f2d-997f-be6875b6a86e"
   },
   "outputs": [],
   "source": [
    "cols = final_one_df.columns.tolist()\n",
    "cols = cols[:1] + cols[-1:]+ cols[1:-1]\n",
    "final_one_df = final_one_df[cols].reset_index(drop = True)\n",
    "#final_one_df"
   ]
  },
  {
   "cell_type": "markdown",
   "id": "8b00fd1a",
   "metadata": {
    "id": "8b00fd1a"
   },
   "source": [
    "#### Выгрузка сводного файла в рабочую папку"
   ]
  },
  {
   "cell_type": "markdown",
   "id": "c1722836",
   "metadata": {
    "id": "c1722836"
   },
   "source": [
    "Создадим шрифт для заголовка таблицы Excel"
   ]
  },
  {
   "cell_type": "code",
   "execution_count": 217,
   "id": "b6a0a1b3",
   "metadata": {
    "id": "b6a0a1b3"
   },
   "outputs": [],
   "source": [
    "font = Font(name='Calibri',\n",
    "             size=11,\n",
    "            bold=False,\n",
    "             italic=False,\n",
    "             vertAlign=None,\n",
    "             underline='none',\n",
    "             strike=False,\n",
    "             color='00FF0000')\n",
    "inline_font = InlineFont(font)"
   ]
  },
  {
   "cell_type": "markdown",
   "id": "ea7c97e0",
   "metadata": {
    "id": "ea7c97e0"
   },
   "source": [
    "Создадим функцию `df_download`для выгрузки файлов в форматах:\n",
    "- .csv\n",
    "- .xlsx"
   ]
  },
  {
   "cell_type": "markdown",
   "id": "dfa40c36",
   "metadata": {
    "id": "dfa40c36"
   },
   "source": [
    "Выгрузим файл в папку в формате Excel  \n",
    "Воспользуемся функцией `to_excel()` , для чего сначала установим `openpyxl`, чтобы мы могли записывать файлы в Excel.  \n",
    "Итоговый файл также выгрузим в корневую папку"
   ]
  },
  {
   "cell_type": "code",
   "execution_count": 218,
   "id": "f631d479",
   "metadata": {
    "id": "f631d479"
   },
   "outputs": [],
   "source": [
    "def df_download(data_name, df_name_xlsx, df_name_csv):\n",
    "\n",
    "    # Сменим папку, перейдем в папку для хранения обработанных файлов\n",
    "    os.chdir('/home/jovyan/work')\n",
    "    print(\"\\033[34m\"'Текущая папка: '\"\\033[1m\", os.getcwd())\n",
    "\n",
    "    # Выгрузим файл в корневую папку в формате .csv\n",
    "    final_one_df.to_csv(df_name_csv)\n",
    "    print(\"\\033[34m\"'Выгружен файл'\"\\033[1m\", df_name_csv)\n",
    "\n",
    "    # Выгрузим файл в папку в формате Excel\n",
    "    # Воспользуемся функцией to_excel() , для чего ранее мы установили openpyxl, чтобы записывать файлы в Excel.\n",
    "    # Итоговый файл также выгрузим в корневую папку\n",
    "\n",
    "    workbook = Workbook()\n",
    "    sheet = workbook.active\n",
    "\n",
    "    for row in dataframe_to_rows(data_name, header=True):\n",
    "        sheet.append(row)\n",
    "\n",
    "    # изменим высоту первой строки\n",
    "    sheet.row_dimensions[1].height = 50\n",
    "\n",
    "    # изменим ширину некоторых колонок\n",
    "    columns_to_change = ['B', 'C', 'M', 'N', 'O']\n",
    "    for cell in columns_to_change:\n",
    "        sheet.column_dimensions[cell].width = 20\n",
    "\n",
    "    # свернем строки с номерами с 3 по 94\n",
    "    #sheet.row_dimensions.group(3, 95, hidden=False)\n",
    "    #sheet.row_dimensions.group(97, 189, hidden=False)\n",
    "    #sheet.row_dimensions.group(191, 283, hidden=False)\n",
    "    #sheet.row_dimensions.group(285, 373, hidden=False)\n",
    "\n",
    "\n",
    "    # установим жирный шрифт для ячеек первой строки\n",
    "    cell_to_change = ['A1','B1','C1','D1','E1','F1','G1','H1','I1', 'J1','G1','K1','L1','M1','N1','O1','P1',]\n",
    "    for cell in cell_to_change:\n",
    "        sheet[cell].font = Font(size=12, bold=True)\n",
    "\n",
    "    # удалим 2 строку (пустую)\n",
    "    sheet.delete_rows(2)\n",
    "\n",
    "    # зафиксируем первую строку при прокрутке по вертикали\n",
    "    sheet.freeze_panes = 'A2'\n",
    "\n",
    "    # выгрузим таблицу в рабочую область\n",
    "    workbook.save(df_name_xlsx)\n",
    "    print(\"\\033[34m\"'Выгружен файл'\"\\033[1m\", df_name_xlsx)\n",
    "\n",
    "    return"
   ]
  },
  {
   "cell_type": "code",
   "execution_count": 219,
   "id": "e4baa899",
   "metadata": {
    "id": "e4baa899",
    "outputId": "9736e1fc-ebf7-46d4-fe4e-c7b1469cbf6b"
   },
   "outputs": [
    {
     "name": "stdout",
     "output_type": "stream",
     "text": [
      "\u001b[34mТекущая папка: \u001b[1m /home/jovyan/work\n",
      "\u001b[34mВыгружен файл\u001b[1m final_one_SOP.csv\n",
      "\u001b[34mВыгружен файл\u001b[1m final_one_SOP.xlsx\n"
     ]
    }
   ],
   "source": [
    "df_download(final_one_df, \"final_one_SOP.xlsx\", 'final_one_SOP.csv')"
   ]
  },
  {
   "cell_type": "markdown",
   "id": "d9c967ae",
   "metadata": {
    "id": "d9c967ae"
   },
   "source": [
    "### Обработка второй группы файлов.\n",
    "Обработаем файлы, содержащие Сведения о контингенте больных со злокачественными новообразованиями, состоящем на учете в онкологических учреждениях в 2021 г."
   ]
  },
  {
   "cell_type": "markdown",
   "id": "5cf0caae",
   "metadata": {
    "id": "5cf0caae"
   },
   "source": [
    "#### Подготовительные действия"
   ]
  },
  {
   "cell_type": "markdown",
   "id": "46578dea",
   "metadata": {
    "id": "46578dea"
   },
   "source": [
    "Cоздадим список `files_list_two`, содержащий в себе изменяющуюся часть названий файлов, удовлетворяющих условиям:\n",
    "- Название файла: `2021_Таблица_ХХХ_Состояние_онко_помощи_в_РФ.xlsx`  \n",
    "- Содержание файла: \"Сведения о контингенте больных со злокачественными новообразованиями, состоящем на учете в онкологических учреждениях в 2021 г.\"  \n",
    "- где `XXX` - в диапазоне: 024, 027-051"
   ]
  },
  {
   "cell_type": "code",
   "execution_count": 220,
   "id": "4398ac82",
   "metadata": {
    "id": "4398ac82"
   },
   "outputs": [],
   "source": [
    "files_list_two  = [24] + list(range(27, 52))"
   ]
  },
  {
   "cell_type": "markdown",
   "id": "17cacd98",
   "metadata": {
    "id": "17cacd98"
   },
   "source": [
    "Создадим функцию `two_in_one`, которая вызовет посследовательно две ранее созданные функции:\n",
    "- `reload_files_list`,  которая преобразует список `files_list_two`, указав в нем трех-значные значения\n",
    "- `list_file_names`, которая создаст список `convert_two` с названиями файлов, удовлетворяющих условиям:\n",
    "  - Название файла: `2021_Таблица_ХХХ_Состояние_онко_помощи_в_РФ.xlsx`  \n",
    "  - Содержание файла: \"Сведения о контингенте больных со злокачественными новообразованиями, состоящем на учете в онкологических учреждениях в 2021 г.\"  \n",
    "  - где `XXX` - в диапазоне: 024, 027-051"
   ]
  },
  {
   "cell_type": "code",
   "execution_count": 221,
   "id": "9d38ef19",
   "metadata": {
    "id": "9d38ef19"
   },
   "outputs": [],
   "source": [
    "def two_in_one(list_name):\n",
    "    # Применим созданную ранее функцию reload_files_list, которая преобразуем список files_list_two,\n",
    "    # указав в нем трех-значные значения\n",
    "    list_name = reload_files_list(list_name)\n",
    "    \n",
    "    # Вызовем функцию list_file_names и создадим список convert_two\n",
    "    convert_two = list_file_names(list_name)\n",
    "    return(convert_two)"
   ]
  },
  {
   "cell_type": "markdown",
   "id": "03c8d3fa",
   "metadata": {
    "id": "03c8d3fa"
   },
   "source": [
    "Создадим список `convert_two`"
   ]
  },
  {
   "cell_type": "code",
   "execution_count": 222,
   "id": "d77079fe",
   "metadata": {
    "id": "d77079fe",
    "outputId": "c419e975-590b-4e2e-fc23-b1289435f97b",
    "scrolled": false
   },
   "outputs": [],
   "source": [
    "convert_two = two_in_one(files_list_two)"
   ]
  },
  {
   "cell_type": "markdown",
   "id": "b819b5bb",
   "metadata": {
    "id": "b819b5bb"
   },
   "source": [
    "##### Проверим в каждом файле:\n",
    "- какие листы присутствуют в файле\n",
    "- какой лист является первым\n",
    "- какой лист является активным"
   ]
  },
  {
   "cell_type": "code",
   "execution_count": 223,
   "id": "3811e2a7",
   "metadata": {
    "id": "3811e2a7",
    "outputId": "f02436dc-32c9-42dc-c05b-3446c99670d9",
    "scrolled": false
   },
   "outputs": [
    {
     "data": {
      "text/plain": [
       "\"for el in tqdm(convert_two):\\n    wb2 = load_workbook(el)\\n    print('наименования листов', wb2.sheetnames)\\n    print('******************')\\n    #t = wb2.active.tolist()\\n    if wb2.sheetnames[0] in wb2.active:\\n        print('хорошо')\\n        \""
      ]
     },
     "execution_count": 223,
     "metadata": {},
     "output_type": "execute_result"
    }
   ],
   "source": [
    "'''for el in tqdm(convert_two):\n",
    "    wb2 = load_workbook(el)\n",
    "    print('наименования листов', wb2.sheetnames)\n",
    "    print('******************')\n",
    "    #t = wb2.active.tolist()\n",
    "    if wb2.sheetnames[0] in wb2.active:\n",
    "        print('хорошо')\n",
    "        '''"
   ]
  },
  {
   "cell_type": "markdown",
   "id": "0e6babcd",
   "metadata": {
    "id": "0e6babcd"
   },
   "source": [
    "В каждом файле:\n",
    "- по два листа\n",
    "- для последнего файла (файла с номером 051) листы называются ['Table 2', 'Table 3']\n",
    "- для всех остальных файлов - листы называются ['Table 1', 'Table 3']\n",
    "- в первом файле (файле с номером 024) активным является второй лист\n",
    "- во всех остальных файлах активным является первый лист"
   ]
  },
  {
   "cell_type": "markdown",
   "id": "ba1d4f5f",
   "metadata": {
    "id": "ba1d4f5f"
   },
   "source": [
    "##### Зададим, чтобы при чтении файла с номером 024 -  `2021_Таблица_024_Состояние_онко_помощи_в_РФ.xlsx` считывался (был активным) первый лист в файле"
   ]
  },
  {
   "cell_type": "code",
   "execution_count": 224,
   "id": "dbade484",
   "metadata": {
    "id": "dbade484",
    "outputId": "1e7bebae-2096-45fc-d065-e5dd9cd27e5d"
   },
   "outputs": [
    {
     "name": "stdout",
     "output_type": "stream",
     "text": [
      "['Table 1', 'Table 3']\n"
     ]
    }
   ],
   "source": [
    "wb10 = load_workbook('2021_Таблица_024_Состояние_онко_помощи_в_РФ.xlsx')\n",
    "print(wb10.sheetnames)"
   ]
  },
  {
   "cell_type": "code",
   "execution_count": 225,
   "id": "37b1c4e0",
   "metadata": {
    "id": "37b1c4e0"
   },
   "outputs": [],
   "source": [
    "wb10.active = wb10['Table 3']"
   ]
  },
  {
   "cell_type": "code",
   "execution_count": 226,
   "id": "e784d828",
   "metadata": {
    "id": "e784d828",
    "outputId": "1e23aa40-873e-49dc-8929-43e04c89573b"
   },
   "outputs": [
    {
     "data": {
      "text/plain": [
       "<Worksheet \"Table 1\">"
      ]
     },
     "execution_count": 226,
     "metadata": {},
     "output_type": "execute_result"
    }
   ],
   "source": [
    "sheetss = wb10.sheetnames\n",
    "ws = wb10[sheetss[0]]\n",
    "ws"
   ]
  },
  {
   "cell_type": "markdown",
   "id": "96bd9ff7",
   "metadata": {
    "id": "96bd9ff7"
   },
   "source": [
    "##### Выведем на экран первые строки файлов, содержащихся в списке `convert_two`"
   ]
  },
  {
   "cell_type": "code",
   "execution_count": 227,
   "id": "830e7cfd",
   "metadata": {
    "id": "830e7cfd",
    "outputId": "a70d7239-f4b5-4ac0-b49c-88ab8b45e25b",
    "scrolled": true
   },
   "outputs": [
    {
     "data": {
      "text/plain": [
       "'\\nfor el in tqdm(convert_two):\\n    display(pd.read_excel(el).head())\\n    '"
      ]
     },
     "execution_count": 227,
     "metadata": {},
     "output_type": "execute_result"
    }
   ],
   "source": [
    "'''\n",
    "for el in tqdm(convert_two):\n",
    "    display(pd.read_excel(el).head())\n",
    "    '''"
   ]
  },
  {
   "cell_type": "markdown",
   "id": "5be731db",
   "metadata": {
    "id": "5be731db"
   },
   "source": [
    "Мы видим:\n",
    "\n",
    "- Таблицы `2021_Таблица_024_Состояние_онко_помощи_в_РФ` и `2021_Таблица_051_Состояние_онко_помощи_в_РФ` содержат по 9 столбцов\n",
    "- Остальные в диапазоне `files_list_two  = [24] + list(range(27, 52))` содержат по 10 столбцов. При этом последний – десятый - пустой\n",
    "- Данные файла, находящегося между файлами с номерами 031 и 033 не имеет указания в себе номера таблицы. Соотнеся со списком `convert_two` установим, что это файл `2021_Таблица_032_Состояние_онко_помощи_в_РФ.xlsx`\n",
    "-"
   ]
  },
  {
   "cell_type": "markdown",
   "id": "eda8df3c",
   "metadata": {
    "id": "eda8df3c"
   },
   "source": [
    "Выведем на экран значение последнего элемента в строке ячейки 'A1'"
   ]
  },
  {
   "cell_type": "code",
   "execution_count": 228,
   "id": "c3638770",
   "metadata": {
    "id": "c3638770",
    "outputId": "0bb76800-f8fb-43eb-f612-feadec7cc398",
    "scrolled": true
   },
   "outputs": [
    {
     "data": {
      "text/plain": [
       "\"\\nfor el in tqdm(convert_two):\\n    vars = load_workbook(el).active['A1'].value.split('  ')\\n    print('vars[-1] = ',vars[-1])\\n    \""
      ]
     },
     "execution_count": 228,
     "metadata": {},
     "output_type": "execute_result"
    }
   ],
   "source": [
    "'''\n",
    "for el in tqdm(convert_two):\n",
    "    vars = load_workbook(el).active['A1'].value.split('  ')\n",
    "    print('vars[-1] = ',vars[-1])\n",
    "    '''"
   ]
  },
  {
   "cell_type": "markdown",
   "id": "e9abf211",
   "metadata": {
    "id": "e9abf211"
   },
   "source": [
    "\n",
    "Увидим, что:\n",
    "- в файлах с номерами с 27 по 31, с 39 по 42, с 45 по 47, с 49 по 51 (список `files_list_two_alpha  = list(range(27, 32)) + list(range(39, 43)) + list(range(45, 48)) + list(range(49, 52))`) последний элемент содержит указание на номер таблицы\n",
    "- в файле с номером 024 - указано \"Продолжение таблицы 24\" - вероятно, это второй (а не первый) лист таблицы\n",
    "- в файле с номером 032 - не указан номер таблицы (уже отмечали выше)\n",
    "- в файлах с номерами с 33 по 38, с 43 по 44 и в 48 (список `files_list_two_beta  = list(range(33, 39)) + list(range(43, 45)) + [48]`) последний элемент содетжит указание на номер таблицы и локализацию заболевания одновременно"
   ]
  },
  {
   "cell_type": "markdown",
   "id": "6ce2e04a",
   "metadata": {
    "id": "6ce2e04a"
   },
   "source": [
    "Выведем на экран значение первого и второго элементов в строке ячейки 'A1'"
   ]
  },
  {
   "cell_type": "code",
   "execution_count": 229,
   "id": "ab98f61a",
   "metadata": {
    "id": "ab98f61a",
    "outputId": "58528a0c-65e4-401f-e329-92fb3fbf3a21",
    "scrolled": true
   },
   "outputs": [
    {
     "data": {
      "text/plain": [
       "\"\\nfor el in tqdm(convert_two):\\n    vars = load_workbook(el,'Table 1').active['A1'].value.split('  ')\\n    print(vars[0])\\n    print(vars[1])\\n\""
      ]
     },
     "execution_count": 229,
     "metadata": {},
     "output_type": "execute_result"
    }
   ],
   "source": [
    "'''\n",
    "for el in tqdm(convert_two):\n",
    "    vars = load_workbook(el,'Table 1').active['A1'].value.split('  ')\n",
    "    print(vars[0])\n",
    "    print(vars[1])\n",
    "'''\n"
   ]
  },
  {
   "cell_type": "markdown",
   "id": "3ba6f1ab",
   "metadata": {
    "id": "3ba6f1ab"
   },
   "source": [
    "Увидим, что в первом файле - с номером 024 - значение в ячейке не соответствует значениям в ячейке в других файлах - при его обработке необходимо сменить активный лист"
   ]
  },
  {
   "cell_type": "markdown",
   "id": "3c64c19b",
   "metadata": {
    "id": "3c64c19b"
   },
   "source": [
    "<div style=\"border-radius: 45px;border:solid green 7px; padding: 40px\">\n",
    "    \n",
    "#### Вывод по Подготовке данных    \n",
    "\n",
    "Таким образом перед объединением файлов списка `convert_two` нам нужно учеть следующее:\n",
    "    \n",
    "- файл 024 - указано \"Продолжение таблицы 24\" - вероятно, это второй (а не первый) лист таблицы\n",
    " - сменить активный лист\n",
    "    - смена наименования листа таблицы    \n",
    " - обработать ячейку \"А1\" - в ней первый и второй элемен отличаются от аналогичных в других файлах\n",
    "    - удалить пробелы\n",
    "  \n",
    "- удалить последний - пустой - столбец в файлах, где количество столюцов равно 10\n",
    "    \n",
    "- разъединить слово Таблица и наименование локазизации - там, где они представлены одним элементом\n",
    "   \n",
    "- в файле с номером 032 - дополнить номером таблици\n"
   ]
  },
  {
   "cell_type": "markdown",
   "id": "35f43509",
   "metadata": {
    "id": "35f43509"
   },
   "source": [
    "#### Создание сводного датафрейма"
   ]
  },
  {
   "cell_type": "markdown",
   "id": "b96adadd",
   "metadata": {
    "id": "b96adadd"
   },
   "source": [
    "##### Отдельно обработаем файл с номером 24 (список `files_list_two_delta  = [24]`)\n",
    "Подготовим данные из этого файла отдельно\n"
   ]
  },
  {
   "cell_type": "code",
   "execution_count": 230,
   "id": "78b880e5",
   "metadata": {
    "id": "78b880e5"
   },
   "outputs": [],
   "source": [
    "files_list_two  = [24]"
   ]
  },
  {
   "cell_type": "code",
   "execution_count": 231,
   "id": "0c2feb1a",
   "metadata": {
    "id": "0c2feb1a",
    "outputId": "576a4998-c0a0-4ded-d2a4-d7edf9b496e2",
    "scrolled": false
   },
   "outputs": [],
   "source": [
    "convert_two = two_in_one(files_list_two)\n",
    "#convert_two"
   ]
  },
  {
   "cell_type": "markdown",
   "id": "b9f2ac80",
   "metadata": {
    "id": "b9f2ac80"
   },
   "source": [
    "###### Выведем на экран первые строки файла, содержащихся в списке `convert_two`"
   ]
  },
  {
   "cell_type": "code",
   "execution_count": 232,
   "id": "c746e96f",
   "metadata": {
    "id": "c746e96f",
    "outputId": "e2063f01-2ce0-40d2-e373-94e0476fada0",
    "scrolled": true
   },
   "outputs": [
    {
     "data": {
      "text/html": [
       "<div>\n",
       "<style scoped>\n",
       "    .dataframe tbody tr th:only-of-type {\n",
       "        vertical-align: middle;\n",
       "    }\n",
       "\n",
       "    .dataframe tbody tr th {\n",
       "        vertical-align: top;\n",
       "    }\n",
       "\n",
       "    .dataframe thead th {\n",
       "        text-align: right;\n",
       "    }\n",
       "</style>\n",
       "<table border=\"1\" class=\"dataframe\">\n",
       "  <thead>\n",
       "    <tr style=\"text-align: right;\">\n",
       "      <th></th>\n",
       "      <th>СВЕДЕНИЯ О КОНТИНГЕНТЕ БОЛЬНЫХ СО ЗЛОКАЧЕСТВЕННЫМИ НОВООБРАЗОВАНИЯМИ,\\nСОСТОЯЩЕМ НА УЧЕТЕ В ОНКОЛОГИЧЕСКИХ УЧРЕЖДЕНИЯХ В 2021 Г.\\nЗлокачественные новообразования - всего (С00-96)                                               Таблица 24</th>\n",
       "      <th>Unnamed: 1</th>\n",
       "      <th>Unnamed: 2</th>\n",
       "      <th>Unnamed: 3</th>\n",
       "      <th>Unnamed: 4</th>\n",
       "      <th>Unnamed: 5</th>\n",
       "      <th>Unnamed: 6</th>\n",
       "      <th>Unnamed: 7</th>\n",
       "      <th>Unnamed: 8</th>\n",
       "    </tr>\n",
       "  </thead>\n",
       "  <tbody>\n",
       "    <tr>\n",
       "      <th>0</th>\n",
       "      <td>Республика, край, область</td>\n",
       "      <td>Взято на учет больных с впервые в жизни уст. д...</td>\n",
       "      <td>в т.ч. вы- явлены активно,\\n%</td>\n",
       "      <td>Находились на учете на конец года</td>\n",
       "      <td>NaN</td>\n",
       "      <td>из них 5 лет и более</td>\n",
       "      <td>NaN</td>\n",
       "      <td>Индекс на- копления контин- гентов</td>\n",
       "      <td>Леталь- ность,\\n%</td>\n",
       "    </tr>\n",
       "    <tr>\n",
       "      <th>1</th>\n",
       "      <td>NaN</td>\n",
       "      <td>NaN</td>\n",
       "      <td>NaN</td>\n",
       "      <td>абсолют- ное число</td>\n",
       "      <td>на 100 тыс. населения</td>\n",
       "      <td>абсолют- ное число</td>\n",
       "      <td>%  от сост. на учете</td>\n",
       "      <td>NaN</td>\n",
       "      <td>NaN</td>\n",
       "    </tr>\n",
       "    <tr>\n",
       "      <th>2</th>\n",
       "      <td>РОССИЯ</td>\n",
       "      <td>490588</td>\n",
       "      <td>24.1</td>\n",
       "      <td>3940529</td>\n",
       "      <td>2690.5</td>\n",
       "      <td>2262078</td>\n",
       "      <td>57.4</td>\n",
       "      <td>8</td>\n",
       "      <td>5.2</td>\n",
       "    </tr>\n",
       "    <tr>\n",
       "      <th>3</th>\n",
       "      <td>ЦЕНТРАЛЬНЫЙ ФО</td>\n",
       "      <td>129871</td>\n",
       "      <td>24.1</td>\n",
       "      <td>1147377</td>\n",
       "      <td>2916.4</td>\n",
       "      <td>666555</td>\n",
       "      <td>58.1</td>\n",
       "      <td>8.8</td>\n",
       "      <td>4.5</td>\n",
       "    </tr>\n",
       "    <tr>\n",
       "      <th>4</th>\n",
       "      <td>Белгородская область</td>\n",
       "      <td>6134</td>\n",
       "      <td>27.4</td>\n",
       "      <td>44114</td>\n",
       "      <td>2854.9</td>\n",
       "      <td>24836</td>\n",
       "      <td>56.3</td>\n",
       "      <td>7.2</td>\n",
       "      <td>5.1</td>\n",
       "    </tr>\n",
       "  </tbody>\n",
       "</table>\n",
       "</div>"
      ],
      "text/plain": [
       "  СВЕДЕНИЯ О КОНТИНГЕНТЕ БОЛЬНЫХ СО ЗЛОКАЧЕСТВЕННЫМИ НОВООБРАЗОВАНИЯМИ,\\nСОСТОЯЩЕМ НА УЧЕТЕ В ОНКОЛОГИЧЕСКИХ УЧРЕЖДЕНИЯХ В 2021 Г.\\nЗлокачественные новообразования - всего (С00-96)                                               Таблица 24                   \\\n",
       "0                          Республика, край, область                                                                                                                                                                                                             \n",
       "1                                                NaN                                                                                                                                                                                                             \n",
       "2                                             РОССИЯ                                                                                                                                                                                                             \n",
       "3                                     ЦЕНТРАЛЬНЫЙ ФО                                                                                                                                                                                                             \n",
       "4                               Белгородская область                                                                                                                                                                                                             \n",
       "\n",
       "                                          Unnamed: 1  \\\n",
       "0  Взято на учет больных с впервые в жизни уст. д...   \n",
       "1                                                NaN   \n",
       "2                                             490588   \n",
       "3                                             129871   \n",
       "4                                               6134   \n",
       "\n",
       "                      Unnamed: 2                         Unnamed: 3  \\\n",
       "0  в т.ч. вы- явлены активно,\\n%  Находились на учете на конец года   \n",
       "1                            NaN                 абсолют- ное число   \n",
       "2                           24.1                            3940529   \n",
       "3                           24.1                            1147377   \n",
       "4                           27.4                              44114   \n",
       "\n",
       "              Unnamed: 4            Unnamed: 5            Unnamed: 6  \\\n",
       "0                    NaN  из них 5 лет и более                   NaN   \n",
       "1  на 100 тыс. населения    абсолют- ное число  %  от сост. на учете   \n",
       "2                 2690.5               2262078                  57.4   \n",
       "3                 2916.4                666555                  58.1   \n",
       "4                 2854.9                 24836                  56.3   \n",
       "\n",
       "                           Unnamed: 7         Unnamed: 8  \n",
       "0  Индекс на- копления контин- гентов  Леталь- ность,\\n%  \n",
       "1                                 NaN                NaN  \n",
       "2                                   8                5.2  \n",
       "3                                 8.8                4.5  \n",
       "4                                 7.2                5.1  "
      ]
     },
     "metadata": {},
     "output_type": "display_data"
    }
   ],
   "source": [
    "for el in convert_two:\n",
    "    display(pd.read_excel(el).head())"
   ]
  },
  {
   "cell_type": "markdown",
   "id": "04ce3a0c",
   "metadata": {
    "id": "04ce3a0c"
   },
   "source": [
    "Увидим здесь дополнительный (по сравнению с другими файлами) разделитель строки `/n` после слова \"НОВООБРАЗОВАНИЯМИ,\".   \n",
    "Трансформируем код с учетом этого наблюдения\n"
   ]
  },
  {
   "cell_type": "markdown",
   "id": "622050f0",
   "metadata": {
    "id": "622050f0"
   },
   "source": [
    "Но проверим сначала - какой лист в файле активный в настоящий момент"
   ]
  },
  {
   "cell_type": "code",
   "execution_count": 233,
   "id": "db872cea",
   "metadata": {
    "id": "db872cea",
    "outputId": "115337c6-b9f4-42b4-c7e8-35f5e74559e1"
   },
   "outputs": [
    {
     "name": "stdout",
     "output_type": "stream",
     "text": [
      "наименования листов ['Table 1', 'Table 3']\n",
      "первый  лист Table 1\n",
      "активный лист <Worksheet \"Table 3\">\n"
     ]
    }
   ],
   "source": [
    "for el in convert_two:\n",
    "    wb2 = load_workbook(el)\n",
    "    print('наименования листов', wb2.sheetnames)\n",
    "    print('первый  лист', wb2.sheetnames[0])\n",
    "    print('активный лист',wb2.active)"
   ]
  },
  {
   "cell_type": "markdown",
   "id": "ed0989a0",
   "metadata": {
    "id": "ed0989a0"
   },
   "source": [
    "При загрузке данных нам понадобится указать, что загрузку произвести с первого листа.  \n",
    "\n",
    "\n",
    "\n",
    "Не будем торопиться и посмотрим, что находится в ячейке \"А1\" первого листа (листа 'Table 1')"
   ]
  },
  {
   "cell_type": "code",
   "execution_count": 234,
   "id": "ba32abf0",
   "metadata": {
    "id": "ba32abf0",
    "outputId": "765e3a5f-7a85-4447-fe72-fa3d61f9fdd1"
   },
   "outputs": [
    {
     "name": "stdout",
     "output_type": "stream",
     "text": [
      "['СВЕДЕНИЯ О КОНТИНГЕНТЕ БОЛЬНЫХ СО ЗЛОКАЧЕСТВЕННЫМИ НОВООБРАЗОВАНИЯМИ,\\nСОСТОЯЩЕМ НА УЧЕТЕ В ОНКОЛОГИЧЕСКИХ УЧРЕЖДЕНИЯХ В 2021 Г.\\nЗлокачественные новообразования - всего (С00-96)', '', '', '', '', '', '', '', '', '', '', '', '', '', '', '', '', '', '', '', '', '', '', ' Таблица 24', '', '', '', '', '', '', '', ' ']\n",
      "32\n",
      "['СВЕДЕНИЯ О КОНТИНГЕНТЕ БОЛЬНЫХ СО ЗЛОКАЧЕСТВЕННЫМИ НОВООБРАЗОВАНИЯМИ,\\nСОСТОЯЩЕМ НА УЧЕТЕ В ОНКОЛОГИЧЕСКИХ УЧРЕЖДЕНИЯХ В 2021 Г.\\nЗлокачественные новообразования - всего (С00-96)', ' Таблица 24']\n",
      "СВЕДЕНИЯ О КОНТИНГЕНТЕ БОЛЬНЫХ СО ЗЛОКАЧЕСТВЕННЫМИ НОВООБРАЗОВАНИЯМИ,\n",
      "СОСТОЯЩЕМ НА УЧЕТЕ В ОНКОЛОГИЧЕСКИХ УЧРЕЖДЕНИЯХ В 2021 Г.\n",
      "Злокачественные новообразования - всего (С00-96)\n",
      " Таблица 24\n"
     ]
    }
   ],
   "source": [
    "for el in convert_two:\n",
    "    vars = load_workbook(el)['Table 1']['A1'].value.split('  ')\n",
    "    print(vars)\n",
    "    print(len(vars))\n",
    "    for i in range(len(vars)):\n",
    "        try:\n",
    "            vars.remove('')\n",
    "            vars.remove(' ')\n",
    "        except:\n",
    "            t10=100\n",
    "    print(vars)\n",
    "    print(vars[0])\n",
    "    print(vars[-1])"
   ]
  },
  {
   "cell_type": "markdown",
   "id": "028560d3",
   "metadata": {
    "id": "028560d3"
   },
   "source": [
    "<div style=\"border-radius: 45px;border:solid red 7px; padding: 40px\">\n",
    "    \n",
    "    Опс!\n",
    "    \n",
    "    в файле '2021_Таблица_024_Состояние_онко_помощи_в_РФ.xlsx' после указания номера таблицы следует еще 8 пробелов!  \n",
    "    \n",
    "    ['СВЕДЕНИЯ О КОНТИНГЕНТЕ БОЛЬНЫХ СО ЗЛОКАЧЕСТВЕННЫМИ НОВООБРАЗОВАНИЯМИ,\\nСОСТОЯЩЕМ НА УЧЕТЕ В ОНКОЛОГИЧЕСКИХ УЧРЕЖДЕНИЯХ В 2021 Г.\\nЗлокачественные новообразования - всего (С00-96)', '', '', '', '', '', '', '', '', '', '', '', '', '', '', '', '', '', '', '', '', '', '', ' Таблица 24', '', '', '', '', '', '', '', ' ']\n",
    "    "
   ]
  },
  {
   "cell_type": "markdown",
   "id": "5f687da0",
   "metadata": {
    "id": "5f687da0"
   },
   "source": [
    "###### Импортируем файлы (данные) в `pandas`"
   ]
  },
  {
   "cell_type": "code",
   "execution_count": 235,
   "id": "6a86d22d",
   "metadata": {
    "id": "6a86d22d",
    "outputId": "0729b1aa-d35f-46b5-eb8a-e119b245831e",
    "scrolled": false
   },
   "outputs": [],
   "source": [
    "final_two = []\n",
    "for el in convert_two:\n",
    "    vars = load_workbook(el)['Table 1']['A1'].value.split('  ')\n",
    "    for i in range(len(vars)):\n",
    "        try:\n",
    "            vars.remove('')\n",
    "            vars.remove(' ')\n",
    "        except:\n",
    "            t10=100\n",
    "    ind = (vars[0].split('\\n')[0] + vars[0].split('\\n')[1]).lower().capitalize()\n",
    "    loc = vars[0].split('\\n')[2]\n",
    "    table = vars[-1].strip()\n",
    "    df = pd.read_excel(el, header=[2])\n",
    "    df.columns = ['Регион',\n",
    "                'Взято на учет больных с впервые в жизни уст. диагнозом ЗНО',\n",
    "                'в т.ч. вы- явлены активно,%',\n",
    "                'Находились на учете на конец года, абс.число',\n",
    "                'Находились на учете на конец года, на 100 тыс. населения',\n",
    "                'из них 5 лет и более, абс.число',\n",
    "                'из них 5 лет и более, %  от сост. на учете',\n",
    "                'Индекс накопления контингентов',\n",
    "                'Летальность,%'\n",
    "                ]\n",
    "    df['Индикатор'] = ind\n",
    "    df['Локализация'] = loc\n",
    "    df['Таблица'] = table\n",
    "    df['Тип данных'] = 'СОП'\n",
    "    final_two.append(df)"
   ]
  },
  {
   "cell_type": "markdown",
   "id": "31daa826",
   "metadata": {
    "id": "31daa826"
   },
   "source": [
    "##### Обработаем данные из остальных файлов - с номерами от 27 по 51\n"
   ]
  },
  {
   "cell_type": "code",
   "execution_count": 236,
   "id": "db768992",
   "metadata": {
    "id": "db768992"
   },
   "outputs": [],
   "source": [
    "files_list_two  = list(range(27, 52))"
   ]
  },
  {
   "cell_type": "code",
   "execution_count": 237,
   "id": "a8273409",
   "metadata": {
    "id": "a8273409",
    "outputId": "ab4e2847-6ada-4e1d-a749-ae0699e163f0",
    "scrolled": false
   },
   "outputs": [],
   "source": [
    "convert_two = two_in_one(files_list_two)"
   ]
  },
  {
   "cell_type": "markdown",
   "id": "452c0ce8",
   "metadata": {
    "id": "452c0ce8"
   },
   "source": [
    "Импортируем файлы (данные) в `pandas`  \n",
    "Не обновляем список `final_two`, поскольку в нем уже находятся данные из файла с номеровм 24"
   ]
  },
  {
   "cell_type": "code",
   "execution_count": 238,
   "id": "b8249310",
   "metadata": {
    "id": "b8249310",
    "outputId": "724dc6a6-7c5a-4bad-cfe2-2c2194ac015c",
    "scrolled": false
   },
   "outputs": [
    {
     "name": "stderr",
     "output_type": "stream",
     "text": [
      "100%|██████████| 25/25 [00:05<00:00,  4.71it/s]\n"
     ]
    }
   ],
   "source": [
    "\n",
    "for el in tqdm(convert_two):\n",
    "    vars = load_workbook(el).active['A1'].value.split('  ')\n",
    "    ind = (vars[0] + ' ' + vars[1].split('\\n')[0]).lower().capitalize()\n",
    "\n",
    "    # в зависимости от заполенения ячейки \"А1\" присвоим значения переменным loc и table\n",
    "    try:\n",
    "        loc = vars[1].split('\\n')[1]\n",
    "        #print('loc = ', loc)\n",
    "        if \"Таблица \" in vars[-1]:\n",
    "            #print('таблица есть')\n",
    "            table = vars[-1].strip()\n",
    "            #print('table = ', table)\n",
    "        else:\n",
    "            table = 'Таблица 32'\n",
    "            #print('table = ', table)\n",
    "    except:\n",
    "        loc = vars[-1].split('\\n')[1].strip()\n",
    "        table = vars[-1].split('\\n')[0].strip()\n",
    "\n",
    "    df = pd.read_excel(el, header=[2])\n",
    "    # Если присутствует десятый столбец - удалим его\n",
    "    if 'Unnamed: 9' in df.columns:\n",
    "        df = df.drop(columns=['Unnamed: 9'])\n",
    "    df.columns = ['Регион',\n",
    "                'Взято на учет больных с впервые в жизни уст. диагнозом ЗНО',\n",
    "                'в т.ч. вы- явлены активно,%',\n",
    "                'Находились на учете на конец года, абс.число',\n",
    "                'Находились на учете на конец года, на 100 тыс. населения',\n",
    "                'из них 5 лет и более, абс.число',\n",
    "                'из них 5 лет и более, %  от сост. на учете',\n",
    "                'Индекс накопления контингентов',\n",
    "                'Летальность,%'#,\n",
    "                  #'ПУСТОЙ'\n",
    "                ]\n",
    "    df['Индикатор'] = ind\n",
    "    df['Локализация'] = loc\n",
    "    df['Таблица'] = table\n",
    "    df['Тип данных'] = 'СОП'\n",
    "    final_two.append(df)"
   ]
  },
  {
   "cell_type": "markdown",
   "id": "56dad810",
   "metadata": {
    "id": "56dad810"
   },
   "source": [
    "Объединим только что полученные данные с данными из файла 24"
   ]
  },
  {
   "cell_type": "code",
   "execution_count": 239,
   "id": "169858f4",
   "metadata": {
    "id": "169858f4"
   },
   "outputs": [],
   "source": [
    "final_two_df = pd.concat(final_two).reset_index(drop=True)"
   ]
  },
  {
   "cell_type": "markdown",
   "id": "94d531b2",
   "metadata": {
    "id": "94d531b2"
   },
   "source": [
    "Ознакомимся с информацией в полученном датафрейме:\n",
    "\n",
    "- всего в датафрейме 2444 записей\n",
    "- пропущенные значения отсутствуют\n",
    "- явные дубоикаты отсутствуют\n"
   ]
  },
  {
   "cell_type": "code",
   "execution_count": 240,
   "id": "f0394737",
   "metadata": {
    "id": "f0394737",
    "outputId": "8b45a789-84d4-4c26-97a5-777c080cab3f"
   },
   "outputs": [
    {
     "data": {
      "text/plain": [
       "Регион                                                        0\n",
       "Взято на учет больных с впервые в жизни уст. диагнозом ЗНО    0\n",
       "в т.ч. вы- явлены активно,%                                   0\n",
       "Находились на учете на конец года, абс.число                  0\n",
       "Находились на учете на конец года, на 100 тыс. населения      0\n",
       "из них 5 лет и более, абс.число                               0\n",
       "из них 5 лет и более, %  от сост. на учете                    0\n",
       "Индекс накопления контингентов                                0\n",
       "Летальность,%                                                 0\n",
       "Индикатор                                                     0\n",
       "Локализация                                                   0\n",
       "Таблица                                                       0\n",
       "Тип данных                                                    0\n",
       "dtype: int64"
      ]
     },
     "execution_count": 240,
     "metadata": {},
     "output_type": "execute_result"
    }
   ],
   "source": [
    "final_two_df.isna().sum()"
   ]
  },
  {
   "cell_type": "code",
   "execution_count": 241,
   "id": "d50b971a",
   "metadata": {
    "id": "d50b971a",
    "outputId": "5fecd69f-fb5d-4e4d-9168-9b86da7eee56"
   },
   "outputs": [
    {
     "name": "stdout",
     "output_type": "stream",
     "text": [
      "<class 'pandas.core.frame.DataFrame'>\n",
      "RangeIndex: 2444 entries, 0 to 2443\n",
      "Data columns (total 13 columns):\n",
      " #   Column                                                      Non-Null Count  Dtype  \n",
      "---  ------                                                      --------------  -----  \n",
      " 0   Регион                                                      2444 non-null   object \n",
      " 1   Взято на учет больных с впервые в жизни уст. диагнозом ЗНО  2444 non-null   int64  \n",
      " 2   в т.ч. вы- явлены активно,%                                 2444 non-null   float64\n",
      " 3   Находились на учете на конец года, абс.число                2444 non-null   int64  \n",
      " 4   Находились на учете на конец года, на 100 тыс. населения    2444 non-null   float64\n",
      " 5   из них 5 лет и более, абс.число                             2444 non-null   int64  \n",
      " 6   из них 5 лет и более, %  от сост. на учете                  2444 non-null   float64\n",
      " 7   Индекс накопления контингентов                              2444 non-null   float64\n",
      " 8   Летальность,%                                               2444 non-null   float64\n",
      " 9   Индикатор                                                   2444 non-null   object \n",
      " 10  Локализация                                                 2444 non-null   object \n",
      " 11  Таблица                                                     2444 non-null   object \n",
      " 12  Тип данных                                                  2444 non-null   object \n",
      "dtypes: float64(5), int64(3), object(5)\n",
      "memory usage: 248.3+ KB\n"
     ]
    }
   ],
   "source": [
    "final_two_df.info()"
   ]
  },
  {
   "cell_type": "code",
   "execution_count": 242,
   "id": "18cdce88",
   "metadata": {
    "id": "18cdce88",
    "outputId": "9f77f67c-0ae1-4349-9b58-df01ef407776"
   },
   "outputs": [
    {
     "data": {
      "text/plain": [
       "0"
      ]
     },
     "execution_count": 242,
     "metadata": {},
     "output_type": "execute_result"
    }
   ],
   "source": [
    "final_two_df.duplicated().sum()"
   ]
  },
  {
   "cell_type": "markdown",
   "id": "9d1ea897",
   "metadata": {
    "id": "9d1ea897"
   },
   "source": [
    "##### \"Почистим\" полученный датафрейм\n",
    "- Для дальнейшего анализа создадим датафрейм data_federal_district_two: сохраним в нем строки (записи) , в которых в cтолбце Регион присутствуют значения, означающие наименования федеральных округов (присутствуют в переменной bad_regions)\n",
    "- Удалим строки (записи) , в которых в столбце `Регион` присутствуют значения, означающие наименования федеральных округов (присутствуют в переменной `bad_regions`)\n",
    "- Произведем категоризацию данных по наименованию региона и соответствующие наименования федеральных округов запишем в столбец ФО.\n",
    "- Изменим имеющийся порядок столбцов и поместим наименование округа после наименования региона\n",
    "\n",
    "запишем действия в функцию `clear_df`."
   ]
  },
  {
   "cell_type": "code",
   "execution_count": 243,
   "id": "2400ed27",
   "metadata": {
    "id": "2400ed27"
   },
   "outputs": [],
   "source": [
    "def clear_data(data_name):\n",
    "\n",
    "    # создадим датафрейм data_federal_district_two: сохраним в нем строки (записи),\n",
    "    # в которых в cтолбце Регион присутствуют значения, означающие наименования федеральных округов\n",
    "    data_federal_district = data_name[data_name.Регион.isin(bad_regions)]\n",
    "\n",
    "    # Удалим строки (записи) , в которых в столбце `Регион` присутствуют значения, означающие наименования федеральных округов\n",
    "    data_name = data_name[~data_name.Регион.isin(bad_regions)]\n",
    "\n",
    "    # Произведем категоризацию данных по наименованию региона и соответствующие наименования\n",
    "    # федеральных округов запишем в столбец ФО.\n",
    "    data_name['ФО'] = data_name['Регион'].apply(categorize_purpose)\n",
    "\n",
    "    # Изменим имеющийся порядок столбцов и поместим наименование округа после наименования региона\n",
    "    cols = data_name.columns.tolist()\n",
    "    cols = cols[:1] + cols[-1:]+ cols[1:-1]\n",
    "    final_df = data_name[cols]#.reset_index(drop = True)\n",
    "    final_df\n",
    "\n",
    "    return(data_federal_district, final_df)"
   ]
  },
  {
   "cell_type": "code",
   "execution_count": 244,
   "id": "fdc80c67",
   "metadata": {
    "id": "fdc80c67",
    "outputId": "acce213b-a6a7-4fae-b6e5-24e33969e346"
   },
   "outputs": [
    {
     "name": "stderr",
     "output_type": "stream",
     "text": [
      "/tmp/ipykernel_48/28608235.py:12: SettingWithCopyWarning: \n",
      "A value is trying to be set on a copy of a slice from a DataFrame.\n",
      "Try using .loc[row_indexer,col_indexer] = value instead\n",
      "\n",
      "See the caveats in the documentation: https://pandas.pydata.org/pandas-docs/stable/user_guide/indexing.html#returning-a-view-versus-a-copy\n",
      "  data_name['ФО'] = data_name['Регион'].apply(categorize_purpose)\n"
     ]
    }
   ],
   "source": [
    "data_federal_district_two = clear_data(final_two_df)[0]\n",
    "final_two_df = clear_data(final_two_df)[1]"
   ]
  },
  {
   "cell_type": "code",
   "execution_count": 245,
   "id": "86742a20",
   "metadata": {
    "id": "86742a20",
    "outputId": "8b5da9a7-2d36-4c23-9b83-a581a4e9f5ed"
   },
   "outputs": [],
   "source": [
    "#final_two_df = final_two_df"
   ]
  },
  {
   "cell_type": "markdown",
   "id": "674f139b",
   "metadata": {
    "id": "674f139b"
   },
   "source": [
    "#### Выгрузка сводного файла в рабочую папку"
   ]
  },
  {
   "cell_type": "code",
   "execution_count": 246,
   "id": "bab7871f",
   "metadata": {
    "id": "bab7871f",
    "outputId": "8a73b03a-3859-4be0-9c5f-3a98d32bb370",
    "scrolled": true
   },
   "outputs": [
    {
     "name": "stdout",
     "output_type": "stream",
     "text": [
      "\u001b[34mТекущая папка: \u001b[1m /home/jovyan/work\n",
      "\u001b[34mВыгружен файл\u001b[1m final_two_SOP.csv\n",
      "\u001b[34mВыгружен файл\u001b[1m final_two_SOP.xlsx\n"
     ]
    }
   ],
   "source": [
    "\n",
    "df_download(final_two_df, \"final_two_SOP.xlsx\", \"final_two_SOP.csv\")"
   ]
  },
  {
   "cell_type": "markdown",
   "id": "8a1f7dae",
   "metadata": {
    "id": "8a1f7dae"
   },
   "source": [
    "### Обработка второй группы файлов - вторые листы.\n",
    "Обработаем файлы, содержащие Сведения о контингенте больных со злокачественными новообразованиями, состоящем на учете в онкологических учреждениях в 2021 г - - вторые листы."
   ]
  },
  {
   "cell_type": "markdown",
   "id": "e5cbb75c",
   "metadata": {
    "id": "e5cbb75c"
   },
   "source": [
    "#### Подготовительные действия"
   ]
  },
  {
   "cell_type": "markdown",
   "id": "5ce3d647",
   "metadata": {
    "id": "5ce3d647"
   },
   "source": [
    "Вспомним, что на этом этапе обрабатываемые файлы: с названиями, удовлетворяющих условиям:\n",
    "  - Название файла: `2021_Таблица_ХХХ_Состояние_онко_помощи_в_РФ.xlsx`  \n",
    "  - Содержание файла: \"Сведения о контингенте больных со злокачественными новообразованиями, состоящем на учете в онкологических учреждениях в 2021 г.\"  \n",
    "  - где `XXX` - в диапазоне: 024, 027-051\n",
    "  - ВТОРЫЕ листы\n",
    "\n",
    "- `reload_files_list`,  которая преобразует список `files_list_two`, указав в нем трех-значные значения\n",
    "- `list_file_names`, которая создаст список `convert_two` с названиями файлов, удовлетворяющих условиям:\n"
   ]
  },
  {
   "cell_type": "markdown",
   "id": "84abc3de",
   "metadata": {
    "id": "84abc3de"
   },
   "source": [
    "Используем функцию `two_in_one` для списка `files_list_two  = [24] + list(range(27, 52))`"
   ]
  },
  {
   "cell_type": "code",
   "execution_count": 247,
   "id": "ee46c30c",
   "metadata": {
    "id": "ee46c30c"
   },
   "outputs": [],
   "source": [
    "files_list_two  = [24] + list(range(27, 52))"
   ]
  },
  {
   "cell_type": "markdown",
   "id": "80e0e8db",
   "metadata": {
    "id": "80e0e8db"
   },
   "source": [
    "Создадим список `convert_two`"
   ]
  },
  {
   "cell_type": "code",
   "execution_count": 248,
   "id": "e304a527",
   "metadata": {
    "id": "e304a527",
    "outputId": "42e3f628-e743-4473-92e5-0709b1108557",
    "scrolled": false
   },
   "outputs": [],
   "source": [
    "convert_two = two_in_one(files_list_two)"
   ]
  },
  {
   "cell_type": "markdown",
   "id": "6de10971",
   "metadata": {
    "id": "6de10971"
   },
   "source": [
    "##### Проверим в каждом файле:\n",
    "- какие листы присутствуют в файле\n",
    "- какой лист является первым\n",
    "- какой лист является активным"
   ]
  },
  {
   "cell_type": "code",
   "execution_count": 249,
   "id": "89848c77",
   "metadata": {
    "id": "89848c77",
    "outputId": "c5380bb6-b39f-478c-d5cc-eb5bc32479f2",
    "scrolled": true
   },
   "outputs": [
    {
     "data": {
      "text/plain": [
       "\"\\nfor el in tqdm(convert_two):\\n    wb2 = load_workbook(el)\\n    print('наименования файла', el.split('_')[2])\\n    print('наименования листов', wb2.sheetnames)\\n    print('первый  лист', wb2.sheetnames[0])\\n    print('активный лист',wb2.active)\\n    print('******************')\\n    #t = wb2.active.tolist()\\n    if wb2.sheetnames[0] in wb2.active:\\n    #if 'Table' in wb2.active:\\n        print('хорошо')\\n        \""
      ]
     },
     "execution_count": 249,
     "metadata": {},
     "output_type": "execute_result"
    }
   ],
   "source": [
    "'''\n",
    "for el in tqdm(convert_two):\n",
    "    wb2 = load_workbook(el)\n",
    "    print('наименования файла', el.split('_')[2])\n",
    "    print('наименования листов', wb2.sheetnames)\n",
    "    print('первый  лист', wb2.sheetnames[0])\n",
    "    print('активный лист',wb2.active)\n",
    "    print('******************')\n",
    "    #t = wb2.active.tolist()\n",
    "    if wb2.sheetnames[0] in wb2.active:\n",
    "    #if 'Table' in wb2.active:\n",
    "        print('хорошо')\n",
    "        '''"
   ]
  },
  {
   "cell_type": "markdown",
   "id": "e7a79ec7",
   "metadata": {
    "id": "e7a79ec7"
   },
   "source": [
    "Вспомним, что в файле в номером 51 второй лист называется `'Table 5'`.  \n",
    "В остальных файлах второй лист называется `'Table 3'`.  \n",
    "Переименуем второй лист и назовем его `'Table 3'`.  \n",
    "Сохраним файл под прежним именем.  \n",
    "Выведем на экран наименования вторых листов."
   ]
  },
  {
   "cell_type": "code",
   "execution_count": 250,
   "id": "925a254b",
   "metadata": {
    "id": "925a254b",
    "outputId": "98c26306-0e31-4f50-c0e8-e13e7e568cad",
    "scrolled": true
   },
   "outputs": [
    {
     "name": "stderr",
     "output_type": "stream",
     "text": [
      " 96%|█████████▌| 25/26 [00:03<00:00, 10.07it/s]/tmp/ipykernel_48/435653300.py:8: DeprecationWarning: Call to deprecated function get_sheet_by_name (Use wb[sheetname]).\n",
      "  ss_sheet = ss.get_sheet_by_name('Table 5')\n",
      "100%|██████████| 26/26 [00:03<00:00,  7.07it/s]\n"
     ]
    }
   ],
   "source": [
    "for el in tqdm(convert_two):\n",
    "    ss = load_workbook(el)\n",
    "    #print('номер файла', el.split('_')[2])\n",
    "    #print('Второй  лист', ss.sheetnames[1])\n",
    "    #print('******************')\n",
    "    if ss.sheetnames[1] ==  'Table 5':\n",
    "        #print('выявлен \"Table 5\"')\n",
    "        ss_sheet = ss.get_sheet_by_name('Table 5')\n",
    "        ss_sheet.title = 'Table 3'\n",
    "        ss.save(el)\n",
    "        ss = load_workbook(el)\n",
    "        #print('Лист Переименован')\n",
    "        #print('второй  лист', wb2.sheetnames[1])\n",
    "        #print('******************')\n"
   ]
  },
  {
   "cell_type": "markdown",
   "id": "633f56ff",
   "metadata": {
    "id": "633f56ff"
   },
   "source": [
    "##### Выведем на экран первые строки файлов, содержащихся в списке `convert_two`"
   ]
  },
  {
   "cell_type": "code",
   "execution_count": 251,
   "id": "3d6ea1b1",
   "metadata": {
    "id": "3d6ea1b1",
    "outputId": "b20e1eb7-4d49-4acb-c538-22a10c27c489",
    "scrolled": true
   },
   "outputs": [
    {
     "data": {
      "text/plain": [
       "\"for el in tqdm(convert_two):\\n    display(pd.read_excel(el, 'Table 3').head())\\n  \""
      ]
     },
     "execution_count": 251,
     "metadata": {},
     "output_type": "execute_result"
    }
   ],
   "source": [
    "'''for el in tqdm(convert_two):\n",
    "    display(pd.read_excel(el, 'Table 3').head())\n",
    "  '''"
   ]
  },
  {
   "cell_type": "markdown",
   "id": "0f6a7674",
   "metadata": {
    "id": "0f6a7674"
   },
   "source": [
    "Мы видим:\n",
    "\n",
    "- Таблицы `2021_Таблица_024_Состояние_онко_помощи_в_РФ` и `2021_Таблица_051_Состояние_онко_помощи_в_РФ` содержат по 9 столбцов\n",
    "- Остальные в диапазоне `files_list_two  = [24] + list(range(27, 52))` содержат по 10 столбцов. При этом последний – десятый - пустой\n",
    "- Данные файла, находящегося между файлами с номерами 031 и 033 не имеет указания в себе номера таблицы. Соотнеся со списком `convert_two` установим, что это файл `2021_Таблица_032_Состояние_онко_помощи_в_РФ.xlsx`\n",
    "-"
   ]
  },
  {
   "cell_type": "markdown",
   "id": "9ae98e7d",
   "metadata": {
    "id": "9ae98e7d"
   },
   "source": [
    "Выведем на экран значение некоторых элементов в строке ячейки 'A1'"
   ]
  },
  {
   "cell_type": "code",
   "execution_count": 252,
   "id": "7fca5a9c",
   "metadata": {
    "id": "7fca5a9c",
    "outputId": "49799291-cc76-4efa-d224-e00f44f2c2d3",
    "scrolled": true
   },
   "outputs": [
    {
     "data": {
      "text/plain": [
       "'for el in tqdm(convert_two):\\n    vars = load_workbook(el)[\\'Table 3\\'][\\'A1\\'].value.split(\\'  \\')\\n    ss = load_workbook(el)#[\\'Table 3\\']\\n    print(\\'номер файла = \\',el.split(\\'_\\')[2])\\n    print(\\'Второй  лист\\', ss.sheetnames[1])\\n    print(\\'vars[0] = \\',vars[0])\\n    try:\\n        print(\\'vars[1] = \\',vars[1])\\n    except:\\n        print(\"\\x1b[34m\"\\'vars[1] отсутствует, в списке только один элемент\\'\"\\x1b[00m\")\\n    try:\\n        print(\\'vars[-2] = \\',vars[-2])\\n    except:\\n        print(\"\\x1b[34m\"\\'vars[-2] отсутствует, в списке только один элемент\\'\"\\x1b[00m\")\\n\\n    print(\\'vars[-1] = \\',vars[-1])\\n    print(\\'--------------------------------------------\\')\\n    '"
      ]
     },
     "execution_count": 252,
     "metadata": {},
     "output_type": "execute_result"
    }
   ],
   "source": [
    "'''for el in tqdm(convert_two):\n",
    "    vars = load_workbook(el)['Table 3']['A1'].value.split('  ')\n",
    "    ss = load_workbook(el)#['Table 3']\n",
    "    print('номер файла = ',el.split('_')[2])\n",
    "    print('Второй  лист', ss.sheetnames[1])\n",
    "    print('vars[0] = ',vars[0])\n",
    "    try:\n",
    "        print('vars[1] = ',vars[1])\n",
    "    except:\n",
    "        print(\"\\033[34m\"'vars[1] отсутствует, в списке только один элемент'\"\\033[00m\")\n",
    "    try:\n",
    "        print('vars[-2] = ',vars[-2])\n",
    "    except:\n",
    "        print(\"\\033[34m\"'vars[-2] отсутствует, в списке только один элемент'\"\\033[00m\")\n",
    "\n",
    "    print('vars[-1] = ',vars[-1])\n",
    "    print('--------------------------------------------')\n",
    "    '''"
   ]
  },
  {
   "cell_type": "markdown",
   "id": "29dc4eea",
   "metadata": {
    "id": "2f8a2f6b"
   },
   "source": [
    "<div style=\"border-radius: 45px;border:solid green 7px; padding: 40px\">\n",
    "    \n",
    "#### Вывод по Подготовке данных    \n",
    "- в файлах с номерами 29 и 51 заголовок второго листа НЕ совпадает с типовым заголовком остальных листов. При этом второй лист содержит данные, аналогичные данным остальных файлов – переименовать и сохранить заново\n",
    "- в файлах с номерами 27 и 28 в ячейке «А1» присутствует только один элемент – в нем вся информация. В других файлах информация записана в разных элементах\n",
    "- в части файлов номер таблицы находится в последнем элементе, в другой части – в предпоследнем\n",
    "- в части элементов локализация заболевания находится в конце первого элемента, в другой части – в последнем элементе и совмещена со словом «Продолжение\n",
    "- во всех файлах, кроме 051-го - присутствует 10-й - пустой - столбец\n",
    "\n",
    "\n"
   ]
  },
  {
   "cell_type": "markdown",
   "id": "f5de305c",
   "metadata": {
    "id": "f5de305c"
   },
   "source": [
    "#### Создание сводного датафрейма"
   ]
  },
  {
   "cell_type": "markdown",
   "id": "73dd89df",
   "metadata": {
    "id": "73dd89df"
   },
   "source": [
    "##### Обработаем файлы с номерами 29 и 51\n",
    "В файлах с номерами 29 и 51 заголовок второго листа НЕ совпадает с типовым заголовком остальных листов. При этом второй лист содержит данные, аналогичные данным остальных файлов – переименуем и сохраним заново"
   ]
  },
  {
   "cell_type": "code",
   "execution_count": 253,
   "id": "cb83efe4",
   "metadata": {
    "id": "cb83efe4"
   },
   "outputs": [],
   "source": [
    "files_list_two_second_list  = [29] + [51]"
   ]
  },
  {
   "cell_type": "code",
   "execution_count": 254,
   "id": "780d99f9",
   "metadata": {
    "id": "780d99f9",
    "outputId": "dde4c2eb-c7cb-427b-c8e6-71ba927fe518",
    "scrolled": false
   },
   "outputs": [],
   "source": [
    "convert_to_change = two_in_one(files_list_two_second_list)"
   ]
  },
  {
   "cell_type": "code",
   "execution_count": 255,
   "id": "e2ce8825",
   "metadata": {
    "id": "e2ce8825",
    "outputId": "6c39cd8c-4b63-4d55-d2c6-0485561baf0e"
   },
   "outputs": [
    {
     "name": "stderr",
     "output_type": "stream",
     "text": [
      "  0%|          | 0/2 [00:00<?, ?it/s]\n",
      "  0%|          | 0/2 [00:00<?, ?it/s]\u001b[A\n",
      " 50%|█████     | 1/2 [00:00<00:00,  9.36it/s]"
     ]
    },
    {
     "name": "stdout",
     "output_type": "stream",
     "text": [
      "['КОНТИНГЕНТЕ БОЛЬНЫХ СО ЗЛОКАЧЕСТВЕННЫМИ НОВООБРАЗОВАНИЯМИ, СОСТОЯЩЕМ НА УЧЕТЕ В ОНКОЛОГИЧЕСКИХ УЧРЕЖДЕНИЯХ В 2021 Г.\\nГлотка (С10-13)', ' Таблица 29']\n",
      "Показатели диагностики злокачественных новообразований, выявленных в 2021 г.\n"
     ]
    },
    {
     "name": "stderr",
     "output_type": "stream",
     "text": [
      "\n",
      " 50%|█████     | 1/2 [00:00<00:00, 13486.51it/s]\n",
      "100%|██████████| 2/2 [00:00<00:00, 11.08it/s]"
     ]
    },
    {
     "name": "stdout",
     "output_type": "stream",
     "text": [
      "['КОНТИНГЕНТЕ БОЛЬНЫХ СО ЗЛОКАЧЕСТВЕННЫМИ НОВООБРАЗОВАНИЯМИ, СОСТОЯЩЕМ НА УЧЕТЕ В ОНКОЛОГИЧЕСКИХ УЧРЕЖДЕНИЯХ В 2021 Г.\\nЛейкемии (С91-95)', 'Таблица 51']\n",
      "Показатели диагностики злокачественных новообразований, выявленных в 2021 г.\n"
     ]
    },
    {
     "name": "stderr",
     "output_type": "stream",
     "text": [
      "\n"
     ]
    }
   ],
   "source": [
    "for el in tqdm(convert_to_change):\n",
    "    vars = load_workbook(el)['Table 3']['A1'].value.split('  ')\n",
    "    for i in range(len(vars)):\n",
    "        try:\n",
    "            vars.remove('')\n",
    "            vars.remove(' ')\n",
    "        except:\n",
    "            t10=100\n",
    "\n",
    "    if el in tqdm(convert_to_change):\n",
    "        ind = ('ПОКАЗАТЕЛИ ДИАГНОСТИКИ ЗЛОКАЧЕСТВЕННЫХ НОВООБРАЗОВАНИЙ, ВЫЯВЛЕННЫХ В 2021 Г.').lower().capitalize()\n",
    "        vars.remove('СВЕДЕНИЯ О')\n",
    "    else:\n",
    "        ind = (vars[0] + ' ' + vars[1].split('\\n')[0]).lower().capitalize()\n",
    "\n",
    "    print(vars)\n",
    "    print(ind)\n",
    "\n"
   ]
  },
  {
   "cell_type": "markdown",
   "id": "d44aabc3",
   "metadata": {
    "id": "d44aabc3"
   },
   "source": [
    "##### Обработаем данные (из  файлов - с номерами 24 и от 27 по 51)\n"
   ]
  },
  {
   "cell_type": "code",
   "execution_count": 256,
   "id": "e354c293",
   "metadata": {
    "id": "e354c293"
   },
   "outputs": [],
   "source": [
    "files_list_two_2nd_sheet  = [24] + list(range(27, 52))"
   ]
  },
  {
   "cell_type": "code",
   "execution_count": 257,
   "id": "e5ddbe40",
   "metadata": {
    "id": "e5ddbe40",
    "outputId": "be3de109-4395-4524-dbfc-2b407bcec129",
    "scrolled": false
   },
   "outputs": [],
   "source": [
    "convert_two_2nd_sheet = two_in_one(files_list_two_2nd_sheet)"
   ]
  },
  {
   "cell_type": "markdown",
   "id": "6d57a485",
   "metadata": {
    "id": "6d57a485"
   },
   "source": [
    "Импортируем файлы (данные) в `pandas`  \n",
    "Не обновляем список `final_two`, поскольку в нем уже находятся данные из файла с номеровм 24"
   ]
  },
  {
   "cell_type": "code",
   "execution_count": 258,
   "id": "0165d361",
   "metadata": {
    "id": "0165d361"
   },
   "outputs": [],
   "source": [
    "final_two = []"
   ]
  },
  {
   "cell_type": "code",
   "execution_count": 259,
   "id": "ae8555c2",
   "metadata": {
    "id": "ae8555c2",
    "outputId": "341d279d-3265-46fd-a38e-9f94fc5bda96",
    "scrolled": true
   },
   "outputs": [],
   "source": [
    "\n",
    "for el in convert_two:\n",
    "    vars = load_workbook(el)['Table 3']['A1'].value.split('  ')\n",
    "    # Удалим повторяющиеся пробелы\n",
    "    for i in range(len(vars)):\n",
    "        try:\n",
    "            vars.remove('')\n",
    "            vars.remove(' ')\n",
    "        except:\n",
    "            t10=100\n",
    "\n",
    "    # в файлах с номерами 29 и 51 - заменим наименование таблицы\n",
    "    if el in convert_to_change:\n",
    "        ind = ('ПОКАЗАТЕЛИ ДИАГНОСТИКИ ЗЛОКАЧЕСТВЕННЫХ НОВООБРАЗОВАНИЙ, ВЫЯВЛЕННЫХ В 2021 Г.').lower().capitalize()\n",
    "        vars.remove('СВЕДЕНИЯ О')\n",
    "    else:\n",
    "        ind = (vars[0].split('\\n')[0]).lower().capitalize()\n",
    "\n",
    "    # в зависимости от заполенения ячейки \"А1\" присвоим значения переменной loc\n",
    "\n",
    "    try:\n",
    "        loc = vars[-1].split('\\n')[1].strip()\n",
    "        #print(el)\n",
    "        #print('loc первая попытка = ', loc)\n",
    "\n",
    "    except:\n",
    "        loc = vars[0].split('\\n')[1]\n",
    "        #print(el)\n",
    "        #print('loc вторая попытка = ', loc)\n",
    "\n",
    "    # в зависимости от заполенения ячейки \"А1\" присвоим значения переменной table\n",
    "    try:\n",
    "        table = vars[0].split('\\n')[3].strip()\n",
    "        #print(el)\n",
    "        #print('table первая попытка = ', table)\n",
    "\n",
    "    except:\n",
    "        try:\n",
    "            table = vars[0].split('\\n')[2].strip()\n",
    "            #print(el)\n",
    "            #print('table вторая попытка = ', table)\n",
    "        except:\n",
    "            try:\n",
    "                table = vars[-1].split('\\n')[0].strip()\n",
    "                if table == \"Продолжение\":\n",
    "                    table = vars[-2]\n",
    "                    #print(el)\n",
    "                    #print('table четвертая попытка = ', table)\n",
    "\n",
    "                else:\n",
    "                    #print(el)\n",
    "                    #print('table третья попытка = ', table)\n",
    "                    pass\n",
    "            except:\n",
    "                try:\n",
    "                    table = vars[-2]\n",
    "                    #print(el)\n",
    "                    #print('table четвертая попытка = ', table)\n",
    "                except:\n",
    "                    table = vars[-1]\n",
    "                    #print(el)\n",
    "                    #print('table пятая попытка = ', table)\n",
    "\n",
    "\n",
    "    df = pd.read_excel(el, header=[2])\n",
    "    # Если присутствует десятый столбец - удалим его\n",
    "    if 'Unnamed: 9' in df.columns:\n",
    "        df = df.drop(columns=['Unnamed: 9'])\n",
    "    df.columns = ['Регион',\n",
    "                'Зарегистриро- вано ЗНО (без учтенных посмертно)',\n",
    "                'из них: диагноз подтвержден морфологически, %',\n",
    "                'имели стадию заболевания - I %',\n",
    "                'имели стадию заболевания - II %',\n",
    "                'имели стадию заболевания - III %',\n",
    "                'имели стадию заболевания - IV %',\n",
    "                'имели стадию заболевания - не установлена %',\n",
    "                'Летальность на первом году с момента уст. диагноза, %'\n",
    "                  ]\n",
    "    df['Индикатор'] = ind\n",
    "    df['Локализация'] = loc\n",
    "    df['Таблица'] = table\n",
    "    df['Тип данных'] = 'СОП'\n",
    "    final_two.append(df)"
   ]
  },
  {
   "cell_type": "markdown",
   "id": "4bc77216",
   "metadata": {
    "id": "4bc77216"
   },
   "source": [
    "Сформируем датафрейм"
   ]
  },
  {
   "cell_type": "code",
   "execution_count": 260,
   "id": "eaffe9bd",
   "metadata": {
    "id": "eaffe9bd"
   },
   "outputs": [],
   "source": [
    "final_two_df_2nd_sheet = pd.concat(final_two).reset_index(drop=True)"
   ]
  },
  {
   "cell_type": "markdown",
   "id": "c02a68bc",
   "metadata": {
    "id": "c02a68bc"
   },
   "source": [
    "Ознакомимся с информацией в полученном датафрейме:\n",
    "\n",
    "- всего в датафрейме 2444 записей\n",
    "- пропущенные значения отсутствуют\n",
    "- явные дубликаты отсутствуют\n"
   ]
  },
  {
   "cell_type": "code",
   "execution_count": 261,
   "id": "03991821",
   "metadata": {
    "id": "03991821",
    "outputId": "0a69b6e8-6fab-4e86-b18b-2c93017596b1"
   },
   "outputs": [
    {
     "data": {
      "text/plain": [
       "Регион                                                   0\n",
       "Зарегистриро- вано ЗНО (без учтенных посмертно)          0\n",
       "из них: диагноз подтвержден морфологически, %            0\n",
       "имели стадию заболевания - I %                           0\n",
       "имели стадию заболевания - II %                          0\n",
       "имели стадию заболевания - III %                         0\n",
       "имели стадию заболевания - IV %                          0\n",
       "имели стадию заболевания - не установлена %              0\n",
       "Летальность на первом году с момента уст. диагноза, %    0\n",
       "Индикатор                                                0\n",
       "Локализация                                              0\n",
       "Таблица                                                  0\n",
       "Тип данных                                               0\n",
       "dtype: int64"
      ]
     },
     "execution_count": 261,
     "metadata": {},
     "output_type": "execute_result"
    }
   ],
   "source": [
    "final_two_df_2nd_sheet.isna().sum()"
   ]
  },
  {
   "cell_type": "code",
   "execution_count": 262,
   "id": "09718485",
   "metadata": {
    "id": "09718485",
    "outputId": "a736cbfa-247b-4aee-819c-5b4805c486c2"
   },
   "outputs": [
    {
     "name": "stdout",
     "output_type": "stream",
     "text": [
      "<class 'pandas.core.frame.DataFrame'>\n",
      "RangeIndex: 2444 entries, 0 to 2443\n",
      "Data columns (total 13 columns):\n",
      " #   Column                                                 Non-Null Count  Dtype  \n",
      "---  ------                                                 --------------  -----  \n",
      " 0   Регион                                                 2444 non-null   object \n",
      " 1   Зарегистриро- вано ЗНО (без учтенных посмертно)        2444 non-null   int64  \n",
      " 2   из них: диагноз подтвержден морфологически, %          2444 non-null   float64\n",
      " 3   имели стадию заболевания - I %                         2444 non-null   int64  \n",
      " 4   имели стадию заболевания - II %                        2444 non-null   float64\n",
      " 5   имели стадию заболевания - III %                       2444 non-null   int64  \n",
      " 6   имели стадию заболевания - IV %                        2444 non-null   float64\n",
      " 7   имели стадию заболевания - не установлена %            2444 non-null   float64\n",
      " 8   Летальность на первом году с момента уст. диагноза, %  2444 non-null   float64\n",
      " 9   Индикатор                                              2444 non-null   object \n",
      " 10  Локализация                                            2444 non-null   object \n",
      " 11  Таблица                                                2444 non-null   object \n",
      " 12  Тип данных                                             2444 non-null   object \n",
      "dtypes: float64(5), int64(3), object(5)\n",
      "memory usage: 248.3+ KB\n"
     ]
    }
   ],
   "source": [
    "final_two_df_2nd_sheet.info()"
   ]
  },
  {
   "cell_type": "code",
   "execution_count": 263,
   "id": "8f7793d5",
   "metadata": {
    "id": "8f7793d5",
    "outputId": "fc6a28e5-f41f-4c91-f2a3-eb4b6d52578f"
   },
   "outputs": [
    {
     "data": {
      "text/plain": [
       "0"
      ]
     },
     "execution_count": 263,
     "metadata": {},
     "output_type": "execute_result"
    }
   ],
   "source": [
    "final_two_df_2nd_sheet.duplicated().sum()"
   ]
  },
  {
   "cell_type": "markdown",
   "id": "e1a94db4",
   "metadata": {
    "id": "e1a94db4"
   },
   "source": [
    "##### \"Почистим\" полученный датафрейм\n",
    "- Для дальнейшего анализа создадим датафрейм data_federal_district_two: сохраним в нем строки (записи) , в которых в cтолбце Регион присутствуют значения, означающие наименования федеральных округов (присутствуют в переменной bad_regions)\n",
    "- Удалим строки (записи) , в которых в столбце `Регион` присутствуют значения, означающие наименования федеральных округов (присутствуют в переменной `bad_regions`)\n",
    "- Произведем категоризацию данных по наименованию региона и соответствующие наименования федеральных округов запишем в столбец ФО.\n",
    "- Изменим имеющийся порядок столбцов и поместим наименование округа после наименования региона\n",
    "\n",
    "запишем действия в функцию `clear_df`."
   ]
  },
  {
   "cell_type": "code",
   "execution_count": 264,
   "id": "c66f3d5e",
   "metadata": {
    "id": "c66f3d5e"
   },
   "outputs": [],
   "source": [
    "def clear_data(data_name):\n",
    "\n",
    "    # создадим датафрейм data_federal_district_two: сохраним в нем строки (записи),\n",
    "    # в которых в cтолбце Регион присутствуют значения, означающие наименования федеральных округов\n",
    "    data_federal_district = data_name[data_name.Регион.isin(bad_regions)]\n",
    "\n",
    "    # Удалим строки (записи) , в которых в столбце `Регион` присутствуют значения, означающие наименования федеральных округов\n",
    "    data_name = data_name[~data_name.Регион.isin(bad_regions)]\n",
    "\n",
    "    # Произведем категоризацию данных по наименованию региона и соответствующие наименования\n",
    "    # федеральных округов запишем в столбец ФО.\n",
    "    data_name['ФО'] = data_name['Регион'].apply(categorize_purpose)\n",
    "\n",
    "    # Изменим имеющийся порядок столбцов и поместим наименование округа после наименования региона\n",
    "    cols = data_name.columns.tolist()\n",
    "    cols = cols[:1] + cols[-1:]+ cols[1:-1]\n",
    "    final_df = data_name[cols]#.reset_index(drop = True)\n",
    "    final_df\n",
    "\n",
    "    return(data_federal_district, final_df)"
   ]
  },
  {
   "cell_type": "code",
   "execution_count": 265,
   "id": "d8ede5c0",
   "metadata": {
    "id": "d8ede5c0",
    "outputId": "80450c7d-6cf1-4668-98fc-87618523beeb"
   },
   "outputs": [
    {
     "name": "stderr",
     "output_type": "stream",
     "text": [
      "/tmp/ipykernel_48/28608235.py:12: SettingWithCopyWarning: \n",
      "A value is trying to be set on a copy of a slice from a DataFrame.\n",
      "Try using .loc[row_indexer,col_indexer] = value instead\n",
      "\n",
      "See the caveats in the documentation: https://pandas.pydata.org/pandas-docs/stable/user_guide/indexing.html#returning-a-view-versus-a-copy\n",
      "  data_name['ФО'] = data_name['Регион'].apply(categorize_purpose)\n"
     ]
    }
   ],
   "source": [
    "data_federal_district_two = clear_data(final_two_df_2nd_sheet)[0]\n",
    "final_two_df_2nd_sheet = clear_data(final_two_df_2nd_sheet)[1]"
   ]
  },
  {
   "cell_type": "code",
   "execution_count": 266,
   "id": "eaa18f45",
   "metadata": {
    "id": "eaa18f45",
    "outputId": "6fd5e49e-4cf5-4ad7-87e3-574d680c48c7"
   },
   "outputs": [],
   "source": [
    "final_two_df_2nd_sheetfinal_two_df_2nd_sheet = final_two_df_2nd_sheet#.sort_values('Таблица')\n",
    "#final_two_df_2nd_sheet.head()"
   ]
  },
  {
   "cell_type": "markdown",
   "id": "f180b22a",
   "metadata": {
    "id": "f180b22a"
   },
   "source": [
    "#### Выгрузка сводного файла в рабочую папку"
   ]
  },
  {
   "cell_type": "code",
   "execution_count": 267,
   "id": "ee57f0c2",
   "metadata": {
    "id": "ee57f0c2",
    "outputId": "ea2ab061-d714-4620-d06d-27b47bea62b1",
    "scrolled": true
   },
   "outputs": [
    {
     "name": "stdout",
     "output_type": "stream",
     "text": [
      "\u001b[34mТекущая папка: \u001b[1m /home/jovyan/work\n",
      "\u001b[34mВыгружен файл\u001b[1m final_two_SOP_second_part.csv\n",
      "\u001b[34mВыгружен файл\u001b[1m final_two_SOP_second_part.xlsx\n"
     ]
    }
   ],
   "source": [
    "\n",
    "df_download(final_two_df_2nd_sheet, \"final_two_SOP_second_part.xlsx\", \"final_two_SOP_second_part.csv\")"
   ]
  },
  {
   "cell_type": "markdown",
   "id": "b97a2a98",
   "metadata": {
    "id": "b97a2a98"
   },
   "source": [
    "### Обработка третьей группы файлов.\n",
    "Обработаем файлы, содержащие Сведения о Злокачественных новообразованиях в РФ (заболеваемость и смертность) в 2021 г."
   ]
  },
  {
   "cell_type": "markdown",
   "id": "56711aa8",
   "metadata": {
    "id": "56711aa8"
   },
   "source": [
    "#### Подготовительные действия"
   ]
  },
  {
   "cell_type": "markdown",
   "id": "9cd9f62c",
   "metadata": {
    "id": "9cd9f62c"
   },
   "source": [
    "Cоздадим список `files_list_three`, содержащий в себе изменяющуюся часть названий файлов, удовлетворяющих условиям:\n",
    "- Название файла: `2021_Таблица_ХХХ_Злокачественные_новообразования_в_РФ_(заболеваемость_и_смертность).xlsx`  \n",
    "- Содержание файла: \"Заболеваемость населения территорий России злокачественными новообразованиями\"  \n",
    "- где `XXX` - в диапазоне: 012-059"
   ]
  },
  {
   "cell_type": "code",
   "execution_count": 268,
   "id": "2682f621",
   "metadata": {
    "id": "2682f621"
   },
   "outputs": [],
   "source": [
    "files_list_three  = list(range(12, 59)) + list(range(69, 104))"
   ]
  },
  {
   "cell_type": "markdown",
   "id": "2a80821c",
   "metadata": {
    "id": "2a80821c"
   },
   "source": [
    "Забегая вперед, создадим списки `files_list_gender_men_exception` и `files_list_gender_women_exception`, которые включат в себя номера файлов, содержащих локализацию заболеваний, характерных ислючительно для одного из полов.\n",
    "\n"
   ]
  },
  {
   "cell_type": "code",
   "execution_count": 269,
   "id": "ff726e6e",
   "metadata": {
    "id": "ff726e6e"
   },
   "outputs": [],
   "source": [
    "files_list_gender_men_exception = list(range(42, 45)) + list(range(91, 93))"
   ]
  },
  {
   "cell_type": "code",
   "execution_count": 270,
   "id": "c4c222e2",
   "metadata": {
    "id": "c4c222e2"
   },
   "outputs": [],
   "source": [
    "files_list_gender_women_exception = list(range(36, 42)) + list(range(87, 91))"
   ]
  },
  {
   "cell_type": "markdown",
   "id": "78452b41",
   "metadata": {
    "id": "78452b41"
   },
   "source": [
    "Создадим функцию `two_in_one_ZNO`, которая вызовет последовательно две функции:\n",
    "- ранее созданную функцию `reload_files_list`,  которая преобразует список `files_list_three`, указав в нем трех-значные значения\n",
    "- новую функцию `list_file_names_ZNO`, которая создаст список `convert_three` с названиями файлов, удовлетворяющих условиям:\n",
    "  - Название файла: `2021_Таблица_ХХХ_Злокачественные_новообразования_в_РФ_(заболеваемость_и_смертность).xlsx`  \n",
    "  - Содержание файла: \"Заболеваемость населения территорий России злокачественными новообразованиями\"  \n",
    "  - где `XXX` - в диапазоне: 012-059"
   ]
  },
  {
   "cell_type": "markdown",
   "id": "b9fe7931",
   "metadata": {
    "id": "b9fe7931"
   },
   "source": [
    "Создадим функцию `list_file_names_ZNO`, которая создаст и заполнит список `convert_one` (и другие списки) названиями файлов, удовлетворяющих задаваемым условиям:\n"
   ]
  },
  {
   "cell_type": "code",
   "execution_count": 271,
   "id": "5e6a75a4",
   "metadata": {
    "id": "5e6a75a4"
   },
   "outputs": [],
   "source": [
    "def list_file_names_ZNO(list_name):\n",
    "    os.chdir('/home/jovyan/work/test_files')\n",
    "    print(\"\\033[34m\"'Текущая папка: '\"\\033[1m\", os.getcwd())\n",
    "    convert_one = []\n",
    "    for file in os.listdir():\n",
    "        if not 'checkpoints' in file:\n",
    "            if str(file.split('_')[2]) in list_name and 'Злокачественные' in file:\n",
    "                convert_one.append(file)\n",
    "            else:\n",
    "                pass\n",
    "    return(convert_one)"
   ]
  },
  {
   "cell_type": "code",
   "execution_count": 272,
   "id": "abba909d",
   "metadata": {
    "id": "abba909d"
   },
   "outputs": [],
   "source": [
    "def two_in_one_ZNO(list_name):\n",
    "    # Применим созданную ранее функцию reload_files_list, которая преобразует список files_list_two,\n",
    "    # указав в нем трех-значные значения\n",
    "    list_name = reload_files_list(list_name)\n",
    "\n",
    "    # Вызовем функцию list_file_names_ZNO и создадим список convert_two\n",
    "    convert_two = list_file_names_ZNO(list_name)\n",
    "\n",
    "    return(convert_two)"
   ]
  },
  {
   "cell_type": "markdown",
   "id": "217939c3",
   "metadata": {
    "id": "217939c3"
   },
   "source": [
    "Создадим список `convert_three`"
   ]
  },
  {
   "cell_type": "code",
   "execution_count": 273,
   "id": "469a01ca",
   "metadata": {
    "id": "469a01ca",
    "outputId": "05e4475d-c5d6-408d-a1ff-e69f22a132e5",
    "scrolled": false
   },
   "outputs": [
    {
     "name": "stdout",
     "output_type": "stream",
     "text": [
      "\u001b[34mТекущая папка: \u001b[1m /home/jovyan/work/test_files\n"
     ]
    }
   ],
   "source": [
    "convert_three = two_in_one_ZNO(files_list_three)"
   ]
  },
  {
   "cell_type": "markdown",
   "id": "76196e93",
   "metadata": {
    "id": "76196e93"
   },
   "source": [
    "Создадим список `convert_gender_men_exception`"
   ]
  },
  {
   "cell_type": "code",
   "execution_count": 274,
   "id": "653929d7",
   "metadata": {
    "id": "653929d7",
    "outputId": "d4bd26a4-556e-41eb-cf4b-381ec8d2d724",
    "scrolled": false
   },
   "outputs": [
    {
     "name": "stdout",
     "output_type": "stream",
     "text": [
      "\u001b[34mТекущая папка: \u001b[1m /home/jovyan/work/test_files\n"
     ]
    }
   ],
   "source": [
    "convert_gender_men_exception = two_in_one_ZNO(files_list_gender_men_exception)"
   ]
  },
  {
   "cell_type": "markdown",
   "id": "76ada047",
   "metadata": {
    "id": "76ada047"
   },
   "source": [
    "Создадим список `convert_gender_women_exception`"
   ]
  },
  {
   "cell_type": "code",
   "execution_count": 275,
   "id": "e1a53c1b",
   "metadata": {
    "id": "e1a53c1b",
    "outputId": "01de1865-289c-4bc8-9fe1-08632ce98739",
    "scrolled": false
   },
   "outputs": [
    {
     "name": "stdout",
     "output_type": "stream",
     "text": [
      "\u001b[34mТекущая папка: \u001b[1m /home/jovyan/work/test_files\n"
     ]
    }
   ],
   "source": [
    "convert_gender_women_exception = two_in_one_ZNO(files_list_gender_women_exception)"
   ]
  },
  {
   "cell_type": "markdown",
   "id": "64a5df57",
   "metadata": {
    "id": "64a5df57"
   },
   "source": [
    "##### Выведем на экран первые строки файлов, содержащихся в списке `convert_two`"
   ]
  },
  {
   "cell_type": "code",
   "execution_count": 276,
   "id": "2e5fc341",
   "metadata": {
    "id": "2e5fc341",
    "outputId": "259fba3e-ccc1-4ddf-cb50-b5d07b969983",
    "scrolled": true
   },
   "outputs": [
    {
     "data": {
      "text/html": [
       "<div>\n",
       "<style scoped>\n",
       "    .dataframe tbody tr th:only-of-type {\n",
       "        vertical-align: middle;\n",
       "    }\n",
       "\n",
       "    .dataframe tbody tr th {\n",
       "        vertical-align: top;\n",
       "    }\n",
       "\n",
       "    .dataframe thead th {\n",
       "        text-align: right;\n",
       "    }\n",
       "</style>\n",
       "<table border=\"1\" class=\"dataframe\">\n",
       "  <thead>\n",
       "    <tr style=\"text-align: right;\">\n",
       "      <th></th>\n",
       "      <th>СВЕДЕНИЯ О КОНТИНГЕНТЕ БОЛЬНЫХ СО ЗЛОКАЧЕСТВЕННЫМИ НОВООБРАЗОВАНИЯМИ,\\nСОСТОЯЩЕМ НА УЧЕТЕ В ОНКОЛОГИЧЕСКИХ УЧРЕЖДЕНИЯХ В 2021 Г.\\nЗлокачественные новообразования - всего (С00-96)                                               Таблица 24</th>\n",
       "      <th>Unnamed: 1</th>\n",
       "      <th>Unnamed: 2</th>\n",
       "      <th>Unnamed: 3</th>\n",
       "      <th>Unnamed: 4</th>\n",
       "      <th>Unnamed: 5</th>\n",
       "      <th>Unnamed: 6</th>\n",
       "      <th>Unnamed: 7</th>\n",
       "      <th>Unnamed: 8</th>\n",
       "    </tr>\n",
       "  </thead>\n",
       "  <tbody>\n",
       "    <tr>\n",
       "      <th>0</th>\n",
       "      <td>Республика, край, область</td>\n",
       "      <td>Взято на учет больных с впервые в жизни уст. д...</td>\n",
       "      <td>в т.ч. вы- явлены активно,\\n%</td>\n",
       "      <td>Находились на учете на конец года</td>\n",
       "      <td>NaN</td>\n",
       "      <td>из них 5 лет и более</td>\n",
       "      <td>NaN</td>\n",
       "      <td>Индекс на- копления контин- гентов</td>\n",
       "      <td>Леталь- ность,\\n%</td>\n",
       "    </tr>\n",
       "    <tr>\n",
       "      <th>1</th>\n",
       "      <td>NaN</td>\n",
       "      <td>NaN</td>\n",
       "      <td>NaN</td>\n",
       "      <td>абсолют- ное число</td>\n",
       "      <td>на 100 тыс. населения</td>\n",
       "      <td>абсолют- ное число</td>\n",
       "      <td>%  от сост. на учете</td>\n",
       "      <td>NaN</td>\n",
       "      <td>NaN</td>\n",
       "    </tr>\n",
       "    <tr>\n",
       "      <th>2</th>\n",
       "      <td>РОССИЯ</td>\n",
       "      <td>490588</td>\n",
       "      <td>24.1</td>\n",
       "      <td>3940529</td>\n",
       "      <td>2690.5</td>\n",
       "      <td>2262078</td>\n",
       "      <td>57.4</td>\n",
       "      <td>8</td>\n",
       "      <td>5.2</td>\n",
       "    </tr>\n",
       "    <tr>\n",
       "      <th>3</th>\n",
       "      <td>ЦЕНТРАЛЬНЫЙ ФО</td>\n",
       "      <td>129871</td>\n",
       "      <td>24.1</td>\n",
       "      <td>1147377</td>\n",
       "      <td>2916.4</td>\n",
       "      <td>666555</td>\n",
       "      <td>58.1</td>\n",
       "      <td>8.8</td>\n",
       "      <td>4.5</td>\n",
       "    </tr>\n",
       "    <tr>\n",
       "      <th>4</th>\n",
       "      <td>Белгородская область</td>\n",
       "      <td>6134</td>\n",
       "      <td>27.4</td>\n",
       "      <td>44114</td>\n",
       "      <td>2854.9</td>\n",
       "      <td>24836</td>\n",
       "      <td>56.3</td>\n",
       "      <td>7.2</td>\n",
       "      <td>5.1</td>\n",
       "    </tr>\n",
       "    <tr>\n",
       "      <th>5</th>\n",
       "      <td>Брянская область</td>\n",
       "      <td>5137</td>\n",
       "      <td>20.3</td>\n",
       "      <td>38258</td>\n",
       "      <td>3221.5</td>\n",
       "      <td>21775</td>\n",
       "      <td>56.9</td>\n",
       "      <td>7.4</td>\n",
       "      <td>6</td>\n",
       "    </tr>\n",
       "    <tr>\n",
       "      <th>6</th>\n",
       "      <td>Владимирская область</td>\n",
       "      <td>4986</td>\n",
       "      <td>10.6</td>\n",
       "      <td>44686</td>\n",
       "      <td>3309.4</td>\n",
       "      <td>26554</td>\n",
       "      <td>59.4</td>\n",
       "      <td>9</td>\n",
       "      <td>4.1</td>\n",
       "    </tr>\n",
       "    <tr>\n",
       "      <th>7</th>\n",
       "      <td>Воронежская область</td>\n",
       "      <td>8170</td>\n",
       "      <td>29.2</td>\n",
       "      <td>71536</td>\n",
       "      <td>3090.2</td>\n",
       "      <td>41212</td>\n",
       "      <td>57.6</td>\n",
       "      <td>8.8</td>\n",
       "      <td>5.1</td>\n",
       "    </tr>\n",
       "    <tr>\n",
       "      <th>8</th>\n",
       "      <td>Ивановская область</td>\n",
       "      <td>4129</td>\n",
       "      <td>28.9</td>\n",
       "      <td>31860</td>\n",
       "      <td>3211.4</td>\n",
       "      <td>18064</td>\n",
       "      <td>56.7</td>\n",
       "      <td>7.7</td>\n",
       "      <td>5.1</td>\n",
       "    </tr>\n",
       "    <tr>\n",
       "      <th>9</th>\n",
       "      <td>Тверская область</td>\n",
       "      <td>4812</td>\n",
       "      <td>20</td>\n",
       "      <td>39059</td>\n",
       "      <td>3117.2</td>\n",
       "      <td>23240</td>\n",
       "      <td>59.5</td>\n",
       "      <td>8.1</td>\n",
       "      <td>5.5</td>\n",
       "    </tr>\n",
       "  </tbody>\n",
       "</table>\n",
       "</div>"
      ],
      "text/plain": [
       "  СВЕДЕНИЯ О КОНТИНГЕНТЕ БОЛЬНЫХ СО ЗЛОКАЧЕСТВЕННЫМИ НОВООБРАЗОВАНИЯМИ,\\nСОСТОЯЩЕМ НА УЧЕТЕ В ОНКОЛОГИЧЕСКИХ УЧРЕЖДЕНИЯХ В 2021 Г.\\nЗлокачественные новообразования - всего (С00-96)                                               Таблица 24                   \\\n",
       "0                          Республика, край, область                                                                                                                                                                                                             \n",
       "1                                                NaN                                                                                                                                                                                                             \n",
       "2                                             РОССИЯ                                                                                                                                                                                                             \n",
       "3                                     ЦЕНТРАЛЬНЫЙ ФО                                                                                                                                                                                                             \n",
       "4                               Белгородская область                                                                                                                                                                                                             \n",
       "5                                   Брянская область                                                                                                                                                                                                             \n",
       "6                               Владимирская область                                                                                                                                                                                                             \n",
       "7                                Воронежская область                                                                                                                                                                                                             \n",
       "8                                 Ивановская область                                                                                                                                                                                                             \n",
       "9                                   Тверская область                                                                                                                                                                                                             \n",
       "\n",
       "                                          Unnamed: 1  \\\n",
       "0  Взято на учет больных с впервые в жизни уст. д...   \n",
       "1                                                NaN   \n",
       "2                                             490588   \n",
       "3                                             129871   \n",
       "4                                               6134   \n",
       "5                                               5137   \n",
       "6                                               4986   \n",
       "7                                               8170   \n",
       "8                                               4129   \n",
       "9                                               4812   \n",
       "\n",
       "                      Unnamed: 2                         Unnamed: 3  \\\n",
       "0  в т.ч. вы- явлены активно,\\n%  Находились на учете на конец года   \n",
       "1                            NaN                 абсолют- ное число   \n",
       "2                           24.1                            3940529   \n",
       "3                           24.1                            1147377   \n",
       "4                           27.4                              44114   \n",
       "5                           20.3                              38258   \n",
       "6                           10.6                              44686   \n",
       "7                           29.2                              71536   \n",
       "8                           28.9                              31860   \n",
       "9                             20                              39059   \n",
       "\n",
       "              Unnamed: 4            Unnamed: 5            Unnamed: 6  \\\n",
       "0                    NaN  из них 5 лет и более                   NaN   \n",
       "1  на 100 тыс. населения    абсолют- ное число  %  от сост. на учете   \n",
       "2                 2690.5               2262078                  57.4   \n",
       "3                 2916.4                666555                  58.1   \n",
       "4                 2854.9                 24836                  56.3   \n",
       "5                 3221.5                 21775                  56.9   \n",
       "6                 3309.4                 26554                  59.4   \n",
       "7                 3090.2                 41212                  57.6   \n",
       "8                 3211.4                 18064                  56.7   \n",
       "9                 3117.2                 23240                  59.5   \n",
       "\n",
       "                           Unnamed: 7         Unnamed: 8  \n",
       "0  Индекс на- копления контин- гентов  Леталь- ность,\\n%  \n",
       "1                                 NaN                NaN  \n",
       "2                                   8                5.2  \n",
       "3                                 8.8                4.5  \n",
       "4                                 7.2                5.1  \n",
       "5                                 7.4                  6  \n",
       "6                                   9                4.1  \n",
       "7                                 8.8                5.1  \n",
       "8                                 7.7                5.1  \n",
       "9                                 8.1                5.5  "
      ]
     },
     "metadata": {},
     "output_type": "display_data"
    },
    {
     "data": {
      "text/html": [
       "<div>\n",
       "<style scoped>\n",
       "    .dataframe tbody tr th:only-of-type {\n",
       "        vertical-align: middle;\n",
       "    }\n",
       "\n",
       "    .dataframe tbody tr th {\n",
       "        vertical-align: top;\n",
       "    }\n",
       "\n",
       "    .dataframe thead th {\n",
       "        text-align: right;\n",
       "    }\n",
       "</style>\n",
       "<table border=\"1\" class=\"dataframe\">\n",
       "  <thead>\n",
       "    <tr style=\"text-align: right;\">\n",
       "      <th></th>\n",
       "      <th>СВЕДЕНИЯ О  КОНТИНГЕНТЕ БОЛЬНЫХ СО ЗЛОКАЧЕСТВЕННЫМИ НОВООБРАЗОВАНИЯМИ, СОСТОЯЩЕМ НА УЧЕТЕ В ОНКОЛОГИЧЕСКИХ УЧРЕЖДЕНИЯХ В 2021 Г.\\nГуба (С00)                                                                                                                     Таблица 27</th>\n",
       "      <th>Unnamed: 1</th>\n",
       "      <th>Unnamed: 2</th>\n",
       "      <th>Unnamed: 3</th>\n",
       "      <th>Unnamed: 4</th>\n",
       "      <th>Unnamed: 5</th>\n",
       "      <th>Unnamed: 6</th>\n",
       "      <th>Unnamed: 7</th>\n",
       "      <th>Unnamed: 8</th>\n",
       "      <th>Unnamed: 9</th>\n",
       "    </tr>\n",
       "  </thead>\n",
       "  <tbody>\n",
       "    <tr>\n",
       "      <th>0</th>\n",
       "      <td>Республика, край, область</td>\n",
       "      <td>Взято на учет больных с впервые в жизни уст. д...</td>\n",
       "      <td>в т.ч. вы- явлены активно,\\n%</td>\n",
       "      <td>Находились на учете на конец года</td>\n",
       "      <td>NaN</td>\n",
       "      <td>из них 5 лет и более</td>\n",
       "      <td>NaN</td>\n",
       "      <td>Индекс на- копления контин- гентов</td>\n",
       "      <td>Леталь- ность,\\n%</td>\n",
       "      <td>NaN</td>\n",
       "    </tr>\n",
       "    <tr>\n",
       "      <th>1</th>\n",
       "      <td>NaN</td>\n",
       "      <td>NaN</td>\n",
       "      <td>NaN</td>\n",
       "      <td>абсолют- ное число</td>\n",
       "      <td>на 100 тыс. населения</td>\n",
       "      <td>абсолют- ное число</td>\n",
       "      <td>%  от сост. на учете</td>\n",
       "      <td>NaN</td>\n",
       "      <td>NaN</td>\n",
       "      <td>NaN</td>\n",
       "    </tr>\n",
       "    <tr>\n",
       "      <th>2</th>\n",
       "      <td>РОССИЯ</td>\n",
       "      <td>1675</td>\n",
       "      <td>35.4</td>\n",
       "      <td>32914</td>\n",
       "      <td>22.5</td>\n",
       "      <td>24985</td>\n",
       "      <td>75.9</td>\n",
       "      <td>19.7</td>\n",
       "      <td>0.9</td>\n",
       "      <td>NaN</td>\n",
       "    </tr>\n",
       "    <tr>\n",
       "      <th>3</th>\n",
       "      <td>ЦЕНТРАЛЬНЫЙ ФО</td>\n",
       "      <td>308</td>\n",
       "      <td>41.6</td>\n",
       "      <td>6239</td>\n",
       "      <td>15.9</td>\n",
       "      <td>4679</td>\n",
       "      <td>75</td>\n",
       "      <td>20.3</td>\n",
       "      <td>1.2</td>\n",
       "      <td>NaN</td>\n",
       "    </tr>\n",
       "    <tr>\n",
       "      <th>4</th>\n",
       "      <td>Белгородская область</td>\n",
       "      <td>17</td>\n",
       "      <td>47.1</td>\n",
       "      <td>357</td>\n",
       "      <td>23.1</td>\n",
       "      <td>243</td>\n",
       "      <td>68.1</td>\n",
       "      <td>21</td>\n",
       "      <td>0.6</td>\n",
       "      <td>NaN</td>\n",
       "    </tr>\n",
       "    <tr>\n",
       "      <th>5</th>\n",
       "      <td>Брянская область</td>\n",
       "      <td>17</td>\n",
       "      <td>47.1</td>\n",
       "      <td>300</td>\n",
       "      <td>25.3</td>\n",
       "      <td>220</td>\n",
       "      <td>73.3</td>\n",
       "      <td>17.6</td>\n",
       "      <td>0.7</td>\n",
       "      <td>NaN</td>\n",
       "    </tr>\n",
       "    <tr>\n",
       "      <th>6</th>\n",
       "      <td>Владимирская область</td>\n",
       "      <td>16</td>\n",
       "      <td>12.5</td>\n",
       "      <td>275</td>\n",
       "      <td>20.4</td>\n",
       "      <td>201</td>\n",
       "      <td>73.1</td>\n",
       "      <td>17.2</td>\n",
       "      <td>1.8</td>\n",
       "      <td>NaN</td>\n",
       "    </tr>\n",
       "    <tr>\n",
       "      <th>7</th>\n",
       "      <td>Воронежская область</td>\n",
       "      <td>44</td>\n",
       "      <td>34.1</td>\n",
       "      <td>767</td>\n",
       "      <td>33.1</td>\n",
       "      <td>588</td>\n",
       "      <td>76.7</td>\n",
       "      <td>17.4</td>\n",
       "      <td>0.9</td>\n",
       "      <td>NaN</td>\n",
       "    </tr>\n",
       "    <tr>\n",
       "      <th>8</th>\n",
       "      <td>Ивановская область</td>\n",
       "      <td>19</td>\n",
       "      <td>47.4</td>\n",
       "      <td>189</td>\n",
       "      <td>19.1</td>\n",
       "      <td>132</td>\n",
       "      <td>69.8</td>\n",
       "      <td>9.9</td>\n",
       "      <td>0</td>\n",
       "      <td>NaN</td>\n",
       "    </tr>\n",
       "    <tr>\n",
       "      <th>9</th>\n",
       "      <td>Тверская область</td>\n",
       "      <td>15</td>\n",
       "      <td>20</td>\n",
       "      <td>292</td>\n",
       "      <td>23.3</td>\n",
       "      <td>239</td>\n",
       "      <td>81.8</td>\n",
       "      <td>19.5</td>\n",
       "      <td>0.7</td>\n",
       "      <td>NaN</td>\n",
       "    </tr>\n",
       "  </tbody>\n",
       "</table>\n",
       "</div>"
      ],
      "text/plain": [
       "  СВЕДЕНИЯ О  КОНТИНГЕНТЕ БОЛЬНЫХ СО ЗЛОКАЧЕСТВЕННЫМИ НОВООБРАЗОВАНИЯМИ, СОСТОЯЩЕМ НА УЧЕТЕ В ОНКОЛОГИЧЕСКИХ УЧРЕЖДЕНИЯХ В 2021 Г.\\nГуба (С00)                                                                                                                     Таблица 27  \\\n",
       "0                          Республика, край, область                                                                                                                                                                                                                            \n",
       "1                                                NaN                                                                                                                                                                                                                            \n",
       "2                                             РОССИЯ                                                                                                                                                                                                                            \n",
       "3                                     ЦЕНТРАЛЬНЫЙ ФО                                                                                                                                                                                                                            \n",
       "4                               Белгородская область                                                                                                                                                                                                                            \n",
       "5                                   Брянская область                                                                                                                                                                                                                            \n",
       "6                               Владимирская область                                                                                                                                                                                                                            \n",
       "7                                Воронежская область                                                                                                                                                                                                                            \n",
       "8                                 Ивановская область                                                                                                                                                                                                                            \n",
       "9                                   Тверская область                                                                                                                                                                                                                            \n",
       "\n",
       "                                          Unnamed: 1  \\\n",
       "0  Взято на учет больных с впервые в жизни уст. д...   \n",
       "1                                                NaN   \n",
       "2                                               1675   \n",
       "3                                                308   \n",
       "4                                                 17   \n",
       "5                                                 17   \n",
       "6                                                 16   \n",
       "7                                                 44   \n",
       "8                                                 19   \n",
       "9                                                 15   \n",
       "\n",
       "                      Unnamed: 2                         Unnamed: 3  \\\n",
       "0  в т.ч. вы- явлены активно,\\n%  Находились на учете на конец года   \n",
       "1                            NaN                 абсолют- ное число   \n",
       "2                           35.4                              32914   \n",
       "3                           41.6                               6239   \n",
       "4                           47.1                                357   \n",
       "5                           47.1                                300   \n",
       "6                           12.5                                275   \n",
       "7                           34.1                                767   \n",
       "8                           47.4                                189   \n",
       "9                             20                                292   \n",
       "\n",
       "              Unnamed: 4            Unnamed: 5            Unnamed: 6  \\\n",
       "0                    NaN  из них 5 лет и более                   NaN   \n",
       "1  на 100 тыс. населения    абсолют- ное число  %  от сост. на учете   \n",
       "2                   22.5                 24985                  75.9   \n",
       "3                   15.9                  4679                    75   \n",
       "4                   23.1                   243                  68.1   \n",
       "5                   25.3                   220                  73.3   \n",
       "6                   20.4                   201                  73.1   \n",
       "7                   33.1                   588                  76.7   \n",
       "8                   19.1                   132                  69.8   \n",
       "9                   23.3                   239                  81.8   \n",
       "\n",
       "                           Unnamed: 7         Unnamed: 8  Unnamed: 9  \n",
       "0  Индекс на- копления контин- гентов  Леталь- ность,\\n%         NaN  \n",
       "1                                 NaN                NaN         NaN  \n",
       "2                                19.7                0.9         NaN  \n",
       "3                                20.3                1.2         NaN  \n",
       "4                                  21                0.6         NaN  \n",
       "5                                17.6                0.7         NaN  \n",
       "6                                17.2                1.8         NaN  \n",
       "7                                17.4                0.9         NaN  \n",
       "8                                 9.9                  0         NaN  \n",
       "9                                19.5                0.7         NaN  "
      ]
     },
     "metadata": {},
     "output_type": "display_data"
    },
    {
     "data": {
      "text/html": [
       "<div>\n",
       "<style scoped>\n",
       "    .dataframe tbody tr th:only-of-type {\n",
       "        vertical-align: middle;\n",
       "    }\n",
       "\n",
       "    .dataframe tbody tr th {\n",
       "        vertical-align: top;\n",
       "    }\n",
       "\n",
       "    .dataframe thead th {\n",
       "        text-align: right;\n",
       "    }\n",
       "</style>\n",
       "<table border=\"1\" class=\"dataframe\">\n",
       "  <thead>\n",
       "    <tr style=\"text-align: right;\">\n",
       "      <th></th>\n",
       "      <th>СВЕДЕНИЯ О  КОНТИНГЕНТЕ БОЛЬНЫХ СО ЗЛОКАЧЕСТВЕННЫМИ НОВООБРАЗОВАНИЯМИ, СОСТОЯЩЕМ НА УЧЕТЕ В ОНКОЛОГИЧЕСКИХ УЧРЕЖДЕНИЯХ В 2021 Г.\\nПолость рта (C01-09)                                                                                   Таблица 28</th>\n",
       "      <th>Unnamed: 1</th>\n",
       "      <th>Unnamed: 2</th>\n",
       "      <th>Unnamed: 3</th>\n",
       "      <th>Unnamed: 4</th>\n",
       "      <th>Unnamed: 5</th>\n",
       "      <th>Unnamed: 6</th>\n",
       "      <th>Unnamed: 7</th>\n",
       "      <th>Unnamed: 8</th>\n",
       "      <th>Unnamed: 9</th>\n",
       "    </tr>\n",
       "  </thead>\n",
       "  <tbody>\n",
       "    <tr>\n",
       "      <th>0</th>\n",
       "      <td>Республика, край, область</td>\n",
       "      <td>Взято на учет больных с впервые в жизни уст. д...</td>\n",
       "      <td>в т.ч. вы- явлены активно,\\n%</td>\n",
       "      <td>Находились на учете на конец года</td>\n",
       "      <td>NaN</td>\n",
       "      <td>из них 5 лет и более</td>\n",
       "      <td>NaN</td>\n",
       "      <td>Индекс на- копления контин- гентов</td>\n",
       "      <td>Леталь- ность,\\n%</td>\n",
       "      <td>NaN</td>\n",
       "    </tr>\n",
       "    <tr>\n",
       "      <th>1</th>\n",
       "      <td>NaN</td>\n",
       "      <td>NaN</td>\n",
       "      <td>NaN</td>\n",
       "      <td>абсолют- ное число</td>\n",
       "      <td>на 100 тыс. населения</td>\n",
       "      <td>абсолют- ное число</td>\n",
       "      <td>%  от сост. на учете</td>\n",
       "      <td>NaN</td>\n",
       "      <td>NaN</td>\n",
       "      <td>NaN</td>\n",
       "    </tr>\n",
       "    <tr>\n",
       "      <th>2</th>\n",
       "      <td>РОССИЯ</td>\n",
       "      <td>8461</td>\n",
       "      <td>16.4</td>\n",
       "      <td>45166</td>\n",
       "      <td>30.8</td>\n",
       "      <td>23637</td>\n",
       "      <td>52.3</td>\n",
       "      <td>5.3</td>\n",
       "      <td>9.3</td>\n",
       "      <td>NaN</td>\n",
       "    </tr>\n",
       "    <tr>\n",
       "      <th>3</th>\n",
       "      <td>ЦЕНТРАЛЬНЫЙ ФО</td>\n",
       "      <td>2347</td>\n",
       "      <td>15.6</td>\n",
       "      <td>13019</td>\n",
       "      <td>33.1</td>\n",
       "      <td>6610</td>\n",
       "      <td>50.8</td>\n",
       "      <td>5.5</td>\n",
       "      <td>8.8</td>\n",
       "      <td>NaN</td>\n",
       "    </tr>\n",
       "    <tr>\n",
       "      <th>4</th>\n",
       "      <td>Белгородская область</td>\n",
       "      <td>71</td>\n",
       "      <td>12.7</td>\n",
       "      <td>348</td>\n",
       "      <td>22.5</td>\n",
       "      <td>152</td>\n",
       "      <td>43.7</td>\n",
       "      <td>4.9</td>\n",
       "      <td>9.4</td>\n",
       "      <td>NaN</td>\n",
       "    </tr>\n",
       "    <tr>\n",
       "      <th>5</th>\n",
       "      <td>Брянская область</td>\n",
       "      <td>125</td>\n",
       "      <td>18.4</td>\n",
       "      <td>493</td>\n",
       "      <td>41.5</td>\n",
       "      <td>235</td>\n",
       "      <td>47.7</td>\n",
       "      <td>3.9</td>\n",
       "      <td>14.9</td>\n",
       "      <td>NaN</td>\n",
       "    </tr>\n",
       "    <tr>\n",
       "      <th>6</th>\n",
       "      <td>Владимирская область</td>\n",
       "      <td>92</td>\n",
       "      <td>1.1</td>\n",
       "      <td>483</td>\n",
       "      <td>35.8</td>\n",
       "      <td>213</td>\n",
       "      <td>44.1</td>\n",
       "      <td>5.3</td>\n",
       "      <td>8.3</td>\n",
       "      <td>NaN</td>\n",
       "    </tr>\n",
       "    <tr>\n",
       "      <th>7</th>\n",
       "      <td>Воронежская область</td>\n",
       "      <td>122</td>\n",
       "      <td>25.4</td>\n",
       "      <td>663</td>\n",
       "      <td>28.6</td>\n",
       "      <td>356</td>\n",
       "      <td>53.7</td>\n",
       "      <td>5.4</td>\n",
       "      <td>12.2</td>\n",
       "      <td>NaN</td>\n",
       "    </tr>\n",
       "    <tr>\n",
       "      <th>8</th>\n",
       "      <td>Ивановская область</td>\n",
       "      <td>77</td>\n",
       "      <td>10.4</td>\n",
       "      <td>393</td>\n",
       "      <td>39.6</td>\n",
       "      <td>200</td>\n",
       "      <td>50.9</td>\n",
       "      <td>5.1</td>\n",
       "      <td>11.5</td>\n",
       "      <td>NaN</td>\n",
       "    </tr>\n",
       "    <tr>\n",
       "      <th>9</th>\n",
       "      <td>Тверская область</td>\n",
       "      <td>103</td>\n",
       "      <td>8.7</td>\n",
       "      <td>476</td>\n",
       "      <td>38</td>\n",
       "      <td>249</td>\n",
       "      <td>52.3</td>\n",
       "      <td>4.6</td>\n",
       "      <td>12.3</td>\n",
       "      <td>NaN</td>\n",
       "    </tr>\n",
       "  </tbody>\n",
       "</table>\n",
       "</div>"
      ],
      "text/plain": [
       "  СВЕДЕНИЯ О  КОНТИНГЕНТЕ БОЛЬНЫХ СО ЗЛОКАЧЕСТВЕННЫМИ НОВООБРАЗОВАНИЯМИ, СОСТОЯЩЕМ НА УЧЕТЕ В ОНКОЛОГИЧЕСКИХ УЧРЕЖДЕНИЯХ В 2021 Г.\\nПолость рта (C01-09)                                                                                   Таблица 28  \\\n",
       "0                          Республика, край, область                                                                                                                                                                                                    \n",
       "1                                                NaN                                                                                                                                                                                                    \n",
       "2                                             РОССИЯ                                                                                                                                                                                                    \n",
       "3                                     ЦЕНТРАЛЬНЫЙ ФО                                                                                                                                                                                                    \n",
       "4                               Белгородская область                                                                                                                                                                                                    \n",
       "5                                   Брянская область                                                                                                                                                                                                    \n",
       "6                               Владимирская область                                                                                                                                                                                                    \n",
       "7                                Воронежская область                                                                                                                                                                                                    \n",
       "8                                 Ивановская область                                                                                                                                                                                                    \n",
       "9                                   Тверская область                                                                                                                                                                                                    \n",
       "\n",
       "                                          Unnamed: 1  \\\n",
       "0  Взято на учет больных с впервые в жизни уст. д...   \n",
       "1                                                NaN   \n",
       "2                                               8461   \n",
       "3                                               2347   \n",
       "4                                                 71   \n",
       "5                                                125   \n",
       "6                                                 92   \n",
       "7                                                122   \n",
       "8                                                 77   \n",
       "9                                                103   \n",
       "\n",
       "                      Unnamed: 2                         Unnamed: 3  \\\n",
       "0  в т.ч. вы- явлены активно,\\n%  Находились на учете на конец года   \n",
       "1                            NaN                 абсолют- ное число   \n",
       "2                           16.4                              45166   \n",
       "3                           15.6                              13019   \n",
       "4                           12.7                                348   \n",
       "5                           18.4                                493   \n",
       "6                            1.1                                483   \n",
       "7                           25.4                                663   \n",
       "8                           10.4                                393   \n",
       "9                            8.7                                476   \n",
       "\n",
       "              Unnamed: 4            Unnamed: 5            Unnamed: 6  \\\n",
       "0                    NaN  из них 5 лет и более                   NaN   \n",
       "1  на 100 тыс. населения    абсолют- ное число  %  от сост. на учете   \n",
       "2                   30.8                 23637                  52.3   \n",
       "3                   33.1                  6610                  50.8   \n",
       "4                   22.5                   152                  43.7   \n",
       "5                   41.5                   235                  47.7   \n",
       "6                   35.8                   213                  44.1   \n",
       "7                   28.6                   356                  53.7   \n",
       "8                   39.6                   200                  50.9   \n",
       "9                     38                   249                  52.3   \n",
       "\n",
       "                           Unnamed: 7         Unnamed: 8  Unnamed: 9  \n",
       "0  Индекс на- копления контин- гентов  Леталь- ность,\\n%         NaN  \n",
       "1                                 NaN                NaN         NaN  \n",
       "2                                 5.3                9.3         NaN  \n",
       "3                                 5.5                8.8         NaN  \n",
       "4                                 4.9                9.4         NaN  \n",
       "5                                 3.9               14.9         NaN  \n",
       "6                                 5.3                8.3         NaN  \n",
       "7                                 5.4               12.2         NaN  \n",
       "8                                 5.1               11.5         NaN  \n",
       "9                                 4.6               12.3         NaN  "
      ]
     },
     "metadata": {},
     "output_type": "display_data"
    },
    {
     "data": {
      "text/html": [
       "<div>\n",
       "<style scoped>\n",
       "    .dataframe tbody tr th:only-of-type {\n",
       "        vertical-align: middle;\n",
       "    }\n",
       "\n",
       "    .dataframe tbody tr th {\n",
       "        vertical-align: top;\n",
       "    }\n",
       "\n",
       "    .dataframe thead th {\n",
       "        text-align: right;\n",
       "    }\n",
       "</style>\n",
       "<table border=\"1\" class=\"dataframe\">\n",
       "  <thead>\n",
       "    <tr style=\"text-align: right;\">\n",
       "      <th></th>\n",
       "      <th>СВЕДЕНИЯ О  КОНТИНГЕНТЕ БОЛЬНЫХ СО ЗЛОКАЧЕСТВЕННЫМИ НОВООБРАЗОВАНИЯМИ, СОСТОЯЩЕМ НА УЧЕТЕ В ОНКОЛОГИЧЕСКИХ УЧРЕЖДЕНИЯХ В 2021 Г.\\nГлотка (С10-13)                                                                                               Таблица 29</th>\n",
       "      <th>Unnamed: 1</th>\n",
       "      <th>Unnamed: 2</th>\n",
       "      <th>Unnamed: 3</th>\n",
       "      <th>Unnamed: 4</th>\n",
       "      <th>Unnamed: 5</th>\n",
       "      <th>Unnamed: 6</th>\n",
       "      <th>Unnamed: 7</th>\n",
       "      <th>Unnamed: 8</th>\n",
       "      <th>Unnamed: 9</th>\n",
       "    </tr>\n",
       "  </thead>\n",
       "  <tbody>\n",
       "    <tr>\n",
       "      <th>0</th>\n",
       "      <td>Республика, край, область</td>\n",
       "      <td>Взято на учет больных с впервые в жизни уст. д...</td>\n",
       "      <td>в т.ч. вы- явлены активно,\\n%</td>\n",
       "      <td>Находились на учете на конец года</td>\n",
       "      <td>NaN</td>\n",
       "      <td>из них 5 лет и более</td>\n",
       "      <td>NaN</td>\n",
       "      <td>Индекс на- копления контин- гентов</td>\n",
       "      <td>Леталь- ность,\\n%</td>\n",
       "      <td>NaN</td>\n",
       "    </tr>\n",
       "    <tr>\n",
       "      <th>1</th>\n",
       "      <td>NaN</td>\n",
       "      <td>NaN</td>\n",
       "      <td>NaN</td>\n",
       "      <td>абсолют- ное число</td>\n",
       "      <td>на 100 тыс. населения</td>\n",
       "      <td>абсолют- ное число</td>\n",
       "      <td>%  от сост. на учете</td>\n",
       "      <td>NaN</td>\n",
       "      <td>NaN</td>\n",
       "      <td>NaN</td>\n",
       "    </tr>\n",
       "    <tr>\n",
       "      <th>2</th>\n",
       "      <td>РОССИЯ</td>\n",
       "      <td>5097</td>\n",
       "      <td>9</td>\n",
       "      <td>18754</td>\n",
       "      <td>12.8</td>\n",
       "      <td>8137</td>\n",
       "      <td>43.4</td>\n",
       "      <td>3.7</td>\n",
       "      <td>15.3</td>\n",
       "      <td>NaN</td>\n",
       "    </tr>\n",
       "    <tr>\n",
       "      <th>3</th>\n",
       "      <td>ЦЕНТРАЛЬНЫЙ ФО</td>\n",
       "      <td>1579</td>\n",
       "      <td>8.4</td>\n",
       "      <td>6317</td>\n",
       "      <td>16.1</td>\n",
       "      <td>2761</td>\n",
       "      <td>43.7</td>\n",
       "      <td>4</td>\n",
       "      <td>13.8</td>\n",
       "      <td>NaN</td>\n",
       "    </tr>\n",
       "    <tr>\n",
       "      <th>4</th>\n",
       "      <td>Белгородская область</td>\n",
       "      <td>106</td>\n",
       "      <td>5.7</td>\n",
       "      <td>321</td>\n",
       "      <td>20.8</td>\n",
       "      <td>122</td>\n",
       "      <td>38</td>\n",
       "      <td>3</td>\n",
       "      <td>13.9</td>\n",
       "      <td>NaN</td>\n",
       "    </tr>\n",
       "    <tr>\n",
       "      <th>5</th>\n",
       "      <td>Брянская область</td>\n",
       "      <td>113</td>\n",
       "      <td>11.5</td>\n",
       "      <td>242</td>\n",
       "      <td>20.4</td>\n",
       "      <td>70</td>\n",
       "      <td>28.9</td>\n",
       "      <td>2.1</td>\n",
       "      <td>25.1</td>\n",
       "      <td>NaN</td>\n",
       "    </tr>\n",
       "    <tr>\n",
       "      <th>6</th>\n",
       "      <td>Владимирская область</td>\n",
       "      <td>76</td>\n",
       "      <td>0</td>\n",
       "      <td>332</td>\n",
       "      <td>24.6</td>\n",
       "      <td>137</td>\n",
       "      <td>41.3</td>\n",
       "      <td>4.4</td>\n",
       "      <td>14</td>\n",
       "      <td>NaN</td>\n",
       "    </tr>\n",
       "    <tr>\n",
       "      <th>7</th>\n",
       "      <td>Воронежская область</td>\n",
       "      <td>149</td>\n",
       "      <td>5.4</td>\n",
       "      <td>477</td>\n",
       "      <td>20.6</td>\n",
       "      <td>185</td>\n",
       "      <td>38.8</td>\n",
       "      <td>3.2</td>\n",
       "      <td>16.5</td>\n",
       "      <td>NaN</td>\n",
       "    </tr>\n",
       "    <tr>\n",
       "      <th>8</th>\n",
       "      <td>Ивановская область</td>\n",
       "      <td>71</td>\n",
       "      <td>11.3</td>\n",
       "      <td>174</td>\n",
       "      <td>17.5</td>\n",
       "      <td>69</td>\n",
       "      <td>39.7</td>\n",
       "      <td>2.5</td>\n",
       "      <td>17.5</td>\n",
       "      <td>NaN</td>\n",
       "    </tr>\n",
       "    <tr>\n",
       "      <th>9</th>\n",
       "      <td>Тверская область</td>\n",
       "      <td>51</td>\n",
       "      <td>5.9</td>\n",
       "      <td>164</td>\n",
       "      <td>13.1</td>\n",
       "      <td>70</td>\n",
       "      <td>42.7</td>\n",
       "      <td>3.2</td>\n",
       "      <td>19.2</td>\n",
       "      <td>NaN</td>\n",
       "    </tr>\n",
       "  </tbody>\n",
       "</table>\n",
       "</div>"
      ],
      "text/plain": [
       "  СВЕДЕНИЯ О  КОНТИНГЕНТЕ БОЛЬНЫХ СО ЗЛОКАЧЕСТВЕННЫМИ НОВООБРАЗОВАНИЯМИ, СОСТОЯЩЕМ НА УЧЕТЕ В ОНКОЛОГИЧЕСКИХ УЧРЕЖДЕНИЯХ В 2021 Г.\\nГлотка (С10-13)                                                                                               Таблица 29  \\\n",
       "0                          Республика, край, область                                                                                                                                                                                                           \n",
       "1                                                NaN                                                                                                                                                                                                           \n",
       "2                                             РОССИЯ                                                                                                                                                                                                           \n",
       "3                                     ЦЕНТРАЛЬНЫЙ ФО                                                                                                                                                                                                           \n",
       "4                               Белгородская область                                                                                                                                                                                                           \n",
       "5                                   Брянская область                                                                                                                                                                                                           \n",
       "6                               Владимирская область                                                                                                                                                                                                           \n",
       "7                                Воронежская область                                                                                                                                                                                                           \n",
       "8                                 Ивановская область                                                                                                                                                                                                           \n",
       "9                                   Тверская область                                                                                                                                                                                                           \n",
       "\n",
       "                                          Unnamed: 1  \\\n",
       "0  Взято на учет больных с впервые в жизни уст. д...   \n",
       "1                                                NaN   \n",
       "2                                               5097   \n",
       "3                                               1579   \n",
       "4                                                106   \n",
       "5                                                113   \n",
       "6                                                 76   \n",
       "7                                                149   \n",
       "8                                                 71   \n",
       "9                                                 51   \n",
       "\n",
       "                      Unnamed: 2                         Unnamed: 3  \\\n",
       "0  в т.ч. вы- явлены активно,\\n%  Находились на учете на конец года   \n",
       "1                            NaN                 абсолют- ное число   \n",
       "2                              9                              18754   \n",
       "3                            8.4                               6317   \n",
       "4                            5.7                                321   \n",
       "5                           11.5                                242   \n",
       "6                              0                                332   \n",
       "7                            5.4                                477   \n",
       "8                           11.3                                174   \n",
       "9                            5.9                                164   \n",
       "\n",
       "              Unnamed: 4            Unnamed: 5            Unnamed: 6  \\\n",
       "0                    NaN  из них 5 лет и более                   NaN   \n",
       "1  на 100 тыс. населения    абсолют- ное число  %  от сост. на учете   \n",
       "2                   12.8                  8137                  43.4   \n",
       "3                   16.1                  2761                  43.7   \n",
       "4                   20.8                   122                    38   \n",
       "5                   20.4                    70                  28.9   \n",
       "6                   24.6                   137                  41.3   \n",
       "7                   20.6                   185                  38.8   \n",
       "8                   17.5                    69                  39.7   \n",
       "9                   13.1                    70                  42.7   \n",
       "\n",
       "                           Unnamed: 7         Unnamed: 8  Unnamed: 9  \n",
       "0  Индекс на- копления контин- гентов  Леталь- ность,\\n%         NaN  \n",
       "1                                 NaN                NaN         NaN  \n",
       "2                                 3.7               15.3         NaN  \n",
       "3                                   4               13.8         NaN  \n",
       "4                                   3               13.9         NaN  \n",
       "5                                 2.1               25.1         NaN  \n",
       "6                                 4.4                 14         NaN  \n",
       "7                                 3.2               16.5         NaN  \n",
       "8                                 2.5               17.5         NaN  \n",
       "9                                 3.2               19.2         NaN  "
      ]
     },
     "metadata": {},
     "output_type": "display_data"
    },
    {
     "data": {
      "text/html": [
       "<div>\n",
       "<style scoped>\n",
       "    .dataframe tbody tr th:only-of-type {\n",
       "        vertical-align: middle;\n",
       "    }\n",
       "\n",
       "    .dataframe tbody tr th {\n",
       "        vertical-align: top;\n",
       "    }\n",
       "\n",
       "    .dataframe thead th {\n",
       "        text-align: right;\n",
       "    }\n",
       "</style>\n",
       "<table border=\"1\" class=\"dataframe\">\n",
       "  <thead>\n",
       "    <tr style=\"text-align: right;\">\n",
       "      <th></th>\n",
       "      <th>СВЕДЕНИЯ О  КОНТИНГЕНТЕ БОЛЬНЫХ СО ЗЛОКАЧЕСТВЕННЫМИ НОВООБРАЗОВАНИЯМИ, СОСТОЯЩЕМ НА УЧЕТЕ В ОНКОЛОГИЧЕСКИХ УЧРЕЖДЕНИЯХ В 2021 Г.\\nПищевод (С15)                                                                                   Таблица 30</th>\n",
       "      <th>Unnamed: 1</th>\n",
       "      <th>Unnamed: 2</th>\n",
       "      <th>Unnamed: 3</th>\n",
       "      <th>Unnamed: 4</th>\n",
       "      <th>Unnamed: 5</th>\n",
       "      <th>Unnamed: 6</th>\n",
       "      <th>Unnamed: 7</th>\n",
       "      <th>Unnamed: 8</th>\n",
       "      <th>Unnamed: 9</th>\n",
       "    </tr>\n",
       "  </thead>\n",
       "  <tbody>\n",
       "    <tr>\n",
       "      <th>0</th>\n",
       "      <td>Республика, край, область</td>\n",
       "      <td>Взято на учет больных с впервые в жизни уст. д...</td>\n",
       "      <td>в т.ч. вы- явлены активно,\\n%</td>\n",
       "      <td>Находились на учете на конец года</td>\n",
       "      <td>NaN</td>\n",
       "      <td>из них 5 лет и более</td>\n",
       "      <td>NaN</td>\n",
       "      <td>Индекс на- копления контин- гентов</td>\n",
       "      <td>Леталь- ность,\\n%</td>\n",
       "      <td>NaN</td>\n",
       "    </tr>\n",
       "    <tr>\n",
       "      <th>1</th>\n",
       "      <td>NaN</td>\n",
       "      <td>NaN</td>\n",
       "      <td>NaN</td>\n",
       "      <td>абсолют- ное число</td>\n",
       "      <td>на 100 тыс. населения</td>\n",
       "      <td>абсолют- ное число</td>\n",
       "      <td>%  от сост. на учете</td>\n",
       "      <td>NaN</td>\n",
       "      <td>NaN</td>\n",
       "      <td>NaN</td>\n",
       "    </tr>\n",
       "    <tr>\n",
       "      <th>2</th>\n",
       "      <td>РОССИЯ</td>\n",
       "      <td>6455</td>\n",
       "      <td>11</td>\n",
       "      <td>13876</td>\n",
       "      <td>9.5</td>\n",
       "      <td>5313</td>\n",
       "      <td>38.3</td>\n",
       "      <td>2.1</td>\n",
       "      <td>27.1</td>\n",
       "      <td>NaN</td>\n",
       "    </tr>\n",
       "    <tr>\n",
       "      <th>3</th>\n",
       "      <td>ЦЕНТРАЛЬНЫЙ ФО</td>\n",
       "      <td>1491</td>\n",
       "      <td>10.3</td>\n",
       "      <td>3838</td>\n",
       "      <td>9.8</td>\n",
       "      <td>1490</td>\n",
       "      <td>38.8</td>\n",
       "      <td>2.6</td>\n",
       "      <td>22.3</td>\n",
       "      <td>NaN</td>\n",
       "    </tr>\n",
       "    <tr>\n",
       "      <th>4</th>\n",
       "      <td>Белгородская область</td>\n",
       "      <td>75</td>\n",
       "      <td>8</td>\n",
       "      <td>121</td>\n",
       "      <td>7.8</td>\n",
       "      <td>29</td>\n",
       "      <td>24</td>\n",
       "      <td>1.6</td>\n",
       "      <td>23.9</td>\n",
       "      <td>NaN</td>\n",
       "    </tr>\n",
       "    <tr>\n",
       "      <th>5</th>\n",
       "      <td>Брянская область</td>\n",
       "      <td>74</td>\n",
       "      <td>6.8</td>\n",
       "      <td>100</td>\n",
       "      <td>8.4</td>\n",
       "      <td>29</td>\n",
       "      <td>29</td>\n",
       "      <td>1.4</td>\n",
       "      <td>40.8</td>\n",
       "      <td>NaN</td>\n",
       "    </tr>\n",
       "    <tr>\n",
       "      <th>6</th>\n",
       "      <td>Владимирская область</td>\n",
       "      <td>72</td>\n",
       "      <td>4.2</td>\n",
       "      <td>201</td>\n",
       "      <td>14.9</td>\n",
       "      <td>84</td>\n",
       "      <td>41.8</td>\n",
       "      <td>2.8</td>\n",
       "      <td>23</td>\n",
       "      <td>NaN</td>\n",
       "    </tr>\n",
       "    <tr>\n",
       "      <th>7</th>\n",
       "      <td>Воронежская область</td>\n",
       "      <td>64</td>\n",
       "      <td>12.5</td>\n",
       "      <td>159</td>\n",
       "      <td>6.9</td>\n",
       "      <td>59</td>\n",
       "      <td>37.1</td>\n",
       "      <td>2.5</td>\n",
       "      <td>31.5</td>\n",
       "      <td>NaN</td>\n",
       "    </tr>\n",
       "    <tr>\n",
       "      <th>8</th>\n",
       "      <td>Ивановская область</td>\n",
       "      <td>65</td>\n",
       "      <td>18.5</td>\n",
       "      <td>75</td>\n",
       "      <td>7.6</td>\n",
       "      <td>14</td>\n",
       "      <td>18.7</td>\n",
       "      <td>1.2</td>\n",
       "      <td>39.5</td>\n",
       "      <td>NaN</td>\n",
       "    </tr>\n",
       "    <tr>\n",
       "      <th>9</th>\n",
       "      <td>Тверская область</td>\n",
       "      <td>61</td>\n",
       "      <td>6.6</td>\n",
       "      <td>128</td>\n",
       "      <td>10.2</td>\n",
       "      <td>36</td>\n",
       "      <td>28.1</td>\n",
       "      <td>2.1</td>\n",
       "      <td>32.6</td>\n",
       "      <td>NaN</td>\n",
       "    </tr>\n",
       "  </tbody>\n",
       "</table>\n",
       "</div>"
      ],
      "text/plain": [
       "  СВЕДЕНИЯ О  КОНТИНГЕНТЕ БОЛЬНЫХ СО ЗЛОКАЧЕСТВЕННЫМИ НОВООБРАЗОВАНИЯМИ, СОСТОЯЩЕМ НА УЧЕТЕ В ОНКОЛОГИЧЕСКИХ УЧРЕЖДЕНИЯХ В 2021 Г.\\nПищевод (С15)                                                                                   Таблица 30  \\\n",
       "0                          Республика, край, область                                                                                                                                                                                             \n",
       "1                                                NaN                                                                                                                                                                                             \n",
       "2                                             РОССИЯ                                                                                                                                                                                             \n",
       "3                                     ЦЕНТРАЛЬНЫЙ ФО                                                                                                                                                                                             \n",
       "4                               Белгородская область                                                                                                                                                                                             \n",
       "5                                   Брянская область                                                                                                                                                                                             \n",
       "6                               Владимирская область                                                                                                                                                                                             \n",
       "7                                Воронежская область                                                                                                                                                                                             \n",
       "8                                 Ивановская область                                                                                                                                                                                             \n",
       "9                                   Тверская область                                                                                                                                                                                             \n",
       "\n",
       "                                          Unnamed: 1  \\\n",
       "0  Взято на учет больных с впервые в жизни уст. д...   \n",
       "1                                                NaN   \n",
       "2                                               6455   \n",
       "3                                               1491   \n",
       "4                                                 75   \n",
       "5                                                 74   \n",
       "6                                                 72   \n",
       "7                                                 64   \n",
       "8                                                 65   \n",
       "9                                                 61   \n",
       "\n",
       "                      Unnamed: 2                         Unnamed: 3  \\\n",
       "0  в т.ч. вы- явлены активно,\\n%  Находились на учете на конец года   \n",
       "1                            NaN                 абсолют- ное число   \n",
       "2                             11                              13876   \n",
       "3                           10.3                               3838   \n",
       "4                              8                                121   \n",
       "5                            6.8                                100   \n",
       "6                            4.2                                201   \n",
       "7                           12.5                                159   \n",
       "8                           18.5                                 75   \n",
       "9                            6.6                                128   \n",
       "\n",
       "              Unnamed: 4            Unnamed: 5            Unnamed: 6  \\\n",
       "0                    NaN  из них 5 лет и более                   NaN   \n",
       "1  на 100 тыс. населения    абсолют- ное число  %  от сост. на учете   \n",
       "2                    9.5                  5313                  38.3   \n",
       "3                    9.8                  1490                  38.8   \n",
       "4                    7.8                    29                    24   \n",
       "5                    8.4                    29                    29   \n",
       "6                   14.9                    84                  41.8   \n",
       "7                    6.9                    59                  37.1   \n",
       "8                    7.6                    14                  18.7   \n",
       "9                   10.2                    36                  28.1   \n",
       "\n",
       "                           Unnamed: 7         Unnamed: 8  Unnamed: 9  \n",
       "0  Индекс на- копления контин- гентов  Леталь- ность,\\n%         NaN  \n",
       "1                                 NaN                NaN         NaN  \n",
       "2                                 2.1               27.1         NaN  \n",
       "3                                 2.6               22.3         NaN  \n",
       "4                                 1.6               23.9         NaN  \n",
       "5                                 1.4               40.8         NaN  \n",
       "6                                 2.8                 23         NaN  \n",
       "7                                 2.5               31.5         NaN  \n",
       "8                                 1.2               39.5         NaN  \n",
       "9                                 2.1               32.6         NaN  "
      ]
     },
     "metadata": {},
     "output_type": "display_data"
    },
    {
     "data": {
      "text/html": [
       "<div>\n",
       "<style scoped>\n",
       "    .dataframe tbody tr th:only-of-type {\n",
       "        vertical-align: middle;\n",
       "    }\n",
       "\n",
       "    .dataframe tbody tr th {\n",
       "        vertical-align: top;\n",
       "    }\n",
       "\n",
       "    .dataframe thead th {\n",
       "        text-align: right;\n",
       "    }\n",
       "</style>\n",
       "<table border=\"1\" class=\"dataframe\">\n",
       "  <thead>\n",
       "    <tr style=\"text-align: right;\">\n",
       "      <th></th>\n",
       "      <th>СВЕДЕНИЯ О  КОНТИНГЕНТЕ БОЛЬНЫХ СО ЗЛОКАЧЕСТВЕННЫМИ НОВООБРАЗОВАНИЯМИ, СОСТОЯЩЕМ НА УЧЕТЕ В ОНКОЛОГИЧЕСКИХ УЧРЕЖДЕНИЯХ В 2021 Г.\\nЖелудок (С16)                                                            Таблица 31</th>\n",
       "      <th>Unnamed: 1</th>\n",
       "      <th>Unnamed: 2</th>\n",
       "      <th>Unnamed: 3</th>\n",
       "      <th>Unnamed: 4</th>\n",
       "      <th>Unnamed: 5</th>\n",
       "      <th>Unnamed: 6</th>\n",
       "      <th>Unnamed: 7</th>\n",
       "      <th>Unnamed: 8</th>\n",
       "      <th>Unnamed: 9</th>\n",
       "    </tr>\n",
       "  </thead>\n",
       "  <tbody>\n",
       "    <tr>\n",
       "      <th>0</th>\n",
       "      <td>Республика, край, область</td>\n",
       "      <td>Взято на учет больных с впервые в жизни уст. д...</td>\n",
       "      <td>в т.ч. вы- явлены активно,\\n%</td>\n",
       "      <td>Находились на учете на конец года</td>\n",
       "      <td>NaN</td>\n",
       "      <td>из них 5 лет и более</td>\n",
       "      <td>NaN</td>\n",
       "      <td>Индекс на- копления контин- гентов</td>\n",
       "      <td>Леталь- ность,\\n%</td>\n",
       "      <td>NaN</td>\n",
       "    </tr>\n",
       "    <tr>\n",
       "      <th>1</th>\n",
       "      <td>NaN</td>\n",
       "      <td>NaN</td>\n",
       "      <td>NaN</td>\n",
       "      <td>абсолют- ное число</td>\n",
       "      <td>на 100 тыс. населения</td>\n",
       "      <td>абсолют- ное число</td>\n",
       "      <td>%  от сост. на учете</td>\n",
       "      <td>NaN</td>\n",
       "      <td>NaN</td>\n",
       "      <td>NaN</td>\n",
       "    </tr>\n",
       "    <tr>\n",
       "      <th>2</th>\n",
       "      <td>РОССИЯ</td>\n",
       "      <td>26480</td>\n",
       "      <td>13.1</td>\n",
       "      <td>133548</td>\n",
       "      <td>91.2</td>\n",
       "      <td>78108</td>\n",
       "      <td>58.5</td>\n",
       "      <td>5</td>\n",
       "      <td>12.8</td>\n",
       "      <td>NaN</td>\n",
       "    </tr>\n",
       "    <tr>\n",
       "      <th>3</th>\n",
       "      <td>ЦЕНТРАЛЬНЫЙ ФО</td>\n",
       "      <td>7146</td>\n",
       "      <td>13.7</td>\n",
       "      <td>43124</td>\n",
       "      <td>109.6</td>\n",
       "      <td>25718</td>\n",
       "      <td>59.6</td>\n",
       "      <td>6</td>\n",
       "      <td>10.3</td>\n",
       "      <td>NaN</td>\n",
       "    </tr>\n",
       "    <tr>\n",
       "      <th>4</th>\n",
       "      <td>Белгородская область</td>\n",
       "      <td>299</td>\n",
       "      <td>15.1</td>\n",
       "      <td>1212</td>\n",
       "      <td>78.4</td>\n",
       "      <td>651</td>\n",
       "      <td>53.7</td>\n",
       "      <td>4.1</td>\n",
       "      <td>15.4</td>\n",
       "      <td>NaN</td>\n",
       "    </tr>\n",
       "    <tr>\n",
       "      <th>5</th>\n",
       "      <td>Брянская область</td>\n",
       "      <td>319</td>\n",
       "      <td>10.7</td>\n",
       "      <td>1374</td>\n",
       "      <td>115.7</td>\n",
       "      <td>797</td>\n",
       "      <td>58</td>\n",
       "      <td>4.3</td>\n",
       "      <td>15.6</td>\n",
       "      <td>NaN</td>\n",
       "    </tr>\n",
       "    <tr>\n",
       "      <th>6</th>\n",
       "      <td>Владимирская область</td>\n",
       "      <td>336</td>\n",
       "      <td>2.7</td>\n",
       "      <td>1870</td>\n",
       "      <td>138.5</td>\n",
       "      <td>1167</td>\n",
       "      <td>62.4</td>\n",
       "      <td>5.6</td>\n",
       "      <td>11</td>\n",
       "      <td>NaN</td>\n",
       "    </tr>\n",
       "    <tr>\n",
       "      <th>7</th>\n",
       "      <td>Воронежская область</td>\n",
       "      <td>406</td>\n",
       "      <td>13.8</td>\n",
       "      <td>2268</td>\n",
       "      <td>98</td>\n",
       "      <td>1439</td>\n",
       "      <td>63.4</td>\n",
       "      <td>5.6</td>\n",
       "      <td>13</td>\n",
       "      <td>NaN</td>\n",
       "    </tr>\n",
       "    <tr>\n",
       "      <th>8</th>\n",
       "      <td>Ивановская область</td>\n",
       "      <td>250</td>\n",
       "      <td>15.2</td>\n",
       "      <td>1088</td>\n",
       "      <td>109.7</td>\n",
       "      <td>663</td>\n",
       "      <td>60.9</td>\n",
       "      <td>4.4</td>\n",
       "      <td>14.2</td>\n",
       "      <td>NaN</td>\n",
       "    </tr>\n",
       "    <tr>\n",
       "      <th>9</th>\n",
       "      <td>Тверская область</td>\n",
       "      <td>307</td>\n",
       "      <td>9.8</td>\n",
       "      <td>1506</td>\n",
       "      <td>120.2</td>\n",
       "      <td>967</td>\n",
       "      <td>64.2</td>\n",
       "      <td>4.9</td>\n",
       "      <td>14.4</td>\n",
       "      <td>NaN</td>\n",
       "    </tr>\n",
       "  </tbody>\n",
       "</table>\n",
       "</div>"
      ],
      "text/plain": [
       "  СВЕДЕНИЯ О  КОНТИНГЕНТЕ БОЛЬНЫХ СО ЗЛОКАЧЕСТВЕННЫМИ НОВООБРАЗОВАНИЯМИ, СОСТОЯЩЕМ НА УЧЕТЕ В ОНКОЛОГИЧЕСКИХ УЧРЕЖДЕНИЯХ В 2021 Г.\\nЖелудок (С16)                                                            Таблица 31  \\\n",
       "0                          Республика, край, область                                                                                                                                                                      \n",
       "1                                                NaN                                                                                                                                                                      \n",
       "2                                             РОССИЯ                                                                                                                                                                      \n",
       "3                                     ЦЕНТРАЛЬНЫЙ ФО                                                                                                                                                                      \n",
       "4                               Белгородская область                                                                                                                                                                      \n",
       "5                                   Брянская область                                                                                                                                                                      \n",
       "6                               Владимирская область                                                                                                                                                                      \n",
       "7                                Воронежская область                                                                                                                                                                      \n",
       "8                                 Ивановская область                                                                                                                                                                      \n",
       "9                                   Тверская область                                                                                                                                                                      \n",
       "\n",
       "                                          Unnamed: 1  \\\n",
       "0  Взято на учет больных с впервые в жизни уст. д...   \n",
       "1                                                NaN   \n",
       "2                                              26480   \n",
       "3                                               7146   \n",
       "4                                                299   \n",
       "5                                                319   \n",
       "6                                                336   \n",
       "7                                                406   \n",
       "8                                                250   \n",
       "9                                                307   \n",
       "\n",
       "                      Unnamed: 2                         Unnamed: 3  \\\n",
       "0  в т.ч. вы- явлены активно,\\n%  Находились на учете на конец года   \n",
       "1                            NaN                 абсолют- ное число   \n",
       "2                           13.1                             133548   \n",
       "3                           13.7                              43124   \n",
       "4                           15.1                               1212   \n",
       "5                           10.7                               1374   \n",
       "6                            2.7                               1870   \n",
       "7                           13.8                               2268   \n",
       "8                           15.2                               1088   \n",
       "9                            9.8                               1506   \n",
       "\n",
       "              Unnamed: 4            Unnamed: 5            Unnamed: 6  \\\n",
       "0                    NaN  из них 5 лет и более                   NaN   \n",
       "1  на 100 тыс. населения    абсолют- ное число  %  от сост. на учете   \n",
       "2                   91.2                 78108                  58.5   \n",
       "3                  109.6                 25718                  59.6   \n",
       "4                   78.4                   651                  53.7   \n",
       "5                  115.7                   797                    58   \n",
       "6                  138.5                  1167                  62.4   \n",
       "7                     98                  1439                  63.4   \n",
       "8                  109.7                   663                  60.9   \n",
       "9                  120.2                   967                  64.2   \n",
       "\n",
       "                           Unnamed: 7         Unnamed: 8  Unnamed: 9  \n",
       "0  Индекс на- копления контин- гентов  Леталь- ность,\\n%         NaN  \n",
       "1                                 NaN                NaN         NaN  \n",
       "2                                   5               12.8         NaN  \n",
       "3                                   6               10.3         NaN  \n",
       "4                                 4.1               15.4         NaN  \n",
       "5                                 4.3               15.6         NaN  \n",
       "6                                 5.6                 11         NaN  \n",
       "7                                 5.6                 13         NaN  \n",
       "8                                 4.4               14.2         NaN  \n",
       "9                                 4.9               14.4         NaN  "
      ]
     },
     "metadata": {},
     "output_type": "display_data"
    },
    {
     "data": {
      "text/html": [
       "<div>\n",
       "<style scoped>\n",
       "    .dataframe tbody tr th:only-of-type {\n",
       "        vertical-align: middle;\n",
       "    }\n",
       "\n",
       "    .dataframe tbody tr th {\n",
       "        vertical-align: top;\n",
       "    }\n",
       "\n",
       "    .dataframe thead th {\n",
       "        text-align: right;\n",
       "    }\n",
       "</style>\n",
       "<table border=\"1\" class=\"dataframe\">\n",
       "  <thead>\n",
       "    <tr style=\"text-align: right;\">\n",
       "      <th></th>\n",
       "      <th>СВЕДЕНИЯ О  КОНТИНГЕНТЕ БОЛЬНЫХ СО ЗЛОКАЧЕСТВЕННЫМИ НОВООБРАЗОВАНИЯМИ, СОСТОЯЩЕМ НА УЧЕТЕ В ОНКОЛОГИЧЕСКИХ УЧРЕЖДЕНИЯХ В 2021 Г.\\nОбодочная кишка (С18)</th>\n",
       "      <th>Unnamed: 1</th>\n",
       "      <th>Unnamed: 2</th>\n",
       "      <th>Unnamed: 3</th>\n",
       "      <th>Unnamed: 4</th>\n",
       "      <th>Unnamed: 5</th>\n",
       "      <th>Unnamed: 6</th>\n",
       "      <th>Unnamed: 7</th>\n",
       "      <th>Unnamed: 8</th>\n",
       "      <th>Unnamed: 9</th>\n",
       "    </tr>\n",
       "  </thead>\n",
       "  <tbody>\n",
       "    <tr>\n",
       "      <th>0</th>\n",
       "      <td>Республика, край, область</td>\n",
       "      <td>Взято на учет больных с впервые в жизни уст. д...</td>\n",
       "      <td>в т.ч. вы- явлены активно,\\n%</td>\n",
       "      <td>Находились на учете на конец года</td>\n",
       "      <td>NaN</td>\n",
       "      <td>из них 5 лет и более</td>\n",
       "      <td>NaN</td>\n",
       "      <td>Индекс на- копления контин- гентов</td>\n",
       "      <td>Леталь- ность,\\n%</td>\n",
       "      <td>NaN</td>\n",
       "    </tr>\n",
       "    <tr>\n",
       "      <th>1</th>\n",
       "      <td>NaN</td>\n",
       "      <td>NaN</td>\n",
       "      <td>NaN</td>\n",
       "      <td>абсолют- ное число</td>\n",
       "      <td>на 100 тыс. населения</td>\n",
       "      <td>абсолют- ное число</td>\n",
       "      <td>%  от сост. на учете</td>\n",
       "      <td>NaN</td>\n",
       "      <td>NaN</td>\n",
       "      <td>NaN</td>\n",
       "    </tr>\n",
       "    <tr>\n",
       "      <th>2</th>\n",
       "      <td>РОССИЯ</td>\n",
       "      <td>33378</td>\n",
       "      <td>14.3</td>\n",
       "      <td>235782</td>\n",
       "      <td>161</td>\n",
       "      <td>129689</td>\n",
       "      <td>55</td>\n",
       "      <td>7.1</td>\n",
       "      <td>6.8</td>\n",
       "      <td>NaN</td>\n",
       "    </tr>\n",
       "    <tr>\n",
       "      <th>3</th>\n",
       "      <td>ЦЕНТРАЛЬНЫЙ ФО</td>\n",
       "      <td>9056</td>\n",
       "      <td>15.1</td>\n",
       "      <td>71037</td>\n",
       "      <td>180.6</td>\n",
       "      <td>39561</td>\n",
       "      <td>55.7</td>\n",
       "      <td>7.8</td>\n",
       "      <td>5.8</td>\n",
       "      <td>NaN</td>\n",
       "    </tr>\n",
       "    <tr>\n",
       "      <th>4</th>\n",
       "      <td>Белгородская область</td>\n",
       "      <td>367</td>\n",
       "      <td>16.6</td>\n",
       "      <td>2174</td>\n",
       "      <td>140.7</td>\n",
       "      <td>1146</td>\n",
       "      <td>52.7</td>\n",
       "      <td>5.9</td>\n",
       "      <td>7.8</td>\n",
       "      <td>NaN</td>\n",
       "    </tr>\n",
       "    <tr>\n",
       "      <th>5</th>\n",
       "      <td>Брянская область</td>\n",
       "      <td>284</td>\n",
       "      <td>12.7</td>\n",
       "      <td>1799</td>\n",
       "      <td>151.5</td>\n",
       "      <td>935</td>\n",
       "      <td>52</td>\n",
       "      <td>6.3</td>\n",
       "      <td>8.1</td>\n",
       "      <td>NaN</td>\n",
       "    </tr>\n",
       "    <tr>\n",
       "      <th>6</th>\n",
       "      <td>Владимирская область</td>\n",
       "      <td>296</td>\n",
       "      <td>4.4</td>\n",
       "      <td>2744</td>\n",
       "      <td>203.2</td>\n",
       "      <td>1626</td>\n",
       "      <td>59.3</td>\n",
       "      <td>9.3</td>\n",
       "      <td>5.2</td>\n",
       "      <td>NaN</td>\n",
       "    </tr>\n",
       "    <tr>\n",
       "      <th>7</th>\n",
       "      <td>Воронежская область</td>\n",
       "      <td>498</td>\n",
       "      <td>17.5</td>\n",
       "      <td>3843</td>\n",
       "      <td>166</td>\n",
       "      <td>2169</td>\n",
       "      <td>56.4</td>\n",
       "      <td>7.7</td>\n",
       "      <td>6.1</td>\n",
       "      <td>NaN</td>\n",
       "    </tr>\n",
       "    <tr>\n",
       "      <th>8</th>\n",
       "      <td>Ивановская область</td>\n",
       "      <td>312</td>\n",
       "      <td>13.5</td>\n",
       "      <td>2219</td>\n",
       "      <td>223.7</td>\n",
       "      <td>1289</td>\n",
       "      <td>58.1</td>\n",
       "      <td>7.1</td>\n",
       "      <td>6.1</td>\n",
       "      <td>NaN</td>\n",
       "    </tr>\n",
       "    <tr>\n",
       "      <th>9</th>\n",
       "      <td>Тверская область</td>\n",
       "      <td>329</td>\n",
       "      <td>10</td>\n",
       "      <td>2189</td>\n",
       "      <td>174.7</td>\n",
       "      <td>1296</td>\n",
       "      <td>59.2</td>\n",
       "      <td>6.7</td>\n",
       "      <td>7.5</td>\n",
       "      <td>NaN</td>\n",
       "    </tr>\n",
       "  </tbody>\n",
       "</table>\n",
       "</div>"
      ],
      "text/plain": [
       "  СВЕДЕНИЯ О  КОНТИНГЕНТЕ БОЛЬНЫХ СО ЗЛОКАЧЕСТВЕННЫМИ НОВООБРАЗОВАНИЯМИ, СОСТОЯЩЕМ НА УЧЕТЕ В ОНКОЛОГИЧЕСКИХ УЧРЕЖДЕНИЯХ В 2021 Г.\\nОбодочная кишка (С18)  \\\n",
       "0                          Республика, край, область                                                                                                        \n",
       "1                                                NaN                                                                                                        \n",
       "2                                             РОССИЯ                                                                                                        \n",
       "3                                     ЦЕНТРАЛЬНЫЙ ФО                                                                                                        \n",
       "4                               Белгородская область                                                                                                        \n",
       "5                                   Брянская область                                                                                                        \n",
       "6                               Владимирская область                                                                                                        \n",
       "7                                Воронежская область                                                                                                        \n",
       "8                                 Ивановская область                                                                                                        \n",
       "9                                   Тверская область                                                                                                        \n",
       "\n",
       "                                          Unnamed: 1  \\\n",
       "0  Взято на учет больных с впервые в жизни уст. д...   \n",
       "1                                                NaN   \n",
       "2                                              33378   \n",
       "3                                               9056   \n",
       "4                                                367   \n",
       "5                                                284   \n",
       "6                                                296   \n",
       "7                                                498   \n",
       "8                                                312   \n",
       "9                                                329   \n",
       "\n",
       "                      Unnamed: 2                         Unnamed: 3  \\\n",
       "0  в т.ч. вы- явлены активно,\\n%  Находились на учете на конец года   \n",
       "1                            NaN                 абсолют- ное число   \n",
       "2                           14.3                             235782   \n",
       "3                           15.1                              71037   \n",
       "4                           16.6                               2174   \n",
       "5                           12.7                               1799   \n",
       "6                            4.4                               2744   \n",
       "7                           17.5                               3843   \n",
       "8                           13.5                               2219   \n",
       "9                             10                               2189   \n",
       "\n",
       "              Unnamed: 4            Unnamed: 5            Unnamed: 6  \\\n",
       "0                    NaN  из них 5 лет и более                   NaN   \n",
       "1  на 100 тыс. населения    абсолют- ное число  %  от сост. на учете   \n",
       "2                    161                129689                    55   \n",
       "3                  180.6                 39561                  55.7   \n",
       "4                  140.7                  1146                  52.7   \n",
       "5                  151.5                   935                    52   \n",
       "6                  203.2                  1626                  59.3   \n",
       "7                    166                  2169                  56.4   \n",
       "8                  223.7                  1289                  58.1   \n",
       "9                  174.7                  1296                  59.2   \n",
       "\n",
       "                           Unnamed: 7         Unnamed: 8  Unnamed: 9  \n",
       "0  Индекс на- копления контин- гентов  Леталь- ность,\\n%         NaN  \n",
       "1                                 NaN                NaN         NaN  \n",
       "2                                 7.1                6.8         NaN  \n",
       "3                                 7.8                5.8         NaN  \n",
       "4                                 5.9                7.8         NaN  \n",
       "5                                 6.3                8.1         NaN  \n",
       "6                                 9.3                5.2         NaN  \n",
       "7                                 7.7                6.1         NaN  \n",
       "8                                 7.1                6.1         NaN  \n",
       "9                                 6.7                7.5         NaN  "
      ]
     },
     "metadata": {},
     "output_type": "display_data"
    },
    {
     "data": {
      "text/html": [
       "<div>\n",
       "<style scoped>\n",
       "    .dataframe tbody tr th:only-of-type {\n",
       "        vertical-align: middle;\n",
       "    }\n",
       "\n",
       "    .dataframe tbody tr th {\n",
       "        vertical-align: top;\n",
       "    }\n",
       "\n",
       "    .dataframe thead th {\n",
       "        text-align: right;\n",
       "    }\n",
       "</style>\n",
       "<table border=\"1\" class=\"dataframe\">\n",
       "  <thead>\n",
       "    <tr style=\"text-align: right;\">\n",
       "      <th></th>\n",
       "      <th>СВЕДЕНИЯ О  КОНТИНГЕНТЕ БОЛЬНЫХ СО ЗЛОКАЧЕСТВЕННЫМИ НОВООБРАЗОВАНИЯМИ, СОСТОЯЩЕМ НА УЧЕТЕ В ОНКОЛОГИЧЕСКИХ УЧРЕЖДЕНИЯХ В 2021 Г.                                 Таблица 33\\nПрямая кишка, ректосиг. соединение, анус (С19-21)</th>\n",
       "      <th>Unnamed: 1</th>\n",
       "      <th>Unnamed: 2</th>\n",
       "      <th>Unnamed: 3</th>\n",
       "      <th>Unnamed: 4</th>\n",
       "      <th>Unnamed: 5</th>\n",
       "      <th>Unnamed: 6</th>\n",
       "      <th>Unnamed: 7</th>\n",
       "      <th>Unnamed: 8</th>\n",
       "      <th>Unnamed: 9</th>\n",
       "    </tr>\n",
       "  </thead>\n",
       "  <tbody>\n",
       "    <tr>\n",
       "      <th>0</th>\n",
       "      <td>Республика, край, область</td>\n",
       "      <td>Взято на учет больных с впервые в жизни уст. д...</td>\n",
       "      <td>в т.ч. вы- явлены активно,\\n%</td>\n",
       "      <td>Находились на учете на конец года</td>\n",
       "      <td>NaN</td>\n",
       "      <td>из них 5 лет и более</td>\n",
       "      <td>NaN</td>\n",
       "      <td>Индекс на- копления контин- гентов</td>\n",
       "      <td>Леталь- ность,\\n%</td>\n",
       "      <td>NaN</td>\n",
       "    </tr>\n",
       "    <tr>\n",
       "      <th>1</th>\n",
       "      <td>NaN</td>\n",
       "      <td>NaN</td>\n",
       "      <td>NaN</td>\n",
       "      <td>абсолют- ное число</td>\n",
       "      <td>на 100 тыс. населения</td>\n",
       "      <td>абсолют- ное число</td>\n",
       "      <td>%  от сост. на учете</td>\n",
       "      <td>NaN</td>\n",
       "      <td>NaN</td>\n",
       "      <td>NaN</td>\n",
       "    </tr>\n",
       "    <tr>\n",
       "      <th>2</th>\n",
       "      <td>РОССИЯ</td>\n",
       "      <td>25753</td>\n",
       "      <td>18.5</td>\n",
       "      <td>177392</td>\n",
       "      <td>121.1</td>\n",
       "      <td>96036</td>\n",
       "      <td>54.1</td>\n",
       "      <td>6.9</td>\n",
       "      <td>7</td>\n",
       "      <td>NaN</td>\n",
       "    </tr>\n",
       "    <tr>\n",
       "      <th>3</th>\n",
       "      <td>ЦЕНТРАЛЬНЫЙ ФО</td>\n",
       "      <td>6580</td>\n",
       "      <td>19.3</td>\n",
       "      <td>50099</td>\n",
       "      <td>127.3</td>\n",
       "      <td>27638</td>\n",
       "      <td>55.2</td>\n",
       "      <td>7.6</td>\n",
       "      <td>5.8</td>\n",
       "      <td>NaN</td>\n",
       "    </tr>\n",
       "    <tr>\n",
       "      <th>4</th>\n",
       "      <td>Белгородская область</td>\n",
       "      <td>291</td>\n",
       "      <td>17.9</td>\n",
       "      <td>1828</td>\n",
       "      <td>118.3</td>\n",
       "      <td>997</td>\n",
       "      <td>54.5</td>\n",
       "      <td>6.3</td>\n",
       "      <td>6.9</td>\n",
       "      <td>NaN</td>\n",
       "    </tr>\n",
       "    <tr>\n",
       "      <th>5</th>\n",
       "      <td>Брянская область</td>\n",
       "      <td>294</td>\n",
       "      <td>20.4</td>\n",
       "      <td>1802</td>\n",
       "      <td>151.7</td>\n",
       "      <td>891</td>\n",
       "      <td>49.4</td>\n",
       "      <td>6.1</td>\n",
       "      <td>7.9</td>\n",
       "      <td>NaN</td>\n",
       "    </tr>\n",
       "    <tr>\n",
       "      <th>6</th>\n",
       "      <td>Владимирская область</td>\n",
       "      <td>255</td>\n",
       "      <td>4.3</td>\n",
       "      <td>2057</td>\n",
       "      <td>152.3</td>\n",
       "      <td>1198</td>\n",
       "      <td>58.2</td>\n",
       "      <td>8.1</td>\n",
       "      <td>5.6</td>\n",
       "      <td>NaN</td>\n",
       "    </tr>\n",
       "    <tr>\n",
       "      <th>7</th>\n",
       "      <td>Воронежская область</td>\n",
       "      <td>391</td>\n",
       "      <td>21.2</td>\n",
       "      <td>2852</td>\n",
       "      <td>123.2</td>\n",
       "      <td>1570</td>\n",
       "      <td>55</td>\n",
       "      <td>7.3</td>\n",
       "      <td>7.1</td>\n",
       "      <td>NaN</td>\n",
       "    </tr>\n",
       "    <tr>\n",
       "      <th>8</th>\n",
       "      <td>Ивановская область</td>\n",
       "      <td>248</td>\n",
       "      <td>26.6</td>\n",
       "      <td>1491</td>\n",
       "      <td>150.3</td>\n",
       "      <td>781</td>\n",
       "      <td>52.4</td>\n",
       "      <td>6</td>\n",
       "      <td>6.1</td>\n",
       "      <td>NaN</td>\n",
       "    </tr>\n",
       "    <tr>\n",
       "      <th>9</th>\n",
       "      <td>Тверская область</td>\n",
       "      <td>243</td>\n",
       "      <td>15.6</td>\n",
       "      <td>1807</td>\n",
       "      <td>144.2</td>\n",
       "      <td>1070</td>\n",
       "      <td>59.2</td>\n",
       "      <td>7.4</td>\n",
       "      <td>7.1</td>\n",
       "      <td>NaN</td>\n",
       "    </tr>\n",
       "  </tbody>\n",
       "</table>\n",
       "</div>"
      ],
      "text/plain": [
       "  СВЕДЕНИЯ О  КОНТИНГЕНТЕ БОЛЬНЫХ СО ЗЛОКАЧЕСТВЕННЫМИ НОВООБРАЗОВАНИЯМИ, СОСТОЯЩЕМ НА УЧЕТЕ В ОНКОЛОГИЧЕСКИХ УЧРЕЖДЕНИЯХ В 2021 Г.                                 Таблица 33\\nПрямая кишка, ректосиг. соединение, анус (С19-21)  \\\n",
       "0                          Республика, край, область                                                                                                                                                                               \n",
       "1                                                NaN                                                                                                                                                                               \n",
       "2                                             РОССИЯ                                                                                                                                                                               \n",
       "3                                     ЦЕНТРАЛЬНЫЙ ФО                                                                                                                                                                               \n",
       "4                               Белгородская область                                                                                                                                                                               \n",
       "5                                   Брянская область                                                                                                                                                                               \n",
       "6                               Владимирская область                                                                                                                                                                               \n",
       "7                                Воронежская область                                                                                                                                                                               \n",
       "8                                 Ивановская область                                                                                                                                                                               \n",
       "9                                   Тверская область                                                                                                                                                                               \n",
       "\n",
       "                                          Unnamed: 1  \\\n",
       "0  Взято на учет больных с впервые в жизни уст. д...   \n",
       "1                                                NaN   \n",
       "2                                              25753   \n",
       "3                                               6580   \n",
       "4                                                291   \n",
       "5                                                294   \n",
       "6                                                255   \n",
       "7                                                391   \n",
       "8                                                248   \n",
       "9                                                243   \n",
       "\n",
       "                      Unnamed: 2                         Unnamed: 3  \\\n",
       "0  в т.ч. вы- явлены активно,\\n%  Находились на учете на конец года   \n",
       "1                            NaN                 абсолют- ное число   \n",
       "2                           18.5                             177392   \n",
       "3                           19.3                              50099   \n",
       "4                           17.9                               1828   \n",
       "5                           20.4                               1802   \n",
       "6                            4.3                               2057   \n",
       "7                           21.2                               2852   \n",
       "8                           26.6                               1491   \n",
       "9                           15.6                               1807   \n",
       "\n",
       "              Unnamed: 4            Unnamed: 5            Unnamed: 6  \\\n",
       "0                    NaN  из них 5 лет и более                   NaN   \n",
       "1  на 100 тыс. населения    абсолют- ное число  %  от сост. на учете   \n",
       "2                  121.1                 96036                  54.1   \n",
       "3                  127.3                 27638                  55.2   \n",
       "4                  118.3                   997                  54.5   \n",
       "5                  151.7                   891                  49.4   \n",
       "6                  152.3                  1198                  58.2   \n",
       "7                  123.2                  1570                    55   \n",
       "8                  150.3                   781                  52.4   \n",
       "9                  144.2                  1070                  59.2   \n",
       "\n",
       "                           Unnamed: 7         Unnamed: 8  Unnamed: 9  \n",
       "0  Индекс на- копления контин- гентов  Леталь- ность,\\n%         NaN  \n",
       "1                                 NaN                NaN         NaN  \n",
       "2                                 6.9                  7         NaN  \n",
       "3                                 7.6                5.8         NaN  \n",
       "4                                 6.3                6.9         NaN  \n",
       "5                                 6.1                7.9         NaN  \n",
       "6                                 8.1                5.6         NaN  \n",
       "7                                 7.3                7.1         NaN  \n",
       "8                                   6                6.1         NaN  \n",
       "9                                 7.4                7.1         NaN  "
      ]
     },
     "metadata": {},
     "output_type": "display_data"
    },
    {
     "data": {
      "text/html": [
       "<div>\n",
       "<style scoped>\n",
       "    .dataframe tbody tr th:only-of-type {\n",
       "        vertical-align: middle;\n",
       "    }\n",
       "\n",
       "    .dataframe tbody tr th {\n",
       "        vertical-align: top;\n",
       "    }\n",
       "\n",
       "    .dataframe thead th {\n",
       "        text-align: right;\n",
       "    }\n",
       "</style>\n",
       "<table border=\"1\" class=\"dataframe\">\n",
       "  <thead>\n",
       "    <tr style=\"text-align: right;\">\n",
       "      <th></th>\n",
       "      <th>СВЕДЕНИЯ О  КОНТИНГЕНТЕ БОЛЬНЫХ СО ЗЛОКАЧЕСТВЕННЫМИ НОВООБРАЗОВАНИЯМИ, СОСТОЯЩЕМ НА УЧЕТЕ В ОНКОЛОГИЧЕСКИХ УЧРЕЖДЕНИЯХ В 2021 Г.                               Таблица 34 \\nПечень и внутрипеченочные желчные протоки (С22)</th>\n",
       "      <th>Unnamed: 1</th>\n",
       "      <th>Unnamed: 2</th>\n",
       "      <th>Unnamed: 3</th>\n",
       "      <th>Unnamed: 4</th>\n",
       "      <th>Unnamed: 5</th>\n",
       "      <th>Unnamed: 6</th>\n",
       "      <th>Unnamed: 7</th>\n",
       "      <th>Unnamed: 8</th>\n",
       "      <th>Unnamed: 9</th>\n",
       "    </tr>\n",
       "  </thead>\n",
       "  <tbody>\n",
       "    <tr>\n",
       "      <th>0</th>\n",
       "      <td>Республика, край, область</td>\n",
       "      <td>Взято на учет больных с впервые в жизни уст. д...</td>\n",
       "      <td>в т.ч. вы- явлены активно,\\n%</td>\n",
       "      <td>Находились на учете на конец года</td>\n",
       "      <td>NaN</td>\n",
       "      <td>из них 5 лет и более</td>\n",
       "      <td>NaN</td>\n",
       "      <td>Индекс на- копления контин- гентов</td>\n",
       "      <td>Леталь- ность,\\n%</td>\n",
       "      <td>NaN</td>\n",
       "    </tr>\n",
       "    <tr>\n",
       "      <th>1</th>\n",
       "      <td>NaN</td>\n",
       "      <td>NaN</td>\n",
       "      <td>NaN</td>\n",
       "      <td>абсолют- ное число</td>\n",
       "      <td>на 100 тыс. населения</td>\n",
       "      <td>абсолют- ное число</td>\n",
       "      <td>%  от сост. на учете</td>\n",
       "      <td>NaN</td>\n",
       "      <td>NaN</td>\n",
       "      <td>NaN</td>\n",
       "    </tr>\n",
       "    <tr>\n",
       "      <th>2</th>\n",
       "      <td>РОССИЯ</td>\n",
       "      <td>5490</td>\n",
       "      <td>7.3</td>\n",
       "      <td>8970</td>\n",
       "      <td>6.1</td>\n",
       "      <td>3110</td>\n",
       "      <td>34.7</td>\n",
       "      <td>1.6</td>\n",
       "      <td>36</td>\n",
       "      <td>NaN</td>\n",
       "    </tr>\n",
       "    <tr>\n",
       "      <th>3</th>\n",
       "      <td>ЦЕНТРАЛЬНЫЙ ФО</td>\n",
       "      <td>1102</td>\n",
       "      <td>6.1</td>\n",
       "      <td>2545</td>\n",
       "      <td>6.5</td>\n",
       "      <td>848</td>\n",
       "      <td>33.3</td>\n",
       "      <td>2.3</td>\n",
       "      <td>25</td>\n",
       "      <td>NaN</td>\n",
       "    </tr>\n",
       "    <tr>\n",
       "      <th>4</th>\n",
       "      <td>Белгородская область</td>\n",
       "      <td>35</td>\n",
       "      <td>8.6</td>\n",
       "      <td>61</td>\n",
       "      <td>3.9</td>\n",
       "      <td>12</td>\n",
       "      <td>19.7</td>\n",
       "      <td>1.7</td>\n",
       "      <td>37.8</td>\n",
       "      <td>NaN</td>\n",
       "    </tr>\n",
       "    <tr>\n",
       "      <th>5</th>\n",
       "      <td>Брянская область</td>\n",
       "      <td>72</td>\n",
       "      <td>0</td>\n",
       "      <td>64</td>\n",
       "      <td>5.4</td>\n",
       "      <td>21</td>\n",
       "      <td>32.8</td>\n",
       "      <td>0.9</td>\n",
       "      <td>51.9</td>\n",
       "      <td>NaN</td>\n",
       "    </tr>\n",
       "    <tr>\n",
       "      <th>6</th>\n",
       "      <td>Владимирская область</td>\n",
       "      <td>43</td>\n",
       "      <td>4.7</td>\n",
       "      <td>102</td>\n",
       "      <td>7.6</td>\n",
       "      <td>30</td>\n",
       "      <td>29.4</td>\n",
       "      <td>2.4</td>\n",
       "      <td>19</td>\n",
       "      <td>NaN</td>\n",
       "    </tr>\n",
       "    <tr>\n",
       "      <th>7</th>\n",
       "      <td>Воронежская область</td>\n",
       "      <td>70</td>\n",
       "      <td>4.3</td>\n",
       "      <td>113</td>\n",
       "      <td>4.9</td>\n",
       "      <td>32</td>\n",
       "      <td>28.3</td>\n",
       "      <td>1.6</td>\n",
       "      <td>28.5</td>\n",
       "      <td>NaN</td>\n",
       "    </tr>\n",
       "    <tr>\n",
       "      <th>8</th>\n",
       "      <td>Ивановская область</td>\n",
       "      <td>33</td>\n",
       "      <td>6.1</td>\n",
       "      <td>30</td>\n",
       "      <td>3</td>\n",
       "      <td>5</td>\n",
       "      <td>16.7</td>\n",
       "      <td>0.9</td>\n",
       "      <td>49.2</td>\n",
       "      <td>NaN</td>\n",
       "    </tr>\n",
       "    <tr>\n",
       "      <th>9</th>\n",
       "      <td>Тверская область</td>\n",
       "      <td>62</td>\n",
       "      <td>6.5</td>\n",
       "      <td>62</td>\n",
       "      <td>4.9</td>\n",
       "      <td>8</td>\n",
       "      <td>12.9</td>\n",
       "      <td>1</td>\n",
       "      <td>46.1</td>\n",
       "      <td>NaN</td>\n",
       "    </tr>\n",
       "  </tbody>\n",
       "</table>\n",
       "</div>"
      ],
      "text/plain": [
       "  СВЕДЕНИЯ О  КОНТИНГЕНТЕ БОЛЬНЫХ СО ЗЛОКАЧЕСТВЕННЫМИ НОВООБРАЗОВАНИЯМИ, СОСТОЯЩЕМ НА УЧЕТЕ В ОНКОЛОГИЧЕСКИХ УЧРЕЖДЕНИЯХ В 2021 Г.                               Таблица 34 \\nПечень и внутрипеченочные желчные протоки (С22)  \\\n",
       "0                          Республика, край, область                                                                                                                                                                            \n",
       "1                                                NaN                                                                                                                                                                            \n",
       "2                                             РОССИЯ                                                                                                                                                                            \n",
       "3                                     ЦЕНТРАЛЬНЫЙ ФО                                                                                                                                                                            \n",
       "4                               Белгородская область                                                                                                                                                                            \n",
       "5                                   Брянская область                                                                                                                                                                            \n",
       "6                               Владимирская область                                                                                                                                                                            \n",
       "7                                Воронежская область                                                                                                                                                                            \n",
       "8                                 Ивановская область                                                                                                                                                                            \n",
       "9                                   Тверская область                                                                                                                                                                            \n",
       "\n",
       "                                          Unnamed: 1  \\\n",
       "0  Взято на учет больных с впервые в жизни уст. д...   \n",
       "1                                                NaN   \n",
       "2                                               5490   \n",
       "3                                               1102   \n",
       "4                                                 35   \n",
       "5                                                 72   \n",
       "6                                                 43   \n",
       "7                                                 70   \n",
       "8                                                 33   \n",
       "9                                                 62   \n",
       "\n",
       "                      Unnamed: 2                         Unnamed: 3  \\\n",
       "0  в т.ч. вы- явлены активно,\\n%  Находились на учете на конец года   \n",
       "1                            NaN                 абсолют- ное число   \n",
       "2                            7.3                               8970   \n",
       "3                            6.1                               2545   \n",
       "4                            8.6                                 61   \n",
       "5                              0                                 64   \n",
       "6                            4.7                                102   \n",
       "7                            4.3                                113   \n",
       "8                            6.1                                 30   \n",
       "9                            6.5                                 62   \n",
       "\n",
       "              Unnamed: 4            Unnamed: 5            Unnamed: 6  \\\n",
       "0                    NaN  из них 5 лет и более                   NaN   \n",
       "1  на 100 тыс. населения    абсолют- ное число  %  от сост. на учете   \n",
       "2                    6.1                  3110                  34.7   \n",
       "3                    6.5                   848                  33.3   \n",
       "4                    3.9                    12                  19.7   \n",
       "5                    5.4                    21                  32.8   \n",
       "6                    7.6                    30                  29.4   \n",
       "7                    4.9                    32                  28.3   \n",
       "8                      3                     5                  16.7   \n",
       "9                    4.9                     8                  12.9   \n",
       "\n",
       "                           Unnamed: 7         Unnamed: 8  Unnamed: 9  \n",
       "0  Индекс на- копления контин- гентов  Леталь- ность,\\n%         NaN  \n",
       "1                                 NaN                NaN         NaN  \n",
       "2                                 1.6                 36         NaN  \n",
       "3                                 2.3                 25         NaN  \n",
       "4                                 1.7               37.8         NaN  \n",
       "5                                 0.9               51.9         NaN  \n",
       "6                                 2.4                 19         NaN  \n",
       "7                                 1.6               28.5         NaN  \n",
       "8                                 0.9               49.2         NaN  \n",
       "9                                   1               46.1         NaN  "
      ]
     },
     "metadata": {},
     "output_type": "display_data"
    },
    {
     "data": {
      "text/html": [
       "<div>\n",
       "<style scoped>\n",
       "    .dataframe tbody tr th:only-of-type {\n",
       "        vertical-align: middle;\n",
       "    }\n",
       "\n",
       "    .dataframe tbody tr th {\n",
       "        vertical-align: top;\n",
       "    }\n",
       "\n",
       "    .dataframe thead th {\n",
       "        text-align: right;\n",
       "    }\n",
       "</style>\n",
       "<table border=\"1\" class=\"dataframe\">\n",
       "  <thead>\n",
       "    <tr style=\"text-align: right;\">\n",
       "      <th></th>\n",
       "      <th>СВЕДЕНИЯ О  КОНТИНГЕНТЕ БОЛЬНЫХ СО ЗЛОКАЧЕСТВЕННЫМИ НОВООБРАЗОВАНИЯМИ, СОСТОЯЩЕМ НА УЧЕТЕ В ОНКОЛОГИЧЕСКИХ УЧРЕЖДЕНИЯХ В 2021 Г.                                 Таблица 35\\nПоджелудочная железа (С25)</th>\n",
       "      <th>Unnamed: 1</th>\n",
       "      <th>Unnamed: 2</th>\n",
       "      <th>Unnamed: 3</th>\n",
       "      <th>Unnamed: 4</th>\n",
       "      <th>Unnamed: 5</th>\n",
       "      <th>Unnamed: 6</th>\n",
       "      <th>Unnamed: 7</th>\n",
       "      <th>Unnamed: 8</th>\n",
       "      <th>Unnamed: 9</th>\n",
       "    </tr>\n",
       "  </thead>\n",
       "  <tbody>\n",
       "    <tr>\n",
       "      <th>0</th>\n",
       "      <td>Республика, край, область</td>\n",
       "      <td>Взято на учет больных с впервые в жизни уст. д...</td>\n",
       "      <td>в т.ч. вы- явлены активно,\\n%</td>\n",
       "      <td>Находились на учете на конец года</td>\n",
       "      <td>NaN</td>\n",
       "      <td>из них 5 лет и более</td>\n",
       "      <td>NaN</td>\n",
       "      <td>Индекс на- копления контин- гентов</td>\n",
       "      <td>Леталь- ность,\\n%</td>\n",
       "      <td>NaN</td>\n",
       "    </tr>\n",
       "    <tr>\n",
       "      <th>1</th>\n",
       "      <td>NaN</td>\n",
       "      <td>NaN</td>\n",
       "      <td>NaN</td>\n",
       "      <td>абсолют- ное число</td>\n",
       "      <td>на 100 тыс. населения</td>\n",
       "      <td>абсолют- ное число</td>\n",
       "      <td>%  от сост. на учете</td>\n",
       "      <td>NaN</td>\n",
       "      <td>NaN</td>\n",
       "      <td>NaN</td>\n",
       "    </tr>\n",
       "    <tr>\n",
       "      <th>2</th>\n",
       "      <td>РОССИЯ</td>\n",
       "      <td>13845</td>\n",
       "      <td>5.8</td>\n",
       "      <td>20630</td>\n",
       "      <td>14.1</td>\n",
       "      <td>6951</td>\n",
       "      <td>33.7</td>\n",
       "      <td>1.5</td>\n",
       "      <td>38.1</td>\n",
       "      <td>NaN</td>\n",
       "    </tr>\n",
       "    <tr>\n",
       "      <th>3</th>\n",
       "      <td>ЦЕНТРАЛЬНЫЙ ФО</td>\n",
       "      <td>3605</td>\n",
       "      <td>5.9</td>\n",
       "      <td>6479</td>\n",
       "      <td>16.5</td>\n",
       "      <td>2070</td>\n",
       "      <td>31.9</td>\n",
       "      <td>1.8</td>\n",
       "      <td>32.6</td>\n",
       "      <td>NaN</td>\n",
       "    </tr>\n",
       "    <tr>\n",
       "      <th>4</th>\n",
       "      <td>Белгородская область</td>\n",
       "      <td>152</td>\n",
       "      <td>3.9</td>\n",
       "      <td>168</td>\n",
       "      <td>10.9</td>\n",
       "      <td>44</td>\n",
       "      <td>26.2</td>\n",
       "      <td>1.1</td>\n",
       "      <td>41.1</td>\n",
       "      <td>NaN</td>\n",
       "    </tr>\n",
       "    <tr>\n",
       "      <th>5</th>\n",
       "      <td>Брянская область</td>\n",
       "      <td>157</td>\n",
       "      <td>5.1</td>\n",
       "      <td>125</td>\n",
       "      <td>10.5</td>\n",
       "      <td>37</td>\n",
       "      <td>29.6</td>\n",
       "      <td>0.8</td>\n",
       "      <td>56.9</td>\n",
       "      <td>NaN</td>\n",
       "    </tr>\n",
       "    <tr>\n",
       "      <th>6</th>\n",
       "      <td>Владимирская область</td>\n",
       "      <td>131</td>\n",
       "      <td>0.8</td>\n",
       "      <td>240</td>\n",
       "      <td>17.8</td>\n",
       "      <td>78</td>\n",
       "      <td>32.5</td>\n",
       "      <td>1.8</td>\n",
       "      <td>30.6</td>\n",
       "      <td>NaN</td>\n",
       "    </tr>\n",
       "    <tr>\n",
       "      <th>7</th>\n",
       "      <td>Воронежская область</td>\n",
       "      <td>232</td>\n",
       "      <td>3</td>\n",
       "      <td>322</td>\n",
       "      <td>13.9</td>\n",
       "      <td>86</td>\n",
       "      <td>26.7</td>\n",
       "      <td>1.4</td>\n",
       "      <td>40</td>\n",
       "      <td>NaN</td>\n",
       "    </tr>\n",
       "    <tr>\n",
       "      <th>8</th>\n",
       "      <td>Ивановская область</td>\n",
       "      <td>124</td>\n",
       "      <td>7.3</td>\n",
       "      <td>114</td>\n",
       "      <td>11.5</td>\n",
       "      <td>23</td>\n",
       "      <td>20.2</td>\n",
       "      <td>0.9</td>\n",
       "      <td>49.1</td>\n",
       "      <td>NaN</td>\n",
       "    </tr>\n",
       "    <tr>\n",
       "      <th>9</th>\n",
       "      <td>Тверская область</td>\n",
       "      <td>155</td>\n",
       "      <td>7.1</td>\n",
       "      <td>143</td>\n",
       "      <td>11.4</td>\n",
       "      <td>39</td>\n",
       "      <td>27.3</td>\n",
       "      <td>0.9</td>\n",
       "      <td>51.4</td>\n",
       "      <td>NaN</td>\n",
       "    </tr>\n",
       "  </tbody>\n",
       "</table>\n",
       "</div>"
      ],
      "text/plain": [
       "  СВЕДЕНИЯ О  КОНТИНГЕНТЕ БОЛЬНЫХ СО ЗЛОКАЧЕСТВЕННЫМИ НОВООБРАЗОВАНИЯМИ, СОСТОЯЩЕМ НА УЧЕТЕ В ОНКОЛОГИЧЕСКИХ УЧРЕЖДЕНИЯХ В 2021 Г.                                 Таблица 35\\nПоджелудочная железа (С25)  \\\n",
       "0                          Республика, край, область                                                                                                                                                        \n",
       "1                                                NaN                                                                                                                                                        \n",
       "2                                             РОССИЯ                                                                                                                                                        \n",
       "3                                     ЦЕНТРАЛЬНЫЙ ФО                                                                                                                                                        \n",
       "4                               Белгородская область                                                                                                                                                        \n",
       "5                                   Брянская область                                                                                                                                                        \n",
       "6                               Владимирская область                                                                                                                                                        \n",
       "7                                Воронежская область                                                                                                                                                        \n",
       "8                                 Ивановская область                                                                                                                                                        \n",
       "9                                   Тверская область                                                                                                                                                        \n",
       "\n",
       "                                          Unnamed: 1  \\\n",
       "0  Взято на учет больных с впервые в жизни уст. д...   \n",
       "1                                                NaN   \n",
       "2                                              13845   \n",
       "3                                               3605   \n",
       "4                                                152   \n",
       "5                                                157   \n",
       "6                                                131   \n",
       "7                                                232   \n",
       "8                                                124   \n",
       "9                                                155   \n",
       "\n",
       "                      Unnamed: 2                         Unnamed: 3  \\\n",
       "0  в т.ч. вы- явлены активно,\\n%  Находились на учете на конец года   \n",
       "1                            NaN                 абсолют- ное число   \n",
       "2                            5.8                              20630   \n",
       "3                            5.9                               6479   \n",
       "4                            3.9                                168   \n",
       "5                            5.1                                125   \n",
       "6                            0.8                                240   \n",
       "7                              3                                322   \n",
       "8                            7.3                                114   \n",
       "9                            7.1                                143   \n",
       "\n",
       "              Unnamed: 4            Unnamed: 5            Unnamed: 6  \\\n",
       "0                    NaN  из них 5 лет и более                   NaN   \n",
       "1  на 100 тыс. населения    абсолют- ное число  %  от сост. на учете   \n",
       "2                   14.1                  6951                  33.7   \n",
       "3                   16.5                  2070                  31.9   \n",
       "4                   10.9                    44                  26.2   \n",
       "5                   10.5                    37                  29.6   \n",
       "6                   17.8                    78                  32.5   \n",
       "7                   13.9                    86                  26.7   \n",
       "8                   11.5                    23                  20.2   \n",
       "9                   11.4                    39                  27.3   \n",
       "\n",
       "                           Unnamed: 7         Unnamed: 8  Unnamed: 9  \n",
       "0  Индекс на- копления контин- гентов  Леталь- ность,\\n%         NaN  \n",
       "1                                 NaN                NaN         NaN  \n",
       "2                                 1.5               38.1         NaN  \n",
       "3                                 1.8               32.6         NaN  \n",
       "4                                 1.1               41.1         NaN  \n",
       "5                                 0.8               56.9         NaN  \n",
       "6                                 1.8               30.6         NaN  \n",
       "7                                 1.4                 40         NaN  \n",
       "8                                 0.9               49.1         NaN  \n",
       "9                                 0.9               51.4         NaN  "
      ]
     },
     "metadata": {},
     "output_type": "display_data"
    },
    {
     "data": {
      "text/html": [
       "<div>\n",
       "<style scoped>\n",
       "    .dataframe tbody tr th:only-of-type {\n",
       "        vertical-align: middle;\n",
       "    }\n",
       "\n",
       "    .dataframe tbody tr th {\n",
       "        vertical-align: top;\n",
       "    }\n",
       "\n",
       "    .dataframe thead th {\n",
       "        text-align: right;\n",
       "    }\n",
       "</style>\n",
       "<table border=\"1\" class=\"dataframe\">\n",
       "  <thead>\n",
       "    <tr style=\"text-align: right;\">\n",
       "      <th></th>\n",
       "      <th>СВЕДЕНИЯ О  КОНТИНГЕНТЕ БОЛЬНЫХ СО ЗЛОКАЧЕСТВЕННЫМИ НОВООБРАЗОВАНИЯМИ, СОСТОЯЩЕМ НА УЧЕТЕ В ОНКОЛОГИЧЕСКИХ УЧРЕЖДЕНИЯХ В 2021 Г.                            Таблица 36\\nГортань (С32)</th>\n",
       "      <th>Unnamed: 1</th>\n",
       "      <th>Unnamed: 2</th>\n",
       "      <th>Unnamed: 3</th>\n",
       "      <th>Unnamed: 4</th>\n",
       "      <th>Unnamed: 5</th>\n",
       "      <th>Unnamed: 6</th>\n",
       "      <th>Unnamed: 7</th>\n",
       "      <th>Unnamed: 8</th>\n",
       "      <th>Unnamed: 9</th>\n",
       "    </tr>\n",
       "  </thead>\n",
       "  <tbody>\n",
       "    <tr>\n",
       "      <th>0</th>\n",
       "      <td>Республика, край, область</td>\n",
       "      <td>Взято на учет больных с впервые в жизни уст. д...</td>\n",
       "      <td>в т.ч. вы- явлены активно,\\n%</td>\n",
       "      <td>Находились на учете на конец года</td>\n",
       "      <td>NaN</td>\n",
       "      <td>из них 5 лет и более</td>\n",
       "      <td>NaN</td>\n",
       "      <td>Индекс на- копления контин- гентов</td>\n",
       "      <td>Леталь- ность,\\n%</td>\n",
       "      <td>NaN</td>\n",
       "    </tr>\n",
       "    <tr>\n",
       "      <th>1</th>\n",
       "      <td>NaN</td>\n",
       "      <td>NaN</td>\n",
       "      <td>NaN</td>\n",
       "      <td>абсолют- ное число</td>\n",
       "      <td>на 100 тыс. населения</td>\n",
       "      <td>абсолют- ное число</td>\n",
       "      <td>%  от сост. на учете</td>\n",
       "      <td>NaN</td>\n",
       "      <td>NaN</td>\n",
       "      <td>NaN</td>\n",
       "    </tr>\n",
       "    <tr>\n",
       "      <th>2</th>\n",
       "      <td>РОССИЯ</td>\n",
       "      <td>5563</td>\n",
       "      <td>13.2</td>\n",
       "      <td>42687</td>\n",
       "      <td>29.1</td>\n",
       "      <td>24818</td>\n",
       "      <td>58.1</td>\n",
       "      <td>7.7</td>\n",
       "      <td>6.5</td>\n",
       "      <td>NaN</td>\n",
       "    </tr>\n",
       "    <tr>\n",
       "      <th>3</th>\n",
       "      <td>ЦЕНТРАЛЬНЫЙ ФО</td>\n",
       "      <td>1389</td>\n",
       "      <td>10.4</td>\n",
       "      <td>12268</td>\n",
       "      <td>31.2</td>\n",
       "      <td>7164</td>\n",
       "      <td>58.4</td>\n",
       "      <td>8.8</td>\n",
       "      <td>5.7</td>\n",
       "      <td>NaN</td>\n",
       "    </tr>\n",
       "    <tr>\n",
       "      <th>4</th>\n",
       "      <td>Белгородская область</td>\n",
       "      <td>71</td>\n",
       "      <td>14.1</td>\n",
       "      <td>547</td>\n",
       "      <td>35.4</td>\n",
       "      <td>302</td>\n",
       "      <td>55.2</td>\n",
       "      <td>7.7</td>\n",
       "      <td>7.6</td>\n",
       "      <td>NaN</td>\n",
       "    </tr>\n",
       "    <tr>\n",
       "      <th>5</th>\n",
       "      <td>Брянская область</td>\n",
       "      <td>70</td>\n",
       "      <td>8.6</td>\n",
       "      <td>444</td>\n",
       "      <td>37.4</td>\n",
       "      <td>244</td>\n",
       "      <td>55</td>\n",
       "      <td>6.3</td>\n",
       "      <td>7.3</td>\n",
       "      <td>NaN</td>\n",
       "    </tr>\n",
       "    <tr>\n",
       "      <th>6</th>\n",
       "      <td>Владимирская область</td>\n",
       "      <td>79</td>\n",
       "      <td>6.3</td>\n",
       "      <td>643</td>\n",
       "      <td>47.6</td>\n",
       "      <td>370</td>\n",
       "      <td>57.5</td>\n",
       "      <td>8.1</td>\n",
       "      <td>4.7</td>\n",
       "      <td>NaN</td>\n",
       "    </tr>\n",
       "    <tr>\n",
       "      <th>7</th>\n",
       "      <td>Воронежская область</td>\n",
       "      <td>109</td>\n",
       "      <td>4.6</td>\n",
       "      <td>945</td>\n",
       "      <td>40.8</td>\n",
       "      <td>608</td>\n",
       "      <td>64.3</td>\n",
       "      <td>8.7</td>\n",
       "      <td>4.5</td>\n",
       "      <td>NaN</td>\n",
       "    </tr>\n",
       "    <tr>\n",
       "      <th>8</th>\n",
       "      <td>Ивановская область</td>\n",
       "      <td>39</td>\n",
       "      <td>5.1</td>\n",
       "      <td>381</td>\n",
       "      <td>38.4</td>\n",
       "      <td>216</td>\n",
       "      <td>56.7</td>\n",
       "      <td>9.8</td>\n",
       "      <td>3.8</td>\n",
       "      <td>NaN</td>\n",
       "    </tr>\n",
       "    <tr>\n",
       "      <th>9</th>\n",
       "      <td>Тверская область</td>\n",
       "      <td>55</td>\n",
       "      <td>9.1</td>\n",
       "      <td>432</td>\n",
       "      <td>34.5</td>\n",
       "      <td>269</td>\n",
       "      <td>62.3</td>\n",
       "      <td>7.9</td>\n",
       "      <td>5.3</td>\n",
       "      <td>NaN</td>\n",
       "    </tr>\n",
       "  </tbody>\n",
       "</table>\n",
       "</div>"
      ],
      "text/plain": [
       "  СВЕДЕНИЯ О  КОНТИНГЕНТЕ БОЛЬНЫХ СО ЗЛОКАЧЕСТВЕННЫМИ НОВООБРАЗОВАНИЯМИ, СОСТОЯЩЕМ НА УЧЕТЕ В ОНКОЛОГИЧЕСКИХ УЧРЕЖДЕНИЯХ В 2021 Г.                            Таблица 36\\nГортань (С32)  \\\n",
       "0                          Республика, край, область                                                                                                                                      \n",
       "1                                                NaN                                                                                                                                      \n",
       "2                                             РОССИЯ                                                                                                                                      \n",
       "3                                     ЦЕНТРАЛЬНЫЙ ФО                                                                                                                                      \n",
       "4                               Белгородская область                                                                                                                                      \n",
       "5                                   Брянская область                                                                                                                                      \n",
       "6                               Владимирская область                                                                                                                                      \n",
       "7                                Воронежская область                                                                                                                                      \n",
       "8                                 Ивановская область                                                                                                                                      \n",
       "9                                   Тверская область                                                                                                                                      \n",
       "\n",
       "                                          Unnamed: 1  \\\n",
       "0  Взято на учет больных с впервые в жизни уст. д...   \n",
       "1                                                NaN   \n",
       "2                                               5563   \n",
       "3                                               1389   \n",
       "4                                                 71   \n",
       "5                                                 70   \n",
       "6                                                 79   \n",
       "7                                                109   \n",
       "8                                                 39   \n",
       "9                                                 55   \n",
       "\n",
       "                      Unnamed: 2                         Unnamed: 3  \\\n",
       "0  в т.ч. вы- явлены активно,\\n%  Находились на учете на конец года   \n",
       "1                            NaN                 абсолют- ное число   \n",
       "2                           13.2                              42687   \n",
       "3                           10.4                              12268   \n",
       "4                           14.1                                547   \n",
       "5                            8.6                                444   \n",
       "6                            6.3                                643   \n",
       "7                            4.6                                945   \n",
       "8                            5.1                                381   \n",
       "9                            9.1                                432   \n",
       "\n",
       "              Unnamed: 4            Unnamed: 5            Unnamed: 6  \\\n",
       "0                    NaN  из них 5 лет и более                   NaN   \n",
       "1  на 100 тыс. населения    абсолют- ное число  %  от сост. на учете   \n",
       "2                   29.1                 24818                  58.1   \n",
       "3                   31.2                  7164                  58.4   \n",
       "4                   35.4                   302                  55.2   \n",
       "5                   37.4                   244                    55   \n",
       "6                   47.6                   370                  57.5   \n",
       "7                   40.8                   608                  64.3   \n",
       "8                   38.4                   216                  56.7   \n",
       "9                   34.5                   269                  62.3   \n",
       "\n",
       "                           Unnamed: 7         Unnamed: 8  Unnamed: 9  \n",
       "0  Индекс на- копления контин- гентов  Леталь- ность,\\n%         NaN  \n",
       "1                                 NaN                NaN         NaN  \n",
       "2                                 7.7                6.5         NaN  \n",
       "3                                 8.8                5.7         NaN  \n",
       "4                                 7.7                7.6         NaN  \n",
       "5                                 6.3                7.3         NaN  \n",
       "6                                 8.1                4.7         NaN  \n",
       "7                                 8.7                4.5         NaN  \n",
       "8                                 9.8                3.8         NaN  \n",
       "9                                 7.9                5.3         NaN  "
      ]
     },
     "metadata": {},
     "output_type": "display_data"
    },
    {
     "data": {
      "text/html": [
       "<div>\n",
       "<style scoped>\n",
       "    .dataframe tbody tr th:only-of-type {\n",
       "        vertical-align: middle;\n",
       "    }\n",
       "\n",
       "    .dataframe tbody tr th {\n",
       "        vertical-align: top;\n",
       "    }\n",
       "\n",
       "    .dataframe thead th {\n",
       "        text-align: right;\n",
       "    }\n",
       "</style>\n",
       "<table border=\"1\" class=\"dataframe\">\n",
       "  <thead>\n",
       "    <tr style=\"text-align: right;\">\n",
       "      <th></th>\n",
       "      <th>СВЕДЕНИЯ О  КОНТИНГЕНТЕ БОЛЬНЫХ СО ЗЛОКАЧЕСТВЕННЫМИ НОВООБРАЗОВАНИЯМИ, СОСТОЯЩЕМ НА УЧЕТЕ В ОНКОЛОГИЧЕСКИХ УЧРЕЖДЕНИЯХ В 2021 Г.                                                Таблица 37.\\nТрахея, бронхи, легкое (С33,34)</th>\n",
       "      <th>Unnamed: 1</th>\n",
       "      <th>Unnamed: 2</th>\n",
       "      <th>Unnamed: 3</th>\n",
       "      <th>Unnamed: 4</th>\n",
       "      <th>Unnamed: 5</th>\n",
       "      <th>Unnamed: 6</th>\n",
       "      <th>Unnamed: 7</th>\n",
       "      <th>Unnamed: 8</th>\n",
       "      <th>Unnamed: 9</th>\n",
       "    </tr>\n",
       "  </thead>\n",
       "  <tbody>\n",
       "    <tr>\n",
       "      <th>0</th>\n",
       "      <td>Республика, край, область</td>\n",
       "      <td>Взято на учет больных с впервые в жизни уст. д...</td>\n",
       "      <td>в т.ч. вы- явлены активно,\\n%</td>\n",
       "      <td>Находились на учете на конец года</td>\n",
       "      <td>NaN</td>\n",
       "      <td>из них 5 лет и более</td>\n",
       "      <td>NaN</td>\n",
       "      <td>Индекс на- копления контин- гентов</td>\n",
       "      <td>Леталь- ность,\\n%</td>\n",
       "      <td>NaN</td>\n",
       "    </tr>\n",
       "    <tr>\n",
       "      <th>1</th>\n",
       "      <td>NaN</td>\n",
       "      <td>NaN</td>\n",
       "      <td>NaN</td>\n",
       "      <td>абсолют- ное число</td>\n",
       "      <td>на 100 тыс. населения</td>\n",
       "      <td>абсолют- ное число</td>\n",
       "      <td>%  от сост. на учете</td>\n",
       "      <td>NaN</td>\n",
       "      <td>NaN</td>\n",
       "      <td>NaN</td>\n",
       "    </tr>\n",
       "    <tr>\n",
       "      <th>2</th>\n",
       "      <td>РОССИЯ</td>\n",
       "      <td>44482</td>\n",
       "      <td>22.6</td>\n",
       "      <td>138854</td>\n",
       "      <td>94.8</td>\n",
       "      <td>62464</td>\n",
       "      <td>45</td>\n",
       "      <td>3.1</td>\n",
       "      <td>19.9</td>\n",
       "      <td>NaN</td>\n",
       "    </tr>\n",
       "    <tr>\n",
       "      <th>3</th>\n",
       "      <td>ЦЕНТРАЛЬНЫЙ ФО</td>\n",
       "      <td>10413</td>\n",
       "      <td>22.9</td>\n",
       "      <td>36399</td>\n",
       "      <td>92.5</td>\n",
       "      <td>16427</td>\n",
       "      <td>45.1</td>\n",
       "      <td>3.5</td>\n",
       "      <td>17.9</td>\n",
       "      <td>NaN</td>\n",
       "    </tr>\n",
       "    <tr>\n",
       "      <th>4</th>\n",
       "      <td>Белгородская область</td>\n",
       "      <td>551</td>\n",
       "      <td>21.2</td>\n",
       "      <td>1506</td>\n",
       "      <td>97.5</td>\n",
       "      <td>723</td>\n",
       "      <td>48</td>\n",
       "      <td>2.7</td>\n",
       "      <td>23</td>\n",
       "      <td>NaN</td>\n",
       "    </tr>\n",
       "    <tr>\n",
       "      <th>5</th>\n",
       "      <td>Брянская область</td>\n",
       "      <td>477</td>\n",
       "      <td>14</td>\n",
       "      <td>1151</td>\n",
       "      <td>96.9</td>\n",
       "      <td>409</td>\n",
       "      <td>35.5</td>\n",
       "      <td>2.4</td>\n",
       "      <td>25.8</td>\n",
       "      <td>NaN</td>\n",
       "    </tr>\n",
       "    <tr>\n",
       "      <th>6</th>\n",
       "      <td>Владимирская область</td>\n",
       "      <td>409</td>\n",
       "      <td>8.8</td>\n",
       "      <td>1530</td>\n",
       "      <td>113.3</td>\n",
       "      <td>750</td>\n",
       "      <td>49</td>\n",
       "      <td>3.7</td>\n",
       "      <td>16.4</td>\n",
       "      <td>NaN</td>\n",
       "    </tr>\n",
       "    <tr>\n",
       "      <th>7</th>\n",
       "      <td>Воронежская область</td>\n",
       "      <td>820</td>\n",
       "      <td>25.5</td>\n",
       "      <td>2841</td>\n",
       "      <td>122.7</td>\n",
       "      <td>1219</td>\n",
       "      <td>42.9</td>\n",
       "      <td>3.5</td>\n",
       "      <td>19.8</td>\n",
       "      <td>NaN</td>\n",
       "    </tr>\n",
       "    <tr>\n",
       "      <th>8</th>\n",
       "      <td>Ивановская область</td>\n",
       "      <td>378</td>\n",
       "      <td>22</td>\n",
       "      <td>815</td>\n",
       "      <td>82.2</td>\n",
       "      <td>336</td>\n",
       "      <td>41.2</td>\n",
       "      <td>2.2</td>\n",
       "      <td>23.9</td>\n",
       "      <td>NaN</td>\n",
       "    </tr>\n",
       "    <tr>\n",
       "      <th>9</th>\n",
       "      <td>Тверская область</td>\n",
       "      <td>441</td>\n",
       "      <td>22</td>\n",
       "      <td>1106</td>\n",
       "      <td>88.3</td>\n",
       "      <td>505</td>\n",
       "      <td>45.7</td>\n",
       "      <td>2.5</td>\n",
       "      <td>25.3</td>\n",
       "      <td>NaN</td>\n",
       "    </tr>\n",
       "  </tbody>\n",
       "</table>\n",
       "</div>"
      ],
      "text/plain": [
       "  СВЕДЕНИЯ О  КОНТИНГЕНТЕ БОЛЬНЫХ СО ЗЛОКАЧЕСТВЕННЫМИ НОВООБРАЗОВАНИЯМИ, СОСТОЯЩЕМ НА УЧЕТЕ В ОНКОЛОГИЧЕСКИХ УЧРЕЖДЕНИЯХ В 2021 Г.                                                Таблица 37.\\nТрахея, бронхи, легкое (С33,34)  \\\n",
       "0                          Республика, край, область                                                                                                                                                                             \n",
       "1                                                NaN                                                                                                                                                                             \n",
       "2                                             РОССИЯ                                                                                                                                                                             \n",
       "3                                     ЦЕНТРАЛЬНЫЙ ФО                                                                                                                                                                             \n",
       "4                               Белгородская область                                                                                                                                                                             \n",
       "5                                   Брянская область                                                                                                                                                                             \n",
       "6                               Владимирская область                                                                                                                                                                             \n",
       "7                                Воронежская область                                                                                                                                                                             \n",
       "8                                 Ивановская область                                                                                                                                                                             \n",
       "9                                   Тверская область                                                                                                                                                                             \n",
       "\n",
       "                                          Unnamed: 1  \\\n",
       "0  Взято на учет больных с впервые в жизни уст. д...   \n",
       "1                                                NaN   \n",
       "2                                              44482   \n",
       "3                                              10413   \n",
       "4                                                551   \n",
       "5                                                477   \n",
       "6                                                409   \n",
       "7                                                820   \n",
       "8                                                378   \n",
       "9                                                441   \n",
       "\n",
       "                      Unnamed: 2                         Unnamed: 3  \\\n",
       "0  в т.ч. вы- явлены активно,\\n%  Находились на учете на конец года   \n",
       "1                            NaN                 абсолют- ное число   \n",
       "2                           22.6                             138854   \n",
       "3                           22.9                              36399   \n",
       "4                           21.2                               1506   \n",
       "5                             14                               1151   \n",
       "6                            8.8                               1530   \n",
       "7                           25.5                               2841   \n",
       "8                             22                                815   \n",
       "9                             22                               1106   \n",
       "\n",
       "              Unnamed: 4            Unnamed: 5            Unnamed: 6  \\\n",
       "0                    NaN  из них 5 лет и более                   NaN   \n",
       "1  на 100 тыс. населения    абсолют- ное число  %  от сост. на учете   \n",
       "2                   94.8                 62464                    45   \n",
       "3                   92.5                 16427                  45.1   \n",
       "4                   97.5                   723                    48   \n",
       "5                   96.9                   409                  35.5   \n",
       "6                  113.3                   750                    49   \n",
       "7                  122.7                  1219                  42.9   \n",
       "8                   82.2                   336                  41.2   \n",
       "9                   88.3                   505                  45.7   \n",
       "\n",
       "                           Unnamed: 7         Unnamed: 8  Unnamed: 9  \n",
       "0  Индекс на- копления контин- гентов  Леталь- ность,\\n%         NaN  \n",
       "1                                 NaN                NaN         NaN  \n",
       "2                                 3.1               19.9         NaN  \n",
       "3                                 3.5               17.9         NaN  \n",
       "4                                 2.7                 23         NaN  \n",
       "5                                 2.4               25.8         NaN  \n",
       "6                                 3.7               16.4         NaN  \n",
       "7                                 3.5               19.8         NaN  \n",
       "8                                 2.2               23.9         NaN  \n",
       "9                                 2.5               25.3         NaN  "
      ]
     },
     "metadata": {},
     "output_type": "display_data"
    },
    {
     "data": {
      "text/html": [
       "<div>\n",
       "<style scoped>\n",
       "    .dataframe tbody tr th:only-of-type {\n",
       "        vertical-align: middle;\n",
       "    }\n",
       "\n",
       "    .dataframe tbody tr th {\n",
       "        vertical-align: top;\n",
       "    }\n",
       "\n",
       "    .dataframe thead th {\n",
       "        text-align: right;\n",
       "    }\n",
       "</style>\n",
       "<table border=\"1\" class=\"dataframe\">\n",
       "  <thead>\n",
       "    <tr style=\"text-align: right;\">\n",
       "      <th></th>\n",
       "      <th>СВЕДЕНИЯ О  КОНТИНГЕНТЕ БОЛЬНЫХ СО ЗЛОКАЧЕСТВЕННЫМИ НОВООБРАЗОВАНИЯМИ, СОСТОЯЩЕМ НА УЧЕТЕ В ОНКОЛОГИЧЕСКИХ УЧРЕЖДЕНИЯХ В 2021 Г.                                                         Таблица 38\\nКости и суставные хрящи (С40,41)</th>\n",
       "      <th>Unnamed: 1</th>\n",
       "      <th>Unnamed: 2</th>\n",
       "      <th>Unnamed: 3</th>\n",
       "      <th>Unnamed: 4</th>\n",
       "      <th>Unnamed: 5</th>\n",
       "      <th>Unnamed: 6</th>\n",
       "      <th>Unnamed: 7</th>\n",
       "      <th>Unnamed: 8</th>\n",
       "      <th>Unnamed: 9</th>\n",
       "    </tr>\n",
       "  </thead>\n",
       "  <tbody>\n",
       "    <tr>\n",
       "      <th>0</th>\n",
       "      <td>Республика, край, область</td>\n",
       "      <td>Взято на учет больных с впервые в жизни уст. д...</td>\n",
       "      <td>в т.ч. вы- явлены активно,\\n%</td>\n",
       "      <td>Находились на учете на конец года</td>\n",
       "      <td>NaN</td>\n",
       "      <td>из них 5 лет и более</td>\n",
       "      <td>NaN</td>\n",
       "      <td>Индекс на- копления контин- гентов</td>\n",
       "      <td>Леталь- ность,\\n%</td>\n",
       "      <td>NaN</td>\n",
       "    </tr>\n",
       "    <tr>\n",
       "      <th>1</th>\n",
       "      <td>NaN</td>\n",
       "      <td>NaN</td>\n",
       "      <td>NaN</td>\n",
       "      <td>абсолют- ное число</td>\n",
       "      <td>на 100 тыс. населения</td>\n",
       "      <td>абсолют- ное число</td>\n",
       "      <td>%  от сост. на учете</td>\n",
       "      <td>NaN</td>\n",
       "      <td>NaN</td>\n",
       "      <td>NaN</td>\n",
       "    </tr>\n",
       "    <tr>\n",
       "      <th>2</th>\n",
       "      <td>РОССИЯ</td>\n",
       "      <td>1162</td>\n",
       "      <td>10.3</td>\n",
       "      <td>15280</td>\n",
       "      <td>10.4</td>\n",
       "      <td>10938</td>\n",
       "      <td>71.6</td>\n",
       "      <td>13.1</td>\n",
       "      <td>3.9</td>\n",
       "      <td>NaN</td>\n",
       "    </tr>\n",
       "    <tr>\n",
       "      <th>3</th>\n",
       "      <td>ЦЕНТРАЛЬНЫЙ ФО</td>\n",
       "      <td>280</td>\n",
       "      <td>9.6</td>\n",
       "      <td>3972</td>\n",
       "      <td>10.1</td>\n",
       "      <td>2685</td>\n",
       "      <td>67.6</td>\n",
       "      <td>14.2</td>\n",
       "      <td>3.5</td>\n",
       "      <td>NaN</td>\n",
       "    </tr>\n",
       "    <tr>\n",
       "      <th>4</th>\n",
       "      <td>Белгородская область</td>\n",
       "      <td>11</td>\n",
       "      <td>9.1</td>\n",
       "      <td>130</td>\n",
       "      <td>8.4</td>\n",
       "      <td>86</td>\n",
       "      <td>66.2</td>\n",
       "      <td>11.8</td>\n",
       "      <td>7.1</td>\n",
       "      <td>NaN</td>\n",
       "    </tr>\n",
       "    <tr>\n",
       "      <th>5</th>\n",
       "      <td>Брянская область</td>\n",
       "      <td>11</td>\n",
       "      <td>9.1</td>\n",
       "      <td>110</td>\n",
       "      <td>9.3</td>\n",
       "      <td>83</td>\n",
       "      <td>75.5</td>\n",
       "      <td>10</td>\n",
       "      <td>6.8</td>\n",
       "      <td>NaN</td>\n",
       "    </tr>\n",
       "    <tr>\n",
       "      <th>6</th>\n",
       "      <td>Владимирская область</td>\n",
       "      <td>11</td>\n",
       "      <td>0</td>\n",
       "      <td>200</td>\n",
       "      <td>14.8</td>\n",
       "      <td>150</td>\n",
       "      <td>75</td>\n",
       "      <td>18.2</td>\n",
       "      <td>2.4</td>\n",
       "      <td>NaN</td>\n",
       "    </tr>\n",
       "    <tr>\n",
       "      <th>7</th>\n",
       "      <td>Воронежская область</td>\n",
       "      <td>9</td>\n",
       "      <td>22.2</td>\n",
       "      <td>228</td>\n",
       "      <td>9.8</td>\n",
       "      <td>165</td>\n",
       "      <td>72.4</td>\n",
       "      <td>25.3</td>\n",
       "      <td>1.7</td>\n",
       "      <td>NaN</td>\n",
       "    </tr>\n",
       "    <tr>\n",
       "      <th>8</th>\n",
       "      <td>Ивановская область</td>\n",
       "      <td>4</td>\n",
       "      <td>0</td>\n",
       "      <td>66</td>\n",
       "      <td>6.7</td>\n",
       "      <td>51</td>\n",
       "      <td>77.3</td>\n",
       "      <td>16.5</td>\n",
       "      <td>5.7</td>\n",
       "      <td>NaN</td>\n",
       "    </tr>\n",
       "    <tr>\n",
       "      <th>9</th>\n",
       "      <td>Тверская область</td>\n",
       "      <td>10</td>\n",
       "      <td>0</td>\n",
       "      <td>126</td>\n",
       "      <td>10.1</td>\n",
       "      <td>90</td>\n",
       "      <td>71.4</td>\n",
       "      <td>12.6</td>\n",
       "      <td>3.1</td>\n",
       "      <td>NaN</td>\n",
       "    </tr>\n",
       "  </tbody>\n",
       "</table>\n",
       "</div>"
      ],
      "text/plain": [
       "  СВЕДЕНИЯ О  КОНТИНГЕНТЕ БОЛЬНЫХ СО ЗЛОКАЧЕСТВЕННЫМИ НОВООБРАЗОВАНИЯМИ, СОСТОЯЩЕМ НА УЧЕТЕ В ОНКОЛОГИЧЕСКИХ УЧРЕЖДЕНИЯХ В 2021 Г.                                                         Таблица 38\\nКости и суставные хрящи (С40,41)  \\\n",
       "0                          Республика, край, область                                                                                                                                                                                      \n",
       "1                                                NaN                                                                                                                                                                                      \n",
       "2                                             РОССИЯ                                                                                                                                                                                      \n",
       "3                                     ЦЕНТРАЛЬНЫЙ ФО                                                                                                                                                                                      \n",
       "4                               Белгородская область                                                                                                                                                                                      \n",
       "5                                   Брянская область                                                                                                                                                                                      \n",
       "6                               Владимирская область                                                                                                                                                                                      \n",
       "7                                Воронежская область                                                                                                                                                                                      \n",
       "8                                 Ивановская область                                                                                                                                                                                      \n",
       "9                                   Тверская область                                                                                                                                                                                      \n",
       "\n",
       "                                          Unnamed: 1  \\\n",
       "0  Взято на учет больных с впервые в жизни уст. д...   \n",
       "1                                                NaN   \n",
       "2                                               1162   \n",
       "3                                                280   \n",
       "4                                                 11   \n",
       "5                                                 11   \n",
       "6                                                 11   \n",
       "7                                                  9   \n",
       "8                                                  4   \n",
       "9                                                 10   \n",
       "\n",
       "                      Unnamed: 2                         Unnamed: 3  \\\n",
       "0  в т.ч. вы- явлены активно,\\n%  Находились на учете на конец года   \n",
       "1                            NaN                 абсолют- ное число   \n",
       "2                           10.3                              15280   \n",
       "3                            9.6                               3972   \n",
       "4                            9.1                                130   \n",
       "5                            9.1                                110   \n",
       "6                              0                                200   \n",
       "7                           22.2                                228   \n",
       "8                              0                                 66   \n",
       "9                              0                                126   \n",
       "\n",
       "              Unnamed: 4            Unnamed: 5            Unnamed: 6  \\\n",
       "0                    NaN  из них 5 лет и более                   NaN   \n",
       "1  на 100 тыс. населения    абсолют- ное число  %  от сост. на учете   \n",
       "2                   10.4                 10938                  71.6   \n",
       "3                   10.1                  2685                  67.6   \n",
       "4                    8.4                    86                  66.2   \n",
       "5                    9.3                    83                  75.5   \n",
       "6                   14.8                   150                    75   \n",
       "7                    9.8                   165                  72.4   \n",
       "8                    6.7                    51                  77.3   \n",
       "9                   10.1                    90                  71.4   \n",
       "\n",
       "                           Unnamed: 7         Unnamed: 8  Unnamed: 9  \n",
       "0  Индекс на- копления контин- гентов  Леталь- ность,\\n%         NaN  \n",
       "1                                 NaN                NaN         NaN  \n",
       "2                                13.1                3.9         NaN  \n",
       "3                                14.2                3.5         NaN  \n",
       "4                                11.8                7.1         NaN  \n",
       "5                                  10                6.8         NaN  \n",
       "6                                18.2                2.4         NaN  \n",
       "7                                25.3                1.7         NaN  \n",
       "8                                16.5                5.7         NaN  \n",
       "9                                12.6                3.1         NaN  "
      ]
     },
     "metadata": {},
     "output_type": "display_data"
    },
    {
     "data": {
      "text/html": [
       "<div>\n",
       "<style scoped>\n",
       "    .dataframe tbody tr th:only-of-type {\n",
       "        vertical-align: middle;\n",
       "    }\n",
       "\n",
       "    .dataframe tbody tr th {\n",
       "        vertical-align: top;\n",
       "    }\n",
       "\n",
       "    .dataframe thead th {\n",
       "        text-align: right;\n",
       "    }\n",
       "</style>\n",
       "<table border=\"1\" class=\"dataframe\">\n",
       "  <thead>\n",
       "    <tr style=\"text-align: right;\">\n",
       "      <th></th>\n",
       "      <th>СВЕДЕНИЯ О  КОНТИНГЕНТЕ БОЛЬНЫХ СО ЗЛОКАЧЕСТВЕННЫМИ НОВООБРАЗОВАНИЯМИ, СОСТОЯЩЕМ НА УЧЕТЕ В ОНКОЛОГИЧЕСКИХ УЧРЕЖДЕНИЯХ В 2021 Г.\\nМеланома кожи (С43)                                                             Таблица 39</th>\n",
       "      <th>Unnamed: 1</th>\n",
       "      <th>Unnamed: 2</th>\n",
       "      <th>Unnamed: 3</th>\n",
       "      <th>Unnamed: 4</th>\n",
       "      <th>Unnamed: 5</th>\n",
       "      <th>Unnamed: 6</th>\n",
       "      <th>Unnamed: 7</th>\n",
       "      <th>Unnamed: 8</th>\n",
       "      <th>Unnamed: 9</th>\n",
       "    </tr>\n",
       "  </thead>\n",
       "  <tbody>\n",
       "    <tr>\n",
       "      <th>0</th>\n",
       "      <td>Республика, край, область</td>\n",
       "      <td>Взято на учет больных с впервые в жизни уст. д...</td>\n",
       "      <td>в т.ч. вы- явлены активно,\\n%</td>\n",
       "      <td>Находились на учете на конец года</td>\n",
       "      <td>NaN</td>\n",
       "      <td>из них 5 лет и более</td>\n",
       "      <td>NaN</td>\n",
       "      <td>Индекс на- копления контин- гентов</td>\n",
       "      <td>Леталь- ность,\\n%</td>\n",
       "      <td>NaN</td>\n",
       "    </tr>\n",
       "    <tr>\n",
       "      <th>1</th>\n",
       "      <td>NaN</td>\n",
       "      <td>NaN</td>\n",
       "      <td>NaN</td>\n",
       "      <td>абсолют- ное число</td>\n",
       "      <td>на 100 тыс. населения</td>\n",
       "      <td>абсолют- ное число</td>\n",
       "      <td>%  от сост. на учете</td>\n",
       "      <td>NaN</td>\n",
       "      <td>NaN</td>\n",
       "      <td>NaN</td>\n",
       "    </tr>\n",
       "    <tr>\n",
       "      <th>2</th>\n",
       "      <td>РОССИЯ</td>\n",
       "      <td>10110</td>\n",
       "      <td>27.8</td>\n",
       "      <td>103129</td>\n",
       "      <td>70.4</td>\n",
       "      <td>63081</td>\n",
       "      <td>61.2</td>\n",
       "      <td>10.2</td>\n",
       "      <td>2.9</td>\n",
       "      <td>NaN</td>\n",
       "    </tr>\n",
       "    <tr>\n",
       "      <th>3</th>\n",
       "      <td>ЦЕНТРАЛЬНЫЙ ФО</td>\n",
       "      <td>2996</td>\n",
       "      <td>25.6</td>\n",
       "      <td>32631</td>\n",
       "      <td>82.9</td>\n",
       "      <td>19718</td>\n",
       "      <td>60.4</td>\n",
       "      <td>10.9</td>\n",
       "      <td>2.9</td>\n",
       "      <td>NaN</td>\n",
       "    </tr>\n",
       "    <tr>\n",
       "      <th>4</th>\n",
       "      <td>Белгородская область</td>\n",
       "      <td>135</td>\n",
       "      <td>29.6</td>\n",
       "      <td>1252</td>\n",
       "      <td>81</td>\n",
       "      <td>757</td>\n",
       "      <td>60.5</td>\n",
       "      <td>9.3</td>\n",
       "      <td>2.9</td>\n",
       "      <td>NaN</td>\n",
       "    </tr>\n",
       "    <tr>\n",
       "      <th>5</th>\n",
       "      <td>Брянская область</td>\n",
       "      <td>98</td>\n",
       "      <td>32.7</td>\n",
       "      <td>939</td>\n",
       "      <td>79.1</td>\n",
       "      <td>557</td>\n",
       "      <td>59.3</td>\n",
       "      <td>9.6</td>\n",
       "      <td>2.7</td>\n",
       "      <td>NaN</td>\n",
       "    </tr>\n",
       "    <tr>\n",
       "      <th>6</th>\n",
       "      <td>Владимирская область</td>\n",
       "      <td>116</td>\n",
       "      <td>12.9</td>\n",
       "      <td>1423</td>\n",
       "      <td>105.4</td>\n",
       "      <td>934</td>\n",
       "      <td>65.6</td>\n",
       "      <td>12.3</td>\n",
       "      <td>1.3</td>\n",
       "      <td>NaN</td>\n",
       "    </tr>\n",
       "    <tr>\n",
       "      <th>7</th>\n",
       "      <td>Воронежская область</td>\n",
       "      <td>171</td>\n",
       "      <td>40.9</td>\n",
       "      <td>2108</td>\n",
       "      <td>91.1</td>\n",
       "      <td>1299</td>\n",
       "      <td>61.6</td>\n",
       "      <td>12.3</td>\n",
       "      <td>2</td>\n",
       "      <td>NaN</td>\n",
       "    </tr>\n",
       "    <tr>\n",
       "      <th>8</th>\n",
       "      <td>Ивановская область</td>\n",
       "      <td>72</td>\n",
       "      <td>40.3</td>\n",
       "      <td>779</td>\n",
       "      <td>78.5</td>\n",
       "      <td>536</td>\n",
       "      <td>68.8</td>\n",
       "      <td>10.8</td>\n",
       "      <td>2.5</td>\n",
       "      <td>NaN</td>\n",
       "    </tr>\n",
       "    <tr>\n",
       "      <th>9</th>\n",
       "      <td>Тверская область</td>\n",
       "      <td>105</td>\n",
       "      <td>21.9</td>\n",
       "      <td>1131</td>\n",
       "      <td>90.3</td>\n",
       "      <td>738</td>\n",
       "      <td>65.3</td>\n",
       "      <td>10.8</td>\n",
       "      <td>3.7</td>\n",
       "      <td>NaN</td>\n",
       "    </tr>\n",
       "  </tbody>\n",
       "</table>\n",
       "</div>"
      ],
      "text/plain": [
       "  СВЕДЕНИЯ О  КОНТИНГЕНТЕ БОЛЬНЫХ СО ЗЛОКАЧЕСТВЕННЫМИ НОВООБРАЗОВАНИЯМИ, СОСТОЯЩЕМ НА УЧЕТЕ В ОНКОЛОГИЧЕСКИХ УЧРЕЖДЕНИЯХ В 2021 Г.\\nМеланома кожи (С43)                                                             Таблица 39   \\\n",
       "0                          Республика, край, область                                                                                                                                                                              \n",
       "1                                                NaN                                                                                                                                                                              \n",
       "2                                             РОССИЯ                                                                                                                                                                              \n",
       "3                                     ЦЕНТРАЛЬНЫЙ ФО                                                                                                                                                                              \n",
       "4                               Белгородская область                                                                                                                                                                              \n",
       "5                                   Брянская область                                                                                                                                                                              \n",
       "6                               Владимирская область                                                                                                                                                                              \n",
       "7                                Воронежская область                                                                                                                                                                              \n",
       "8                                 Ивановская область                                                                                                                                                                              \n",
       "9                                   Тверская область                                                                                                                                                                              \n",
       "\n",
       "                                          Unnamed: 1  \\\n",
       "0  Взято на учет больных с впервые в жизни уст. д...   \n",
       "1                                                NaN   \n",
       "2                                              10110   \n",
       "3                                               2996   \n",
       "4                                                135   \n",
       "5                                                 98   \n",
       "6                                                116   \n",
       "7                                                171   \n",
       "8                                                 72   \n",
       "9                                                105   \n",
       "\n",
       "                      Unnamed: 2                         Unnamed: 3  \\\n",
       "0  в т.ч. вы- явлены активно,\\n%  Находились на учете на конец года   \n",
       "1                            NaN                 абсолют- ное число   \n",
       "2                           27.8                             103129   \n",
       "3                           25.6                              32631   \n",
       "4                           29.6                               1252   \n",
       "5                           32.7                                939   \n",
       "6                           12.9                               1423   \n",
       "7                           40.9                               2108   \n",
       "8                           40.3                                779   \n",
       "9                           21.9                               1131   \n",
       "\n",
       "              Unnamed: 4            Unnamed: 5            Unnamed: 6  \\\n",
       "0                    NaN  из них 5 лет и более                   NaN   \n",
       "1  на 100 тыс. населения    абсолют- ное число  %  от сост. на учете   \n",
       "2                   70.4                 63081                  61.2   \n",
       "3                   82.9                 19718                  60.4   \n",
       "4                     81                   757                  60.5   \n",
       "5                   79.1                   557                  59.3   \n",
       "6                  105.4                   934                  65.6   \n",
       "7                   91.1                  1299                  61.6   \n",
       "8                   78.5                   536                  68.8   \n",
       "9                   90.3                   738                  65.3   \n",
       "\n",
       "                           Unnamed: 7         Unnamed: 8  Unnamed: 9  \n",
       "0  Индекс на- копления контин- гентов  Леталь- ность,\\n%         NaN  \n",
       "1                                 NaN                NaN         NaN  \n",
       "2                                10.2                2.9         NaN  \n",
       "3                                10.9                2.9         NaN  \n",
       "4                                 9.3                2.9         NaN  \n",
       "5                                 9.6                2.7         NaN  \n",
       "6                                12.3                1.3         NaN  \n",
       "7                                12.3                  2         NaN  \n",
       "8                                10.8                2.5         NaN  \n",
       "9                                10.8                3.7         NaN  "
      ]
     },
     "metadata": {},
     "output_type": "display_data"
    },
    {
     "data": {
      "text/html": [
       "<div>\n",
       "<style scoped>\n",
       "    .dataframe tbody tr th:only-of-type {\n",
       "        vertical-align: middle;\n",
       "    }\n",
       "\n",
       "    .dataframe tbody tr th {\n",
       "        vertical-align: top;\n",
       "    }\n",
       "\n",
       "    .dataframe thead th {\n",
       "        text-align: right;\n",
       "    }\n",
       "</style>\n",
       "<table border=\"1\" class=\"dataframe\">\n",
       "  <thead>\n",
       "    <tr style=\"text-align: right;\">\n",
       "      <th></th>\n",
       "      <th>СВЕДЕНИЯ О  КОНТИНГЕНТЕ БОЛЬНЫХ СО ЗЛОКАЧЕСТВЕННЫМИ НОВООБРАЗОВАНИЯМИ, СОСТОЯЩЕМ НА УЧЕТЕ В ОНКОЛОГИЧЕСКИХ УЧРЕЖДЕНИЯХ В 2021 Г.\\nКожа (кроме меланомы) (С44)                                                                                              Таблица 40</th>\n",
       "      <th>Unnamed: 1</th>\n",
       "      <th>Unnamed: 2</th>\n",
       "      <th>Unnamed: 3</th>\n",
       "      <th>Unnamed: 4</th>\n",
       "      <th>Unnamed: 5</th>\n",
       "      <th>Unnamed: 6</th>\n",
       "      <th>Unnamed: 7</th>\n",
       "      <th>Unnamed: 8</th>\n",
       "      <th>Unnamed: 9</th>\n",
       "    </tr>\n",
       "  </thead>\n",
       "  <tbody>\n",
       "    <tr>\n",
       "      <th>0</th>\n",
       "      <td>Республика, край, область</td>\n",
       "      <td>Взято на учет больных с впервые в жизни уст. д...</td>\n",
       "      <td>в т.ч. вы- явлены активно,\\n%</td>\n",
       "      <td>Находились на учете на конец года</td>\n",
       "      <td>NaN</td>\n",
       "      <td>из них 5 лет и более</td>\n",
       "      <td>NaN</td>\n",
       "      <td>Индекс на- копления контин- гентов</td>\n",
       "      <td>Леталь- ность,\\n%</td>\n",
       "      <td>NaN</td>\n",
       "    </tr>\n",
       "    <tr>\n",
       "      <th>1</th>\n",
       "      <td>NaN</td>\n",
       "      <td>NaN</td>\n",
       "      <td>NaN</td>\n",
       "      <td>абсолют- ное число</td>\n",
       "      <td>на 100 тыс. населения</td>\n",
       "      <td>абсолют- ное число</td>\n",
       "      <td>%  от сост. на учете</td>\n",
       "      <td>NaN</td>\n",
       "      <td>NaN</td>\n",
       "      <td>NaN</td>\n",
       "    </tr>\n",
       "    <tr>\n",
       "      <th>2</th>\n",
       "      <td>РОССИЯ</td>\n",
       "      <td>58176</td>\n",
       "      <td>40.2</td>\n",
       "      <td>442619</td>\n",
       "      <td>302.2</td>\n",
       "      <td>164108</td>\n",
       "      <td>37.1</td>\n",
       "      <td>7.6</td>\n",
       "      <td>0.4</td>\n",
       "      <td>NaN</td>\n",
       "    </tr>\n",
       "    <tr>\n",
       "      <th>3</th>\n",
       "      <td>ЦЕНТРАЛЬНЫЙ ФО</td>\n",
       "      <td>15197</td>\n",
       "      <td>35.1</td>\n",
       "      <td>117584</td>\n",
       "      <td>298.9</td>\n",
       "      <td>43483</td>\n",
       "      <td>37</td>\n",
       "      <td>7.7</td>\n",
       "      <td>0.4</td>\n",
       "      <td>NaN</td>\n",
       "    </tr>\n",
       "    <tr>\n",
       "      <th>4</th>\n",
       "      <td>Белгородская область</td>\n",
       "      <td>998</td>\n",
       "      <td>51.3</td>\n",
       "      <td>5961</td>\n",
       "      <td>385.8</td>\n",
       "      <td>1911</td>\n",
       "      <td>32.1</td>\n",
       "      <td>6</td>\n",
       "      <td>0.2</td>\n",
       "      <td>NaN</td>\n",
       "    </tr>\n",
       "    <tr>\n",
       "      <th>5</th>\n",
       "      <td>Брянская область</td>\n",
       "      <td>576</td>\n",
       "      <td>35.8</td>\n",
       "      <td>3747</td>\n",
       "      <td>315.5</td>\n",
       "      <td>1051</td>\n",
       "      <td>28</td>\n",
       "      <td>6.5</td>\n",
       "      <td>0.3</td>\n",
       "      <td>NaN</td>\n",
       "    </tr>\n",
       "    <tr>\n",
       "      <th>6</th>\n",
       "      <td>Владимирская область</td>\n",
       "      <td>528</td>\n",
       "      <td>28.8</td>\n",
       "      <td>3709</td>\n",
       "      <td>274.7</td>\n",
       "      <td>1096</td>\n",
       "      <td>29.5</td>\n",
       "      <td>7</td>\n",
       "      <td>0.2</td>\n",
       "      <td>NaN</td>\n",
       "    </tr>\n",
       "    <tr>\n",
       "      <th>7</th>\n",
       "      <td>Воронежская область</td>\n",
       "      <td>1158</td>\n",
       "      <td>57.9</td>\n",
       "      <td>8762</td>\n",
       "      <td>378.5</td>\n",
       "      <td>2521</td>\n",
       "      <td>28.8</td>\n",
       "      <td>7.6</td>\n",
       "      <td>0.2</td>\n",
       "      <td>NaN</td>\n",
       "    </tr>\n",
       "    <tr>\n",
       "      <th>8</th>\n",
       "      <td>Ивановская область</td>\n",
       "      <td>567</td>\n",
       "      <td>59.3</td>\n",
       "      <td>3949</td>\n",
       "      <td>398.1</td>\n",
       "      <td>1245</td>\n",
       "      <td>31.5</td>\n",
       "      <td>7</td>\n",
       "      <td>0.1</td>\n",
       "      <td>NaN</td>\n",
       "    </tr>\n",
       "    <tr>\n",
       "      <th>9</th>\n",
       "      <td>Тверская область</td>\n",
       "      <td>544</td>\n",
       "      <td>28.9</td>\n",
       "      <td>3349</td>\n",
       "      <td>267.3</td>\n",
       "      <td>859</td>\n",
       "      <td>25.6</td>\n",
       "      <td>6.2</td>\n",
       "      <td>0.4</td>\n",
       "      <td>NaN</td>\n",
       "    </tr>\n",
       "  </tbody>\n",
       "</table>\n",
       "</div>"
      ],
      "text/plain": [
       "  СВЕДЕНИЯ О  КОНТИНГЕНТЕ БОЛЬНЫХ СО ЗЛОКАЧЕСТВЕННЫМИ НОВООБРАЗОВАНИЯМИ, СОСТОЯЩЕМ НА УЧЕТЕ В ОНКОЛОГИЧЕСКИХ УЧРЕЖДЕНИЯХ В 2021 Г.\\nКожа (кроме меланомы) (С44)                                                                                              Таблица 40   \\\n",
       "0                          Республика, край, область                                                                                                                                                                                                                       \n",
       "1                                                NaN                                                                                                                                                                                                                       \n",
       "2                                             РОССИЯ                                                                                                                                                                                                                       \n",
       "3                                     ЦЕНТРАЛЬНЫЙ ФО                                                                                                                                                                                                                       \n",
       "4                               Белгородская область                                                                                                                                                                                                                       \n",
       "5                                   Брянская область                                                                                                                                                                                                                       \n",
       "6                               Владимирская область                                                                                                                                                                                                                       \n",
       "7                                Воронежская область                                                                                                                                                                                                                       \n",
       "8                                 Ивановская область                                                                                                                                                                                                                       \n",
       "9                                   Тверская область                                                                                                                                                                                                                       \n",
       "\n",
       "                                          Unnamed: 1  \\\n",
       "0  Взято на учет больных с впервые в жизни уст. д...   \n",
       "1                                                NaN   \n",
       "2                                              58176   \n",
       "3                                              15197   \n",
       "4                                                998   \n",
       "5                                                576   \n",
       "6                                                528   \n",
       "7                                               1158   \n",
       "8                                                567   \n",
       "9                                                544   \n",
       "\n",
       "                      Unnamed: 2                         Unnamed: 3  \\\n",
       "0  в т.ч. вы- явлены активно,\\n%  Находились на учете на конец года   \n",
       "1                            NaN                 абсолют- ное число   \n",
       "2                           40.2                             442619   \n",
       "3                           35.1                             117584   \n",
       "4                           51.3                               5961   \n",
       "5                           35.8                               3747   \n",
       "6                           28.8                               3709   \n",
       "7                           57.9                               8762   \n",
       "8                           59.3                               3949   \n",
       "9                           28.9                               3349   \n",
       "\n",
       "              Unnamed: 4            Unnamed: 5            Unnamed: 6  \\\n",
       "0                    NaN  из них 5 лет и более                   NaN   \n",
       "1  на 100 тыс. населения    абсолют- ное число  %  от сост. на учете   \n",
       "2                  302.2                164108                  37.1   \n",
       "3                  298.9                 43483                    37   \n",
       "4                  385.8                  1911                  32.1   \n",
       "5                  315.5                  1051                    28   \n",
       "6                  274.7                  1096                  29.5   \n",
       "7                  378.5                  2521                  28.8   \n",
       "8                  398.1                  1245                  31.5   \n",
       "9                  267.3                   859                  25.6   \n",
       "\n",
       "                           Unnamed: 7         Unnamed: 8  Unnamed: 9  \n",
       "0  Индекс на- копления контин- гентов  Леталь- ность,\\n%         NaN  \n",
       "1                                 NaN                NaN         NaN  \n",
       "2                                 7.6                0.4         NaN  \n",
       "3                                 7.7                0.4         NaN  \n",
       "4                                   6                0.2         NaN  \n",
       "5                                 6.5                0.3         NaN  \n",
       "6                                   7                0.2         NaN  \n",
       "7                                 7.6                0.2         NaN  \n",
       "8                                   7                0.1         NaN  \n",
       "9                                 6.2                0.4         NaN  "
      ]
     },
     "metadata": {},
     "output_type": "display_data"
    },
    {
     "data": {
      "text/html": [
       "<div>\n",
       "<style scoped>\n",
       "    .dataframe tbody tr th:only-of-type {\n",
       "        vertical-align: middle;\n",
       "    }\n",
       "\n",
       "    .dataframe tbody tr th {\n",
       "        vertical-align: top;\n",
       "    }\n",
       "\n",
       "    .dataframe thead th {\n",
       "        text-align: right;\n",
       "    }\n",
       "</style>\n",
       "<table border=\"1\" class=\"dataframe\">\n",
       "  <thead>\n",
       "    <tr style=\"text-align: right;\">\n",
       "      <th></th>\n",
       "      <th>СВЕДЕНИЯ О  КОНТИНГЕНТЕ БОЛЬНЫХ СО ЗЛОКАЧЕСТВЕННЫМИ НОВООБРАЗОВАНИЯМИ, СОСТОЯЩЕМ НА УЧЕТЕ В ОНКОЛОГИЧЕСКИХ УЧРЕЖДЕНИЯХ В 2021 Г.\\nСоединительная и другие мягкие ткани (С47,49)                                                      Таблица 41</th>\n",
       "      <th>Unnamed: 1</th>\n",
       "      <th>Unnamed: 2</th>\n",
       "      <th>Unnamed: 3</th>\n",
       "      <th>Unnamed: 4</th>\n",
       "      <th>Unnamed: 5</th>\n",
       "      <th>Unnamed: 6</th>\n",
       "      <th>Unnamed: 7</th>\n",
       "      <th>Unnamed: 8</th>\n",
       "      <th>Unnamed: 9</th>\n",
       "    </tr>\n",
       "  </thead>\n",
       "  <tbody>\n",
       "    <tr>\n",
       "      <th>0</th>\n",
       "      <td>Республика, край, область</td>\n",
       "      <td>Взято на учет больных с впервые в жизни уст. д...</td>\n",
       "      <td>в т.ч. вы- явлены активно,\\n%</td>\n",
       "      <td>Находились на учете на конец года</td>\n",
       "      <td>NaN</td>\n",
       "      <td>из них 5 лет и более</td>\n",
       "      <td>NaN</td>\n",
       "      <td>Индекс на- копления контин- гентов</td>\n",
       "      <td>Леталь- ность,\\n%</td>\n",
       "      <td>NaN</td>\n",
       "    </tr>\n",
       "    <tr>\n",
       "      <th>1</th>\n",
       "      <td>NaN</td>\n",
       "      <td>NaN</td>\n",
       "      <td>NaN</td>\n",
       "      <td>абсолют- ное число</td>\n",
       "      <td>на 100 тыс. населения</td>\n",
       "      <td>абсолют- ное число</td>\n",
       "      <td>%  от сост. на учете</td>\n",
       "      <td>NaN</td>\n",
       "      <td>NaN</td>\n",
       "      <td>NaN</td>\n",
       "    </tr>\n",
       "    <tr>\n",
       "      <th>2</th>\n",
       "      <td>РОССИЯ</td>\n",
       "      <td>2861</td>\n",
       "      <td>12.3</td>\n",
       "      <td>32800</td>\n",
       "      <td>22.4</td>\n",
       "      <td>21868</td>\n",
       "      <td>66.7</td>\n",
       "      <td>11.5</td>\n",
       "      <td>4.2</td>\n",
       "      <td>NaN</td>\n",
       "    </tr>\n",
       "    <tr>\n",
       "      <th>3</th>\n",
       "      <td>ЦЕНТРАЛЬНЫЙ ФО</td>\n",
       "      <td>714</td>\n",
       "      <td>14.6</td>\n",
       "      <td>9090</td>\n",
       "      <td>23.1</td>\n",
       "      <td>5959</td>\n",
       "      <td>65.6</td>\n",
       "      <td>12.7</td>\n",
       "      <td>3.7</td>\n",
       "      <td>NaN</td>\n",
       "    </tr>\n",
       "    <tr>\n",
       "      <th>4</th>\n",
       "      <td>Белгородская область</td>\n",
       "      <td>45</td>\n",
       "      <td>13.3</td>\n",
       "      <td>436</td>\n",
       "      <td>28.2</td>\n",
       "      <td>248</td>\n",
       "      <td>56.9</td>\n",
       "      <td>9.7</td>\n",
       "      <td>1.8</td>\n",
       "      <td>NaN</td>\n",
       "    </tr>\n",
       "    <tr>\n",
       "      <th>5</th>\n",
       "      <td>Брянская область</td>\n",
       "      <td>32</td>\n",
       "      <td>12.5</td>\n",
       "      <td>241</td>\n",
       "      <td>20.3</td>\n",
       "      <td>158</td>\n",
       "      <td>65.6</td>\n",
       "      <td>7.5</td>\n",
       "      <td>7.3</td>\n",
       "      <td>NaN</td>\n",
       "    </tr>\n",
       "    <tr>\n",
       "      <th>6</th>\n",
       "      <td>Владимирская область</td>\n",
       "      <td>20</td>\n",
       "      <td>20</td>\n",
       "      <td>326</td>\n",
       "      <td>24.1</td>\n",
       "      <td>227</td>\n",
       "      <td>69.6</td>\n",
       "      <td>16.3</td>\n",
       "      <td>0.9</td>\n",
       "      <td>NaN</td>\n",
       "    </tr>\n",
       "    <tr>\n",
       "      <th>7</th>\n",
       "      <td>Воронежская область</td>\n",
       "      <td>49</td>\n",
       "      <td>4.1</td>\n",
       "      <td>516</td>\n",
       "      <td>22.3</td>\n",
       "      <td>372</td>\n",
       "      <td>72.1</td>\n",
       "      <td>10.5</td>\n",
       "      <td>3.2</td>\n",
       "      <td>NaN</td>\n",
       "    </tr>\n",
       "    <tr>\n",
       "      <th>8</th>\n",
       "      <td>Ивановская область</td>\n",
       "      <td>22</td>\n",
       "      <td>9.1</td>\n",
       "      <td>193</td>\n",
       "      <td>19.5</td>\n",
       "      <td>133</td>\n",
       "      <td>68.9</td>\n",
       "      <td>8.8</td>\n",
       "      <td>4</td>\n",
       "      <td>NaN</td>\n",
       "    </tr>\n",
       "    <tr>\n",
       "      <th>9</th>\n",
       "      <td>Тверская область</td>\n",
       "      <td>22</td>\n",
       "      <td>9.1</td>\n",
       "      <td>317</td>\n",
       "      <td>25.3</td>\n",
       "      <td>241</td>\n",
       "      <td>76</td>\n",
       "      <td>14.4</td>\n",
       "      <td>4.2</td>\n",
       "      <td>NaN</td>\n",
       "    </tr>\n",
       "  </tbody>\n",
       "</table>\n",
       "</div>"
      ],
      "text/plain": [
       "  СВЕДЕНИЯ О  КОНТИНГЕНТЕ БОЛЬНЫХ СО ЗЛОКАЧЕСТВЕННЫМИ НОВООБРАЗОВАНИЯМИ, СОСТОЯЩЕМ НА УЧЕТЕ В ОНКОЛОГИЧЕСКИХ УЧРЕЖДЕНИЯХ В 2021 Г.\\nСоединительная и другие мягкие ткани (С47,49)                                                      Таблица 41  \\\n",
       "0                          Республика, край, область                                                                                                                                                                                                \n",
       "1                                                NaN                                                                                                                                                                                                \n",
       "2                                             РОССИЯ                                                                                                                                                                                                \n",
       "3                                     ЦЕНТРАЛЬНЫЙ ФО                                                                                                                                                                                                \n",
       "4                               Белгородская область                                                                                                                                                                                                \n",
       "5                                   Брянская область                                                                                                                                                                                                \n",
       "6                               Владимирская область                                                                                                                                                                                                \n",
       "7                                Воронежская область                                                                                                                                                                                                \n",
       "8                                 Ивановская область                                                                                                                                                                                                \n",
       "9                                   Тверская область                                                                                                                                                                                                \n",
       "\n",
       "                                          Unnamed: 1  \\\n",
       "0  Взято на учет больных с впервые в жизни уст. д...   \n",
       "1                                                NaN   \n",
       "2                                               2861   \n",
       "3                                                714   \n",
       "4                                                 45   \n",
       "5                                                 32   \n",
       "6                                                 20   \n",
       "7                                                 49   \n",
       "8                                                 22   \n",
       "9                                                 22   \n",
       "\n",
       "                      Unnamed: 2                         Unnamed: 3  \\\n",
       "0  в т.ч. вы- явлены активно,\\n%  Находились на учете на конец года   \n",
       "1                            NaN                 абсолют- ное число   \n",
       "2                           12.3                              32800   \n",
       "3                           14.6                               9090   \n",
       "4                           13.3                                436   \n",
       "5                           12.5                                241   \n",
       "6                             20                                326   \n",
       "7                            4.1                                516   \n",
       "8                            9.1                                193   \n",
       "9                            9.1                                317   \n",
       "\n",
       "              Unnamed: 4            Unnamed: 5            Unnamed: 6  \\\n",
       "0                    NaN  из них 5 лет и более                   NaN   \n",
       "1  на 100 тыс. населения    абсолют- ное число  %  от сост. на учете   \n",
       "2                   22.4                 21868                  66.7   \n",
       "3                   23.1                  5959                  65.6   \n",
       "4                   28.2                   248                  56.9   \n",
       "5                   20.3                   158                  65.6   \n",
       "6                   24.1                   227                  69.6   \n",
       "7                   22.3                   372                  72.1   \n",
       "8                   19.5                   133                  68.9   \n",
       "9                   25.3                   241                    76   \n",
       "\n",
       "                           Unnamed: 7         Unnamed: 8  Unnamed: 9  \n",
       "0  Индекс на- копления контин- гентов  Леталь- ность,\\n%         NaN  \n",
       "1                                 NaN                NaN         NaN  \n",
       "2                                11.5                4.2         NaN  \n",
       "3                                12.7                3.7         NaN  \n",
       "4                                 9.7                1.8         NaN  \n",
       "5                                 7.5                7.3         NaN  \n",
       "6                                16.3                0.9         NaN  \n",
       "7                                10.5                3.2         NaN  \n",
       "8                                 8.8                  4         NaN  \n",
       "9                                14.4                4.2         NaN  "
      ]
     },
     "metadata": {},
     "output_type": "display_data"
    },
    {
     "data": {
      "text/html": [
       "<div>\n",
       "<style scoped>\n",
       "    .dataframe tbody tr th:only-of-type {\n",
       "        vertical-align: middle;\n",
       "    }\n",
       "\n",
       "    .dataframe tbody tr th {\n",
       "        vertical-align: top;\n",
       "    }\n",
       "\n",
       "    .dataframe thead th {\n",
       "        text-align: right;\n",
       "    }\n",
       "</style>\n",
       "<table border=\"1\" class=\"dataframe\">\n",
       "  <thead>\n",
       "    <tr style=\"text-align: right;\">\n",
       "      <th></th>\n",
       "      <th>СВЕДЕНИЯ О  КОНТИНГЕНТЕ БОЛЬНЫХ СО ЗЛОКАЧЕСТВЕННЫМИ НОВООБРАЗОВАНИЯМИ, СОСТОЯЩЕМ НА УЧЕТЕ В ОНКОЛОГИЧЕСКИХ УЧРЕЖДЕНИЯХ В 2021 Г.\\nМолочная железа (С50)                                                                      Таблица 42</th>\n",
       "      <th>Unnamed: 1</th>\n",
       "      <th>Unnamed: 2</th>\n",
       "      <th>Unnamed: 3</th>\n",
       "      <th>Unnamed: 4</th>\n",
       "      <th>Unnamed: 5</th>\n",
       "      <th>Unnamed: 6</th>\n",
       "      <th>Unnamed: 7</th>\n",
       "      <th>Unnamed: 8</th>\n",
       "      <th>Unnamed: 9</th>\n",
       "    </tr>\n",
       "  </thead>\n",
       "  <tbody>\n",
       "    <tr>\n",
       "      <th>0</th>\n",
       "      <td>Республика, край, область</td>\n",
       "      <td>Взято на учет больных с впервые в жизни уст. д...</td>\n",
       "      <td>в т.ч. вы- явлены активно,\\n%</td>\n",
       "      <td>Находились на учете на конец года</td>\n",
       "      <td>NaN</td>\n",
       "      <td>из них 5 лет и более</td>\n",
       "      <td>NaN</td>\n",
       "      <td>Индекс на- копления контин- гентов</td>\n",
       "      <td>Леталь- ность,\\n%</td>\n",
       "      <td>NaN</td>\n",
       "    </tr>\n",
       "    <tr>\n",
       "      <th>1</th>\n",
       "      <td>NaN</td>\n",
       "      <td>NaN</td>\n",
       "      <td>NaN</td>\n",
       "      <td>абсолют- ное число</td>\n",
       "      <td>на 100 тыс. населения</td>\n",
       "      <td>абсолют- ное число</td>\n",
       "      <td>%  от сост. на учете</td>\n",
       "      <td>NaN</td>\n",
       "      <td>NaN</td>\n",
       "      <td>NaN</td>\n",
       "    </tr>\n",
       "    <tr>\n",
       "      <th>2</th>\n",
       "      <td>РОССИЯ</td>\n",
       "      <td>62729</td>\n",
       "      <td>39.3</td>\n",
       "      <td>745710</td>\n",
       "      <td>509.2</td>\n",
       "      <td>476542</td>\n",
       "      <td>63.9</td>\n",
       "      <td>11.9</td>\n",
       "      <td>2.5</td>\n",
       "      <td>NaN</td>\n",
       "    </tr>\n",
       "    <tr>\n",
       "      <th>3</th>\n",
       "      <td>ЦЕНТРАЛЬНЫЙ ФО</td>\n",
       "      <td>18127</td>\n",
       "      <td>37.6</td>\n",
       "      <td>228180</td>\n",
       "      <td>580</td>\n",
       "      <td>147505</td>\n",
       "      <td>64.6</td>\n",
       "      <td>12.6</td>\n",
       "      <td>2.2</td>\n",
       "      <td>NaN</td>\n",
       "    </tr>\n",
       "    <tr>\n",
       "      <th>4</th>\n",
       "      <td>Белгородская область</td>\n",
       "      <td>726</td>\n",
       "      <td>39.8</td>\n",
       "      <td>8167</td>\n",
       "      <td>528.5</td>\n",
       "      <td>5177</td>\n",
       "      <td>63.4</td>\n",
       "      <td>11.2</td>\n",
       "      <td>2.4</td>\n",
       "      <td>NaN</td>\n",
       "    </tr>\n",
       "    <tr>\n",
       "      <th>5</th>\n",
       "      <td>Брянская область</td>\n",
       "      <td>531</td>\n",
       "      <td>42.4</td>\n",
       "      <td>6319</td>\n",
       "      <td>532.1</td>\n",
       "      <td>3849</td>\n",
       "      <td>60.9</td>\n",
       "      <td>11.9</td>\n",
       "      <td>3</td>\n",
       "      <td>NaN</td>\n",
       "    </tr>\n",
       "    <tr>\n",
       "      <th>6</th>\n",
       "      <td>Владимирская область</td>\n",
       "      <td>642</td>\n",
       "      <td>20.7</td>\n",
       "      <td>8645</td>\n",
       "      <td>640.2</td>\n",
       "      <td>5811</td>\n",
       "      <td>67.2</td>\n",
       "      <td>13.5</td>\n",
       "      <td>2.4</td>\n",
       "      <td>NaN</td>\n",
       "    </tr>\n",
       "    <tr>\n",
       "      <th>7</th>\n",
       "      <td>Воронежская область</td>\n",
       "      <td>1069</td>\n",
       "      <td>55.9</td>\n",
       "      <td>12738</td>\n",
       "      <td>550.3</td>\n",
       "      <td>8125</td>\n",
       "      <td>63.8</td>\n",
       "      <td>11.9</td>\n",
       "      <td>2.5</td>\n",
       "      <td>NaN</td>\n",
       "    </tr>\n",
       "    <tr>\n",
       "      <th>8</th>\n",
       "      <td>Ивановская область</td>\n",
       "      <td>477</td>\n",
       "      <td>47.8</td>\n",
       "      <td>6255</td>\n",
       "      <td>630.5</td>\n",
       "      <td>4094</td>\n",
       "      <td>65.5</td>\n",
       "      <td>13.1</td>\n",
       "      <td>2</td>\n",
       "      <td>NaN</td>\n",
       "    </tr>\n",
       "    <tr>\n",
       "      <th>9</th>\n",
       "      <td>Тверская область</td>\n",
       "      <td>640</td>\n",
       "      <td>31.7</td>\n",
       "      <td>7796</td>\n",
       "      <td>622.2</td>\n",
       "      <td>5164</td>\n",
       "      <td>66.2</td>\n",
       "      <td>12.2</td>\n",
       "      <td>2.1</td>\n",
       "      <td>NaN</td>\n",
       "    </tr>\n",
       "  </tbody>\n",
       "</table>\n",
       "</div>"
      ],
      "text/plain": [
       "  СВЕДЕНИЯ О  КОНТИНГЕНТЕ БОЛЬНЫХ СО ЗЛОКАЧЕСТВЕННЫМИ НОВООБРАЗОВАНИЯМИ, СОСТОЯЩЕМ НА УЧЕТЕ В ОНКОЛОГИЧЕСКИХ УЧРЕЖДЕНИЯХ В 2021 Г.\\nМолочная железа (С50)                                                                      Таблица 42  \\\n",
       "0                          Республика, край, область                                                                                                                                                                                        \n",
       "1                                                NaN                                                                                                                                                                                        \n",
       "2                                             РОССИЯ                                                                                                                                                                                        \n",
       "3                                     ЦЕНТРАЛЬНЫЙ ФО                                                                                                                                                                                        \n",
       "4                               Белгородская область                                                                                                                                                                                        \n",
       "5                                   Брянская область                                                                                                                                                                                        \n",
       "6                               Владимирская область                                                                                                                                                                                        \n",
       "7                                Воронежская область                                                                                                                                                                                        \n",
       "8                                 Ивановская область                                                                                                                                                                                        \n",
       "9                                   Тверская область                                                                                                                                                                                        \n",
       "\n",
       "                                          Unnamed: 1  \\\n",
       "0  Взято на учет больных с впервые в жизни уст. д...   \n",
       "1                                                NaN   \n",
       "2                                              62729   \n",
       "3                                              18127   \n",
       "4                                                726   \n",
       "5                                                531   \n",
       "6                                                642   \n",
       "7                                               1069   \n",
       "8                                                477   \n",
       "9                                                640   \n",
       "\n",
       "                      Unnamed: 2                         Unnamed: 3  \\\n",
       "0  в т.ч. вы- явлены активно,\\n%  Находились на учете на конец года   \n",
       "1                            NaN                 абсолют- ное число   \n",
       "2                           39.3                             745710   \n",
       "3                           37.6                             228180   \n",
       "4                           39.8                               8167   \n",
       "5                           42.4                               6319   \n",
       "6                           20.7                               8645   \n",
       "7                           55.9                              12738   \n",
       "8                           47.8                               6255   \n",
       "9                           31.7                               7796   \n",
       "\n",
       "              Unnamed: 4            Unnamed: 5            Unnamed: 6  \\\n",
       "0                    NaN  из них 5 лет и более                   NaN   \n",
       "1  на 100 тыс. населения    абсолют- ное число  %  от сост. на учете   \n",
       "2                  509.2                476542                  63.9   \n",
       "3                    580                147505                  64.6   \n",
       "4                  528.5                  5177                  63.4   \n",
       "5                  532.1                  3849                  60.9   \n",
       "6                  640.2                  5811                  67.2   \n",
       "7                  550.3                  8125                  63.8   \n",
       "8                  630.5                  4094                  65.5   \n",
       "9                  622.2                  5164                  66.2   \n",
       "\n",
       "                           Unnamed: 7         Unnamed: 8  Unnamed: 9  \n",
       "0  Индекс на- копления контин- гентов  Леталь- ность,\\n%         NaN  \n",
       "1                                 NaN                NaN         NaN  \n",
       "2                                11.9                2.5         NaN  \n",
       "3                                12.6                2.2         NaN  \n",
       "4                                11.2                2.4         NaN  \n",
       "5                                11.9                  3         NaN  \n",
       "6                                13.5                2.4         NaN  \n",
       "7                                11.9                2.5         NaN  \n",
       "8                                13.1                  2         NaN  \n",
       "9                                12.2                2.1         NaN  "
      ]
     },
     "metadata": {},
     "output_type": "display_data"
    },
    {
     "data": {
      "text/html": [
       "<div>\n",
       "<style scoped>\n",
       "    .dataframe tbody tr th:only-of-type {\n",
       "        vertical-align: middle;\n",
       "    }\n",
       "\n",
       "    .dataframe tbody tr th {\n",
       "        vertical-align: top;\n",
       "    }\n",
       "\n",
       "    .dataframe thead th {\n",
       "        text-align: right;\n",
       "    }\n",
       "</style>\n",
       "<table border=\"1\" class=\"dataframe\">\n",
       "  <thead>\n",
       "    <tr style=\"text-align: right;\">\n",
       "      <th></th>\n",
       "      <th>СВЕДЕНИЯ О  КОНТИНГЕНТЕ БОЛЬНЫХ СО ЗЛОКАЧЕСТВЕННЫМИ НОВООБРАЗОВАНИЯМИ, СОСТОЯЩЕМ НА УЧЕТЕ В ОНКОЛОГИЧЕСКИХ УЧРЕЖДЕНИЯХ В 2021 Г.                                                       Таблица 43.\\nШейка матки (С53)</th>\n",
       "      <th>Unnamed: 1</th>\n",
       "      <th>Unnamed: 2</th>\n",
       "      <th>Unnamed: 3</th>\n",
       "      <th>Unnamed: 4</th>\n",
       "      <th>Unnamed: 5</th>\n",
       "      <th>Unnamed: 6</th>\n",
       "      <th>Unnamed: 7</th>\n",
       "      <th>Unnamed: 8</th>\n",
       "      <th>Unnamed: 9</th>\n",
       "    </tr>\n",
       "  </thead>\n",
       "  <tbody>\n",
       "    <tr>\n",
       "      <th>0</th>\n",
       "      <td>Республика, край, область</td>\n",
       "      <td>Взято на учет больных с впервые в жизни уст. д...</td>\n",
       "      <td>в т.ч. вы- явлены активно,\\n%</td>\n",
       "      <td>Находились на учете на конец года</td>\n",
       "      <td>NaN</td>\n",
       "      <td>из них 5 лет и более</td>\n",
       "      <td>NaN</td>\n",
       "      <td>Индекс на- копления контин- гентов</td>\n",
       "      <td>Леталь- ность,\\n%</td>\n",
       "      <td>NaN</td>\n",
       "    </tr>\n",
       "    <tr>\n",
       "      <th>1</th>\n",
       "      <td>NaN</td>\n",
       "      <td>NaN</td>\n",
       "      <td>NaN</td>\n",
       "      <td>абсолют- ное число</td>\n",
       "      <td>на 100 тыс. населения</td>\n",
       "      <td>абсолют- ное число</td>\n",
       "      <td>%  от сост. на учете</td>\n",
       "      <td>NaN</td>\n",
       "      <td>NaN</td>\n",
       "      <td>NaN</td>\n",
       "    </tr>\n",
       "    <tr>\n",
       "      <th>2</th>\n",
       "      <td>РОССИЯ</td>\n",
       "      <td>14468</td>\n",
       "      <td>34.7</td>\n",
       "      <td>185507</td>\n",
       "      <td>126.7</td>\n",
       "      <td>125247</td>\n",
       "      <td>67.5</td>\n",
       "      <td>12.8</td>\n",
       "      <td>2.9</td>\n",
       "      <td>NaN</td>\n",
       "    </tr>\n",
       "    <tr>\n",
       "      <th>3</th>\n",
       "      <td>ЦЕНТРАЛЬНЫЙ ФО</td>\n",
       "      <td>3303</td>\n",
       "      <td>34.8</td>\n",
       "      <td>48430</td>\n",
       "      <td>123.1</td>\n",
       "      <td>32973</td>\n",
       "      <td>68.1</td>\n",
       "      <td>14.7</td>\n",
       "      <td>2.5</td>\n",
       "      <td>NaN</td>\n",
       "    </tr>\n",
       "    <tr>\n",
       "      <th>4</th>\n",
       "      <td>Белгородская область</td>\n",
       "      <td>129</td>\n",
       "      <td>48.8</td>\n",
       "      <td>1940</td>\n",
       "      <td>125.5</td>\n",
       "      <td>1361</td>\n",
       "      <td>70.2</td>\n",
       "      <td>15</td>\n",
       "      <td>2.3</td>\n",
       "      <td>NaN</td>\n",
       "    </tr>\n",
       "    <tr>\n",
       "      <th>5</th>\n",
       "      <td>Брянская область</td>\n",
       "      <td>124</td>\n",
       "      <td>36.3</td>\n",
       "      <td>1375</td>\n",
       "      <td>115.8</td>\n",
       "      <td>869</td>\n",
       "      <td>63.2</td>\n",
       "      <td>11.1</td>\n",
       "      <td>3.2</td>\n",
       "      <td>NaN</td>\n",
       "    </tr>\n",
       "    <tr>\n",
       "      <th>6</th>\n",
       "      <td>Владимирская область</td>\n",
       "      <td>158</td>\n",
       "      <td>12.7</td>\n",
       "      <td>2217</td>\n",
       "      <td>164.2</td>\n",
       "      <td>1503</td>\n",
       "      <td>67.8</td>\n",
       "      <td>14</td>\n",
       "      <td>1.6</td>\n",
       "      <td>NaN</td>\n",
       "    </tr>\n",
       "    <tr>\n",
       "      <th>7</th>\n",
       "      <td>Воронежская область</td>\n",
       "      <td>165</td>\n",
       "      <td>56.4</td>\n",
       "      <td>2589</td>\n",
       "      <td>111.8</td>\n",
       "      <td>1821</td>\n",
       "      <td>70.3</td>\n",
       "      <td>15.7</td>\n",
       "      <td>2.2</td>\n",
       "      <td>NaN</td>\n",
       "    </tr>\n",
       "    <tr>\n",
       "      <th>8</th>\n",
       "      <td>Ивановская область</td>\n",
       "      <td>127</td>\n",
       "      <td>41.7</td>\n",
       "      <td>1899</td>\n",
       "      <td>191.4</td>\n",
       "      <td>1323</td>\n",
       "      <td>69.7</td>\n",
       "      <td>15</td>\n",
       "      <td>1.4</td>\n",
       "      <td>NaN</td>\n",
       "    </tr>\n",
       "    <tr>\n",
       "      <th>9</th>\n",
       "      <td>Тверская область</td>\n",
       "      <td>153</td>\n",
       "      <td>32</td>\n",
       "      <td>2088</td>\n",
       "      <td>166.6</td>\n",
       "      <td>1465</td>\n",
       "      <td>70.2</td>\n",
       "      <td>13.6</td>\n",
       "      <td>3.4</td>\n",
       "      <td>NaN</td>\n",
       "    </tr>\n",
       "  </tbody>\n",
       "</table>\n",
       "</div>"
      ],
      "text/plain": [
       "  СВЕДЕНИЯ О  КОНТИНГЕНТЕ БОЛЬНЫХ СО ЗЛОКАЧЕСТВЕННЫМИ НОВООБРАЗОВАНИЯМИ, СОСТОЯЩЕМ НА УЧЕТЕ В ОНКОЛОГИЧЕСКИХ УЧРЕЖДЕНИЯХ В 2021 Г.                                                       Таблица 43.\\nШейка матки (С53)  \\\n",
       "0                          Республика, край, область                                                                                                                                                                      \n",
       "1                                                NaN                                                                                                                                                                      \n",
       "2                                             РОССИЯ                                                                                                                                                                      \n",
       "3                                     ЦЕНТРАЛЬНЫЙ ФО                                                                                                                                                                      \n",
       "4                               Белгородская область                                                                                                                                                                      \n",
       "5                                   Брянская область                                                                                                                                                                      \n",
       "6                               Владимирская область                                                                                                                                                                      \n",
       "7                                Воронежская область                                                                                                                                                                      \n",
       "8                                 Ивановская область                                                                                                                                                                      \n",
       "9                                   Тверская область                                                                                                                                                                      \n",
       "\n",
       "                                          Unnamed: 1  \\\n",
       "0  Взято на учет больных с впервые в жизни уст. д...   \n",
       "1                                                NaN   \n",
       "2                                              14468   \n",
       "3                                               3303   \n",
       "4                                                129   \n",
       "5                                                124   \n",
       "6                                                158   \n",
       "7                                                165   \n",
       "8                                                127   \n",
       "9                                                153   \n",
       "\n",
       "                      Unnamed: 2                         Unnamed: 3  \\\n",
       "0  в т.ч. вы- явлены активно,\\n%  Находились на учете на конец года   \n",
       "1                            NaN                 абсолют- ное число   \n",
       "2                           34.7                             185507   \n",
       "3                           34.8                              48430   \n",
       "4                           48.8                               1940   \n",
       "5                           36.3                               1375   \n",
       "6                           12.7                               2217   \n",
       "7                           56.4                               2589   \n",
       "8                           41.7                               1899   \n",
       "9                             32                               2088   \n",
       "\n",
       "              Unnamed: 4            Unnamed: 5            Unnamed: 6  \\\n",
       "0                    NaN  из них 5 лет и более                   NaN   \n",
       "1  на 100 тыс. населения    абсолют- ное число  %  от сост. на учете   \n",
       "2                  126.7                125247                  67.5   \n",
       "3                  123.1                 32973                  68.1   \n",
       "4                  125.5                  1361                  70.2   \n",
       "5                  115.8                   869                  63.2   \n",
       "6                  164.2                  1503                  67.8   \n",
       "7                  111.8                  1821                  70.3   \n",
       "8                  191.4                  1323                  69.7   \n",
       "9                  166.6                  1465                  70.2   \n",
       "\n",
       "                           Unnamed: 7         Unnamed: 8  Unnamed: 9  \n",
       "0  Индекс на- копления контин- гентов  Леталь- ность,\\n%         NaN  \n",
       "1                                 NaN                NaN         NaN  \n",
       "2                                12.8                2.9         NaN  \n",
       "3                                14.7                2.5         NaN  \n",
       "4                                  15                2.3         NaN  \n",
       "5                                11.1                3.2         NaN  \n",
       "6                                  14                1.6         NaN  \n",
       "7                                15.7                2.2         NaN  \n",
       "8                                  15                1.4         NaN  \n",
       "9                                13.6                3.4         NaN  "
      ]
     },
     "metadata": {},
     "output_type": "display_data"
    },
    {
     "data": {
      "text/html": [
       "<div>\n",
       "<style scoped>\n",
       "    .dataframe tbody tr th:only-of-type {\n",
       "        vertical-align: middle;\n",
       "    }\n",
       "\n",
       "    .dataframe tbody tr th {\n",
       "        vertical-align: top;\n",
       "    }\n",
       "\n",
       "    .dataframe thead th {\n",
       "        text-align: right;\n",
       "    }\n",
       "</style>\n",
       "<table border=\"1\" class=\"dataframe\">\n",
       "  <thead>\n",
       "    <tr style=\"text-align: right;\">\n",
       "      <th></th>\n",
       "      <th>СВЕДЕНИЯ О  КОНТИНГЕНТЕ БОЛЬНЫХ СО ЗЛОКАЧЕСТВЕННЫМИ НОВООБРАЗОВАНИЯМИ, СОСТОЯЩЕМ НА УЧЕТЕ В ОНКОЛОГИЧЕСКИХ УЧРЕЖДЕНИЯХ В 2021 Г.                                     Таблица 44 \\nТело матки (С54)</th>\n",
       "      <th>Unnamed: 1</th>\n",
       "      <th>Unnamed: 2</th>\n",
       "      <th>Unnamed: 3</th>\n",
       "      <th>Unnamed: 4</th>\n",
       "      <th>Unnamed: 5</th>\n",
       "      <th>Unnamed: 6</th>\n",
       "      <th>Unnamed: 7</th>\n",
       "      <th>Unnamed: 8</th>\n",
       "      <th>Unnamed: 9</th>\n",
       "    </tr>\n",
       "  </thead>\n",
       "  <tbody>\n",
       "    <tr>\n",
       "      <th>0</th>\n",
       "      <td>Республика, край, область</td>\n",
       "      <td>Взято на учет больных с впервые в жизни уст. д...</td>\n",
       "      <td>в т.ч. вы- явлены активно,\\n%</td>\n",
       "      <td>Находились на учете на конец года</td>\n",
       "      <td>NaN</td>\n",
       "      <td>из них 5 лет и более</td>\n",
       "      <td>NaN</td>\n",
       "      <td>Индекс на- копления контин- гентов</td>\n",
       "      <td>Леталь- ность,\\n%</td>\n",
       "      <td>NaN</td>\n",
       "    </tr>\n",
       "    <tr>\n",
       "      <th>1</th>\n",
       "      <td>NaN</td>\n",
       "      <td>NaN</td>\n",
       "      <td>NaN</td>\n",
       "      <td>абсолют- ное число</td>\n",
       "      <td>на 100 тыс. населения</td>\n",
       "      <td>абсолют- ное число</td>\n",
       "      <td>%  от сост. на учете</td>\n",
       "      <td>NaN</td>\n",
       "      <td>NaN</td>\n",
       "      <td>NaN</td>\n",
       "    </tr>\n",
       "    <tr>\n",
       "      <th>2</th>\n",
       "      <td>РОССИЯ</td>\n",
       "      <td>22951</td>\n",
       "      <td>25.6</td>\n",
       "      <td>280608</td>\n",
       "      <td>191.6</td>\n",
       "      <td>183041</td>\n",
       "      <td>65.2</td>\n",
       "      <td>12.2</td>\n",
       "      <td>1.9</td>\n",
       "      <td>NaN</td>\n",
       "    </tr>\n",
       "    <tr>\n",
       "      <th>3</th>\n",
       "      <td>ЦЕНТРАЛЬНЫЙ ФО</td>\n",
       "      <td>7039</td>\n",
       "      <td>25.5</td>\n",
       "      <td>93884</td>\n",
       "      <td>238.6</td>\n",
       "      <td>61329</td>\n",
       "      <td>65.3</td>\n",
       "      <td>13.3</td>\n",
       "      <td>1.7</td>\n",
       "      <td>NaN</td>\n",
       "    </tr>\n",
       "    <tr>\n",
       "      <th>4</th>\n",
       "      <td>Белгородская область</td>\n",
       "      <td>344</td>\n",
       "      <td>24.4</td>\n",
       "      <td>3601</td>\n",
       "      <td>233</td>\n",
       "      <td>2296</td>\n",
       "      <td>63.8</td>\n",
       "      <td>10.5</td>\n",
       "      <td>1.6</td>\n",
       "      <td>NaN</td>\n",
       "    </tr>\n",
       "    <tr>\n",
       "      <th>5</th>\n",
       "      <td>Брянская область</td>\n",
       "      <td>285</td>\n",
       "      <td>28.1</td>\n",
       "      <td>3024</td>\n",
       "      <td>254.6</td>\n",
       "      <td>1908</td>\n",
       "      <td>63.1</td>\n",
       "      <td>10.6</td>\n",
       "      <td>1.7</td>\n",
       "      <td>NaN</td>\n",
       "    </tr>\n",
       "    <tr>\n",
       "      <th>6</th>\n",
       "      <td>Владимирская область</td>\n",
       "      <td>313</td>\n",
       "      <td>12.5</td>\n",
       "      <td>4253</td>\n",
       "      <td>315</td>\n",
       "      <td>2878</td>\n",
       "      <td>67.7</td>\n",
       "      <td>13.6</td>\n",
       "      <td>1.2</td>\n",
       "      <td>NaN</td>\n",
       "    </tr>\n",
       "    <tr>\n",
       "      <th>7</th>\n",
       "      <td>Воронежская область</td>\n",
       "      <td>463</td>\n",
       "      <td>19.7</td>\n",
       "      <td>6295</td>\n",
       "      <td>271.9</td>\n",
       "      <td>4237</td>\n",
       "      <td>67.3</td>\n",
       "      <td>13.6</td>\n",
       "      <td>1.2</td>\n",
       "      <td>NaN</td>\n",
       "    </tr>\n",
       "    <tr>\n",
       "      <th>8</th>\n",
       "      <td>Ивановская область</td>\n",
       "      <td>210</td>\n",
       "      <td>33.3</td>\n",
       "      <td>2747</td>\n",
       "      <td>276.9</td>\n",
       "      <td>1788</td>\n",
       "      <td>65.1</td>\n",
       "      <td>13.1</td>\n",
       "      <td>1.3</td>\n",
       "      <td>NaN</td>\n",
       "    </tr>\n",
       "    <tr>\n",
       "      <th>9</th>\n",
       "      <td>Тверская область</td>\n",
       "      <td>251</td>\n",
       "      <td>21.5</td>\n",
       "      <td>3175</td>\n",
       "      <td>253.4</td>\n",
       "      <td>2150</td>\n",
       "      <td>67.7</td>\n",
       "      <td>12.6</td>\n",
       "      <td>1.7</td>\n",
       "      <td>NaN</td>\n",
       "    </tr>\n",
       "  </tbody>\n",
       "</table>\n",
       "</div>"
      ],
      "text/plain": [
       "  СВЕДЕНИЯ О  КОНТИНГЕНТЕ БОЛЬНЫХ СО ЗЛОКАЧЕСТВЕННЫМИ НОВООБРАЗОВАНИЯМИ, СОСТОЯЩЕМ НА УЧЕТЕ В ОНКОЛОГИЧЕСКИХ УЧРЕЖДЕНИЯХ В 2021 Г.                                     Таблица 44 \\nТело матки (С54)  \\\n",
       "0                          Республика, край, область                                                                                                                                                   \n",
       "1                                                NaN                                                                                                                                                   \n",
       "2                                             РОССИЯ                                                                                                                                                   \n",
       "3                                     ЦЕНТРАЛЬНЫЙ ФО                                                                                                                                                   \n",
       "4                               Белгородская область                                                                                                                                                   \n",
       "5                                   Брянская область                                                                                                                                                   \n",
       "6                               Владимирская область                                                                                                                                                   \n",
       "7                                Воронежская область                                                                                                                                                   \n",
       "8                                 Ивановская область                                                                                                                                                   \n",
       "9                                   Тверская область                                                                                                                                                   \n",
       "\n",
       "                                          Unnamed: 1  \\\n",
       "0  Взято на учет больных с впервые в жизни уст. д...   \n",
       "1                                                NaN   \n",
       "2                                              22951   \n",
       "3                                               7039   \n",
       "4                                                344   \n",
       "5                                                285   \n",
       "6                                                313   \n",
       "7                                                463   \n",
       "8                                                210   \n",
       "9                                                251   \n",
       "\n",
       "                      Unnamed: 2                         Unnamed: 3  \\\n",
       "0  в т.ч. вы- явлены активно,\\n%  Находились на учете на конец года   \n",
       "1                            NaN                 абсолют- ное число   \n",
       "2                           25.6                             280608   \n",
       "3                           25.5                              93884   \n",
       "4                           24.4                               3601   \n",
       "5                           28.1                               3024   \n",
       "6                           12.5                               4253   \n",
       "7                           19.7                               6295   \n",
       "8                           33.3                               2747   \n",
       "9                           21.5                               3175   \n",
       "\n",
       "              Unnamed: 4            Unnamed: 5            Unnamed: 6  \\\n",
       "0                    NaN  из них 5 лет и более                   NaN   \n",
       "1  на 100 тыс. населения    абсолют- ное число  %  от сост. на учете   \n",
       "2                  191.6                183041                  65.2   \n",
       "3                  238.6                 61329                  65.3   \n",
       "4                    233                  2296                  63.8   \n",
       "5                  254.6                  1908                  63.1   \n",
       "6                    315                  2878                  67.7   \n",
       "7                  271.9                  4237                  67.3   \n",
       "8                  276.9                  1788                  65.1   \n",
       "9                  253.4                  2150                  67.7   \n",
       "\n",
       "                           Unnamed: 7         Unnamed: 8  Unnamed: 9  \n",
       "0  Индекс на- копления контин- гентов  Леталь- ность,\\n%         NaN  \n",
       "1                                 NaN                NaN         NaN  \n",
       "2                                12.2                1.9         NaN  \n",
       "3                                13.3                1.7         NaN  \n",
       "4                                10.5                1.6         NaN  \n",
       "5                                10.6                1.7         NaN  \n",
       "6                                13.6                1.2         NaN  \n",
       "7                                13.6                1.2         NaN  \n",
       "8                                13.1                1.3         NaN  \n",
       "9                                12.6                1.7         NaN  "
      ]
     },
     "metadata": {},
     "output_type": "display_data"
    },
    {
     "data": {
      "text/html": [
       "<div>\n",
       "<style scoped>\n",
       "    .dataframe tbody tr th:only-of-type {\n",
       "        vertical-align: middle;\n",
       "    }\n",
       "\n",
       "    .dataframe tbody tr th {\n",
       "        vertical-align: top;\n",
       "    }\n",
       "\n",
       "    .dataframe thead th {\n",
       "        text-align: right;\n",
       "    }\n",
       "</style>\n",
       "<table border=\"1\" class=\"dataframe\">\n",
       "  <thead>\n",
       "    <tr style=\"text-align: right;\">\n",
       "      <th></th>\n",
       "      <th>СВЕДЕНИЯ О  КОНТИНГЕНТЕ БОЛЬНЫХ СО ЗЛОКАЧЕСТВЕННЫМИ НОВООБРАЗОВАНИЯМИ, СОСТОЯЩЕМ НА УЧЕТЕ В ОНКОЛОГИЧЕСКИХ УЧРЕЖДЕНИЯХ В 2021 Г.\\nЯичник (С56)                                                                                             Таблица 45</th>\n",
       "      <th>Unnamed: 1</th>\n",
       "      <th>Unnamed: 2</th>\n",
       "      <th>Unnamed: 3</th>\n",
       "      <th>Unnamed: 4</th>\n",
       "      <th>Unnamed: 5</th>\n",
       "      <th>Unnamed: 6</th>\n",
       "      <th>Unnamed: 7</th>\n",
       "      <th>Unnamed: 8</th>\n",
       "      <th>Unnamed: 9</th>\n",
       "    </tr>\n",
       "  </thead>\n",
       "  <tbody>\n",
       "    <tr>\n",
       "      <th>0</th>\n",
       "      <td>Республика, край, область</td>\n",
       "      <td>Взято на учет больных с впервые в жизни уст. д...</td>\n",
       "      <td>в т.ч. вы- явлены активно,\\n%</td>\n",
       "      <td>Находились на учете на конец года</td>\n",
       "      <td>NaN</td>\n",
       "      <td>из них 5 лет и более</td>\n",
       "      <td>NaN</td>\n",
       "      <td>Индекс на- копления контин- гентов</td>\n",
       "      <td>Леталь- ность,\\n%</td>\n",
       "      <td>NaN</td>\n",
       "    </tr>\n",
       "    <tr>\n",
       "      <th>1</th>\n",
       "      <td>NaN</td>\n",
       "      <td>NaN</td>\n",
       "      <td>NaN</td>\n",
       "      <td>абсолют- ное число</td>\n",
       "      <td>на 100 тыс. населения</td>\n",
       "      <td>абсолют- ное число</td>\n",
       "      <td>%  от сост. на учете</td>\n",
       "      <td>NaN</td>\n",
       "      <td>NaN</td>\n",
       "      <td>NaN</td>\n",
       "    </tr>\n",
       "    <tr>\n",
       "      <th>2</th>\n",
       "      <td>РОССИЯ</td>\n",
       "      <td>11584</td>\n",
       "      <td>17.1</td>\n",
       "      <td>117952</td>\n",
       "      <td>80.5</td>\n",
       "      <td>75133</td>\n",
       "      <td>63.7</td>\n",
       "      <td>10.2</td>\n",
       "      <td>5</td>\n",
       "      <td>NaN</td>\n",
       "    </tr>\n",
       "    <tr>\n",
       "      <th>3</th>\n",
       "      <td>ЦЕНТРАЛЬНЫЙ ФО</td>\n",
       "      <td>2994</td>\n",
       "      <td>17.8</td>\n",
       "      <td>34204</td>\n",
       "      <td>86.9</td>\n",
       "      <td>21990</td>\n",
       "      <td>64.3</td>\n",
       "      <td>11.4</td>\n",
       "      <td>4.6</td>\n",
       "      <td>NaN</td>\n",
       "    </tr>\n",
       "    <tr>\n",
       "      <th>4</th>\n",
       "      <td>Белгородская область</td>\n",
       "      <td>123</td>\n",
       "      <td>8.9</td>\n",
       "      <td>1337</td>\n",
       "      <td>86.5</td>\n",
       "      <td>807</td>\n",
       "      <td>60.4</td>\n",
       "      <td>10.9</td>\n",
       "      <td>4.2</td>\n",
       "      <td>NaN</td>\n",
       "    </tr>\n",
       "    <tr>\n",
       "      <th>5</th>\n",
       "      <td>Брянская область</td>\n",
       "      <td>125</td>\n",
       "      <td>21.6</td>\n",
       "      <td>1088</td>\n",
       "      <td>91.6</td>\n",
       "      <td>677</td>\n",
       "      <td>62.2</td>\n",
       "      <td>8.7</td>\n",
       "      <td>5.9</td>\n",
       "      <td>NaN</td>\n",
       "    </tr>\n",
       "    <tr>\n",
       "      <th>6</th>\n",
       "      <td>Владимирская область</td>\n",
       "      <td>165</td>\n",
       "      <td>3.6</td>\n",
       "      <td>1566</td>\n",
       "      <td>116</td>\n",
       "      <td>1029</td>\n",
       "      <td>65.7</td>\n",
       "      <td>9.5</td>\n",
       "      <td>3.2</td>\n",
       "      <td>NaN</td>\n",
       "    </tr>\n",
       "    <tr>\n",
       "      <th>7</th>\n",
       "      <td>Воронежская область</td>\n",
       "      <td>132</td>\n",
       "      <td>7.6</td>\n",
       "      <td>2201</td>\n",
       "      <td>95.1</td>\n",
       "      <td>1564</td>\n",
       "      <td>71.1</td>\n",
       "      <td>16.7</td>\n",
       "      <td>3.9</td>\n",
       "      <td>NaN</td>\n",
       "    </tr>\n",
       "    <tr>\n",
       "      <th>8</th>\n",
       "      <td>Ивановская область</td>\n",
       "      <td>85</td>\n",
       "      <td>24.7</td>\n",
       "      <td>978</td>\n",
       "      <td>98.6</td>\n",
       "      <td>651</td>\n",
       "      <td>66.6</td>\n",
       "      <td>11.5</td>\n",
       "      <td>5.5</td>\n",
       "      <td>NaN</td>\n",
       "    </tr>\n",
       "    <tr>\n",
       "      <th>9</th>\n",
       "      <td>Тверская область</td>\n",
       "      <td>100</td>\n",
       "      <td>26</td>\n",
       "      <td>1125</td>\n",
       "      <td>89.8</td>\n",
       "      <td>784</td>\n",
       "      <td>69.7</td>\n",
       "      <td>11.3</td>\n",
       "      <td>4.7</td>\n",
       "      <td>NaN</td>\n",
       "    </tr>\n",
       "  </tbody>\n",
       "</table>\n",
       "</div>"
      ],
      "text/plain": [
       "  СВЕДЕНИЯ О  КОНТИНГЕНТЕ БОЛЬНЫХ СО ЗЛОКАЧЕСТВЕННЫМИ НОВООБРАЗОВАНИЯМИ, СОСТОЯЩЕМ НА УЧЕТЕ В ОНКОЛОГИЧЕСКИХ УЧРЕЖДЕНИЯХ В 2021 Г.\\nЯичник (С56)                                                                                             Таблица 45  \\\n",
       "0                          Республика, край, область                                                                                                                                                                                                      \n",
       "1                                                NaN                                                                                                                                                                                                      \n",
       "2                                             РОССИЯ                                                                                                                                                                                                      \n",
       "3                                     ЦЕНТРАЛЬНЫЙ ФО                                                                                                                                                                                                      \n",
       "4                               Белгородская область                                                                                                                                                                                                      \n",
       "5                                   Брянская область                                                                                                                                                                                                      \n",
       "6                               Владимирская область                                                                                                                                                                                                      \n",
       "7                                Воронежская область                                                                                                                                                                                                      \n",
       "8                                 Ивановская область                                                                                                                                                                                                      \n",
       "9                                   Тверская область                                                                                                                                                                                                      \n",
       "\n",
       "                                          Unnamed: 1  \\\n",
       "0  Взято на учет больных с впервые в жизни уст. д...   \n",
       "1                                                NaN   \n",
       "2                                              11584   \n",
       "3                                               2994   \n",
       "4                                                123   \n",
       "5                                                125   \n",
       "6                                                165   \n",
       "7                                                132   \n",
       "8                                                 85   \n",
       "9                                                100   \n",
       "\n",
       "                      Unnamed: 2                         Unnamed: 3  \\\n",
       "0  в т.ч. вы- явлены активно,\\n%  Находились на учете на конец года   \n",
       "1                            NaN                 абсолют- ное число   \n",
       "2                           17.1                             117952   \n",
       "3                           17.8                              34204   \n",
       "4                            8.9                               1337   \n",
       "5                           21.6                               1088   \n",
       "6                            3.6                               1566   \n",
       "7                            7.6                               2201   \n",
       "8                           24.7                                978   \n",
       "9                             26                               1125   \n",
       "\n",
       "              Unnamed: 4            Unnamed: 5            Unnamed: 6  \\\n",
       "0                    NaN  из них 5 лет и более                   NaN   \n",
       "1  на 100 тыс. населения    абсолют- ное число  %  от сост. на учете   \n",
       "2                   80.5                 75133                  63.7   \n",
       "3                   86.9                 21990                  64.3   \n",
       "4                   86.5                   807                  60.4   \n",
       "5                   91.6                   677                  62.2   \n",
       "6                    116                  1029                  65.7   \n",
       "7                   95.1                  1564                  71.1   \n",
       "8                   98.6                   651                  66.6   \n",
       "9                   89.8                   784                  69.7   \n",
       "\n",
       "                           Unnamed: 7         Unnamed: 8  Unnamed: 9  \n",
       "0  Индекс на- копления контин- гентов  Леталь- ность,\\n%         NaN  \n",
       "1                                 NaN                NaN         NaN  \n",
       "2                                10.2                  5         NaN  \n",
       "3                                11.4                4.6         NaN  \n",
       "4                                10.9                4.2         NaN  \n",
       "5                                 8.7                5.9         NaN  \n",
       "6                                 9.5                3.2         NaN  \n",
       "7                                16.7                3.9         NaN  \n",
       "8                                11.5                5.5         NaN  \n",
       "9                                11.3                4.7         NaN  "
      ]
     },
     "metadata": {},
     "output_type": "display_data"
    },
    {
     "data": {
      "text/html": [
       "<div>\n",
       "<style scoped>\n",
       "    .dataframe tbody tr th:only-of-type {\n",
       "        vertical-align: middle;\n",
       "    }\n",
       "\n",
       "    .dataframe tbody tr th {\n",
       "        vertical-align: top;\n",
       "    }\n",
       "\n",
       "    .dataframe thead th {\n",
       "        text-align: right;\n",
       "    }\n",
       "</style>\n",
       "<table border=\"1\" class=\"dataframe\">\n",
       "  <thead>\n",
       "    <tr style=\"text-align: right;\">\n",
       "      <th></th>\n",
       "      <th>СВЕДЕНИЯ О  КОНТИНГЕНТЕ БОЛЬНЫХ СО ЗЛОКАЧЕСТВЕННЫМИ НОВООБРАЗОВАНИЯМИ, СОСТОЯЩЕМ НА УЧЕТЕ В ОНКОЛОГИЧЕСКИХ УЧРЕЖДЕНИЯХ В 2021 Г.\\nПредстательная железа (С61)                                                                                       Таблица 46</th>\n",
       "      <th>Unnamed: 1</th>\n",
       "      <th>Unnamed: 2</th>\n",
       "      <th>Unnamed: 3</th>\n",
       "      <th>Unnamed: 4</th>\n",
       "      <th>Unnamed: 5</th>\n",
       "      <th>Unnamed: 6</th>\n",
       "      <th>Unnamed: 7</th>\n",
       "      <th>Unnamed: 8</th>\n",
       "      <th>Unnamed: 9</th>\n",
       "    </tr>\n",
       "  </thead>\n",
       "  <tbody>\n",
       "    <tr>\n",
       "      <th>0</th>\n",
       "      <td>Республика, край, область</td>\n",
       "      <td>Взято на учет больных с впервые в жизни уст. д...</td>\n",
       "      <td>в т.ч. вы- явлены активно,\\n%</td>\n",
       "      <td>Находились на учете на конец года</td>\n",
       "      <td>NaN</td>\n",
       "      <td>из них 5 лет и более</td>\n",
       "      <td>NaN</td>\n",
       "      <td>Индекс на- копления контин- гентов</td>\n",
       "      <td>Леталь- ность,\\n%</td>\n",
       "      <td>NaN</td>\n",
       "    </tr>\n",
       "    <tr>\n",
       "      <th>1</th>\n",
       "      <td>NaN</td>\n",
       "      <td>NaN</td>\n",
       "      <td>NaN</td>\n",
       "      <td>абсолют- ное число</td>\n",
       "      <td>на 100 тыс. населения</td>\n",
       "      <td>абсолют- ное число</td>\n",
       "      <td>%  от сост. на учете</td>\n",
       "      <td>NaN</td>\n",
       "      <td>NaN</td>\n",
       "      <td>NaN</td>\n",
       "    </tr>\n",
       "    <tr>\n",
       "      <th>2</th>\n",
       "      <td>РОССИЯ</td>\n",
       "      <td>35428</td>\n",
       "      <td>29.6</td>\n",
       "      <td>274361</td>\n",
       "      <td>187.3</td>\n",
       "      <td>130467</td>\n",
       "      <td>47.6</td>\n",
       "      <td>7.7</td>\n",
       "      <td>4</td>\n",
       "      <td>NaN</td>\n",
       "    </tr>\n",
       "    <tr>\n",
       "      <th>3</th>\n",
       "      <td>ЦЕНТРАЛЬНЫЙ ФО</td>\n",
       "      <td>10458</td>\n",
       "      <td>31.4</td>\n",
       "      <td>87439</td>\n",
       "      <td>222.3</td>\n",
       "      <td>42753</td>\n",
       "      <td>48.9</td>\n",
       "      <td>8.4</td>\n",
       "      <td>3.3</td>\n",
       "      <td>NaN</td>\n",
       "    </tr>\n",
       "    <tr>\n",
       "      <th>4</th>\n",
       "      <td>Белгородская область</td>\n",
       "      <td>412</td>\n",
       "      <td>15.5</td>\n",
       "      <td>2343</td>\n",
       "      <td>151.6</td>\n",
       "      <td>1036</td>\n",
       "      <td>44.2</td>\n",
       "      <td>5.7</td>\n",
       "      <td>5</td>\n",
       "      <td>NaN</td>\n",
       "    </tr>\n",
       "    <tr>\n",
       "      <th>5</th>\n",
       "      <td>Брянская область</td>\n",
       "      <td>251</td>\n",
       "      <td>17.5</td>\n",
       "      <td>1757</td>\n",
       "      <td>147.9</td>\n",
       "      <td>811</td>\n",
       "      <td>46.2</td>\n",
       "      <td>7</td>\n",
       "      <td>6.6</td>\n",
       "      <td>NaN</td>\n",
       "    </tr>\n",
       "    <tr>\n",
       "      <th>6</th>\n",
       "      <td>Владимирская область</td>\n",
       "      <td>378</td>\n",
       "      <td>5.8</td>\n",
       "      <td>2932</td>\n",
       "      <td>217.1</td>\n",
       "      <td>1407</td>\n",
       "      <td>48</td>\n",
       "      <td>7.8</td>\n",
       "      <td>3.4</td>\n",
       "      <td>NaN</td>\n",
       "    </tr>\n",
       "    <tr>\n",
       "      <th>7</th>\n",
       "      <td>Воронежская область</td>\n",
       "      <td>599</td>\n",
       "      <td>27.9</td>\n",
       "      <td>5053</td>\n",
       "      <td>218.3</td>\n",
       "      <td>2432</td>\n",
       "      <td>48.1</td>\n",
       "      <td>8.4</td>\n",
       "      <td>4.2</td>\n",
       "      <td>NaN</td>\n",
       "    </tr>\n",
       "    <tr>\n",
       "      <th>8</th>\n",
       "      <td>Ивановская область</td>\n",
       "      <td>250</td>\n",
       "      <td>27.2</td>\n",
       "      <td>1908</td>\n",
       "      <td>192.3</td>\n",
       "      <td>801</td>\n",
       "      <td>42</td>\n",
       "      <td>7.6</td>\n",
       "      <td>3.9</td>\n",
       "      <td>NaN</td>\n",
       "    </tr>\n",
       "    <tr>\n",
       "      <th>9</th>\n",
       "      <td>Тверская область</td>\n",
       "      <td>312</td>\n",
       "      <td>16.7</td>\n",
       "      <td>2313</td>\n",
       "      <td>184.6</td>\n",
       "      <td>998</td>\n",
       "      <td>43.1</td>\n",
       "      <td>7.4</td>\n",
       "      <td>4.9</td>\n",
       "      <td>NaN</td>\n",
       "    </tr>\n",
       "  </tbody>\n",
       "</table>\n",
       "</div>"
      ],
      "text/plain": [
       "  СВЕДЕНИЯ О  КОНТИНГЕНТЕ БОЛЬНЫХ СО ЗЛОКАЧЕСТВЕННЫМИ НОВООБРАЗОВАНИЯМИ, СОСТОЯЩЕМ НА УЧЕТЕ В ОНКОЛОГИЧЕСКИХ УЧРЕЖДЕНИЯХ В 2021 Г.\\nПредстательная железа (С61)                                                                                       Таблица 46  \\\n",
       "0                          Республика, край, область                                                                                                                                                                                                               \n",
       "1                                                NaN                                                                                                                                                                                                               \n",
       "2                                             РОССИЯ                                                                                                                                                                                                               \n",
       "3                                     ЦЕНТРАЛЬНЫЙ ФО                                                                                                                                                                                                               \n",
       "4                               Белгородская область                                                                                                                                                                                                               \n",
       "5                                   Брянская область                                                                                                                                                                                                               \n",
       "6                               Владимирская область                                                                                                                                                                                                               \n",
       "7                                Воронежская область                                                                                                                                                                                                               \n",
       "8                                 Ивановская область                                                                                                                                                                                                               \n",
       "9                                   Тверская область                                                                                                                                                                                                               \n",
       "\n",
       "                                          Unnamed: 1  \\\n",
       "0  Взято на учет больных с впервые в жизни уст. д...   \n",
       "1                                                NaN   \n",
       "2                                              35428   \n",
       "3                                              10458   \n",
       "4                                                412   \n",
       "5                                                251   \n",
       "6                                                378   \n",
       "7                                                599   \n",
       "8                                                250   \n",
       "9                                                312   \n",
       "\n",
       "                      Unnamed: 2                         Unnamed: 3  \\\n",
       "0  в т.ч. вы- явлены активно,\\n%  Находились на учете на конец года   \n",
       "1                            NaN                 абсолют- ное число   \n",
       "2                           29.6                             274361   \n",
       "3                           31.4                              87439   \n",
       "4                           15.5                               2343   \n",
       "5                           17.5                               1757   \n",
       "6                            5.8                               2932   \n",
       "7                           27.9                               5053   \n",
       "8                           27.2                               1908   \n",
       "9                           16.7                               2313   \n",
       "\n",
       "              Unnamed: 4            Unnamed: 5            Unnamed: 6  \\\n",
       "0                    NaN  из них 5 лет и более                   NaN   \n",
       "1  на 100 тыс. населения    абсолют- ное число  %  от сост. на учете   \n",
       "2                  187.3                130467                  47.6   \n",
       "3                  222.3                 42753                  48.9   \n",
       "4                  151.6                  1036                  44.2   \n",
       "5                  147.9                   811                  46.2   \n",
       "6                  217.1                  1407                    48   \n",
       "7                  218.3                  2432                  48.1   \n",
       "8                  192.3                   801                    42   \n",
       "9                  184.6                   998                  43.1   \n",
       "\n",
       "                           Unnamed: 7         Unnamed: 8  Unnamed: 9  \n",
       "0  Индекс на- копления контин- гентов  Леталь- ность,\\n%         NaN  \n",
       "1                                 NaN                NaN         NaN  \n",
       "2                                 7.7                  4         NaN  \n",
       "3                                 8.4                3.3         NaN  \n",
       "4                                 5.7                  5         NaN  \n",
       "5                                   7                6.6         NaN  \n",
       "6                                 7.8                3.4         NaN  \n",
       "7                                 8.4                4.2         NaN  \n",
       "8                                 7.6                3.9         NaN  \n",
       "9                                 7.4                4.9         NaN  "
      ]
     },
     "metadata": {},
     "output_type": "display_data"
    },
    {
     "data": {
      "text/html": [
       "<div>\n",
       "<style scoped>\n",
       "    .dataframe tbody tr th:only-of-type {\n",
       "        vertical-align: middle;\n",
       "    }\n",
       "\n",
       "    .dataframe tbody tr th {\n",
       "        vertical-align: top;\n",
       "    }\n",
       "\n",
       "    .dataframe thead th {\n",
       "        text-align: right;\n",
       "    }\n",
       "</style>\n",
       "<table border=\"1\" class=\"dataframe\">\n",
       "  <thead>\n",
       "    <tr style=\"text-align: right;\">\n",
       "      <th></th>\n",
       "      <th>СВЕДЕНИЯ О  КОНТИНГЕНТЕ БОЛЬНЫХ СО ЗЛОКАЧЕСТВЕННЫМИ НОВООБРАЗОВАНИЯМИ, СОСТОЯЩЕМ НА УЧЕТЕ В ОНКОЛОГИЧЕСКИХ УЧРЕЖДЕНИЯХ В 2021 Г.\\nПочка (С64)                                                                                                          Таблица 47</th>\n",
       "      <th>Unnamed: 1</th>\n",
       "      <th>Unnamed: 2</th>\n",
       "      <th>Unnamed: 3</th>\n",
       "      <th>Unnamed: 4</th>\n",
       "      <th>Unnamed: 5</th>\n",
       "      <th>Unnamed: 6</th>\n",
       "      <th>Unnamed: 7</th>\n",
       "      <th>Unnamed: 8</th>\n",
       "      <th>Unnamed: 9</th>\n",
       "    </tr>\n",
       "  </thead>\n",
       "  <tbody>\n",
       "    <tr>\n",
       "      <th>0</th>\n",
       "      <td>Республика, край, область</td>\n",
       "      <td>Взято на учет больных с впервые в жизни уст. д...</td>\n",
       "      <td>в т.ч. вы- явлены активно,\\n%</td>\n",
       "      <td>Находились на учете на конец года</td>\n",
       "      <td>NaN</td>\n",
       "      <td>из них 5 лет и более</td>\n",
       "      <td>NaN</td>\n",
       "      <td>Индекс на- копления контин- гентов</td>\n",
       "      <td>Леталь- ность,\\n%</td>\n",
       "      <td>NaN</td>\n",
       "    </tr>\n",
       "    <tr>\n",
       "      <th>1</th>\n",
       "      <td>NaN</td>\n",
       "      <td>NaN</td>\n",
       "      <td>NaN</td>\n",
       "      <td>абсолют- ное число</td>\n",
       "      <td>на 100 тыс. населения</td>\n",
       "      <td>абсолют- ное число</td>\n",
       "      <td>%  от сост. на учете</td>\n",
       "      <td>NaN</td>\n",
       "      <td>NaN</td>\n",
       "      <td>NaN</td>\n",
       "    </tr>\n",
       "    <tr>\n",
       "      <th>2</th>\n",
       "      <td>РОССИЯ</td>\n",
       "      <td>18306</td>\n",
       "      <td>23</td>\n",
       "      <td>194464</td>\n",
       "      <td>132.8</td>\n",
       "      <td>119456</td>\n",
       "      <td>61.4</td>\n",
       "      <td>10.6</td>\n",
       "      <td>3.3</td>\n",
       "      <td>NaN</td>\n",
       "    </tr>\n",
       "    <tr>\n",
       "      <th>3</th>\n",
       "      <td>ЦЕНТРАЛЬНЫЙ ФО</td>\n",
       "      <td>4484</td>\n",
       "      <td>26.8</td>\n",
       "      <td>52576</td>\n",
       "      <td>133.6</td>\n",
       "      <td>32780</td>\n",
       "      <td>62.3</td>\n",
       "      <td>11.7</td>\n",
       "      <td>3.1</td>\n",
       "      <td>NaN</td>\n",
       "    </tr>\n",
       "    <tr>\n",
       "      <th>4</th>\n",
       "      <td>Белгородская область</td>\n",
       "      <td>234</td>\n",
       "      <td>14.5</td>\n",
       "      <td>2218</td>\n",
       "      <td>143.5</td>\n",
       "      <td>1319</td>\n",
       "      <td>59.5</td>\n",
       "      <td>9.5</td>\n",
       "      <td>3.1</td>\n",
       "      <td>NaN</td>\n",
       "    </tr>\n",
       "    <tr>\n",
       "      <th>5</th>\n",
       "      <td>Брянская область</td>\n",
       "      <td>188</td>\n",
       "      <td>13.8</td>\n",
       "      <td>1613</td>\n",
       "      <td>135.8</td>\n",
       "      <td>890</td>\n",
       "      <td>55.2</td>\n",
       "      <td>8.6</td>\n",
       "      <td>4.2</td>\n",
       "      <td>NaN</td>\n",
       "    </tr>\n",
       "    <tr>\n",
       "      <th>6</th>\n",
       "      <td>Владимирская область</td>\n",
       "      <td>193</td>\n",
       "      <td>10.9</td>\n",
       "      <td>2281</td>\n",
       "      <td>168.9</td>\n",
       "      <td>1456</td>\n",
       "      <td>63.8</td>\n",
       "      <td>11.8</td>\n",
       "      <td>2.6</td>\n",
       "      <td>NaN</td>\n",
       "    </tr>\n",
       "    <tr>\n",
       "      <th>7</th>\n",
       "      <td>Воронежская область</td>\n",
       "      <td>287</td>\n",
       "      <td>13.6</td>\n",
       "      <td>2933</td>\n",
       "      <td>126.7</td>\n",
       "      <td>1829</td>\n",
       "      <td>62.4</td>\n",
       "      <td>10.2</td>\n",
       "      <td>3</td>\n",
       "      <td>NaN</td>\n",
       "    </tr>\n",
       "    <tr>\n",
       "      <th>8</th>\n",
       "      <td>Ивановская область</td>\n",
       "      <td>158</td>\n",
       "      <td>32.9</td>\n",
       "      <td>1510</td>\n",
       "      <td>152.2</td>\n",
       "      <td>904</td>\n",
       "      <td>59.9</td>\n",
       "      <td>9.6</td>\n",
       "      <td>3.5</td>\n",
       "      <td>NaN</td>\n",
       "    </tr>\n",
       "    <tr>\n",
       "      <th>9</th>\n",
       "      <td>Тверская область</td>\n",
       "      <td>174</td>\n",
       "      <td>37.4</td>\n",
       "      <td>1858</td>\n",
       "      <td>148.3</td>\n",
       "      <td>1202</td>\n",
       "      <td>64.7</td>\n",
       "      <td>10.7</td>\n",
       "      <td>3.9</td>\n",
       "      <td>NaN</td>\n",
       "    </tr>\n",
       "  </tbody>\n",
       "</table>\n",
       "</div>"
      ],
      "text/plain": [
       "  СВЕДЕНИЯ О  КОНТИНГЕНТЕ БОЛЬНЫХ СО ЗЛОКАЧЕСТВЕННЫМИ НОВООБРАЗОВАНИЯМИ, СОСТОЯЩЕМ НА УЧЕТЕ В ОНКОЛОГИЧЕСКИХ УЧРЕЖДЕНИЯХ В 2021 Г.\\nПочка (С64)                                                                                                          Таблица 47  \\\n",
       "0                          Республика, край, область                                                                                                                                                                                                                  \n",
       "1                                                NaN                                                                                                                                                                                                                  \n",
       "2                                             РОССИЯ                                                                                                                                                                                                                  \n",
       "3                                     ЦЕНТРАЛЬНЫЙ ФО                                                                                                                                                                                                                  \n",
       "4                               Белгородская область                                                                                                                                                                                                                  \n",
       "5                                   Брянская область                                                                                                                                                                                                                  \n",
       "6                               Владимирская область                                                                                                                                                                                                                  \n",
       "7                                Воронежская область                                                                                                                                                                                                                  \n",
       "8                                 Ивановская область                                                                                                                                                                                                                  \n",
       "9                                   Тверская область                                                                                                                                                                                                                  \n",
       "\n",
       "                                          Unnamed: 1  \\\n",
       "0  Взято на учет больных с впервые в жизни уст. д...   \n",
       "1                                                NaN   \n",
       "2                                              18306   \n",
       "3                                               4484   \n",
       "4                                                234   \n",
       "5                                                188   \n",
       "6                                                193   \n",
       "7                                                287   \n",
       "8                                                158   \n",
       "9                                                174   \n",
       "\n",
       "                      Unnamed: 2                         Unnamed: 3  \\\n",
       "0  в т.ч. вы- явлены активно,\\n%  Находились на учете на конец года   \n",
       "1                            NaN                 абсолют- ное число   \n",
       "2                             23                             194464   \n",
       "3                           26.8                              52576   \n",
       "4                           14.5                               2218   \n",
       "5                           13.8                               1613   \n",
       "6                           10.9                               2281   \n",
       "7                           13.6                               2933   \n",
       "8                           32.9                               1510   \n",
       "9                           37.4                               1858   \n",
       "\n",
       "              Unnamed: 4            Unnamed: 5            Unnamed: 6  \\\n",
       "0                    NaN  из них 5 лет и более                   NaN   \n",
       "1  на 100 тыс. населения    абсолют- ное число  %  от сост. на учете   \n",
       "2                  132.8                119456                  61.4   \n",
       "3                  133.6                 32780                  62.3   \n",
       "4                  143.5                  1319                  59.5   \n",
       "5                  135.8                   890                  55.2   \n",
       "6                  168.9                  1456                  63.8   \n",
       "7                  126.7                  1829                  62.4   \n",
       "8                  152.2                   904                  59.9   \n",
       "9                  148.3                  1202                  64.7   \n",
       "\n",
       "                           Unnamed: 7         Unnamed: 8  Unnamed: 9  \n",
       "0  Индекс на- копления контин- гентов  Леталь- ность,\\n%         NaN  \n",
       "1                                 NaN                NaN         NaN  \n",
       "2                                10.6                3.3         NaN  \n",
       "3                                11.7                3.1         NaN  \n",
       "4                                 9.5                3.1         NaN  \n",
       "5                                 8.6                4.2         NaN  \n",
       "6                                11.8                2.6         NaN  \n",
       "7                                10.2                  3         NaN  \n",
       "8                                 9.6                3.5         NaN  \n",
       "9                                10.7                3.9         NaN  "
      ]
     },
     "metadata": {},
     "output_type": "display_data"
    },
    {
     "data": {
      "text/html": [
       "<div>\n",
       "<style scoped>\n",
       "    .dataframe tbody tr th:only-of-type {\n",
       "        vertical-align: middle;\n",
       "    }\n",
       "\n",
       "    .dataframe tbody tr th {\n",
       "        vertical-align: top;\n",
       "    }\n",
       "\n",
       "    .dataframe thead th {\n",
       "        text-align: right;\n",
       "    }\n",
       "</style>\n",
       "<table border=\"1\" class=\"dataframe\">\n",
       "  <thead>\n",
       "    <tr style=\"text-align: right;\">\n",
       "      <th></th>\n",
       "      <th>СВЕДЕНИЯ О  КОНТИНГЕНТЕ БОЛЬНЫХ СО ЗЛОКАЧЕСТВЕННЫМИ НОВООБРАЗОВАНИЯМИ, СОСТОЯЩЕМ НА УЧЕТЕ В ОНКОЛОГИЧЕСКИХ УЧРЕЖДЕНИЯХ В 2021 Г.                                                                      Таблица 48\\nМочевой пузырь (С67)</th>\n",
       "      <th>Unnamed: 1</th>\n",
       "      <th>Unnamed: 2</th>\n",
       "      <th>Unnamed: 3</th>\n",
       "      <th>Unnamed: 4</th>\n",
       "      <th>Unnamed: 5</th>\n",
       "      <th>Unnamed: 6</th>\n",
       "      <th>Unnamed: 7</th>\n",
       "      <th>Unnamed: 8</th>\n",
       "      <th>Unnamed: 9</th>\n",
       "    </tr>\n",
       "  </thead>\n",
       "  <tbody>\n",
       "    <tr>\n",
       "      <th>0</th>\n",
       "      <td>Республика, край, область</td>\n",
       "      <td>Взято на учет больных с впервые в жизни уст. д...</td>\n",
       "      <td>в т.ч. вы- явлены активно,\\n%</td>\n",
       "      <td>Находились на учете на конец года</td>\n",
       "      <td>NaN</td>\n",
       "      <td>из них 5 лет и более</td>\n",
       "      <td>NaN</td>\n",
       "      <td>Индекс на- копления контин- гентов</td>\n",
       "      <td>Леталь- ность,\\n%</td>\n",
       "      <td>NaN</td>\n",
       "    </tr>\n",
       "    <tr>\n",
       "      <th>1</th>\n",
       "      <td>NaN</td>\n",
       "      <td>NaN</td>\n",
       "      <td>NaN</td>\n",
       "      <td>абсолют- ное число</td>\n",
       "      <td>на 100 тыс. населения</td>\n",
       "      <td>абсолют- ное число</td>\n",
       "      <td>%  от сост. на учете</td>\n",
       "      <td>NaN</td>\n",
       "      <td>NaN</td>\n",
       "      <td>NaN</td>\n",
       "    </tr>\n",
       "    <tr>\n",
       "      <th>2</th>\n",
       "      <td>РОССИЯ</td>\n",
       "      <td>13139</td>\n",
       "      <td>17.8</td>\n",
       "      <td>117188</td>\n",
       "      <td>80</td>\n",
       "      <td>66976</td>\n",
       "      <td>57.2</td>\n",
       "      <td>8.9</td>\n",
       "      <td>4</td>\n",
       "      <td>NaN</td>\n",
       "    </tr>\n",
       "    <tr>\n",
       "      <th>3</th>\n",
       "      <td>ЦЕНТРАЛЬНЫЙ ФО</td>\n",
       "      <td>3496</td>\n",
       "      <td>19.3</td>\n",
       "      <td>34383</td>\n",
       "      <td>87.4</td>\n",
       "      <td>19474</td>\n",
       "      <td>56.6</td>\n",
       "      <td>9.8</td>\n",
       "      <td>3.7</td>\n",
       "      <td>NaN</td>\n",
       "    </tr>\n",
       "    <tr>\n",
       "      <th>4</th>\n",
       "      <td>Белгородская область</td>\n",
       "      <td>180</td>\n",
       "      <td>12.2</td>\n",
       "      <td>1551</td>\n",
       "      <td>100.4</td>\n",
       "      <td>897</td>\n",
       "      <td>57.8</td>\n",
       "      <td>8.6</td>\n",
       "      <td>3.1</td>\n",
       "      <td>NaN</td>\n",
       "    </tr>\n",
       "    <tr>\n",
       "      <th>5</th>\n",
       "      <td>Брянская область</td>\n",
       "      <td>145</td>\n",
       "      <td>12.4</td>\n",
       "      <td>1054</td>\n",
       "      <td>88.8</td>\n",
       "      <td>518</td>\n",
       "      <td>49.1</td>\n",
       "      <td>7.3</td>\n",
       "      <td>5.9</td>\n",
       "      <td>NaN</td>\n",
       "    </tr>\n",
       "    <tr>\n",
       "      <th>6</th>\n",
       "      <td>Владимирская область</td>\n",
       "      <td>144</td>\n",
       "      <td>4.9</td>\n",
       "      <td>1285</td>\n",
       "      <td>95.2</td>\n",
       "      <td>745</td>\n",
       "      <td>58</td>\n",
       "      <td>8.9</td>\n",
       "      <td>2.9</td>\n",
       "      <td>NaN</td>\n",
       "    </tr>\n",
       "    <tr>\n",
       "      <th>7</th>\n",
       "      <td>Воронежская область</td>\n",
       "      <td>233</td>\n",
       "      <td>10.7</td>\n",
       "      <td>2283</td>\n",
       "      <td>98.6</td>\n",
       "      <td>1327</td>\n",
       "      <td>58.1</td>\n",
       "      <td>9.8</td>\n",
       "      <td>3.1</td>\n",
       "      <td>NaN</td>\n",
       "    </tr>\n",
       "    <tr>\n",
       "      <th>8</th>\n",
       "      <td>Ивановская область</td>\n",
       "      <td>111</td>\n",
       "      <td>23.4</td>\n",
       "      <td>926</td>\n",
       "      <td>93.3</td>\n",
       "      <td>485</td>\n",
       "      <td>52.4</td>\n",
       "      <td>8.3</td>\n",
       "      <td>2.8</td>\n",
       "      <td>NaN</td>\n",
       "    </tr>\n",
       "    <tr>\n",
       "      <th>9</th>\n",
       "      <td>Тверская область</td>\n",
       "      <td>99</td>\n",
       "      <td>15.2</td>\n",
       "      <td>1177</td>\n",
       "      <td>93.9</td>\n",
       "      <td>763</td>\n",
       "      <td>64.8</td>\n",
       "      <td>11.9</td>\n",
       "      <td>3.1</td>\n",
       "      <td>NaN</td>\n",
       "    </tr>\n",
       "  </tbody>\n",
       "</table>\n",
       "</div>"
      ],
      "text/plain": [
       "  СВЕДЕНИЯ О  КОНТИНГЕНТЕ БОЛЬНЫХ СО ЗЛОКАЧЕСТВЕННЫМИ НОВООБРАЗОВАНИЯМИ, СОСТОЯЩЕМ НА УЧЕТЕ В ОНКОЛОГИЧЕСКИХ УЧРЕЖДЕНИЯХ В 2021 Г.                                                                      Таблица 48\\nМочевой пузырь (С67)  \\\n",
       "0                          Республика, край, область                                                                                                                                                                                       \n",
       "1                                                NaN                                                                                                                                                                                       \n",
       "2                                             РОССИЯ                                                                                                                                                                                       \n",
       "3                                     ЦЕНТРАЛЬНЫЙ ФО                                                                                                                                                                                       \n",
       "4                               Белгородская область                                                                                                                                                                                       \n",
       "5                                   Брянская область                                                                                                                                                                                       \n",
       "6                               Владимирская область                                                                                                                                                                                       \n",
       "7                                Воронежская область                                                                                                                                                                                       \n",
       "8                                 Ивановская область                                                                                                                                                                                       \n",
       "9                                   Тверская область                                                                                                                                                                                       \n",
       "\n",
       "                                          Unnamed: 1  \\\n",
       "0  Взято на учет больных с впервые в жизни уст. д...   \n",
       "1                                                NaN   \n",
       "2                                              13139   \n",
       "3                                               3496   \n",
       "4                                                180   \n",
       "5                                                145   \n",
       "6                                                144   \n",
       "7                                                233   \n",
       "8                                                111   \n",
       "9                                                 99   \n",
       "\n",
       "                      Unnamed: 2                         Unnamed: 3  \\\n",
       "0  в т.ч. вы- явлены активно,\\n%  Находились на учете на конец года   \n",
       "1                            NaN                 абсолют- ное число   \n",
       "2                           17.8                             117188   \n",
       "3                           19.3                              34383   \n",
       "4                           12.2                               1551   \n",
       "5                           12.4                               1054   \n",
       "6                            4.9                               1285   \n",
       "7                           10.7                               2283   \n",
       "8                           23.4                                926   \n",
       "9                           15.2                               1177   \n",
       "\n",
       "              Unnamed: 4            Unnamed: 5            Unnamed: 6  \\\n",
       "0                    NaN  из них 5 лет и более                   NaN   \n",
       "1  на 100 тыс. населения    абсолют- ное число  %  от сост. на учете   \n",
       "2                     80                 66976                  57.2   \n",
       "3                   87.4                 19474                  56.6   \n",
       "4                  100.4                   897                  57.8   \n",
       "5                   88.8                   518                  49.1   \n",
       "6                   95.2                   745                    58   \n",
       "7                   98.6                  1327                  58.1   \n",
       "8                   93.3                   485                  52.4   \n",
       "9                   93.9                   763                  64.8   \n",
       "\n",
       "                           Unnamed: 7         Unnamed: 8  Unnamed: 9  \n",
       "0  Индекс на- копления контин- гентов  Леталь- ность,\\n%         NaN  \n",
       "1                                 NaN                NaN         NaN  \n",
       "2                                 8.9                  4         NaN  \n",
       "3                                 9.8                3.7         NaN  \n",
       "4                                 8.6                3.1         NaN  \n",
       "5                                 7.3                5.9         NaN  \n",
       "6                                 8.9                2.9         NaN  \n",
       "7                                 9.8                3.1         NaN  \n",
       "8                                 8.3                2.8         NaN  \n",
       "9                                11.9                3.1         NaN  "
      ]
     },
     "metadata": {},
     "output_type": "display_data"
    },
    {
     "data": {
      "text/html": [
       "<div>\n",
       "<style scoped>\n",
       "    .dataframe tbody tr th:only-of-type {\n",
       "        vertical-align: middle;\n",
       "    }\n",
       "\n",
       "    .dataframe tbody tr th {\n",
       "        vertical-align: top;\n",
       "    }\n",
       "\n",
       "    .dataframe thead th {\n",
       "        text-align: right;\n",
       "    }\n",
       "</style>\n",
       "<table border=\"1\" class=\"dataframe\">\n",
       "  <thead>\n",
       "    <tr style=\"text-align: right;\">\n",
       "      <th></th>\n",
       "      <th>СВЕДЕНИЯ О  КОНТИНГЕНТЕ БОЛЬНЫХ СО ЗЛОКАЧЕСТВЕННЫМИ НОВООБРАЗОВАНИЯМИ, СОСТОЯЩЕМ НА УЧЕТЕ В ОНКОЛОГИЧЕСКИХ УЧРЕЖДЕНИЯХ В 2021 Г.\\nЩитовидная железа (С73)                                                          Таблица 49</th>\n",
       "      <th>Unnamed: 1</th>\n",
       "      <th>Unnamed: 2</th>\n",
       "      <th>Unnamed: 3</th>\n",
       "      <th>Unnamed: 4</th>\n",
       "      <th>Unnamed: 5</th>\n",
       "      <th>Unnamed: 6</th>\n",
       "      <th>Unnamed: 7</th>\n",
       "      <th>Unnamed: 8</th>\n",
       "      <th>Unnamed: 9</th>\n",
       "    </tr>\n",
       "  </thead>\n",
       "  <tbody>\n",
       "    <tr>\n",
       "      <th>0</th>\n",
       "      <td>Республика, край, область</td>\n",
       "      <td>Взято на учет больных с впервые в жизни уст. д...</td>\n",
       "      <td>в т.ч. вы- явлены активно,\\n%</td>\n",
       "      <td>Находились на учете на конец года</td>\n",
       "      <td>NaN</td>\n",
       "      <td>из них 5 лет и более</td>\n",
       "      <td>NaN</td>\n",
       "      <td>Индекс на- копления контин- гентов</td>\n",
       "      <td>Леталь- ность,\\n%</td>\n",
       "      <td>NaN</td>\n",
       "    </tr>\n",
       "    <tr>\n",
       "      <th>1</th>\n",
       "      <td>NaN</td>\n",
       "      <td>NaN</td>\n",
       "      <td>NaN</td>\n",
       "      <td>абсолют- ное число</td>\n",
       "      <td>на 100 тыс. населения</td>\n",
       "      <td>абсолют- ное число</td>\n",
       "      <td>%  от сост. на учете</td>\n",
       "      <td>NaN</td>\n",
       "      <td>NaN</td>\n",
       "      <td>NaN</td>\n",
       "    </tr>\n",
       "    <tr>\n",
       "      <th>2</th>\n",
       "      <td>РОССИЯ</td>\n",
       "      <td>11243</td>\n",
       "      <td>32.7</td>\n",
       "      <td>184556</td>\n",
       "      <td>126</td>\n",
       "      <td>130692</td>\n",
       "      <td>70.8</td>\n",
       "      <td>16.4</td>\n",
       "      <td>0.5</td>\n",
       "      <td>NaN</td>\n",
       "    </tr>\n",
       "    <tr>\n",
       "      <th>3</th>\n",
       "      <td>ЦЕНТРАЛЬНЫЙ ФО</td>\n",
       "      <td>2991</td>\n",
       "      <td>28.6</td>\n",
       "      <td>52600</td>\n",
       "      <td>133.7</td>\n",
       "      <td>37819</td>\n",
       "      <td>71.9</td>\n",
       "      <td>17.6</td>\n",
       "      <td>0.4</td>\n",
       "      <td>NaN</td>\n",
       "    </tr>\n",
       "    <tr>\n",
       "      <th>4</th>\n",
       "      <td>Белгородская область</td>\n",
       "      <td>149</td>\n",
       "      <td>14.1</td>\n",
       "      <td>2108</td>\n",
       "      <td>136.4</td>\n",
       "      <td>1480</td>\n",
       "      <td>70.2</td>\n",
       "      <td>14.1</td>\n",
       "      <td>0.3</td>\n",
       "      <td>NaN</td>\n",
       "    </tr>\n",
       "    <tr>\n",
       "      <th>5</th>\n",
       "      <td>Брянская область</td>\n",
       "      <td>213</td>\n",
       "      <td>21.1</td>\n",
       "      <td>5571</td>\n",
       "      <td>469.1</td>\n",
       "      <td>4406</td>\n",
       "      <td>79.1</td>\n",
       "      <td>26.2</td>\n",
       "      <td>0.1</td>\n",
       "      <td>NaN</td>\n",
       "    </tr>\n",
       "    <tr>\n",
       "      <th>6</th>\n",
       "      <td>Владимирская область</td>\n",
       "      <td>102</td>\n",
       "      <td>20.6</td>\n",
       "      <td>1450</td>\n",
       "      <td>107.4</td>\n",
       "      <td>943</td>\n",
       "      <td>65</td>\n",
       "      <td>14.2</td>\n",
       "      <td>0.3</td>\n",
       "      <td>NaN</td>\n",
       "    </tr>\n",
       "    <tr>\n",
       "      <th>7</th>\n",
       "      <td>Воронежская область</td>\n",
       "      <td>170</td>\n",
       "      <td>36.5</td>\n",
       "      <td>3952</td>\n",
       "      <td>170.7</td>\n",
       "      <td>3054</td>\n",
       "      <td>77.3</td>\n",
       "      <td>23.2</td>\n",
       "      <td>0.3</td>\n",
       "      <td>NaN</td>\n",
       "    </tr>\n",
       "    <tr>\n",
       "      <th>8</th>\n",
       "      <td>Ивановская область</td>\n",
       "      <td>48</td>\n",
       "      <td>31.3</td>\n",
       "      <td>934</td>\n",
       "      <td>94.1</td>\n",
       "      <td>716</td>\n",
       "      <td>76.7</td>\n",
       "      <td>19.5</td>\n",
       "      <td>0.4</td>\n",
       "      <td>NaN</td>\n",
       "    </tr>\n",
       "    <tr>\n",
       "      <th>9</th>\n",
       "      <td>Тверская область</td>\n",
       "      <td>90</td>\n",
       "      <td>50</td>\n",
       "      <td>2486</td>\n",
       "      <td>198.4</td>\n",
       "      <td>2125</td>\n",
       "      <td>85.5</td>\n",
       "      <td>27.6</td>\n",
       "      <td>0.5</td>\n",
       "      <td>NaN</td>\n",
       "    </tr>\n",
       "  </tbody>\n",
       "</table>\n",
       "</div>"
      ],
      "text/plain": [
       "  СВЕДЕНИЯ О  КОНТИНГЕНТЕ БОЛЬНЫХ СО ЗЛОКАЧЕСТВЕННЫМИ НОВООБРАЗОВАНИЯМИ, СОСТОЯЩЕМ НА УЧЕТЕ В ОНКОЛОГИЧЕСКИХ УЧРЕЖДЕНИЯХ В 2021 Г.\\nЩитовидная железа (С73)                                                          Таблица 49  \\\n",
       "0                          Республика, край, область                                                                                                                                                                              \n",
       "1                                                NaN                                                                                                                                                                              \n",
       "2                                             РОССИЯ                                                                                                                                                                              \n",
       "3                                     ЦЕНТРАЛЬНЫЙ ФО                                                                                                                                                                              \n",
       "4                               Белгородская область                                                                                                                                                                              \n",
       "5                                   Брянская область                                                                                                                                                                              \n",
       "6                               Владимирская область                                                                                                                                                                              \n",
       "7                                Воронежская область                                                                                                                                                                              \n",
       "8                                 Ивановская область                                                                                                                                                                              \n",
       "9                                   Тверская область                                                                                                                                                                              \n",
       "\n",
       "                                          Unnamed: 1  \\\n",
       "0  Взято на учет больных с впервые в жизни уст. д...   \n",
       "1                                                NaN   \n",
       "2                                              11243   \n",
       "3                                               2991   \n",
       "4                                                149   \n",
       "5                                                213   \n",
       "6                                                102   \n",
       "7                                                170   \n",
       "8                                                 48   \n",
       "9                                                 90   \n",
       "\n",
       "                      Unnamed: 2                         Unnamed: 3  \\\n",
       "0  в т.ч. вы- явлены активно,\\n%  Находились на учете на конец года   \n",
       "1                            NaN                 абсолют- ное число   \n",
       "2                           32.7                             184556   \n",
       "3                           28.6                              52600   \n",
       "4                           14.1                               2108   \n",
       "5                           21.1                               5571   \n",
       "6                           20.6                               1450   \n",
       "7                           36.5                               3952   \n",
       "8                           31.3                                934   \n",
       "9                             50                               2486   \n",
       "\n",
       "              Unnamed: 4            Unnamed: 5            Unnamed: 6  \\\n",
       "0                    NaN  из них 5 лет и более                   NaN   \n",
       "1  на 100 тыс. населения    абсолют- ное число  %  от сост. на учете   \n",
       "2                    126                130692                  70.8   \n",
       "3                  133.7                 37819                  71.9   \n",
       "4                  136.4                  1480                  70.2   \n",
       "5                  469.1                  4406                  79.1   \n",
       "6                  107.4                   943                    65   \n",
       "7                  170.7                  3054                  77.3   \n",
       "8                   94.1                   716                  76.7   \n",
       "9                  198.4                  2125                  85.5   \n",
       "\n",
       "                           Unnamed: 7         Unnamed: 8  Unnamed: 9  \n",
       "0  Индекс на- копления контин- гентов  Леталь- ность,\\n%         NaN  \n",
       "1                                 NaN                NaN         NaN  \n",
       "2                                16.4                0.5         NaN  \n",
       "3                                17.6                0.4         NaN  \n",
       "4                                14.1                0.3         NaN  \n",
       "5                                26.2                0.1         NaN  \n",
       "6                                14.2                0.3         NaN  \n",
       "7                                23.2                0.3         NaN  \n",
       "8                                19.5                0.4         NaN  \n",
       "9                                27.6                0.5         NaN  "
      ]
     },
     "metadata": {},
     "output_type": "display_data"
    },
    {
     "data": {
      "text/html": [
       "<div>\n",
       "<style scoped>\n",
       "    .dataframe tbody tr th:only-of-type {\n",
       "        vertical-align: middle;\n",
       "    }\n",
       "\n",
       "    .dataframe tbody tr th {\n",
       "        vertical-align: top;\n",
       "    }\n",
       "\n",
       "    .dataframe thead th {\n",
       "        text-align: right;\n",
       "    }\n",
       "</style>\n",
       "<table border=\"1\" class=\"dataframe\">\n",
       "  <thead>\n",
       "    <tr style=\"text-align: right;\">\n",
       "      <th></th>\n",
       "      <th>СВЕДЕНИЯ О  КОНТИНГЕНТЕ БОЛЬНЫХ СО ЗЛОКАЧЕСТВЕННЫМИ НОВООБРАЗОВАНИЯМИ, СОСТОЯЩЕМ НА УЧЕТЕ В ОНКОЛОГИЧЕСКИХ УЧРЕЖДЕНИЯХ В 2021 Г.\\nЗлокачественные лимфомы (С81-86;88,90,96)                                     Таблица 50</th>\n",
       "      <th>Unnamed: 1</th>\n",
       "      <th>Unnamed: 2</th>\n",
       "      <th>Unnamed: 3</th>\n",
       "      <th>Unnamed: 4</th>\n",
       "      <th>Unnamed: 5</th>\n",
       "      <th>Unnamed: 6</th>\n",
       "      <th>Unnamed: 7</th>\n",
       "      <th>Unnamed: 8</th>\n",
       "      <th>Unnamed: 9</th>\n",
       "    </tr>\n",
       "  </thead>\n",
       "  <tbody>\n",
       "    <tr>\n",
       "      <th>0</th>\n",
       "      <td>Республика, край, область</td>\n",
       "      <td>Взято на учет больных с впервые в жизни уст. д...</td>\n",
       "      <td>в т.ч. вы- явлены активно,\\n%</td>\n",
       "      <td>Находились на учете на конец года</td>\n",
       "      <td>NaN</td>\n",
       "      <td>из них 5 лет и более</td>\n",
       "      <td>NaN</td>\n",
       "      <td>Индекс на- копления контин- гентов</td>\n",
       "      <td>Леталь- ность,\\n%</td>\n",
       "      <td>NaN</td>\n",
       "    </tr>\n",
       "    <tr>\n",
       "      <th>1</th>\n",
       "      <td>NaN</td>\n",
       "      <td>NaN</td>\n",
       "      <td>NaN</td>\n",
       "      <td>абсолют- ное число</td>\n",
       "      <td>на 100 тыс. населения</td>\n",
       "      <td>абсолют- ное число</td>\n",
       "      <td>%  от сост. на учете</td>\n",
       "      <td>NaN</td>\n",
       "      <td>NaN</td>\n",
       "      <td>NaN</td>\n",
       "    </tr>\n",
       "    <tr>\n",
       "      <th>2</th>\n",
       "      <td>РОССИЯ</td>\n",
       "      <td>14087</td>\n",
       "      <td>8.3</td>\n",
       "      <td>137286</td>\n",
       "      <td>93.7</td>\n",
       "      <td>86555</td>\n",
       "      <td>63</td>\n",
       "      <td>9.7</td>\n",
       "      <td>4.3</td>\n",
       "      <td>NaN</td>\n",
       "    </tr>\n",
       "    <tr>\n",
       "      <th>3</th>\n",
       "      <td>ЦЕНТРАЛЬНЫЙ ФО</td>\n",
       "      <td>3617</td>\n",
       "      <td>10</td>\n",
       "      <td>41683</td>\n",
       "      <td>105.9</td>\n",
       "      <td>26078</td>\n",
       "      <td>62.6</td>\n",
       "      <td>11.5</td>\n",
       "      <td>3.6</td>\n",
       "      <td>NaN</td>\n",
       "    </tr>\n",
       "    <tr>\n",
       "      <th>4</th>\n",
       "      <td>Белгородская область</td>\n",
       "      <td>155</td>\n",
       "      <td>11</td>\n",
       "      <td>1583</td>\n",
       "      <td>102.4</td>\n",
       "      <td>926</td>\n",
       "      <td>58.5</td>\n",
       "      <td>10.2</td>\n",
       "      <td>3.2</td>\n",
       "      <td>NaN</td>\n",
       "    </tr>\n",
       "    <tr>\n",
       "      <th>5</th>\n",
       "      <td>Брянская область</td>\n",
       "      <td>161</td>\n",
       "      <td>5</td>\n",
       "      <td>1274</td>\n",
       "      <td>107.3</td>\n",
       "      <td>815</td>\n",
       "      <td>64</td>\n",
       "      <td>7.9</td>\n",
       "      <td>6</td>\n",
       "      <td>NaN</td>\n",
       "    </tr>\n",
       "    <tr>\n",
       "      <th>6</th>\n",
       "      <td>Владимирская область</td>\n",
       "      <td>125</td>\n",
       "      <td>2.4</td>\n",
       "      <td>1449</td>\n",
       "      <td>107.3</td>\n",
       "      <td>986</td>\n",
       "      <td>68</td>\n",
       "      <td>11.6</td>\n",
       "      <td>2.9</td>\n",
       "      <td>NaN</td>\n",
       "    </tr>\n",
       "    <tr>\n",
       "      <th>7</th>\n",
       "      <td>Воронежская область</td>\n",
       "      <td>204</td>\n",
       "      <td>3.4</td>\n",
       "      <td>2474</td>\n",
       "      <td>106.9</td>\n",
       "      <td>1587</td>\n",
       "      <td>64.1</td>\n",
       "      <td>12.1</td>\n",
       "      <td>4.4</td>\n",
       "      <td>NaN</td>\n",
       "    </tr>\n",
       "    <tr>\n",
       "      <th>8</th>\n",
       "      <td>Ивановская область</td>\n",
       "      <td>118</td>\n",
       "      <td>4.2</td>\n",
       "      <td>1082</td>\n",
       "      <td>109.1</td>\n",
       "      <td>695</td>\n",
       "      <td>64.2</td>\n",
       "      <td>9.2</td>\n",
       "      <td>4.4</td>\n",
       "      <td>NaN</td>\n",
       "    </tr>\n",
       "    <tr>\n",
       "      <th>9</th>\n",
       "      <td>Тверская область</td>\n",
       "      <td>133</td>\n",
       "      <td>6.8</td>\n",
       "      <td>1543</td>\n",
       "      <td>123.1</td>\n",
       "      <td>1113</td>\n",
       "      <td>72.1</td>\n",
       "      <td>11.6</td>\n",
       "      <td>4.3</td>\n",
       "      <td>NaN</td>\n",
       "    </tr>\n",
       "  </tbody>\n",
       "</table>\n",
       "</div>"
      ],
      "text/plain": [
       "  СВЕДЕНИЯ О  КОНТИНГЕНТЕ БОЛЬНЫХ СО ЗЛОКАЧЕСТВЕННЫМИ НОВООБРАЗОВАНИЯМИ, СОСТОЯЩЕМ НА УЧЕТЕ В ОНКОЛОГИЧЕСКИХ УЧРЕЖДЕНИЯХ В 2021 Г.\\nЗлокачественные лимфомы (С81-86;88,90,96)                                     Таблица 50   \\\n",
       "0                          Республика, край, область                                                                                                                                                                            \n",
       "1                                                NaN                                                                                                                                                                            \n",
       "2                                             РОССИЯ                                                                                                                                                                            \n",
       "3                                     ЦЕНТРАЛЬНЫЙ ФО                                                                                                                                                                            \n",
       "4                               Белгородская область                                                                                                                                                                            \n",
       "5                                   Брянская область                                                                                                                                                                            \n",
       "6                               Владимирская область                                                                                                                                                                            \n",
       "7                                Воронежская область                                                                                                                                                                            \n",
       "8                                 Ивановская область                                                                                                                                                                            \n",
       "9                                   Тверская область                                                                                                                                                                            \n",
       "\n",
       "                                          Unnamed: 1  \\\n",
       "0  Взято на учет больных с впервые в жизни уст. д...   \n",
       "1                                                NaN   \n",
       "2                                              14087   \n",
       "3                                               3617   \n",
       "4                                                155   \n",
       "5                                                161   \n",
       "6                                                125   \n",
       "7                                                204   \n",
       "8                                                118   \n",
       "9                                                133   \n",
       "\n",
       "                      Unnamed: 2                         Unnamed: 3  \\\n",
       "0  в т.ч. вы- явлены активно,\\n%  Находились на учете на конец года   \n",
       "1                            NaN                 абсолют- ное число   \n",
       "2                            8.3                             137286   \n",
       "3                             10                              41683   \n",
       "4                             11                               1583   \n",
       "5                              5                               1274   \n",
       "6                            2.4                               1449   \n",
       "7                            3.4                               2474   \n",
       "8                            4.2                               1082   \n",
       "9                            6.8                               1543   \n",
       "\n",
       "              Unnamed: 4            Unnamed: 5            Unnamed: 6  \\\n",
       "0                    NaN  из них 5 лет и более                   NaN   \n",
       "1  на 100 тыс. населения    абсолют- ное число  %  от сост. на учете   \n",
       "2                   93.7                 86555                    63   \n",
       "3                  105.9                 26078                  62.6   \n",
       "4                  102.4                   926                  58.5   \n",
       "5                  107.3                   815                    64   \n",
       "6                  107.3                   986                    68   \n",
       "7                  106.9                  1587                  64.1   \n",
       "8                  109.1                   695                  64.2   \n",
       "9                  123.1                  1113                  72.1   \n",
       "\n",
       "                           Unnamed: 7         Unnamed: 8  Unnamed: 9  \n",
       "0  Индекс на- копления контин- гентов  Леталь- ность,\\n%         NaN  \n",
       "1                                 NaN                NaN         NaN  \n",
       "2                                 9.7                4.3         NaN  \n",
       "3                                11.5                3.6         NaN  \n",
       "4                                10.2                3.2         NaN  \n",
       "5                                 7.9                  6         NaN  \n",
       "6                                11.6                2.9         NaN  \n",
       "7                                12.1                4.4         NaN  \n",
       "8                                 9.2                4.4         NaN  \n",
       "9                                11.6                4.3         NaN  "
      ]
     },
     "metadata": {},
     "output_type": "display_data"
    },
    {
     "data": {
      "text/html": [
       "<div>\n",
       "<style scoped>\n",
       "    .dataframe tbody tr th:only-of-type {\n",
       "        vertical-align: middle;\n",
       "    }\n",
       "\n",
       "    .dataframe tbody tr th {\n",
       "        vertical-align: top;\n",
       "    }\n",
       "\n",
       "    .dataframe thead th {\n",
       "        text-align: right;\n",
       "    }\n",
       "</style>\n",
       "<table border=\"1\" class=\"dataframe\">\n",
       "  <thead>\n",
       "    <tr style=\"text-align: right;\">\n",
       "      <th></th>\n",
       "      <th>СВЕДЕНИЯ О  КОНТИНГЕНТЕ БОЛЬНЫХ СО ЗЛОКАЧЕСТВЕННЫМИ НОВООБРАЗОВАНИЯМИ, СОСТОЯЩЕМ НА УЧЕТЕ В ОНКОЛОГИЧЕСКИХ УЧРЕЖДЕНИЯХ В 2021 Г.\\nЛейкемии (С91-95)                                                        Таблица 51</th>\n",
       "      <th>Unnamed: 1</th>\n",
       "      <th>Unnamed: 2</th>\n",
       "      <th>Unnamed: 3</th>\n",
       "      <th>Unnamed: 4</th>\n",
       "      <th>Unnamed: 5</th>\n",
       "      <th>Unnamed: 6</th>\n",
       "      <th>Unnamed: 7</th>\n",
       "      <th>Unnamed: 8</th>\n",
       "    </tr>\n",
       "  </thead>\n",
       "  <tbody>\n",
       "    <tr>\n",
       "      <th>0</th>\n",
       "      <td>Республика, край, область</td>\n",
       "      <td>Взято на учет больных с впервые в жизни уст. д...</td>\n",
       "      <td>в т.ч. вы- явлены активно,\\n%</td>\n",
       "      <td>Находились на учете на конец года</td>\n",
       "      <td>NaN</td>\n",
       "      <td>из них 5 лет и более</td>\n",
       "      <td>NaN</td>\n",
       "      <td>Индекс на- копления контин- гентов</td>\n",
       "      <td>Леталь- ность,\\n%</td>\n",
       "    </tr>\n",
       "    <tr>\n",
       "      <th>1</th>\n",
       "      <td>NaN</td>\n",
       "      <td>NaN</td>\n",
       "      <td>NaN</td>\n",
       "      <td>абсолют- ное число</td>\n",
       "      <td>на 100 тыс. населения</td>\n",
       "      <td>абсолют- ное число</td>\n",
       "      <td>%  от сост. на учете</td>\n",
       "      <td>NaN</td>\n",
       "      <td>NaN</td>\n",
       "    </tr>\n",
       "    <tr>\n",
       "      <th>2</th>\n",
       "      <td>РОССИЯ</td>\n",
       "      <td>8636</td>\n",
       "      <td>8.2</td>\n",
       "      <td>87228</td>\n",
       "      <td>59.6</td>\n",
       "      <td>53584</td>\n",
       "      <td>61.4</td>\n",
       "      <td>10.1</td>\n",
       "      <td>4.8</td>\n",
       "    </tr>\n",
       "    <tr>\n",
       "      <th>3</th>\n",
       "      <td>ЦЕНТРАЛЬНЫЙ ФО</td>\n",
       "      <td>2344</td>\n",
       "      <td>8.4</td>\n",
       "      <td>26075</td>\n",
       "      <td>66.3</td>\n",
       "      <td>15707</td>\n",
       "      <td>60.2</td>\n",
       "      <td>11.1</td>\n",
       "      <td>4.1</td>\n",
       "    </tr>\n",
       "    <tr>\n",
       "      <th>4</th>\n",
       "      <td>Белгородская область</td>\n",
       "      <td>117</td>\n",
       "      <td>3.4</td>\n",
       "      <td>900</td>\n",
       "      <td>58.2</td>\n",
       "      <td>467</td>\n",
       "      <td>51.9</td>\n",
       "      <td>7.7</td>\n",
       "      <td>4.4</td>\n",
       "    </tr>\n",
       "    <tr>\n",
       "      <th>5</th>\n",
       "      <td>Брянская область</td>\n",
       "      <td>101</td>\n",
       "      <td>5.9</td>\n",
       "      <td>855</td>\n",
       "      <td>72</td>\n",
       "      <td>494</td>\n",
       "      <td>57.8</td>\n",
       "      <td>8.5</td>\n",
       "      <td>5.7</td>\n",
       "    </tr>\n",
       "    <tr>\n",
       "      <th>6</th>\n",
       "      <td>Владимирская область</td>\n",
       "      <td>59</td>\n",
       "      <td>0</td>\n",
       "      <td>604</td>\n",
       "      <td>44.7</td>\n",
       "      <td>399</td>\n",
       "      <td>66.1</td>\n",
       "      <td>10.2</td>\n",
       "      <td>4.9</td>\n",
       "    </tr>\n",
       "    <tr>\n",
       "      <th>7</th>\n",
       "      <td>Воронежская область</td>\n",
       "      <td>66</td>\n",
       "      <td>7.6</td>\n",
       "      <td>1302</td>\n",
       "      <td>56.2</td>\n",
       "      <td>932</td>\n",
       "      <td>71.6</td>\n",
       "      <td>19.7</td>\n",
       "      <td>4.4</td>\n",
       "    </tr>\n",
       "    <tr>\n",
       "      <th>8</th>\n",
       "      <td>Ивановская область</td>\n",
       "      <td>38</td>\n",
       "      <td>2.6</td>\n",
       "      <td>378</td>\n",
       "      <td>38.1</td>\n",
       "      <td>276</td>\n",
       "      <td>73</td>\n",
       "      <td>9.9</td>\n",
       "      <td>5</td>\n",
       "    </tr>\n",
       "    <tr>\n",
       "      <th>9</th>\n",
       "      <td>Тверская область</td>\n",
       "      <td>76</td>\n",
       "      <td>6.6</td>\n",
       "      <td>623</td>\n",
       "      <td>49.7</td>\n",
       "      <td>413</td>\n",
       "      <td>66.3</td>\n",
       "      <td>8.2</td>\n",
       "      <td>5.3</td>\n",
       "    </tr>\n",
       "  </tbody>\n",
       "</table>\n",
       "</div>"
      ],
      "text/plain": [
       "  СВЕДЕНИЯ О  КОНТИНГЕНТЕ БОЛЬНЫХ СО ЗЛОКАЧЕСТВЕННЫМИ НОВООБРАЗОВАНИЯМИ, СОСТОЯЩЕМ НА УЧЕТЕ В ОНКОЛОГИЧЕСКИХ УЧРЕЖДЕНИЯХ В 2021 Г.\\nЛейкемии (С91-95)                                                        Таблица 51  \\\n",
       "0                          Республика, край, область                                                                                                                                                                      \n",
       "1                                                NaN                                                                                                                                                                      \n",
       "2                                             РОССИЯ                                                                                                                                                                      \n",
       "3                                     ЦЕНТРАЛЬНЫЙ ФО                                                                                                                                                                      \n",
       "4                               Белгородская область                                                                                                                                                                      \n",
       "5                                   Брянская область                                                                                                                                                                      \n",
       "6                               Владимирская область                                                                                                                                                                      \n",
       "7                                Воронежская область                                                                                                                                                                      \n",
       "8                                 Ивановская область                                                                                                                                                                      \n",
       "9                                   Тверская область                                                                                                                                                                      \n",
       "\n",
       "                                          Unnamed: 1  \\\n",
       "0  Взято на учет больных с впервые в жизни уст. д...   \n",
       "1                                                NaN   \n",
       "2                                               8636   \n",
       "3                                               2344   \n",
       "4                                                117   \n",
       "5                                                101   \n",
       "6                                                 59   \n",
       "7                                                 66   \n",
       "8                                                 38   \n",
       "9                                                 76   \n",
       "\n",
       "                      Unnamed: 2                         Unnamed: 3  \\\n",
       "0  в т.ч. вы- явлены активно,\\n%  Находились на учете на конец года   \n",
       "1                            NaN                 абсолют- ное число   \n",
       "2                            8.2                              87228   \n",
       "3                            8.4                              26075   \n",
       "4                            3.4                                900   \n",
       "5                            5.9                                855   \n",
       "6                              0                                604   \n",
       "7                            7.6                               1302   \n",
       "8                            2.6                                378   \n",
       "9                            6.6                                623   \n",
       "\n",
       "              Unnamed: 4            Unnamed: 5            Unnamed: 6  \\\n",
       "0                    NaN  из них 5 лет и более                   NaN   \n",
       "1  на 100 тыс. населения    абсолют- ное число  %  от сост. на учете   \n",
       "2                   59.6                 53584                  61.4   \n",
       "3                   66.3                 15707                  60.2   \n",
       "4                   58.2                   467                  51.9   \n",
       "5                     72                   494                  57.8   \n",
       "6                   44.7                   399                  66.1   \n",
       "7                   56.2                   932                  71.6   \n",
       "8                   38.1                   276                    73   \n",
       "9                   49.7                   413                  66.3   \n",
       "\n",
       "                           Unnamed: 7         Unnamed: 8  \n",
       "0  Индекс на- копления контин- гентов  Леталь- ность,\\n%  \n",
       "1                                 NaN                NaN  \n",
       "2                                10.1                4.8  \n",
       "3                                11.1                4.1  \n",
       "4                                 7.7                4.4  \n",
       "5                                 8.5                5.7  \n",
       "6                                10.2                4.9  \n",
       "7                                19.7                4.4  \n",
       "8                                 9.9                  5  \n",
       "9                                 8.2                5.3  "
      ]
     },
     "metadata": {},
     "output_type": "display_data"
    }
   ],
   "source": [
    "for el in convert_two:\n",
    "    display(pd.read_excel(el).head(10))"
   ]
  },
  {
   "cell_type": "markdown",
   "id": "8f813c4c",
   "metadata": {
    "id": "8f813c4c"
   },
   "source": [
    "\n",
    "\n",
    "\n",
    "Мы видим:\n",
    "\n",
    "- Таблицы с номерами от 36 до 44 содержат 10 столбцов\n",
    "- остальные таблицы содержат по 13 столбцов\n",
    "- различие объясняется тем, что Таблицы с номерами от 36 до 44 содержат информацию о локализациях заболеваний, характерную исключительно для одного из полов     "
   ]
  },
  {
   "cell_type": "markdown",
   "id": "d7a78e3d",
   "metadata": {
    "id": "d7a78e3d"
   },
   "source": [
    "Посмотрим, в каких ячейках имеется информация и о чем она.  \n",
    "Выведем на экран значение ячеек от 'A1' до 'В4'.  \n",
    "Убедимся, что этой области нам достаточно для получения данных об информации на листе"
   ]
  },
  {
   "cell_type": "code",
   "execution_count": 277,
   "id": "00cd27dc",
   "metadata": {
    "id": "00cd27dc",
    "outputId": "643f2f32-890a-44d4-b141-799a5052170e",
    "scrolled": true
   },
   "outputs": [
    {
     "data": {
      "text/plain": [
       "'for el in tqdm(convert_two):\\n    for j in [\\'A\\', \\'B\\']:\\n        for i in range(1, 5):\\n            print(f\\'{j}{i}\\', end=\\', \\')\\n            try:\\n                vars = load_workbook(el).active[f\\'{j}{i}\\'].value.split(\\'  \\')\\n                print(\\'vars = \\',vars)\\n            except:\\n                print(\"none\")\\n    print(\\'********************************************************************\\')\\n    #print(\\'vars[-1] = \\',vars[-1])\\n    '"
      ]
     },
     "execution_count": 277,
     "metadata": {},
     "output_type": "execute_result"
    }
   ],
   "source": [
    "'''for el in tqdm(convert_two):\n",
    "    for j in ['A', 'B']:\n",
    "        for i in range(1, 5):\n",
    "            print(f'{j}{i}', end=', ')\n",
    "            try:\n",
    "                vars = load_workbook(el).active[f'{j}{i}'].value.split('  ')\n",
    "                print('vars = ',vars)\n",
    "            except:\n",
    "                print(\"none\")\n",
    "    print('********************************************************************')\n",
    "    #print('vars[-1] = ',vars[-1])\n",
    "    '''"
   ]
  },
  {
   "cell_type": "markdown",
   "id": "67a8dd68",
   "metadata": {
    "id": "67a8dd68"
   },
   "source": [
    "\n",
    "Увидим, что:\n",
    "- Информация о номере таблица всегда содержится в ячейке \"А1\"\n",
    "- Информация о типе данных - всегда содержится в ячейке \"А2\". Иногда она выполнена полностью заглавными буквами\n",
    "- Информация о локализации может содержаться:\n",
    " - в ячейке \"А4\" - и тогда ячейка \"В4\" пустая\n",
    " - в ячейке \"В4\" - и тогда в ячейке \"А4\" записана фраза \"Локализация\"\n"
   ]
  },
  {
   "cell_type": "markdown",
   "id": "f639d595",
   "metadata": {
    "id": "f639d595"
   },
   "source": [
    "<div style=\"border-radius: 45px;border:solid green 7px; padding: 40px\">\n",
    "    \n",
    "#### Вывод по Подготовке данных    \n",
    "Таким образом перед объединением файлов списка `convert_two` нам нужно учеть следующее:\n",
    "    \n",
    "- Таблицы с номерами от 36 до 44 и от 87 до 92 содержат 10 столбцов - обрабатывать: только для обного из полов\n",
    "- Информация о номере таблица всегда содержится в ячейке \"А1\"\n",
    "- Информация о типе данных - всегда содержится в ячейке \"А2\". Иногда она выполнена полностью заглавными буквами\n",
    "- Информация о локализации может содержаться:\n",
    " - в ячейке \"А4\" - и тогда ячейка \"В4\" пустая\n",
    " - в ячейке \"В4\" - и тогда в ячейке \"А4\" записана фраза \"Локализация\"\n",
    "\n"
   ]
  },
  {
   "cell_type": "markdown",
   "id": "ae50f773",
   "metadata": {
    "id": "ae50f773"
   },
   "source": [
    "\n",
    "<div style=\"border-radius: 45px;border:solid red 7px; padding: 40px\">\n",
    "Для файлов ЗНО в диапазоне от 87 до 92 (соответствуют локализациям, характерным исключительно для одного из полов) Заголовок указан как:<br>\n",
    "СМЕРТНОСТЬ НАСЕЛЕНИЯ РОССИИ ОТ ЗЛОКАЧЕСТВЕННЫХ НОВООБРАЗОВАНИЙ  <br><br>\n",
    "Для остальных файлов ЗНО со смертностью – заголовок указан как <br>\n",
    "СМЕРТНОСТЬ НАСЕЛЕНИЯ ТЕРРИТОРИЙ РОССИИ ОТ ЗЛОКАЧЕСТВЕННЫХ НОВООБРАЗОВАНИЙ\n"
   ]
  },
  {
   "cell_type": "markdown",
   "id": "4b2cfcda",
   "metadata": {
    "id": "4b2cfcda"
   },
   "source": [
    "#### Создание сводного датафрейма"
   ]
  },
  {
   "cell_type": "markdown",
   "id": "a14c4125",
   "metadata": {
    "id": "a14c4125"
   },
   "source": [
    "Импортируем файлы (данные) в `pandas`  \n"
   ]
  },
  {
   "cell_type": "code",
   "execution_count": 278,
   "id": "c88ae65c",
   "metadata": {
    "id": "c88ae65c"
   },
   "outputs": [],
   "source": [
    "final_three_total = []\n",
    "final_three_men = []\n",
    "final_three_women = []"
   ]
  },
  {
   "cell_type": "markdown",
   "id": "d3cd0bab",
   "metadata": {
    "id": "d3cd0bab"
   },
   "source": [
    "В списки ниже отнесем номера столбцов, данные из которых возьмем для формирования соответственно списков по \"Всему населению\", мужчинам и женщинам"
   ]
  },
  {
   "cell_type": "code",
   "execution_count": 279,
   "id": "a7a5f3c2",
   "metadata": {
    "id": "a7a5f3c2"
   },
   "outputs": [],
   "source": [
    "\n",
    "cols_total = [0, 1, 2, 3, 4]\n",
    "cols_men = [0, 5, 6, 7, 8]\n",
    "cols_women = [0, 9, 10, 11, 12]\n"
   ]
  },
  {
   "cell_type": "markdown",
   "id": "5e8af49d",
   "metadata": {
    "id": "5e8af49d"
   },
   "source": [
    "Создадим список `col_new_names`, в который внесем новые названия столбцов"
   ]
  },
  {
   "cell_type": "code",
   "execution_count": 280,
   "id": "12417066",
   "metadata": {
    "id": "12417066"
   },
   "outputs": [],
   "source": [
    "col_new_names = ['Регион',\n",
    "                'Абсолютное Число',\n",
    "                'Показатель на 100 тыс. населения \"грубый\"',\n",
    "                'Показатель на 100 тыс. населения, стандартизованный',\n",
    "                'Показатель на 100 тыс. населения, ошибка']"
   ]
  },
  {
   "cell_type": "markdown",
   "id": "7aa49da9",
   "metadata": {
    "id": "7aa49da9"
   },
   "source": [
    "Если текущий файл попадает в список исключений для мужчин - то данные заносятся в файл для \"Всего населения\" и для мужчин; в файл для женщин попадают пропуски\n",
    "Аналогично,\n",
    "Если текущий файл попадает в список исключений для женщин - то данные заносятся в файл для \"Всего населения\" и для женщин; в файл для мужчин попадают пропуски"
   ]
  },
  {
   "cell_type": "code",
   "execution_count": 281,
   "id": "e5610085",
   "metadata": {
    "id": "e5610085",
    "outputId": "f78363f4-d478-4308-92d3-a467750276f4",
    "scrolled": false
   },
   "outputs": [
    {
     "name": "stderr",
     "output_type": "stream",
     "text": [
      "100%|██████████| 82/82 [05:16<00:00,  3.86s/it]\n"
     ]
    }
   ],
   "source": [
    "final_three_total = []\n",
    "final_three_men = []\n",
    "final_three_women = []\n",
    "\n",
    "for el in tqdm(convert_three):\n",
    "\n",
    "    #vars = load_workbook(el).active['A1'].value.split('  ')\n",
    "    # Присвоим значения переменным Названия таблицы, номера таблицы и локализации заболевания\n",
    "    ind = load_workbook(el).active['A2'].value.lower().capitalize()\n",
    "    table = load_workbook(el).active['A1'].value\n",
    "    try:\n",
    "        loc = load_workbook(el).active['A4'].value.split(': ')[1]\n",
    "        #print('first',loc)\n",
    "    except:\n",
    "        loc = load_workbook(el).active['B4'].value\n",
    "        #print('second',loc)\n",
    "\n",
    "\n",
    "\n",
    "\n",
    "    # Загрузим файлы в три переменных соответственно полу пациента\n",
    "    df_total = pd.read_excel(el, header=[6], usecols=cols_total)\n",
    "    #df_men = pd.read_excel(el, header=[6], usecols=cols_men)\n",
    "    # Для списка файлов с локациями заболеваний, характерными исключительно для мужчин, предусмотрим два варианта\n",
    "    if not el in convert_gender_men_exception:\n",
    "        df_men = pd.read_excel(el, header=[6], usecols=cols_men)\n",
    "    else:\n",
    "        df_men = pd.read_excel(el, header=[6], usecols=cols_total)\n",
    "    # Для списка файлов с локациями заболеваний, характерными исключительно для женщин, предусмотрим два варианта\n",
    "    if not el in convert_gender_women_exception:\n",
    "        if not el in convert_gender_men_exception:\n",
    "            df_women = pd.read_excel(el, header=[6], usecols=cols_women)\n",
    "        else:\n",
    "            df_women = pd.read_excel(el, header=[6], usecols=cols_men)\n",
    "    else:\n",
    "        df_women = pd.read_excel(el, header=[6], usecols=cols_total)\n",
    "\n",
    "    # присвоим столбцам новые названия\n",
    "    df_total.columns = col_new_names\n",
    "    df_men.columns = col_new_names\n",
    "    df_women.columns = col_new_names\n",
    "\n",
    "    list_gender = ['df_total', 'df_men', 'df_women']\n",
    "\n",
    "    # Добавим столбцы с указанием Названия таблицы, номера таблицы, локализации заболевания и Типа принятых данных\n",
    "    def complect(file_name):\n",
    "        file_name['Индикатор'] = ind\n",
    "        file_name['Локализация'] = loc\n",
    "        file_name['Таблица'] = table\n",
    "        file_name['Тип данных'] = 'ЗНО'\n",
    "\n",
    "        return\n",
    "    complect(df_total)\n",
    "    complect(df_men)\n",
    "    complect(df_women)\n",
    "\n",
    "    # Добавим столбцы с указанием Пола пациента\n",
    "    df_total['Пол пациента'] = 'Все население'\n",
    "    df_men['Пол пациента'] = 'Мужчины'\n",
    "    df_women['Пол пациента'] = 'Женщины'\n",
    "\n",
    "    # Запишем данные в список `final_two`\n",
    "    final_three_total.append(df_total)\n",
    "    final_three_men.append(df_men)\n",
    "    final_three_women.append(df_women)"
   ]
  },
  {
   "cell_type": "markdown",
   "id": "10dd2168",
   "metadata": {
    "id": "10dd2168"
   },
   "source": [
    "##### Объединим полученные данные"
   ]
  },
  {
   "cell_type": "code",
   "execution_count": 282,
   "id": "50ff105a",
   "metadata": {
    "id": "50ff105a",
    "outputId": "cd7161c9-7bf3-4f95-ea32-a5d01bed969b",
    "scrolled": false
   },
   "outputs": [],
   "source": [
    "final_df_total = pd.concat(final_three_total).reset_index(drop=True)\n",
    "\n",
    "final_df_men = pd.concat(final_three_men).reset_index(drop=True)\n",
    "\n",
    "final_df_women = pd.concat(final_three_women).reset_index(drop=True)"
   ]
  },
  {
   "cell_type": "markdown",
   "id": "11cca49b",
   "metadata": {
    "id": "11cca49b"
   },
   "source": [
    "Ознакомимся с информацией в полученном датафрейме:\n"
   ]
  },
  {
   "cell_type": "code",
   "execution_count": 283,
   "id": "771874f4",
   "metadata": {
    "id": "771874f4"
   },
   "outputs": [],
   "source": [
    "def check(data_name):\n",
    "\n",
    "    print(\"Общая информация\", data_name.info())\n",
    "    print(\"Пропуски\", data_name.isna().sum())\n",
    "    print(\"Явные дубликаты\", data_name.duplicated().sum())\n",
    "    return"
   ]
  },
  {
   "cell_type": "code",
   "execution_count": 284,
   "id": "4c30dec9",
   "metadata": {
    "id": "4c30dec9",
    "outputId": "d0f8d13d-87bb-40fa-a089-29675f307b52",
    "scrolled": false
   },
   "outputs": [
    {
     "name": "stdout",
     "output_type": "stream",
     "text": [
      "<class 'pandas.core.frame.DataFrame'>\n",
      "RangeIndex: 7693 entries, 0 to 7692\n",
      "Data columns (total 10 columns):\n",
      " #   Column                                               Non-Null Count  Dtype \n",
      "---  ------                                               --------------  ----- \n",
      " 0   Регион                                               7693 non-null   object\n",
      " 1   Абсолютное Число                                     7693 non-null   int64 \n",
      " 2   Показатель на 100 тыс. населения \"грубый\"            7693 non-null   object\n",
      " 3   Показатель на 100 тыс. населения, стандартизованный  7693 non-null   object\n",
      " 4   Показатель на 100 тыс. населения, ошибка             7693 non-null   object\n",
      " 5   Индикатор                                            7693 non-null   object\n",
      " 6   Локализация                                          7693 non-null   object\n",
      " 7   Таблица                                              7693 non-null   object\n",
      " 8   Тип данных                                           7693 non-null   object\n",
      " 9   Пол пациента                                         7693 non-null   object\n",
      "dtypes: int64(1), object(9)\n",
      "memory usage: 601.1+ KB\n",
      "Общая информация None\n",
      "Пропуски Регион                                                 0\n",
      "Абсолютное Число                                       0\n",
      "Показатель на 100 тыс. населения \"грубый\"              0\n",
      "Показатель на 100 тыс. населения, стандартизованный    0\n",
      "Показатель на 100 тыс. населения, ошибка               0\n",
      "Индикатор                                              0\n",
      "Локализация                                            0\n",
      "Таблица                                                0\n",
      "Тип данных                                             0\n",
      "Пол пациента                                           0\n",
      "dtype: int64\n",
      "Явные дубликаты 0\n"
     ]
    }
   ],
   "source": [
    "check(final_df_total)"
   ]
  },
  {
   "cell_type": "code",
   "execution_count": 285,
   "id": "a0a6533f",
   "metadata": {
    "id": "a0a6533f",
    "outputId": "100e9233-1054-4480-cc49-fa70e5217a5d"
   },
   "outputs": [
    {
     "name": "stdout",
     "output_type": "stream",
     "text": [
      "<class 'pandas.core.frame.DataFrame'>\n",
      "RangeIndex: 7693 entries, 0 to 7692\n",
      "Data columns (total 10 columns):\n",
      " #   Column                                               Non-Null Count  Dtype  \n",
      "---  ------                                               --------------  -----  \n",
      " 0   Регион                                               7693 non-null   object \n",
      " 1   Абсолютное Число                                     6763 non-null   float64\n",
      " 2   Показатель на 100 тыс. населения \"грубый\"            6763 non-null   object \n",
      " 3   Показатель на 100 тыс. населения, стандартизованный  6763 non-null   object \n",
      " 4   Показатель на 100 тыс. населения, ошибка             6763 non-null   object \n",
      " 5   Индикатор                                            7693 non-null   object \n",
      " 6   Локализация                                          7693 non-null   object \n",
      " 7   Таблица                                              7693 non-null   object \n",
      " 8   Тип данных                                           7693 non-null   object \n",
      " 9   Пол пациента                                         7693 non-null   object \n",
      "dtypes: float64(1), object(9)\n",
      "memory usage: 601.1+ KB\n",
      "Общая информация None\n",
      "Пропуски Регион                                                   0\n",
      "Абсолютное Число                                       930\n",
      "Показатель на 100 тыс. населения \"грубый\"              930\n",
      "Показатель на 100 тыс. населения, стандартизованный    930\n",
      "Показатель на 100 тыс. населения, ошибка               930\n",
      "Индикатор                                                0\n",
      "Локализация                                              0\n",
      "Таблица                                                  0\n",
      "Тип данных                                               0\n",
      "Пол пациента                                             0\n",
      "dtype: int64\n",
      "Явные дубликаты 0\n"
     ]
    }
   ],
   "source": [
    "check(final_df_men)"
   ]
  },
  {
   "cell_type": "code",
   "execution_count": 286,
   "id": "70a672b4",
   "metadata": {
    "id": "70a672b4",
    "outputId": "f78b620e-7218-4bce-bb73-a5422bf79281"
   },
   "outputs": [
    {
     "name": "stdout",
     "output_type": "stream",
     "text": [
      "<class 'pandas.core.frame.DataFrame'>\n",
      "RangeIndex: 7693 entries, 0 to 7692\n",
      "Data columns (total 10 columns):\n",
      " #   Column                                               Non-Null Count  Dtype  \n",
      "---  ------                                               --------------  -----  \n",
      " 0   Регион                                               7693 non-null   object \n",
      " 1   Абсолютное Число                                     7228 non-null   float64\n",
      " 2   Показатель на 100 тыс. населения \"грубый\"            7228 non-null   object \n",
      " 3   Показатель на 100 тыс. населения, стандартизованный  7228 non-null   object \n",
      " 4   Показатель на 100 тыс. населения, ошибка             7228 non-null   object \n",
      " 5   Индикатор                                            7693 non-null   object \n",
      " 6   Локализация                                          7693 non-null   object \n",
      " 7   Таблица                                              7693 non-null   object \n",
      " 8   Тип данных                                           7693 non-null   object \n",
      " 9   Пол пациента                                         7693 non-null   object \n",
      "dtypes: float64(1), object(9)\n",
      "memory usage: 601.1+ KB\n",
      "Общая информация None\n",
      "Пропуски Регион                                                   0\n",
      "Абсолютное Число                                       465\n",
      "Показатель на 100 тыс. населения \"грубый\"              465\n",
      "Показатель на 100 тыс. населения, стандартизованный    465\n",
      "Показатель на 100 тыс. населения, ошибка               465\n",
      "Индикатор                                                0\n",
      "Локализация                                              0\n",
      "Таблица                                                  0\n",
      "Тип данных                                               0\n",
      "Пол пациента                                             0\n",
      "dtype: int64\n",
      "Явные дубликаты 0\n"
     ]
    }
   ],
   "source": [
    "check(final_df_women)"
   ]
  },
  {
   "cell_type": "markdown",
   "id": "cb376b34",
   "metadata": {
    "id": "cb376b34"
   },
   "source": [
    "\n",
    "- всего в каждом датафрейме 7693 записей\n",
    "- явные дубоикаты в каждом датафрейме отсутствуют\n",
    "- в датафрейме `final_df_total` пропущенные значения отсутствуют\n",
    "- в датафреймах `final_df_men` и `final_df_women` пропущенные значения соответствуют локализациям заболеаний, характерным исключительно для одного из полов\n",
    "- цифровые данные представлены не в числовом формате - необходимо устранить при дальнейшей обработке\n",
    "\n"
   ]
  },
  {
   "cell_type": "markdown",
   "id": "a5545a8b",
   "metadata": {
    "id": "a5545a8b"
   },
   "source": [
    "##### Объединим полученные данные в единый  датафрейм\n",
    "Объединим полученные три датафрейма в единый  датафрейм методом `concat`"
   ]
  },
  {
   "cell_type": "code",
   "execution_count": 287,
   "id": "c72a35dd",
   "metadata": {
    "id": "c72a35dd"
   },
   "outputs": [],
   "source": [
    "final_df = pd.concat([final_df_total, final_df_men, final_df_women]).reset_index(drop=True)"
   ]
  },
  {
   "cell_type": "markdown",
   "id": "1720590e",
   "metadata": {
    "id": "1720590e"
   },
   "source": [
    "##### \"Почистим\" полученный датафрейм и Выгрузим сводный файл в рабочую папку\n",
    "- Для дальнейшего анализа создадим датафрейм data_federal_district_two: сохраним в нем строки (записи) , в которых в cтолбце Регион присутствуют значения, означающие наименования федеральных округов (присутствуют в переменной bad_regions)\n",
    "- Удалим строки (записи) , в которых в столбце `Регион` присутствуют значения, означающие наименования федеральных округов (присутствуют в переменной `bad_regions`)\n",
    "- Произведем категоризацию данных по наименованию региона и соответствующие наименования федеральных округов запишем в столбец ФО.\n",
    "- Изменим имеющийся порядок столбцов и поместим наименование округа после наименования региона\n",
    "\n",
    "Запишем действия в функцию `clear_data_bad_reg_names`."
   ]
  },
  {
   "cell_type": "code",
   "execution_count": 288,
   "id": "c69d07b1",
   "metadata": {
    "id": "c69d07b1"
   },
   "outputs": [],
   "source": [
    "def clear_data_bad_reg_names(data_name):\n",
    "\n",
    "    # создадим датафрейм data_federal_district_two: сохраним в нем строки (записи),\n",
    "    # в которых в cтолбце Регион присутствуют значения, означающие наименования федеральных округов\n",
    "    data_federal_district = data_name[data_name.Регион.isin(bad_regions)]\n",
    "\n",
    "    # Удалим строки (записи) , в которых в столбце `Регион` присутствуют значения, означающие наименования федеральных округов\n",
    "    data_name = data_name[~data_name.Регион.isin(bad_regions)]\n",
    "\n",
    "    # Произведем категоризацию данных по наименованию региона и соответствующие наименования\n",
    "    # федеральных округов запишем в столбец ФО.\n",
    "    data_name['ФО'] = data_name['Регион'].apply(categorize_purpose)\n",
    "\n",
    "    # Изменим имеющийся порядок столбцов и поместим наименование округа после наименования региона, а после него - пол пациентов\n",
    "    cols = data_name.columns.tolist()\n",
    "    cols = cols[:1] +  cols[-1:]+ cols[1:-1]\n",
    "    cols = cols[:2] +  cols[-1:]+ cols[2:-1]\n",
    "    #cols = cols[:1] +  cols[-2:]+ cols[1:-2]\n",
    "    final_df = data_name[cols]#.reset_index(drop = True)\n",
    "    final_df\n",
    "\n",
    "    return(data_federal_district, final_df)"
   ]
  },
  {
   "cell_type": "code",
   "execution_count": 289,
   "id": "533e99a8",
   "metadata": {
    "id": "533e99a8"
   },
   "outputs": [],
   "source": [
    "# создадим список bad_regions: сохраним в нем наименования федеральных округов\n",
    "final_df_total.Регион = final_df_total.Регион.str.strip()\n",
    "bad_regions = final_df_total[final_df_total.Регион.str.upper().str.strip().str.contains('ФО')]['Регион'].tolist()"
   ]
  },
  {
   "cell_type": "markdown",
   "id": "3f0f24b0",
   "metadata": {
    "id": "3f0f24b0"
   },
   "source": [
    "Подстроим известную нам функцию `df_download` под формат нового файла.  \n",
    "Назовем ее `df_download_second`"
   ]
  },
  {
   "cell_type": "code",
   "execution_count": 345,
   "id": "b6b49427",
   "metadata": {
    "id": "b6b49427"
   },
   "outputs": [],
   "source": [
    "def df_download_second(data_name, df_name_xlsx, df_name_csv):\n",
    "\n",
    "    # Сменим папку, перейдем в папку для хранения обработанных файлов\n",
    "    os.chdir('/home/jovyan/work')\n",
    "    print(\"\\033[34m\"'Текущая папка: '\"\\033[1m\", os.getcwd())\n",
    "\n",
    "    # Выгрузим файл в корневую папку в формате .csv\n",
    "    data_name.to_csv(df_name_csv)\n",
    "    print(\"\\033[34m\"'Выгружен файл'\"\\033[1m\", df_name_csv)\n",
    "\n",
    "    # Выгрузим файл в папку в формате Excel\n",
    "    # Воспользуемся функцией to_excel() , для чего ранее мы установили openpyxl, чтобы записывать файлы в Excel.\n",
    "    # Итоговый файл также выгрузим в корневую папку\n",
    "\n",
    "    workbook = Workbook()\n",
    "    sheet = workbook.active\n",
    "\n",
    "    for row in dataframe_to_rows(data_name, header=True):\n",
    "        sheet.append(row)\n",
    "\n",
    "    # изменим высоту первой строки\n",
    "    sheet.row_dimensions[1].height = 50\n",
    "\n",
    "    # изменим ширину некоторых колонок\n",
    "    columns_to_change = ['B', 'C', 'D', 'I', 'J', 'K']\n",
    "    for cell in columns_to_change:\n",
    "        sheet.column_dimensions[cell].width = 20\n",
    "\n",
    "    # свернем строки с номерами с 3 по 94\n",
    "    #sheet.row_dimensions.group(3, 95, hidden=False)\n",
    "    #sheet.row_dimensions.group(97, 189, hidden=False)\n",
    "    #sheet.row_dimensions.group(191, 283, hidden=False)\n",
    "    #sheet.row_dimensions.group(285, 373, hidden=False)\n",
    "\n",
    "\n",
    "    # установим жирный шрифт для ячеек первой строки\n",
    "    cell_to_change = ['A1','B1','C1','D1','E1','F1','G1','H1','I1', 'J1','G1','K1','L1','M1','N1','O1','P1',]\n",
    "    for cell in cell_to_change:\n",
    "        sheet[cell].font = Font(size=12, bold=True)\n",
    "\n",
    "    # удалим 2 строку (пустую)\n",
    "    sheet.delete_rows(2)\n",
    "\n",
    "    # зафиксируем первую строку при прокрутке по вертикали\n",
    "    sheet.freeze_panes = 'A2'\n",
    "\n",
    "    # выгрузим таблицу в рабочую область\n",
    "    workbook.save(df_name_xlsx)\n",
    "    print(\"\\033[34m\"'Выгружен файл'\"\\033[1m\", df_name_xlsx)\n",
    "\n",
    "    return"
   ]
  },
  {
   "cell_type": "markdown",
   "id": "c7a8a4f3",
   "metadata": {
    "id": "c7a8a4f3"
   },
   "source": [
    "Функция `wash_and_clean` сформирует и распечатает нам очищенные датафреймы для \"Всего населения\", мужчин и женщин"
   ]
  },
  {
   "cell_type": "code",
   "execution_count": 346,
   "id": "f45e56a0",
   "metadata": {
    "id": "f45e56a0"
   },
   "outputs": [],
   "source": [
    "def wash_and_clean(data_name, data_xlsx, data_csv):\n",
    "    # Удалим пробелы в первой и последней позиции в столбце \"Регион\" и \"Индикатор\"\n",
    "    data_name.Регион = data_name.Регион.str.strip()\n",
    "    data_name.Индикатор = data_name.Индикатор.str.strip()\n",
    "    # Категоризируем регионы - зададим им названия ФО\n",
    "    data_name['ФО'] = data_name['Регион'].apply(categorize_purpose)\n",
    "    # Сохраним данные в разрезе федеральных округов\n",
    "    data_federal_district_two = clear_data_bad_reg_names(data_name)[0]\n",
    "    # Сохраним датафрейм без строк с наименованиями ФО\n",
    "    data_name = clear_data_bad_reg_names(data_name)[1]\n",
    "    # выгрузим таблицы в формате Excel\n",
    "    df_download_second(data_name, data_xlsx, data_csv)\n",
    "    return(data_name)"
   ]
  },
  {
   "cell_type": "markdown",
   "id": "89470d91",
   "metadata": {
    "id": "89470d91"
   },
   "source": [
    "Вызовем функцию `wash_and_clean` и сформируем и распечатаем датафреймы для \"Всего населения\", мужчин и женщин"
   ]
  },
  {
   "cell_type": "code",
   "execution_count": 347,
   "id": "78c5a79d",
   "metadata": {
    "id": "78c5a79d",
    "outputId": "37ed5817-30fc-4098-f40b-8f714fd05e0d",
    "scrolled": true
   },
   "outputs": [
    {
     "name": "stderr",
     "output_type": "stream",
     "text": [
      "/tmp/ipykernel_48/391684453.py:12: SettingWithCopyWarning: \n",
      "A value is trying to be set on a copy of a slice from a DataFrame.\n",
      "Try using .loc[row_indexer,col_indexer] = value instead\n",
      "\n",
      "See the caveats in the documentation: https://pandas.pydata.org/pandas-docs/stable/user_guide/indexing.html#returning-a-view-versus-a-copy\n",
      "  data_name['ФО'] = data_name['Регион'].apply(categorize_purpose)\n"
     ]
    },
    {
     "name": "stdout",
     "output_type": "stream",
     "text": [
      "\u001b[34mТекущая папка: \u001b[1m /home/jovyan/work\n",
      "\u001b[34mВыгружен файл\u001b[1m final_df_ZNO.csv\n"
     ]
    },
    {
     "name": "stderr",
     "output_type": "stream",
     "text": [
      "  0%|          | 0/21111 [23:38<?, ?it/s]\n"
     ]
    },
    {
     "name": "stdout",
     "output_type": "stream",
     "text": [
      "\u001b[34mВыгружен файл\u001b[1m final_df_ZNO.xlsx\n"
     ]
    }
   ],
   "source": [
    "df = wash_and_clean(final_df, \"final_df_ZNO.xlsx\", \"final_df_ZNO.csv\")"
   ]
  }
 ],
 "metadata": {
  "ExecuteTimeLog": [
   {
    "duration": 6,
    "start_time": "2023-12-01T11:31:28.741Z"
   },
   {
    "duration": 59,
    "start_time": "2023-12-01T11:31:29.362Z"
   },
   {
    "duration": 31634,
    "start_time": "2023-12-01T11:31:40.070Z"
   },
   {
    "duration": 30256,
    "start_time": "2023-12-01T11:32:27.229Z"
   },
   {
    "duration": 3,
    "start_time": "2023-12-01T11:34:04.380Z"
   },
   {
    "duration": 436,
    "start_time": "2023-12-01T11:34:29.875Z"
   },
   {
    "duration": 3,
    "start_time": "2023-12-01T11:38:09.493Z"
   },
   {
    "duration": 60452,
    "start_time": "2023-12-01T11:38:13.894Z"
   },
   {
    "duration": 5020,
    "start_time": "2023-12-01T11:39:54.110Z"
   },
   {
    "duration": 15635,
    "start_time": "2023-12-01T11:40:38.374Z"
   },
   {
    "duration": 156,
    "start_time": "2023-12-01T11:41:52.053Z"
   },
   {
    "duration": 212,
    "start_time": "2023-12-01T11:41:52.884Z"
   },
   {
    "duration": 304,
    "start_time": "2023-12-01T11:42:11.621Z"
   },
   {
    "duration": 540,
    "start_time": "2023-12-01T11:44:47.613Z"
   },
   {
    "duration": 650,
    "start_time": "2023-12-01T11:45:00.790Z"
   },
   {
    "duration": 683,
    "start_time": "2023-12-01T12:04:24.750Z"
   },
   {
    "duration": 484,
    "start_time": "2023-12-01T12:05:56.094Z"
   },
   {
    "duration": 5,
    "start_time": "2023-12-01T12:07:20.045Z"
   },
   {
    "duration": 518,
    "start_time": "2023-12-01T12:09:17.247Z"
   },
   {
    "duration": 461,
    "start_time": "2023-12-01T12:09:28.550Z"
   },
   {
    "duration": 108,
    "start_time": "2023-12-01T12:14:31.761Z"
   },
   {
    "duration": 425,
    "start_time": "2023-12-01T12:33:57.724Z"
   },
   {
    "duration": 1505,
    "start_time": "2023-12-01T12:46:18.178Z"
   },
   {
    "duration": 101,
    "start_time": "2023-12-01T12:55:49.435Z"
   },
   {
    "duration": 76,
    "start_time": "2023-12-01T12:56:10.465Z"
   },
   {
    "duration": 83,
    "start_time": "2023-12-01T12:56:23.929Z"
   },
   {
    "duration": 147,
    "start_time": "2023-12-01T12:58:04.184Z"
   },
   {
    "duration": 121080,
    "start_time": "2023-12-01T12:59:00.777Z"
   },
   {
    "duration": 30,
    "start_time": "2023-12-01T13:03:41.922Z"
   },
   {
    "duration": 7,
    "start_time": "2023-12-01T13:08:06.748Z"
   },
   {
    "duration": 534,
    "start_time": "2023-12-01T13:08:23.243Z"
   },
   {
    "duration": 100,
    "start_time": "2023-12-01T13:10:31.165Z"
   },
   {
    "duration": 61,
    "start_time": "2023-12-01T13:14:36.383Z"
   },
   {
    "duration": 14,
    "start_time": "2023-12-01T13:14:52.749Z"
   },
   {
    "duration": 8,
    "start_time": "2023-12-01T13:19:32.863Z"
   },
   {
    "duration": 3,
    "start_time": "2023-12-01T13:19:57.463Z"
   },
   {
    "duration": 191,
    "start_time": "2023-12-01T13:19:59.608Z"
   },
   {
    "duration": 117,
    "start_time": "2023-12-01T13:20:31.739Z"
   },
   {
    "duration": 66,
    "start_time": "2023-12-01T13:20:43.907Z"
   },
   {
    "duration": 50,
    "start_time": "2023-12-01T13:21:23.056Z"
   },
   {
    "duration": 40,
    "start_time": "2023-12-01T13:21:32.623Z"
   },
   {
    "duration": 46,
    "start_time": "2023-12-01T13:21:55.751Z"
   },
   {
    "duration": 29,
    "start_time": "2023-12-01T13:22:21.156Z"
   },
   {
    "duration": 42,
    "start_time": "2023-12-01T13:22:35.136Z"
   },
   {
    "duration": 65,
    "start_time": "2023-12-01T13:22:59.968Z"
   },
   {
    "duration": 3,
    "start_time": "2023-12-01T13:23:30.471Z"
   },
   {
    "duration": 253,
    "start_time": "2023-12-01T13:23:33.799Z"
   },
   {
    "duration": 11,
    "start_time": "2023-12-01T13:23:59.560Z"
   },
   {
    "duration": 204,
    "start_time": "2023-12-01T13:50:21.287Z"
   },
   {
    "duration": 133,
    "start_time": "2023-12-01T13:50:39.231Z"
   },
   {
    "duration": 3,
    "start_time": "2023-12-01T13:52:06.016Z"
   },
   {
    "duration": 29,
    "start_time": "2023-12-01T13:52:16.199Z"
   },
   {
    "duration": 8,
    "start_time": "2023-12-01T17:57:11.922Z"
   },
   {
    "duration": 44,
    "start_time": "2023-12-01T17:57:13.089Z"
   },
   {
    "duration": 7,
    "start_time": "2023-12-01T17:57:42.406Z"
   },
   {
    "duration": 7,
    "start_time": "2023-12-01T17:59:16.115Z"
   },
   {
    "duration": 6,
    "start_time": "2023-12-01T17:59:31.194Z"
   },
   {
    "duration": 7,
    "start_time": "2023-12-01T17:59:32.226Z"
   },
   {
    "duration": 3428,
    "start_time": "2023-12-01T18:00:24.387Z"
   },
   {
    "duration": 2,
    "start_time": "2023-12-01T18:01:07.827Z"
   },
   {
    "duration": 63,
    "start_time": "2023-12-01T18:01:08.733Z"
   },
   {
    "duration": 22069,
    "start_time": "2023-12-01T18:01:10.826Z"
   },
   {
    "duration": 2,
    "start_time": "2023-12-01T18:01:42.198Z"
   },
   {
    "duration": 133,
    "start_time": "2023-12-01T18:01:43.634Z"
   },
   {
    "duration": 144,
    "start_time": "2023-12-01T18:01:46.125Z"
   },
   {
    "duration": 190,
    "start_time": "2023-12-01T18:01:48.706Z"
   },
   {
    "duration": 4,
    "start_time": "2023-12-01T18:01:54.837Z"
   },
   {
    "duration": 1996,
    "start_time": "2023-12-01T18:02:00.005Z"
   },
   {
    "duration": 3,
    "start_time": "2023-12-01T18:04:35.644Z"
   },
   {
    "duration": 151,
    "start_time": "2023-12-01T18:04:53.948Z"
   },
   {
    "duration": 2,
    "start_time": "2023-12-01T18:05:18.712Z"
   },
   {
    "duration": 21,
    "start_time": "2023-12-01T18:05:19.476Z"
   },
   {
    "duration": 435,
    "start_time": "2023-12-01T18:05:47.108Z"
   },
   {
    "duration": 577,
    "start_time": "2023-12-01T18:05:55.444Z"
   },
   {
    "duration": 11,
    "start_time": "2023-12-01T18:05:58.364Z"
   },
   {
    "duration": 27,
    "start_time": "2023-12-01T18:06:01.588Z"
   },
   {
    "duration": 28,
    "start_time": "2023-12-01T18:06:28.580Z"
   },
   {
    "duration": 3,
    "start_time": "2023-12-01T18:06:33.636Z"
   },
   {
    "duration": 24,
    "start_time": "2023-12-01T18:06:36.676Z"
   },
   {
    "duration": 382,
    "start_time": "2023-12-04T06:47:18.919Z"
   },
   {
    "duration": 105,
    "start_time": "2023-12-04T06:52:33.750Z"
   },
   {
    "duration": 6,
    "start_time": "2023-12-04T06:52:50.795Z"
   },
   {
    "duration": 6,
    "start_time": "2023-12-04T06:53:04.050Z"
   },
   {
    "duration": 2,
    "start_time": "2023-12-04T06:53:27.306Z"
   },
   {
    "duration": 54,
    "start_time": "2023-12-04T06:53:35.872Z"
   },
   {
    "duration": 3,
    "start_time": "2023-12-04T06:53:44.105Z"
   },
   {
    "duration": 354,
    "start_time": "2023-12-04T06:53:51.106Z"
   },
   {
    "duration": 11,
    "start_time": "2023-12-04T06:54:10.904Z"
   },
   {
    "duration": 23,
    "start_time": "2023-12-04T06:54:20.874Z"
   },
   {
    "duration": 5,
    "start_time": "2023-12-04T07:18:55.634Z"
   },
   {
    "duration": 3,
    "start_time": "2023-12-04T07:28:01.856Z"
   },
   {
    "duration": 109,
    "start_time": "2023-12-04T07:28:13.355Z"
   },
   {
    "duration": 3,
    "start_time": "2023-12-04T07:28:26.205Z"
   },
   {
    "duration": 12,
    "start_time": "2023-12-04T07:28:42.940Z"
   },
   {
    "duration": 27,
    "start_time": "2023-12-04T07:28:46.579Z"
   },
   {
    "duration": 23,
    "start_time": "2023-12-04T07:29:08.285Z"
   },
   {
    "duration": 18,
    "start_time": "2023-12-04T07:29:12.752Z"
   },
   {
    "duration": 1365,
    "start_time": "2023-12-04T07:31:33.238Z"
   },
   {
    "duration": 11,
    "start_time": "2023-12-04T07:31:34.605Z"
   },
   {
    "duration": 13,
    "start_time": "2023-12-04T07:32:22.895Z"
   },
   {
    "duration": 216,
    "start_time": "2023-12-04T07:34:45.109Z"
   },
   {
    "duration": 105,
    "start_time": "2023-12-04T07:39:33.095Z"
   },
   {
    "duration": 150,
    "start_time": "2023-12-04T07:39:40.463Z"
   },
   {
    "duration": 75,
    "start_time": "2023-12-04T07:39:54.597Z"
   },
   {
    "duration": 145,
    "start_time": "2023-12-04T07:39:58.904Z"
   },
   {
    "duration": 152,
    "start_time": "2023-12-04T07:40:21.608Z"
   },
   {
    "duration": 240,
    "start_time": "2023-12-04T07:40:30.655Z"
   },
   {
    "duration": 140,
    "start_time": "2023-12-04T07:41:04.463Z"
   },
   {
    "duration": 160,
    "start_time": "2023-12-04T07:41:11.479Z"
   },
   {
    "duration": 46,
    "start_time": "2023-12-04T07:41:41.657Z"
   },
   {
    "duration": 274,
    "start_time": "2023-12-04T07:41:47.146Z"
   },
   {
    "duration": 174,
    "start_time": "2023-12-04T07:42:12.567Z"
   },
   {
    "duration": 63,
    "start_time": "2023-12-04T07:42:19.914Z"
   },
   {
    "duration": 73,
    "start_time": "2023-12-04T07:42:23.680Z"
   },
   {
    "duration": 59,
    "start_time": "2023-12-04T07:42:27.128Z"
   },
   {
    "duration": 218,
    "start_time": "2023-12-04T07:42:30.224Z"
   },
   {
    "duration": 153,
    "start_time": "2023-12-04T07:42:51.112Z"
   },
   {
    "duration": 171,
    "start_time": "2023-12-04T07:42:57.863Z"
   },
   {
    "duration": 165,
    "start_time": "2023-12-04T07:43:04.298Z"
   },
   {
    "duration": 92,
    "start_time": "2023-12-04T07:43:17.864Z"
   },
   {
    "duration": 130,
    "start_time": "2023-12-04T07:43:48.288Z"
   },
   {
    "duration": 117,
    "start_time": "2023-12-04T07:43:58.017Z"
   },
   {
    "duration": 171,
    "start_time": "2023-12-04T07:44:07.585Z"
   },
   {
    "duration": 98,
    "start_time": "2023-12-04T07:44:16.168Z"
   },
   {
    "duration": 41,
    "start_time": "2023-12-04T07:44:35.960Z"
   },
   {
    "duration": 53,
    "start_time": "2023-12-04T07:44:40.168Z"
   },
   {
    "duration": 48,
    "start_time": "2023-12-04T07:44:43.377Z"
   },
   {
    "duration": 48,
    "start_time": "2023-12-04T07:44:49.808Z"
   },
   {
    "duration": 148,
    "start_time": "2023-12-04T07:44:54.008Z"
   },
   {
    "duration": 114,
    "start_time": "2023-12-04T07:45:20.211Z"
   },
   {
    "duration": 57,
    "start_time": "2023-12-04T07:45:34.336Z"
   },
   {
    "duration": 50,
    "start_time": "2023-12-04T07:45:39.744Z"
   },
   {
    "duration": 165,
    "start_time": "2023-12-04T07:45:43.683Z"
   },
   {
    "duration": 125,
    "start_time": "2023-12-04T07:46:08.176Z"
   },
   {
    "duration": 63,
    "start_time": "2023-12-04T07:46:36.597Z"
   },
   {
    "duration": 112,
    "start_time": "2023-12-04T07:46:40.042Z"
   },
   {
    "duration": 119,
    "start_time": "2023-12-04T07:46:44.634Z"
   },
   {
    "duration": 155,
    "start_time": "2023-12-04T07:47:15.731Z"
   },
   {
    "duration": 184,
    "start_time": "2023-12-04T07:47:22.537Z"
   },
   {
    "duration": 144,
    "start_time": "2023-12-04T07:47:27.336Z"
   },
   {
    "duration": 151,
    "start_time": "2023-12-04T07:47:31.872Z"
   },
   {
    "duration": 246,
    "start_time": "2023-12-04T07:47:38.946Z"
   },
   {
    "duration": 1251,
    "start_time": "2023-12-04T07:49:25.337Z"
   },
   {
    "duration": 1421,
    "start_time": "2023-12-04T07:49:53.007Z"
   },
   {
    "duration": 185,
    "start_time": "2023-12-04T07:50:15.547Z"
   },
   {
    "duration": 163,
    "start_time": "2023-12-04T07:50:29.538Z"
   },
   {
    "duration": 154,
    "start_time": "2023-12-04T07:50:35.843Z"
   },
   {
    "duration": 1293,
    "start_time": "2023-12-04T07:50:45.740Z"
   },
   {
    "duration": 1479,
    "start_time": "2023-12-04T07:50:56.570Z"
   },
   {
    "duration": 60,
    "start_time": "2023-12-04T07:51:06.394Z"
   },
   {
    "duration": 1208,
    "start_time": "2023-12-04T07:51:14.081Z"
   },
   {
    "duration": 1420,
    "start_time": "2023-12-04T07:51:22.298Z"
   },
   {
    "duration": 57,
    "start_time": "2023-12-04T07:53:42.755Z"
   },
   {
    "duration": 49,
    "start_time": "2023-12-04T07:54:07.570Z"
   },
   {
    "duration": 0,
    "start_time": "2023-12-04T07:54:29.920Z"
   },
   {
    "duration": 177,
    "start_time": "2023-12-04T07:54:51.458Z"
   },
   {
    "duration": 134,
    "start_time": "2023-12-04T07:55:22.194Z"
   },
   {
    "duration": 33,
    "start_time": "2023-12-04T07:56:33.574Z"
   },
   {
    "duration": 3,
    "start_time": "2023-12-04T07:57:07.155Z"
   },
   {
    "duration": 103,
    "start_time": "2023-12-04T07:57:07.854Z"
   },
   {
    "duration": 3,
    "start_time": "2023-12-04T07:57:08.603Z"
   },
   {
    "duration": 2,
    "start_time": "2023-12-04T07:57:21.426Z"
   },
   {
    "duration": 171,
    "start_time": "2023-12-04T07:57:22.005Z"
   },
   {
    "duration": 3,
    "start_time": "2023-12-04T07:57:23.778Z"
   },
   {
    "duration": 2,
    "start_time": "2023-12-04T07:57:30.634Z"
   },
   {
    "duration": 110,
    "start_time": "2023-12-04T07:57:33.676Z"
   },
   {
    "duration": 3,
    "start_time": "2023-12-04T07:57:34.650Z"
   },
   {
    "duration": 19,
    "start_time": "2023-12-04T07:57:45.498Z"
   },
   {
    "duration": 24,
    "start_time": "2023-12-04T07:58:08.212Z"
   },
   {
    "duration": 24,
    "start_time": "2023-12-04T07:58:23.578Z"
   },
   {
    "duration": 29,
    "start_time": "2023-12-04T07:58:48.267Z"
   },
   {
    "duration": 27,
    "start_time": "2023-12-04T07:58:52.188Z"
   },
   {
    "duration": 60,
    "start_time": "2023-12-04T07:59:31.469Z"
   },
   {
    "duration": 58,
    "start_time": "2023-12-04T07:59:35.253Z"
   },
   {
    "duration": 1457,
    "start_time": "2023-12-04T08:00:04.939Z"
   },
   {
    "duration": 1514,
    "start_time": "2023-12-04T08:00:29.484Z"
   },
   {
    "duration": 1605,
    "start_time": "2023-12-04T08:01:25.734Z"
   },
   {
    "duration": 1323,
    "start_time": "2023-12-04T08:01:34.381Z"
   },
   {
    "duration": 1317,
    "start_time": "2023-12-04T08:01:45.820Z"
   },
   {
    "duration": 1547,
    "start_time": "2023-12-04T08:01:57.076Z"
   },
   {
    "duration": 1297,
    "start_time": "2023-12-04T08:02:05.006Z"
   },
   {
    "duration": 1361,
    "start_time": "2023-12-04T08:02:12.842Z"
   },
   {
    "duration": 58,
    "start_time": "2023-12-04T08:30:07.830Z"
   },
   {
    "duration": 78,
    "start_time": "2023-12-04T08:30:25.404Z"
   },
   {
    "duration": 27,
    "start_time": "2023-12-04T08:33:08.157Z"
   },
   {
    "duration": 53,
    "start_time": "2023-12-04T08:33:56.806Z"
   },
   {
    "duration": 36,
    "start_time": "2023-12-04T08:34:09.517Z"
   },
   {
    "duration": 35,
    "start_time": "2023-12-04T08:34:18.157Z"
   },
   {
    "duration": 57,
    "start_time": "2023-12-04T08:34:30.421Z"
   },
   {
    "duration": 192,
    "start_time": "2023-12-04T12:18:18.082Z"
   },
   {
    "duration": 1260,
    "start_time": "2023-12-04T12:18:50.860Z"
   },
   {
    "duration": 1404,
    "start_time": "2023-12-04T12:19:49.645Z"
   },
   {
    "duration": 162,
    "start_time": "2023-12-04T12:21:05.095Z"
   },
   {
    "duration": 201,
    "start_time": "2023-12-04T12:21:57.909Z"
   },
   {
    "duration": 1376,
    "start_time": "2023-12-04T12:41:31.787Z"
   },
   {
    "duration": 1240,
    "start_time": "2023-12-04T12:42:15.702Z"
   },
   {
    "duration": 1264,
    "start_time": "2023-12-04T12:42:34.409Z"
   },
   {
    "duration": 1194,
    "start_time": "2023-12-04T12:42:59.169Z"
   },
   {
    "duration": 1261,
    "start_time": "2023-12-04T12:43:27.298Z"
   },
   {
    "duration": 1177,
    "start_time": "2023-12-04T12:43:43.802Z"
   },
   {
    "duration": 1402,
    "start_time": "2023-12-04T12:45:25.851Z"
   },
   {
    "duration": 1183,
    "start_time": "2023-12-04T12:46:07.722Z"
   },
   {
    "duration": 1265,
    "start_time": "2023-12-04T12:46:24.618Z"
   },
   {
    "duration": 128,
    "start_time": "2023-12-04T12:47:41.491Z"
   },
   {
    "duration": 110,
    "start_time": "2023-12-04T12:48:33.195Z"
   },
   {
    "duration": 104,
    "start_time": "2023-12-04T12:48:46.932Z"
   },
   {
    "duration": 143,
    "start_time": "2023-12-04T12:48:52.357Z"
   },
   {
    "duration": 124,
    "start_time": "2023-12-04T12:49:13.035Z"
   },
   {
    "duration": 197,
    "start_time": "2023-12-04T12:49:30.703Z"
   },
   {
    "duration": 1259,
    "start_time": "2023-12-04T12:49:59.472Z"
   },
   {
    "duration": 197,
    "start_time": "2023-12-04T13:07:02.952Z"
   },
   {
    "duration": 139,
    "start_time": "2023-12-04T13:23:43.872Z"
   },
   {
    "duration": 5,
    "start_time": "2023-12-04T13:23:49.967Z"
   },
   {
    "duration": 4,
    "start_time": "2023-12-04T13:24:00.019Z"
   },
   {
    "duration": 7,
    "start_time": "2023-12-04T13:24:53.787Z"
   },
   {
    "duration": 4,
    "start_time": "2023-12-04T13:27:22.026Z"
   },
   {
    "duration": 4,
    "start_time": "2023-12-04T13:27:49.713Z"
   },
   {
    "duration": 3,
    "start_time": "2023-12-04T13:28:53.926Z"
   },
   {
    "duration": 4,
    "start_time": "2023-12-04T13:29:04.076Z"
   },
   {
    "duration": 7,
    "start_time": "2023-12-04T13:29:17.548Z"
   },
   {
    "duration": 4,
    "start_time": "2023-12-04T13:36:30.615Z"
   },
   {
    "duration": 8,
    "start_time": "2023-12-04T13:36:39.123Z"
   },
   {
    "duration": 3,
    "start_time": "2023-12-04T13:38:27.312Z"
   },
   {
    "duration": 9,
    "start_time": "2023-12-04T13:38:28.065Z"
   },
   {
    "duration": 2,
    "start_time": "2023-12-04T13:39:17.641Z"
   },
   {
    "duration": 17,
    "start_time": "2023-12-04T13:45:33.745Z"
   },
   {
    "duration": 4,
    "start_time": "2023-12-04T13:46:19.434Z"
   },
   {
    "duration": 4,
    "start_time": "2023-12-04T13:46:20.841Z"
   },
   {
    "duration": 3,
    "start_time": "2023-12-04T13:46:40.834Z"
   },
   {
    "duration": 13,
    "start_time": "2023-12-04T13:47:36.455Z"
   },
   {
    "duration": 3,
    "start_time": "2023-12-04T13:48:58.340Z"
   },
   {
    "duration": 13,
    "start_time": "2023-12-04T13:49:11.146Z"
   },
   {
    "duration": 5,
    "start_time": "2023-12-04T13:49:48.708Z"
   },
   {
    "duration": 1587,
    "start_time": "2023-12-04T13:56:45.325Z"
   },
   {
    "duration": 152,
    "start_time": "2023-12-04T13:58:14.492Z"
   },
   {
    "duration": 3,
    "start_time": "2023-12-04T14:01:39.680Z"
   },
   {
    "duration": 132,
    "start_time": "2023-12-04T14:01:43.037Z"
   },
   {
    "duration": 3,
    "start_time": "2023-12-04T14:02:13.582Z"
   },
   {
    "duration": 137,
    "start_time": "2023-12-04T14:02:16.333Z"
   },
   {
    "duration": 5,
    "start_time": "2023-12-04T14:03:24.862Z"
   },
   {
    "duration": 175,
    "start_time": "2023-12-04T14:03:29.998Z"
   },
   {
    "duration": 147,
    "start_time": "2023-12-04T14:05:07.351Z"
   },
   {
    "duration": 3,
    "start_time": "2023-12-04T14:05:47.992Z"
   },
   {
    "duration": 4,
    "start_time": "2023-12-04T14:07:02.743Z"
   },
   {
    "duration": 179,
    "start_time": "2023-12-04T14:07:07.287Z"
   },
   {
    "duration": 24,
    "start_time": "2023-12-04T14:16:09.414Z"
   },
   {
    "duration": 8,
    "start_time": "2023-12-04T14:17:47.561Z"
   },
   {
    "duration": 81,
    "start_time": "2023-12-04T14:21:53.878Z"
   },
   {
    "duration": 4,
    "start_time": "2023-12-04T14:23:18.533Z"
   },
   {
    "duration": 114,
    "start_time": "2023-12-04T14:26:09.500Z"
   },
   {
    "duration": 773,
    "start_time": "2023-12-04T14:48:37.069Z"
   },
   {
    "duration": 23,
    "start_time": "2023-12-04T14:48:51.023Z"
   },
   {
    "duration": 7,
    "start_time": "2023-12-04T14:49:38.690Z"
   },
   {
    "duration": 3,
    "start_time": "2023-12-04T14:49:55.986Z"
   },
   {
    "duration": 127,
    "start_time": "2023-12-04T14:50:06.123Z"
   },
   {
    "duration": 555,
    "start_time": "2023-12-04T14:52:39.646Z"
   },
   {
    "duration": 4,
    "start_time": "2023-12-04T14:52:51.602Z"
   },
   {
    "duration": 540,
    "start_time": "2023-12-04T14:57:20.781Z"
   },
   {
    "duration": 66,
    "start_time": "2023-12-04T14:57:22.949Z"
   },
   {
    "duration": 8,
    "start_time": "2023-12-04T14:59:56.026Z"
   },
   {
    "duration": 7,
    "start_time": "2023-12-04T15:00:08.628Z"
   },
   {
    "duration": 51,
    "start_time": "2023-12-04T15:00:22.807Z"
   },
   {
    "duration": 25,
    "start_time": "2023-12-04T15:02:13.337Z"
   },
   {
    "duration": 43,
    "start_time": "2023-12-04T15:02:23.160Z"
   },
   {
    "duration": 192,
    "start_time": "2023-12-04T15:16:37.739Z"
   },
   {
    "duration": 1327,
    "start_time": "2023-12-04T15:27:56.815Z"
   },
   {
    "duration": 29,
    "start_time": "2023-12-04T15:39:25.169Z"
   },
   {
    "duration": 3483,
    "start_time": "2023-12-05T09:09:49.076Z"
   },
   {
    "duration": 3,
    "start_time": "2023-12-05T09:09:58.467Z"
   },
   {
    "duration": 359,
    "start_time": "2023-12-05T09:10:04.204Z"
   },
   {
    "duration": 64,
    "start_time": "2023-12-05T09:10:05.635Z"
   },
   {
    "duration": 18281,
    "start_time": "2023-12-05T09:10:08.011Z"
   },
   {
    "duration": 3084,
    "start_time": "2023-12-05T09:10:28.924Z"
   },
   {
    "duration": 459,
    "start_time": "2023-12-05T09:10:41.572Z"
   },
   {
    "duration": 5634,
    "start_time": "2023-12-05T09:10:59.302Z"
   },
   {
    "duration": 66,
    "start_time": "2023-12-05T09:11:09.154Z"
   },
   {
    "duration": 120,
    "start_time": "2023-12-05T09:11:10.740Z"
   },
   {
    "duration": 1295,
    "start_time": "2023-12-05T09:11:15.068Z"
   },
   {
    "duration": 3,
    "start_time": "2023-12-05T09:11:22.964Z"
   },
   {
    "duration": 4,
    "start_time": "2023-12-05T09:11:26.636Z"
   },
   {
    "duration": 68018,
    "start_time": "2023-12-05T09:11:30.541Z"
   },
   {
    "duration": 136,
    "start_time": "2023-12-05T09:12:44.020Z"
   },
   {
    "duration": 64,
    "start_time": "2023-12-05T09:12:52.597Z"
   },
   {
    "duration": 5,
    "start_time": "2023-12-05T09:13:00.573Z"
   },
   {
    "duration": 3,
    "start_time": "2023-12-05T09:13:06.540Z"
   },
   {
    "duration": 8,
    "start_time": "2023-12-05T09:13:09.644Z"
   },
   {
    "duration": 657,
    "start_time": "2023-12-05T09:13:13.661Z"
   },
   {
    "duration": 12,
    "start_time": "2023-12-05T09:13:20.893Z"
   },
   {
    "duration": 32,
    "start_time": "2023-12-05T09:13:29.364Z"
   },
   {
    "duration": 27,
    "start_time": "2023-12-05T09:13:40.341Z"
   },
   {
    "duration": 32,
    "start_time": "2023-12-05T09:14:25.525Z"
   },
   {
    "duration": 4,
    "start_time": "2023-12-05T09:15:21.294Z"
   },
   {
    "duration": 4,
    "start_time": "2023-12-05T09:15:24.234Z"
   },
   {
    "duration": 3,
    "start_time": "2023-12-05T09:15:39.202Z"
   },
   {
    "duration": 1054,
    "start_time": "2023-12-05T09:15:54.491Z"
   },
   {
    "duration": 55,
    "start_time": "2023-12-05T09:15:56.229Z"
   },
   {
    "duration": 18,
    "start_time": "2023-12-05T09:16:03.692Z"
   },
   {
    "duration": 38,
    "start_time": "2023-12-05T09:16:05.083Z"
   },
   {
    "duration": 5,
    "start_time": "2023-12-05T11:09:12.716Z"
   },
   {
    "duration": 3,
    "start_time": "2023-12-05T11:09:51.772Z"
   },
   {
    "duration": 4,
    "start_time": "2023-12-05T11:09:56.782Z"
   },
   {
    "duration": 5,
    "start_time": "2023-12-05T11:12:15.800Z"
   },
   {
    "duration": 4,
    "start_time": "2023-12-05T11:12:24.566Z"
   },
   {
    "duration": 3,
    "start_time": "2023-12-05T11:12:33.653Z"
   },
   {
    "duration": 2,
    "start_time": "2023-12-05T11:12:34.543Z"
   },
   {
    "duration": 3,
    "start_time": "2023-12-05T11:12:35.654Z"
   },
   {
    "duration": 5,
    "start_time": "2023-12-05T11:12:38.504Z"
   },
   {
    "duration": 2,
    "start_time": "2023-12-05T11:13:50.365Z"
   },
   {
    "duration": 5,
    "start_time": "2023-12-05T11:13:52.932Z"
   },
   {
    "duration": 3,
    "start_time": "2023-12-05T11:14:16.061Z"
   },
   {
    "duration": 4,
    "start_time": "2023-12-05T11:14:16.997Z"
   },
   {
    "duration": 6,
    "start_time": "2023-12-05T11:14:42.159Z"
   },
   {
    "duration": 4,
    "start_time": "2023-12-05T11:14:50.005Z"
   },
   {
    "duration": 104,
    "start_time": "2023-12-05T11:16:26.841Z"
   },
   {
    "duration": 22,
    "start_time": "2023-12-05T11:17:53.227Z"
   },
   {
    "duration": 10,
    "start_time": "2023-12-05T11:18:49.705Z"
   },
   {
    "duration": 6,
    "start_time": "2023-12-05T11:20:32.542Z"
   },
   {
    "duration": 6,
    "start_time": "2023-12-05T11:20:40.415Z"
   },
   {
    "duration": 8,
    "start_time": "2023-12-05T11:20:48.118Z"
   },
   {
    "duration": 8,
    "start_time": "2023-12-05T11:21:12.576Z"
   },
   {
    "duration": 9,
    "start_time": "2023-12-05T11:21:16.087Z"
   },
   {
    "duration": 76,
    "start_time": "2023-12-05T11:21:34.530Z"
   },
   {
    "duration": 9,
    "start_time": "2023-12-05T11:21:42.655Z"
   },
   {
    "duration": 7,
    "start_time": "2023-12-05T11:21:50.600Z"
   },
   {
    "duration": 7,
    "start_time": "2023-12-05T11:22:49.847Z"
   },
   {
    "duration": 6,
    "start_time": "2023-12-05T11:22:53.517Z"
   },
   {
    "duration": 8,
    "start_time": "2023-12-05T11:24:05.403Z"
   },
   {
    "duration": 9,
    "start_time": "2023-12-05T11:24:30.431Z"
   },
   {
    "duration": 11,
    "start_time": "2023-12-05T11:25:09.344Z"
   },
   {
    "duration": 11,
    "start_time": "2023-12-05T11:25:31.136Z"
   },
   {
    "duration": 12,
    "start_time": "2023-12-05T11:27:15.547Z"
   },
   {
    "duration": 7,
    "start_time": "2023-12-05T11:27:25.962Z"
   },
   {
    "duration": 7,
    "start_time": "2023-12-05T11:30:17.771Z"
   },
   {
    "duration": 5,
    "start_time": "2023-12-05T11:30:33.178Z"
   },
   {
    "duration": 9,
    "start_time": "2023-12-05T11:32:26.594Z"
   },
   {
    "duration": 3,
    "start_time": "2023-12-05T11:33:53.516Z"
   },
   {
    "duration": 4,
    "start_time": "2023-12-05T11:33:55.987Z"
   },
   {
    "duration": 8,
    "start_time": "2023-12-05T11:34:03.538Z"
   },
   {
    "duration": 5,
    "start_time": "2023-12-05T11:34:06.858Z"
   },
   {
    "duration": 3,
    "start_time": "2023-12-05T11:34:33.778Z"
   },
   {
    "duration": 4,
    "start_time": "2023-12-05T11:34:36.322Z"
   },
   {
    "duration": 9,
    "start_time": "2023-12-05T11:34:38.514Z"
   },
   {
    "duration": 6,
    "start_time": "2023-12-05T11:36:02.158Z"
   },
   {
    "duration": 5,
    "start_time": "2023-12-05T11:36:06.274Z"
   },
   {
    "duration": 5,
    "start_time": "2023-12-05T11:37:21.020Z"
   },
   {
    "duration": 3,
    "start_time": "2023-12-05T11:37:23.195Z"
   },
   {
    "duration": 3,
    "start_time": "2023-12-05T11:38:29.373Z"
   },
   {
    "duration": 4,
    "start_time": "2023-12-05T11:38:32.381Z"
   },
   {
    "duration": 9,
    "start_time": "2023-12-05T11:39:28.305Z"
   },
   {
    "duration": 4,
    "start_time": "2023-12-05T11:39:36.690Z"
   },
   {
    "duration": 3,
    "start_time": "2023-12-05T11:40:05.033Z"
   },
   {
    "duration": 4,
    "start_time": "2023-12-05T11:40:08.139Z"
   },
   {
    "duration": 7,
    "start_time": "2023-12-05T11:40:14.413Z"
   },
   {
    "duration": 5,
    "start_time": "2023-12-05T11:40:26.661Z"
   },
   {
    "duration": 2,
    "start_time": "2023-12-05T11:41:24.614Z"
   },
   {
    "duration": 5,
    "start_time": "2023-12-05T11:41:27.597Z"
   },
   {
    "duration": 7,
    "start_time": "2023-12-05T11:41:31.973Z"
   },
   {
    "duration": 4,
    "start_time": "2023-12-05T11:41:35.336Z"
   },
   {
    "duration": 4,
    "start_time": "2023-12-05T11:42:35.910Z"
   },
   {
    "duration": 4,
    "start_time": "2023-12-05T11:42:42.575Z"
   },
   {
    "duration": 3,
    "start_time": "2023-12-05T11:42:47.462Z"
   },
   {
    "duration": 5,
    "start_time": "2023-12-05T11:43:38.906Z"
   },
   {
    "duration": 4,
    "start_time": "2023-12-05T11:43:48.204Z"
   },
   {
    "duration": 2,
    "start_time": "2023-12-05T11:43:52.852Z"
   },
   {
    "duration": 6,
    "start_time": "2023-12-05T11:43:56.373Z"
   },
   {
    "duration": 4,
    "start_time": "2023-12-05T11:44:08.844Z"
   },
   {
    "duration": 3,
    "start_time": "2023-12-05T11:44:20.537Z"
   },
   {
    "duration": 9,
    "start_time": "2023-12-05T11:44:26.093Z"
   },
   {
    "duration": 11,
    "start_time": "2023-12-05T11:44:55.885Z"
   },
   {
    "duration": 9,
    "start_time": "2023-12-05T11:45:57.086Z"
   },
   {
    "duration": 11,
    "start_time": "2023-12-05T11:46:46.759Z"
   },
   {
    "duration": 2,
    "start_time": "2023-12-05T11:46:58.463Z"
   },
   {
    "duration": 11,
    "start_time": "2023-12-05T11:47:03.378Z"
   },
   {
    "duration": 4,
    "start_time": "2023-12-05T11:47:33.151Z"
   },
   {
    "duration": 12,
    "start_time": "2023-12-05T11:48:25.782Z"
   },
   {
    "duration": 3,
    "start_time": "2023-12-05T11:48:29.480Z"
   },
   {
    "duration": 9,
    "start_time": "2023-12-05T11:48:42.215Z"
   },
   {
    "duration": 4,
    "start_time": "2023-12-05T11:48:43.062Z"
   },
   {
    "duration": 13,
    "start_time": "2023-12-05T11:50:35.591Z"
   },
   {
    "duration": 3,
    "start_time": "2023-12-05T11:50:40.071Z"
   },
   {
    "duration": 4,
    "start_time": "2023-12-05T11:50:43.478Z"
   },
   {
    "duration": 3,
    "start_time": "2023-12-05T11:50:54.639Z"
   },
   {
    "duration": 4,
    "start_time": "2023-12-05T11:50:56.584Z"
   },
   {
    "duration": 10,
    "start_time": "2023-12-05T11:51:17.118Z"
   },
   {
    "duration": 10,
    "start_time": "2023-12-05T11:51:38.572Z"
   },
   {
    "duration": 3,
    "start_time": "2023-12-05T11:51:49.350Z"
   },
   {
    "duration": 4,
    "start_time": "2023-12-05T11:51:52.222Z"
   },
   {
    "duration": 10,
    "start_time": "2023-12-05T11:51:54.536Z"
   },
   {
    "duration": 4,
    "start_time": "2023-12-05T11:52:02.998Z"
   },
   {
    "duration": 3,
    "start_time": "2023-12-05T11:52:06.094Z"
   },
   {
    "duration": 3,
    "start_time": "2023-12-05T12:00:06.721Z"
   },
   {
    "duration": 4,
    "start_time": "2023-12-05T12:00:22.191Z"
   },
   {
    "duration": 3,
    "start_time": "2023-12-05T12:01:46.986Z"
   },
   {
    "duration": 4,
    "start_time": "2023-12-05T12:01:50.896Z"
   },
   {
    "duration": 3,
    "start_time": "2023-12-05T12:01:54.061Z"
   },
   {
    "duration": 3,
    "start_time": "2023-12-05T12:01:55.529Z"
   },
   {
    "duration": 4,
    "start_time": "2023-12-05T12:01:56.921Z"
   },
   {
    "duration": 2,
    "start_time": "2023-12-05T12:07:07.156Z"
   },
   {
    "duration": 148,
    "start_time": "2023-12-05T12:07:24.564Z"
   },
   {
    "duration": 29,
    "start_time": "2023-12-05T12:08:07.731Z"
   },
   {
    "duration": 27,
    "start_time": "2023-12-05T12:08:49.315Z"
   },
   {
    "duration": 3,
    "start_time": "2023-12-05T12:15:46.090Z"
   },
   {
    "duration": 24,
    "start_time": "2023-12-05T12:19:41.238Z"
   },
   {
    "duration": 4,
    "start_time": "2023-12-05T12:19:52.182Z"
   },
   {
    "duration": 29,
    "start_time": "2023-12-05T12:20:46.463Z"
   },
   {
    "duration": 3,
    "start_time": "2023-12-05T12:20:48.398Z"
   },
   {
    "duration": 28,
    "start_time": "2023-12-05T12:22:22.078Z"
   },
   {
    "duration": 163,
    "start_time": "2023-12-05T12:24:12.576Z"
   },
   {
    "duration": 36,
    "start_time": "2023-12-05T12:24:45.364Z"
   },
   {
    "duration": 27,
    "start_time": "2023-12-05T12:26:12.543Z"
   },
   {
    "duration": 80,
    "start_time": "2023-12-05T12:26:42.498Z"
   },
   {
    "duration": 69,
    "start_time": "2023-12-05T12:27:42.512Z"
   },
   {
    "duration": 54,
    "start_time": "2023-12-05T12:28:05.751Z"
   },
   {
    "duration": 55,
    "start_time": "2023-12-05T12:28:19.032Z"
   },
   {
    "duration": 32,
    "start_time": "2023-12-05T12:30:09.088Z"
   },
   {
    "duration": 68,
    "start_time": "2023-12-05T12:33:06.953Z"
   },
   {
    "duration": 56,
    "start_time": "2023-12-05T12:33:46.314Z"
   },
   {
    "duration": 4,
    "start_time": "2023-12-05T12:35:14.568Z"
   },
   {
    "duration": 3,
    "start_time": "2023-12-05T12:35:35.719Z"
   },
   {
    "duration": 26,
    "start_time": "2023-12-05T12:35:48.073Z"
   },
   {
    "duration": 27,
    "start_time": "2023-12-05T12:35:57.688Z"
   },
   {
    "duration": 23,
    "start_time": "2023-12-05T12:36:07.985Z"
   },
   {
    "duration": 31,
    "start_time": "2023-12-05T12:36:15.560Z"
   },
   {
    "duration": 26,
    "start_time": "2023-12-05T12:36:27.312Z"
   },
   {
    "duration": 4,
    "start_time": "2023-12-05T12:36:37.096Z"
   },
   {
    "duration": 52,
    "start_time": "2023-12-05T12:36:41.352Z"
   },
   {
    "duration": 4,
    "start_time": "2023-12-05T12:36:43.144Z"
   },
   {
    "duration": 2,
    "start_time": "2023-12-05T12:37:32.721Z"
   },
   {
    "duration": 75,
    "start_time": "2023-12-05T12:37:35.128Z"
   },
   {
    "duration": 42,
    "start_time": "2023-12-05T12:37:53.897Z"
   },
   {
    "duration": 4,
    "start_time": "2023-12-05T12:38:06.545Z"
   },
   {
    "duration": 43,
    "start_time": "2023-12-05T12:38:12.329Z"
   },
   {
    "duration": 55,
    "start_time": "2023-12-05T12:38:56.473Z"
   },
   {
    "duration": 50,
    "start_time": "2023-12-05T12:39:36.417Z"
   },
   {
    "duration": 24,
    "start_time": "2023-12-05T12:39:46.465Z"
   },
   {
    "duration": 5,
    "start_time": "2023-12-05T12:39:49.433Z"
   },
   {
    "duration": 3,
    "start_time": "2023-12-05T12:39:56.416Z"
   },
   {
    "duration": 25,
    "start_time": "2023-12-05T12:39:57.328Z"
   },
   {
    "duration": 25,
    "start_time": "2023-12-05T12:39:59.665Z"
   },
   {
    "duration": 3,
    "start_time": "2023-12-05T12:40:00.537Z"
   },
   {
    "duration": 24,
    "start_time": "2023-12-05T12:41:07.202Z"
   },
   {
    "duration": 2,
    "start_time": "2023-12-05T12:41:11.042Z"
   },
   {
    "duration": 25,
    "start_time": "2023-12-05T12:41:13.178Z"
   },
   {
    "duration": 4,
    "start_time": "2023-12-05T12:41:13.969Z"
   },
   {
    "duration": 48,
    "start_time": "2023-12-05T15:49:06.267Z"
   },
   {
    "duration": 2,
    "start_time": "2023-12-05T15:49:11.739Z"
   },
   {
    "duration": 7,
    "start_time": "2023-12-05T15:49:15.714Z"
   },
   {
    "duration": 3311,
    "start_time": "2023-12-05T15:49:26.483Z"
   },
   {
    "duration": 3,
    "start_time": "2023-12-05T15:49:29.796Z"
   },
   {
    "duration": 394,
    "start_time": "2023-12-05T15:49:29.800Z"
   },
   {
    "duration": 67,
    "start_time": "2023-12-05T15:49:30.197Z"
   },
   {
    "duration": 20705,
    "start_time": "2023-12-05T15:49:30.265Z"
   },
   {
    "duration": 98,
    "start_time": "2023-12-05T15:49:50.971Z"
   },
   {
    "duration": 201,
    "start_time": "2023-12-05T15:49:51.071Z"
   },
   {
    "duration": 1499,
    "start_time": "2023-12-05T15:49:51.274Z"
   },
   {
    "duration": 4,
    "start_time": "2023-12-05T15:49:52.774Z"
   },
   {
    "duration": 28,
    "start_time": "2023-12-05T15:49:52.780Z"
   },
   {
    "duration": 70358,
    "start_time": "2023-12-05T15:49:52.810Z"
   },
   {
    "duration": 139,
    "start_time": "2023-12-05T15:51:03.170Z"
   },
   {
    "duration": 3,
    "start_time": "2023-12-05T15:51:03.310Z"
   },
   {
    "duration": 87,
    "start_time": "2023-12-05T15:51:03.315Z"
   },
   {
    "duration": 26,
    "start_time": "2023-12-05T15:51:03.404Z"
   },
   {
    "duration": 59,
    "start_time": "2023-12-05T15:51:03.432Z"
   },
   {
    "duration": 93,
    "start_time": "2023-12-05T15:51:03.493Z"
   },
   {
    "duration": 10,
    "start_time": "2023-12-05T15:51:03.587Z"
   },
   {
    "duration": 77,
    "start_time": "2023-12-05T15:51:03.599Z"
   },
   {
    "duration": 58,
    "start_time": "2023-12-05T15:51:03.677Z"
   },
   {
    "duration": 53,
    "start_time": "2023-12-05T15:51:03.737Z"
   },
   {
    "duration": 799,
    "start_time": "2023-12-05T15:51:21.954Z"
   },
   {
    "duration": 5,
    "start_time": "2023-12-05T15:51:25.058Z"
   },
   {
    "duration": 48,
    "start_time": "2023-12-05T15:51:48.778Z"
   },
   {
    "duration": 2,
    "start_time": "2023-12-05T15:53:55.724Z"
   },
   {
    "duration": 51,
    "start_time": "2023-12-05T15:54:55.533Z"
   },
   {
    "duration": 2,
    "start_time": "2023-12-05T15:56:30.516Z"
   },
   {
    "duration": 5570,
    "start_time": "2023-12-05T15:56:33.569Z"
   },
   {
    "duration": 3,
    "start_time": "2023-12-05T15:57:50.213Z"
   },
   {
    "duration": 250,
    "start_time": "2023-12-05T15:59:01.462Z"
   },
   {
    "duration": 26,
    "start_time": "2023-12-05T15:59:32.335Z"
   },
   {
    "duration": 17,
    "start_time": "2023-12-05T15:59:44.662Z"
   },
   {
    "duration": 26,
    "start_time": "2023-12-05T16:00:13.596Z"
   },
   {
    "duration": 8,
    "start_time": "2023-12-05T16:02:15.520Z"
   },
   {
    "duration": 19,
    "start_time": "2023-12-05T16:02:24.365Z"
   },
   {
    "duration": 34,
    "start_time": "2023-12-05T16:02:25.574Z"
   },
   {
    "duration": 36,
    "start_time": "2023-12-05T16:02:42.183Z"
   },
   {
    "duration": 9,
    "start_time": "2023-12-05T16:05:54.008Z"
   },
   {
    "duration": 9,
    "start_time": "2023-12-05T16:06:05.463Z"
   },
   {
    "duration": 11,
    "start_time": "2023-12-05T16:07:17.736Z"
   },
   {
    "duration": 4,
    "start_time": "2023-12-05T16:16:40.737Z"
   },
   {
    "duration": 4,
    "start_time": "2023-12-05T16:16:59.636Z"
   },
   {
    "duration": 10,
    "start_time": "2023-12-05T16:17:30.649Z"
   },
   {
    "duration": 5,
    "start_time": "2023-12-05T16:19:42.091Z"
   },
   {
    "duration": 8,
    "start_time": "2023-12-05T16:19:49.313Z"
   },
   {
    "duration": 9,
    "start_time": "2023-12-05T16:20:16.153Z"
   },
   {
    "duration": 10,
    "start_time": "2023-12-05T16:30:54.952Z"
   },
   {
    "duration": 69,
    "start_time": "2023-12-05T16:31:15.127Z"
   },
   {
    "duration": 9,
    "start_time": "2023-12-05T16:31:47.976Z"
   },
   {
    "duration": 9,
    "start_time": "2023-12-05T16:32:00.110Z"
   },
   {
    "duration": 8,
    "start_time": "2023-12-05T16:32:09.173Z"
   },
   {
    "duration": 9,
    "start_time": "2023-12-05T16:34:03.831Z"
   },
   {
    "duration": 9,
    "start_time": "2023-12-05T16:34:19.735Z"
   },
   {
    "duration": 2,
    "start_time": "2023-12-05T16:34:53.622Z"
   },
   {
    "duration": 13,
    "start_time": "2023-12-05T16:34:58.934Z"
   },
   {
    "duration": 8,
    "start_time": "2023-12-05T16:35:55.942Z"
   },
   {
    "duration": 20,
    "start_time": "2023-12-05T16:36:04.302Z"
   },
   {
    "duration": 12,
    "start_time": "2023-12-05T16:36:14.510Z"
   },
   {
    "duration": 5,
    "start_time": "2023-12-05T16:43:16.913Z"
   },
   {
    "duration": 9,
    "start_time": "2023-12-05T16:43:38.754Z"
   },
   {
    "duration": 12,
    "start_time": "2023-12-05T16:44:19.168Z"
   },
   {
    "duration": 8,
    "start_time": "2023-12-05T16:44:51.608Z"
   },
   {
    "duration": 8,
    "start_time": "2023-12-05T16:45:14.988Z"
   },
   {
    "duration": 3293,
    "start_time": "2023-12-06T05:36:31.201Z"
   },
   {
    "duration": 3,
    "start_time": "2023-12-06T05:36:34.496Z"
   },
   {
    "duration": 536,
    "start_time": "2023-12-06T05:36:34.501Z"
   },
   {
    "duration": 57,
    "start_time": "2023-12-06T05:36:35.040Z"
   },
   {
    "duration": 2,
    "start_time": "2023-12-06T05:36:35.099Z"
   },
   {
    "duration": 18414,
    "start_time": "2023-12-06T05:36:35.103Z"
   },
   {
    "duration": 151,
    "start_time": "2023-12-06T05:36:53.519Z"
   },
   {
    "duration": 165,
    "start_time": "2023-12-06T05:36:53.672Z"
   },
   {
    "duration": 1315,
    "start_time": "2023-12-06T05:36:53.838Z"
   },
   {
    "duration": 3,
    "start_time": "2023-12-06T05:36:55.155Z"
   },
   {
    "duration": 24,
    "start_time": "2023-12-06T05:36:55.159Z"
   },
   {
    "duration": 65637,
    "start_time": "2023-12-06T05:36:55.184Z"
   },
   {
    "duration": 147,
    "start_time": "2023-12-06T05:38:00.822Z"
   },
   {
    "duration": 2,
    "start_time": "2023-12-06T05:38:00.971Z"
   },
   {
    "duration": 22,
    "start_time": "2023-12-06T05:38:00.975Z"
   },
   {
    "duration": 13,
    "start_time": "2023-12-06T05:38:00.999Z"
   },
   {
    "duration": 43,
    "start_time": "2023-12-06T05:38:01.013Z"
   },
   {
    "duration": 47,
    "start_time": "2023-12-06T05:38:01.057Z"
   },
   {
    "duration": 3,
    "start_time": "2023-12-06T05:38:01.106Z"
   },
   {
    "duration": 53,
    "start_time": "2023-12-06T05:38:01.111Z"
   },
   {
    "duration": 6,
    "start_time": "2023-12-06T05:38:01.166Z"
   },
   {
    "duration": 39,
    "start_time": "2023-12-06T05:38:01.174Z"
   },
   {
    "duration": 722,
    "start_time": "2023-12-06T05:38:01.216Z"
   },
   {
    "duration": 3,
    "start_time": "2023-12-06T05:38:01.939Z"
   },
   {
    "duration": 16,
    "start_time": "2023-12-06T05:38:01.947Z"
   },
   {
    "duration": 6312,
    "start_time": "2023-12-06T05:38:01.964Z"
   },
   {
    "duration": 29,
    "start_time": "2023-12-06T05:38:08.278Z"
   },
   {
    "duration": 41,
    "start_time": "2023-12-06T05:38:08.310Z"
   },
   {
    "duration": 9036,
    "start_time": "2023-12-06T06:00:54.280Z"
   },
   {
    "duration": 388,
    "start_time": "2023-12-06T06:03:10.448Z"
   },
   {
    "duration": 373,
    "start_time": "2023-12-06T06:57:12.063Z"
   },
   {
    "duration": 35,
    "start_time": "2023-12-06T06:57:19.229Z"
   },
   {
    "duration": 3,
    "start_time": "2023-12-06T06:57:50.557Z"
   },
   {
    "duration": 22,
    "start_time": "2023-12-06T06:57:53.486Z"
   },
   {
    "duration": 5,
    "start_time": "2023-12-06T06:58:42.093Z"
   },
   {
    "duration": 4,
    "start_time": "2023-12-06T06:58:48.301Z"
   },
   {
    "duration": 16,
    "start_time": "2023-12-06T06:59:56.046Z"
   },
   {
    "duration": 23,
    "start_time": "2023-12-06T07:00:54.831Z"
   },
   {
    "duration": 3,
    "start_time": "2023-12-06T07:01:13.070Z"
   },
   {
    "duration": 5,
    "start_time": "2023-12-06T07:01:39.845Z"
   },
   {
    "duration": 12,
    "start_time": "2023-12-06T07:08:59.418Z"
   },
   {
    "duration": 9,
    "start_time": "2023-12-06T07:09:19.537Z"
   },
   {
    "duration": 5,
    "start_time": "2023-12-06T07:09:21.249Z"
   },
   {
    "duration": 7,
    "start_time": "2023-12-06T07:09:49.977Z"
   },
   {
    "duration": 7,
    "start_time": "2023-12-06T07:10:04.521Z"
   },
   {
    "duration": 103,
    "start_time": "2023-12-06T07:10:32.505Z"
   },
   {
    "duration": 5,
    "start_time": "2023-12-06T07:10:35.536Z"
   },
   {
    "duration": 4,
    "start_time": "2023-12-06T07:10:39.377Z"
   },
   {
    "duration": 3,
    "start_time": "2023-12-06T07:10:39.921Z"
   },
   {
    "duration": 3078,
    "start_time": "2023-12-06T15:14:27.160Z"
   },
   {
    "duration": 3,
    "start_time": "2023-12-06T15:14:30.240Z"
   },
   {
    "duration": 571,
    "start_time": "2023-12-06T15:14:30.244Z"
   },
   {
    "duration": 55,
    "start_time": "2023-12-06T15:14:30.817Z"
   },
   {
    "duration": 2,
    "start_time": "2023-12-06T15:14:30.874Z"
   },
   {
    "duration": 26981,
    "start_time": "2023-12-06T15:14:30.877Z"
   },
   {
    "duration": 89,
    "start_time": "2023-12-06T15:14:57.859Z"
   },
   {
    "duration": 121,
    "start_time": "2023-12-06T15:14:57.949Z"
   },
   {
    "duration": 1945,
    "start_time": "2023-12-06T15:14:58.071Z"
   },
   {
    "duration": 5,
    "start_time": "2023-12-06T15:15:00.019Z"
   },
   {
    "duration": 63,
    "start_time": "2023-12-06T15:15:00.025Z"
   },
   {
    "duration": 67037,
    "start_time": "2023-12-06T15:15:00.090Z"
   },
   {
    "duration": 127,
    "start_time": "2023-12-06T15:16:07.128Z"
   },
   {
    "duration": 3,
    "start_time": "2023-12-06T15:16:07.256Z"
   },
   {
    "duration": 47,
    "start_time": "2023-12-06T15:16:07.260Z"
   },
   {
    "duration": 15,
    "start_time": "2023-12-06T15:16:07.309Z"
   },
   {
    "duration": 21,
    "start_time": "2023-12-06T15:16:07.326Z"
   },
   {
    "duration": 30,
    "start_time": "2023-12-06T15:16:07.349Z"
   },
   {
    "duration": 2,
    "start_time": "2023-12-06T15:16:07.381Z"
   },
   {
    "duration": 32,
    "start_time": "2023-12-06T15:16:07.385Z"
   },
   {
    "duration": 4,
    "start_time": "2023-12-06T15:16:07.419Z"
   },
   {
    "duration": 5,
    "start_time": "2023-12-06T15:16:07.424Z"
   },
   {
    "duration": 525,
    "start_time": "2023-12-06T15:16:07.431Z"
   },
   {
    "duration": 2,
    "start_time": "2023-12-06T15:16:07.958Z"
   },
   {
    "duration": 25,
    "start_time": "2023-12-06T15:16:07.962Z"
   },
   {
    "duration": 4042,
    "start_time": "2023-12-06T15:16:07.989Z"
   },
   {
    "duration": 25,
    "start_time": "2023-12-06T15:16:12.032Z"
   },
   {
    "duration": 25,
    "start_time": "2023-12-06T15:16:12.060Z"
   },
   {
    "duration": 8,
    "start_time": "2023-12-06T15:16:12.087Z"
   },
   {
    "duration": 14,
    "start_time": "2023-12-06T15:16:12.096Z"
   },
   {
    "duration": 87,
    "start_time": "2023-12-06T15:16:12.131Z"
   },
   {
    "duration": 0,
    "start_time": "2023-12-06T15:16:12.231Z"
   },
   {
    "duration": 0,
    "start_time": "2023-12-06T15:16:12.233Z"
   },
   {
    "duration": 0,
    "start_time": "2023-12-06T15:16:12.234Z"
   },
   {
    "duration": 0,
    "start_time": "2023-12-06T15:16:12.235Z"
   },
   {
    "duration": 0,
    "start_time": "2023-12-06T15:16:12.236Z"
   },
   {
    "duration": 0,
    "start_time": "2023-12-06T15:16:12.237Z"
   },
   {
    "duration": 0,
    "start_time": "2023-12-06T15:16:12.238Z"
   },
   {
    "duration": 0,
    "start_time": "2023-12-06T15:16:12.239Z"
   },
   {
    "duration": 0,
    "start_time": "2023-12-06T15:16:12.239Z"
   },
   {
    "duration": 0,
    "start_time": "2023-12-06T15:16:12.241Z"
   },
   {
    "duration": 0,
    "start_time": "2023-12-06T15:16:12.243Z"
   },
   {
    "duration": 0,
    "start_time": "2023-12-06T15:16:12.244Z"
   },
   {
    "duration": 9,
    "start_time": "2023-12-06T15:17:18.871Z"
   },
   {
    "duration": 24,
    "start_time": "2023-12-06T15:17:29.408Z"
   },
   {
    "duration": 5,
    "start_time": "2023-12-06T15:20:09.266Z"
   },
   {
    "duration": 5,
    "start_time": "2023-12-06T15:20:28.681Z"
   },
   {
    "duration": 5,
    "start_time": "2023-12-06T15:20:30.664Z"
   },
   {
    "duration": 6,
    "start_time": "2023-12-06T15:21:05.305Z"
   },
   {
    "duration": 887,
    "start_time": "2023-12-06T15:24:21.026Z"
   },
   {
    "duration": 3,
    "start_time": "2023-12-06T15:24:39.473Z"
   },
   {
    "duration": 24,
    "start_time": "2023-12-06T15:25:02.394Z"
   },
   {
    "duration": 7,
    "start_time": "2023-12-06T15:40:14.942Z"
   },
   {
    "duration": 59,
    "start_time": "2023-12-06T15:42:33.982Z"
   },
   {
    "duration": 15,
    "start_time": "2023-12-06T15:42:45.922Z"
   },
   {
    "duration": 13,
    "start_time": "2023-12-06T15:46:44.528Z"
   },
   {
    "duration": 12,
    "start_time": "2023-12-06T15:48:26.393Z"
   },
   {
    "duration": 11,
    "start_time": "2023-12-06T15:54:03.378Z"
   },
   {
    "duration": 12,
    "start_time": "2023-12-06T15:58:08.664Z"
   },
   {
    "duration": 11,
    "start_time": "2023-12-06T15:59:27.588Z"
   },
   {
    "duration": 18,
    "start_time": "2023-12-06T16:00:12.747Z"
   },
   {
    "duration": 15,
    "start_time": "2023-12-06T16:00:26.028Z"
   },
   {
    "duration": 4,
    "start_time": "2023-12-06T16:00:43.876Z"
   },
   {
    "duration": 14,
    "start_time": "2023-12-06T16:00:53.323Z"
   },
   {
    "duration": 16,
    "start_time": "2023-12-06T16:00:59.348Z"
   },
   {
    "duration": 12,
    "start_time": "2023-12-06T16:01:44.958Z"
   },
   {
    "duration": 11,
    "start_time": "2023-12-06T16:01:53.467Z"
   },
   {
    "duration": 82,
    "start_time": "2023-12-06T16:07:39.196Z"
   },
   {
    "duration": 7,
    "start_time": "2023-12-06T16:08:00.999Z"
   },
   {
    "duration": 23,
    "start_time": "2023-12-06T16:08:22.183Z"
   },
   {
    "duration": 547,
    "start_time": "2023-12-06T16:09:07.925Z"
   },
   {
    "duration": 9567,
    "start_time": "2023-12-06T16:10:37.114Z"
   },
   {
    "duration": 4838,
    "start_time": "2023-12-06T16:13:03.845Z"
   },
   {
    "duration": 26,
    "start_time": "2023-12-06T16:13:11.736Z"
   },
   {
    "duration": 3,
    "start_time": "2023-12-06T16:15:05.032Z"
   },
   {
    "duration": 4013,
    "start_time": "2023-12-06T16:15:06.753Z"
   },
   {
    "duration": 28,
    "start_time": "2023-12-06T16:15:15.540Z"
   },
   {
    "duration": 27,
    "start_time": "2023-12-06T16:15:16.391Z"
   },
   {
    "duration": 8,
    "start_time": "2023-12-06T16:15:23.877Z"
   },
   {
    "duration": 7,
    "start_time": "2023-12-06T16:15:24.806Z"
   },
   {
    "duration": 5,
    "start_time": "2023-12-06T16:15:30.383Z"
   },
   {
    "duration": 7,
    "start_time": "2023-12-06T16:15:31.167Z"
   },
   {
    "duration": 6,
    "start_time": "2023-12-06T16:15:49.695Z"
   },
   {
    "duration": 7,
    "start_time": "2023-12-06T16:15:58.352Z"
   },
   {
    "duration": 27,
    "start_time": "2023-12-06T16:16:01.687Z"
   },
   {
    "duration": 9,
    "start_time": "2023-12-06T16:22:33.450Z"
   },
   {
    "duration": 4,
    "start_time": "2023-12-06T16:23:07.498Z"
   },
   {
    "duration": 24,
    "start_time": "2023-12-06T16:23:12.995Z"
   },
   {
    "duration": 5,
    "start_time": "2023-12-06T16:24:13.257Z"
   },
   {
    "duration": 15,
    "start_time": "2023-12-06T16:24:48.481Z"
   },
   {
    "duration": 13,
    "start_time": "2023-12-06T16:26:39.331Z"
   },
   {
    "duration": 3,
    "start_time": "2023-12-06T16:27:49.810Z"
   },
   {
    "duration": 5171,
    "start_time": "2023-12-06T16:27:50.897Z"
   },
   {
    "duration": 30,
    "start_time": "2023-12-06T16:27:57.266Z"
   },
   {
    "duration": 23,
    "start_time": "2023-12-06T16:27:57.930Z"
   },
   {
    "duration": 9,
    "start_time": "2023-12-06T16:27:59.624Z"
   },
   {
    "duration": 6,
    "start_time": "2023-12-06T16:28:00.225Z"
   },
   {
    "duration": 4,
    "start_time": "2023-12-06T16:28:01.632Z"
   },
   {
    "duration": 5,
    "start_time": "2023-12-06T16:28:02.777Z"
   },
   {
    "duration": 4,
    "start_time": "2023-12-06T16:28:09.896Z"
   },
   {
    "duration": 2,
    "start_time": "2023-12-06T16:28:11.786Z"
   },
   {
    "duration": 6,
    "start_time": "2023-12-06T16:28:12.988Z"
   },
   {
    "duration": 2,
    "start_time": "2023-12-06T16:28:23.124Z"
   },
   {
    "duration": 13,
    "start_time": "2023-12-06T16:28:36.730Z"
   },
   {
    "duration": 31,
    "start_time": "2023-12-06T16:28:41.537Z"
   },
   {
    "duration": 272,
    "start_time": "2023-12-06T16:30:01.754Z"
   },
   {
    "duration": 7,
    "start_time": "2023-12-06T16:30:28.713Z"
   },
   {
    "duration": 23,
    "start_time": "2023-12-06T16:30:36.904Z"
   },
   {
    "duration": 4,
    "start_time": "2023-12-06T16:42:16.754Z"
   },
   {
    "duration": 4,
    "start_time": "2023-12-06T16:43:34.132Z"
   },
   {
    "duration": 5,
    "start_time": "2023-12-06T16:43:53.788Z"
   },
   {
    "duration": 8,
    "start_time": "2023-12-06T16:44:27.037Z"
   },
   {
    "duration": 4,
    "start_time": "2023-12-06T16:44:36.573Z"
   },
   {
    "duration": 8,
    "start_time": "2023-12-06T16:44:37.708Z"
   },
   {
    "duration": 4,
    "start_time": "2023-12-06T16:45:19.996Z"
   },
   {
    "duration": 3,
    "start_time": "2023-12-06T16:45:20.549Z"
   },
   {
    "duration": 7,
    "start_time": "2023-12-06T16:45:42.389Z"
   },
   {
    "duration": 4,
    "start_time": "2023-12-06T16:45:57.580Z"
   },
   {
    "duration": 3,
    "start_time": "2023-12-06T16:46:32.317Z"
   },
   {
    "duration": 4,
    "start_time": "2023-12-06T16:46:37.109Z"
   },
   {
    "duration": 4,
    "start_time": "2023-12-06T16:46:41.485Z"
   },
   {
    "duration": 4,
    "start_time": "2023-12-06T16:46:44.595Z"
   },
   {
    "duration": 4,
    "start_time": "2023-12-06T16:47:46.334Z"
   },
   {
    "duration": 4,
    "start_time": "2023-12-06T16:47:52.637Z"
   },
   {
    "duration": 4,
    "start_time": "2023-12-06T16:48:28.172Z"
   },
   {
    "duration": 3,
    "start_time": "2023-12-06T16:48:59.781Z"
   },
   {
    "duration": 3,
    "start_time": "2023-12-06T16:49:15.917Z"
   },
   {
    "duration": 3,
    "start_time": "2023-12-06T16:49:19.446Z"
   },
   {
    "duration": 3,
    "start_time": "2023-12-06T16:49:24.590Z"
   },
   {
    "duration": 5,
    "start_time": "2023-12-06T16:49:27.957Z"
   },
   {
    "duration": 4,
    "start_time": "2023-12-06T16:49:31.741Z"
   },
   {
    "duration": 3,
    "start_time": "2023-12-06T16:49:40.222Z"
   },
   {
    "duration": 8,
    "start_time": "2023-12-06T16:49:50.389Z"
   },
   {
    "duration": 3,
    "start_time": "2023-12-06T16:50:12.269Z"
   },
   {
    "duration": 4,
    "start_time": "2023-12-06T16:50:20.581Z"
   },
   {
    "duration": 4,
    "start_time": "2023-12-06T16:50:24.293Z"
   },
   {
    "duration": 9,
    "start_time": "2023-12-06T16:50:26.108Z"
   },
   {
    "duration": 4,
    "start_time": "2023-12-06T16:50:42.445Z"
   },
   {
    "duration": 4,
    "start_time": "2023-12-06T16:51:34.413Z"
   },
   {
    "duration": 5,
    "start_time": "2023-12-06T16:51:38.365Z"
   },
   {
    "duration": 25,
    "start_time": "2023-12-06T16:52:19.671Z"
   },
   {
    "duration": 4,
    "start_time": "2023-12-06T16:53:33.301Z"
   },
   {
    "duration": 5,
    "start_time": "2023-12-06T16:54:11.592Z"
   },
   {
    "duration": 4,
    "start_time": "2023-12-06T16:54:51.278Z"
   },
   {
    "duration": 8,
    "start_time": "2023-12-06T16:55:25.087Z"
   },
   {
    "duration": 4,
    "start_time": "2023-12-06T16:55:44.091Z"
   },
   {
    "duration": 4,
    "start_time": "2023-12-06T16:56:02.071Z"
   },
   {
    "duration": 4,
    "start_time": "2023-12-06T16:56:40.080Z"
   },
   {
    "duration": 4,
    "start_time": "2023-12-06T16:57:06.623Z"
   },
   {
    "duration": 5,
    "start_time": "2023-12-06T16:57:15.008Z"
   },
   {
    "duration": 26,
    "start_time": "2023-12-06T16:57:48.674Z"
   },
   {
    "duration": 20,
    "start_time": "2023-12-06T16:58:22.575Z"
   },
   {
    "duration": 26,
    "start_time": "2023-12-06T16:58:23.600Z"
   },
   {
    "duration": 10,
    "start_time": "2023-12-06T16:58:26.175Z"
   },
   {
    "duration": 6,
    "start_time": "2023-12-06T16:58:27.030Z"
   },
   {
    "duration": 5,
    "start_time": "2023-12-06T16:58:33.935Z"
   },
   {
    "duration": 5,
    "start_time": "2023-12-06T16:58:35.103Z"
   },
   {
    "duration": 3,
    "start_time": "2023-12-06T16:58:40.534Z"
   },
   {
    "duration": 3,
    "start_time": "2023-12-06T16:58:43.768Z"
   },
   {
    "duration": 5,
    "start_time": "2023-12-06T16:58:44.609Z"
   },
   {
    "duration": 6,
    "start_time": "2023-12-06T16:58:48.779Z"
   },
   {
    "duration": 26,
    "start_time": "2023-12-06T16:58:49.696Z"
   },
   {
    "duration": 4,
    "start_time": "2023-12-06T16:58:57.280Z"
   },
   {
    "duration": 4,
    "start_time": "2023-12-06T16:59:04.157Z"
   },
   {
    "duration": 3,
    "start_time": "2023-12-06T16:59:36.409Z"
   },
   {
    "duration": 5,
    "start_time": "2023-12-06T16:59:59.216Z"
   },
   {
    "duration": 4,
    "start_time": "2023-12-06T17:00:33.543Z"
   },
   {
    "duration": 5,
    "start_time": "2023-12-06T17:01:16.552Z"
   },
   {
    "duration": 26,
    "start_time": "2023-12-06T17:01:26.984Z"
   },
   {
    "duration": 16,
    "start_time": "2023-12-06T17:07:43.275Z"
   },
   {
    "duration": 22,
    "start_time": "2023-12-06T17:07:45.704Z"
   },
   {
    "duration": 17,
    "start_time": "2023-12-06T17:07:46.284Z"
   },
   {
    "duration": 9,
    "start_time": "2023-12-06T17:07:48.895Z"
   },
   {
    "duration": 6,
    "start_time": "2023-12-06T17:07:49.440Z"
   },
   {
    "duration": 5,
    "start_time": "2023-12-06T17:07:50.831Z"
   },
   {
    "duration": 6,
    "start_time": "2023-12-06T17:07:51.400Z"
   },
   {
    "duration": 5,
    "start_time": "2023-12-06T17:07:55.091Z"
   },
   {
    "duration": 7,
    "start_time": "2023-12-06T17:07:57.224Z"
   },
   {
    "duration": 27,
    "start_time": "2023-12-06T17:08:03.944Z"
   },
   {
    "duration": 148,
    "start_time": "2023-12-06T17:29:50.742Z"
   },
   {
    "duration": 9,
    "start_time": "2023-12-06T17:30:56.621Z"
   },
   {
    "duration": 3,
    "start_time": "2023-12-06T17:31:12.214Z"
   },
   {
    "duration": 4,
    "start_time": "2023-12-06T17:31:41.742Z"
   },
   {
    "duration": 3,
    "start_time": "2023-12-06T17:32:06.734Z"
   },
   {
    "duration": 3,
    "start_time": "2023-12-06T17:32:07.247Z"
   },
   {
    "duration": 183,
    "start_time": "2023-12-06T17:32:16.302Z"
   },
   {
    "duration": 64,
    "start_time": "2023-12-06T17:34:19.933Z"
   },
   {
    "duration": 53,
    "start_time": "2023-12-06T17:35:58.329Z"
   },
   {
    "duration": 31,
    "start_time": "2023-12-06T17:36:04.383Z"
   },
   {
    "duration": 8,
    "start_time": "2023-12-06T17:37:17.497Z"
   },
   {
    "duration": 13,
    "start_time": "2023-12-06T17:37:40.521Z"
   },
   {
    "duration": 3,
    "start_time": "2023-12-06T17:48:21.007Z"
   },
   {
    "duration": 10,
    "start_time": "2023-12-06T17:48:36.676Z"
   },
   {
    "duration": 10,
    "start_time": "2023-12-06T17:49:47.239Z"
   },
   {
    "duration": 15,
    "start_time": "2023-12-06T17:50:08.221Z"
   },
   {
    "duration": 8,
    "start_time": "2023-12-06T17:54:34.262Z"
   },
   {
    "duration": 11,
    "start_time": "2023-12-06T17:58:50.587Z"
   },
   {
    "duration": 1173,
    "start_time": "2023-12-06T17:59:53.328Z"
   },
   {
    "duration": 4,
    "start_time": "2023-12-06T18:02:40.798Z"
   },
   {
    "duration": 4,
    "start_time": "2023-12-06T18:03:10.611Z"
   },
   {
    "duration": 4,
    "start_time": "2023-12-06T18:08:13.908Z"
   },
   {
    "duration": 19,
    "start_time": "2023-12-06T18:08:51.762Z"
   },
   {
    "duration": 9,
    "start_time": "2023-12-06T18:09:23.898Z"
   },
   {
    "duration": 112,
    "start_time": "2023-12-06T18:12:15.307Z"
   },
   {
    "duration": 56,
    "start_time": "2023-12-06T18:14:17.573Z"
   },
   {
    "duration": 12,
    "start_time": "2023-12-06T18:14:24.123Z"
   },
   {
    "duration": 54,
    "start_time": "2023-12-06T18:14:36.230Z"
   },
   {
    "duration": 89,
    "start_time": "2023-12-06T18:15:16.279Z"
   },
   {
    "duration": 111,
    "start_time": "2023-12-06T18:15:52.316Z"
   },
   {
    "duration": 82,
    "start_time": "2023-12-06T18:16:51.188Z"
   },
   {
    "duration": 7,
    "start_time": "2023-12-06T18:19:40.989Z"
   },
   {
    "duration": 2,
    "start_time": "2023-12-06T18:20:09.604Z"
   },
   {
    "duration": 4,
    "start_time": "2023-12-06T18:20:15.814Z"
   },
   {
    "duration": 8,
    "start_time": "2023-12-06T18:21:07.381Z"
   },
   {
    "duration": 2,
    "start_time": "2023-12-06T18:22:09.117Z"
   },
   {
    "duration": 8,
    "start_time": "2023-12-06T18:22:14.157Z"
   },
   {
    "duration": 5,
    "start_time": "2023-12-06T18:22:21.397Z"
   },
   {
    "duration": 3,
    "start_time": "2023-12-06T18:22:55.494Z"
   },
   {
    "duration": 5,
    "start_time": "2023-12-06T18:22:58.374Z"
   },
   {
    "duration": 12,
    "start_time": "2023-12-06T18:23:07.725Z"
   },
   {
    "duration": 7,
    "start_time": "2023-12-06T18:23:11.949Z"
   },
   {
    "duration": 2204,
    "start_time": "2023-12-06T18:27:41.672Z"
   },
   {
    "duration": 846,
    "start_time": "2023-12-06T18:28:10.568Z"
   },
   {
    "duration": 27,
    "start_time": "2023-12-06T18:30:29.928Z"
   },
   {
    "duration": 941,
    "start_time": "2023-12-06T18:34:14.511Z"
   },
   {
    "duration": 15,
    "start_time": "2023-12-06T18:41:39.188Z"
   },
   {
    "duration": 683,
    "start_time": "2023-12-06T18:41:51.408Z"
   },
   {
    "duration": 691,
    "start_time": "2023-12-06T18:44:04.821Z"
   },
   {
    "duration": 28,
    "start_time": "2023-12-06T18:45:02.314Z"
   },
   {
    "duration": 784,
    "start_time": "2023-12-06T18:45:30.207Z"
   },
   {
    "duration": 821,
    "start_time": "2023-12-06T18:45:50.179Z"
   },
   {
    "duration": 3151,
    "start_time": "2023-12-07T06:12:25.927Z"
   },
   {
    "duration": 3,
    "start_time": "2023-12-07T06:12:29.081Z"
   },
   {
    "duration": 537,
    "start_time": "2023-12-07T06:12:29.086Z"
   },
   {
    "duration": 54,
    "start_time": "2023-12-07T06:12:29.625Z"
   },
   {
    "duration": 2,
    "start_time": "2023-12-07T06:12:29.681Z"
   },
   {
    "duration": 27041,
    "start_time": "2023-12-07T06:12:29.684Z"
   },
   {
    "duration": 78,
    "start_time": "2023-12-07T06:12:56.727Z"
   },
   {
    "duration": 107,
    "start_time": "2023-12-07T06:12:56.806Z"
   },
   {
    "duration": 1152,
    "start_time": "2023-12-07T06:12:56.915Z"
   },
   {
    "duration": 2,
    "start_time": "2023-12-07T06:12:58.070Z"
   },
   {
    "duration": 21,
    "start_time": "2023-12-07T06:12:58.074Z"
   },
   {
    "duration": 73244,
    "start_time": "2023-12-07T06:12:58.097Z"
   },
   {
    "duration": 180,
    "start_time": "2023-12-07T06:14:11.343Z"
   },
   {
    "duration": 3,
    "start_time": "2023-12-07T06:14:11.525Z"
   },
   {
    "duration": 19,
    "start_time": "2023-12-07T06:14:11.529Z"
   },
   {
    "duration": 24,
    "start_time": "2023-12-07T06:14:11.550Z"
   },
   {
    "duration": 32,
    "start_time": "2023-12-07T06:14:11.576Z"
   },
   {
    "duration": 38,
    "start_time": "2023-12-07T06:14:11.609Z"
   },
   {
    "duration": 3,
    "start_time": "2023-12-07T06:14:11.649Z"
   },
   {
    "duration": 36,
    "start_time": "2023-12-07T06:14:11.653Z"
   },
   {
    "duration": 4,
    "start_time": "2023-12-07T06:14:11.691Z"
   },
   {
    "duration": 9,
    "start_time": "2023-12-07T06:14:11.697Z"
   },
   {
    "duration": 659,
    "start_time": "2023-12-07T06:14:11.707Z"
   },
   {
    "duration": 3,
    "start_time": "2023-12-07T06:14:12.367Z"
   },
   {
    "duration": 29,
    "start_time": "2023-12-07T06:14:12.371Z"
   },
   {
    "duration": 5558,
    "start_time": "2023-12-07T06:14:12.402Z"
   },
   {
    "duration": 28,
    "start_time": "2023-12-07T06:14:17.962Z"
   },
   {
    "duration": 21,
    "start_time": "2023-12-07T06:14:17.993Z"
   },
   {
    "duration": 9,
    "start_time": "2023-12-07T06:14:18.016Z"
   },
   {
    "duration": 6,
    "start_time": "2023-12-07T06:14:18.027Z"
   },
   {
    "duration": 10,
    "start_time": "2023-12-07T06:14:18.034Z"
   },
   {
    "duration": 5,
    "start_time": "2023-12-07T06:14:18.046Z"
   },
   {
    "duration": 9,
    "start_time": "2023-12-07T06:14:18.053Z"
   },
   {
    "duration": 29,
    "start_time": "2023-12-07T06:14:18.064Z"
   },
   {
    "duration": 2,
    "start_time": "2023-12-07T06:14:18.095Z"
   },
   {
    "duration": 4,
    "start_time": "2023-12-07T06:14:18.099Z"
   },
   {
    "duration": 159,
    "start_time": "2023-12-07T06:14:18.105Z"
   },
   {
    "duration": 2505,
    "start_time": "2023-12-07T06:14:18.266Z"
   },
   {
    "duration": 730,
    "start_time": "2023-12-07T06:14:20.773Z"
   },
   {
    "duration": 4,
    "start_time": "2023-12-07T06:15:49.113Z"
   },
   {
    "duration": 6,
    "start_time": "2023-12-07T06:15:55.985Z"
   },
   {
    "duration": 229,
    "start_time": "2023-12-07T06:16:01.033Z"
   },
   {
    "duration": 888,
    "start_time": "2023-12-07T06:17:41.481Z"
   },
   {
    "duration": 227,
    "start_time": "2023-12-07T06:29:29.479Z"
   },
   {
    "duration": 705,
    "start_time": "2023-12-07T06:29:54.292Z"
   },
   {
    "duration": 149,
    "start_time": "2023-12-07T06:35:49.029Z"
   },
   {
    "duration": 167,
    "start_time": "2023-12-07T06:36:02.254Z"
   },
   {
    "duration": 165,
    "start_time": "2023-12-07T06:37:02.950Z"
   },
   {
    "duration": 181,
    "start_time": "2023-12-07T06:37:56.465Z"
   },
   {
    "duration": 659,
    "start_time": "2023-12-07T06:38:52.839Z"
   },
   {
    "duration": 159,
    "start_time": "2023-12-07T06:40:02.055Z"
   },
   {
    "duration": 168,
    "start_time": "2023-12-07T06:40:23.958Z"
   },
   {
    "duration": 164,
    "start_time": "2023-12-07T06:40:35.207Z"
   },
   {
    "duration": 94,
    "start_time": "2023-12-07T06:41:02.112Z"
   },
   {
    "duration": 176,
    "start_time": "2023-12-07T06:41:41.663Z"
   },
   {
    "duration": 82,
    "start_time": "2023-12-07T06:42:11.120Z"
   },
   {
    "duration": 202,
    "start_time": "2023-12-07T06:42:15.870Z"
   },
   {
    "duration": 163,
    "start_time": "2023-12-07T06:42:44.199Z"
   },
   {
    "duration": 172,
    "start_time": "2023-12-07T06:43:08.095Z"
   },
   {
    "duration": 93,
    "start_time": "2023-12-07T06:43:29.234Z"
   },
   {
    "duration": 223,
    "start_time": "2023-12-07T06:43:57.407Z"
   },
   {
    "duration": 424,
    "start_time": "2023-12-07T06:44:19.635Z"
   },
   {
    "duration": 187,
    "start_time": "2023-12-07T06:44:28.352Z"
   },
   {
    "duration": 88,
    "start_time": "2023-12-07T06:44:42.527Z"
   },
   {
    "duration": 62,
    "start_time": "2023-12-07T06:44:52.111Z"
   },
   {
    "duration": 755,
    "start_time": "2023-12-07T06:45:35.735Z"
   },
   {
    "duration": 665,
    "start_time": "2023-12-07T06:47:27.647Z"
   },
   {
    "duration": 610,
    "start_time": "2023-12-07T06:48:26.944Z"
   },
   {
    "duration": 627,
    "start_time": "2023-12-07T06:50:47.625Z"
   },
   {
    "duration": 28,
    "start_time": "2023-12-07T06:59:51.821Z"
   },
   {
    "duration": 24,
    "start_time": "2023-12-07T07:00:43.003Z"
   },
   {
    "duration": 25,
    "start_time": "2023-12-07T07:00:59.622Z"
   },
   {
    "duration": 25,
    "start_time": "2023-12-07T07:01:15.971Z"
   },
   {
    "duration": 22,
    "start_time": "2023-12-07T07:06:06.692Z"
   },
   {
    "duration": 23,
    "start_time": "2023-12-07T07:06:08.069Z"
   },
   {
    "duration": 16,
    "start_time": "2023-12-07T07:06:15.316Z"
   },
   {
    "duration": 8,
    "start_time": "2023-12-07T07:06:30.676Z"
   },
   {
    "duration": 22,
    "start_time": "2023-12-07T07:06:58.764Z"
   },
   {
    "duration": 25,
    "start_time": "2023-12-07T07:07:03.357Z"
   },
   {
    "duration": 15,
    "start_time": "2023-12-07T07:07:07.414Z"
   },
   {
    "duration": 6,
    "start_time": "2023-12-07T07:07:15.124Z"
   },
   {
    "duration": 26,
    "start_time": "2023-12-07T07:07:16.996Z"
   },
   {
    "duration": 644,
    "start_time": "2023-12-07T07:07:29.821Z"
   },
   {
    "duration": 727,
    "start_time": "2023-12-07T07:08:35.857Z"
   },
   {
    "duration": 718,
    "start_time": "2023-12-07T07:10:55.863Z"
   },
   {
    "duration": 670,
    "start_time": "2023-12-07T07:13:49.782Z"
   },
   {
    "duration": 728,
    "start_time": "2023-12-07T07:16:13.719Z"
   },
   {
    "duration": 126,
    "start_time": "2023-12-07T07:17:32.335Z"
   },
   {
    "duration": 698,
    "start_time": "2023-12-07T07:17:42.216Z"
   },
   {
    "duration": 663,
    "start_time": "2023-12-07T07:18:53.279Z"
   },
   {
    "duration": 660,
    "start_time": "2023-12-07T07:20:23.528Z"
   },
   {
    "duration": 652,
    "start_time": "2023-12-07T07:21:51.583Z"
   },
   {
    "duration": 713,
    "start_time": "2023-12-07T07:22:17.431Z"
   },
   {
    "duration": 665,
    "start_time": "2023-12-07T07:24:39.818Z"
   },
   {
    "duration": 672,
    "start_time": "2023-12-07T07:25:47.497Z"
   },
   {
    "duration": 687,
    "start_time": "2023-12-07T07:28:33.714Z"
   },
   {
    "duration": 726,
    "start_time": "2023-12-07T07:38:12.422Z"
   },
   {
    "duration": 684,
    "start_time": "2023-12-07T07:40:29.661Z"
   },
   {
    "duration": 737,
    "start_time": "2023-12-07T07:46:06.615Z"
   },
   {
    "duration": 652,
    "start_time": "2023-12-07T07:47:32.903Z"
   },
   {
    "duration": 4,
    "start_time": "2023-12-07T08:03:16.552Z"
   },
   {
    "duration": 194,
    "start_time": "2023-12-07T08:04:28.829Z"
   },
   {
    "duration": 236,
    "start_time": "2023-12-07T08:04:42.316Z"
   },
   {
    "duration": 8,
    "start_time": "2023-12-07T08:05:39.388Z"
   },
   {
    "duration": 8,
    "start_time": "2023-12-07T08:06:14.892Z"
   },
   {
    "duration": 8,
    "start_time": "2023-12-07T08:06:28.806Z"
   },
   {
    "duration": 9,
    "start_time": "2023-12-07T08:06:52.491Z"
   },
   {
    "duration": 3,
    "start_time": "2023-12-07T08:07:03.491Z"
   },
   {
    "duration": 10,
    "start_time": "2023-12-07T08:07:05.780Z"
   },
   {
    "duration": 8,
    "start_time": "2023-12-07T08:07:30.213Z"
   },
   {
    "duration": 9,
    "start_time": "2023-12-07T08:07:38.260Z"
   },
   {
    "duration": 2,
    "start_time": "2023-12-07T08:08:51.789Z"
   },
   {
    "duration": 9,
    "start_time": "2023-12-07T08:08:54.468Z"
   },
   {
    "duration": 4,
    "start_time": "2023-12-07T08:10:00.505Z"
   },
   {
    "duration": 4,
    "start_time": "2023-12-07T08:10:06.660Z"
   },
   {
    "duration": 13,
    "start_time": "2023-12-07T08:10:22.653Z"
   },
   {
    "duration": 3,
    "start_time": "2023-12-07T08:11:33.172Z"
   },
   {
    "duration": 166,
    "start_time": "2023-12-07T08:12:18.436Z"
   },
   {
    "duration": 696,
    "start_time": "2023-12-07T08:13:52.385Z"
   },
   {
    "duration": 185,
    "start_time": "2023-12-07T08:14:43.421Z"
   },
   {
    "duration": 661,
    "start_time": "2023-12-07T08:15:15.005Z"
   },
   {
    "duration": 752,
    "start_time": "2023-12-07T08:17:19.239Z"
   },
   {
    "duration": 662,
    "start_time": "2023-12-07T08:18:21.455Z"
   },
   {
    "duration": 167,
    "start_time": "2023-12-07T08:22:00.144Z"
   },
   {
    "duration": 171,
    "start_time": "2023-12-07T08:23:06.191Z"
   },
   {
    "duration": 77,
    "start_time": "2023-12-07T08:27:19.241Z"
   },
   {
    "duration": 830,
    "start_time": "2023-12-07T08:27:25.176Z"
   },
   {
    "duration": 3,
    "start_time": "2023-12-07T10:23:41.730Z"
   },
   {
    "duration": 3,
    "start_time": "2023-12-07T10:24:37.915Z"
   },
   {
    "duration": 4,
    "start_time": "2023-12-07T10:25:05.314Z"
   },
   {
    "duration": 3,
    "start_time": "2023-12-07T10:41:02.902Z"
   },
   {
    "duration": 2,
    "start_time": "2023-12-07T10:41:52.095Z"
   },
   {
    "duration": 3,
    "start_time": "2023-12-07T10:41:54.309Z"
   },
   {
    "duration": 2,
    "start_time": "2023-12-07T10:51:23.070Z"
   },
   {
    "duration": 3,
    "start_time": "2023-12-07T10:52:25.040Z"
   },
   {
    "duration": 2,
    "start_time": "2023-12-07T10:52:33.330Z"
   },
   {
    "duration": 4,
    "start_time": "2023-12-07T10:52:36.000Z"
   },
   {
    "duration": 3,
    "start_time": "2023-12-07T10:52:37.169Z"
   },
   {
    "duration": 4,
    "start_time": "2023-12-07T10:52:39.872Z"
   },
   {
    "duration": 4,
    "start_time": "2023-12-07T10:52:57.350Z"
   },
   {
    "duration": 3,
    "start_time": "2023-12-07T10:57:19.794Z"
   },
   {
    "duration": 4,
    "start_time": "2023-12-07T10:58:01.258Z"
   },
   {
    "duration": 3,
    "start_time": "2023-12-07T10:58:11.414Z"
   },
   {
    "duration": 4,
    "start_time": "2023-12-07T11:05:51.461Z"
   },
   {
    "duration": 4,
    "start_time": "2023-12-07T11:06:56.120Z"
   },
   {
    "duration": 152,
    "start_time": "2023-12-07T11:06:59.164Z"
   },
   {
    "duration": 32,
    "start_time": "2023-12-07T11:07:27.380Z"
   },
   {
    "duration": 4,
    "start_time": "2023-12-07T11:08:44.126Z"
   },
   {
    "duration": 8,
    "start_time": "2023-12-07T11:09:20.513Z"
   },
   {
    "duration": 3,
    "start_time": "2023-12-07T11:09:35.357Z"
   },
   {
    "duration": 4,
    "start_time": "2023-12-07T11:09:53.653Z"
   },
   {
    "duration": 25,
    "start_time": "2023-12-07T11:10:00.619Z"
   },
   {
    "duration": 24,
    "start_time": "2023-12-07T11:10:11.500Z"
   },
   {
    "duration": 26,
    "start_time": "2023-12-07T11:11:54.311Z"
   },
   {
    "duration": 3,
    "start_time": "2023-12-07T11:15:11.919Z"
   },
   {
    "duration": 2,
    "start_time": "2023-12-07T11:20:02.607Z"
   },
   {
    "duration": 4,
    "start_time": "2023-12-07T11:20:06.039Z"
   },
   {
    "duration": 3,
    "start_time": "2023-12-07T11:20:06.679Z"
   },
   {
    "duration": 4,
    "start_time": "2023-12-07T11:20:08.505Z"
   },
   {
    "duration": 3,
    "start_time": "2023-12-07T11:20:13.920Z"
   },
   {
    "duration": 38,
    "start_time": "2023-12-07T11:20:26.105Z"
   },
   {
    "duration": 2,
    "start_time": "2023-12-07T11:20:30.952Z"
   },
   {
    "duration": 3,
    "start_time": "2023-12-07T11:20:32.453Z"
   },
   {
    "duration": 26,
    "start_time": "2023-12-07T11:20:36.828Z"
   },
   {
    "duration": 7,
    "start_time": "2023-12-07T11:21:17.793Z"
   },
   {
    "duration": 26,
    "start_time": "2023-12-07T11:21:19.561Z"
   },
   {
    "duration": 4,
    "start_time": "2023-12-07T11:22:56.766Z"
   },
   {
    "duration": 118,
    "start_time": "2023-12-07T11:22:58.016Z"
   },
   {
    "duration": 4,
    "start_time": "2023-12-07T11:23:27.223Z"
   },
   {
    "duration": 29,
    "start_time": "2023-12-07T11:23:28.002Z"
   },
   {
    "duration": 4,
    "start_time": "2023-12-07T11:24:01.625Z"
   },
   {
    "duration": 4,
    "start_time": "2023-12-07T11:25:04.015Z"
   },
   {
    "duration": 4,
    "start_time": "2023-12-07T11:25:25.060Z"
   },
   {
    "duration": 3,
    "start_time": "2023-12-07T11:25:34.763Z"
   },
   {
    "duration": 6434,
    "start_time": "2023-12-07T11:25:39.963Z"
   },
   {
    "duration": 29,
    "start_time": "2023-12-07T11:25:50.739Z"
   },
   {
    "duration": 23,
    "start_time": "2023-12-07T11:25:52.325Z"
   },
   {
    "duration": 15,
    "start_time": "2023-12-07T11:26:09.554Z"
   },
   {
    "duration": 8,
    "start_time": "2023-12-07T11:26:13.306Z"
   },
   {
    "duration": 5,
    "start_time": "2023-12-07T11:26:14.202Z"
   },
   {
    "duration": 5,
    "start_time": "2023-12-07T11:26:18.502Z"
   },
   {
    "duration": 8,
    "start_time": "2023-12-07T11:26:20.648Z"
   },
   {
    "duration": 9,
    "start_time": "2023-12-07T11:29:28.521Z"
   },
   {
    "duration": 22,
    "start_time": "2023-12-07T11:29:41.569Z"
   },
   {
    "duration": 16,
    "start_time": "2023-12-07T11:29:42.331Z"
   },
   {
    "duration": 8,
    "start_time": "2023-12-07T11:29:47.346Z"
   },
   {
    "duration": 6,
    "start_time": "2023-12-07T11:29:47.842Z"
   },
   {
    "duration": 24,
    "start_time": "2023-12-07T11:29:50.855Z"
   },
   {
    "duration": 4,
    "start_time": "2023-12-07T11:30:09.931Z"
   },
   {
    "duration": 5,
    "start_time": "2023-12-07T11:30:12.280Z"
   },
   {
    "duration": 7,
    "start_time": "2023-12-07T11:30:23.415Z"
   },
   {
    "duration": 25,
    "start_time": "2023-12-07T11:30:30.123Z"
   },
   {
    "duration": 9,
    "start_time": "2023-12-07T11:30:34.585Z"
   },
   {
    "duration": 3,
    "start_time": "2023-12-07T11:30:38.781Z"
   },
   {
    "duration": 140,
    "start_time": "2023-12-07T11:30:43.179Z"
   },
   {
    "duration": 2372,
    "start_time": "2023-12-07T11:30:54.428Z"
   },
   {
    "duration": 4,
    "start_time": "2023-12-07T11:35:40.293Z"
   },
   {
    "duration": 703,
    "start_time": "2023-12-07T11:35:41.157Z"
   },
   {
    "duration": 3,
    "start_time": "2023-12-07T11:37:23.937Z"
   },
   {
    "duration": 4,
    "start_time": "2023-12-07T11:37:27.681Z"
   },
   {
    "duration": 2,
    "start_time": "2023-12-07T11:38:42.530Z"
   },
   {
    "duration": 4,
    "start_time": "2023-12-07T11:38:43.781Z"
   },
   {
    "duration": 119,
    "start_time": "2023-12-07T11:38:55.053Z"
   },
   {
    "duration": 3,
    "start_time": "2023-12-07T11:49:16.608Z"
   },
   {
    "duration": 197,
    "start_time": "2023-12-07T12:01:10.504Z"
   },
   {
    "duration": 5634,
    "start_time": "2023-12-07T12:03:07.803Z"
   },
   {
    "duration": 4156,
    "start_time": "2023-12-07T12:05:35.109Z"
   },
   {
    "duration": 5237,
    "start_time": "2023-12-07T12:06:17.024Z"
   },
   {
    "duration": 345,
    "start_time": "2023-12-07T12:10:45.653Z"
   },
   {
    "duration": 3192,
    "start_time": "2023-12-07T12:11:58.863Z"
   },
   {
    "duration": 4847,
    "start_time": "2023-12-07T12:14:16.062Z"
   },
   {
    "duration": 3063,
    "start_time": "2023-12-07T12:14:58.799Z"
   },
   {
    "duration": 2957,
    "start_time": "2023-12-07T12:16:31.031Z"
   },
   {
    "duration": 2719,
    "start_time": "2023-12-07T12:17:41.512Z"
   },
   {
    "duration": 2644,
    "start_time": "2023-12-07T12:17:51.966Z"
   },
   {
    "duration": 3279,
    "start_time": "2023-12-07T12:19:14.784Z"
   },
   {
    "duration": 114,
    "start_time": "2023-12-07T12:26:53.781Z"
   },
   {
    "duration": 104,
    "start_time": "2023-12-07T12:27:14.189Z"
   },
   {
    "duration": 109,
    "start_time": "2023-12-07T12:27:19.665Z"
   },
   {
    "duration": 189,
    "start_time": "2023-12-07T12:27:33.993Z"
   },
   {
    "duration": 93,
    "start_time": "2023-12-07T12:27:42.345Z"
   },
   {
    "duration": 105,
    "start_time": "2023-12-07T12:27:48.186Z"
   },
   {
    "duration": 96,
    "start_time": "2023-12-07T12:27:58.378Z"
   },
   {
    "duration": 110,
    "start_time": "2023-12-07T12:28:06.601Z"
   },
   {
    "duration": 101,
    "start_time": "2023-12-07T12:28:11.162Z"
   },
   {
    "duration": 104,
    "start_time": "2023-12-07T12:28:15.570Z"
   },
   {
    "duration": 103,
    "start_time": "2023-12-07T12:28:22.257Z"
   },
   {
    "duration": 142,
    "start_time": "2023-12-07T12:28:30.122Z"
   },
   {
    "duration": 3052,
    "start_time": "2023-12-07T12:29:31.193Z"
   },
   {
    "duration": 3,
    "start_time": "2023-12-07T12:30:50.627Z"
   },
   {
    "duration": 4,
    "start_time": "2023-12-07T12:30:54.723Z"
   },
   {
    "duration": 114,
    "start_time": "2023-12-07T12:30:57.977Z"
   },
   {
    "duration": 3,
    "start_time": "2023-12-07T12:31:01.233Z"
   },
   {
    "duration": 1753,
    "start_time": "2023-12-07T12:35:22.974Z"
   },
   {
    "duration": 1648,
    "start_time": "2023-12-07T12:35:39.642Z"
   },
   {
    "duration": 71,
    "start_time": "2023-12-07T12:36:10.741Z"
   },
   {
    "duration": 12,
    "start_time": "2023-12-07T12:37:20.620Z"
   },
   {
    "duration": 76,
    "start_time": "2023-12-07T12:38:53.085Z"
   },
   {
    "duration": 93,
    "start_time": "2023-12-07T12:39:05.077Z"
   },
   {
    "duration": 125,
    "start_time": "2023-12-07T12:39:14.781Z"
   },
   {
    "duration": 146,
    "start_time": "2023-12-07T12:40:49.952Z"
   },
   {
    "duration": 2848,
    "start_time": "2023-12-07T12:45:22.463Z"
   },
   {
    "duration": 11,
    "start_time": "2023-12-07T12:45:55.263Z"
   },
   {
    "duration": 11,
    "start_time": "2023-12-07T12:46:01.991Z"
   },
   {
    "duration": 2654,
    "start_time": "2023-12-07T12:46:15.631Z"
   },
   {
    "duration": 11,
    "start_time": "2023-12-07T12:47:47.102Z"
   },
   {
    "duration": 109,
    "start_time": "2023-12-07T12:48:08.223Z"
   },
   {
    "duration": 3,
    "start_time": "2023-12-07T12:48:21.855Z"
   },
   {
    "duration": 98,
    "start_time": "2023-12-07T12:48:39.655Z"
   },
   {
    "duration": 4,
    "start_time": "2023-12-07T12:48:40.415Z"
   },
   {
    "duration": 2882,
    "start_time": "2023-12-07T12:49:03.887Z"
   },
   {
    "duration": 2582,
    "start_time": "2023-12-07T12:49:46.784Z"
   },
   {
    "duration": 2835,
    "start_time": "2023-12-07T12:50:13.104Z"
   },
   {
    "duration": 2983,
    "start_time": "2023-12-07T12:51:29.384Z"
   },
   {
    "duration": 2633,
    "start_time": "2023-12-07T12:52:14.010Z"
   },
   {
    "duration": 108,
    "start_time": "2023-12-07T12:53:23.105Z"
   },
   {
    "duration": 2819,
    "start_time": "2023-12-07T12:53:45.024Z"
   },
   {
    "duration": 2860,
    "start_time": "2023-12-07T12:54:49.503Z"
   },
   {
    "duration": 2627,
    "start_time": "2023-12-07T12:56:31.373Z"
   },
   {
    "duration": 2580,
    "start_time": "2023-12-07T12:57:36.474Z"
   },
   {
    "duration": 211,
    "start_time": "2023-12-07T12:58:54.571Z"
   },
   {
    "duration": 119,
    "start_time": "2023-12-07T12:59:54.570Z"
   },
   {
    "duration": 3277,
    "start_time": "2023-12-07T13:01:00.178Z"
   },
   {
    "duration": 179,
    "start_time": "2023-12-07T13:11:06.372Z"
   },
   {
    "duration": 4,
    "start_time": "2023-12-07T13:11:08.267Z"
   },
   {
    "duration": 3,
    "start_time": "2023-12-07T13:11:15.596Z"
   },
   {
    "duration": 4,
    "start_time": "2023-12-07T13:11:18.212Z"
   },
   {
    "duration": 112,
    "start_time": "2023-12-07T13:11:31.124Z"
   },
   {
    "duration": 4,
    "start_time": "2023-12-07T13:11:32.340Z"
   },
   {
    "duration": 3,
    "start_time": "2023-12-07T13:11:38.932Z"
   },
   {
    "duration": 3,
    "start_time": "2023-12-07T13:11:47.918Z"
   },
   {
    "duration": 9,
    "start_time": "2023-12-07T13:13:49.669Z"
   },
   {
    "duration": 2,
    "start_time": "2023-12-07T13:14:23.645Z"
   },
   {
    "duration": 4,
    "start_time": "2023-12-07T13:14:26.197Z"
   },
   {
    "duration": 3,
    "start_time": "2023-12-07T13:16:15.005Z"
   },
   {
    "duration": 4,
    "start_time": "2023-12-07T13:16:17.177Z"
   },
   {
    "duration": 7,
    "start_time": "2023-12-07T13:16:28.507Z"
   },
   {
    "duration": 4,
    "start_time": "2023-12-07T13:16:32.918Z"
   },
   {
    "duration": 8,
    "start_time": "2023-12-07T13:16:54.806Z"
   },
   {
    "duration": 9,
    "start_time": "2023-12-07T13:17:08.663Z"
   },
   {
    "duration": 8,
    "start_time": "2023-12-07T13:17:17.054Z"
   },
   {
    "duration": 2,
    "start_time": "2023-12-07T13:19:23.383Z"
   },
   {
    "duration": 4,
    "start_time": "2023-12-07T13:19:29.886Z"
   },
   {
    "duration": 8,
    "start_time": "2023-12-07T13:19:46.815Z"
   },
   {
    "duration": 9,
    "start_time": "2023-12-07T13:20:13.390Z"
   },
   {
    "duration": 110,
    "start_time": "2023-12-07T13:20:31.799Z"
   },
   {
    "duration": 4,
    "start_time": "2023-12-07T13:20:35.023Z"
   },
   {
    "duration": 8,
    "start_time": "2023-12-07T13:20:39.343Z"
   },
   {
    "duration": 8,
    "start_time": "2023-12-07T13:20:41.692Z"
   },
   {
    "duration": 2,
    "start_time": "2023-12-07T13:21:06.512Z"
   },
   {
    "duration": 4,
    "start_time": "2023-12-07T13:21:13.246Z"
   },
   {
    "duration": 11,
    "start_time": "2023-12-07T13:24:23.517Z"
   },
   {
    "duration": 4108,
    "start_time": "2023-12-07T13:24:45.704Z"
   },
   {
    "duration": 318,
    "start_time": "2023-12-07T13:26:08.954Z"
   },
   {
    "duration": 189,
    "start_time": "2023-12-07T13:27:03.401Z"
   },
   {
    "duration": 2587,
    "start_time": "2023-12-07T13:27:46.907Z"
   },
   {
    "duration": 3,
    "start_time": "2023-12-07T13:29:18.488Z"
   },
   {
    "duration": 4,
    "start_time": "2023-12-07T13:29:23.487Z"
   },
   {
    "duration": 112,
    "start_time": "2023-12-07T13:29:29.905Z"
   },
   {
    "duration": 2,
    "start_time": "2023-12-07T13:30:43.313Z"
   },
   {
    "duration": 4,
    "start_time": "2023-12-07T13:30:45.360Z"
   },
   {
    "duration": 27,
    "start_time": "2023-12-07T13:30:51.008Z"
   },
   {
    "duration": 3,
    "start_time": "2023-12-07T13:30:54.311Z"
   },
   {
    "duration": 2808,
    "start_time": "2023-12-07T13:31:03.047Z"
   },
   {
    "duration": 195,
    "start_time": "2023-12-07T13:31:14.417Z"
   },
   {
    "duration": 1596,
    "start_time": "2023-12-07T13:34:46.171Z"
   },
   {
    "duration": 1736,
    "start_time": "2023-12-07T13:34:54.982Z"
   },
   {
    "duration": 2638,
    "start_time": "2023-12-07T13:35:00.530Z"
   },
   {
    "duration": 114,
    "start_time": "2023-12-07T13:35:22.266Z"
   },
   {
    "duration": 128,
    "start_time": "2023-12-07T13:35:34.274Z"
   },
   {
    "duration": 2489,
    "start_time": "2023-12-07T13:36:20.263Z"
   },
   {
    "duration": 648,
    "start_time": "2023-12-07T13:37:07.267Z"
   },
   {
    "duration": 639,
    "start_time": "2023-12-07T13:38:01.741Z"
   },
   {
    "duration": 688,
    "start_time": "2023-12-07T13:38:33.719Z"
   },
   {
    "duration": 588,
    "start_time": "2023-12-07T13:38:57.088Z"
   },
   {
    "duration": 775,
    "start_time": "2023-12-07T13:39:45.804Z"
   },
   {
    "duration": 684,
    "start_time": "2023-12-07T13:43:20.492Z"
   },
   {
    "duration": 3,
    "start_time": "2023-12-07T13:53:43.456Z"
   },
   {
    "duration": 4,
    "start_time": "2023-12-07T13:53:45.890Z"
   },
   {
    "duration": 121,
    "start_time": "2023-12-07T13:53:51.061Z"
   },
   {
    "duration": 3,
    "start_time": "2023-12-07T13:53:53.460Z"
   },
   {
    "duration": 128,
    "start_time": "2023-12-07T13:53:57.334Z"
   },
   {
    "duration": 3,
    "start_time": "2023-12-07T13:53:58.310Z"
   },
   {
    "duration": 3,
    "start_time": "2023-12-07T13:54:01.557Z"
   },
   {
    "duration": 4,
    "start_time": "2023-12-07T13:54:02.102Z"
   },
   {
    "duration": 4,
    "start_time": "2023-12-07T13:54:02.861Z"
   },
   {
    "duration": 3,
    "start_time": "2023-12-07T13:54:14.151Z"
   },
   {
    "duration": 2982,
    "start_time": "2023-12-07T13:54:17.912Z"
   },
   {
    "duration": 114,
    "start_time": "2023-12-07T13:54:48.367Z"
   },
   {
    "duration": 111,
    "start_time": "2023-12-07T13:55:17.103Z"
   },
   {
    "duration": 100,
    "start_time": "2023-12-07T13:55:49.215Z"
   },
   {
    "duration": 6227,
    "start_time": "2023-12-07T13:56:59.657Z"
   },
   {
    "duration": 4608,
    "start_time": "2023-12-07T14:06:50.947Z"
   },
   {
    "duration": 5415,
    "start_time": "2023-12-07T14:07:00.859Z"
   },
   {
    "duration": 4873,
    "start_time": "2023-12-07T14:07:27.507Z"
   },
   {
    "duration": 4725,
    "start_time": "2023-12-07T14:08:09.071Z"
   },
   {
    "duration": 4492,
    "start_time": "2023-12-07T14:08:20.395Z"
   },
   {
    "duration": 5011,
    "start_time": "2023-12-07T14:09:19.037Z"
   },
   {
    "duration": 5082,
    "start_time": "2023-12-07T14:09:32.019Z"
   },
   {
    "duration": 2026,
    "start_time": "2023-12-07T14:10:25.010Z"
   },
   {
    "duration": 158,
    "start_time": "2023-12-07T14:19:42.671Z"
   },
   {
    "duration": 8,
    "start_time": "2023-12-07T14:19:52.262Z"
   },
   {
    "duration": 108,
    "start_time": "2023-12-07T14:20:19.553Z"
   },
   {
    "duration": 3,
    "start_time": "2023-12-07T14:20:23.054Z"
   },
   {
    "duration": 131,
    "start_time": "2023-12-07T14:20:46.736Z"
   },
   {
    "duration": 8,
    "start_time": "2023-12-07T14:20:47.231Z"
   },
   {
    "duration": 194,
    "start_time": "2023-12-07T14:21:04.054Z"
   },
   {
    "duration": 7,
    "start_time": "2023-12-07T14:21:07.179Z"
   },
   {
    "duration": 8,
    "start_time": "2023-12-07T14:21:12.927Z"
   },
   {
    "duration": 118,
    "start_time": "2023-12-07T14:21:31.302Z"
   },
   {
    "duration": 95,
    "start_time": "2023-12-07T14:21:52.975Z"
   },
   {
    "duration": 4,
    "start_time": "2023-12-07T14:22:00.383Z"
   },
   {
    "duration": 7,
    "start_time": "2023-12-07T14:22:05.834Z"
   },
   {
    "duration": 152,
    "start_time": "2023-12-07T14:23:02.166Z"
   },
   {
    "duration": 103,
    "start_time": "2023-12-07T14:23:13.887Z"
   },
   {
    "duration": 3,
    "start_time": "2023-12-07T14:23:14.570Z"
   },
   {
    "duration": 8,
    "start_time": "2023-12-07T14:23:23.855Z"
   },
   {
    "duration": 125,
    "start_time": "2023-12-07T14:23:30.711Z"
   },
   {
    "duration": 90,
    "start_time": "2023-12-07T14:23:39.897Z"
   },
   {
    "duration": 4,
    "start_time": "2023-12-07T14:23:40.431Z"
   },
   {
    "duration": 112,
    "start_time": "2023-12-07T14:24:03.503Z"
   },
   {
    "duration": 89,
    "start_time": "2023-12-07T14:24:23.142Z"
   },
   {
    "duration": 3898,
    "start_time": "2023-12-07T15:33:47.823Z"
   },
   {
    "duration": 2643,
    "start_time": "2023-12-07T15:36:26.899Z"
   },
   {
    "duration": 3324,
    "start_time": "2023-12-07T15:39:13.994Z"
   },
   {
    "duration": 3061,
    "start_time": "2023-12-07T15:40:00.731Z"
   },
   {
    "duration": 772,
    "start_time": "2023-12-07T15:42:57.498Z"
   },
   {
    "duration": 712,
    "start_time": "2023-12-07T15:44:31.698Z"
   },
   {
    "duration": 621,
    "start_time": "2023-12-07T15:44:47.907Z"
   },
   {
    "duration": 773,
    "start_time": "2023-12-07T15:45:55.596Z"
   },
   {
    "duration": 611,
    "start_time": "2023-12-07T15:54:26.765Z"
   },
   {
    "duration": 130,
    "start_time": "2023-12-07T15:55:57.414Z"
   },
   {
    "duration": 716,
    "start_time": "2023-12-07T15:56:47.119Z"
   },
   {
    "duration": 709,
    "start_time": "2023-12-07T15:57:00.062Z"
   },
   {
    "duration": 461,
    "start_time": "2023-12-07T16:00:39.904Z"
   },
   {
    "duration": 9,
    "start_time": "2023-12-07T16:01:22.999Z"
   },
   {
    "duration": 508,
    "start_time": "2023-12-07T16:01:23.702Z"
   },
   {
    "duration": 2,
    "start_time": "2023-12-07T16:01:57.359Z"
   },
   {
    "duration": 551,
    "start_time": "2023-12-07T16:01:58.295Z"
   },
   {
    "duration": 8,
    "start_time": "2023-12-07T16:02:15.095Z"
   },
   {
    "duration": 2,
    "start_time": "2023-12-07T16:02:18.878Z"
   },
   {
    "duration": 7,
    "start_time": "2023-12-07T16:02:19.591Z"
   },
   {
    "duration": 762,
    "start_time": "2023-12-07T16:03:44.856Z"
   },
   {
    "duration": 118,
    "start_time": "2023-12-07T16:04:31.791Z"
   },
   {
    "duration": 649,
    "start_time": "2023-12-07T16:04:41.379Z"
   },
   {
    "duration": 2740,
    "start_time": "2023-12-07T16:05:29.055Z"
   },
   {
    "duration": 697,
    "start_time": "2023-12-07T16:05:50.263Z"
   },
   {
    "duration": 530,
    "start_time": "2023-12-07T16:06:23.831Z"
   },
   {
    "duration": 548,
    "start_time": "2023-12-07T16:06:52.528Z"
   },
   {
    "duration": 692,
    "start_time": "2023-12-07T16:08:32.544Z"
   },
   {
    "duration": 3,
    "start_time": "2023-12-07T16:14:44.417Z"
   },
   {
    "duration": 4,
    "start_time": "2023-12-07T16:14:45.952Z"
   },
   {
    "duration": 48,
    "start_time": "2023-12-07T16:14:47.583Z"
   },
   {
    "duration": 3,
    "start_time": "2023-12-07T16:14:52.879Z"
   },
   {
    "duration": 122,
    "start_time": "2023-12-07T16:14:56.063Z"
   },
   {
    "duration": 90,
    "start_time": "2023-12-07T16:14:56.496Z"
   },
   {
    "duration": 4,
    "start_time": "2023-12-07T16:14:57.003Z"
   },
   {
    "duration": 92,
    "start_time": "2023-12-07T16:14:57.664Z"
   },
   {
    "duration": 151,
    "start_time": "2023-12-07T16:15:00.104Z"
   },
   {
    "duration": 4,
    "start_time": "2023-12-07T16:15:01.232Z"
   },
   {
    "duration": 3,
    "start_time": "2023-12-07T16:15:02.200Z"
   },
   {
    "duration": 4,
    "start_time": "2023-12-07T16:15:02.888Z"
   },
   {
    "duration": 2,
    "start_time": "2023-12-07T16:15:04.113Z"
   },
   {
    "duration": 2204,
    "start_time": "2023-12-07T16:15:10.289Z"
   },
   {
    "duration": 2,
    "start_time": "2023-12-07T16:15:20.088Z"
   },
   {
    "duration": 7,
    "start_time": "2023-12-07T16:15:28.793Z"
   },
   {
    "duration": 5,
    "start_time": "2023-12-07T16:16:00.634Z"
   },
   {
    "duration": 34,
    "start_time": "2023-12-07T16:16:03.479Z"
   },
   {
    "duration": 3,
    "start_time": "2023-12-07T16:16:27.833Z"
   },
   {
    "duration": 548,
    "start_time": "2023-12-07T16:16:54.217Z"
   },
   {
    "duration": 3,
    "start_time": "2023-12-07T16:17:53.689Z"
   },
   {
    "duration": 4,
    "start_time": "2023-12-07T16:17:58.026Z"
   },
   {
    "duration": 31,
    "start_time": "2023-12-07T16:18:00.817Z"
   },
   {
    "duration": 2,
    "start_time": "2023-12-07T16:18:04.152Z"
   },
   {
    "duration": 680,
    "start_time": "2023-12-07T16:18:39.522Z"
   },
   {
    "duration": 2199,
    "start_time": "2023-12-07T16:19:37.813Z"
   },
   {
    "duration": 2346,
    "start_time": "2023-12-07T16:22:03.828Z"
   },
   {
    "duration": 3,
    "start_time": "2023-12-07T16:25:28.603Z"
   },
   {
    "duration": 4,
    "start_time": "2023-12-07T16:25:31.867Z"
   },
   {
    "duration": 115,
    "start_time": "2023-12-07T16:26:15.099Z"
   },
   {
    "duration": 2,
    "start_time": "2023-12-07T16:26:19.546Z"
   },
   {
    "duration": 1472,
    "start_time": "2023-12-07T16:26:21.844Z"
   },
   {
    "duration": 1493,
    "start_time": "2023-12-07T16:26:38.924Z"
   },
   {
    "duration": 1596,
    "start_time": "2023-12-07T16:26:55.909Z"
   },
   {
    "duration": 1520,
    "start_time": "2023-12-07T16:27:16.869Z"
   },
   {
    "duration": 479,
    "start_time": "2023-12-07T16:29:47.295Z"
   },
   {
    "duration": 90,
    "start_time": "2023-12-07T16:34:38.927Z"
   },
   {
    "duration": 150,
    "start_time": "2023-12-07T16:34:48.983Z"
   },
   {
    "duration": 2027,
    "start_time": "2023-12-07T16:36:13.076Z"
   },
   {
    "duration": 1766,
    "start_time": "2023-12-07T16:36:27.575Z"
   },
   {
    "duration": 1598,
    "start_time": "2023-12-07T16:36:37.223Z"
   },
   {
    "duration": 3,
    "start_time": "2023-12-07T16:37:19.199Z"
   },
   {
    "duration": 1911,
    "start_time": "2023-12-07T16:37:25.584Z"
   },
   {
    "duration": 3,
    "start_time": "2023-12-07T16:37:55.503Z"
   },
   {
    "duration": 4,
    "start_time": "2023-12-07T16:37:59.992Z"
   },
   {
    "duration": 55,
    "start_time": "2023-12-07T16:38:03.799Z"
   },
   {
    "duration": 3,
    "start_time": "2023-12-07T16:38:08.942Z"
   },
   {
    "duration": 3335,
    "start_time": "2023-12-07T16:38:21.088Z"
   },
   {
    "duration": 3,
    "start_time": "2023-12-07T16:42:25.856Z"
   },
   {
    "duration": 3,
    "start_time": "2023-12-07T16:42:33.312Z"
   },
   {
    "duration": 2940,
    "start_time": "2023-12-07T16:42:57.954Z"
   },
   {
    "duration": 107,
    "start_time": "2023-12-07T16:43:50.259Z"
   },
   {
    "duration": 3,
    "start_time": "2023-12-07T16:44:07.345Z"
   },
   {
    "duration": 3,
    "start_time": "2023-12-07T16:44:25.306Z"
   },
   {
    "duration": 110,
    "start_time": "2023-12-07T16:44:26.217Z"
   },
   {
    "duration": 3,
    "start_time": "2023-12-07T16:44:42.713Z"
   },
   {
    "duration": 101,
    "start_time": "2023-12-07T16:44:48.779Z"
   },
   {
    "duration": 99,
    "start_time": "2023-12-07T16:45:41.589Z"
   },
   {
    "duration": 3,
    "start_time": "2023-12-07T16:46:20.425Z"
   },
   {
    "duration": 4,
    "start_time": "2023-12-07T16:46:21.775Z"
   },
   {
    "duration": 87,
    "start_time": "2023-12-07T16:46:24.031Z"
   },
   {
    "duration": 2,
    "start_time": "2023-12-07T16:46:27.983Z"
   },
   {
    "duration": 1667,
    "start_time": "2023-12-07T16:46:31.416Z"
   },
   {
    "duration": 3,
    "start_time": "2023-12-07T16:47:00.447Z"
   },
   {
    "duration": 3543,
    "start_time": "2023-12-07T16:47:01.251Z"
   },
   {
    "duration": 3,
    "start_time": "2023-12-07T16:50:10.979Z"
   },
   {
    "duration": 4,
    "start_time": "2023-12-07T16:50:34.419Z"
   },
   {
    "duration": 52,
    "start_time": "2023-12-07T16:50:35.922Z"
   },
   {
    "duration": 3,
    "start_time": "2023-12-07T16:50:39.152Z"
   },
   {
    "duration": 1432,
    "start_time": "2023-12-07T16:50:49.730Z"
   },
   {
    "duration": 3401,
    "start_time": "2023-12-07T16:50:59.235Z"
   },
   {
    "duration": 3,
    "start_time": "2023-12-07T16:51:10.402Z"
   },
   {
    "duration": 2928,
    "start_time": "2023-12-07T16:51:11.155Z"
   },
   {
    "duration": 4,
    "start_time": "2023-12-07T16:57:13.710Z"
   },
   {
    "duration": 24,
    "start_time": "2023-12-07T16:57:16.580Z"
   },
   {
    "duration": 3,
    "start_time": "2023-12-07T16:57:48.733Z"
   },
   {
    "duration": 42,
    "start_time": "2023-12-07T16:57:49.740Z"
   },
   {
    "duration": 3,
    "start_time": "2023-12-07T16:58:12.189Z"
   },
   {
    "duration": 37,
    "start_time": "2023-12-07T16:58:19.268Z"
   },
   {
    "duration": 3,
    "start_time": "2023-12-07T16:58:31.155Z"
   },
   {
    "duration": 23,
    "start_time": "2023-12-07T16:58:35.253Z"
   },
   {
    "duration": 3,
    "start_time": "2023-12-07T17:05:09.039Z"
   },
   {
    "duration": 109,
    "start_time": "2023-12-07T17:05:09.997Z"
   },
   {
    "duration": 2,
    "start_time": "2023-12-07T17:06:16.271Z"
   },
   {
    "duration": 51,
    "start_time": "2023-12-07T17:06:42.190Z"
   },
   {
    "duration": 3,
    "start_time": "2023-12-07T17:06:59.607Z"
   },
   {
    "duration": 23,
    "start_time": "2023-12-07T17:07:02.726Z"
   },
   {
    "duration": 24,
    "start_time": "2023-12-07T17:08:41.622Z"
   },
   {
    "duration": 1699,
    "start_time": "2023-12-07T17:08:44.881Z"
   },
   {
    "duration": 1829,
    "start_time": "2023-12-07T17:09:15.057Z"
   },
   {
    "duration": 38,
    "start_time": "2023-12-07T17:10:45.840Z"
   },
   {
    "duration": 3257,
    "start_time": "2023-12-07T17:10:47.541Z"
   },
   {
    "duration": 28,
    "start_time": "2023-12-07T17:18:04.433Z"
   },
   {
    "duration": 175,
    "start_time": "2023-12-07T17:21:12.225Z"
   },
   {
    "duration": 2757,
    "start_time": "2023-12-07T17:22:55.862Z"
   },
   {
    "duration": 8252,
    "start_time": "2023-12-07T17:24:39.560Z"
   },
   {
    "duration": 3,
    "start_time": "2023-12-07T17:24:47.814Z"
   },
   {
    "duration": 68,
    "start_time": "2023-12-07T17:24:47.820Z"
   },
   {
    "duration": 0,
    "start_time": "2023-12-07T17:24:47.892Z"
   },
   {
    "duration": 0,
    "start_time": "2023-12-07T17:24:47.892Z"
   },
   {
    "duration": 0,
    "start_time": "2023-12-07T17:24:47.895Z"
   },
   {
    "duration": 0,
    "start_time": "2023-12-07T17:24:47.896Z"
   },
   {
    "duration": 0,
    "start_time": "2023-12-07T17:24:47.897Z"
   },
   {
    "duration": 0,
    "start_time": "2023-12-07T17:24:47.899Z"
   },
   {
    "duration": 0,
    "start_time": "2023-12-07T17:24:47.900Z"
   },
   {
    "duration": 0,
    "start_time": "2023-12-07T17:24:47.901Z"
   },
   {
    "duration": 0,
    "start_time": "2023-12-07T17:24:47.903Z"
   },
   {
    "duration": 0,
    "start_time": "2023-12-07T17:24:47.904Z"
   },
   {
    "duration": 0,
    "start_time": "2023-12-07T17:24:47.905Z"
   },
   {
    "duration": 0,
    "start_time": "2023-12-07T17:24:47.906Z"
   },
   {
    "duration": 0,
    "start_time": "2023-12-07T17:24:47.907Z"
   },
   {
    "duration": 0,
    "start_time": "2023-12-07T17:24:47.908Z"
   },
   {
    "duration": 0,
    "start_time": "2023-12-07T17:24:47.909Z"
   },
   {
    "duration": 0,
    "start_time": "2023-12-07T17:24:47.910Z"
   },
   {
    "duration": 0,
    "start_time": "2023-12-07T17:24:47.911Z"
   },
   {
    "duration": 0,
    "start_time": "2023-12-07T17:24:47.912Z"
   },
   {
    "duration": 0,
    "start_time": "2023-12-07T17:24:47.913Z"
   },
   {
    "duration": 0,
    "start_time": "2023-12-07T17:24:47.914Z"
   },
   {
    "duration": 0,
    "start_time": "2023-12-07T17:24:47.915Z"
   },
   {
    "duration": 0,
    "start_time": "2023-12-07T17:24:47.916Z"
   },
   {
    "duration": 0,
    "start_time": "2023-12-07T17:24:47.917Z"
   },
   {
    "duration": 0,
    "start_time": "2023-12-07T17:24:47.919Z"
   },
   {
    "duration": 0,
    "start_time": "2023-12-07T17:24:47.921Z"
   },
   {
    "duration": 0,
    "start_time": "2023-12-07T17:24:47.922Z"
   },
   {
    "duration": 0,
    "start_time": "2023-12-07T17:24:47.923Z"
   },
   {
    "duration": 0,
    "start_time": "2023-12-07T17:24:47.924Z"
   },
   {
    "duration": 0,
    "start_time": "2023-12-07T17:24:47.925Z"
   },
   {
    "duration": 0,
    "start_time": "2023-12-07T17:24:47.927Z"
   },
   {
    "duration": 0,
    "start_time": "2023-12-07T17:24:47.927Z"
   },
   {
    "duration": 0,
    "start_time": "2023-12-07T17:24:47.928Z"
   },
   {
    "duration": 0,
    "start_time": "2023-12-07T17:24:47.965Z"
   },
   {
    "duration": 0,
    "start_time": "2023-12-07T17:24:47.967Z"
   },
   {
    "duration": 0,
    "start_time": "2023-12-07T17:24:47.968Z"
   },
   {
    "duration": 0,
    "start_time": "2023-12-07T17:24:47.969Z"
   },
   {
    "duration": 0,
    "start_time": "2023-12-07T17:24:47.970Z"
   },
   {
    "duration": 0,
    "start_time": "2023-12-07T17:24:47.971Z"
   },
   {
    "duration": 0,
    "start_time": "2023-12-07T17:24:47.972Z"
   },
   {
    "duration": 0,
    "start_time": "2023-12-07T17:24:47.973Z"
   },
   {
    "duration": 0,
    "start_time": "2023-12-07T17:24:47.974Z"
   },
   {
    "duration": 4,
    "start_time": "2023-12-07T17:25:08.796Z"
   },
   {
    "duration": 2,
    "start_time": "2023-12-07T17:25:10.420Z"
   },
   {
    "duration": 3,
    "start_time": "2023-12-07T17:25:11.399Z"
   },
   {
    "duration": 2361,
    "start_time": "2023-12-07T17:25:23.382Z"
   },
   {
    "duration": 2,
    "start_time": "2023-12-07T17:25:25.746Z"
   },
   {
    "duration": 25,
    "start_time": "2023-12-07T17:25:25.750Z"
   },
   {
    "duration": 16,
    "start_time": "2023-12-07T17:25:25.777Z"
   },
   {
    "duration": 17,
    "start_time": "2023-12-07T17:25:25.795Z"
   },
   {
    "duration": 24780,
    "start_time": "2023-12-07T17:25:25.814Z"
   },
   {
    "duration": 83,
    "start_time": "2023-12-07T17:25:50.596Z"
   },
   {
    "duration": 119,
    "start_time": "2023-12-07T17:25:50.681Z"
   },
   {
    "duration": 1288,
    "start_time": "2023-12-07T17:25:50.801Z"
   },
   {
    "duration": 141,
    "start_time": "2023-12-07T17:25:52.092Z"
   },
   {
    "duration": 4,
    "start_time": "2023-12-07T17:25:52.234Z"
   },
   {
    "duration": 67968,
    "start_time": "2023-12-07T17:25:52.239Z"
   },
   {
    "duration": 107,
    "start_time": "2023-12-07T17:27:00.209Z"
   },
   {
    "duration": 3,
    "start_time": "2023-12-07T17:27:00.318Z"
   },
   {
    "duration": 26,
    "start_time": "2023-12-07T17:27:00.323Z"
   },
   {
    "duration": 37,
    "start_time": "2023-12-07T17:27:00.351Z"
   },
   {
    "duration": 30,
    "start_time": "2023-12-07T17:27:00.390Z"
   },
   {
    "duration": 45,
    "start_time": "2023-12-07T17:27:00.422Z"
   },
   {
    "duration": 38,
    "start_time": "2023-12-07T17:27:00.469Z"
   },
   {
    "duration": 61,
    "start_time": "2023-12-07T17:27:00.508Z"
   },
   {
    "duration": 61,
    "start_time": "2023-12-07T17:27:00.570Z"
   },
   {
    "duration": 16,
    "start_time": "2023-12-07T17:27:00.633Z"
   },
   {
    "duration": 87,
    "start_time": "2023-12-07T17:27:00.651Z"
   },
   {
    "duration": 0,
    "start_time": "2023-12-07T17:27:00.740Z"
   },
   {
    "duration": 0,
    "start_time": "2023-12-07T17:27:00.742Z"
   },
   {
    "duration": 0,
    "start_time": "2023-12-07T17:27:00.743Z"
   },
   {
    "duration": 0,
    "start_time": "2023-12-07T17:27:00.744Z"
   },
   {
    "duration": 0,
    "start_time": "2023-12-07T17:27:00.746Z"
   },
   {
    "duration": 0,
    "start_time": "2023-12-07T17:27:00.746Z"
   },
   {
    "duration": 0,
    "start_time": "2023-12-07T17:27:00.747Z"
   },
   {
    "duration": 0,
    "start_time": "2023-12-07T17:27:00.748Z"
   },
   {
    "duration": 0,
    "start_time": "2023-12-07T17:27:00.749Z"
   },
   {
    "duration": 0,
    "start_time": "2023-12-07T17:27:00.750Z"
   },
   {
    "duration": 0,
    "start_time": "2023-12-07T17:27:00.751Z"
   },
   {
    "duration": 0,
    "start_time": "2023-12-07T17:27:00.752Z"
   },
   {
    "duration": 0,
    "start_time": "2023-12-07T17:27:00.753Z"
   },
   {
    "duration": 0,
    "start_time": "2023-12-07T17:27:00.754Z"
   },
   {
    "duration": 0,
    "start_time": "2023-12-07T17:27:00.755Z"
   },
   {
    "duration": 0,
    "start_time": "2023-12-07T17:27:00.756Z"
   },
   {
    "duration": 0,
    "start_time": "2023-12-07T17:27:00.757Z"
   },
   {
    "duration": 0,
    "start_time": "2023-12-07T17:27:00.758Z"
   },
   {
    "duration": 0,
    "start_time": "2023-12-07T17:27:00.759Z"
   },
   {
    "duration": 0,
    "start_time": "2023-12-07T17:27:00.761Z"
   },
   {
    "duration": 0,
    "start_time": "2023-12-07T17:27:00.762Z"
   },
   {
    "duration": 5,
    "start_time": "2023-12-07T17:29:25.789Z"
   },
   {
    "duration": 27,
    "start_time": "2023-12-07T17:32:36.278Z"
   },
   {
    "duration": 3,
    "start_time": "2023-12-07T17:32:40.118Z"
   },
   {
    "duration": 3,
    "start_time": "2023-12-07T17:32:41.092Z"
   },
   {
    "duration": 5,
    "start_time": "2023-12-07T17:32:42.771Z"
   },
   {
    "duration": 3,
    "start_time": "2023-12-07T17:32:45.004Z"
   },
   {
    "duration": 4506,
    "start_time": "2023-12-07T17:32:46.364Z"
   },
   {
    "duration": 4572,
    "start_time": "2023-12-07T17:33:12.473Z"
   },
   {
    "duration": 45,
    "start_time": "2023-12-07T17:33:21.936Z"
   },
   {
    "duration": 16,
    "start_time": "2023-12-07T17:33:23.343Z"
   },
   {
    "duration": 10,
    "start_time": "2023-12-07T17:33:27.726Z"
   },
   {
    "duration": 8,
    "start_time": "2023-12-07T17:33:28.285Z"
   },
   {
    "duration": 17,
    "start_time": "2023-12-07T17:33:30.378Z"
   },
   {
    "duration": 5,
    "start_time": "2023-12-07T17:33:34.007Z"
   },
   {
    "duration": 6,
    "start_time": "2023-12-07T17:33:40.196Z"
   },
   {
    "duration": 9,
    "start_time": "2023-12-07T17:33:42.307Z"
   },
   {
    "duration": 25,
    "start_time": "2023-12-07T17:33:50.499Z"
   },
   {
    "duration": 3,
    "start_time": "2023-12-07T17:33:56.820Z"
   },
   {
    "duration": 4,
    "start_time": "2023-12-07T17:34:00.578Z"
   },
   {
    "duration": 193,
    "start_time": "2023-12-07T17:34:05.893Z"
   },
   {
    "duration": 3,
    "start_time": "2023-12-07T17:34:07.419Z"
   },
   {
    "duration": 1456,
    "start_time": "2023-12-07T17:34:08.614Z"
   },
   {
    "duration": 4,
    "start_time": "2023-12-07T17:34:13.677Z"
   },
   {
    "duration": 1514,
    "start_time": "2023-12-07T17:34:15.695Z"
   },
   {
    "duration": 3,
    "start_time": "2023-12-07T17:34:22.806Z"
   },
   {
    "duration": 3,
    "start_time": "2023-12-07T17:34:27.028Z"
   },
   {
    "duration": 22,
    "start_time": "2023-12-07T17:34:29.348Z"
   },
   {
    "duration": 2998,
    "start_time": "2023-12-07T17:34:36.285Z"
   },
   {
    "duration": 4,
    "start_time": "2023-12-07T17:48:11.017Z"
   },
   {
    "duration": 4,
    "start_time": "2023-12-07T17:48:48.682Z"
   },
   {
    "duration": 2432,
    "start_time": "2023-12-07T17:49:44.899Z"
   },
   {
    "duration": 3,
    "start_time": "2023-12-07T17:49:47.333Z"
   },
   {
    "duration": 18,
    "start_time": "2023-12-07T17:49:47.338Z"
   },
   {
    "duration": 4,
    "start_time": "2023-12-07T17:49:47.358Z"
   },
   {
    "duration": 5,
    "start_time": "2023-12-07T17:49:47.364Z"
   },
   {
    "duration": 7,
    "start_time": "2023-12-07T17:49:47.371Z"
   },
   {
    "duration": 13911,
    "start_time": "2023-12-07T17:49:47.380Z"
   },
   {
    "duration": 69,
    "start_time": "2023-12-07T17:50:01.292Z"
   },
   {
    "duration": 108,
    "start_time": "2023-12-07T17:50:01.363Z"
   },
   {
    "duration": 1032,
    "start_time": "2023-12-07T17:50:01.475Z"
   },
   {
    "duration": 4,
    "start_time": "2023-12-07T17:50:02.508Z"
   },
   {
    "duration": 34,
    "start_time": "2023-12-07T17:50:02.513Z"
   },
   {
    "duration": 59080,
    "start_time": "2023-12-07T17:50:02.549Z"
   },
   {
    "duration": 178,
    "start_time": "2023-12-07T17:51:01.630Z"
   },
   {
    "duration": 2,
    "start_time": "2023-12-07T17:51:01.810Z"
   },
   {
    "duration": 30,
    "start_time": "2023-12-07T17:51:01.814Z"
   },
   {
    "duration": 29,
    "start_time": "2023-12-07T17:51:01.845Z"
   },
   {
    "duration": 31,
    "start_time": "2023-12-07T17:51:01.876Z"
   },
   {
    "duration": 38,
    "start_time": "2023-12-07T17:51:01.908Z"
   },
   {
    "duration": 35,
    "start_time": "2023-12-07T17:51:01.947Z"
   },
   {
    "duration": 34,
    "start_time": "2023-12-07T17:51:01.983Z"
   },
   {
    "duration": 43,
    "start_time": "2023-12-07T17:51:02.019Z"
   },
   {
    "duration": 10,
    "start_time": "2023-12-07T17:51:02.063Z"
   },
   {
    "duration": 45,
    "start_time": "2023-12-07T17:51:02.074Z"
   },
   {
    "duration": 69,
    "start_time": "2023-12-07T17:51:02.121Z"
   },
   {
    "duration": 15,
    "start_time": "2023-12-07T17:51:02.191Z"
   },
   {
    "duration": 71,
    "start_time": "2023-12-07T17:51:02.208Z"
   },
   {
    "duration": 37,
    "start_time": "2023-12-07T17:51:02.283Z"
   },
   {
    "duration": 36,
    "start_time": "2023-12-07T17:51:02.322Z"
   },
   {
    "duration": 5198,
    "start_time": "2023-12-07T17:51:02.360Z"
   },
   {
    "duration": 25,
    "start_time": "2023-12-07T17:51:07.559Z"
   },
   {
    "duration": 32,
    "start_time": "2023-12-07T17:51:07.586Z"
   },
   {
    "duration": 22,
    "start_time": "2023-12-07T17:51:07.620Z"
   },
   {
    "duration": 16,
    "start_time": "2023-12-07T17:51:07.644Z"
   },
   {
    "duration": 25,
    "start_time": "2023-12-07T17:51:07.662Z"
   },
   {
    "duration": 23,
    "start_time": "2023-12-07T17:51:07.689Z"
   },
   {
    "duration": 20,
    "start_time": "2023-12-07T17:51:07.713Z"
   },
   {
    "duration": 52,
    "start_time": "2023-12-07T17:51:07.735Z"
   },
   {
    "duration": 54,
    "start_time": "2023-12-07T17:51:07.788Z"
   },
   {
    "duration": 12,
    "start_time": "2023-12-07T17:51:07.844Z"
   },
   {
    "duration": 49,
    "start_time": "2023-12-07T17:51:07.857Z"
   },
   {
    "duration": 223,
    "start_time": "2023-12-07T17:51:07.908Z"
   },
   {
    "duration": 2,
    "start_time": "2023-12-07T17:51:08.132Z"
   },
   {
    "duration": 842,
    "start_time": "2023-12-07T17:51:08.135Z"
   },
   {
    "duration": 3,
    "start_time": "2023-12-07T17:51:08.979Z"
   },
   {
    "duration": 859,
    "start_time": "2023-12-07T17:51:08.983Z"
   },
   {
    "duration": 3,
    "start_time": "2023-12-07T17:51:09.843Z"
   },
   {
    "duration": 24,
    "start_time": "2023-12-07T17:51:09.847Z"
   },
   {
    "duration": 29,
    "start_time": "2023-12-07T17:51:09.872Z"
   },
   {
    "duration": 2857,
    "start_time": "2023-12-07T17:51:09.903Z"
   },
   {
    "duration": 3004,
    "start_time": "2023-12-07T18:01:21.024Z"
   },
   {
    "duration": 1986,
    "start_time": "2023-12-07T18:06:30.071Z"
   },
   {
    "duration": 3464,
    "start_time": "2023-12-07T18:07:28.726Z"
   },
   {
    "duration": 2780,
    "start_time": "2023-12-07T18:08:21.400Z"
   },
   {
    "duration": 3055,
    "start_time": "2023-12-07T18:08:43.392Z"
   },
   {
    "duration": 115,
    "start_time": "2023-12-07T18:14:52.657Z"
   },
   {
    "duration": 2,
    "start_time": "2023-12-07T18:14:55.128Z"
   },
   {
    "duration": 4,
    "start_time": "2023-12-07T18:14:56.017Z"
   },
   {
    "duration": 3,
    "start_time": "2023-12-07T18:19:22.656Z"
   },
   {
    "duration": 4,
    "start_time": "2023-12-07T18:19:24.696Z"
   },
   {
    "duration": 120,
    "start_time": "2023-12-07T18:19:29.799Z"
   },
   {
    "duration": 2754,
    "start_time": "2023-12-07T18:19:37.056Z"
   },
   {
    "duration": 99,
    "start_time": "2023-12-07T18:19:46.376Z"
   },
   {
    "duration": 3,
    "start_time": "2023-12-07T18:19:47.256Z"
   },
   {
    "duration": 4,
    "start_time": "2023-12-07T18:19:50.113Z"
   },
   {
    "duration": 3,
    "start_time": "2023-12-07T18:19:55.658Z"
   },
   {
    "duration": 4,
    "start_time": "2023-12-07T18:19:59.465Z"
   },
   {
    "duration": 2959,
    "start_time": "2023-12-07T18:20:07.089Z"
   },
   {
    "duration": 2654,
    "start_time": "2023-12-07T18:20:55.961Z"
   },
   {
    "duration": 1708,
    "start_time": "2023-12-07T18:22:21.615Z"
   },
   {
    "duration": 3019,
    "start_time": "2023-12-07T18:25:29.768Z"
   },
   {
    "duration": 1805,
    "start_time": "2023-12-07T18:26:09.646Z"
   },
   {
    "duration": 1665,
    "start_time": "2023-12-07T18:26:36.901Z"
   },
   {
    "duration": 3,
    "start_time": "2023-12-07T18:47:45.329Z"
   },
   {
    "duration": 126,
    "start_time": "2023-12-07T18:47:46.493Z"
   },
   {
    "duration": 4,
    "start_time": "2023-12-07T18:47:51.288Z"
   },
   {
    "duration": 2774,
    "start_time": "2023-12-07T18:47:52.098Z"
   },
   {
    "duration": 2722,
    "start_time": "2023-12-07T18:48:41.275Z"
   },
   {
    "duration": 235,
    "start_time": "2023-12-07T18:49:02.425Z"
   },
   {
    "duration": 229,
    "start_time": "2023-12-07T18:49:46.361Z"
   },
   {
    "duration": 23,
    "start_time": "2023-12-07T18:52:08.411Z"
   },
   {
    "duration": 8,
    "start_time": "2023-12-07T18:52:09.673Z"
   },
   {
    "duration": 18,
    "start_time": "2023-12-07T18:52:17.850Z"
   },
   {
    "duration": 17,
    "start_time": "2023-12-07T18:52:18.668Z"
   },
   {
    "duration": 24,
    "start_time": "2023-12-07T18:52:40.884Z"
   },
   {
    "duration": 14,
    "start_time": "2023-12-07T18:54:36.299Z"
   },
   {
    "duration": 25,
    "start_time": "2023-12-07T18:57:05.861Z"
   },
   {
    "duration": 23,
    "start_time": "2023-12-07T18:58:30.403Z"
   },
   {
    "duration": 9,
    "start_time": "2023-12-07T18:59:24.229Z"
   },
   {
    "duration": 18,
    "start_time": "2023-12-07T18:59:30.454Z"
   },
   {
    "duration": 9,
    "start_time": "2023-12-07T18:59:38.904Z"
   },
   {
    "duration": 7,
    "start_time": "2023-12-07T18:59:58.401Z"
   },
   {
    "duration": 20,
    "start_time": "2023-12-07T19:00:11.994Z"
   },
   {
    "duration": 21,
    "start_time": "2023-12-07T19:00:13.345Z"
   },
   {
    "duration": 9,
    "start_time": "2023-12-07T19:00:19.422Z"
   },
   {
    "duration": 12,
    "start_time": "2023-12-07T19:00:25.259Z"
   },
   {
    "duration": 24,
    "start_time": "2023-12-07T19:00:31.340Z"
   },
   {
    "duration": 3646,
    "start_time": "2023-12-08T05:36:52.162Z"
   },
   {
    "duration": 3,
    "start_time": "2023-12-08T05:36:55.810Z"
   },
   {
    "duration": 619,
    "start_time": "2023-12-08T05:36:55.815Z"
   },
   {
    "duration": 66,
    "start_time": "2023-12-08T05:36:56.437Z"
   },
   {
    "duration": 2,
    "start_time": "2023-12-08T05:36:56.505Z"
   },
   {
    "duration": 16,
    "start_time": "2023-12-08T05:36:56.508Z"
   },
   {
    "duration": 15767,
    "start_time": "2023-12-08T05:36:56.526Z"
   },
   {
    "duration": 83,
    "start_time": "2023-12-08T05:37:12.295Z"
   },
   {
    "duration": 120,
    "start_time": "2023-12-08T05:37:12.381Z"
   },
   {
    "duration": 1300,
    "start_time": "2023-12-08T05:37:12.506Z"
   },
   {
    "duration": 3,
    "start_time": "2023-12-08T05:37:13.808Z"
   },
   {
    "duration": 21,
    "start_time": "2023-12-08T05:37:13.813Z"
   },
   {
    "duration": 62645,
    "start_time": "2023-12-08T05:37:13.836Z"
   },
   {
    "duration": 101,
    "start_time": "2023-12-08T05:38:16.483Z"
   },
   {
    "duration": 3,
    "start_time": "2023-12-08T05:38:16.586Z"
   },
   {
    "duration": 12,
    "start_time": "2023-12-08T05:38:16.591Z"
   },
   {
    "duration": 9,
    "start_time": "2023-12-08T05:38:16.604Z"
   },
   {
    "duration": 11,
    "start_time": "2023-12-08T05:38:16.615Z"
   },
   {
    "duration": 5,
    "start_time": "2023-12-08T05:38:16.627Z"
   },
   {
    "duration": 5,
    "start_time": "2023-12-08T05:38:16.634Z"
   },
   {
    "duration": 3,
    "start_time": "2023-12-08T05:38:16.641Z"
   },
   {
    "duration": 29,
    "start_time": "2023-12-08T05:38:16.646Z"
   },
   {
    "duration": 4,
    "start_time": "2023-12-08T05:38:16.677Z"
   },
   {
    "duration": 5,
    "start_time": "2023-12-08T05:38:16.683Z"
   },
   {
    "duration": 26,
    "start_time": "2023-12-08T05:38:16.689Z"
   },
   {
    "duration": 4,
    "start_time": "2023-12-08T05:38:16.717Z"
   },
   {
    "duration": 5,
    "start_time": "2023-12-08T05:38:16.723Z"
   },
   {
    "duration": 4,
    "start_time": "2023-12-08T05:38:16.732Z"
   },
   {
    "duration": 9,
    "start_time": "2023-12-08T05:38:16.738Z"
   },
   {
    "duration": 4840,
    "start_time": "2023-12-08T05:38:16.748Z"
   },
   {
    "duration": 29,
    "start_time": "2023-12-08T05:38:21.590Z"
   },
   {
    "duration": 18,
    "start_time": "2023-12-08T05:38:21.620Z"
   },
   {
    "duration": 9,
    "start_time": "2023-12-08T05:38:21.640Z"
   },
   {
    "duration": 17,
    "start_time": "2023-12-08T05:38:21.650Z"
   },
   {
    "duration": 20,
    "start_time": "2023-12-08T05:38:21.668Z"
   },
   {
    "duration": 7,
    "start_time": "2023-12-08T05:38:21.690Z"
   },
   {
    "duration": 29,
    "start_time": "2023-12-08T05:38:21.698Z"
   },
   {
    "duration": 11,
    "start_time": "2023-12-08T05:38:21.729Z"
   },
   {
    "duration": 38,
    "start_time": "2023-12-08T05:38:21.741Z"
   },
   {
    "duration": 3,
    "start_time": "2023-12-08T05:38:21.780Z"
   },
   {
    "duration": 8,
    "start_time": "2023-12-08T05:38:21.785Z"
   },
   {
    "duration": 141,
    "start_time": "2023-12-08T05:38:21.795Z"
   },
   {
    "duration": 2,
    "start_time": "2023-12-08T05:38:21.938Z"
   },
   {
    "duration": 789,
    "start_time": "2023-12-08T05:38:21.941Z"
   },
   {
    "duration": 4,
    "start_time": "2023-12-08T05:38:22.732Z"
   },
   {
    "duration": 787,
    "start_time": "2023-12-08T05:38:22.737Z"
   },
   {
    "duration": 3,
    "start_time": "2023-12-08T05:38:23.526Z"
   },
   {
    "duration": 10,
    "start_time": "2023-12-08T05:38:23.531Z"
   },
   {
    "duration": 32,
    "start_time": "2023-12-08T05:38:23.543Z"
   },
   {
    "duration": 3023,
    "start_time": "2023-12-08T05:38:23.577Z"
   },
   {
    "duration": 101,
    "start_time": "2023-12-08T05:38:26.602Z"
   },
   {
    "duration": 4,
    "start_time": "2023-12-08T05:38:26.705Z"
   },
   {
    "duration": 8,
    "start_time": "2023-12-08T05:38:26.710Z"
   },
   {
    "duration": 3037,
    "start_time": "2023-12-08T05:38:26.720Z"
   },
   {
    "duration": 3359,
    "start_time": "2023-12-08T05:38:29.760Z"
   },
   {
    "duration": 1809,
    "start_time": "2023-12-08T05:38:33.120Z"
   },
   {
    "duration": 3,
    "start_time": "2023-12-08T05:38:34.931Z"
   },
   {
    "duration": 59,
    "start_time": "2023-12-08T05:38:34.936Z"
   },
   {
    "duration": 23,
    "start_time": "2023-12-08T05:38:34.998Z"
   },
   {
    "duration": 2938,
    "start_time": "2023-12-08T05:38:35.023Z"
   },
   {
    "duration": 18,
    "start_time": "2023-12-08T05:38:37.963Z"
   },
   {
    "duration": 26,
    "start_time": "2023-12-08T05:38:37.982Z"
   },
   {
    "duration": 20,
    "start_time": "2023-12-08T05:38:38.009Z"
   },
   {
    "duration": 16,
    "start_time": "2023-12-08T05:38:38.031Z"
   },
   {
    "duration": 28,
    "start_time": "2023-12-08T05:38:38.049Z"
   },
   {
    "duration": 1398,
    "start_time": "2023-12-08T05:38:38.079Z"
   },
   {
    "duration": 3,
    "start_time": "2023-12-08T05:38:39.479Z"
   },
   {
    "duration": 11,
    "start_time": "2023-12-08T05:38:39.483Z"
   },
   {
    "duration": 4,
    "start_time": "2023-12-08T05:38:39.500Z"
   },
   {
    "duration": 16,
    "start_time": "2023-12-08T05:38:39.506Z"
   },
   {
    "duration": 1589,
    "start_time": "2023-12-08T05:38:39.524Z"
   },
   {
    "duration": 189,
    "start_time": "2023-12-08T05:38:41.114Z"
   },
   {
    "duration": 102,
    "start_time": "2023-12-08T05:38:41.305Z"
   },
   {
    "duration": 4,
    "start_time": "2023-12-08T05:38:41.409Z"
   },
   {
    "duration": 115,
    "start_time": "2023-12-08T05:38:41.415Z"
   },
   {
    "duration": 4,
    "start_time": "2023-12-08T05:38:41.531Z"
   },
   {
    "duration": 8,
    "start_time": "2023-12-08T05:38:41.537Z"
   },
   {
    "duration": 22,
    "start_time": "2023-12-08T05:38:41.547Z"
   },
   {
    "duration": 26,
    "start_time": "2023-12-08T05:38:41.570Z"
   },
   {
    "duration": 190,
    "start_time": "2023-12-08T05:38:41.598Z"
   },
   {
    "duration": 0,
    "start_time": "2023-12-08T05:38:41.790Z"
   },
   {
    "duration": 0,
    "start_time": "2023-12-08T05:38:41.792Z"
   },
   {
    "duration": 0,
    "start_time": "2023-12-08T05:38:41.793Z"
   },
   {
    "duration": 0,
    "start_time": "2023-12-08T05:38:41.794Z"
   },
   {
    "duration": 0,
    "start_time": "2023-12-08T05:38:41.795Z"
   },
   {
    "duration": 0,
    "start_time": "2023-12-08T05:38:41.796Z"
   },
   {
    "duration": 0,
    "start_time": "2023-12-08T05:38:41.797Z"
   },
   {
    "duration": 0,
    "start_time": "2023-12-08T05:38:41.799Z"
   },
   {
    "duration": 0,
    "start_time": "2023-12-08T05:38:41.800Z"
   },
   {
    "duration": 0,
    "start_time": "2023-12-08T05:38:41.828Z"
   },
   {
    "duration": 0,
    "start_time": "2023-12-08T05:38:41.830Z"
   },
   {
    "duration": 0,
    "start_time": "2023-12-08T05:38:41.831Z"
   },
   {
    "duration": 468,
    "start_time": "2023-12-08T06:13:25.110Z"
   },
   {
    "duration": 811,
    "start_time": "2023-12-08T06:13:39.110Z"
   },
   {
    "duration": 867,
    "start_time": "2023-12-08T06:19:19.865Z"
   },
   {
    "duration": 817,
    "start_time": "2023-12-08T06:20:12.103Z"
   },
   {
    "duration": 785,
    "start_time": "2023-12-08T06:23:21.297Z"
   },
   {
    "duration": 189,
    "start_time": "2023-12-08T06:35:44.362Z"
   },
   {
    "duration": 245,
    "start_time": "2023-12-08T06:36:47.851Z"
   },
   {
    "duration": 6,
    "start_time": "2023-12-08T06:37:58.042Z"
   },
   {
    "duration": 630,
    "start_time": "2023-12-08T06:38:33.042Z"
   },
   {
    "duration": 619,
    "start_time": "2023-12-08T06:39:52.882Z"
   },
   {
    "duration": 1863,
    "start_time": "2023-12-08T06:43:20.461Z"
   },
   {
    "duration": 27,
    "start_time": "2023-12-08T06:44:36.916Z"
   },
   {
    "duration": 14,
    "start_time": "2023-12-08T06:45:28.997Z"
   },
   {
    "duration": 12,
    "start_time": "2023-12-08T06:46:47.442Z"
   },
   {
    "duration": 759,
    "start_time": "2023-12-08T06:47:30.116Z"
   },
   {
    "duration": 658,
    "start_time": "2023-12-08T06:48:28.350Z"
   },
   {
    "duration": 464,
    "start_time": "2023-12-08T06:49:21.284Z"
   },
   {
    "duration": 17,
    "start_time": "2023-12-08T07:00:40.650Z"
   },
   {
    "duration": 14,
    "start_time": "2023-12-08T07:01:11.768Z"
   },
   {
    "duration": 13,
    "start_time": "2023-12-08T07:01:41.905Z"
   },
   {
    "duration": 120,
    "start_time": "2023-12-08T07:03:09.434Z"
   },
   {
    "duration": 1221,
    "start_time": "2023-12-08T07:03:16.623Z"
   },
   {
    "duration": 1234,
    "start_time": "2023-12-08T07:03:32.239Z"
   },
   {
    "duration": 878,
    "start_time": "2023-12-08T07:14:08.307Z"
   },
   {
    "duration": 3,
    "start_time": "2023-12-08T07:21:28.466Z"
   },
   {
    "duration": 42,
    "start_time": "2023-12-08T07:21:32.067Z"
   },
   {
    "duration": 930,
    "start_time": "2023-12-08T07:25:27.214Z"
   },
   {
    "duration": 742,
    "start_time": "2023-12-08T07:27:01.933Z"
   },
   {
    "duration": 683,
    "start_time": "2023-12-08T07:27:54.730Z"
   },
   {
    "duration": 3,
    "start_time": "2023-12-08T07:29:55.390Z"
   },
   {
    "duration": 1946,
    "start_time": "2023-12-08T07:29:57.118Z"
   },
   {
    "duration": 14,
    "start_time": "2023-12-08T07:30:28.663Z"
   },
   {
    "duration": 26,
    "start_time": "2023-12-08T07:30:30.184Z"
   },
   {
    "duration": 23,
    "start_time": "2023-12-08T07:30:45.294Z"
   },
   {
    "duration": 16,
    "start_time": "2023-12-08T07:31:01.718Z"
   },
   {
    "duration": 2100,
    "start_time": "2023-12-08T07:33:20.528Z"
   },
   {
    "duration": 1144,
    "start_time": "2023-12-08T07:33:34.453Z"
   },
   {
    "duration": 2118,
    "start_time": "2023-12-08T07:34:39.058Z"
   },
   {
    "duration": 1029,
    "start_time": "2023-12-08T07:34:50.358Z"
   },
   {
    "duration": 158,
    "start_time": "2023-12-08T07:35:31.519Z"
   },
   {
    "duration": 1138,
    "start_time": "2023-12-08T07:35:58.992Z"
   },
   {
    "duration": 981,
    "start_time": "2023-12-08T07:37:39.064Z"
   },
   {
    "duration": 2142,
    "start_time": "2023-12-08T07:37:55.659Z"
   },
   {
    "duration": 2050,
    "start_time": "2023-12-08T07:38:56.209Z"
   },
   {
    "duration": 1132,
    "start_time": "2023-12-08T07:39:05.848Z"
   },
   {
    "duration": 1043,
    "start_time": "2023-12-08T07:39:16.119Z"
   },
   {
    "duration": 1140,
    "start_time": "2023-12-08T07:39:31.673Z"
   },
   {
    "duration": 2159,
    "start_time": "2023-12-08T07:39:59.721Z"
   },
   {
    "duration": 2936,
    "start_time": "2023-12-08T07:40:29.074Z"
   },
   {
    "duration": 2223,
    "start_time": "2023-12-08T07:41:18.912Z"
   },
   {
    "duration": 2097,
    "start_time": "2023-12-08T07:41:37.650Z"
   },
   {
    "duration": 2962,
    "start_time": "2023-12-08T07:42:00.538Z"
   },
   {
    "duration": 1999,
    "start_time": "2023-12-08T07:42:44.105Z"
   },
   {
    "duration": 1975,
    "start_time": "2023-12-08T07:42:52.849Z"
   },
   {
    "duration": 2314,
    "start_time": "2023-12-08T07:43:06.698Z"
   },
   {
    "duration": 2045,
    "start_time": "2023-12-08T07:43:25.891Z"
   },
   {
    "duration": 5,
    "start_time": "2023-12-08T07:43:38.412Z"
   },
   {
    "duration": 978,
    "start_time": "2023-12-08T07:43:42.256Z"
   },
   {
    "duration": 2,
    "start_time": "2023-12-08T07:43:48.016Z"
   },
   {
    "duration": 2246,
    "start_time": "2023-12-08T07:43:50.943Z"
   },
   {
    "duration": 2853,
    "start_time": "2023-12-08T07:44:39.038Z"
   },
   {
    "duration": 3,
    "start_time": "2023-12-08T07:44:41.894Z"
   },
   {
    "duration": 14,
    "start_time": "2023-12-08T07:44:41.899Z"
   },
   {
    "duration": 4,
    "start_time": "2023-12-08T07:44:41.916Z"
   },
   {
    "duration": 10,
    "start_time": "2023-12-08T07:44:41.922Z"
   },
   {
    "duration": 6,
    "start_time": "2023-12-08T07:44:41.934Z"
   },
   {
    "duration": 15355,
    "start_time": "2023-12-08T07:44:41.942Z"
   },
   {
    "duration": 95,
    "start_time": "2023-12-08T07:44:57.298Z"
   },
   {
    "duration": 384,
    "start_time": "2023-12-08T07:44:57.395Z"
   },
   {
    "duration": 1439,
    "start_time": "2023-12-08T07:44:57.781Z"
   },
   {
    "duration": 3,
    "start_time": "2023-12-08T07:44:59.222Z"
   },
   {
    "duration": 15,
    "start_time": "2023-12-08T07:44:59.226Z"
   },
   {
    "duration": 101757,
    "start_time": "2023-12-08T07:44:59.242Z"
   },
   {
    "duration": 150,
    "start_time": "2023-12-08T07:46:41.001Z"
   },
   {
    "duration": 3,
    "start_time": "2023-12-08T07:46:41.153Z"
   },
   {
    "duration": 5,
    "start_time": "2023-12-08T07:46:41.157Z"
   },
   {
    "duration": 6,
    "start_time": "2023-12-08T07:46:41.163Z"
   },
   {
    "duration": 15,
    "start_time": "2023-12-08T07:46:41.170Z"
   },
   {
    "duration": 18,
    "start_time": "2023-12-08T07:46:41.187Z"
   },
   {
    "duration": 21,
    "start_time": "2023-12-08T07:46:41.207Z"
   },
   {
    "duration": 6,
    "start_time": "2023-12-08T07:46:41.230Z"
   },
   {
    "duration": 26,
    "start_time": "2023-12-08T07:46:41.237Z"
   },
   {
    "duration": 4,
    "start_time": "2023-12-08T07:46:41.265Z"
   },
   {
    "duration": 9,
    "start_time": "2023-12-08T07:46:41.270Z"
   },
   {
    "duration": 22,
    "start_time": "2023-12-08T07:46:41.282Z"
   },
   {
    "duration": 4,
    "start_time": "2023-12-08T07:46:41.305Z"
   },
   {
    "duration": 6,
    "start_time": "2023-12-08T07:46:41.310Z"
   },
   {
    "duration": 3,
    "start_time": "2023-12-08T07:46:41.320Z"
   },
   {
    "duration": 11,
    "start_time": "2023-12-08T07:46:41.325Z"
   },
   {
    "duration": 6315,
    "start_time": "2023-12-08T07:46:41.338Z"
   },
   {
    "duration": 31,
    "start_time": "2023-12-08T07:46:47.654Z"
   },
   {
    "duration": 18,
    "start_time": "2023-12-08T07:46:47.686Z"
   },
   {
    "duration": 12,
    "start_time": "2023-12-08T07:46:47.722Z"
   },
   {
    "duration": 9,
    "start_time": "2023-12-08T07:46:47.736Z"
   },
   {
    "duration": 34,
    "start_time": "2023-12-08T07:46:47.747Z"
   },
   {
    "duration": 6,
    "start_time": "2023-12-08T07:46:47.783Z"
   },
   {
    "duration": 6,
    "start_time": "2023-12-08T07:46:47.791Z"
   },
   {
    "duration": 7,
    "start_time": "2023-12-08T07:46:47.823Z"
   },
   {
    "duration": 43,
    "start_time": "2023-12-08T07:46:47.832Z"
   },
   {
    "duration": 4,
    "start_time": "2023-12-08T07:46:47.877Z"
   },
   {
    "duration": 144,
    "start_time": "2023-12-08T07:46:47.882Z"
   },
   {
    "duration": 3,
    "start_time": "2023-12-08T07:46:48.027Z"
   },
   {
    "duration": 927,
    "start_time": "2023-12-08T07:46:48.032Z"
   },
   {
    "duration": 4,
    "start_time": "2023-12-08T07:46:48.961Z"
   },
   {
    "duration": 856,
    "start_time": "2023-12-08T07:46:48.966Z"
   },
   {
    "duration": 1252,
    "start_time": "2023-12-08T07:46:49.824Z"
   },
   {
    "duration": 3,
    "start_time": "2023-12-08T07:46:51.078Z"
   },
   {
    "duration": 19,
    "start_time": "2023-12-08T07:46:51.083Z"
   },
   {
    "duration": 85,
    "start_time": "2023-12-08T07:46:51.104Z"
   },
   {
    "duration": 3213,
    "start_time": "2023-12-08T07:46:51.192Z"
   },
   {
    "duration": 102,
    "start_time": "2023-12-08T07:46:54.408Z"
   },
   {
    "duration": 3,
    "start_time": "2023-12-08T07:46:54.512Z"
   },
   {
    "duration": 10,
    "start_time": "2023-12-08T07:46:54.517Z"
   },
   {
    "duration": 3256,
    "start_time": "2023-12-08T07:46:54.529Z"
   },
   {
    "duration": 2940,
    "start_time": "2023-12-08T07:46:57.787Z"
   },
   {
    "duration": 2433,
    "start_time": "2023-12-08T07:47:00.729Z"
   },
   {
    "duration": 4,
    "start_time": "2023-12-08T07:47:03.164Z"
   },
   {
    "duration": 38,
    "start_time": "2023-12-08T07:47:03.170Z"
   },
   {
    "duration": 3,
    "start_time": "2023-12-08T07:47:03.210Z"
   },
   {
    "duration": 3121,
    "start_time": "2023-12-08T07:47:03.215Z"
   },
   {
    "duration": 18,
    "start_time": "2023-12-08T07:47:06.338Z"
   },
   {
    "duration": 38,
    "start_time": "2023-12-08T07:47:06.358Z"
   },
   {
    "duration": 33,
    "start_time": "2023-12-08T07:47:06.398Z"
   },
   {
    "duration": 28,
    "start_time": "2023-12-08T07:47:06.433Z"
   },
   {
    "duration": 50,
    "start_time": "2023-12-08T07:47:06.463Z"
   },
   {
    "duration": 12,
    "start_time": "2023-12-08T07:47:06.515Z"
   },
   {
    "duration": 35,
    "start_time": "2023-12-08T07:47:06.529Z"
   },
   {
    "duration": 1140,
    "start_time": "2023-12-08T07:47:06.566Z"
   },
   {
    "duration": 1077,
    "start_time": "2023-12-08T07:47:07.708Z"
   },
   {
    "duration": 3,
    "start_time": "2023-12-08T07:47:08.786Z"
   },
   {
    "duration": 1084,
    "start_time": "2023-12-08T07:47:08.790Z"
   },
   {
    "duration": 2096,
    "start_time": "2023-12-08T07:47:09.877Z"
   },
   {
    "duration": 13,
    "start_time": "2023-12-08T07:47:11.974Z"
   },
   {
    "duration": 35,
    "start_time": "2023-12-08T07:47:11.989Z"
   },
   {
    "duration": 28,
    "start_time": "2023-12-08T07:47:12.026Z"
   },
   {
    "duration": 1083,
    "start_time": "2023-12-08T07:47:12.056Z"
   },
   {
    "duration": 3,
    "start_time": "2023-12-08T07:47:13.141Z"
   },
   {
    "duration": 8,
    "start_time": "2023-12-08T07:47:13.146Z"
   },
   {
    "duration": 24,
    "start_time": "2023-12-08T07:47:13.156Z"
   },
   {
    "duration": 5,
    "start_time": "2023-12-08T07:47:13.182Z"
   },
   {
    "duration": 132,
    "start_time": "2023-12-08T07:47:13.188Z"
   },
   {
    "duration": 0,
    "start_time": "2023-12-08T07:47:13.323Z"
   },
   {
    "duration": 0,
    "start_time": "2023-12-08T07:47:13.325Z"
   },
   {
    "duration": 0,
    "start_time": "2023-12-08T07:47:13.326Z"
   },
   {
    "duration": 0,
    "start_time": "2023-12-08T07:47:13.328Z"
   },
   {
    "duration": 0,
    "start_time": "2023-12-08T07:47:13.330Z"
   },
   {
    "duration": 0,
    "start_time": "2023-12-08T07:47:13.331Z"
   },
   {
    "duration": 0,
    "start_time": "2023-12-08T07:47:13.333Z"
   },
   {
    "duration": 1,
    "start_time": "2023-12-08T07:47:13.334Z"
   },
   {
    "duration": 0,
    "start_time": "2023-12-08T07:47:13.336Z"
   },
   {
    "duration": 0,
    "start_time": "2023-12-08T07:47:13.338Z"
   },
   {
    "duration": 0,
    "start_time": "2023-12-08T07:47:13.339Z"
   },
   {
    "duration": 0,
    "start_time": "2023-12-08T07:47:13.341Z"
   },
   {
    "duration": 0,
    "start_time": "2023-12-08T07:47:13.342Z"
   },
   {
    "duration": 0,
    "start_time": "2023-12-08T07:47:13.343Z"
   },
   {
    "duration": 0,
    "start_time": "2023-12-08T07:47:13.344Z"
   },
   {
    "duration": 0,
    "start_time": "2023-12-08T07:47:13.346Z"
   },
   {
    "duration": 0,
    "start_time": "2023-12-08T07:47:13.347Z"
   },
   {
    "duration": 0,
    "start_time": "2023-12-08T07:47:13.348Z"
   },
   {
    "duration": 0,
    "start_time": "2023-12-08T07:47:13.349Z"
   },
   {
    "duration": 0,
    "start_time": "2023-12-08T07:47:13.350Z"
   },
   {
    "duration": 0,
    "start_time": "2023-12-08T07:47:13.352Z"
   },
   {
    "duration": 2122,
    "start_time": "2023-12-08T07:49:06.174Z"
   },
   {
    "duration": 1955,
    "start_time": "2023-12-08T07:49:55.718Z"
   },
   {
    "duration": 4,
    "start_time": "2023-12-08T07:50:27.236Z"
   },
   {
    "duration": 2088,
    "start_time": "2023-12-08T07:51:02.242Z"
   },
   {
    "duration": 2024,
    "start_time": "2023-12-08T07:52:16.333Z"
   },
   {
    "duration": 943,
    "start_time": "2023-12-08T07:53:24.716Z"
   },
   {
    "duration": 1026,
    "start_time": "2023-12-08T07:53:31.908Z"
   },
   {
    "duration": 1126,
    "start_time": "2023-12-08T07:54:29.021Z"
   },
   {
    "duration": 1165,
    "start_time": "2023-12-08T07:55:40.183Z"
   },
   {
    "duration": 985,
    "start_time": "2023-12-08T07:56:09.798Z"
   },
   {
    "duration": 979,
    "start_time": "2023-12-08T07:56:58.576Z"
   },
   {
    "duration": 1958,
    "start_time": "2023-12-08T07:58:32.006Z"
   },
   {
    "duration": 2151,
    "start_time": "2023-12-08T07:59:03.860Z"
   },
   {
    "duration": 43,
    "start_time": "2023-12-08T07:59:09.766Z"
   },
   {
    "duration": 16,
    "start_time": "2023-12-08T07:59:10.845Z"
   },
   {
    "duration": 4,
    "start_time": "2023-12-08T07:59:25.884Z"
   },
   {
    "duration": 2286,
    "start_time": "2023-12-08T07:59:30.389Z"
   },
   {
    "duration": 11,
    "start_time": "2023-12-08T07:59:35.086Z"
   },
   {
    "duration": 15,
    "start_time": "2023-12-08T07:59:35.931Z"
   },
   {
    "duration": 27,
    "start_time": "2023-12-08T08:00:04.735Z"
   },
   {
    "duration": 2362,
    "start_time": "2023-12-08T08:02:01.029Z"
   },
   {
    "duration": 12,
    "start_time": "2023-12-08T08:02:08.526Z"
   },
   {
    "duration": 23,
    "start_time": "2023-12-08T08:02:09.246Z"
   },
   {
    "duration": 10,
    "start_time": "2023-12-08T08:03:44.142Z"
   },
   {
    "duration": 17,
    "start_time": "2023-12-08T08:03:45.894Z"
   },
   {
    "duration": 7,
    "start_time": "2023-12-08T08:04:00.902Z"
   },
   {
    "duration": 12,
    "start_time": "2023-12-08T08:04:17.088Z"
   },
   {
    "duration": 26,
    "start_time": "2023-12-08T08:04:34.738Z"
   },
   {
    "duration": 3,
    "start_time": "2023-12-08T08:09:44.313Z"
   },
   {
    "duration": 136,
    "start_time": "2023-12-08T08:09:45.231Z"
   },
   {
    "duration": 4,
    "start_time": "2023-12-08T08:12:50.152Z"
   },
   {
    "duration": 32,
    "start_time": "2023-12-08T08:12:50.700Z"
   },
   {
    "duration": 136,
    "start_time": "2023-12-08T08:14:03.320Z"
   },
   {
    "duration": 3,
    "start_time": "2023-12-08T08:14:36.996Z"
   },
   {
    "duration": 31,
    "start_time": "2023-12-08T08:14:37.475Z"
   },
   {
    "duration": 140,
    "start_time": "2023-12-08T08:14:40.514Z"
   },
   {
    "duration": 3,
    "start_time": "2023-12-08T08:15:31.189Z"
   },
   {
    "duration": 33,
    "start_time": "2023-12-08T08:15:31.945Z"
   },
   {
    "duration": 287,
    "start_time": "2023-12-08T08:15:49.666Z"
   },
   {
    "duration": 119,
    "start_time": "2023-12-08T08:17:09.316Z"
   },
   {
    "duration": 3,
    "start_time": "2023-12-08T08:36:43.020Z"
   },
   {
    "duration": 129,
    "start_time": "2023-12-08T08:36:43.629Z"
   },
   {
    "duration": 112,
    "start_time": "2023-12-08T08:36:48.422Z"
   },
   {
    "duration": 292,
    "start_time": "2023-12-08T08:36:53.998Z"
   },
   {
    "duration": 6,
    "start_time": "2023-12-08T08:42:05.039Z"
   },
   {
    "duration": 15,
    "start_time": "2023-12-08T08:42:05.689Z"
   },
   {
    "duration": 8,
    "start_time": "2023-12-08T08:42:19.569Z"
   },
   {
    "duration": 12,
    "start_time": "2023-12-08T08:42:21.319Z"
   },
   {
    "duration": 3,
    "start_time": "2023-12-08T08:44:10.594Z"
   },
   {
    "duration": 33,
    "start_time": "2023-12-08T08:44:12.433Z"
   },
   {
    "duration": 139,
    "start_time": "2023-12-08T08:44:31.304Z"
   },
   {
    "duration": 152,
    "start_time": "2023-12-08T08:48:16.314Z"
   },
   {
    "duration": 131,
    "start_time": "2023-12-08T08:48:27.915Z"
   },
   {
    "duration": 144,
    "start_time": "2023-12-08T08:55:23.187Z"
   },
   {
    "duration": 116,
    "start_time": "2023-12-08T08:55:25.187Z"
   },
   {
    "duration": 106,
    "start_time": "2023-12-08T08:56:44.906Z"
   },
   {
    "duration": 123,
    "start_time": "2023-12-08T08:56:48.683Z"
   },
   {
    "duration": 109,
    "start_time": "2023-12-08T08:57:55.452Z"
   },
   {
    "duration": 127,
    "start_time": "2023-12-08T08:58:19.124Z"
   },
   {
    "duration": 4,
    "start_time": "2023-12-08T08:58:24.923Z"
   },
   {
    "duration": 4,
    "start_time": "2023-12-08T08:58:35.718Z"
   },
   {
    "duration": 5,
    "start_time": "2023-12-08T08:58:57.388Z"
   },
   {
    "duration": 3,
    "start_time": "2023-12-08T08:59:22.165Z"
   },
   {
    "duration": 4,
    "start_time": "2023-12-08T08:59:27.523Z"
   },
   {
    "duration": 75,
    "start_time": "2023-12-08T09:00:25.542Z"
   },
   {
    "duration": 3,
    "start_time": "2023-12-08T09:00:32.126Z"
   },
   {
    "duration": 5,
    "start_time": "2023-12-08T09:00:39.120Z"
   },
   {
    "duration": 4,
    "start_time": "2023-12-08T09:01:00.635Z"
   },
   {
    "duration": 182,
    "start_time": "2023-12-08T09:03:00.783Z"
   },
   {
    "duration": 115,
    "start_time": "2023-12-08T09:03:09.702Z"
   },
   {
    "duration": 184,
    "start_time": "2023-12-08T09:04:38.239Z"
   },
   {
    "duration": 153,
    "start_time": "2023-12-08T09:04:45.310Z"
   },
   {
    "duration": 209,
    "start_time": "2023-12-08T09:04:55.862Z"
   },
   {
    "duration": 170,
    "start_time": "2023-12-08T09:05:00.760Z"
   },
   {
    "duration": 3,
    "start_time": "2023-12-08T09:07:02.022Z"
   },
   {
    "duration": 126,
    "start_time": "2023-12-08T09:07:02.541Z"
   },
   {
    "duration": 216,
    "start_time": "2023-12-08T09:07:06.148Z"
   },
   {
    "duration": 135,
    "start_time": "2023-12-08T09:07:08.139Z"
   },
   {
    "duration": 132,
    "start_time": "2023-12-08T09:07:24.686Z"
   },
   {
    "duration": 105,
    "start_time": "2023-12-08T09:07:57.823Z"
   },
   {
    "duration": 157,
    "start_time": "2023-12-08T09:08:30.382Z"
   },
   {
    "duration": 3,
    "start_time": "2023-12-08T09:08:45.982Z"
   },
   {
    "duration": 39,
    "start_time": "2023-12-08T09:08:46.504Z"
   },
   {
    "duration": 130,
    "start_time": "2023-12-08T09:08:49.613Z"
   },
   {
    "duration": 3,
    "start_time": "2023-12-08T09:08:56.655Z"
   },
   {
    "duration": 135,
    "start_time": "2023-12-08T09:08:59.288Z"
   },
   {
    "duration": 153,
    "start_time": "2023-12-08T09:09:34.463Z"
   },
   {
    "duration": 14,
    "start_time": "2023-12-08T09:15:36.626Z"
   },
   {
    "duration": 139,
    "start_time": "2023-12-08T09:17:45.122Z"
   },
   {
    "duration": 110,
    "start_time": "2023-12-08T09:17:58.746Z"
   },
   {
    "duration": 142,
    "start_time": "2023-12-08T09:19:47.251Z"
   },
   {
    "duration": 146,
    "start_time": "2023-12-08T09:20:04.183Z"
   },
   {
    "duration": 3253,
    "start_time": "2023-12-08T11:14:48.539Z"
   },
   {
    "duration": 3,
    "start_time": "2023-12-08T11:14:51.795Z"
   },
   {
    "duration": 575,
    "start_time": "2023-12-08T11:14:51.800Z"
   },
   {
    "duration": 56,
    "start_time": "2023-12-08T11:14:52.377Z"
   },
   {
    "duration": 2,
    "start_time": "2023-12-08T11:14:52.434Z"
   },
   {
    "duration": 23,
    "start_time": "2023-12-08T11:14:52.438Z"
   },
   {
    "duration": 16853,
    "start_time": "2023-12-08T11:14:52.462Z"
   },
   {
    "duration": 101,
    "start_time": "2023-12-08T11:15:09.317Z"
   },
   {
    "duration": 115,
    "start_time": "2023-12-08T11:15:09.420Z"
   },
   {
    "duration": 2277,
    "start_time": "2023-12-08T11:15:09.538Z"
   },
   {
    "duration": 3,
    "start_time": "2023-12-08T11:15:11.817Z"
   },
   {
    "duration": 8,
    "start_time": "2023-12-08T11:15:11.822Z"
   },
   {
    "duration": 72527,
    "start_time": "2023-12-08T11:15:11.832Z"
   },
   {
    "duration": 72,
    "start_time": "2023-12-08T11:16:24.361Z"
   },
   {
    "duration": 3,
    "start_time": "2023-12-08T11:16:24.435Z"
   },
   {
    "duration": 4,
    "start_time": "2023-12-08T11:16:24.439Z"
   },
   {
    "duration": 6,
    "start_time": "2023-12-08T11:16:24.445Z"
   },
   {
    "duration": 7,
    "start_time": "2023-12-08T11:16:24.452Z"
   },
   {
    "duration": 5,
    "start_time": "2023-12-08T11:16:24.461Z"
   },
   {
    "duration": 11,
    "start_time": "2023-12-08T11:16:24.467Z"
   },
   {
    "duration": 8,
    "start_time": "2023-12-08T11:16:24.479Z"
   },
   {
    "duration": 30,
    "start_time": "2023-12-08T11:16:24.488Z"
   },
   {
    "duration": 5,
    "start_time": "2023-12-08T11:16:24.519Z"
   },
   {
    "duration": 6,
    "start_time": "2023-12-08T11:16:24.525Z"
   },
   {
    "duration": 31,
    "start_time": "2023-12-08T11:16:24.532Z"
   },
   {
    "duration": 5,
    "start_time": "2023-12-08T11:16:24.564Z"
   },
   {
    "duration": 9,
    "start_time": "2023-12-08T11:16:24.570Z"
   },
   {
    "duration": 4,
    "start_time": "2023-12-08T11:16:24.584Z"
   },
   {
    "duration": 4,
    "start_time": "2023-12-08T11:16:24.589Z"
   },
   {
    "duration": 4800,
    "start_time": "2023-12-08T11:16:24.595Z"
   },
   {
    "duration": 35,
    "start_time": "2023-12-08T11:16:29.396Z"
   },
   {
    "duration": 28,
    "start_time": "2023-12-08T11:16:29.433Z"
   },
   {
    "duration": 12,
    "start_time": "2023-12-08T11:16:29.463Z"
   },
   {
    "duration": 7,
    "start_time": "2023-12-08T11:16:29.478Z"
   },
   {
    "duration": 38,
    "start_time": "2023-12-08T11:16:29.487Z"
   },
   {
    "duration": 5,
    "start_time": "2023-12-08T11:16:29.527Z"
   },
   {
    "duration": 8,
    "start_time": "2023-12-08T11:16:29.534Z"
   },
   {
    "duration": 11,
    "start_time": "2023-12-08T11:16:29.543Z"
   },
   {
    "duration": 40,
    "start_time": "2023-12-08T11:16:29.555Z"
   },
   {
    "duration": 19,
    "start_time": "2023-12-08T11:16:29.596Z"
   },
   {
    "duration": 101,
    "start_time": "2023-12-08T11:16:29.616Z"
   },
   {
    "duration": 2,
    "start_time": "2023-12-08T11:16:29.719Z"
   },
   {
    "duration": 691,
    "start_time": "2023-12-08T11:16:29.723Z"
   },
   {
    "duration": 3,
    "start_time": "2023-12-08T11:16:30.416Z"
   },
   {
    "duration": 951,
    "start_time": "2023-12-08T11:16:30.421Z"
   },
   {
    "duration": 1163,
    "start_time": "2023-12-08T11:16:31.374Z"
   },
   {
    "duration": 2,
    "start_time": "2023-12-08T11:16:32.539Z"
   },
   {
    "duration": 21,
    "start_time": "2023-12-08T11:16:32.543Z"
   },
   {
    "duration": 53,
    "start_time": "2023-12-08T11:16:32.565Z"
   },
   {
    "duration": 2499,
    "start_time": "2023-12-08T11:16:32.619Z"
   },
   {
    "duration": 93,
    "start_time": "2023-12-08T11:16:35.120Z"
   },
   {
    "duration": 3,
    "start_time": "2023-12-08T11:16:35.214Z"
   },
   {
    "duration": 8,
    "start_time": "2023-12-08T11:16:35.218Z"
   },
   {
    "duration": 2232,
    "start_time": "2023-12-08T11:16:35.227Z"
   },
   {
    "duration": 2210,
    "start_time": "2023-12-08T11:16:37.460Z"
   },
   {
    "duration": 1258,
    "start_time": "2023-12-08T11:16:39.671Z"
   },
   {
    "duration": 3,
    "start_time": "2023-12-08T11:16:40.931Z"
   },
   {
    "duration": 22,
    "start_time": "2023-12-08T11:16:40.936Z"
   },
   {
    "duration": 2,
    "start_time": "2023-12-08T11:16:40.960Z"
   },
   {
    "duration": 2373,
    "start_time": "2023-12-08T11:16:40.963Z"
   },
   {
    "duration": 18,
    "start_time": "2023-12-08T11:16:43.338Z"
   },
   {
    "duration": 15,
    "start_time": "2023-12-08T11:16:43.358Z"
   },
   {
    "duration": 14,
    "start_time": "2023-12-08T11:16:43.375Z"
   },
   {
    "duration": 32,
    "start_time": "2023-12-08T11:16:43.391Z"
   },
   {
    "duration": 22,
    "start_time": "2023-12-08T11:16:43.425Z"
   },
   {
    "duration": 3,
    "start_time": "2023-12-08T11:16:43.449Z"
   },
   {
    "duration": 23,
    "start_time": "2023-12-08T11:16:43.454Z"
   },
   {
    "duration": 1493,
    "start_time": "2023-12-08T11:16:43.479Z"
   },
   {
    "duration": 11,
    "start_time": "2023-12-08T11:16:44.974Z"
   },
   {
    "duration": 14,
    "start_time": "2023-12-08T11:16:44.987Z"
   },
   {
    "duration": 7,
    "start_time": "2023-12-08T11:16:45.002Z"
   },
   {
    "duration": 48,
    "start_time": "2023-12-08T11:16:45.012Z"
   },
   {
    "duration": 36,
    "start_time": "2023-12-08T11:16:45.063Z"
   },
   {
    "duration": 7,
    "start_time": "2023-12-08T11:16:45.101Z"
   },
   {
    "duration": 26,
    "start_time": "2023-12-08T11:16:45.109Z"
   },
   {
    "duration": 97,
    "start_time": "2023-12-08T11:16:45.137Z"
   },
   {
    "duration": 84,
    "start_time": "2023-12-08T11:16:45.236Z"
   },
   {
    "duration": 178,
    "start_time": "2023-12-08T11:16:45.322Z"
   },
   {
    "duration": 4,
    "start_time": "2023-12-08T11:16:45.502Z"
   },
   {
    "duration": 17,
    "start_time": "2023-12-08T11:16:45.508Z"
   },
   {
    "duration": 7,
    "start_time": "2023-12-08T11:16:45.526Z"
   },
   {
    "duration": 11,
    "start_time": "2023-12-08T11:16:45.539Z"
   },
   {
    "duration": 2,
    "start_time": "2023-12-08T11:16:45.552Z"
   },
   {
    "duration": 22,
    "start_time": "2023-12-08T11:16:45.555Z"
   },
   {
    "duration": 90,
    "start_time": "2023-12-08T11:16:45.578Z"
   },
   {
    "duration": 82,
    "start_time": "2023-12-08T11:16:45.670Z"
   },
   {
    "duration": 86,
    "start_time": "2023-12-08T11:16:45.754Z"
   },
   {
    "duration": 95,
    "start_time": "2023-12-08T11:16:45.842Z"
   },
   {
    "duration": 3,
    "start_time": "2023-12-08T11:16:45.938Z"
   },
   {
    "duration": 29,
    "start_time": "2023-12-08T11:16:45.942Z"
   },
   {
    "duration": 91,
    "start_time": "2023-12-08T11:16:45.972Z"
   },
   {
    "duration": 3,
    "start_time": "2023-12-08T11:16:46.065Z"
   },
   {
    "duration": 16,
    "start_time": "2023-12-08T11:16:46.069Z"
   },
   {
    "duration": 161,
    "start_time": "2023-12-08T11:16:46.087Z"
   },
   {
    "duration": 0,
    "start_time": "2023-12-08T11:16:46.250Z"
   },
   {
    "duration": 0,
    "start_time": "2023-12-08T11:16:46.251Z"
   },
   {
    "duration": 0,
    "start_time": "2023-12-08T11:16:46.252Z"
   },
   {
    "duration": 0,
    "start_time": "2023-12-08T11:16:46.254Z"
   },
   {
    "duration": 0,
    "start_time": "2023-12-08T11:16:46.255Z"
   },
   {
    "duration": 0,
    "start_time": "2023-12-08T11:16:46.257Z"
   },
   {
    "duration": 0,
    "start_time": "2023-12-08T11:16:46.258Z"
   },
   {
    "duration": 0,
    "start_time": "2023-12-08T11:16:46.259Z"
   },
   {
    "duration": 0,
    "start_time": "2023-12-08T11:16:46.261Z"
   },
   {
    "duration": 0,
    "start_time": "2023-12-08T11:16:46.262Z"
   },
   {
    "duration": 0,
    "start_time": "2023-12-08T11:16:46.264Z"
   },
   {
    "duration": 0,
    "start_time": "2023-12-08T11:16:46.265Z"
   },
   {
    "duration": 0,
    "start_time": "2023-12-08T11:16:46.266Z"
   },
   {
    "duration": 0,
    "start_time": "2023-12-08T11:16:46.268Z"
   },
   {
    "duration": 0,
    "start_time": "2023-12-08T11:16:46.269Z"
   },
   {
    "duration": 0,
    "start_time": "2023-12-08T11:16:46.270Z"
   },
   {
    "duration": 0,
    "start_time": "2023-12-08T11:16:46.271Z"
   },
   {
    "duration": 0,
    "start_time": "2023-12-08T11:16:46.272Z"
   },
   {
    "duration": 0,
    "start_time": "2023-12-08T11:16:46.273Z"
   },
   {
    "duration": 0,
    "start_time": "2023-12-08T11:16:46.275Z"
   },
   {
    "duration": 0,
    "start_time": "2023-12-08T11:16:46.315Z"
   },
   {
    "duration": 0,
    "start_time": "2023-12-08T11:16:46.316Z"
   },
   {
    "duration": 0,
    "start_time": "2023-12-08T11:16:46.317Z"
   },
   {
    "duration": 0,
    "start_time": "2023-12-08T11:16:46.318Z"
   },
   {
    "duration": 0,
    "start_time": "2023-12-08T11:16:46.319Z"
   },
   {
    "duration": 0,
    "start_time": "2023-12-08T11:16:46.320Z"
   },
   {
    "duration": 0,
    "start_time": "2023-12-08T11:16:46.321Z"
   },
   {
    "duration": 0,
    "start_time": "2023-12-08T11:16:46.322Z"
   },
   {
    "duration": 0,
    "start_time": "2023-12-08T11:16:46.323Z"
   },
   {
    "duration": 0,
    "start_time": "2023-12-08T11:16:46.324Z"
   },
   {
    "duration": 0,
    "start_time": "2023-12-08T11:16:46.325Z"
   },
   {
    "duration": 1,
    "start_time": "2023-12-08T11:16:46.326Z"
   },
   {
    "duration": 0,
    "start_time": "2023-12-08T11:16:46.328Z"
   },
   {
    "duration": 0,
    "start_time": "2023-12-08T11:16:46.329Z"
   },
   {
    "duration": 0,
    "start_time": "2023-12-08T11:16:46.330Z"
   },
   {
    "duration": 38,
    "start_time": "2023-12-08T11:24:32.316Z"
   },
   {
    "duration": 63,
    "start_time": "2023-12-08T11:24:54.419Z"
   },
   {
    "duration": 8,
    "start_time": "2023-12-08T11:25:09.827Z"
   },
   {
    "duration": 3,
    "start_time": "2023-12-08T11:25:41.802Z"
   },
   {
    "duration": 2,
    "start_time": "2023-12-08T11:25:42.482Z"
   },
   {
    "duration": 4,
    "start_time": "2023-12-08T11:25:46.850Z"
   },
   {
    "duration": 102,
    "start_time": "2023-12-08T11:26:03.338Z"
   },
   {
    "duration": 180,
    "start_time": "2023-12-08T11:29:57.142Z"
   },
   {
    "duration": 89,
    "start_time": "2023-12-08T11:30:35.130Z"
   },
   {
    "duration": 85,
    "start_time": "2023-12-08T11:31:10.564Z"
   },
   {
    "duration": 132,
    "start_time": "2023-12-08T11:32:17.332Z"
   },
   {
    "duration": 105,
    "start_time": "2023-12-08T11:32:44.388Z"
   },
   {
    "duration": 114,
    "start_time": "2023-12-08T11:33:36.099Z"
   },
   {
    "duration": 101,
    "start_time": "2023-12-08T11:34:06.962Z"
   },
   {
    "duration": 89,
    "start_time": "2023-12-08T11:34:20.229Z"
   },
   {
    "duration": 80,
    "start_time": "2023-12-08T11:34:46.364Z"
   },
   {
    "duration": 109,
    "start_time": "2023-12-08T11:35:20.835Z"
   },
   {
    "duration": 97,
    "start_time": "2023-12-08T11:35:26.962Z"
   },
   {
    "duration": 96,
    "start_time": "2023-12-08T11:35:41.003Z"
   },
   {
    "duration": 86,
    "start_time": "2023-12-08T11:36:03.243Z"
   },
   {
    "duration": 106,
    "start_time": "2023-12-08T11:37:23.773Z"
   },
   {
    "duration": 172,
    "start_time": "2023-12-08T11:37:38.642Z"
   },
   {
    "duration": 90,
    "start_time": "2023-12-08T11:38:13.443Z"
   },
   {
    "duration": 90,
    "start_time": "2023-12-08T11:38:36.243Z"
   },
   {
    "duration": 181,
    "start_time": "2023-12-08T11:40:37.556Z"
   },
   {
    "duration": 5,
    "start_time": "2023-12-08T11:43:09.421Z"
   },
   {
    "duration": 22,
    "start_time": "2023-12-08T11:43:14.428Z"
   },
   {
    "duration": 15,
    "start_time": "2023-12-08T11:43:22.237Z"
   },
   {
    "duration": 14,
    "start_time": "2023-12-08T11:43:46.837Z"
   },
   {
    "duration": 6,
    "start_time": "2023-12-08T11:44:16.139Z"
   },
   {
    "duration": 10,
    "start_time": "2023-12-08T11:44:16.667Z"
   },
   {
    "duration": 2,
    "start_time": "2023-12-08T11:49:59.207Z"
   },
   {
    "duration": 146,
    "start_time": "2023-12-08T11:49:59.774Z"
   },
   {
    "duration": 162,
    "start_time": "2023-12-08T11:50:05.261Z"
   },
   {
    "duration": 105,
    "start_time": "2023-12-08T11:52:34.350Z"
   },
   {
    "duration": 98,
    "start_time": "2023-12-08T11:52:58.966Z"
   },
   {
    "duration": 95,
    "start_time": "2023-12-08T11:53:27.712Z"
   },
   {
    "duration": 96,
    "start_time": "2023-12-08T11:54:07.560Z"
   },
   {
    "duration": 92,
    "start_time": "2023-12-08T11:54:27.198Z"
   },
   {
    "duration": 85,
    "start_time": "2023-12-08T11:54:46.936Z"
   },
   {
    "duration": 134,
    "start_time": "2023-12-08T11:55:04.896Z"
   },
   {
    "duration": 172,
    "start_time": "2023-12-08T11:55:42.112Z"
   },
   {
    "duration": 77,
    "start_time": "2023-12-08T11:55:59.215Z"
   },
   {
    "duration": 183,
    "start_time": "2023-12-08T11:56:31.553Z"
   },
   {
    "duration": 100,
    "start_time": "2023-12-08T11:58:00.330Z"
   },
   {
    "duration": 397,
    "start_time": "2023-12-08T11:59:05.257Z"
   },
   {
    "duration": 201,
    "start_time": "2023-12-08T11:59:18.834Z"
   },
   {
    "duration": 3,
    "start_time": "2023-12-08T12:00:32.871Z"
   },
   {
    "duration": 30,
    "start_time": "2023-12-08T12:00:33.394Z"
   },
   {
    "duration": 112,
    "start_time": "2023-12-08T12:00:34.807Z"
   },
   {
    "duration": 91,
    "start_time": "2023-12-08T12:00:37.472Z"
   },
   {
    "duration": 80,
    "start_time": "2023-12-08T12:00:40.737Z"
   },
   {
    "duration": 151,
    "start_time": "2023-12-08T12:00:43.495Z"
   },
   {
    "duration": 5,
    "start_time": "2023-12-08T12:00:45.302Z"
   },
   {
    "duration": 14,
    "start_time": "2023-12-08T12:00:46.089Z"
   },
   {
    "duration": 7,
    "start_time": "2023-12-08T12:00:51.894Z"
   },
   {
    "duration": 13,
    "start_time": "2023-12-08T12:00:52.528Z"
   },
   {
    "duration": 3,
    "start_time": "2023-12-08T12:00:54.710Z"
   },
   {
    "duration": 24,
    "start_time": "2023-12-08T12:00:55.584Z"
   },
   {
    "duration": 90,
    "start_time": "2023-12-08T12:00:59.183Z"
   },
   {
    "duration": 170,
    "start_time": "2023-12-08T12:01:03.615Z"
   },
   {
    "duration": 176,
    "start_time": "2023-12-08T12:01:19.401Z"
   },
   {
    "duration": 4,
    "start_time": "2023-12-08T12:01:56.184Z"
   },
   {
    "duration": 15,
    "start_time": "2023-12-08T12:01:56.794Z"
   },
   {
    "duration": 6,
    "start_time": "2023-12-08T12:02:07.463Z"
   },
   {
    "duration": 11,
    "start_time": "2023-12-08T12:02:08.368Z"
   },
   {
    "duration": 5,
    "start_time": "2023-12-08T12:02:57.980Z"
   },
   {
    "duration": 20,
    "start_time": "2023-12-08T12:02:58.562Z"
   },
   {
    "duration": 6,
    "start_time": "2023-12-08T12:03:00.828Z"
   },
   {
    "duration": 12,
    "start_time": "2023-12-08T12:03:01.992Z"
   },
   {
    "duration": 7,
    "start_time": "2023-12-08T12:04:24.489Z"
   },
   {
    "duration": 12,
    "start_time": "2023-12-08T12:04:25.506Z"
   },
   {
    "duration": 9,
    "start_time": "2023-12-08T12:06:02.629Z"
   },
   {
    "duration": 15,
    "start_time": "2023-12-08T12:06:18.940Z"
   },
   {
    "duration": 11,
    "start_time": "2023-12-08T12:06:33.245Z"
   },
   {
    "duration": 11,
    "start_time": "2023-12-08T12:06:48.116Z"
   },
   {
    "duration": 3,
    "start_time": "2023-12-08T12:07:48.808Z"
   },
   {
    "duration": 140,
    "start_time": "2023-12-08T12:07:48.814Z"
   },
   {
    "duration": 2,
    "start_time": "2023-12-08T12:07:48.955Z"
   },
   {
    "duration": 2610,
    "start_time": "2023-12-08T12:07:48.959Z"
   },
   {
    "duration": 14,
    "start_time": "2023-12-08T12:07:51.571Z"
   },
   {
    "duration": 28,
    "start_time": "2023-12-08T12:07:51.587Z"
   },
   {
    "duration": 25,
    "start_time": "2023-12-08T12:07:51.616Z"
   },
   {
    "duration": 32,
    "start_time": "2023-12-08T12:07:51.643Z"
   },
   {
    "duration": 49,
    "start_time": "2023-12-08T12:07:51.676Z"
   },
   {
    "duration": 11,
    "start_time": "2023-12-08T12:07:51.727Z"
   },
   {
    "duration": 55,
    "start_time": "2023-12-08T12:07:51.741Z"
   },
   {
    "duration": 1885,
    "start_time": "2023-12-08T12:07:51.798Z"
   },
   {
    "duration": 13,
    "start_time": "2023-12-08T12:07:53.685Z"
   },
   {
    "duration": 33,
    "start_time": "2023-12-08T12:07:53.699Z"
   },
   {
    "duration": 34,
    "start_time": "2023-12-08T12:07:53.734Z"
   },
   {
    "duration": 33,
    "start_time": "2023-12-08T12:07:53.769Z"
   },
   {
    "duration": 27,
    "start_time": "2023-12-08T12:07:53.805Z"
   },
   {
    "duration": 22,
    "start_time": "2023-12-08T12:07:53.834Z"
   },
   {
    "duration": 36,
    "start_time": "2023-12-08T12:07:53.858Z"
   },
   {
    "duration": 98,
    "start_time": "2023-12-08T12:07:53.896Z"
   },
   {
    "duration": 88,
    "start_time": "2023-12-08T12:07:53.996Z"
   },
   {
    "duration": 192,
    "start_time": "2023-12-08T12:07:54.086Z"
   },
   {
    "duration": 5,
    "start_time": "2023-12-08T12:07:54.279Z"
   },
   {
    "duration": 31,
    "start_time": "2023-12-08T12:07:54.286Z"
   },
   {
    "duration": 13,
    "start_time": "2023-12-08T12:07:54.318Z"
   },
   {
    "duration": 18,
    "start_time": "2023-12-08T12:07:54.332Z"
   },
   {
    "duration": 16,
    "start_time": "2023-12-08T12:07:54.351Z"
   },
   {
    "duration": 25,
    "start_time": "2023-12-08T12:07:54.368Z"
   },
   {
    "duration": 88,
    "start_time": "2023-12-08T12:07:54.397Z"
   },
   {
    "duration": 86,
    "start_time": "2023-12-08T12:07:54.487Z"
   },
   {
    "duration": 97,
    "start_time": "2023-12-08T12:07:54.575Z"
   },
   {
    "duration": 173,
    "start_time": "2023-12-08T12:07:54.674Z"
   },
   {
    "duration": 5,
    "start_time": "2023-12-08T12:07:54.849Z"
   },
   {
    "duration": 66,
    "start_time": "2023-12-08T12:07:54.855Z"
   },
   {
    "duration": 12,
    "start_time": "2023-12-08T12:07:54.923Z"
   },
   {
    "duration": 15,
    "start_time": "2023-12-08T12:07:54.937Z"
   },
   {
    "duration": 7,
    "start_time": "2023-12-08T12:07:54.953Z"
   },
   {
    "duration": 85,
    "start_time": "2023-12-08T12:07:54.961Z"
   },
   {
    "duration": 116,
    "start_time": "2023-12-08T12:07:55.048Z"
   },
   {
    "duration": 155,
    "start_time": "2023-12-08T12:07:55.166Z"
   },
   {
    "duration": 307,
    "start_time": "2023-12-08T12:07:55.322Z"
   },
   {
    "duration": 4,
    "start_time": "2023-12-08T12:07:55.631Z"
   },
   {
    "duration": 54,
    "start_time": "2023-12-08T12:07:55.636Z"
   },
   {
    "duration": 25,
    "start_time": "2023-12-08T12:07:55.691Z"
   },
   {
    "duration": 15,
    "start_time": "2023-12-08T12:07:55.718Z"
   },
   {
    "duration": 25,
    "start_time": "2023-12-08T12:07:55.735Z"
   },
   {
    "duration": 89,
    "start_time": "2023-12-08T12:07:55.761Z"
   },
   {
    "duration": 2,
    "start_time": "2023-12-08T12:07:55.852Z"
   },
   {
    "duration": 6,
    "start_time": "2023-12-08T12:07:55.856Z"
   },
   {
    "duration": 201,
    "start_time": "2023-12-08T12:07:55.864Z"
   },
   {
    "duration": 3,
    "start_time": "2023-12-08T12:07:56.067Z"
   },
   {
    "duration": 14,
    "start_time": "2023-12-08T12:07:56.071Z"
   },
   {
    "duration": 92,
    "start_time": "2023-12-08T12:07:56.086Z"
   },
   {
    "duration": 0,
    "start_time": "2023-12-08T12:07:56.180Z"
   },
   {
    "duration": 0,
    "start_time": "2023-12-08T12:07:56.181Z"
   },
   {
    "duration": 0,
    "start_time": "2023-12-08T12:07:56.182Z"
   },
   {
    "duration": 0,
    "start_time": "2023-12-08T12:07:56.183Z"
   },
   {
    "duration": 0,
    "start_time": "2023-12-08T12:07:56.184Z"
   },
   {
    "duration": 0,
    "start_time": "2023-12-08T12:07:56.185Z"
   },
   {
    "duration": 0,
    "start_time": "2023-12-08T12:07:56.186Z"
   },
   {
    "duration": 0,
    "start_time": "2023-12-08T12:07:56.187Z"
   },
   {
    "duration": 0,
    "start_time": "2023-12-08T12:07:56.188Z"
   },
   {
    "duration": 0,
    "start_time": "2023-12-08T12:07:56.189Z"
   },
   {
    "duration": 0,
    "start_time": "2023-12-08T12:07:56.190Z"
   },
   {
    "duration": 0,
    "start_time": "2023-12-08T12:07:56.191Z"
   },
   {
    "duration": 0,
    "start_time": "2023-12-08T12:07:56.192Z"
   },
   {
    "duration": 0,
    "start_time": "2023-12-08T12:07:56.193Z"
   },
   {
    "duration": 0,
    "start_time": "2023-12-08T12:07:56.194Z"
   },
   {
    "duration": 0,
    "start_time": "2023-12-08T12:07:56.214Z"
   },
   {
    "duration": 0,
    "start_time": "2023-12-08T12:07:56.216Z"
   },
   {
    "duration": 0,
    "start_time": "2023-12-08T12:07:56.217Z"
   },
   {
    "duration": 0,
    "start_time": "2023-12-08T12:07:56.218Z"
   },
   {
    "duration": 0,
    "start_time": "2023-12-08T12:07:56.218Z"
   },
   {
    "duration": 0,
    "start_time": "2023-12-08T12:07:56.219Z"
   },
   {
    "duration": 0,
    "start_time": "2023-12-08T12:07:56.220Z"
   },
   {
    "duration": 0,
    "start_time": "2023-12-08T12:07:56.221Z"
   },
   {
    "duration": 0,
    "start_time": "2023-12-08T12:07:56.222Z"
   },
   {
    "duration": 0,
    "start_time": "2023-12-08T12:07:56.223Z"
   },
   {
    "duration": 0,
    "start_time": "2023-12-08T12:07:56.224Z"
   },
   {
    "duration": 0,
    "start_time": "2023-12-08T12:07:56.225Z"
   },
   {
    "duration": 0,
    "start_time": "2023-12-08T12:07:56.226Z"
   },
   {
    "duration": 0,
    "start_time": "2023-12-08T12:07:56.227Z"
   },
   {
    "duration": 0,
    "start_time": "2023-12-08T12:07:56.228Z"
   },
   {
    "duration": 0,
    "start_time": "2023-12-08T12:07:56.229Z"
   },
   {
    "duration": 0,
    "start_time": "2023-12-08T12:07:56.230Z"
   },
   {
    "duration": 0,
    "start_time": "2023-12-08T12:07:56.231Z"
   },
   {
    "duration": 22,
    "start_time": "2023-12-08T12:08:25.618Z"
   },
   {
    "duration": 10,
    "start_time": "2023-12-08T12:17:49.653Z"
   },
   {
    "duration": 8,
    "start_time": "2023-12-08T12:18:53.657Z"
   },
   {
    "duration": 9,
    "start_time": "2023-12-08T12:19:25.655Z"
   },
   {
    "duration": 14,
    "start_time": "2023-12-08T12:28:15.722Z"
   },
   {
    "duration": 10,
    "start_time": "2023-12-08T12:30:03.432Z"
   },
   {
    "duration": 6,
    "start_time": "2023-12-08T12:32:48.451Z"
   },
   {
    "duration": 14,
    "start_time": "2023-12-08T12:32:51.905Z"
   },
   {
    "duration": 22,
    "start_time": "2023-12-08T12:32:57.785Z"
   },
   {
    "duration": 10,
    "start_time": "2023-12-08T12:34:09.090Z"
   },
   {
    "duration": 23,
    "start_time": "2023-12-08T12:34:11.329Z"
   },
   {
    "duration": 4,
    "start_time": "2023-12-08T12:34:34.981Z"
   },
   {
    "duration": 4,
    "start_time": "2023-12-08T12:34:42.552Z"
   },
   {
    "duration": 23,
    "start_time": "2023-12-08T12:34:44.545Z"
   },
   {
    "duration": 7,
    "start_time": "2023-12-08T12:35:04.393Z"
   },
   {
    "duration": 23,
    "start_time": "2023-12-08T12:35:05.386Z"
   },
   {
    "duration": 9,
    "start_time": "2023-12-08T12:35:17.673Z"
   },
   {
    "duration": 21,
    "start_time": "2023-12-08T12:35:18.286Z"
   },
   {
    "duration": 24,
    "start_time": "2023-12-08T12:38:39.514Z"
   },
   {
    "duration": 21,
    "start_time": "2023-12-08T12:39:07.722Z"
   },
   {
    "duration": 14,
    "start_time": "2023-12-08T12:39:19.813Z"
   },
   {
    "duration": 25,
    "start_time": "2023-12-08T12:39:33.606Z"
   },
   {
    "duration": 14,
    "start_time": "2023-12-08T12:39:43.883Z"
   },
   {
    "duration": 26,
    "start_time": "2023-12-08T12:40:02.957Z"
   },
   {
    "duration": 16,
    "start_time": "2023-12-08T12:40:09.066Z"
   },
   {
    "duration": 24,
    "start_time": "2023-12-08T12:40:23.268Z"
   },
   {
    "duration": 13,
    "start_time": "2023-12-08T12:40:32.210Z"
   },
   {
    "duration": 7,
    "start_time": "2023-12-08T12:43:51.475Z"
   },
   {
    "duration": 13,
    "start_time": "2023-12-08T12:43:59.123Z"
   },
   {
    "duration": 30,
    "start_time": "2023-12-08T12:44:59.363Z"
   },
   {
    "duration": 11,
    "start_time": "2023-12-08T12:46:37.292Z"
   },
   {
    "duration": 4,
    "start_time": "2023-12-08T13:14:04.659Z"
   },
   {
    "duration": 29,
    "start_time": "2023-12-08T13:14:12.549Z"
   },
   {
    "duration": 10,
    "start_time": "2023-12-08T13:14:35.684Z"
   },
   {
    "duration": 21,
    "start_time": "2023-12-08T13:14:50.619Z"
   },
   {
    "duration": 9,
    "start_time": "2023-12-08T13:15:09.501Z"
   },
   {
    "duration": 22,
    "start_time": "2023-12-08T13:15:35.693Z"
   },
   {
    "duration": 26,
    "start_time": "2023-12-08T13:16:28.319Z"
   },
   {
    "duration": 17,
    "start_time": "2023-12-08T13:17:27.144Z"
   },
   {
    "duration": 17,
    "start_time": "2023-12-08T13:19:30.515Z"
   },
   {
    "duration": 137,
    "start_time": "2023-12-08T13:19:46.281Z"
   },
   {
    "duration": 682,
    "start_time": "2023-12-08T13:22:45.344Z"
   },
   {
    "duration": 5,
    "start_time": "2023-12-08T13:32:12.289Z"
   },
   {
    "duration": 6,
    "start_time": "2023-12-08T13:34:48.932Z"
   },
   {
    "duration": 746,
    "start_time": "2023-12-08T13:34:49.760Z"
   },
   {
    "duration": 5,
    "start_time": "2023-12-08T13:35:30.466Z"
   },
   {
    "duration": 283,
    "start_time": "2023-12-08T13:35:31.106Z"
   },
   {
    "duration": 5,
    "start_time": "2023-12-08T13:36:19.140Z"
   },
   {
    "duration": 725,
    "start_time": "2023-12-08T13:36:20.208Z"
   },
   {
    "duration": 5,
    "start_time": "2023-12-08T13:38:01.448Z"
   },
   {
    "duration": 3,
    "start_time": "2023-12-08T13:40:07.934Z"
   },
   {
    "duration": 3,
    "start_time": "2023-12-08T13:40:07.941Z"
   },
   {
    "duration": 6,
    "start_time": "2023-12-08T13:40:07.946Z"
   },
   {
    "duration": 12,
    "start_time": "2023-12-08T13:40:07.953Z"
   },
   {
    "duration": 4,
    "start_time": "2023-12-08T13:40:07.967Z"
   },
   {
    "duration": 4,
    "start_time": "2023-12-08T13:40:07.972Z"
   },
   {
    "duration": 156,
    "start_time": "2023-12-08T13:40:07.977Z"
   },
   {
    "duration": 4,
    "start_time": "2023-12-08T13:40:08.135Z"
   },
   {
    "duration": 6,
    "start_time": "2023-12-08T13:40:08.141Z"
   },
   {
    "duration": 98,
    "start_time": "2023-12-08T13:40:08.148Z"
   },
   {
    "duration": 3,
    "start_time": "2023-12-08T13:40:08.248Z"
   },
   {
    "duration": 7,
    "start_time": "2023-12-08T13:40:08.253Z"
   },
   {
    "duration": 5,
    "start_time": "2023-12-08T13:40:08.262Z"
   },
   {
    "duration": 6,
    "start_time": "2023-12-08T13:40:08.270Z"
   },
   {
    "duration": 5219,
    "start_time": "2023-12-08T13:40:08.278Z"
   },
   {
    "duration": 28,
    "start_time": "2023-12-08T13:40:13.499Z"
   },
   {
    "duration": 35,
    "start_time": "2023-12-08T13:40:13.529Z"
   },
   {
    "duration": 50,
    "start_time": "2023-12-08T13:40:13.566Z"
   },
   {
    "duration": 16,
    "start_time": "2023-12-08T13:40:13.618Z"
   },
   {
    "duration": 47,
    "start_time": "2023-12-08T13:40:13.635Z"
   },
   {
    "duration": 55,
    "start_time": "2023-12-08T13:40:13.684Z"
   },
   {
    "duration": 38,
    "start_time": "2023-12-08T13:40:13.741Z"
   },
   {
    "duration": 65,
    "start_time": "2023-12-08T13:40:13.780Z"
   },
   {
    "duration": 74,
    "start_time": "2023-12-08T13:40:13.846Z"
   },
   {
    "duration": 28,
    "start_time": "2023-12-08T13:40:13.922Z"
   },
   {
    "duration": 135,
    "start_time": "2023-12-08T13:40:13.951Z"
   },
   {
    "duration": 3,
    "start_time": "2023-12-08T13:40:14.087Z"
   },
   {
    "duration": 1023,
    "start_time": "2023-12-08T13:40:14.092Z"
   },
   {
    "duration": 3,
    "start_time": "2023-12-08T13:40:15.119Z"
   },
   {
    "duration": 18,
    "start_time": "2023-12-08T13:40:15.124Z"
   },
   {
    "duration": 8,
    "start_time": "2023-12-08T13:40:15.143Z"
   },
   {
    "duration": 1243,
    "start_time": "2023-12-08T13:40:15.153Z"
   },
   {
    "duration": 1293,
    "start_time": "2023-12-08T13:40:16.398Z"
   },
   {
    "duration": 2,
    "start_time": "2023-12-08T13:40:17.693Z"
   },
   {
    "duration": 26,
    "start_time": "2023-12-08T13:40:17.697Z"
   },
   {
    "duration": 32,
    "start_time": "2023-12-08T13:40:17.724Z"
   },
   {
    "duration": 3269,
    "start_time": "2023-12-08T13:40:17.757Z"
   },
   {
    "duration": 83,
    "start_time": "2023-12-08T13:40:21.028Z"
   },
   {
    "duration": 3,
    "start_time": "2023-12-08T13:40:21.113Z"
   },
   {
    "duration": 9,
    "start_time": "2023-12-08T13:40:21.117Z"
   },
   {
    "duration": 2485,
    "start_time": "2023-12-08T13:40:21.128Z"
   },
   {
    "duration": 2368,
    "start_time": "2023-12-08T13:40:23.614Z"
   },
   {
    "duration": 1343,
    "start_time": "2023-12-08T13:40:25.983Z"
   },
   {
    "duration": 3,
    "start_time": "2023-12-08T13:40:27.327Z"
   },
   {
    "duration": 40,
    "start_time": "2023-12-08T13:40:27.332Z"
   },
   {
    "duration": 2,
    "start_time": "2023-12-08T13:40:27.374Z"
   },
   {
    "duration": 2341,
    "start_time": "2023-12-08T13:40:27.377Z"
   },
   {
    "duration": 15,
    "start_time": "2023-12-08T13:40:29.719Z"
   },
   {
    "duration": 15,
    "start_time": "2023-12-08T13:40:29.736Z"
   },
   {
    "duration": 36,
    "start_time": "2023-12-08T13:40:29.752Z"
   },
   {
    "duration": 28,
    "start_time": "2023-12-08T13:40:29.790Z"
   },
   {
    "duration": 44,
    "start_time": "2023-12-08T13:40:29.820Z"
   },
   {
    "duration": 4,
    "start_time": "2023-12-08T13:40:29.866Z"
   },
   {
    "duration": 27,
    "start_time": "2023-12-08T13:40:29.872Z"
   },
   {
    "duration": 2130,
    "start_time": "2023-12-08T13:40:29.901Z"
   },
   {
    "duration": 13,
    "start_time": "2023-12-08T13:40:32.033Z"
   },
   {
    "duration": 56,
    "start_time": "2023-12-08T13:40:32.047Z"
   },
   {
    "duration": 46,
    "start_time": "2023-12-08T13:40:32.104Z"
   },
   {
    "duration": 38,
    "start_time": "2023-12-08T13:40:32.152Z"
   },
   {
    "duration": 72,
    "start_time": "2023-12-08T13:40:32.191Z"
   },
   {
    "duration": 16,
    "start_time": "2023-12-08T13:40:32.265Z"
   },
   {
    "duration": 39,
    "start_time": "2023-12-08T13:40:32.283Z"
   },
   {
    "duration": 136,
    "start_time": "2023-12-08T13:40:32.324Z"
   },
   {
    "duration": 109,
    "start_time": "2023-12-08T13:40:32.462Z"
   },
   {
    "duration": 190,
    "start_time": "2023-12-08T13:40:32.572Z"
   },
   {
    "duration": 5,
    "start_time": "2023-12-08T13:40:32.764Z"
   },
   {
    "duration": 22,
    "start_time": "2023-12-08T13:40:32.770Z"
   },
   {
    "duration": 14,
    "start_time": "2023-12-08T13:40:32.794Z"
   },
   {
    "duration": 15,
    "start_time": "2023-12-08T13:40:32.810Z"
   },
   {
    "duration": 3,
    "start_time": "2023-12-08T13:40:32.827Z"
   },
   {
    "duration": 24,
    "start_time": "2023-12-08T13:40:32.832Z"
   },
   {
    "duration": 101,
    "start_time": "2023-12-08T13:40:32.858Z"
   },
   {
    "duration": 204,
    "start_time": "2023-12-08T13:40:32.961Z"
   },
   {
    "duration": 86,
    "start_time": "2023-12-08T13:40:33.170Z"
   },
   {
    "duration": 202,
    "start_time": "2023-12-08T13:40:33.257Z"
   },
   {
    "duration": 6,
    "start_time": "2023-12-08T13:40:33.461Z"
   },
   {
    "duration": 27,
    "start_time": "2023-12-08T13:40:33.468Z"
   },
   {
    "duration": 9,
    "start_time": "2023-12-08T13:40:33.497Z"
   },
   {
    "duration": 15,
    "start_time": "2023-12-08T13:40:33.507Z"
   },
   {
    "duration": 4,
    "start_time": "2023-12-08T13:40:33.523Z"
   },
   {
    "duration": 25,
    "start_time": "2023-12-08T13:40:33.528Z"
   },
   {
    "duration": 85,
    "start_time": "2023-12-08T13:40:33.554Z"
   },
   {
    "duration": 119,
    "start_time": "2023-12-08T13:40:33.641Z"
   },
   {
    "duration": 194,
    "start_time": "2023-12-08T13:40:33.762Z"
   },
   {
    "duration": 5,
    "start_time": "2023-12-08T13:40:33.958Z"
   },
   {
    "duration": 24,
    "start_time": "2023-12-08T13:40:33.965Z"
   },
   {
    "duration": 23,
    "start_time": "2023-12-08T13:40:33.990Z"
   },
   {
    "duration": 16,
    "start_time": "2023-12-08T13:40:34.015Z"
   },
   {
    "duration": 22,
    "start_time": "2023-12-08T13:40:34.032Z"
   },
   {
    "duration": 11,
    "start_time": "2023-12-08T13:40:34.055Z"
   },
   {
    "duration": 35,
    "start_time": "2023-12-08T13:40:34.068Z"
   },
   {
    "duration": 14,
    "start_time": "2023-12-08T13:40:34.105Z"
   },
   {
    "duration": 13,
    "start_time": "2023-12-08T13:40:34.121Z"
   },
   {
    "duration": 8,
    "start_time": "2023-12-08T13:40:34.136Z"
   },
   {
    "duration": 4,
    "start_time": "2023-12-08T13:40:34.145Z"
   },
   {
    "duration": 28,
    "start_time": "2023-12-08T13:40:34.151Z"
   },
   {
    "duration": 44,
    "start_time": "2023-12-08T13:40:34.180Z"
   },
   {
    "duration": 3,
    "start_time": "2023-12-08T13:40:34.226Z"
   },
   {
    "duration": 145,
    "start_time": "2023-12-08T13:40:34.231Z"
   },
   {
    "duration": 3,
    "start_time": "2023-12-08T13:40:34.377Z"
   },
   {
    "duration": 5,
    "start_time": "2023-12-08T13:40:34.381Z"
   },
   {
    "duration": 893,
    "start_time": "2023-12-08T13:40:34.388Z"
   },
   {
    "duration": 5,
    "start_time": "2023-12-08T13:40:35.282Z"
   },
   {
    "duration": 203,
    "start_time": "2023-12-08T13:41:30.647Z"
   },
   {
    "duration": 23,
    "start_time": "2023-12-08T13:44:53.426Z"
   },
   {
    "duration": 844,
    "start_time": "2023-12-08T13:45:39.138Z"
   },
   {
    "duration": 5,
    "start_time": "2023-12-08T13:48:59.930Z"
   },
   {
    "duration": 1294,
    "start_time": "2023-12-08T13:49:02.425Z"
   },
   {
    "duration": 5,
    "start_time": "2023-12-08T13:52:10.332Z"
   },
   {
    "duration": 712,
    "start_time": "2023-12-08T13:52:11.023Z"
   },
   {
    "duration": 750,
    "start_time": "2023-12-08T13:54:05.594Z"
   },
   {
    "duration": 6,
    "start_time": "2023-12-08T14:08:42.500Z"
   },
   {
    "duration": 875,
    "start_time": "2023-12-08T14:08:44.047Z"
   },
   {
    "duration": 7,
    "start_time": "2023-12-08T14:10:15.548Z"
   },
   {
    "duration": 940,
    "start_time": "2023-12-08T14:10:16.296Z"
   },
   {
    "duration": 3,
    "start_time": "2023-12-08T14:14:14.986Z"
   },
   {
    "duration": 4,
    "start_time": "2023-12-08T14:14:14.994Z"
   },
   {
    "duration": 53,
    "start_time": "2023-12-08T14:14:15.000Z"
   },
   {
    "duration": 17,
    "start_time": "2023-12-08T14:14:15.055Z"
   },
   {
    "duration": 31,
    "start_time": "2023-12-08T14:14:15.074Z"
   },
   {
    "duration": 11,
    "start_time": "2023-12-08T14:14:15.108Z"
   },
   {
    "duration": 62,
    "start_time": "2023-12-08T14:14:15.120Z"
   },
   {
    "duration": 5,
    "start_time": "2023-12-08T14:14:15.184Z"
   },
   {
    "duration": 11,
    "start_time": "2023-12-08T14:14:15.190Z"
   },
   {
    "duration": 125,
    "start_time": "2023-12-08T14:14:15.203Z"
   },
   {
    "duration": 4,
    "start_time": "2023-12-08T14:14:15.330Z"
   },
   {
    "duration": 17,
    "start_time": "2023-12-08T14:14:15.336Z"
   },
   {
    "duration": 8,
    "start_time": "2023-12-08T14:14:15.354Z"
   },
   {
    "duration": 8,
    "start_time": "2023-12-08T14:14:15.364Z"
   },
   {
    "duration": 3810,
    "start_time": "2023-12-08T14:14:15.374Z"
   },
   {
    "duration": 27,
    "start_time": "2023-12-08T14:14:19.186Z"
   },
   {
    "duration": 15,
    "start_time": "2023-12-08T14:14:19.214Z"
   },
   {
    "duration": 8,
    "start_time": "2023-12-08T14:14:19.231Z"
   },
   {
    "duration": 8,
    "start_time": "2023-12-08T14:14:19.241Z"
   },
   {
    "duration": 18,
    "start_time": "2023-12-08T14:14:19.251Z"
   },
   {
    "duration": 5,
    "start_time": "2023-12-08T14:14:19.270Z"
   },
   {
    "duration": 6,
    "start_time": "2023-12-08T14:14:19.276Z"
   },
   {
    "duration": 40,
    "start_time": "2023-12-08T14:14:19.283Z"
   },
   {
    "duration": 28,
    "start_time": "2023-12-08T14:14:19.325Z"
   },
   {
    "duration": 4,
    "start_time": "2023-12-08T14:14:19.354Z"
   },
   {
    "duration": 18,
    "start_time": "2023-12-08T14:14:19.359Z"
   },
   {
    "duration": 12,
    "start_time": "2023-12-08T14:14:19.378Z"
   },
   {
    "duration": 11,
    "start_time": "2023-12-08T14:14:19.392Z"
   },
   {
    "duration": 879,
    "start_time": "2023-12-08T14:14:19.405Z"
   },
   {
    "duration": 3,
    "start_time": "2023-12-08T14:14:20.288Z"
   },
   {
    "duration": 7,
    "start_time": "2023-12-08T14:14:20.292Z"
   },
   {
    "duration": 25,
    "start_time": "2023-12-08T14:14:20.300Z"
   },
   {
    "duration": 1242,
    "start_time": "2023-12-08T14:14:20.327Z"
   },
   {
    "duration": 3,
    "start_time": "2023-12-08T14:14:21.570Z"
   },
   {
    "duration": 7,
    "start_time": "2023-12-08T14:14:21.574Z"
   },
   {
    "duration": 45,
    "start_time": "2023-12-08T14:14:21.583Z"
   },
   {
    "duration": 2437,
    "start_time": "2023-12-08T14:14:21.629Z"
   },
   {
    "duration": 84,
    "start_time": "2023-12-08T14:14:24.068Z"
   },
   {
    "duration": 3,
    "start_time": "2023-12-08T14:14:24.153Z"
   },
   {
    "duration": 8,
    "start_time": "2023-12-08T14:14:24.157Z"
   },
   {
    "duration": 2569,
    "start_time": "2023-12-08T14:14:24.166Z"
   },
   {
    "duration": 2599,
    "start_time": "2023-12-08T14:14:26.737Z"
   },
   {
    "duration": 2425,
    "start_time": "2023-12-08T14:14:29.337Z"
   },
   {
    "duration": 2,
    "start_time": "2023-12-08T14:14:31.764Z"
   },
   {
    "duration": 159,
    "start_time": "2023-12-08T14:14:31.768Z"
   },
   {
    "duration": 16,
    "start_time": "2023-12-08T14:14:31.929Z"
   },
   {
    "duration": 2446,
    "start_time": "2023-12-08T14:14:31.947Z"
   },
   {
    "duration": 17,
    "start_time": "2023-12-08T14:14:34.394Z"
   },
   {
    "duration": 15,
    "start_time": "2023-12-08T14:14:34.412Z"
   },
   {
    "duration": 12,
    "start_time": "2023-12-08T14:14:34.428Z"
   },
   {
    "duration": 14,
    "start_time": "2023-12-08T14:14:34.441Z"
   },
   {
    "duration": 34,
    "start_time": "2023-12-08T14:14:34.457Z"
   },
   {
    "duration": 3,
    "start_time": "2023-12-08T14:14:34.493Z"
   },
   {
    "duration": 29,
    "start_time": "2023-12-08T14:14:34.498Z"
   },
   {
    "duration": 1560,
    "start_time": "2023-12-08T14:14:34.529Z"
   },
   {
    "duration": 13,
    "start_time": "2023-12-08T14:14:36.090Z"
   },
   {
    "duration": 16,
    "start_time": "2023-12-08T14:14:36.104Z"
   },
   {
    "duration": 45,
    "start_time": "2023-12-08T14:14:36.121Z"
   },
   {
    "duration": 13,
    "start_time": "2023-12-08T14:14:36.167Z"
   },
   {
    "duration": 16,
    "start_time": "2023-12-08T14:14:36.182Z"
   },
   {
    "duration": 3,
    "start_time": "2023-12-08T14:14:36.200Z"
   },
   {
    "duration": 27,
    "start_time": "2023-12-08T14:14:36.204Z"
   },
   {
    "duration": 94,
    "start_time": "2023-12-08T14:14:36.232Z"
   },
   {
    "duration": 78,
    "start_time": "2023-12-08T14:14:36.328Z"
   },
   {
    "duration": 268,
    "start_time": "2023-12-08T14:14:36.407Z"
   },
   {
    "duration": 4,
    "start_time": "2023-12-08T14:14:36.677Z"
   },
   {
    "duration": 22,
    "start_time": "2023-12-08T14:14:36.683Z"
   },
   {
    "duration": 24,
    "start_time": "2023-12-08T14:14:36.706Z"
   },
   {
    "duration": 22,
    "start_time": "2023-12-08T14:14:36.732Z"
   },
   {
    "duration": 20,
    "start_time": "2023-12-08T14:14:36.755Z"
   },
   {
    "duration": 30,
    "start_time": "2023-12-08T14:14:36.777Z"
   },
   {
    "duration": 91,
    "start_time": "2023-12-08T14:14:36.810Z"
   },
   {
    "duration": 92,
    "start_time": "2023-12-08T14:14:36.902Z"
   },
   {
    "duration": 95,
    "start_time": "2023-12-08T14:14:36.995Z"
   },
   {
    "duration": 212,
    "start_time": "2023-12-08T14:14:37.092Z"
   },
   {
    "duration": 4,
    "start_time": "2023-12-08T14:14:37.306Z"
   },
   {
    "duration": 15,
    "start_time": "2023-12-08T14:14:37.312Z"
   },
   {
    "duration": 41,
    "start_time": "2023-12-08T14:14:37.328Z"
   },
   {
    "duration": 24,
    "start_time": "2023-12-08T14:14:37.370Z"
   },
   {
    "duration": 21,
    "start_time": "2023-12-08T14:14:37.395Z"
   },
   {
    "duration": 47,
    "start_time": "2023-12-08T14:14:37.418Z"
   },
   {
    "duration": 97,
    "start_time": "2023-12-08T14:14:37.466Z"
   },
   {
    "duration": 83,
    "start_time": "2023-12-08T14:14:37.566Z"
   },
   {
    "duration": 163,
    "start_time": "2023-12-08T14:14:37.656Z"
   },
   {
    "duration": 6,
    "start_time": "2023-12-08T14:14:37.820Z"
   },
   {
    "duration": 23,
    "start_time": "2023-12-08T14:14:37.827Z"
   },
   {
    "duration": 22,
    "start_time": "2023-12-08T14:14:37.852Z"
   },
   {
    "duration": 18,
    "start_time": "2023-12-08T14:14:37.875Z"
   },
   {
    "duration": 24,
    "start_time": "2023-12-08T14:14:37.895Z"
   },
   {
    "duration": 12,
    "start_time": "2023-12-08T14:14:37.921Z"
   },
   {
    "duration": 24,
    "start_time": "2023-12-08T14:14:37.935Z"
   },
   {
    "duration": 7,
    "start_time": "2023-12-08T14:14:37.960Z"
   },
   {
    "duration": 21,
    "start_time": "2023-12-08T14:14:37.969Z"
   },
   {
    "duration": 25,
    "start_time": "2023-12-08T14:14:37.991Z"
   },
   {
    "duration": 4,
    "start_time": "2023-12-08T14:14:38.018Z"
   },
   {
    "duration": 22,
    "start_time": "2023-12-08T14:14:38.024Z"
   },
   {
    "duration": 24,
    "start_time": "2023-12-08T14:14:38.047Z"
   },
   {
    "duration": 8,
    "start_time": "2023-12-08T14:14:38.072Z"
   },
   {
    "duration": 128,
    "start_time": "2023-12-08T14:14:38.081Z"
   },
   {
    "duration": 3,
    "start_time": "2023-12-08T14:14:38.210Z"
   },
   {
    "duration": 8,
    "start_time": "2023-12-08T14:14:38.214Z"
   },
   {
    "duration": 9,
    "start_time": "2023-12-08T14:14:38.223Z"
   },
   {
    "duration": 895,
    "start_time": "2023-12-08T14:15:48.527Z"
   },
   {
    "duration": 3,
    "start_time": "2023-12-08T14:19:49.087Z"
   },
   {
    "duration": 4,
    "start_time": "2023-12-08T14:19:49.093Z"
   },
   {
    "duration": 5,
    "start_time": "2023-12-08T14:19:49.100Z"
   },
   {
    "duration": 12,
    "start_time": "2023-12-08T14:19:49.107Z"
   },
   {
    "duration": 7,
    "start_time": "2023-12-08T14:19:49.121Z"
   },
   {
    "duration": 15,
    "start_time": "2023-12-08T14:19:49.130Z"
   },
   {
    "duration": 29,
    "start_time": "2023-12-08T14:19:49.147Z"
   },
   {
    "duration": 4,
    "start_time": "2023-12-08T14:19:49.178Z"
   },
   {
    "duration": 6,
    "start_time": "2023-12-08T14:19:49.184Z"
   },
   {
    "duration": 25,
    "start_time": "2023-12-08T14:19:49.192Z"
   },
   {
    "duration": 3,
    "start_time": "2023-12-08T14:19:49.219Z"
   },
   {
    "duration": 15,
    "start_time": "2023-12-08T14:19:49.224Z"
   },
   {
    "duration": 17,
    "start_time": "2023-12-08T14:19:49.241Z"
   },
   {
    "duration": 8,
    "start_time": "2023-12-08T14:19:49.260Z"
   },
   {
    "duration": 4098,
    "start_time": "2023-12-08T14:19:49.270Z"
   },
   {
    "duration": 34,
    "start_time": "2023-12-08T14:19:53.370Z"
   },
   {
    "duration": 15,
    "start_time": "2023-12-08T14:19:53.405Z"
   },
   {
    "duration": 24,
    "start_time": "2023-12-08T14:19:53.422Z"
   },
   {
    "duration": 7,
    "start_time": "2023-12-08T14:19:53.449Z"
   },
   {
    "duration": 30,
    "start_time": "2023-12-08T14:19:53.457Z"
   },
   {
    "duration": 8,
    "start_time": "2023-12-08T14:19:53.489Z"
   },
   {
    "duration": 20,
    "start_time": "2023-12-08T14:19:53.498Z"
   },
   {
    "duration": 29,
    "start_time": "2023-12-08T14:19:53.519Z"
   },
   {
    "duration": 69,
    "start_time": "2023-12-08T14:19:53.550Z"
   },
   {
    "duration": 12,
    "start_time": "2023-12-08T14:19:53.620Z"
   },
   {
    "duration": 86,
    "start_time": "2023-12-08T14:19:53.633Z"
   },
   {
    "duration": 29,
    "start_time": "2023-12-08T14:19:53.720Z"
   },
   {
    "duration": 36,
    "start_time": "2023-12-08T14:19:53.750Z"
   },
   {
    "duration": 923,
    "start_time": "2023-12-08T14:19:53.788Z"
   },
   {
    "duration": 3,
    "start_time": "2023-12-08T14:19:54.712Z"
   },
   {
    "duration": 22,
    "start_time": "2023-12-08T14:19:54.716Z"
   },
   {
    "duration": 32,
    "start_time": "2023-12-08T14:19:54.739Z"
   },
   {
    "duration": 1402,
    "start_time": "2023-12-08T14:19:54.772Z"
   },
   {
    "duration": 3,
    "start_time": "2023-12-08T14:19:56.176Z"
   },
   {
    "duration": 11,
    "start_time": "2023-12-08T14:19:56.180Z"
   },
   {
    "duration": 22,
    "start_time": "2023-12-08T14:19:56.215Z"
   },
   {
    "duration": 2356,
    "start_time": "2023-12-08T14:19:56.239Z"
   },
   {
    "duration": 79,
    "start_time": "2023-12-08T14:19:58.597Z"
   },
   {
    "duration": 3,
    "start_time": "2023-12-08T14:19:58.678Z"
   },
   {
    "duration": 7,
    "start_time": "2023-12-08T14:19:58.682Z"
   },
   {
    "duration": 3295,
    "start_time": "2023-12-08T14:19:58.690Z"
   },
   {
    "duration": 2690,
    "start_time": "2023-12-08T14:20:01.989Z"
   },
   {
    "duration": 1430,
    "start_time": "2023-12-08T14:20:04.680Z"
   },
   {
    "duration": 4,
    "start_time": "2023-12-08T14:20:06.112Z"
   },
   {
    "duration": 45,
    "start_time": "2023-12-08T14:20:06.118Z"
   },
   {
    "duration": 15,
    "start_time": "2023-12-08T14:20:06.165Z"
   },
   {
    "duration": 2923,
    "start_time": "2023-12-08T14:20:06.182Z"
   },
   {
    "duration": 15,
    "start_time": "2023-12-08T14:20:09.107Z"
   },
   {
    "duration": 14,
    "start_time": "2023-12-08T14:20:09.124Z"
   },
   {
    "duration": 10,
    "start_time": "2023-12-08T14:20:09.140Z"
   },
   {
    "duration": 21,
    "start_time": "2023-12-08T14:20:09.151Z"
   },
   {
    "duration": 53,
    "start_time": "2023-12-08T14:20:09.174Z"
   },
   {
    "duration": 4,
    "start_time": "2023-12-08T14:20:09.229Z"
   },
   {
    "duration": 55,
    "start_time": "2023-12-08T14:20:09.234Z"
   },
   {
    "duration": 1769,
    "start_time": "2023-12-08T14:20:09.291Z"
   },
   {
    "duration": 14,
    "start_time": "2023-12-08T14:20:11.062Z"
   },
   {
    "duration": 27,
    "start_time": "2023-12-08T14:20:11.078Z"
   },
   {
    "duration": 58,
    "start_time": "2023-12-08T14:20:11.107Z"
   },
   {
    "duration": 77,
    "start_time": "2023-12-08T14:20:11.166Z"
   },
   {
    "duration": 25,
    "start_time": "2023-12-08T14:20:11.245Z"
   },
   {
    "duration": 3,
    "start_time": "2023-12-08T14:20:11.271Z"
   },
   {
    "duration": 22,
    "start_time": "2023-12-08T14:20:11.276Z"
   },
   {
    "duration": 111,
    "start_time": "2023-12-08T14:20:11.300Z"
   },
   {
    "duration": 80,
    "start_time": "2023-12-08T14:20:11.413Z"
   },
   {
    "duration": 174,
    "start_time": "2023-12-08T14:20:11.495Z"
   },
   {
    "duration": 5,
    "start_time": "2023-12-08T14:20:11.670Z"
   },
   {
    "duration": 29,
    "start_time": "2023-12-08T14:20:11.676Z"
   },
   {
    "duration": 20,
    "start_time": "2023-12-08T14:20:11.707Z"
   },
   {
    "duration": 22,
    "start_time": "2023-12-08T14:20:11.728Z"
   },
   {
    "duration": 22,
    "start_time": "2023-12-08T14:20:11.752Z"
   },
   {
    "duration": 29,
    "start_time": "2023-12-08T14:20:11.775Z"
   },
   {
    "duration": 100,
    "start_time": "2023-12-08T14:20:11.805Z"
   },
   {
    "duration": 189,
    "start_time": "2023-12-08T14:20:11.906Z"
   },
   {
    "duration": 96,
    "start_time": "2023-12-08T14:20:12.096Z"
   },
   {
    "duration": 199,
    "start_time": "2023-12-08T14:20:12.194Z"
   },
   {
    "duration": 4,
    "start_time": "2023-12-08T14:20:12.395Z"
   },
   {
    "duration": 44,
    "start_time": "2023-12-08T14:20:12.400Z"
   },
   {
    "duration": 24,
    "start_time": "2023-12-08T14:20:12.445Z"
   },
   {
    "duration": 36,
    "start_time": "2023-12-08T14:20:12.471Z"
   },
   {
    "duration": 31,
    "start_time": "2023-12-08T14:20:12.509Z"
   },
   {
    "duration": 39,
    "start_time": "2023-12-08T14:20:12.542Z"
   },
   {
    "duration": 121,
    "start_time": "2023-12-08T14:20:12.583Z"
   },
   {
    "duration": 117,
    "start_time": "2023-12-08T14:20:12.705Z"
   },
   {
    "duration": 177,
    "start_time": "2023-12-08T14:20:12.823Z"
   },
   {
    "duration": 6,
    "start_time": "2023-12-08T14:20:13.001Z"
   },
   {
    "duration": 34,
    "start_time": "2023-12-08T14:20:13.008Z"
   },
   {
    "duration": 18,
    "start_time": "2023-12-08T14:20:13.044Z"
   },
   {
    "duration": 21,
    "start_time": "2023-12-08T14:20:13.064Z"
   },
   {
    "duration": 22,
    "start_time": "2023-12-08T14:20:13.086Z"
   },
   {
    "duration": 31,
    "start_time": "2023-12-08T14:20:13.110Z"
   },
   {
    "duration": 38,
    "start_time": "2023-12-08T14:20:13.142Z"
   },
   {
    "duration": 17,
    "start_time": "2023-12-08T14:20:13.181Z"
   },
   {
    "duration": 18,
    "start_time": "2023-12-08T14:20:13.200Z"
   },
   {
    "duration": 9,
    "start_time": "2023-12-08T14:20:13.219Z"
   },
   {
    "duration": 28,
    "start_time": "2023-12-08T14:20:13.230Z"
   },
   {
    "duration": 31,
    "start_time": "2023-12-08T14:20:13.259Z"
   },
   {
    "duration": 34,
    "start_time": "2023-12-08T14:20:13.292Z"
   },
   {
    "duration": 9,
    "start_time": "2023-12-08T14:20:13.327Z"
   },
   {
    "duration": 17,
    "start_time": "2023-12-08T14:20:13.338Z"
   },
   {
    "duration": 5,
    "start_time": "2023-12-08T14:20:13.357Z"
   },
   {
    "duration": 19,
    "start_time": "2023-12-08T14:20:13.363Z"
   },
   {
    "duration": 859,
    "start_time": "2023-12-08T14:20:13.384Z"
   },
   {
    "duration": 5,
    "start_time": "2023-12-08T14:25:08.260Z"
   },
   {
    "duration": 16,
    "start_time": "2023-12-08T14:25:08.849Z"
   },
   {
    "duration": 15,
    "start_time": "2023-12-08T14:25:15.156Z"
   },
   {
    "duration": 3,
    "start_time": "2023-12-08T14:25:18.862Z"
   },
   {
    "duration": 3,
    "start_time": "2023-12-08T14:25:19.319Z"
   },
   {
    "duration": 2,
    "start_time": "2023-12-08T14:25:19.773Z"
   },
   {
    "duration": 2,
    "start_time": "2023-12-08T14:25:20.227Z"
   },
   {
    "duration": 925,
    "start_time": "2023-12-08T14:25:21.047Z"
   },
   {
    "duration": 3,
    "start_time": "2023-12-08T14:27:10.402Z"
   },
   {
    "duration": 4,
    "start_time": "2023-12-08T14:27:10.408Z"
   },
   {
    "duration": 28,
    "start_time": "2023-12-08T14:27:10.417Z"
   },
   {
    "duration": 2775,
    "start_time": "2023-12-08T14:27:10.448Z"
   },
   {
    "duration": 102,
    "start_time": "2023-12-08T14:27:13.224Z"
   },
   {
    "duration": 2,
    "start_time": "2023-12-08T14:27:13.328Z"
   },
   {
    "duration": 34,
    "start_time": "2023-12-08T14:27:13.332Z"
   },
   {
    "duration": 2671,
    "start_time": "2023-12-08T14:27:13.367Z"
   },
   {
    "duration": 2621,
    "start_time": "2023-12-08T14:27:16.040Z"
   },
   {
    "duration": 1385,
    "start_time": "2023-12-08T14:27:18.662Z"
   },
   {
    "duration": 3,
    "start_time": "2023-12-08T14:27:20.049Z"
   },
   {
    "duration": 32,
    "start_time": "2023-12-08T14:27:20.058Z"
   },
   {
    "duration": 3,
    "start_time": "2023-12-08T14:27:20.091Z"
   },
   {
    "duration": 2689,
    "start_time": "2023-12-08T14:27:20.095Z"
   },
   {
    "duration": 15,
    "start_time": "2023-12-08T14:27:22.786Z"
   },
   {
    "duration": 19,
    "start_time": "2023-12-08T14:27:22.803Z"
   },
   {
    "duration": 36,
    "start_time": "2023-12-08T14:27:22.830Z"
   },
   {
    "duration": 24,
    "start_time": "2023-12-08T14:27:22.868Z"
   },
   {
    "duration": 38,
    "start_time": "2023-12-08T14:27:22.894Z"
   },
   {
    "duration": 4,
    "start_time": "2023-12-08T14:27:22.934Z"
   },
   {
    "duration": 41,
    "start_time": "2023-12-08T14:27:22.940Z"
   },
   {
    "duration": 1736,
    "start_time": "2023-12-08T14:27:22.983Z"
   },
   {
    "duration": 13,
    "start_time": "2023-12-08T14:27:24.726Z"
   },
   {
    "duration": 18,
    "start_time": "2023-12-08T14:27:24.741Z"
   },
   {
    "duration": 8,
    "start_time": "2023-12-08T14:27:24.761Z"
   },
   {
    "duration": 12,
    "start_time": "2023-12-08T14:27:24.770Z"
   },
   {
    "duration": 41,
    "start_time": "2023-12-08T14:27:24.783Z"
   },
   {
    "duration": 6,
    "start_time": "2023-12-08T14:27:24.825Z"
   },
   {
    "duration": 29,
    "start_time": "2023-12-08T14:27:24.833Z"
   },
   {
    "duration": 99,
    "start_time": "2023-12-08T14:27:24.866Z"
   },
   {
    "duration": 97,
    "start_time": "2023-12-08T14:27:24.967Z"
   },
   {
    "duration": 191,
    "start_time": "2023-12-08T14:27:25.066Z"
   },
   {
    "duration": 5,
    "start_time": "2023-12-08T14:27:25.259Z"
   },
   {
    "duration": 36,
    "start_time": "2023-12-08T14:27:25.266Z"
   },
   {
    "duration": 28,
    "start_time": "2023-12-08T14:27:25.304Z"
   },
   {
    "duration": 11,
    "start_time": "2023-12-08T14:27:25.334Z"
   },
   {
    "duration": 7,
    "start_time": "2023-12-08T14:27:25.347Z"
   },
   {
    "duration": 22,
    "start_time": "2023-12-08T14:27:25.355Z"
   },
   {
    "duration": 122,
    "start_time": "2023-12-08T14:27:25.379Z"
   },
   {
    "duration": 95,
    "start_time": "2023-12-08T14:27:25.503Z"
   },
   {
    "duration": 153,
    "start_time": "2023-12-08T14:27:25.601Z"
   },
   {
    "duration": 216,
    "start_time": "2023-12-08T14:27:25.755Z"
   },
   {
    "duration": 5,
    "start_time": "2023-12-08T14:27:25.973Z"
   },
   {
    "duration": 35,
    "start_time": "2023-12-08T14:27:25.979Z"
   },
   {
    "duration": 15,
    "start_time": "2023-12-08T14:27:26.017Z"
   },
   {
    "duration": 20,
    "start_time": "2023-12-08T14:27:26.034Z"
   },
   {
    "duration": 7,
    "start_time": "2023-12-08T14:27:26.056Z"
   },
   {
    "duration": 28,
    "start_time": "2023-12-08T14:27:26.065Z"
   },
   {
    "duration": 91,
    "start_time": "2023-12-08T14:27:26.095Z"
   },
   {
    "duration": 92,
    "start_time": "2023-12-08T14:27:26.188Z"
   },
   {
    "duration": 278,
    "start_time": "2023-12-08T14:27:26.281Z"
   },
   {
    "duration": 6,
    "start_time": "2023-12-08T14:27:26.560Z"
   },
   {
    "duration": 38,
    "start_time": "2023-12-08T14:27:26.567Z"
   },
   {
    "duration": 30,
    "start_time": "2023-12-08T14:27:26.606Z"
   },
   {
    "duration": 12,
    "start_time": "2023-12-08T14:27:26.638Z"
   },
   {
    "duration": 23,
    "start_time": "2023-12-08T14:27:26.651Z"
   },
   {
    "duration": 15,
    "start_time": "2023-12-08T14:27:26.676Z"
   },
   {
    "duration": 36,
    "start_time": "2023-12-08T14:27:26.692Z"
   },
   {
    "duration": 8,
    "start_time": "2023-12-08T14:27:26.730Z"
   },
   {
    "duration": 12,
    "start_time": "2023-12-08T14:27:26.740Z"
   },
   {
    "duration": 8,
    "start_time": "2023-12-08T14:27:26.753Z"
   },
   {
    "duration": 4,
    "start_time": "2023-12-08T14:27:26.762Z"
   },
   {
    "duration": 18,
    "start_time": "2023-12-08T14:27:26.768Z"
   },
   {
    "duration": 42,
    "start_time": "2023-12-08T14:27:26.787Z"
   },
   {
    "duration": 940,
    "start_time": "2023-12-08T14:27:26.832Z"
   },
   {
    "duration": 3,
    "start_time": "2023-12-08T14:28:47.968Z"
   },
   {
    "duration": 40,
    "start_time": "2023-12-08T14:28:47.974Z"
   },
   {
    "duration": 38,
    "start_time": "2023-12-08T14:28:48.016Z"
   },
   {
    "duration": 2650,
    "start_time": "2023-12-08T14:28:48.055Z"
   },
   {
    "duration": 88,
    "start_time": "2023-12-08T14:28:50.707Z"
   },
   {
    "duration": 3,
    "start_time": "2023-12-08T14:28:50.796Z"
   },
   {
    "duration": 12,
    "start_time": "2023-12-08T14:28:50.800Z"
   },
   {
    "duration": 2451,
    "start_time": "2023-12-08T14:28:50.814Z"
   },
   {
    "duration": 2627,
    "start_time": "2023-12-08T14:28:53.267Z"
   },
   {
    "duration": 1454,
    "start_time": "2023-12-08T14:28:55.896Z"
   },
   {
    "duration": 3,
    "start_time": "2023-12-08T14:28:57.353Z"
   },
   {
    "duration": 21,
    "start_time": "2023-12-08T14:28:57.357Z"
   },
   {
    "duration": 3,
    "start_time": "2023-12-08T14:28:57.379Z"
   },
   {
    "duration": 2387,
    "start_time": "2023-12-08T14:28:57.383Z"
   },
   {
    "duration": 16,
    "start_time": "2023-12-08T14:28:59.772Z"
   },
   {
    "duration": 15,
    "start_time": "2023-12-08T14:28:59.790Z"
   },
   {
    "duration": 27,
    "start_time": "2023-12-08T14:28:59.806Z"
   },
   {
    "duration": 33,
    "start_time": "2023-12-08T14:28:59.835Z"
   },
   {
    "duration": 41,
    "start_time": "2023-12-08T14:28:59.869Z"
   },
   {
    "duration": 13,
    "start_time": "2023-12-08T14:28:59.912Z"
   },
   {
    "duration": 47,
    "start_time": "2023-12-08T14:28:59.927Z"
   },
   {
    "duration": 2413,
    "start_time": "2023-12-08T14:28:59.976Z"
   },
   {
    "duration": 11,
    "start_time": "2023-12-08T14:29:02.391Z"
   },
   {
    "duration": 29,
    "start_time": "2023-12-08T14:29:02.404Z"
   },
   {
    "duration": 22,
    "start_time": "2023-12-08T14:29:02.434Z"
   },
   {
    "duration": 32,
    "start_time": "2023-12-08T14:29:02.457Z"
   },
   {
    "duration": 41,
    "start_time": "2023-12-08T14:29:02.491Z"
   },
   {
    "duration": 18,
    "start_time": "2023-12-08T14:29:02.534Z"
   },
   {
    "duration": 53,
    "start_time": "2023-12-08T14:29:02.557Z"
   },
   {
    "duration": 139,
    "start_time": "2023-12-08T14:29:02.612Z"
   },
   {
    "duration": 103,
    "start_time": "2023-12-08T14:29:02.752Z"
   },
   {
    "duration": 197,
    "start_time": "2023-12-08T14:29:02.857Z"
   },
   {
    "duration": 6,
    "start_time": "2023-12-08T14:29:03.056Z"
   },
   {
    "duration": 47,
    "start_time": "2023-12-08T14:29:03.063Z"
   },
   {
    "duration": 15,
    "start_time": "2023-12-08T14:29:03.112Z"
   },
   {
    "duration": 12,
    "start_time": "2023-12-08T14:29:03.133Z"
   },
   {
    "duration": 28,
    "start_time": "2023-12-08T14:29:03.147Z"
   },
   {
    "duration": 33,
    "start_time": "2023-12-08T14:29:03.176Z"
   },
   {
    "duration": 101,
    "start_time": "2023-12-08T14:29:03.211Z"
   },
   {
    "duration": 115,
    "start_time": "2023-12-08T14:29:03.318Z"
   },
   {
    "duration": 97,
    "start_time": "2023-12-08T14:29:03.435Z"
   },
   {
    "duration": 169,
    "start_time": "2023-12-08T14:29:03.533Z"
   },
   {
    "duration": 5,
    "start_time": "2023-12-08T14:29:03.704Z"
   },
   {
    "duration": 21,
    "start_time": "2023-12-08T14:29:03.711Z"
   },
   {
    "duration": 7,
    "start_time": "2023-12-08T14:29:03.734Z"
   },
   {
    "duration": 14,
    "start_time": "2023-12-08T14:29:03.742Z"
   },
   {
    "duration": 3,
    "start_time": "2023-12-08T14:29:03.757Z"
   },
   {
    "duration": 23,
    "start_time": "2023-12-08T14:29:03.762Z"
   },
   {
    "duration": 94,
    "start_time": "2023-12-08T14:29:03.787Z"
   },
   {
    "duration": 88,
    "start_time": "2023-12-08T14:29:03.882Z"
   },
   {
    "duration": 171,
    "start_time": "2023-12-08T14:29:03.972Z"
   },
   {
    "duration": 6,
    "start_time": "2023-12-08T14:29:04.144Z"
   },
   {
    "duration": 22,
    "start_time": "2023-12-08T14:29:04.152Z"
   },
   {
    "duration": 8,
    "start_time": "2023-12-08T14:29:04.176Z"
   },
   {
    "duration": 38,
    "start_time": "2023-12-08T14:29:04.187Z"
   },
   {
    "duration": 17,
    "start_time": "2023-12-08T14:29:04.227Z"
   },
   {
    "duration": 9,
    "start_time": "2023-12-08T14:29:04.245Z"
   },
   {
    "duration": 29,
    "start_time": "2023-12-08T14:29:04.255Z"
   },
   {
    "duration": 44,
    "start_time": "2023-12-08T14:29:04.286Z"
   },
   {
    "duration": 17,
    "start_time": "2023-12-08T14:29:04.333Z"
   },
   {
    "duration": 15,
    "start_time": "2023-12-08T14:29:04.351Z"
   },
   {
    "duration": 9,
    "start_time": "2023-12-08T14:29:04.368Z"
   },
   {
    "duration": 18,
    "start_time": "2023-12-08T14:29:04.378Z"
   },
   {
    "duration": 38,
    "start_time": "2023-12-08T14:29:04.398Z"
   },
   {
    "duration": 1118,
    "start_time": "2023-12-08T14:29:04.438Z"
   },
   {
    "duration": 40,
    "start_time": "2023-12-08T14:44:07.253Z"
   },
   {
    "duration": 3,
    "start_time": "2023-12-08T14:44:30.453Z"
   },
   {
    "duration": 110,
    "start_time": "2023-12-08T14:44:30.924Z"
   },
   {
    "duration": 128,
    "start_time": "2023-12-08T14:44:32.362Z"
   },
   {
    "duration": 84,
    "start_time": "2023-12-08T14:44:40.092Z"
   },
   {
    "duration": 83,
    "start_time": "2023-12-08T14:44:43.537Z"
   },
   {
    "duration": 100,
    "start_time": "2023-12-08T14:44:47.868Z"
   },
   {
    "duration": 108,
    "start_time": "2023-12-08T14:48:17.381Z"
   },
   {
    "duration": 109,
    "start_time": "2023-12-08T14:48:27.852Z"
   },
   {
    "duration": 105,
    "start_time": "2023-12-08T14:50:53.359Z"
   },
   {
    "duration": 120,
    "start_time": "2023-12-08T14:51:15.308Z"
   },
   {
    "duration": 84,
    "start_time": "2023-12-08T14:51:19.269Z"
   },
   {
    "duration": 114,
    "start_time": "2023-12-08T14:51:23.102Z"
   },
   {
    "duration": 101,
    "start_time": "2023-12-08T14:51:27.301Z"
   },
   {
    "duration": 98,
    "start_time": "2023-12-08T14:51:32.661Z"
   },
   {
    "duration": 100,
    "start_time": "2023-12-08T14:51:41.709Z"
   },
   {
    "duration": 103,
    "start_time": "2023-12-08T14:52:21.864Z"
   },
   {
    "duration": 86,
    "start_time": "2023-12-08T14:54:03.560Z"
   },
   {
    "duration": 56,
    "start_time": "2023-12-08T14:54:39.654Z"
   },
   {
    "duration": 113,
    "start_time": "2023-12-08T14:54:50.289Z"
   },
   {
    "duration": 54,
    "start_time": "2023-12-08T14:56:29.295Z"
   },
   {
    "duration": 2,
    "start_time": "2023-12-08T14:56:42.637Z"
   },
   {
    "duration": 28,
    "start_time": "2023-12-08T14:56:43.198Z"
   },
   {
    "duration": 90,
    "start_time": "2023-12-08T14:56:44.253Z"
   },
   {
    "duration": 94,
    "start_time": "2023-12-08T14:56:47.325Z"
   },
   {
    "duration": 52,
    "start_time": "2023-12-08T14:56:50.261Z"
   },
   {
    "duration": 103,
    "start_time": "2023-12-08T14:57:43.558Z"
   },
   {
    "duration": 245,
    "start_time": "2023-12-08T15:05:51.489Z"
   },
   {
    "duration": 89,
    "start_time": "2023-12-08T15:06:07.020Z"
   },
   {
    "duration": 86,
    "start_time": "2023-12-08T15:06:19.745Z"
   },
   {
    "duration": 113,
    "start_time": "2023-12-08T15:06:51.017Z"
   },
   {
    "duration": 120,
    "start_time": "2023-12-08T15:07:02.777Z"
   },
   {
    "duration": 102,
    "start_time": "2023-12-08T15:07:06.063Z"
   },
   {
    "duration": 83,
    "start_time": "2023-12-08T15:07:11.543Z"
   },
   {
    "duration": 53,
    "start_time": "2023-12-08T15:07:42.793Z"
   },
   {
    "duration": 2,
    "start_time": "2023-12-08T15:08:13.544Z"
   },
   {
    "duration": 115,
    "start_time": "2023-12-08T15:08:13.921Z"
   },
   {
    "duration": 110,
    "start_time": "2023-12-08T15:08:14.760Z"
   },
   {
    "duration": 96,
    "start_time": "2023-12-08T15:08:17.488Z"
   },
   {
    "duration": 123,
    "start_time": "2023-12-08T15:08:19.976Z"
   },
   {
    "duration": 48,
    "start_time": "2023-12-08T15:09:46.579Z"
   },
   {
    "duration": 87,
    "start_time": "2023-12-08T15:09:56.025Z"
   },
   {
    "duration": 115,
    "start_time": "2023-12-08T15:10:13.274Z"
   },
   {
    "duration": 87,
    "start_time": "2023-12-08T15:10:21.617Z"
   },
   {
    "duration": 97,
    "start_time": "2023-12-08T15:10:22.968Z"
   },
   {
    "duration": 211,
    "start_time": "2023-12-08T15:10:25.304Z"
   },
   {
    "duration": 241,
    "start_time": "2023-12-08T15:10:59.986Z"
   },
   {
    "duration": 4,
    "start_time": "2023-12-08T15:11:03.137Z"
   },
   {
    "duration": 15,
    "start_time": "2023-12-08T15:11:03.917Z"
   },
   {
    "duration": 5,
    "start_time": "2023-12-08T15:11:07.017Z"
   },
   {
    "duration": 11,
    "start_time": "2023-12-08T15:11:08.261Z"
   },
   {
    "duration": 5,
    "start_time": "2023-12-08T16:13:22.770Z"
   },
   {
    "duration": 2,
    "start_time": "2023-12-08T16:16:57.068Z"
   },
   {
    "duration": 85,
    "start_time": "2023-12-08T16:17:06.761Z"
   },
   {
    "duration": 3626,
    "start_time": "2023-12-08T16:48:38.082Z"
   },
   {
    "duration": 10,
    "start_time": "2023-12-08T18:25:18.601Z"
   },
   {
    "duration": 138,
    "start_time": "2023-12-08T18:26:13.302Z"
   },
   {
    "duration": 92,
    "start_time": "2023-12-08T18:26:31.513Z"
   },
   {
    "duration": 112,
    "start_time": "2023-12-08T18:36:11.425Z"
   },
   {
    "duration": 207,
    "start_time": "2023-12-08T18:36:49.777Z"
   },
   {
    "duration": 186,
    "start_time": "2023-12-08T18:39:15.914Z"
   },
   {
    "duration": 194,
    "start_time": "2023-12-08T18:40:40.001Z"
   },
   {
    "duration": 904,
    "start_time": "2023-12-08T18:40:54.178Z"
   },
   {
    "duration": 411,
    "start_time": "2023-12-08T18:43:19.858Z"
   },
   {
    "duration": 3172,
    "start_time": "2023-12-10T07:52:39.123Z"
   },
   {
    "duration": 3,
    "start_time": "2023-12-10T07:52:42.297Z"
   },
   {
    "duration": 574,
    "start_time": "2023-12-10T07:52:42.301Z"
   },
   {
    "duration": 54,
    "start_time": "2023-12-10T07:52:42.877Z"
   },
   {
    "duration": 320,
    "start_time": "2023-12-10T07:52:42.933Z"
   },
   {
    "duration": 8,
    "start_time": "2023-12-10T07:52:43.254Z"
   },
   {
    "duration": 27659,
    "start_time": "2023-12-10T07:52:43.263Z"
   },
   {
    "duration": 82,
    "start_time": "2023-12-10T07:53:10.923Z"
   },
   {
    "duration": 125,
    "start_time": "2023-12-10T07:53:11.006Z"
   },
   {
    "duration": 1420,
    "start_time": "2023-12-10T07:53:11.133Z"
   },
   {
    "duration": 3,
    "start_time": "2023-12-10T07:53:12.554Z"
   },
   {
    "duration": 27,
    "start_time": "2023-12-10T07:53:12.558Z"
   },
   {
    "duration": 58938,
    "start_time": "2023-12-10T07:53:12.586Z"
   },
   {
    "duration": 108,
    "start_time": "2023-12-10T07:54:11.525Z"
   },
   {
    "duration": 3,
    "start_time": "2023-12-10T07:54:11.635Z"
   },
   {
    "duration": 4,
    "start_time": "2023-12-10T07:54:11.640Z"
   },
   {
    "duration": 4,
    "start_time": "2023-12-10T07:54:11.645Z"
   },
   {
    "duration": 4,
    "start_time": "2023-12-10T07:54:11.651Z"
   },
   {
    "duration": 10,
    "start_time": "2023-12-10T07:54:11.657Z"
   },
   {
    "duration": 4,
    "start_time": "2023-12-10T07:54:11.668Z"
   },
   {
    "duration": 6,
    "start_time": "2023-12-10T07:54:11.673Z"
   },
   {
    "duration": 20,
    "start_time": "2023-12-10T07:54:11.680Z"
   },
   {
    "duration": 5,
    "start_time": "2023-12-10T07:54:11.701Z"
   },
   {
    "duration": 7,
    "start_time": "2023-12-10T07:54:11.707Z"
   },
   {
    "duration": 44,
    "start_time": "2023-12-10T07:54:11.716Z"
   },
   {
    "duration": 4,
    "start_time": "2023-12-10T07:54:11.762Z"
   },
   {
    "duration": 20,
    "start_time": "2023-12-10T07:54:11.768Z"
   },
   {
    "duration": 12,
    "start_time": "2023-12-10T07:54:11.793Z"
   },
   {
    "duration": 12,
    "start_time": "2023-12-10T07:54:11.807Z"
   },
   {
    "duration": 3838,
    "start_time": "2023-12-10T07:54:11.820Z"
   },
   {
    "duration": 27,
    "start_time": "2023-12-10T07:54:15.659Z"
   },
   {
    "duration": 18,
    "start_time": "2023-12-10T07:54:15.687Z"
   },
   {
    "duration": 17,
    "start_time": "2023-12-10T07:54:15.706Z"
   },
   {
    "duration": 9,
    "start_time": "2023-12-10T07:54:15.724Z"
   },
   {
    "duration": 26,
    "start_time": "2023-12-10T07:54:15.734Z"
   },
   {
    "duration": 5,
    "start_time": "2023-12-10T07:54:15.761Z"
   },
   {
    "duration": 5,
    "start_time": "2023-12-10T07:54:15.768Z"
   },
   {
    "duration": 12,
    "start_time": "2023-12-10T07:54:15.774Z"
   },
   {
    "duration": 46,
    "start_time": "2023-12-10T07:54:15.788Z"
   },
   {
    "duration": 4,
    "start_time": "2023-12-10T07:54:15.836Z"
   },
   {
    "duration": 5,
    "start_time": "2023-12-10T07:54:15.842Z"
   },
   {
    "duration": 5,
    "start_time": "2023-12-10T07:54:15.848Z"
   },
   {
    "duration": 6,
    "start_time": "2023-12-10T07:54:15.855Z"
   },
   {
    "duration": 806,
    "start_time": "2023-12-10T07:54:15.862Z"
   },
   {
    "duration": 2,
    "start_time": "2023-12-10T07:54:16.670Z"
   },
   {
    "duration": 7,
    "start_time": "2023-12-10T07:54:16.673Z"
   },
   {
    "duration": 27,
    "start_time": "2023-12-10T07:54:16.681Z"
   },
   {
    "duration": 92,
    "start_time": "2023-12-10T07:54:16.710Z"
   },
   {
    "duration": 0,
    "start_time": "2023-12-10T07:54:16.804Z"
   },
   {
    "duration": 0,
    "start_time": "2023-12-10T07:54:16.805Z"
   },
   {
    "duration": 0,
    "start_time": "2023-12-10T07:54:16.807Z"
   },
   {
    "duration": 0,
    "start_time": "2023-12-10T07:54:16.808Z"
   },
   {
    "duration": 0,
    "start_time": "2023-12-10T07:54:16.808Z"
   },
   {
    "duration": 0,
    "start_time": "2023-12-10T07:54:16.809Z"
   },
   {
    "duration": 0,
    "start_time": "2023-12-10T07:54:16.810Z"
   },
   {
    "duration": 0,
    "start_time": "2023-12-10T07:54:16.814Z"
   },
   {
    "duration": 0,
    "start_time": "2023-12-10T07:54:16.815Z"
   },
   {
    "duration": 0,
    "start_time": "2023-12-10T07:54:16.816Z"
   },
   {
    "duration": 0,
    "start_time": "2023-12-10T07:54:16.817Z"
   },
   {
    "duration": 0,
    "start_time": "2023-12-10T07:54:16.818Z"
   },
   {
    "duration": 0,
    "start_time": "2023-12-10T07:54:16.818Z"
   },
   {
    "duration": 0,
    "start_time": "2023-12-10T07:54:16.820Z"
   },
   {
    "duration": 0,
    "start_time": "2023-12-10T07:54:16.821Z"
   },
   {
    "duration": 0,
    "start_time": "2023-12-10T07:54:16.822Z"
   },
   {
    "duration": 0,
    "start_time": "2023-12-10T07:54:16.823Z"
   },
   {
    "duration": 0,
    "start_time": "2023-12-10T07:54:16.823Z"
   },
   {
    "duration": 0,
    "start_time": "2023-12-10T07:54:16.824Z"
   },
   {
    "duration": 0,
    "start_time": "2023-12-10T07:54:16.825Z"
   },
   {
    "duration": 0,
    "start_time": "2023-12-10T07:54:16.826Z"
   },
   {
    "duration": 0,
    "start_time": "2023-12-10T07:54:16.827Z"
   },
   {
    "duration": 0,
    "start_time": "2023-12-10T07:54:16.829Z"
   },
   {
    "duration": 0,
    "start_time": "2023-12-10T07:54:16.829Z"
   },
   {
    "duration": 0,
    "start_time": "2023-12-10T07:54:16.830Z"
   },
   {
    "duration": 0,
    "start_time": "2023-12-10T07:54:16.831Z"
   },
   {
    "duration": 0,
    "start_time": "2023-12-10T07:54:16.833Z"
   },
   {
    "duration": 0,
    "start_time": "2023-12-10T07:54:16.833Z"
   },
   {
    "duration": 0,
    "start_time": "2023-12-10T07:54:16.834Z"
   },
   {
    "duration": 0,
    "start_time": "2023-12-10T07:54:16.835Z"
   },
   {
    "duration": 0,
    "start_time": "2023-12-10T07:54:16.836Z"
   },
   {
    "duration": 0,
    "start_time": "2023-12-10T07:54:16.837Z"
   },
   {
    "duration": 0,
    "start_time": "2023-12-10T07:54:16.838Z"
   },
   {
    "duration": 0,
    "start_time": "2023-12-10T07:54:16.839Z"
   },
   {
    "duration": 0,
    "start_time": "2023-12-10T07:54:16.840Z"
   },
   {
    "duration": 0,
    "start_time": "2023-12-10T07:54:16.842Z"
   },
   {
    "duration": 1,
    "start_time": "2023-12-10T07:54:16.842Z"
   },
   {
    "duration": 0,
    "start_time": "2023-12-10T07:54:16.844Z"
   },
   {
    "duration": 0,
    "start_time": "2023-12-10T07:54:16.845Z"
   },
   {
    "duration": 0,
    "start_time": "2023-12-10T07:54:16.846Z"
   },
   {
    "duration": 0,
    "start_time": "2023-12-10T07:54:16.847Z"
   },
   {
    "duration": 0,
    "start_time": "2023-12-10T07:54:16.848Z"
   },
   {
    "duration": 0,
    "start_time": "2023-12-10T07:54:16.849Z"
   },
   {
    "duration": 0,
    "start_time": "2023-12-10T07:54:16.850Z"
   },
   {
    "duration": 0,
    "start_time": "2023-12-10T07:54:16.851Z"
   },
   {
    "duration": 0,
    "start_time": "2023-12-10T07:54:16.915Z"
   },
   {
    "duration": 0,
    "start_time": "2023-12-10T07:54:16.916Z"
   },
   {
    "duration": 0,
    "start_time": "2023-12-10T07:54:16.917Z"
   },
   {
    "duration": 0,
    "start_time": "2023-12-10T07:54:16.918Z"
   },
   {
    "duration": 0,
    "start_time": "2023-12-10T07:54:16.919Z"
   },
   {
    "duration": 0,
    "start_time": "2023-12-10T07:54:16.920Z"
   },
   {
    "duration": 0,
    "start_time": "2023-12-10T07:54:16.921Z"
   },
   {
    "duration": 0,
    "start_time": "2023-12-10T07:54:16.922Z"
   },
   {
    "duration": 0,
    "start_time": "2023-12-10T07:54:16.924Z"
   },
   {
    "duration": 0,
    "start_time": "2023-12-10T07:54:16.924Z"
   },
   {
    "duration": 0,
    "start_time": "2023-12-10T07:54:16.925Z"
   },
   {
    "duration": 0,
    "start_time": "2023-12-10T07:54:16.926Z"
   },
   {
    "duration": 0,
    "start_time": "2023-12-10T07:54:16.927Z"
   },
   {
    "duration": 0,
    "start_time": "2023-12-10T07:54:16.928Z"
   },
   {
    "duration": 0,
    "start_time": "2023-12-10T07:54:16.929Z"
   },
   {
    "duration": 0,
    "start_time": "2023-12-10T07:54:16.930Z"
   },
   {
    "duration": 0,
    "start_time": "2023-12-10T07:54:16.931Z"
   },
   {
    "duration": 0,
    "start_time": "2023-12-10T07:54:16.933Z"
   },
   {
    "duration": 0,
    "start_time": "2023-12-10T07:54:16.933Z"
   },
   {
    "duration": 0,
    "start_time": "2023-12-10T07:54:16.934Z"
   },
   {
    "duration": 0,
    "start_time": "2023-12-10T07:54:16.935Z"
   },
   {
    "duration": 0,
    "start_time": "2023-12-10T07:54:16.936Z"
   },
   {
    "duration": 0,
    "start_time": "2023-12-10T07:54:16.937Z"
   },
   {
    "duration": 0,
    "start_time": "2023-12-10T07:54:16.938Z"
   },
   {
    "duration": 4,
    "start_time": "2023-12-10T08:02:19.213Z"
   },
   {
    "duration": 26,
    "start_time": "2023-12-10T08:02:19.223Z"
   },
   {
    "duration": 19,
    "start_time": "2023-12-10T08:02:19.251Z"
   },
   {
    "duration": 40,
    "start_time": "2023-12-10T08:02:19.272Z"
   },
   {
    "duration": 3962,
    "start_time": "2023-12-10T08:02:19.314Z"
   },
   {
    "duration": 103,
    "start_time": "2023-12-10T08:02:23.277Z"
   },
   {
    "duration": 2,
    "start_time": "2023-12-10T08:02:23.382Z"
   },
   {
    "duration": 41,
    "start_time": "2023-12-10T08:02:23.386Z"
   },
   {
    "duration": 2508,
    "start_time": "2023-12-10T08:02:23.429Z"
   },
   {
    "duration": 2386,
    "start_time": "2023-12-10T08:02:25.938Z"
   },
   {
    "duration": 1653,
    "start_time": "2023-12-10T08:02:28.326Z"
   },
   {
    "duration": 3,
    "start_time": "2023-12-10T08:02:29.981Z"
   },
   {
    "duration": 67,
    "start_time": "2023-12-10T08:02:29.986Z"
   },
   {
    "duration": 53,
    "start_time": "2023-12-10T08:02:30.055Z"
   },
   {
    "duration": 2784,
    "start_time": "2023-12-10T08:02:30.110Z"
   },
   {
    "duration": 13,
    "start_time": "2023-12-10T08:02:32.896Z"
   },
   {
    "duration": 102,
    "start_time": "2023-12-10T08:02:32.910Z"
   },
   {
    "duration": 18,
    "start_time": "2023-12-10T08:02:33.013Z"
   },
   {
    "duration": 37,
    "start_time": "2023-12-10T08:02:33.032Z"
   },
   {
    "duration": 35,
    "start_time": "2023-12-10T08:02:33.070Z"
   },
   {
    "duration": 4,
    "start_time": "2023-12-10T08:02:33.107Z"
   },
   {
    "duration": 42,
    "start_time": "2023-12-10T08:02:33.112Z"
   },
   {
    "duration": 1994,
    "start_time": "2023-12-10T08:02:33.155Z"
   },
   {
    "duration": 10,
    "start_time": "2023-12-10T08:02:35.151Z"
   },
   {
    "duration": 17,
    "start_time": "2023-12-10T08:02:35.162Z"
   },
   {
    "duration": 16,
    "start_time": "2023-12-10T08:02:35.180Z"
   },
   {
    "duration": 27,
    "start_time": "2023-12-10T08:02:35.197Z"
   },
   {
    "duration": 16,
    "start_time": "2023-12-10T08:02:35.225Z"
   },
   {
    "duration": 4,
    "start_time": "2023-12-10T08:02:35.244Z"
   },
   {
    "duration": 26,
    "start_time": "2023-12-10T08:02:35.250Z"
   },
   {
    "duration": 111,
    "start_time": "2023-12-10T08:02:35.278Z"
   },
   {
    "duration": 107,
    "start_time": "2023-12-10T08:02:35.390Z"
   },
   {
    "duration": 187,
    "start_time": "2023-12-10T08:02:35.498Z"
   },
   {
    "duration": 5,
    "start_time": "2023-12-10T08:02:35.686Z"
   },
   {
    "duration": 23,
    "start_time": "2023-12-10T08:02:35.692Z"
   },
   {
    "duration": 11,
    "start_time": "2023-12-10T08:02:35.716Z"
   },
   {
    "duration": 23,
    "start_time": "2023-12-10T08:02:35.729Z"
   },
   {
    "duration": 19,
    "start_time": "2023-12-10T08:02:35.753Z"
   },
   {
    "duration": 28,
    "start_time": "2023-12-10T08:02:35.773Z"
   },
   {
    "duration": 90,
    "start_time": "2023-12-10T08:02:35.803Z"
   },
   {
    "duration": 157,
    "start_time": "2023-12-10T08:02:35.894Z"
   },
   {
    "duration": 96,
    "start_time": "2023-12-10T08:02:36.052Z"
   },
   {
    "duration": 177,
    "start_time": "2023-12-10T08:02:36.149Z"
   },
   {
    "duration": 5,
    "start_time": "2023-12-10T08:02:36.327Z"
   },
   {
    "duration": 22,
    "start_time": "2023-12-10T08:02:36.333Z"
   },
   {
    "duration": 25,
    "start_time": "2023-12-10T08:02:36.357Z"
   },
   {
    "duration": 21,
    "start_time": "2023-12-10T08:02:36.384Z"
   },
   {
    "duration": 6,
    "start_time": "2023-12-10T08:02:36.407Z"
   },
   {
    "duration": 32,
    "start_time": "2023-12-10T08:02:36.414Z"
   },
   {
    "duration": 112,
    "start_time": "2023-12-10T08:02:36.448Z"
   },
   {
    "duration": 88,
    "start_time": "2023-12-10T08:02:36.562Z"
   },
   {
    "duration": 172,
    "start_time": "2023-12-10T08:02:36.652Z"
   },
   {
    "duration": 6,
    "start_time": "2023-12-10T08:02:36.826Z"
   },
   {
    "duration": 17,
    "start_time": "2023-12-10T08:02:36.833Z"
   },
   {
    "duration": 11,
    "start_time": "2023-12-10T08:02:36.852Z"
   },
   {
    "duration": 13,
    "start_time": "2023-12-10T08:02:36.865Z"
   },
   {
    "duration": 41,
    "start_time": "2023-12-10T08:02:36.879Z"
   },
   {
    "duration": 11,
    "start_time": "2023-12-10T08:02:36.922Z"
   },
   {
    "duration": 22,
    "start_time": "2023-12-10T08:02:36.934Z"
   },
   {
    "duration": 7,
    "start_time": "2023-12-10T08:02:36.958Z"
   },
   {
    "duration": 15,
    "start_time": "2023-12-10T08:02:36.966Z"
   },
   {
    "duration": 13,
    "start_time": "2023-12-10T08:02:36.982Z"
   },
   {
    "duration": 5,
    "start_time": "2023-12-10T08:02:37.016Z"
   },
   {
    "duration": 21,
    "start_time": "2023-12-10T08:02:37.023Z"
   },
   {
    "duration": 14,
    "start_time": "2023-12-10T08:02:37.046Z"
   },
   {
    "duration": 826,
    "start_time": "2023-12-10T08:02:37.062Z"
   },
   {
    "duration": 3,
    "start_time": "2023-12-10T08:02:37.890Z"
   },
   {
    "duration": 48,
    "start_time": "2023-12-10T08:02:37.894Z"
   },
   {
    "duration": 2303,
    "start_time": "2023-12-10T08:02:37.943Z"
   },
   {
    "duration": 233,
    "start_time": "2023-12-10T08:02:40.248Z"
   },
   {
    "duration": 117,
    "start_time": "2023-12-10T08:18:08.688Z"
   },
   {
    "duration": 3,
    "start_time": "2023-12-10T08:18:30.822Z"
   },
   {
    "duration": 136,
    "start_time": "2023-12-10T08:18:31.293Z"
   },
   {
    "duration": 3,
    "start_time": "2023-12-10T08:18:32.729Z"
   },
   {
    "duration": 2421,
    "start_time": "2023-12-10T08:18:33.396Z"
   },
   {
    "duration": 102,
    "start_time": "2023-12-10T08:19:21.424Z"
   },
   {
    "duration": 178,
    "start_time": "2023-12-10T08:23:40.175Z"
   },
   {
    "duration": 192,
    "start_time": "2023-12-10T08:24:34.904Z"
   },
   {
    "duration": 186,
    "start_time": "2023-12-10T08:33:55.402Z"
   },
   {
    "duration": 4058,
    "start_time": "2023-12-10T08:34:57.018Z"
   },
   {
    "duration": 3704,
    "start_time": "2023-12-10T08:35:12.659Z"
   },
   {
    "duration": 31,
    "start_time": "2023-12-10T08:37:43.922Z"
   },
   {
    "duration": 180,
    "start_time": "2023-12-10T08:38:17.275Z"
   },
   {
    "duration": 305,
    "start_time": "2023-12-10T08:38:43.100Z"
   },
   {
    "duration": 37,
    "start_time": "2023-12-10T08:41:32.719Z"
   },
   {
    "duration": 36,
    "start_time": "2023-12-10T08:41:47.214Z"
   },
   {
    "duration": 87,
    "start_time": "2023-12-10T08:42:40.964Z"
   },
   {
    "duration": 83,
    "start_time": "2023-12-10T08:42:48.266Z"
   },
   {
    "duration": 106,
    "start_time": "2023-12-10T08:43:33.743Z"
   },
   {
    "duration": 70,
    "start_time": "2023-12-10T08:44:03.109Z"
   },
   {
    "duration": 56,
    "start_time": "2023-12-10T08:44:11.931Z"
   },
   {
    "duration": 116,
    "start_time": "2023-12-10T08:44:17.164Z"
   },
   {
    "duration": 130,
    "start_time": "2023-12-10T08:44:27.181Z"
   },
   {
    "duration": 84,
    "start_time": "2023-12-10T08:45:01.516Z"
   },
   {
    "duration": 84,
    "start_time": "2023-12-10T08:45:11.124Z"
   },
   {
    "duration": 98,
    "start_time": "2023-12-10T08:46:16.772Z"
   },
   {
    "duration": 82,
    "start_time": "2023-12-10T08:46:34.597Z"
   },
   {
    "duration": 91,
    "start_time": "2023-12-10T08:46:46.070Z"
   },
   {
    "duration": 4,
    "start_time": "2023-12-10T08:50:26.282Z"
   },
   {
    "duration": 91,
    "start_time": "2023-12-10T08:50:36.295Z"
   },
   {
    "duration": 221,
    "start_time": "2023-12-10T08:50:54.045Z"
   },
   {
    "duration": 89,
    "start_time": "2023-12-10T08:51:15.662Z"
   },
   {
    "duration": 85,
    "start_time": "2023-12-10T08:51:32.541Z"
   },
   {
    "duration": 2,
    "start_time": "2023-12-10T08:52:11.702Z"
   },
   {
    "duration": 105,
    "start_time": "2023-12-10T08:52:13.695Z"
   },
   {
    "duration": 98,
    "start_time": "2023-12-10T08:52:53.716Z"
   },
   {
    "duration": 95,
    "start_time": "2023-12-10T08:55:47.232Z"
   },
   {
    "duration": 92,
    "start_time": "2023-12-10T08:56:05.287Z"
   },
   {
    "duration": 160,
    "start_time": "2023-12-10T08:57:22.180Z"
   },
   {
    "duration": 83,
    "start_time": "2023-12-10T08:57:34.015Z"
   },
   {
    "duration": 85,
    "start_time": "2023-12-10T08:57:43.312Z"
   },
   {
    "duration": 109,
    "start_time": "2023-12-10T08:57:49.607Z"
   },
   {
    "duration": 87,
    "start_time": "2023-12-10T08:57:59.798Z"
   },
   {
    "duration": 116,
    "start_time": "2023-12-10T08:58:37.545Z"
   },
   {
    "duration": 96,
    "start_time": "2023-12-10T08:59:43.632Z"
   },
   {
    "duration": 377,
    "start_time": "2023-12-10T08:59:58.751Z"
   },
   {
    "duration": 102,
    "start_time": "2023-12-10T09:00:31.640Z"
   },
   {
    "duration": 93,
    "start_time": "2023-12-10T09:00:49.697Z"
   },
   {
    "duration": 94,
    "start_time": "2023-12-10T09:01:26.511Z"
   },
   {
    "duration": 197,
    "start_time": "2023-12-10T09:01:56.471Z"
   },
   {
    "duration": 88,
    "start_time": "2023-12-10T09:02:09.446Z"
   },
   {
    "duration": 314,
    "start_time": "2023-12-10T09:02:47.768Z"
   },
   {
    "duration": 99,
    "start_time": "2023-12-10T09:02:49.432Z"
   },
   {
    "duration": 81,
    "start_time": "2023-12-10T09:02:58.367Z"
   },
   {
    "duration": 1854,
    "start_time": "2023-12-10T09:03:17.568Z"
   },
   {
    "duration": 85,
    "start_time": "2023-12-10T09:03:56.048Z"
   },
   {
    "duration": 244,
    "start_time": "2023-12-10T09:04:29.978Z"
   },
   {
    "duration": 116,
    "start_time": "2023-12-10T09:04:31.090Z"
   },
   {
    "duration": 255,
    "start_time": "2023-12-10T09:05:05.019Z"
   },
   {
    "duration": 219,
    "start_time": "2023-12-10T09:05:25.592Z"
   },
   {
    "duration": 113,
    "start_time": "2023-12-10T09:05:31.932Z"
   },
   {
    "duration": 257,
    "start_time": "2023-12-10T09:05:45.744Z"
   },
   {
    "duration": 81,
    "start_time": "2023-12-10T09:05:48.052Z"
   },
   {
    "duration": 173,
    "start_time": "2023-12-10T09:08:06.159Z"
   },
   {
    "duration": 188,
    "start_time": "2023-12-10T09:08:16.209Z"
   },
   {
    "duration": 168,
    "start_time": "2023-12-10T09:08:19.484Z"
   },
   {
    "duration": 94,
    "start_time": "2023-12-10T09:08:20.265Z"
   },
   {
    "duration": 4530,
    "start_time": "2023-12-10T09:09:11.732Z"
   },
   {
    "duration": 3,
    "start_time": "2023-12-10T09:09:50.121Z"
   },
   {
    "duration": 84,
    "start_time": "2023-12-10T09:09:50.663Z"
   },
   {
    "duration": 4,
    "start_time": "2023-12-10T09:09:52.984Z"
   },
   {
    "duration": 4067,
    "start_time": "2023-12-10T09:09:57.816Z"
   },
   {
    "duration": 15,
    "start_time": "2023-12-10T09:11:37.906Z"
   },
   {
    "duration": 15,
    "start_time": "2023-12-10T09:11:40.996Z"
   },
   {
    "duration": 521,
    "start_time": "2023-12-10T09:11:54.988Z"
   },
   {
    "duration": 428,
    "start_time": "2023-12-10T09:15:26.229Z"
   },
   {
    "duration": 256,
    "start_time": "2023-12-10T09:15:57.904Z"
   },
   {
    "duration": 428,
    "start_time": "2023-12-10T09:16:40.484Z"
   },
   {
    "duration": 3951,
    "start_time": "2023-12-10T09:17:18.816Z"
   },
   {
    "duration": 2,
    "start_time": "2023-12-10T09:17:26.022Z"
   },
   {
    "duration": 21,
    "start_time": "2023-12-10T09:17:27.227Z"
   },
   {
    "duration": 20,
    "start_time": "2023-12-10T09:17:28.652Z"
   },
   {
    "duration": 62,
    "start_time": "2023-12-10T09:21:09.653Z"
   },
   {
    "duration": 65,
    "start_time": "2023-12-10T09:21:18.459Z"
   },
   {
    "duration": 44,
    "start_time": "2023-12-10T09:21:28.836Z"
   },
   {
    "duration": 52,
    "start_time": "2023-12-10T09:22:13.421Z"
   },
   {
    "duration": 455,
    "start_time": "2023-12-10T09:22:26.784Z"
   },
   {
    "duration": 3,
    "start_time": "2023-12-10T09:22:40.926Z"
   },
   {
    "duration": 28,
    "start_time": "2023-12-10T09:22:41.419Z"
   },
   {
    "duration": 3775,
    "start_time": "2023-12-10T09:22:45.006Z"
   },
   {
    "duration": 3677,
    "start_time": "2023-12-10T09:23:34.438Z"
   },
   {
    "duration": 3666,
    "start_time": "2023-12-10T09:24:16.703Z"
   },
   {
    "duration": 169,
    "start_time": "2023-12-10T09:27:49.232Z"
   },
   {
    "duration": 2481,
    "start_time": "2023-12-10T09:28:08.128Z"
   },
   {
    "duration": 2703,
    "start_time": "2023-12-10T09:28:18.647Z"
   },
   {
    "duration": 2375,
    "start_time": "2023-12-10T09:28:35.902Z"
   },
   {
    "duration": 2,
    "start_time": "2023-12-10T09:36:31.614Z"
   },
   {
    "duration": 18,
    "start_time": "2023-12-10T09:36:40.699Z"
   },
   {
    "duration": 16,
    "start_time": "2023-12-10T09:36:43.073Z"
   },
   {
    "duration": 3,
    "start_time": "2023-12-10T09:37:37.543Z"
   },
   {
    "duration": 132,
    "start_time": "2023-12-10T09:37:39.097Z"
   },
   {
    "duration": 1985,
    "start_time": "2023-12-10T09:37:41.360Z"
   },
   {
    "duration": 13,
    "start_time": "2023-12-10T09:37:47.039Z"
   },
   {
    "duration": 15,
    "start_time": "2023-12-10T09:37:48.328Z"
   },
   {
    "duration": 1578,
    "start_time": "2023-12-10T09:44:48.005Z"
   },
   {
    "duration": 3,
    "start_time": "2023-12-10T09:44:58.488Z"
   },
   {
    "duration": 66,
    "start_time": "2023-12-10T09:44:59.464Z"
   },
   {
    "duration": 2652,
    "start_time": "2023-12-10T09:45:08.265Z"
   },
   {
    "duration": 2,
    "start_time": "2023-12-10T09:45:15.480Z"
   },
   {
    "duration": 15,
    "start_time": "2023-12-10T09:45:16.503Z"
   },
   {
    "duration": 13,
    "start_time": "2023-12-10T09:45:18.025Z"
   },
   {
    "duration": 4,
    "start_time": "2023-12-10T09:45:44.065Z"
   },
   {
    "duration": 24,
    "start_time": "2023-12-10T09:45:44.416Z"
   },
   {
    "duration": 57,
    "start_time": "2023-12-10T09:46:23.132Z"
   },
   {
    "duration": 1811,
    "start_time": "2023-12-10T09:46:32.552Z"
   },
   {
    "duration": 11,
    "start_time": "2023-12-10T09:46:37.663Z"
   },
   {
    "duration": 14,
    "start_time": "2023-12-10T09:46:39.715Z"
   },
   {
    "duration": 94,
    "start_time": "2023-12-10T09:51:59.445Z"
   },
   {
    "duration": 1613,
    "start_time": "2023-12-10T09:52:10.515Z"
   },
   {
    "duration": 3,
    "start_time": "2023-12-10T09:52:33.624Z"
   },
   {
    "duration": 25,
    "start_time": "2023-12-10T09:52:34.212Z"
   },
   {
    "duration": 1696,
    "start_time": "2023-12-10T09:52:36.353Z"
   },
   {
    "duration": 1538,
    "start_time": "2023-12-10T09:52:56.652Z"
   },
   {
    "duration": 1522,
    "start_time": "2023-12-10T09:53:27.588Z"
   },
   {
    "duration": 1690,
    "start_time": "2023-12-10T09:54:12.836Z"
   },
   {
    "duration": 3,
    "start_time": "2023-12-10T09:58:03.206Z"
   },
   {
    "duration": 75,
    "start_time": "2023-12-10T09:58:03.979Z"
   },
   {
    "duration": 4147,
    "start_time": "2023-12-10T09:58:16.077Z"
   },
   {
    "duration": 22,
    "start_time": "2023-12-10T09:58:26.603Z"
   },
   {
    "duration": 14,
    "start_time": "2023-12-10T09:58:28.374Z"
   },
   {
    "duration": 4,
    "start_time": "2023-12-10T10:05:55.773Z"
   },
   {
    "duration": 26,
    "start_time": "2023-12-10T10:05:56.502Z"
   },
   {
    "duration": 4616,
    "start_time": "2023-12-10T10:05:59.269Z"
   },
   {
    "duration": 34,
    "start_time": "2023-12-10T10:06:13.316Z"
   },
   {
    "duration": 14,
    "start_time": "2023-12-10T10:06:14.103Z"
   },
   {
    "duration": 41,
    "start_time": "2023-12-10T10:06:54.757Z"
   },
   {
    "duration": 18,
    "start_time": "2023-12-10T10:07:39.607Z"
   },
   {
    "duration": 5206,
    "start_time": "2023-12-10T10:11:06.154Z"
   },
   {
    "duration": 3,
    "start_time": "2023-12-10T10:11:53.975Z"
   },
   {
    "duration": 32,
    "start_time": "2023-12-10T10:11:54.534Z"
   },
   {
    "duration": 4736,
    "start_time": "2023-12-10T10:11:56.486Z"
   },
   {
    "duration": 4806,
    "start_time": "2023-12-10T10:12:29.115Z"
   },
   {
    "duration": 4322,
    "start_time": "2023-12-10T10:12:48.673Z"
   },
   {
    "duration": 3,
    "start_time": "2023-12-10T10:15:33.057Z"
   },
   {
    "duration": 116,
    "start_time": "2023-12-10T10:15:34.026Z"
   },
   {
    "duration": 4608,
    "start_time": "2023-12-10T10:15:35.921Z"
   },
   {
    "duration": 2312,
    "start_time": "2023-12-10T10:18:35.430Z"
   },
   {
    "duration": 3,
    "start_time": "2023-12-10T10:21:32.260Z"
   },
   {
    "duration": 37,
    "start_time": "2023-12-10T10:21:32.746Z"
   },
   {
    "duration": 187,
    "start_time": "2023-12-10T10:21:34.106Z"
   },
   {
    "duration": 103,
    "start_time": "2023-12-10T10:21:38.936Z"
   },
   {
    "duration": 84,
    "start_time": "2023-12-10T10:21:47.912Z"
   },
   {
    "duration": 103,
    "start_time": "2023-12-10T10:21:59.330Z"
   },
   {
    "duration": 4,
    "start_time": "2023-12-10T10:27:48.572Z"
   },
   {
    "duration": 38,
    "start_time": "2023-12-10T10:27:49.900Z"
   },
   {
    "duration": 4519,
    "start_time": "2023-12-10T10:27:54.402Z"
   },
   {
    "duration": 2,
    "start_time": "2023-12-10T10:29:06.771Z"
   },
   {
    "duration": 23,
    "start_time": "2023-12-10T10:29:08.074Z"
   },
   {
    "duration": 105,
    "start_time": "2023-12-10T10:29:13.138Z"
   },
   {
    "duration": 103,
    "start_time": "2023-12-10T10:29:15.490Z"
   },
   {
    "duration": 161,
    "start_time": "2023-12-10T10:29:19.524Z"
   },
   {
    "duration": 25,
    "start_time": "2023-12-10T10:29:23.552Z"
   },
   {
    "duration": 14,
    "start_time": "2023-12-10T10:29:24.532Z"
   },
   {
    "duration": 33,
    "start_time": "2023-12-10T10:29:43.995Z"
   },
   {
    "duration": 3,
    "start_time": "2023-12-10T10:31:13.564Z"
   },
   {
    "duration": 102,
    "start_time": "2023-12-10T10:31:14.134Z"
   },
   {
    "duration": 4361,
    "start_time": "2023-12-10T10:31:19.338Z"
   },
   {
    "duration": 3,
    "start_time": "2023-12-10T10:31:47.704Z"
   },
   {
    "duration": 3,
    "start_time": "2023-12-10T10:32:05.012Z"
   },
   {
    "duration": 19,
    "start_time": "2023-12-10T10:32:06.289Z"
   },
   {
    "duration": 107,
    "start_time": "2023-12-10T10:32:08.762Z"
   },
   {
    "duration": 151,
    "start_time": "2023-12-10T10:32:13.105Z"
   },
   {
    "duration": 96,
    "start_time": "2023-12-10T10:32:14.781Z"
   },
   {
    "duration": 186,
    "start_time": "2023-12-10T10:32:19.923Z"
   },
   {
    "duration": 3,
    "start_time": "2023-12-10T10:32:51.171Z"
   },
   {
    "duration": 19,
    "start_time": "2023-12-10T10:32:51.963Z"
   },
   {
    "duration": 3,
    "start_time": "2023-12-10T10:32:53.553Z"
   },
   {
    "duration": 2257,
    "start_time": "2023-12-10T10:33:05.541Z"
   },
   {
    "duration": 3,
    "start_time": "2023-12-10T10:33:08.321Z"
   },
   {
    "duration": 22,
    "start_time": "2023-12-10T10:33:08.982Z"
   },
   {
    "duration": 97,
    "start_time": "2023-12-10T10:33:11.291Z"
   },
   {
    "duration": 153,
    "start_time": "2023-12-10T10:33:13.273Z"
   },
   {
    "duration": 100,
    "start_time": "2023-12-10T10:33:16.841Z"
   },
   {
    "duration": 164,
    "start_time": "2023-12-10T10:33:22.671Z"
   },
   {
    "duration": 3,
    "start_time": "2023-12-10T10:33:29.270Z"
   },
   {
    "duration": 21,
    "start_time": "2023-12-10T10:33:29.912Z"
   },
   {
    "duration": 3,
    "start_time": "2023-12-10T10:33:33.538Z"
   },
   {
    "duration": 4895,
    "start_time": "2023-12-10T10:33:34.383Z"
   },
   {
    "duration": 25,
    "start_time": "2023-12-10T10:33:41.394Z"
   },
   {
    "duration": 14,
    "start_time": "2023-12-10T10:33:42.300Z"
   },
   {
    "duration": 34,
    "start_time": "2023-12-10T10:34:06.449Z"
   },
   {
    "duration": 3,
    "start_time": "2023-12-10T10:34:32.990Z"
   },
   {
    "duration": 20,
    "start_time": "2023-12-10T10:34:33.492Z"
   },
   {
    "duration": 88,
    "start_time": "2023-12-10T10:34:37.651Z"
   },
   {
    "duration": 90,
    "start_time": "2023-12-10T10:34:41.554Z"
   },
   {
    "duration": 97,
    "start_time": "2023-12-10T10:34:52.314Z"
   },
   {
    "duration": 174,
    "start_time": "2023-12-10T10:34:55.595Z"
   },
   {
    "duration": 9,
    "start_time": "2023-12-10T10:35:04.813Z"
   },
   {
    "duration": 16,
    "start_time": "2023-12-10T10:35:06.205Z"
   },
   {
    "duration": 2,
    "start_time": "2023-12-10T10:37:25.644Z"
   },
   {
    "duration": 25,
    "start_time": "2023-12-10T10:37:26.197Z"
   },
   {
    "duration": 84,
    "start_time": "2023-12-10T10:37:28.291Z"
   },
   {
    "duration": 85,
    "start_time": "2023-12-10T10:37:32.186Z"
   },
   {
    "duration": 148,
    "start_time": "2023-12-10T10:37:36.132Z"
   },
   {
    "duration": 106,
    "start_time": "2023-12-10T10:37:53.349Z"
   },
   {
    "duration": 172,
    "start_time": "2023-12-10T10:38:06.244Z"
   },
   {
    "duration": 5,
    "start_time": "2023-12-10T10:38:09.146Z"
   },
   {
    "duration": 23,
    "start_time": "2023-12-10T10:38:10.319Z"
   },
   {
    "duration": 23,
    "start_time": "2023-12-10T10:38:22.183Z"
   },
   {
    "duration": 6,
    "start_time": "2023-12-10T10:39:18.934Z"
   },
   {
    "duration": 22,
    "start_time": "2023-12-10T10:39:19.494Z"
   },
   {
    "duration": 6,
    "start_time": "2023-12-10T10:39:27.459Z"
   },
   {
    "duration": 10,
    "start_time": "2023-12-10T10:39:28.342Z"
   },
   {
    "duration": 14,
    "start_time": "2023-12-10T10:40:18.031Z"
   },
   {
    "duration": 8,
    "start_time": "2023-12-10T10:40:28.089Z"
   },
   {
    "duration": 12,
    "start_time": "2023-12-10T10:40:33.680Z"
   },
   {
    "duration": 6,
    "start_time": "2023-12-10T10:41:27.216Z"
   },
   {
    "duration": 7,
    "start_time": "2023-12-10T10:41:42.008Z"
   },
   {
    "duration": 12,
    "start_time": "2023-12-10T10:42:01.328Z"
   },
   {
    "duration": 349,
    "start_time": "2023-12-10T10:43:05.495Z"
   },
   {
    "duration": 203,
    "start_time": "2023-12-10T10:43:15.326Z"
   },
   {
    "duration": 176,
    "start_time": "2023-12-10T10:43:27.008Z"
   },
   {
    "duration": 205,
    "start_time": "2023-12-10T10:43:30.088Z"
   },
   {
    "duration": 177,
    "start_time": "2023-12-10T10:43:37.246Z"
   },
   {
    "duration": 163,
    "start_time": "2023-12-10T10:43:47.248Z"
   },
   {
    "duration": 172,
    "start_time": "2023-12-10T10:43:51.503Z"
   },
   {
    "duration": 177,
    "start_time": "2023-12-10T10:43:58.263Z"
   },
   {
    "duration": 161,
    "start_time": "2023-12-10T10:44:04.631Z"
   },
   {
    "duration": 250,
    "start_time": "2023-12-10T10:45:10.716Z"
   },
   {
    "duration": 5,
    "start_time": "2023-12-10T10:45:21.895Z"
   },
   {
    "duration": 23,
    "start_time": "2023-12-10T10:45:22.800Z"
   },
   {
    "duration": 4,
    "start_time": "2023-12-10T10:47:36.073Z"
   },
   {
    "duration": 63,
    "start_time": "2023-12-10T10:47:37.384Z"
   },
   {
    "duration": 2,
    "start_time": "2023-12-10T10:47:38.942Z"
   },
   {
    "duration": 4783,
    "start_time": "2023-12-10T10:47:39.648Z"
   },
   {
    "duration": 21,
    "start_time": "2023-12-10T10:47:55.572Z"
   },
   {
    "duration": 21,
    "start_time": "2023-12-10T10:47:56.434Z"
   },
   {
    "duration": 3,
    "start_time": "2023-12-10T10:53:32.026Z"
   },
   {
    "duration": 25,
    "start_time": "2023-12-10T10:53:33.908Z"
   },
   {
    "duration": 79,
    "start_time": "2023-12-10T10:53:38.345Z"
   },
   {
    "duration": 80,
    "start_time": "2023-12-10T10:53:44.177Z"
   },
   {
    "duration": 82,
    "start_time": "2023-12-10T10:53:46.609Z"
   },
   {
    "duration": 163,
    "start_time": "2023-12-10T10:54:22.739Z"
   },
   {
    "duration": 2,
    "start_time": "2023-12-10T11:00:30.001Z"
   },
   {
    "duration": 57,
    "start_time": "2023-12-10T11:00:30.601Z"
   },
   {
    "duration": 2,
    "start_time": "2023-12-10T11:00:37.022Z"
   },
   {
    "duration": 4647,
    "start_time": "2023-12-10T11:00:39.755Z"
   },
   {
    "duration": 22,
    "start_time": "2023-12-10T11:02:56.057Z"
   },
   {
    "duration": 24,
    "start_time": "2023-12-10T11:02:57.540Z"
   },
   {
    "duration": 18,
    "start_time": "2023-12-10T11:03:08.980Z"
   },
   {
    "duration": 7,
    "start_time": "2023-12-10T11:03:25.076Z"
   },
   {
    "duration": 13,
    "start_time": "2023-12-10T11:03:31.794Z"
   },
   {
    "duration": 11,
    "start_time": "2023-12-10T11:05:46.847Z"
   },
   {
    "duration": 6,
    "start_time": "2023-12-10T11:05:48.330Z"
   },
   {
    "duration": 23,
    "start_time": "2023-12-10T11:05:52.096Z"
   },
   {
    "duration": 23,
    "start_time": "2023-12-10T11:05:52.994Z"
   },
   {
    "duration": 953,
    "start_time": "2023-12-10T11:06:06.959Z"
   },
   {
    "duration": 4,
    "start_time": "2023-12-10T12:23:36.715Z"
   },
   {
    "duration": 106,
    "start_time": "2023-12-10T12:23:37.833Z"
   },
   {
    "duration": 3358,
    "start_time": "2023-12-10T12:23:44.505Z"
   },
   {
    "duration": 2347,
    "start_time": "2023-12-10T12:25:55.217Z"
   },
   {
    "duration": 2613,
    "start_time": "2023-12-10T12:27:03.540Z"
   },
   {
    "duration": 2478,
    "start_time": "2023-12-10T12:27:19.625Z"
   },
   {
    "duration": 112,
    "start_time": "2023-12-10T12:33:24.700Z"
   },
   {
    "duration": 2351,
    "start_time": "2023-12-10T12:35:27.801Z"
   },
   {
    "duration": 3023,
    "start_time": "2023-12-10T12:36:01.126Z"
   },
   {
    "duration": 2945,
    "start_time": "2023-12-10T12:36:29.851Z"
   },
   {
    "duration": 50,
    "start_time": "2023-12-10T12:37:59.615Z"
   },
   {
    "duration": 2500,
    "start_time": "2023-12-10T12:38:16.104Z"
   },
   {
    "duration": 2707,
    "start_time": "2023-12-10T12:38:59.541Z"
   },
   {
    "duration": 2530,
    "start_time": "2023-12-10T12:39:40.398Z"
   },
   {
    "duration": 2300,
    "start_time": "2023-12-10T12:40:40.749Z"
   },
   {
    "duration": 4,
    "start_time": "2023-12-10T12:43:56.013Z"
   },
   {
    "duration": 82,
    "start_time": "2023-12-10T12:44:09.358Z"
   },
   {
    "duration": 177,
    "start_time": "2023-12-10T12:45:56.284Z"
   },
   {
    "duration": 89,
    "start_time": "2023-12-10T12:46:02.374Z"
   },
   {
    "duration": 98,
    "start_time": "2023-12-10T12:47:07.368Z"
   },
   {
    "duration": 2580,
    "start_time": "2023-12-10T12:47:42.220Z"
   },
   {
    "duration": 2381,
    "start_time": "2023-12-10T12:48:41.007Z"
   },
   {
    "duration": 2661,
    "start_time": "2023-12-10T12:49:49.260Z"
   },
   {
    "duration": 86,
    "start_time": "2023-12-10T12:52:03.080Z"
   },
   {
    "duration": 94,
    "start_time": "2023-12-10T12:52:26.175Z"
   },
   {
    "duration": 2451,
    "start_time": "2023-12-10T12:55:23.820Z"
   },
   {
    "duration": 2423,
    "start_time": "2023-12-10T13:01:10.317Z"
   },
   {
    "duration": 2303,
    "start_time": "2023-12-10T13:01:31.130Z"
   },
   {
    "duration": 78,
    "start_time": "2023-12-10T13:03:53.925Z"
   },
   {
    "duration": 29334,
    "start_time": "2023-12-10T13:04:11.075Z"
   },
   {
    "duration": 2489,
    "start_time": "2023-12-10T13:05:36.197Z"
   },
   {
    "duration": 182,
    "start_time": "2023-12-10T13:06:20.773Z"
   },
   {
    "duration": 223,
    "start_time": "2023-12-10T13:07:37.589Z"
   },
   {
    "duration": 298,
    "start_time": "2023-12-10T13:08:08.924Z"
   },
   {
    "duration": 2346,
    "start_time": "2023-12-10T13:08:17.013Z"
   },
   {
    "duration": 196,
    "start_time": "2023-12-10T13:09:28.682Z"
   },
   {
    "duration": 2384,
    "start_time": "2023-12-10T13:09:48.734Z"
   },
   {
    "duration": 2355,
    "start_time": "2023-12-10T13:10:47.103Z"
   },
   {
    "duration": 2665,
    "start_time": "2023-12-10T13:12:03.592Z"
   },
   {
    "duration": 2534,
    "start_time": "2023-12-10T13:12:17.600Z"
   },
   {
    "duration": 2310,
    "start_time": "2023-12-10T13:12:27.221Z"
   },
   {
    "duration": 2432,
    "start_time": "2023-12-10T13:12:33.981Z"
   },
   {
    "duration": 2379,
    "start_time": "2023-12-10T13:12:39.845Z"
   },
   {
    "duration": 2369,
    "start_time": "2023-12-10T13:12:44.526Z"
   },
   {
    "duration": 2442,
    "start_time": "2023-12-10T13:12:58.561Z"
   },
   {
    "duration": 2368,
    "start_time": "2023-12-10T13:13:05.773Z"
   },
   {
    "duration": 2493,
    "start_time": "2023-12-10T13:13:14.949Z"
   },
   {
    "duration": 2493,
    "start_time": "2023-12-10T13:15:31.311Z"
   },
   {
    "duration": 2331,
    "start_time": "2023-12-10T13:15:54.222Z"
   },
   {
    "duration": 2536,
    "start_time": "2023-12-10T13:16:05.512Z"
   },
   {
    "duration": 2453,
    "start_time": "2023-12-10T13:19:28.671Z"
   },
   {
    "duration": 178,
    "start_time": "2023-12-10T13:21:08.248Z"
   },
   {
    "duration": 92,
    "start_time": "2023-12-10T13:21:34.206Z"
   },
   {
    "duration": 4786,
    "start_time": "2023-12-10T13:22:36.520Z"
   },
   {
    "duration": 4696,
    "start_time": "2023-12-10T13:22:44.577Z"
   },
   {
    "duration": 5881,
    "start_time": "2023-12-10T13:38:15.173Z"
   },
   {
    "duration": 1284,
    "start_time": "2023-12-10T13:41:09.430Z"
   },
   {
    "duration": 1164,
    "start_time": "2023-12-10T13:42:17.708Z"
   },
   {
    "duration": 4686,
    "start_time": "2023-12-10T13:42:38.745Z"
   },
   {
    "duration": 88,
    "start_time": "2023-12-10T13:43:20.492Z"
   },
   {
    "duration": 175,
    "start_time": "2023-12-10T13:43:28.020Z"
   },
   {
    "duration": 2,
    "start_time": "2023-12-10T13:47:42.901Z"
   },
   {
    "duration": 72,
    "start_time": "2023-12-10T13:47:44.453Z"
   },
   {
    "duration": 3,
    "start_time": "2023-12-10T13:48:34.678Z"
   },
   {
    "duration": 3,
    "start_time": "2023-12-10T13:55:53.958Z"
   },
   {
    "duration": 53,
    "start_time": "2023-12-10T13:55:54.432Z"
   },
   {
    "duration": 59,
    "start_time": "2023-12-10T13:56:23.656Z"
   },
   {
    "duration": 191,
    "start_time": "2023-12-10T13:56:29.583Z"
   },
   {
    "duration": 3,
    "start_time": "2023-12-10T14:02:34.595Z"
   },
   {
    "duration": 49,
    "start_time": "2023-12-10T14:02:35.135Z"
   },
   {
    "duration": 3,
    "start_time": "2023-12-10T14:13:15.124Z"
   },
   {
    "duration": 120,
    "start_time": "2023-12-10T14:13:15.606Z"
   },
   {
    "duration": 67,
    "start_time": "2023-12-10T14:19:53.702Z"
   },
   {
    "duration": 248,
    "start_time": "2023-12-10T14:20:17.653Z"
   },
   {
    "duration": 2,
    "start_time": "2023-12-10T14:21:03.575Z"
   },
   {
    "duration": 40,
    "start_time": "2023-12-10T14:21:05.158Z"
   },
   {
    "duration": 168,
    "start_time": "2023-12-10T14:21:08.164Z"
   },
   {
    "duration": 67,
    "start_time": "2023-12-10T14:21:30.125Z"
   },
   {
    "duration": 43,
    "start_time": "2023-12-10T14:21:52.095Z"
   },
   {
    "duration": 57,
    "start_time": "2023-12-10T14:22:10.723Z"
   },
   {
    "duration": 50,
    "start_time": "2023-12-10T14:22:35.244Z"
   },
   {
    "duration": 151,
    "start_time": "2023-12-10T14:22:49.821Z"
   },
   {
    "duration": 169,
    "start_time": "2023-12-10T14:23:10.489Z"
   },
   {
    "duration": 157,
    "start_time": "2023-12-10T14:23:13.726Z"
   },
   {
    "duration": 163,
    "start_time": "2023-12-10T14:23:26.550Z"
   },
   {
    "duration": 276,
    "start_time": "2023-12-10T14:23:51.341Z"
   },
   {
    "duration": 177,
    "start_time": "2023-12-10T14:24:42.886Z"
   },
   {
    "duration": 22,
    "start_time": "2023-12-10T14:26:18.703Z"
   },
   {
    "duration": 207,
    "start_time": "2023-12-10T14:26:28.670Z"
   },
   {
    "duration": 135,
    "start_time": "2023-12-10T14:34:31.694Z"
   },
   {
    "duration": 113,
    "start_time": "2023-12-10T14:35:25.768Z"
   },
   {
    "duration": 101,
    "start_time": "2023-12-10T14:36:15.665Z"
   },
   {
    "duration": 164,
    "start_time": "2023-12-10T14:37:21.240Z"
   },
   {
    "duration": 171,
    "start_time": "2023-12-10T14:38:35.761Z"
   },
   {
    "duration": 251,
    "start_time": "2023-12-10T14:38:51.256Z"
   },
   {
    "duration": 99,
    "start_time": "2023-12-10T14:39:58.952Z"
   },
   {
    "duration": 190,
    "start_time": "2023-12-10T14:40:09.226Z"
   },
   {
    "duration": 172,
    "start_time": "2023-12-10T14:40:50.618Z"
   },
   {
    "duration": 96,
    "start_time": "2023-12-10T14:41:39.017Z"
   },
   {
    "duration": 178,
    "start_time": "2023-12-10T14:42:29.522Z"
   },
   {
    "duration": 136,
    "start_time": "2023-12-10T14:43:12.600Z"
   },
   {
    "duration": 85,
    "start_time": "2023-12-10T14:43:17.495Z"
   },
   {
    "duration": 93,
    "start_time": "2023-12-10T14:45:25.586Z"
   },
   {
    "duration": 7,
    "start_time": "2023-12-10T14:46:48.684Z"
   },
   {
    "duration": 7,
    "start_time": "2023-12-10T14:47:04.908Z"
   },
   {
    "duration": 5,
    "start_time": "2023-12-10T14:53:51.543Z"
   },
   {
    "duration": 149,
    "start_time": "2023-12-10T14:54:32.492Z"
   },
   {
    "duration": 186,
    "start_time": "2023-12-10T14:55:20.172Z"
   },
   {
    "duration": 3,
    "start_time": "2023-12-10T14:56:10.560Z"
   },
   {
    "duration": 18,
    "start_time": "2023-12-10T14:56:11.619Z"
   },
   {
    "duration": 3,
    "start_time": "2023-12-10T14:56:14.993Z"
   },
   {
    "duration": 142,
    "start_time": "2023-12-10T14:56:15.951Z"
   },
   {
    "duration": 3,
    "start_time": "2023-12-10T14:59:53.972Z"
   },
   {
    "duration": 3,
    "start_time": "2023-12-10T15:00:27.941Z"
   },
   {
    "duration": 105,
    "start_time": "2023-12-10T15:00:28.532Z"
   },
   {
    "duration": 173,
    "start_time": "2023-12-10T15:00:29.589Z"
   },
   {
    "duration": 113,
    "start_time": "2023-12-10T15:04:24.870Z"
   },
   {
    "duration": 159,
    "start_time": "2023-12-10T15:09:06.536Z"
   },
   {
    "duration": 258,
    "start_time": "2023-12-10T15:14:40.546Z"
   },
   {
    "duration": 3947,
    "start_time": "2023-12-10T15:16:11.658Z"
   },
   {
    "duration": 2336,
    "start_time": "2023-12-10T15:16:48.339Z"
   },
   {
    "duration": 163,
    "start_time": "2023-12-10T15:17:44.236Z"
   },
   {
    "duration": 62,
    "start_time": "2023-12-10T15:18:53.963Z"
   },
   {
    "duration": 2523,
    "start_time": "2023-12-10T15:19:02.612Z"
   },
   {
    "duration": 2429,
    "start_time": "2023-12-10T15:20:17.708Z"
   },
   {
    "duration": 2354,
    "start_time": "2023-12-10T15:22:33.054Z"
   },
   {
    "duration": 2,
    "start_time": "2023-12-10T15:23:16.996Z"
   },
   {
    "duration": 84,
    "start_time": "2023-12-10T15:23:17.733Z"
   },
   {
    "duration": 173,
    "start_time": "2023-12-10T15:23:21.948Z"
   },
   {
    "duration": 2750,
    "start_time": "2023-12-10T15:23:30.226Z"
   },
   {
    "duration": 2,
    "start_time": "2023-12-10T15:23:42.755Z"
   },
   {
    "duration": 33,
    "start_time": "2023-12-10T15:23:44.803Z"
   },
   {
    "duration": 3,
    "start_time": "2023-12-10T15:23:48.619Z"
   },
   {
    "duration": 2759,
    "start_time": "2023-12-10T15:26:29.014Z"
   },
   {
    "duration": 2458,
    "start_time": "2023-12-10T15:27:26.129Z"
   },
   {
    "duration": 2434,
    "start_time": "2023-12-10T15:27:53.153Z"
   },
   {
    "duration": 29432,
    "start_time": "2023-12-10T15:29:52.959Z"
   },
   {
    "duration": 182,
    "start_time": "2023-12-10T15:31:04.432Z"
   },
   {
    "duration": 187,
    "start_time": "2023-12-10T15:31:39.917Z"
   },
   {
    "duration": 4880,
    "start_time": "2023-12-10T15:33:15.937Z"
   },
   {
    "duration": 4616,
    "start_time": "2023-12-10T15:34:25.612Z"
   },
   {
    "duration": 4953,
    "start_time": "2023-12-10T15:57:24.150Z"
   },
   {
    "duration": 4775,
    "start_time": "2023-12-10T15:58:32.137Z"
   },
   {
    "duration": 4631,
    "start_time": "2023-12-10T16:06:34.557Z"
   },
   {
    "duration": 4681,
    "start_time": "2023-12-10T16:09:32.273Z"
   },
   {
    "duration": 4726,
    "start_time": "2023-12-10T16:12:48.573Z"
   },
   {
    "duration": 4560,
    "start_time": "2023-12-10T16:14:38.403Z"
   },
   {
    "duration": 185,
    "start_time": "2023-12-10T16:18:43.724Z"
   },
   {
    "duration": 3,
    "start_time": "2023-12-10T16:53:27.321Z"
   },
   {
    "duration": 5967,
    "start_time": "2023-12-10T16:54:32.860Z"
   },
   {
    "duration": 22,
    "start_time": "2023-12-10T16:55:47.840Z"
   },
   {
    "duration": 24,
    "start_time": "2023-12-10T16:55:49.834Z"
   },
   {
    "duration": 14,
    "start_time": "2023-12-10T16:56:41.516Z"
   },
   {
    "duration": 9,
    "start_time": "2023-12-10T16:57:27.256Z"
   },
   {
    "duration": 12,
    "start_time": "2023-12-10T16:57:28.136Z"
   },
   {
    "duration": 8,
    "start_time": "2023-12-10T16:57:31.290Z"
   },
   {
    "duration": 4,
    "start_time": "2023-12-10T16:58:17.740Z"
   },
   {
    "duration": 16,
    "start_time": "2023-12-10T16:58:18.306Z"
   },
   {
    "duration": 15,
    "start_time": "2023-12-10T16:58:19.202Z"
   },
   {
    "duration": 884,
    "start_time": "2023-12-10T16:59:07.389Z"
   },
   {
    "duration": 3,
    "start_time": "2023-12-10T16:59:54.088Z"
   },
   {
    "duration": 4,
    "start_time": "2023-12-10T16:59:55.119Z"
   },
   {
    "duration": 3,
    "start_time": "2023-12-10T16:59:55.603Z"
   },
   {
    "duration": 4,
    "start_time": "2023-12-10T16:59:55.849Z"
   },
   {
    "duration": 3,
    "start_time": "2023-12-10T16:59:56.855Z"
   },
   {
    "duration": 2,
    "start_time": "2023-12-10T16:59:57.289Z"
   },
   {
    "duration": 156,
    "start_time": "2023-12-10T16:59:57.729Z"
   },
   {
    "duration": 3,
    "start_time": "2023-12-10T17:00:23.119Z"
   },
   {
    "duration": 3,
    "start_time": "2023-12-10T17:00:26.163Z"
   },
   {
    "duration": 76,
    "start_time": "2023-12-10T17:00:28.370Z"
   },
   {
    "duration": 2673,
    "start_time": "2023-12-10T17:00:36.960Z"
   },
   {
    "duration": 87,
    "start_time": "2023-12-10T17:00:42.207Z"
   },
   {
    "duration": 2,
    "start_time": "2023-12-10T17:00:44.217Z"
   },
   {
    "duration": 4,
    "start_time": "2023-12-10T17:00:45.010Z"
   },
   {
    "duration": 2827,
    "start_time": "2023-12-10T17:00:48.681Z"
   },
   {
    "duration": 2558,
    "start_time": "2023-12-10T17:01:00.960Z"
   },
   {
    "duration": 1446,
    "start_time": "2023-12-10T17:01:09.097Z"
   },
   {
    "duration": 3,
    "start_time": "2023-12-10T17:01:18.089Z"
   },
   {
    "duration": 21,
    "start_time": "2023-12-10T17:01:18.649Z"
   },
   {
    "duration": 112,
    "start_time": "2023-12-10T17:01:21.841Z"
   },
   {
    "duration": 109,
    "start_time": "2023-12-10T17:01:25.824Z"
   },
   {
    "duration": 129,
    "start_time": "2023-12-10T17:01:36.920Z"
   },
   {
    "duration": 184,
    "start_time": "2023-12-10T17:01:43.177Z"
   },
   {
    "duration": 3,
    "start_time": "2023-12-10T17:01:45.063Z"
   },
   {
    "duration": 21,
    "start_time": "2023-12-10T17:01:45.739Z"
   },
   {
    "duration": 2,
    "start_time": "2023-12-10T17:01:47.896Z"
   },
   {
    "duration": 4280,
    "start_time": "2023-12-10T17:01:49.579Z"
   },
   {
    "duration": 23,
    "start_time": "2023-12-10T17:01:55.841Z"
   },
   {
    "duration": 23,
    "start_time": "2023-12-10T17:01:57.532Z"
   },
   {
    "duration": 13,
    "start_time": "2023-12-10T17:02:03.635Z"
   },
   {
    "duration": 9,
    "start_time": "2023-12-10T17:02:05.823Z"
   },
   {
    "duration": 13,
    "start_time": "2023-12-10T17:02:06.586Z"
   },
   {
    "duration": 10,
    "start_time": "2023-12-10T17:02:07.283Z"
   },
   {
    "duration": 4,
    "start_time": "2023-12-10T17:02:10.682Z"
   },
   {
    "duration": 16,
    "start_time": "2023-12-10T17:02:12.298Z"
   },
   {
    "duration": 14,
    "start_time": "2023-12-10T17:02:14.034Z"
   },
   {
    "duration": 896,
    "start_time": "2023-12-10T17:02:18.513Z"
   },
   {
    "duration": 2,
    "start_time": "2023-12-10T17:02:32.944Z"
   },
   {
    "duration": 21,
    "start_time": "2023-12-10T17:02:37.201Z"
   },
   {
    "duration": 2395,
    "start_time": "2023-12-10T17:02:45.242Z"
   },
   {
    "duration": 2349,
    "start_time": "2023-12-10T17:03:04.588Z"
   },
   {
    "duration": 2384,
    "start_time": "2023-12-10T17:03:55.944Z"
   },
   {
    "duration": 3,
    "start_time": "2023-12-10T17:03:58.331Z"
   },
   {
    "duration": 7,
    "start_time": "2023-12-10T17:03:58.337Z"
   },
   {
    "duration": 8,
    "start_time": "2023-12-10T17:03:58.345Z"
   },
   {
    "duration": 10,
    "start_time": "2023-12-10T17:03:58.354Z"
   },
   {
    "duration": 5,
    "start_time": "2023-12-10T17:03:58.366Z"
   },
   {
    "duration": 95149,
    "start_time": "2023-12-10T17:03:58.373Z"
   },
   {
    "duration": 63,
    "start_time": "2023-12-10T17:05:33.524Z"
   },
   {
    "duration": 98,
    "start_time": "2023-12-10T17:05:33.590Z"
   },
   {
    "duration": 1963,
    "start_time": "2023-12-10T17:05:33.689Z"
   },
   {
    "duration": 3,
    "start_time": "2023-12-10T17:05:35.654Z"
   },
   {
    "duration": 7,
    "start_time": "2023-12-10T17:05:35.658Z"
   },
   {
    "duration": 69065,
    "start_time": "2023-12-10T17:05:35.666Z"
   },
   {
    "duration": 99,
    "start_time": "2023-12-10T17:06:44.733Z"
   },
   {
    "duration": 3,
    "start_time": "2023-12-10T17:06:44.835Z"
   },
   {
    "duration": 4,
    "start_time": "2023-12-10T17:06:44.840Z"
   },
   {
    "duration": 5,
    "start_time": "2023-12-10T17:06:44.845Z"
   },
   {
    "duration": 4,
    "start_time": "2023-12-10T17:06:44.852Z"
   },
   {
    "duration": 9,
    "start_time": "2023-12-10T17:06:44.857Z"
   },
   {
    "duration": 4,
    "start_time": "2023-12-10T17:06:44.868Z"
   },
   {
    "duration": 3,
    "start_time": "2023-12-10T17:06:44.873Z"
   },
   {
    "duration": 25,
    "start_time": "2023-12-10T17:06:44.878Z"
   },
   {
    "duration": 4,
    "start_time": "2023-12-10T17:06:44.905Z"
   },
   {
    "duration": 5,
    "start_time": "2023-12-10T17:06:44.915Z"
   },
   {
    "duration": 25,
    "start_time": "2023-12-10T17:06:44.922Z"
   },
   {
    "duration": 5,
    "start_time": "2023-12-10T17:06:44.949Z"
   },
   {
    "duration": 4,
    "start_time": "2023-12-10T17:06:44.959Z"
   },
   {
    "duration": 5,
    "start_time": "2023-12-10T17:06:44.964Z"
   },
   {
    "duration": 4,
    "start_time": "2023-12-10T17:06:44.971Z"
   },
   {
    "duration": 3913,
    "start_time": "2023-12-10T17:06:44.977Z"
   },
   {
    "duration": 30,
    "start_time": "2023-12-10T17:06:48.892Z"
   },
   {
    "duration": 15,
    "start_time": "2023-12-10T17:06:48.924Z"
   },
   {
    "duration": 14,
    "start_time": "2023-12-10T17:06:48.941Z"
   },
   {
    "duration": 15,
    "start_time": "2023-12-10T17:06:48.957Z"
   },
   {
    "duration": 20,
    "start_time": "2023-12-10T17:06:48.974Z"
   },
   {
    "duration": 19,
    "start_time": "2023-12-10T17:06:48.996Z"
   },
   {
    "duration": 9,
    "start_time": "2023-12-10T17:06:49.017Z"
   },
   {
    "duration": 17,
    "start_time": "2023-12-10T17:06:49.028Z"
   },
   {
    "duration": 33,
    "start_time": "2023-12-10T17:06:49.047Z"
   },
   {
    "duration": 4,
    "start_time": "2023-12-10T17:06:49.081Z"
   },
   {
    "duration": 15,
    "start_time": "2023-12-10T17:06:49.086Z"
   },
   {
    "duration": 3,
    "start_time": "2023-12-10T17:06:49.103Z"
   },
   {
    "duration": 12,
    "start_time": "2023-12-10T17:06:49.108Z"
   },
   {
    "duration": 838,
    "start_time": "2023-12-10T17:06:49.122Z"
   },
   {
    "duration": 3,
    "start_time": "2023-12-10T17:06:49.961Z"
   },
   {
    "duration": 16,
    "start_time": "2023-12-10T17:06:49.965Z"
   },
   {
    "duration": 32,
    "start_time": "2023-12-10T17:06:49.982Z"
   },
   {
    "duration": 15,
    "start_time": "2023-12-10T17:06:50.016Z"
   },
   {
    "duration": 5,
    "start_time": "2023-12-10T17:06:50.033Z"
   },
   {
    "duration": 9,
    "start_time": "2023-12-10T17:06:50.040Z"
   },
   {
    "duration": 29,
    "start_time": "2023-12-10T17:06:50.051Z"
   },
   {
    "duration": 2708,
    "start_time": "2023-12-10T17:06:50.081Z"
   },
   {
    "duration": 86,
    "start_time": "2023-12-10T17:06:52.791Z"
   },
   {
    "duration": 4,
    "start_time": "2023-12-10T17:06:52.879Z"
   },
   {
    "duration": 6,
    "start_time": "2023-12-10T17:06:52.885Z"
   },
   {
    "duration": 2422,
    "start_time": "2023-12-10T17:06:52.893Z"
   },
   {
    "duration": 2233,
    "start_time": "2023-12-10T17:06:55.316Z"
   },
   {
    "duration": 1365,
    "start_time": "2023-12-10T17:06:57.551Z"
   },
   {
    "duration": 3,
    "start_time": "2023-12-10T17:06:58.917Z"
   },
   {
    "duration": 26,
    "start_time": "2023-12-10T17:06:58.922Z"
   },
   {
    "duration": 103,
    "start_time": "2023-12-10T17:06:58.950Z"
   },
   {
    "duration": 111,
    "start_time": "2023-12-10T17:06:59.055Z"
   },
   {
    "duration": 83,
    "start_time": "2023-12-10T17:06:59.168Z"
   },
   {
    "duration": 180,
    "start_time": "2023-12-10T17:06:59.253Z"
   },
   {
    "duration": 3,
    "start_time": "2023-12-10T17:06:59.434Z"
   },
   {
    "duration": 25,
    "start_time": "2023-12-10T17:06:59.439Z"
   },
   {
    "duration": 3,
    "start_time": "2023-12-10T17:06:59.465Z"
   },
   {
    "duration": 4686,
    "start_time": "2023-12-10T17:06:59.469Z"
   },
   {
    "duration": 26,
    "start_time": "2023-12-10T17:07:04.157Z"
   },
   {
    "duration": 14,
    "start_time": "2023-12-10T17:07:04.185Z"
   },
   {
    "duration": 17,
    "start_time": "2023-12-10T17:07:04.201Z"
   },
   {
    "duration": 13,
    "start_time": "2023-12-10T17:07:04.220Z"
   },
   {
    "duration": 9,
    "start_time": "2023-12-10T17:07:04.235Z"
   },
   {
    "duration": 5,
    "start_time": "2023-12-10T17:07:04.245Z"
   },
   {
    "duration": 17,
    "start_time": "2023-12-10T17:07:04.251Z"
   },
   {
    "duration": 15,
    "start_time": "2023-12-10T17:07:04.270Z"
   },
   {
    "duration": 942,
    "start_time": "2023-12-10T17:07:04.315Z"
   },
   {
    "duration": 3,
    "start_time": "2023-12-10T17:07:05.258Z"
   },
   {
    "duration": 26,
    "start_time": "2023-12-10T17:07:05.263Z"
   },
   {
    "duration": 2412,
    "start_time": "2023-12-10T17:07:05.291Z"
   },
   {
    "duration": 2544,
    "start_time": "2023-12-10T17:07:07.709Z"
   },
   {
    "duration": 29832,
    "start_time": "2023-12-10T17:07:10.255Z"
   },
   {
    "duration": 4565,
    "start_time": "2023-12-10T17:07:40.089Z"
   },
   {
    "duration": 3,
    "start_time": "2023-12-10T17:07:44.655Z"
   },
   {
    "duration": 24,
    "start_time": "2023-12-10T17:07:44.660Z"
   },
   {
    "duration": 232,
    "start_time": "2023-12-10T17:07:44.686Z"
   },
   {
    "duration": 30945,
    "start_time": "2023-12-10T17:07:44.921Z"
   },
   {
    "duration": 2,
    "start_time": "2023-12-10T17:08:15.868Z"
   },
   {
    "duration": 48,
    "start_time": "2023-12-10T17:08:15.872Z"
   },
   {
    "duration": 9,
    "start_time": "2023-12-10T17:08:15.922Z"
   },
   {
    "duration": 4637,
    "start_time": "2023-12-10T17:08:15.932Z"
   },
   {
    "duration": 26,
    "start_time": "2023-12-10T17:08:20.571Z"
   },
   {
    "duration": 20,
    "start_time": "2023-12-10T17:08:20.598Z"
   },
   {
    "duration": 9,
    "start_time": "2023-12-10T17:08:20.620Z"
   },
   {
    "duration": 22,
    "start_time": "2023-12-10T17:08:20.631Z"
   },
   {
    "duration": 12,
    "start_time": "2023-12-10T17:08:20.655Z"
   },
   {
    "duration": 18,
    "start_time": "2023-12-10T17:08:20.669Z"
   },
   {
    "duration": 37,
    "start_time": "2023-12-10T17:08:20.689Z"
   },
   {
    "duration": 14,
    "start_time": "2023-12-10T17:08:20.728Z"
   },
   {
    "duration": 715,
    "start_time": "2023-12-10T17:08:20.744Z"
   },
   {
    "duration": 3,
    "start_time": "2023-12-10T17:08:21.460Z"
   },
   {
    "duration": 40,
    "start_time": "2023-12-10T17:08:21.465Z"
   },
   {
    "duration": 0,
    "start_time": "2023-12-10T17:08:21.507Z"
   },
   {
    "duration": 0,
    "start_time": "2023-12-10T17:08:21.509Z"
   },
   {
    "duration": 0,
    "start_time": "2023-12-10T17:08:21.511Z"
   },
   {
    "duration": 0,
    "start_time": "2023-12-10T17:08:21.512Z"
   },
   {
    "duration": 0,
    "start_time": "2023-12-10T17:08:21.513Z"
   },
   {
    "duration": 0,
    "start_time": "2023-12-10T17:08:21.514Z"
   },
   {
    "duration": 3610,
    "start_time": "2023-12-11T07:07:23.344Z"
   },
   {
    "duration": 3,
    "start_time": "2023-12-11T07:07:26.957Z"
   },
   {
    "duration": 574,
    "start_time": "2023-12-11T07:07:26.961Z"
   },
   {
    "duration": 64,
    "start_time": "2023-12-11T07:07:27.537Z"
   },
   {
    "duration": 80,
    "start_time": "2023-12-11T07:07:27.603Z"
   },
   {
    "duration": 9,
    "start_time": "2023-12-11T07:07:27.685Z"
   },
   {
    "duration": 17769,
    "start_time": "2023-12-11T07:07:27.695Z"
   },
   {
    "duration": 61,
    "start_time": "2023-12-11T07:07:45.465Z"
   },
   {
    "duration": 3066,
    "start_time": "2023-12-11T07:07:45.527Z"
   },
   {
    "duration": 1237,
    "start_time": "2023-12-11T07:07:48.597Z"
   },
   {
    "duration": 3,
    "start_time": "2023-12-11T07:07:49.836Z"
   },
   {
    "duration": 24,
    "start_time": "2023-12-11T07:07:49.841Z"
   },
   {
    "duration": 74501,
    "start_time": "2023-12-11T07:07:49.867Z"
   },
   {
    "duration": 115,
    "start_time": "2023-12-11T07:09:04.370Z"
   },
   {
    "duration": 2,
    "start_time": "2023-12-11T07:09:04.487Z"
   },
   {
    "duration": 7,
    "start_time": "2023-12-11T07:09:04.490Z"
   },
   {
    "duration": 9,
    "start_time": "2023-12-11T07:09:04.498Z"
   },
   {
    "duration": 4,
    "start_time": "2023-12-11T07:09:04.509Z"
   },
   {
    "duration": 13,
    "start_time": "2023-12-11T07:09:04.515Z"
   },
   {
    "duration": 28,
    "start_time": "2023-12-11T07:09:04.529Z"
   },
   {
    "duration": 45,
    "start_time": "2023-12-11T07:09:04.558Z"
   },
   {
    "duration": 74,
    "start_time": "2023-12-11T07:09:04.604Z"
   },
   {
    "duration": 10,
    "start_time": "2023-12-11T07:09:04.680Z"
   },
   {
    "duration": 9,
    "start_time": "2023-12-11T07:09:04.692Z"
   },
   {
    "duration": 44,
    "start_time": "2023-12-11T07:09:04.703Z"
   },
   {
    "duration": 5,
    "start_time": "2023-12-11T07:09:04.749Z"
   },
   {
    "duration": 24,
    "start_time": "2023-12-11T07:09:04.756Z"
   },
   {
    "duration": 8,
    "start_time": "2023-12-11T07:09:04.784Z"
   },
   {
    "duration": 4,
    "start_time": "2023-12-11T07:09:04.794Z"
   },
   {
    "duration": 5564,
    "start_time": "2023-12-11T07:09:04.800Z"
   },
   {
    "duration": 25,
    "start_time": "2023-12-11T07:09:10.366Z"
   },
   {
    "duration": 17,
    "start_time": "2023-12-11T07:09:10.393Z"
   },
   {
    "duration": 8,
    "start_time": "2023-12-11T07:09:10.411Z"
   },
   {
    "duration": 27,
    "start_time": "2023-12-11T07:09:10.420Z"
   },
   {
    "duration": 18,
    "start_time": "2023-12-11T07:09:10.452Z"
   },
   {
    "duration": 35,
    "start_time": "2023-12-11T07:09:10.472Z"
   },
   {
    "duration": 16,
    "start_time": "2023-12-11T07:09:10.508Z"
   },
   {
    "duration": 31,
    "start_time": "2023-12-11T07:09:10.525Z"
   },
   {
    "duration": 45,
    "start_time": "2023-12-11T07:09:10.557Z"
   },
   {
    "duration": 4,
    "start_time": "2023-12-11T07:09:10.604Z"
   },
   {
    "duration": 24,
    "start_time": "2023-12-11T07:09:10.610Z"
   },
   {
    "duration": 34,
    "start_time": "2023-12-11T07:09:10.636Z"
   },
   {
    "duration": 6,
    "start_time": "2023-12-11T07:09:10.672Z"
   },
   {
    "duration": 958,
    "start_time": "2023-12-11T07:09:10.680Z"
   },
   {
    "duration": 39,
    "start_time": "2023-12-11T07:09:11.639Z"
   },
   {
    "duration": 2,
    "start_time": "2023-12-11T07:09:11.680Z"
   },
   {
    "duration": 15,
    "start_time": "2023-12-11T07:09:11.684Z"
   },
   {
    "duration": 29,
    "start_time": "2023-12-11T07:09:11.700Z"
   },
   {
    "duration": 2982,
    "start_time": "2023-12-11T07:09:11.730Z"
   },
   {
    "duration": 180,
    "start_time": "2023-12-11T07:09:14.713Z"
   },
   {
    "duration": 2,
    "start_time": "2023-12-11T07:09:14.894Z"
   },
   {
    "duration": 22,
    "start_time": "2023-12-11T07:09:14.898Z"
   },
   {
    "duration": 3259,
    "start_time": "2023-12-11T07:09:14.922Z"
   },
   {
    "duration": 2776,
    "start_time": "2023-12-11T07:09:18.182Z"
   },
   {
    "duration": 1802,
    "start_time": "2023-12-11T07:09:20.960Z"
   },
   {
    "duration": 3,
    "start_time": "2023-12-11T07:09:22.764Z"
   },
   {
    "duration": 57,
    "start_time": "2023-12-11T07:09:22.768Z"
   },
   {
    "duration": 206,
    "start_time": "2023-12-11T07:09:22.827Z"
   },
   {
    "duration": 120,
    "start_time": "2023-12-11T07:09:23.035Z"
   },
   {
    "duration": 188,
    "start_time": "2023-12-11T07:09:23.157Z"
   },
   {
    "duration": 266,
    "start_time": "2023-12-11T07:09:23.354Z"
   },
   {
    "duration": 3,
    "start_time": "2023-12-11T07:09:23.622Z"
   },
   {
    "duration": 53,
    "start_time": "2023-12-11T07:09:23.627Z"
   },
   {
    "duration": 18,
    "start_time": "2023-12-11T07:09:23.682Z"
   },
   {
    "duration": 5771,
    "start_time": "2023-12-11T07:09:23.702Z"
   },
   {
    "duration": 23,
    "start_time": "2023-12-11T07:09:29.474Z"
   },
   {
    "duration": 24,
    "start_time": "2023-12-11T07:09:29.498Z"
   },
   {
    "duration": 38,
    "start_time": "2023-12-11T07:09:29.524Z"
   },
   {
    "duration": 48,
    "start_time": "2023-12-11T07:09:29.564Z"
   },
   {
    "duration": 20,
    "start_time": "2023-12-11T07:09:29.614Z"
   },
   {
    "duration": 40,
    "start_time": "2023-12-11T07:09:29.635Z"
   },
   {
    "duration": 45,
    "start_time": "2023-12-11T07:09:29.677Z"
   },
   {
    "duration": 35,
    "start_time": "2023-12-11T07:09:29.724Z"
   },
   {
    "duration": 943,
    "start_time": "2023-12-11T07:09:29.761Z"
   },
   {
    "duration": 3,
    "start_time": "2023-12-11T07:09:30.705Z"
   },
   {
    "duration": 157,
    "start_time": "2023-12-11T07:09:30.709Z"
   },
   {
    "duration": 3144,
    "start_time": "2023-12-11T07:09:30.867Z"
   },
   {
    "duration": 3247,
    "start_time": "2023-12-11T07:09:34.013Z"
   },
   {
    "duration": 31641,
    "start_time": "2023-12-11T07:09:37.262Z"
   },
   {
    "duration": 5911,
    "start_time": "2023-12-11T07:10:08.905Z"
   },
   {
    "duration": 3,
    "start_time": "2023-12-11T07:10:14.817Z"
   },
   {
    "duration": 31,
    "start_time": "2023-12-11T07:10:14.826Z"
   },
   {
    "duration": 259,
    "start_time": "2023-12-11T07:10:14.859Z"
   },
   {
    "duration": 31365,
    "start_time": "2023-12-11T07:10:15.120Z"
   },
   {
    "duration": 2,
    "start_time": "2023-12-11T07:10:46.487Z"
   },
   {
    "duration": 31,
    "start_time": "2023-12-11T07:10:46.491Z"
   },
   {
    "duration": 2,
    "start_time": "2023-12-11T07:10:46.524Z"
   },
   {
    "duration": 5554,
    "start_time": "2023-12-11T07:10:46.527Z"
   },
   {
    "duration": 23,
    "start_time": "2023-12-11T07:10:52.082Z"
   },
   {
    "duration": 13,
    "start_time": "2023-12-11T07:10:52.106Z"
   },
   {
    "duration": 33,
    "start_time": "2023-12-11T07:10:52.121Z"
   },
   {
    "duration": 10,
    "start_time": "2023-12-11T07:10:52.156Z"
   },
   {
    "duration": 9,
    "start_time": "2023-12-11T07:10:52.168Z"
   },
   {
    "duration": 5,
    "start_time": "2023-12-11T07:10:52.178Z"
   },
   {
    "duration": 18,
    "start_time": "2023-12-11T07:10:52.184Z"
   },
   {
    "duration": 13,
    "start_time": "2023-12-11T07:10:52.204Z"
   },
   {
    "duration": 841,
    "start_time": "2023-12-11T07:10:52.219Z"
   },
   {
    "duration": 3,
    "start_time": "2023-12-11T07:10:53.062Z"
   },
   {
    "duration": 133,
    "start_time": "2023-12-11T07:10:53.066Z"
   },
   {
    "duration": 0,
    "start_time": "2023-12-11T07:10:53.201Z"
   },
   {
    "duration": 0,
    "start_time": "2023-12-11T07:10:53.202Z"
   },
   {
    "duration": 0,
    "start_time": "2023-12-11T07:10:53.203Z"
   },
   {
    "duration": 0,
    "start_time": "2023-12-11T07:10:53.204Z"
   },
   {
    "duration": 0,
    "start_time": "2023-12-11T07:10:53.205Z"
   },
   {
    "duration": 0,
    "start_time": "2023-12-11T07:10:53.206Z"
   },
   {
    "duration": 6,
    "start_time": "2023-12-11T07:22:00.942Z"
   },
   {
    "duration": 3,
    "start_time": "2023-12-11T07:23:48.864Z"
   },
   {
    "duration": 4,
    "start_time": "2023-12-11T07:28:40.419Z"
   },
   {
    "duration": 4,
    "start_time": "2023-12-11T07:29:36.475Z"
   },
   {
    "duration": 34,
    "start_time": "2023-12-11T07:29:54.292Z"
   },
   {
    "duration": 6243,
    "start_time": "2023-12-11T07:30:40.043Z"
   },
   {
    "duration": 5163,
    "start_time": "2023-12-11T07:32:22.943Z"
   },
   {
    "duration": 4635,
    "start_time": "2023-12-11T07:33:41.770Z"
   },
   {
    "duration": 4861,
    "start_time": "2023-12-11T07:34:36.669Z"
   },
   {
    "duration": 5059,
    "start_time": "2023-12-11T07:34:56.944Z"
   },
   {
    "duration": 77,
    "start_time": "2023-12-11T07:35:53.711Z"
   },
   {
    "duration": 4776,
    "start_time": "2023-12-11T07:36:00.773Z"
   },
   {
    "duration": 4542,
    "start_time": "2023-12-11T07:36:18.870Z"
   },
   {
    "duration": 5369,
    "start_time": "2023-12-11T07:36:59.455Z"
   },
   {
    "duration": 4704,
    "start_time": "2023-12-11T07:37:09.719Z"
   },
   {
    "duration": 4734,
    "start_time": "2023-12-11T07:37:18.057Z"
   },
   {
    "duration": 5294,
    "start_time": "2023-12-11T07:37:59.511Z"
   },
   {
    "duration": 4555,
    "start_time": "2023-12-11T07:38:21.088Z"
   },
   {
    "duration": 4752,
    "start_time": "2023-12-11T07:38:28.207Z"
   },
   {
    "duration": 4709,
    "start_time": "2023-12-11T07:39:31.170Z"
   },
   {
    "duration": 3,
    "start_time": "2023-12-11T07:59:08.157Z"
   },
   {
    "duration": 63,
    "start_time": "2023-12-11T07:59:14.211Z"
   },
   {
    "duration": 91,
    "start_time": "2023-12-11T07:59:17.707Z"
   },
   {
    "duration": 142,
    "start_time": "2023-12-11T08:00:15.639Z"
   },
   {
    "duration": 113,
    "start_time": "2023-12-11T08:00:34.652Z"
   },
   {
    "duration": 97,
    "start_time": "2023-12-11T08:02:04.493Z"
   },
   {
    "duration": 86,
    "start_time": "2023-12-11T08:03:28.709Z"
   },
   {
    "duration": 80,
    "start_time": "2023-12-11T08:03:44.180Z"
   },
   {
    "duration": 116,
    "start_time": "2023-12-11T08:05:08.179Z"
   },
   {
    "duration": 5,
    "start_time": "2023-12-11T08:17:11.754Z"
   },
   {
    "duration": 4,
    "start_time": "2023-12-11T08:17:37.401Z"
   },
   {
    "duration": 4,
    "start_time": "2023-12-11T08:18:03.327Z"
   },
   {
    "duration": 4,
    "start_time": "2023-12-11T08:18:09.683Z"
   },
   {
    "duration": 8,
    "start_time": "2023-12-11T08:18:38.120Z"
   },
   {
    "duration": 342,
    "start_time": "2023-12-11T08:19:57.339Z"
   },
   {
    "duration": 498,
    "start_time": "2023-12-11T08:20:13.522Z"
   },
   {
    "duration": 392,
    "start_time": "2023-12-11T08:20:36.340Z"
   },
   {
    "duration": 3,
    "start_time": "2023-12-11T08:30:55.661Z"
   },
   {
    "duration": 124,
    "start_time": "2023-12-11T08:43:48.206Z"
   },
   {
    "duration": 344,
    "start_time": "2023-12-11T08:46:35.639Z"
   },
   {
    "duration": 796,
    "start_time": "2023-12-11T09:29:33.210Z"
   },
   {
    "duration": 923,
    "start_time": "2023-12-11T09:29:53.085Z"
   },
   {
    "duration": 1013,
    "start_time": "2023-12-11T09:30:12.246Z"
   },
   {
    "duration": 681,
    "start_time": "2023-12-11T09:30:55.009Z"
   },
   {
    "duration": 839,
    "start_time": "2023-12-11T09:31:15.097Z"
   },
   {
    "duration": 652,
    "start_time": "2023-12-11T09:31:39.933Z"
   },
   {
    "duration": 743,
    "start_time": "2023-12-11T09:31:48.751Z"
   },
   {
    "duration": 718,
    "start_time": "2023-12-11T09:32:10.264Z"
   },
   {
    "duration": 642,
    "start_time": "2023-12-11T09:35:20.281Z"
   },
   {
    "duration": 72,
    "start_time": "2023-12-11T09:35:25.134Z"
   },
   {
    "duration": 2,
    "start_time": "2023-12-11T09:35:29.894Z"
   },
   {
    "duration": 787,
    "start_time": "2023-12-11T09:35:30.574Z"
   },
   {
    "duration": 713,
    "start_time": "2023-12-11T09:36:36.185Z"
   },
   {
    "duration": 705,
    "start_time": "2023-12-11T09:37:15.777Z"
   },
   {
    "duration": 648,
    "start_time": "2023-12-11T09:37:51.669Z"
   },
   {
    "duration": 3,
    "start_time": "2023-12-11T09:41:53.401Z"
   },
   {
    "duration": 712,
    "start_time": "2023-12-11T09:41:57.818Z"
   },
   {
    "duration": 3,
    "start_time": "2023-12-11T09:42:14.163Z"
   },
   {
    "duration": 736,
    "start_time": "2023-12-11T09:42:15.683Z"
   },
   {
    "duration": 3,
    "start_time": "2023-12-11T09:42:58.131Z"
   },
   {
    "duration": 847,
    "start_time": "2023-12-11T09:42:59.930Z"
   },
   {
    "duration": 894,
    "start_time": "2023-12-11T09:48:00.123Z"
   },
   {
    "duration": 660,
    "start_time": "2023-12-11T09:48:28.620Z"
   },
   {
    "duration": 708,
    "start_time": "2023-12-11T09:49:19.354Z"
   },
   {
    "duration": 767,
    "start_time": "2023-12-11T09:49:40.815Z"
   },
   {
    "duration": 464,
    "start_time": "2023-12-11T09:51:25.524Z"
   },
   {
    "duration": 526,
    "start_time": "2023-12-11T09:52:07.756Z"
   },
   {
    "duration": 501,
    "start_time": "2023-12-11T09:53:19.763Z"
   },
   {
    "duration": 722,
    "start_time": "2023-12-11T09:53:43.636Z"
   },
   {
    "duration": 753,
    "start_time": "2023-12-11T09:54:05.941Z"
   },
   {
    "duration": 824,
    "start_time": "2023-12-11T09:54:30.982Z"
   },
   {
    "duration": 711,
    "start_time": "2023-12-11T09:55:37.598Z"
   },
   {
    "duration": 903,
    "start_time": "2023-12-11T10:00:00.919Z"
   },
   {
    "duration": 1323,
    "start_time": "2023-12-11T10:00:48.384Z"
   },
   {
    "duration": 706,
    "start_time": "2023-12-11T10:01:35.870Z"
   },
   {
    "duration": 679,
    "start_time": "2023-12-11T10:02:05.984Z"
   },
   {
    "duration": 907,
    "start_time": "2023-12-11T10:03:29.904Z"
   },
   {
    "duration": 672,
    "start_time": "2023-12-11T10:04:11.032Z"
   },
   {
    "duration": 766,
    "start_time": "2023-12-11T10:04:41.545Z"
   },
   {
    "duration": 871,
    "start_time": "2023-12-11T10:07:00.262Z"
   },
   {
    "duration": 847,
    "start_time": "2023-12-11T10:09:30.330Z"
   },
   {
    "duration": 712,
    "start_time": "2023-12-11T10:09:46.475Z"
   },
   {
    "duration": 769,
    "start_time": "2023-12-11T10:10:42.592Z"
   },
   {
    "duration": 778,
    "start_time": "2023-12-11T10:14:42.456Z"
   },
   {
    "duration": 896,
    "start_time": "2023-12-11T10:15:05.379Z"
   },
   {
    "duration": 881,
    "start_time": "2023-12-11T10:15:13.289Z"
   },
   {
    "duration": 908,
    "start_time": "2023-12-11T10:15:35.098Z"
   },
   {
    "duration": 667,
    "start_time": "2023-12-11T10:15:57.385Z"
   },
   {
    "duration": 790,
    "start_time": "2023-12-11T10:16:49.938Z"
   },
   {
    "duration": 1207,
    "start_time": "2023-12-11T10:17:30.082Z"
   },
   {
    "duration": 854,
    "start_time": "2023-12-11T10:18:05.345Z"
   },
   {
    "duration": 901,
    "start_time": "2023-12-11T10:18:56.585Z"
   },
   {
    "duration": 859,
    "start_time": "2023-12-11T10:19:03.474Z"
   },
   {
    "duration": 775,
    "start_time": "2023-12-11T10:21:29.421Z"
   },
   {
    "duration": 803,
    "start_time": "2023-12-11T10:24:30.701Z"
   },
   {
    "duration": 801,
    "start_time": "2023-12-11T10:25:14.531Z"
   },
   {
    "duration": 959,
    "start_time": "2023-12-11T10:25:30.122Z"
   },
   {
    "duration": 709,
    "start_time": "2023-12-11T10:25:53.628Z"
   },
   {
    "duration": 738,
    "start_time": "2023-12-11T10:26:12.587Z"
   },
   {
    "duration": 674,
    "start_time": "2023-12-11T10:26:49.422Z"
   },
   {
    "duration": 1075,
    "start_time": "2023-12-11T10:27:30.204Z"
   },
   {
    "duration": 715,
    "start_time": "2023-12-11T10:27:44.072Z"
   },
   {
    "duration": 727,
    "start_time": "2023-12-11T10:29:37.253Z"
   },
   {
    "duration": 814,
    "start_time": "2023-12-11T10:30:24.833Z"
   },
   {
    "duration": 632,
    "start_time": "2023-12-11T10:34:37.112Z"
   },
   {
    "duration": 4,
    "start_time": "2023-12-11T10:38:09.336Z"
   },
   {
    "duration": 8,
    "start_time": "2023-12-11T10:52:36.976Z"
   },
   {
    "duration": 7,
    "start_time": "2023-12-11T10:52:58.703Z"
   },
   {
    "duration": 3,
    "start_time": "2023-12-11T10:53:01.184Z"
   },
   {
    "duration": 8,
    "start_time": "2023-12-11T10:53:16.087Z"
   },
   {
    "duration": 3,
    "start_time": "2023-12-11T10:53:34.373Z"
   },
   {
    "duration": 177,
    "start_time": "2023-12-11T10:53:45.105Z"
   },
   {
    "duration": 7,
    "start_time": "2023-12-11T10:53:53.491Z"
   },
   {
    "duration": 8,
    "start_time": "2023-12-11T10:54:05.681Z"
   },
   {
    "duration": 3,
    "start_time": "2023-12-11T10:54:24.810Z"
   },
   {
    "duration": 2,
    "start_time": "2023-12-11T10:54:50.769Z"
   },
   {
    "duration": 3,
    "start_time": "2023-12-11T10:54:52.007Z"
   },
   {
    "duration": 9,
    "start_time": "2023-12-11T10:55:05.177Z"
   },
   {
    "duration": 8,
    "start_time": "2023-12-11T10:55:18.593Z"
   },
   {
    "duration": 2,
    "start_time": "2023-12-11T10:55:27.585Z"
   },
   {
    "duration": 7,
    "start_time": "2023-12-11T10:58:10.714Z"
   },
   {
    "duration": 9,
    "start_time": "2023-12-11T10:58:31.352Z"
   },
   {
    "duration": 8,
    "start_time": "2023-12-11T10:59:41.240Z"
   },
   {
    "duration": 2550,
    "start_time": "2023-12-11T10:59:51.704Z"
   },
   {
    "duration": 3,
    "start_time": "2023-12-11T10:59:54.257Z"
   },
   {
    "duration": 10,
    "start_time": "2023-12-11T10:59:54.261Z"
   },
   {
    "duration": 15,
    "start_time": "2023-12-11T10:59:54.272Z"
   },
   {
    "duration": 22,
    "start_time": "2023-12-11T10:59:54.288Z"
   },
   {
    "duration": 25,
    "start_time": "2023-12-11T10:59:54.311Z"
   },
   {
    "duration": 15565,
    "start_time": "2023-12-11T10:59:54.338Z"
   },
   {
    "duration": 66,
    "start_time": "2023-12-11T11:00:09.904Z"
   },
   {
    "duration": 409,
    "start_time": "2023-12-11T11:00:09.972Z"
   },
   {
    "duration": 12,
    "start_time": "2023-12-11T11:00:10.384Z"
   },
   {
    "duration": 0,
    "start_time": "2023-12-11T11:00:10.400Z"
   },
   {
    "duration": 0,
    "start_time": "2023-12-11T11:00:10.402Z"
   },
   {
    "duration": 0,
    "start_time": "2023-12-11T11:00:10.403Z"
   },
   {
    "duration": 0,
    "start_time": "2023-12-11T11:00:10.405Z"
   },
   {
    "duration": 0,
    "start_time": "2023-12-11T11:00:10.406Z"
   },
   {
    "duration": 0,
    "start_time": "2023-12-11T11:00:10.407Z"
   },
   {
    "duration": 0,
    "start_time": "2023-12-11T11:00:10.409Z"
   },
   {
    "duration": 0,
    "start_time": "2023-12-11T11:00:10.410Z"
   },
   {
    "duration": 0,
    "start_time": "2023-12-11T11:00:10.410Z"
   },
   {
    "duration": 0,
    "start_time": "2023-12-11T11:00:10.412Z"
   },
   {
    "duration": 0,
    "start_time": "2023-12-11T11:00:10.413Z"
   },
   {
    "duration": 0,
    "start_time": "2023-12-11T11:00:10.414Z"
   },
   {
    "duration": 0,
    "start_time": "2023-12-11T11:00:10.415Z"
   },
   {
    "duration": 0,
    "start_time": "2023-12-11T11:00:10.416Z"
   },
   {
    "duration": 0,
    "start_time": "2023-12-11T11:00:10.418Z"
   },
   {
    "duration": 0,
    "start_time": "2023-12-11T11:00:10.418Z"
   },
   {
    "duration": 0,
    "start_time": "2023-12-11T11:00:10.420Z"
   },
   {
    "duration": 0,
    "start_time": "2023-12-11T11:00:10.421Z"
   },
   {
    "duration": 0,
    "start_time": "2023-12-11T11:00:10.422Z"
   },
   {
    "duration": 0,
    "start_time": "2023-12-11T11:00:10.423Z"
   },
   {
    "duration": 0,
    "start_time": "2023-12-11T11:00:10.424Z"
   },
   {
    "duration": 0,
    "start_time": "2023-12-11T11:00:10.425Z"
   },
   {
    "duration": 0,
    "start_time": "2023-12-11T11:00:10.426Z"
   },
   {
    "duration": 0,
    "start_time": "2023-12-11T11:00:10.427Z"
   },
   {
    "duration": 0,
    "start_time": "2023-12-11T11:00:10.443Z"
   },
   {
    "duration": 0,
    "start_time": "2023-12-11T11:00:10.444Z"
   },
   {
    "duration": 0,
    "start_time": "2023-12-11T11:00:10.445Z"
   },
   {
    "duration": 0,
    "start_time": "2023-12-11T11:00:10.446Z"
   },
   {
    "duration": 0,
    "start_time": "2023-12-11T11:00:10.447Z"
   },
   {
    "duration": 0,
    "start_time": "2023-12-11T11:00:10.448Z"
   },
   {
    "duration": 0,
    "start_time": "2023-12-11T11:00:10.449Z"
   },
   {
    "duration": 0,
    "start_time": "2023-12-11T11:00:10.451Z"
   },
   {
    "duration": 0,
    "start_time": "2023-12-11T11:00:10.452Z"
   },
   {
    "duration": 0,
    "start_time": "2023-12-11T11:00:10.453Z"
   },
   {
    "duration": 0,
    "start_time": "2023-12-11T11:00:10.454Z"
   },
   {
    "duration": 0,
    "start_time": "2023-12-11T11:00:10.455Z"
   },
   {
    "duration": 0,
    "start_time": "2023-12-11T11:00:10.456Z"
   },
   {
    "duration": 0,
    "start_time": "2023-12-11T11:00:10.457Z"
   },
   {
    "duration": 0,
    "start_time": "2023-12-11T11:00:10.458Z"
   },
   {
    "duration": 0,
    "start_time": "2023-12-11T11:00:10.459Z"
   },
   {
    "duration": 0,
    "start_time": "2023-12-11T11:00:10.461Z"
   },
   {
    "duration": 0,
    "start_time": "2023-12-11T11:00:10.462Z"
   },
   {
    "duration": 0,
    "start_time": "2023-12-11T11:00:10.463Z"
   },
   {
    "duration": 0,
    "start_time": "2023-12-11T11:00:10.465Z"
   },
   {
    "duration": 0,
    "start_time": "2023-12-11T11:00:10.466Z"
   },
   {
    "duration": 0,
    "start_time": "2023-12-11T11:00:10.467Z"
   },
   {
    "duration": 0,
    "start_time": "2023-12-11T11:00:10.469Z"
   },
   {
    "duration": 0,
    "start_time": "2023-12-11T11:00:10.470Z"
   },
   {
    "duration": 0,
    "start_time": "2023-12-11T11:00:10.471Z"
   },
   {
    "duration": 0,
    "start_time": "2023-12-11T11:00:10.472Z"
   },
   {
    "duration": 0,
    "start_time": "2023-12-11T11:00:10.474Z"
   },
   {
    "duration": 0,
    "start_time": "2023-12-11T11:00:10.475Z"
   },
   {
    "duration": 0,
    "start_time": "2023-12-11T11:00:10.475Z"
   },
   {
    "duration": 0,
    "start_time": "2023-12-11T11:00:10.477Z"
   },
   {
    "duration": 0,
    "start_time": "2023-12-11T11:00:10.478Z"
   },
   {
    "duration": 0,
    "start_time": "2023-12-11T11:00:10.479Z"
   },
   {
    "duration": 0,
    "start_time": "2023-12-11T11:00:10.480Z"
   },
   {
    "duration": 0,
    "start_time": "2023-12-11T11:00:10.481Z"
   },
   {
    "duration": 0,
    "start_time": "2023-12-11T11:00:10.543Z"
   },
   {
    "duration": 0,
    "start_time": "2023-12-11T11:00:10.544Z"
   },
   {
    "duration": 0,
    "start_time": "2023-12-11T11:00:10.545Z"
   },
   {
    "duration": 0,
    "start_time": "2023-12-11T11:00:10.546Z"
   },
   {
    "duration": 0,
    "start_time": "2023-12-11T11:00:10.547Z"
   },
   {
    "duration": 0,
    "start_time": "2023-12-11T11:00:10.548Z"
   },
   {
    "duration": 0,
    "start_time": "2023-12-11T11:00:10.549Z"
   },
   {
    "duration": 0,
    "start_time": "2023-12-11T11:00:10.550Z"
   },
   {
    "duration": 0,
    "start_time": "2023-12-11T11:00:10.551Z"
   },
   {
    "duration": 0,
    "start_time": "2023-12-11T11:00:10.552Z"
   },
   {
    "duration": 0,
    "start_time": "2023-12-11T11:00:10.553Z"
   },
   {
    "duration": 0,
    "start_time": "2023-12-11T11:00:10.555Z"
   },
   {
    "duration": 0,
    "start_time": "2023-12-11T11:00:10.556Z"
   },
   {
    "duration": 0,
    "start_time": "2023-12-11T11:00:10.557Z"
   },
   {
    "duration": 0,
    "start_time": "2023-12-11T11:00:10.558Z"
   },
   {
    "duration": 0,
    "start_time": "2023-12-11T11:00:10.559Z"
   },
   {
    "duration": 0,
    "start_time": "2023-12-11T11:00:10.560Z"
   },
   {
    "duration": 0,
    "start_time": "2023-12-11T11:00:10.561Z"
   },
   {
    "duration": 0,
    "start_time": "2023-12-11T11:00:10.562Z"
   },
   {
    "duration": 0,
    "start_time": "2023-12-11T11:00:10.563Z"
   },
   {
    "duration": 0,
    "start_time": "2023-12-11T11:00:10.564Z"
   },
   {
    "duration": 0,
    "start_time": "2023-12-11T11:00:10.565Z"
   },
   {
    "duration": 0,
    "start_time": "2023-12-11T11:00:10.566Z"
   },
   {
    "duration": 0,
    "start_time": "2023-12-11T11:00:10.567Z"
   },
   {
    "duration": 0,
    "start_time": "2023-12-11T11:00:10.568Z"
   },
   {
    "duration": 1,
    "start_time": "2023-12-11T11:00:10.569Z"
   },
   {
    "duration": 0,
    "start_time": "2023-12-11T11:00:10.570Z"
   },
   {
    "duration": 0,
    "start_time": "2023-12-11T11:00:10.572Z"
   },
   {
    "duration": 0,
    "start_time": "2023-12-11T11:00:10.572Z"
   },
   {
    "duration": 0,
    "start_time": "2023-12-11T11:00:10.574Z"
   },
   {
    "duration": 0,
    "start_time": "2023-12-11T11:00:10.575Z"
   },
   {
    "duration": 0,
    "start_time": "2023-12-11T11:00:10.576Z"
   },
   {
    "duration": 0,
    "start_time": "2023-12-11T11:00:10.577Z"
   },
   {
    "duration": 0,
    "start_time": "2023-12-11T11:00:10.642Z"
   },
   {
    "duration": 0,
    "start_time": "2023-12-11T11:00:10.643Z"
   },
   {
    "duration": 0,
    "start_time": "2023-12-11T11:00:10.644Z"
   },
   {
    "duration": 0,
    "start_time": "2023-12-11T11:00:10.645Z"
   },
   {
    "duration": 0,
    "start_time": "2023-12-11T11:00:10.646Z"
   },
   {
    "duration": 0,
    "start_time": "2023-12-11T11:00:10.647Z"
   },
   {
    "duration": 0,
    "start_time": "2023-12-11T11:00:10.649Z"
   },
   {
    "duration": 0,
    "start_time": "2023-12-11T11:00:10.650Z"
   },
   {
    "duration": 0,
    "start_time": "2023-12-11T11:00:10.651Z"
   },
   {
    "duration": 1,
    "start_time": "2023-12-11T11:00:10.651Z"
   },
   {
    "duration": 0,
    "start_time": "2023-12-11T11:00:10.653Z"
   },
   {
    "duration": 0,
    "start_time": "2023-12-11T11:00:10.654Z"
   },
   {
    "duration": 0,
    "start_time": "2023-12-11T11:00:10.655Z"
   },
   {
    "duration": 0,
    "start_time": "2023-12-11T11:00:10.656Z"
   },
   {
    "duration": 0,
    "start_time": "2023-12-11T11:00:10.657Z"
   },
   {
    "duration": 0,
    "start_time": "2023-12-11T11:00:10.658Z"
   },
   {
    "duration": 0,
    "start_time": "2023-12-11T11:00:10.659Z"
   },
   {
    "duration": 0,
    "start_time": "2023-12-11T11:00:10.660Z"
   },
   {
    "duration": 0,
    "start_time": "2023-12-11T11:00:10.661Z"
   },
   {
    "duration": 0,
    "start_time": "2023-12-11T11:00:10.662Z"
   },
   {
    "duration": 0,
    "start_time": "2023-12-11T11:00:10.663Z"
   },
   {
    "duration": 3,
    "start_time": "2023-12-11T11:01:11.383Z"
   },
   {
    "duration": 4,
    "start_time": "2023-12-11T11:01:13.927Z"
   },
   {
    "duration": 9,
    "start_time": "2023-12-11T11:01:20.680Z"
   },
   {
    "duration": 4,
    "start_time": "2023-12-11T11:01:48.011Z"
   },
   {
    "duration": 5,
    "start_time": "2023-12-11T11:01:49.199Z"
   },
   {
    "duration": 9,
    "start_time": "2023-12-11T11:03:12.824Z"
   },
   {
    "duration": 2554,
    "start_time": "2023-12-11T11:04:55.021Z"
   },
   {
    "duration": 3,
    "start_time": "2023-12-11T11:04:57.577Z"
   },
   {
    "duration": 551,
    "start_time": "2023-12-11T11:04:57.581Z"
   },
   {
    "duration": 61,
    "start_time": "2023-12-11T11:04:58.134Z"
   },
   {
    "duration": 122,
    "start_time": "2023-12-11T11:04:58.196Z"
   },
   {
    "duration": 9,
    "start_time": "2023-12-11T11:04:58.319Z"
   },
   {
    "duration": 14503,
    "start_time": "2023-12-11T11:04:58.329Z"
   },
   {
    "duration": 448,
    "start_time": "2023-12-11T11:05:12.834Z"
   },
   {
    "duration": 390,
    "start_time": "2023-12-11T11:05:13.283Z"
   },
   {
    "duration": 1470,
    "start_time": "2023-12-11T11:05:13.675Z"
   },
   {
    "duration": 3,
    "start_time": "2023-12-11T11:05:15.147Z"
   },
   {
    "duration": 37,
    "start_time": "2023-12-11T11:05:15.151Z"
   },
   {
    "duration": 101032,
    "start_time": "2023-12-11T11:05:15.189Z"
   },
   {
    "duration": 136,
    "start_time": "2023-12-11T11:06:56.222Z"
   },
   {
    "duration": 2,
    "start_time": "2023-12-11T11:06:56.360Z"
   },
   {
    "duration": 5,
    "start_time": "2023-12-11T11:06:56.364Z"
   },
   {
    "duration": 11,
    "start_time": "2023-12-11T11:06:56.370Z"
   },
   {
    "duration": 4,
    "start_time": "2023-12-11T11:06:56.382Z"
   },
   {
    "duration": 5,
    "start_time": "2023-12-11T11:06:56.387Z"
   },
   {
    "duration": 5,
    "start_time": "2023-12-11T11:06:56.393Z"
   },
   {
    "duration": 5,
    "start_time": "2023-12-11T11:06:56.399Z"
   },
   {
    "duration": 26,
    "start_time": "2023-12-11T11:06:56.405Z"
   },
   {
    "duration": 4,
    "start_time": "2023-12-11T11:06:56.433Z"
   },
   {
    "duration": 15,
    "start_time": "2023-12-11T11:06:56.439Z"
   },
   {
    "duration": 27,
    "start_time": "2023-12-11T11:06:56.455Z"
   },
   {
    "duration": 3,
    "start_time": "2023-12-11T11:06:56.484Z"
   },
   {
    "duration": 9,
    "start_time": "2023-12-11T11:06:56.489Z"
   },
   {
    "duration": 4,
    "start_time": "2023-12-11T11:06:56.502Z"
   },
   {
    "duration": 3,
    "start_time": "2023-12-11T11:06:56.508Z"
   },
   {
    "duration": 5210,
    "start_time": "2023-12-11T11:06:56.512Z"
   },
   {
    "duration": 30,
    "start_time": "2023-12-11T11:07:01.724Z"
   },
   {
    "duration": 21,
    "start_time": "2023-12-11T11:07:01.755Z"
   },
   {
    "duration": 16,
    "start_time": "2023-12-11T11:07:01.778Z"
   },
   {
    "duration": 29,
    "start_time": "2023-12-11T11:07:01.796Z"
   },
   {
    "duration": 36,
    "start_time": "2023-12-11T11:07:01.827Z"
   },
   {
    "duration": 24,
    "start_time": "2023-12-11T11:07:01.865Z"
   },
   {
    "duration": 27,
    "start_time": "2023-12-11T11:07:01.891Z"
   },
   {
    "duration": 79,
    "start_time": "2023-12-11T11:07:01.920Z"
   },
   {
    "duration": 75,
    "start_time": "2023-12-11T11:07:02.001Z"
   },
   {
    "duration": 3,
    "start_time": "2023-12-11T11:07:02.077Z"
   },
   {
    "duration": 13,
    "start_time": "2023-12-11T11:07:02.082Z"
   },
   {
    "duration": 16,
    "start_time": "2023-12-11T11:07:02.097Z"
   },
   {
    "duration": 11,
    "start_time": "2023-12-11T11:07:02.115Z"
   },
   {
    "duration": 862,
    "start_time": "2023-12-11T11:07:02.128Z"
   },
   {
    "duration": 24,
    "start_time": "2023-12-11T11:07:02.992Z"
   },
   {
    "duration": 12,
    "start_time": "2023-12-11T11:07:03.017Z"
   },
   {
    "duration": 15,
    "start_time": "2023-12-11T11:07:03.030Z"
   },
   {
    "duration": 42,
    "start_time": "2023-12-11T11:07:03.047Z"
   },
   {
    "duration": 3292,
    "start_time": "2023-12-11T11:07:03.091Z"
   },
   {
    "duration": 97,
    "start_time": "2023-12-11T11:07:06.385Z"
   },
   {
    "duration": 2,
    "start_time": "2023-12-11T11:07:06.484Z"
   },
   {
    "duration": 8,
    "start_time": "2023-12-11T11:07:06.487Z"
   },
   {
    "duration": 3170,
    "start_time": "2023-12-11T11:07:06.497Z"
   },
   {
    "duration": 2702,
    "start_time": "2023-12-11T11:07:09.668Z"
   },
   {
    "duration": 1739,
    "start_time": "2023-12-11T11:07:12.371Z"
   },
   {
    "duration": 3,
    "start_time": "2023-12-11T11:07:14.111Z"
   },
   {
    "duration": 44,
    "start_time": "2023-12-11T11:07:14.115Z"
   },
   {
    "duration": 64,
    "start_time": "2023-12-11T11:07:14.160Z"
   },
   {
    "duration": 126,
    "start_time": "2023-12-11T11:07:14.225Z"
   },
   {
    "duration": 118,
    "start_time": "2023-12-11T11:07:14.353Z"
   },
   {
    "duration": 244,
    "start_time": "2023-12-11T11:07:14.473Z"
   },
   {
    "duration": 3,
    "start_time": "2023-12-11T11:07:14.718Z"
   },
   {
    "duration": 57,
    "start_time": "2023-12-11T11:07:14.722Z"
   },
   {
    "duration": 3,
    "start_time": "2023-12-11T11:07:14.780Z"
   },
   {
    "duration": 5370,
    "start_time": "2023-12-11T11:07:14.784Z"
   },
   {
    "duration": 22,
    "start_time": "2023-12-11T11:07:20.155Z"
   },
   {
    "duration": 33,
    "start_time": "2023-12-11T11:07:20.179Z"
   },
   {
    "duration": 32,
    "start_time": "2023-12-11T11:07:20.214Z"
   },
   {
    "duration": 54,
    "start_time": "2023-12-11T11:07:20.247Z"
   },
   {
    "duration": 28,
    "start_time": "2023-12-11T11:07:20.303Z"
   },
   {
    "duration": 15,
    "start_time": "2023-12-11T11:07:20.332Z"
   },
   {
    "duration": 27,
    "start_time": "2023-12-11T11:07:20.348Z"
   },
   {
    "duration": 31,
    "start_time": "2023-12-11T11:07:20.376Z"
   },
   {
    "duration": 857,
    "start_time": "2023-12-11T11:07:20.408Z"
   },
   {
    "duration": 2,
    "start_time": "2023-12-11T11:07:21.267Z"
   },
   {
    "duration": 48,
    "start_time": "2023-12-11T11:07:21.271Z"
   },
   {
    "duration": 2935,
    "start_time": "2023-12-11T11:07:21.320Z"
   },
   {
    "duration": 3222,
    "start_time": "2023-12-11T11:07:24.257Z"
   },
   {
    "duration": 29418,
    "start_time": "2023-12-11T11:07:27.480Z"
   },
   {
    "duration": 5847,
    "start_time": "2023-12-11T11:07:56.900Z"
   },
   {
    "duration": 2,
    "start_time": "2023-12-11T11:08:02.749Z"
   },
   {
    "duration": 26,
    "start_time": "2023-12-11T11:08:02.757Z"
   },
   {
    "duration": 198,
    "start_time": "2023-12-11T11:08:02.785Z"
   },
   {
    "duration": 30421,
    "start_time": "2023-12-11T11:08:02.984Z"
   },
   {
    "duration": 3,
    "start_time": "2023-12-11T11:08:33.407Z"
   },
   {
    "duration": 34,
    "start_time": "2023-12-11T11:08:33.412Z"
   },
   {
    "duration": 3,
    "start_time": "2023-12-11T11:08:33.448Z"
   },
   {
    "duration": 5527,
    "start_time": "2023-12-11T11:08:33.452Z"
   },
   {
    "duration": 23,
    "start_time": "2023-12-11T11:08:38.981Z"
   },
   {
    "duration": 13,
    "start_time": "2023-12-11T11:08:39.006Z"
   },
   {
    "duration": 22,
    "start_time": "2023-12-11T11:08:39.021Z"
   },
   {
    "duration": 13,
    "start_time": "2023-12-11T11:08:39.045Z"
   },
   {
    "duration": 9,
    "start_time": "2023-12-11T11:08:39.060Z"
   },
   {
    "duration": 4,
    "start_time": "2023-12-11T11:08:39.071Z"
   },
   {
    "duration": 26,
    "start_time": "2023-12-11T11:08:39.077Z"
   },
   {
    "duration": 40,
    "start_time": "2023-12-11T11:08:39.105Z"
   },
   {
    "duration": 777,
    "start_time": "2023-12-11T11:08:39.147Z"
   },
   {
    "duration": 3,
    "start_time": "2023-12-11T11:08:39.926Z"
   },
   {
    "duration": 29,
    "start_time": "2023-12-11T11:08:39.931Z"
   },
   {
    "duration": 5,
    "start_time": "2023-12-11T11:08:39.962Z"
   },
   {
    "duration": 11,
    "start_time": "2023-12-11T11:08:39.969Z"
   },
   {
    "duration": 7,
    "start_time": "2023-12-11T11:08:39.981Z"
   },
   {
    "duration": 11,
    "start_time": "2023-12-11T11:08:39.989Z"
   },
   {
    "duration": 47,
    "start_time": "2023-12-11T11:08:40.002Z"
   },
   {
    "duration": 5546,
    "start_time": "2023-12-11T11:08:40.051Z"
   },
   {
    "duration": 55006,
    "start_time": "2023-12-11T11:08:45.598Z"
   },
   {
    "duration": 18701,
    "start_time": "2023-12-11T11:09:40.606Z"
   },
   {
    "duration": 3,
    "start_time": "2023-12-11T11:09:59.308Z"
   },
   {
    "duration": 331,
    "start_time": "2023-12-11T11:09:59.312Z"
   },
   {
    "duration": 3,
    "start_time": "2023-12-11T11:09:59.644Z"
   },
   {
    "duration": 110194,
    "start_time": "2023-12-11T11:09:59.648Z"
   },
   {
    "duration": 0,
    "start_time": "2023-12-11T11:11:49.844Z"
   },
   {
    "duration": 0,
    "start_time": "2023-12-11T11:11:49.845Z"
   },
   {
    "duration": 0,
    "start_time": "2023-12-11T11:11:49.847Z"
   },
   {
    "duration": 0,
    "start_time": "2023-12-11T11:11:49.848Z"
   },
   {
    "duration": 0,
    "start_time": "2023-12-11T11:11:49.849Z"
   },
   {
    "duration": 0,
    "start_time": "2023-12-11T11:11:49.851Z"
   },
   {
    "duration": 0,
    "start_time": "2023-12-11T11:11:49.852Z"
   },
   {
    "duration": 0,
    "start_time": "2023-12-11T11:11:49.854Z"
   },
   {
    "duration": 0,
    "start_time": "2023-12-11T11:11:49.855Z"
   },
   {
    "duration": 0,
    "start_time": "2023-12-11T11:11:49.857Z"
   },
   {
    "duration": 0,
    "start_time": "2023-12-11T11:11:49.858Z"
   },
   {
    "duration": 110357,
    "start_time": "2023-12-11T11:14:51.355Z"
   },
   {
    "duration": 23716,
    "start_time": "2023-12-11T11:20:15.657Z"
   },
   {
    "duration": 19988,
    "start_time": "2023-12-11T11:20:44.732Z"
   },
   {
    "duration": 19495,
    "start_time": "2023-12-11T11:21:06.162Z"
   },
   {
    "duration": 7,
    "start_time": "2023-12-11T11:24:20.809Z"
   },
   {
    "duration": 8,
    "start_time": "2023-12-11T11:26:56.512Z"
   },
   {
    "duration": 2465,
    "start_time": "2023-12-11T11:27:23.133Z"
   },
   {
    "duration": 3,
    "start_time": "2023-12-11T11:27:25.600Z"
   },
   {
    "duration": 635,
    "start_time": "2023-12-11T11:27:25.605Z"
   },
   {
    "duration": 55,
    "start_time": "2023-12-11T11:27:26.243Z"
   },
   {
    "duration": 45,
    "start_time": "2023-12-11T11:27:26.300Z"
   },
   {
    "duration": 9,
    "start_time": "2023-12-11T11:27:26.346Z"
   },
   {
    "duration": 42418,
    "start_time": "2023-12-11T11:27:26.356Z"
   },
   {
    "duration": 406,
    "start_time": "2023-12-11T11:28:08.775Z"
   },
   {
    "duration": 370,
    "start_time": "2023-12-11T11:28:09.183Z"
   },
   {
    "duration": 2217,
    "start_time": "2023-12-11T11:28:09.555Z"
   },
   {
    "duration": 4,
    "start_time": "2023-12-11T11:28:11.774Z"
   },
   {
    "duration": 12,
    "start_time": "2023-12-11T11:28:11.779Z"
   },
   {
    "duration": 100334,
    "start_time": "2023-12-11T11:28:11.793Z"
   },
   {
    "duration": 188,
    "start_time": "2023-12-11T11:29:52.128Z"
   },
   {
    "duration": 2,
    "start_time": "2023-12-11T11:29:52.318Z"
   },
   {
    "duration": 17,
    "start_time": "2023-12-11T11:29:52.322Z"
   },
   {
    "duration": 16,
    "start_time": "2023-12-11T11:29:52.340Z"
   },
   {
    "duration": 8,
    "start_time": "2023-12-11T11:29:52.358Z"
   },
   {
    "duration": 11,
    "start_time": "2023-12-11T11:29:52.368Z"
   },
   {
    "duration": 7,
    "start_time": "2023-12-11T11:29:52.380Z"
   },
   {
    "duration": 9,
    "start_time": "2023-12-11T11:29:52.388Z"
   },
   {
    "duration": 29,
    "start_time": "2023-12-11T11:29:52.399Z"
   },
   {
    "duration": 4,
    "start_time": "2023-12-11T11:29:52.429Z"
   },
   {
    "duration": 10,
    "start_time": "2023-12-11T11:29:52.434Z"
   },
   {
    "duration": 42,
    "start_time": "2023-12-11T11:29:52.445Z"
   },
   {
    "duration": 4,
    "start_time": "2023-12-11T11:29:52.488Z"
   },
   {
    "duration": 25,
    "start_time": "2023-12-11T11:29:52.493Z"
   },
   {
    "duration": 6,
    "start_time": "2023-12-11T11:29:52.522Z"
   },
   {
    "duration": 7,
    "start_time": "2023-12-11T11:29:52.530Z"
   },
   {
    "duration": 4819,
    "start_time": "2023-12-11T11:29:52.538Z"
   },
   {
    "duration": 29,
    "start_time": "2023-12-11T11:29:57.359Z"
   },
   {
    "duration": 17,
    "start_time": "2023-12-11T11:29:57.390Z"
   },
   {
    "duration": 8,
    "start_time": "2023-12-11T11:29:57.408Z"
   },
   {
    "duration": 29,
    "start_time": "2023-12-11T11:29:57.418Z"
   },
   {
    "duration": 33,
    "start_time": "2023-12-11T11:29:57.449Z"
   },
   {
    "duration": 12,
    "start_time": "2023-12-11T11:29:57.484Z"
   },
   {
    "duration": 8,
    "start_time": "2023-12-11T11:29:57.498Z"
   },
   {
    "duration": 13,
    "start_time": "2023-12-11T11:29:57.507Z"
   },
   {
    "duration": 34,
    "start_time": "2023-12-11T11:29:57.521Z"
   },
   {
    "duration": 4,
    "start_time": "2023-12-11T11:29:57.556Z"
   },
   {
    "duration": 11,
    "start_time": "2023-12-11T11:29:57.562Z"
   },
   {
    "duration": 5,
    "start_time": "2023-12-11T11:29:57.574Z"
   },
   {
    "duration": 6,
    "start_time": "2023-12-11T11:29:57.581Z"
   },
   {
    "duration": 829,
    "start_time": "2023-12-11T11:29:57.588Z"
   },
   {
    "duration": 23,
    "start_time": "2023-12-11T11:29:58.418Z"
   },
   {
    "duration": 7,
    "start_time": "2023-12-11T11:29:58.442Z"
   },
   {
    "duration": 15,
    "start_time": "2023-12-11T11:29:58.450Z"
   },
   {
    "duration": 62,
    "start_time": "2023-12-11T11:29:58.467Z"
   },
   {
    "duration": 3316,
    "start_time": "2023-12-11T11:29:58.530Z"
   },
   {
    "duration": 182,
    "start_time": "2023-12-11T11:30:01.848Z"
   },
   {
    "duration": 3,
    "start_time": "2023-12-11T11:30:02.032Z"
   },
   {
    "duration": 47,
    "start_time": "2023-12-11T11:30:02.037Z"
   },
   {
    "duration": 4604,
    "start_time": "2023-12-11T11:30:02.086Z"
   },
   {
    "duration": 2961,
    "start_time": "2023-12-11T11:30:06.691Z"
   },
   {
    "duration": 1836,
    "start_time": "2023-12-11T11:30:09.653Z"
   },
   {
    "duration": 2,
    "start_time": "2023-12-11T11:30:11.491Z"
   },
   {
    "duration": 39,
    "start_time": "2023-12-11T11:30:11.495Z"
   },
   {
    "duration": 149,
    "start_time": "2023-12-11T11:30:11.535Z"
   },
   {
    "duration": 107,
    "start_time": "2023-12-11T11:30:11.685Z"
   },
   {
    "duration": 119,
    "start_time": "2023-12-11T11:30:11.794Z"
   },
   {
    "duration": 211,
    "start_time": "2023-12-11T11:30:11.915Z"
   },
   {
    "duration": 3,
    "start_time": "2023-12-11T11:30:12.128Z"
   },
   {
    "duration": 32,
    "start_time": "2023-12-11T11:30:12.132Z"
   },
   {
    "duration": 3,
    "start_time": "2023-12-11T11:30:12.165Z"
   },
   {
    "duration": 5347,
    "start_time": "2023-12-11T11:30:12.169Z"
   },
   {
    "duration": 23,
    "start_time": "2023-12-11T11:30:17.518Z"
   },
   {
    "duration": 16,
    "start_time": "2023-12-11T11:30:17.542Z"
   },
   {
    "duration": 7,
    "start_time": "2023-12-11T11:30:17.560Z"
   },
   {
    "duration": 18,
    "start_time": "2023-12-11T11:30:17.569Z"
   },
   {
    "duration": 9,
    "start_time": "2023-12-11T11:30:17.588Z"
   },
   {
    "duration": 4,
    "start_time": "2023-12-11T11:30:17.598Z"
   },
   {
    "duration": 46,
    "start_time": "2023-12-11T11:30:17.603Z"
   },
   {
    "duration": 15,
    "start_time": "2023-12-11T11:30:17.650Z"
   },
   {
    "duration": 852,
    "start_time": "2023-12-11T11:30:17.667Z"
   },
   {
    "duration": 2,
    "start_time": "2023-12-11T11:30:18.521Z"
   },
   {
    "duration": 57,
    "start_time": "2023-12-11T11:30:18.525Z"
   },
   {
    "duration": 2636,
    "start_time": "2023-12-11T11:30:18.584Z"
   },
   {
    "duration": 2974,
    "start_time": "2023-12-11T11:30:21.221Z"
   },
   {
    "duration": 28759,
    "start_time": "2023-12-11T11:30:24.196Z"
   },
   {
    "duration": 5270,
    "start_time": "2023-12-11T11:30:52.957Z"
   },
   {
    "duration": 3,
    "start_time": "2023-12-11T11:30:58.228Z"
   },
   {
    "duration": 43,
    "start_time": "2023-12-11T11:30:58.237Z"
   },
   {
    "duration": 218,
    "start_time": "2023-12-11T11:30:58.282Z"
   },
   {
    "duration": 30507,
    "start_time": "2023-12-11T11:30:58.502Z"
   },
   {
    "duration": 2,
    "start_time": "2023-12-11T11:31:29.011Z"
   },
   {
    "duration": 38,
    "start_time": "2023-12-11T11:31:29.015Z"
   },
   {
    "duration": 16,
    "start_time": "2023-12-11T11:31:29.055Z"
   },
   {
    "duration": 6820,
    "start_time": "2023-12-11T11:31:29.073Z"
   },
   {
    "duration": 21,
    "start_time": "2023-12-11T11:31:35.895Z"
   },
   {
    "duration": 14,
    "start_time": "2023-12-11T11:31:35.918Z"
   },
   {
    "duration": 13,
    "start_time": "2023-12-11T11:31:35.933Z"
   },
   {
    "duration": 25,
    "start_time": "2023-12-11T11:31:35.947Z"
   },
   {
    "duration": 16,
    "start_time": "2023-12-11T11:31:35.973Z"
   },
   {
    "duration": 9,
    "start_time": "2023-12-11T11:31:35.990Z"
   },
   {
    "duration": 22,
    "start_time": "2023-12-11T11:31:36.000Z"
   },
   {
    "duration": 14,
    "start_time": "2023-12-11T11:31:36.023Z"
   },
   {
    "duration": 750,
    "start_time": "2023-12-11T11:31:36.041Z"
   },
   {
    "duration": 3,
    "start_time": "2023-12-11T11:31:36.792Z"
   },
   {
    "duration": 12,
    "start_time": "2023-12-11T11:31:36.797Z"
   },
   {
    "duration": 18,
    "start_time": "2023-12-11T11:31:36.810Z"
   },
   {
    "duration": 19,
    "start_time": "2023-12-11T11:31:36.829Z"
   },
   {
    "duration": 11,
    "start_time": "2023-12-11T11:31:36.850Z"
   },
   {
    "duration": 20,
    "start_time": "2023-12-11T11:31:36.863Z"
   },
   {
    "duration": 19,
    "start_time": "2023-12-11T11:31:36.885Z"
   },
   {
    "duration": 30,
    "start_time": "2023-12-11T11:31:36.906Z"
   },
   {
    "duration": 1188,
    "start_time": "2023-12-11T11:31:36.938Z"
   },
   {
    "duration": 12801,
    "start_time": "2023-12-11T11:31:38.127Z"
   },
   {
    "duration": 3591,
    "start_time": "2023-12-11T11:31:50.929Z"
   },
   {
    "duration": 2,
    "start_time": "2023-12-11T11:31:54.522Z"
   },
   {
    "duration": 285,
    "start_time": "2023-12-11T11:31:54.526Z"
   },
   {
    "duration": 2,
    "start_time": "2023-12-11T11:31:54.813Z"
   },
   {
    "duration": 41800,
    "start_time": "2023-12-11T11:31:54.817Z"
   },
   {
    "duration": 16671,
    "start_time": "2023-12-11T11:32:36.618Z"
   },
   {
    "duration": 19,
    "start_time": "2023-12-11T11:32:53.291Z"
   },
   {
    "duration": 32,
    "start_time": "2023-12-11T11:32:53.311Z"
   },
   {
    "duration": 19,
    "start_time": "2023-12-11T11:32:53.346Z"
   },
   {
    "duration": 217,
    "start_time": "2023-12-11T11:32:53.367Z"
   },
   {
    "duration": 0,
    "start_time": "2023-12-11T11:32:53.586Z"
   },
   {
    "duration": 0,
    "start_time": "2023-12-11T11:32:53.588Z"
   },
   {
    "duration": 0,
    "start_time": "2023-12-11T11:32:53.590Z"
   },
   {
    "duration": 0,
    "start_time": "2023-12-11T11:32:53.591Z"
   },
   {
    "duration": 0,
    "start_time": "2023-12-11T11:32:53.592Z"
   },
   {
    "duration": 0,
    "start_time": "2023-12-11T11:32:53.594Z"
   },
   {
    "duration": 8,
    "start_time": "2023-12-11T11:33:49.956Z"
   },
   {
    "duration": 10,
    "start_time": "2023-12-11T11:33:58.736Z"
   },
   {
    "duration": 17,
    "start_time": "2023-12-11T11:33:59.389Z"
   },
   {
    "duration": 8,
    "start_time": "2023-12-11T11:36:12.974Z"
   },
   {
    "duration": 514,
    "start_time": "2023-12-11T11:37:17.150Z"
   },
   {
    "duration": 634,
    "start_time": "2023-12-11T11:40:22.118Z"
   },
   {
    "duration": 64,
    "start_time": "2023-12-11T11:50:43.924Z"
   },
   {
    "duration": 51,
    "start_time": "2023-12-11T11:51:08.084Z"
   },
   {
    "duration": 3,
    "start_time": "2023-12-11T11:52:05.624Z"
   },
   {
    "duration": 3,
    "start_time": "2023-12-11T11:52:06.775Z"
   },
   {
    "duration": 4,
    "start_time": "2023-12-11T11:52:09.101Z"
   },
   {
    "duration": 3,
    "start_time": "2023-12-11T11:52:09.943Z"
   },
   {
    "duration": 109,
    "start_time": "2023-12-11T11:52:12.980Z"
   },
   {
    "duration": 982,
    "start_time": "2023-12-11T11:52:20.072Z"
   },
   {
    "duration": 13042,
    "start_time": "2023-12-11T11:52:24.543Z"
   },
   {
    "duration": 3500,
    "start_time": "2023-12-11T11:52:48.720Z"
   },
   {
    "duration": 3,
    "start_time": "2023-12-11T11:52:57.093Z"
   },
   {
    "duration": 334,
    "start_time": "2023-12-11T11:52:58.048Z"
   },
   {
    "duration": 5,
    "start_time": "2023-12-11T11:53:17.544Z"
   },
   {
    "duration": 2,
    "start_time": "2023-12-11T11:53:23.847Z"
   },
   {
    "duration": 559,
    "start_time": "2023-12-11T11:53:36.648Z"
   },
   {
    "duration": 555,
    "start_time": "2023-12-11T11:54:15.794Z"
   },
   {
    "duration": 42993,
    "start_time": "2023-12-11T11:54:50.474Z"
   },
   {
    "duration": 17957,
    "start_time": "2023-12-11T11:56:25.778Z"
   },
   {
    "duration": 483,
    "start_time": "2023-12-11T12:01:56.211Z"
   },
   {
    "duration": 21247,
    "start_time": "2023-12-11T12:03:44.390Z"
   },
   {
    "duration": 3,
    "start_time": "2023-12-11T12:06:22.947Z"
   },
   {
    "duration": 3,
    "start_time": "2023-12-11T12:06:25.122Z"
   },
   {
    "duration": 25,
    "start_time": "2023-12-11T12:06:32.309Z"
   },
   {
    "duration": 92824,
    "start_time": "2023-12-11T12:06:50.260Z"
   },
   {
    "duration": 41562,
    "start_time": "2023-12-11T12:14:17.276Z"
   },
   {
    "duration": 3,
    "start_time": "2023-12-11T12:20:35.448Z"
   },
   {
    "duration": 3,
    "start_time": "2023-12-11T12:20:35.934Z"
   },
   {
    "duration": 693,
    "start_time": "2023-12-11T12:20:54.061Z"
   },
   {
    "duration": 598,
    "start_time": "2023-12-11T12:21:19.233Z"
   },
   {
    "duration": 577,
    "start_time": "2023-12-11T12:21:59.809Z"
   },
   {
    "duration": 2,
    "start_time": "2023-12-11T12:22:14.312Z"
   },
   {
    "duration": 2,
    "start_time": "2023-12-11T12:22:14.879Z"
   },
   {
    "duration": 131,
    "start_time": "2023-12-11T12:22:19.527Z"
   },
   {
    "duration": 607,
    "start_time": "2023-12-11T12:22:35.537Z"
   },
   {
    "duration": 41481,
    "start_time": "2023-12-11T12:23:32.266Z"
   },
   {
    "duration": 43004,
    "start_time": "2023-12-11T12:24:28.833Z"
   },
   {
    "duration": 2847,
    "start_time": "2023-12-11T12:25:33.384Z"
   },
   {
    "duration": 2800,
    "start_time": "2023-12-11T12:26:24.171Z"
   },
   {
    "duration": 688,
    "start_time": "2023-12-11T12:27:20.716Z"
   },
   {
    "duration": 3228,
    "start_time": "2023-12-11T12:28:00.873Z"
   },
   {
    "duration": 728,
    "start_time": "2023-12-11T12:28:24.155Z"
   },
   {
    "duration": 608,
    "start_time": "2023-12-11T12:28:53.663Z"
   },
   {
    "duration": 3789,
    "start_time": "2023-12-11T12:29:06.891Z"
   },
   {
    "duration": 3942,
    "start_time": "2023-12-11T12:29:30.578Z"
   },
   {
    "duration": 2810,
    "start_time": "2023-12-11T12:29:55.681Z"
   },
   {
    "duration": 4031,
    "start_time": "2023-12-11T12:31:27.650Z"
   },
   {
    "duration": 2,
    "start_time": "2023-12-11T12:32:29.514Z"
   },
   {
    "duration": 3,
    "start_time": "2023-12-11T12:32:31.801Z"
   },
   {
    "duration": 47,
    "start_time": "2023-12-11T12:32:35.849Z"
   },
   {
    "duration": 18398,
    "start_time": "2023-12-11T12:32:59.778Z"
   },
   {
    "duration": 111059,
    "start_time": "2023-12-11T12:34:18.723Z"
   },
   {
    "duration": 2366,
    "start_time": "2023-12-11T17:22:53.399Z"
   },
   {
    "duration": 2,
    "start_time": "2023-12-11T17:22:55.768Z"
   },
   {
    "duration": 547,
    "start_time": "2023-12-11T17:22:55.772Z"
   },
   {
    "duration": 56,
    "start_time": "2023-12-11T17:22:56.321Z"
   },
   {
    "duration": 47,
    "start_time": "2023-12-11T17:22:56.379Z"
   },
   {
    "duration": 8,
    "start_time": "2023-12-11T17:22:56.428Z"
   },
   {
    "duration": 47425,
    "start_time": "2023-12-11T17:22:56.438Z"
   },
   {
    "duration": 74,
    "start_time": "2023-12-11T17:23:43.864Z"
   },
   {
    "duration": 147,
    "start_time": "2023-12-11T17:23:43.939Z"
   },
   {
    "duration": 2684,
    "start_time": "2023-12-11T17:23:44.088Z"
   },
   {
    "duration": 3,
    "start_time": "2023-12-11T17:23:46.773Z"
   },
   {
    "duration": 9,
    "start_time": "2023-12-11T17:23:46.777Z"
   },
   {
    "duration": 67652,
    "start_time": "2023-12-11T17:23:46.787Z"
   },
   {
    "duration": 122,
    "start_time": "2023-12-11T17:24:54.440Z"
   },
   {
    "duration": 2,
    "start_time": "2023-12-11T17:24:54.563Z"
   },
   {
    "duration": 11,
    "start_time": "2023-12-11T17:24:54.567Z"
   },
   {
    "duration": 14,
    "start_time": "2023-12-11T17:24:54.580Z"
   },
   {
    "duration": 23,
    "start_time": "2023-12-11T17:24:54.595Z"
   },
   {
    "duration": 21,
    "start_time": "2023-12-11T17:24:54.619Z"
   },
   {
    "duration": 15,
    "start_time": "2023-12-11T17:24:54.642Z"
   },
   {
    "duration": 35,
    "start_time": "2023-12-11T17:24:54.658Z"
   },
   {
    "duration": 29,
    "start_time": "2023-12-11T17:24:54.695Z"
   },
   {
    "duration": 4,
    "start_time": "2023-12-11T17:24:54.725Z"
   },
   {
    "duration": 23,
    "start_time": "2023-12-11T17:24:54.731Z"
   },
   {
    "duration": 41,
    "start_time": "2023-12-11T17:24:54.756Z"
   },
   {
    "duration": 31,
    "start_time": "2023-12-11T17:24:54.798Z"
   },
   {
    "duration": 12,
    "start_time": "2023-12-11T17:24:54.830Z"
   },
   {
    "duration": 9,
    "start_time": "2023-12-11T17:24:54.846Z"
   },
   {
    "duration": 12,
    "start_time": "2023-12-11T17:24:54.857Z"
   },
   {
    "duration": 4159,
    "start_time": "2023-12-11T17:24:54.871Z"
   },
   {
    "duration": 27,
    "start_time": "2023-12-11T17:24:59.031Z"
   },
   {
    "duration": 16,
    "start_time": "2023-12-11T17:24:59.060Z"
   },
   {
    "duration": 8,
    "start_time": "2023-12-11T17:24:59.078Z"
   },
   {
    "duration": 6,
    "start_time": "2023-12-11T17:24:59.088Z"
   },
   {
    "duration": 19,
    "start_time": "2023-12-11T17:24:59.096Z"
   },
   {
    "duration": 5,
    "start_time": "2023-12-11T17:24:59.116Z"
   },
   {
    "duration": 34,
    "start_time": "2023-12-11T17:24:59.123Z"
   },
   {
    "duration": 12,
    "start_time": "2023-12-11T17:24:59.159Z"
   },
   {
    "duration": 28,
    "start_time": "2023-12-11T17:24:59.172Z"
   },
   {
    "duration": 3,
    "start_time": "2023-12-11T17:24:59.201Z"
   },
   {
    "duration": 51,
    "start_time": "2023-12-11T17:24:59.205Z"
   },
   {
    "duration": 17,
    "start_time": "2023-12-11T17:24:59.258Z"
   },
   {
    "duration": 12,
    "start_time": "2023-12-11T17:24:59.277Z"
   },
   {
    "duration": 778,
    "start_time": "2023-12-11T17:24:59.291Z"
   },
   {
    "duration": 23,
    "start_time": "2023-12-11T17:25:00.070Z"
   },
   {
    "duration": 19,
    "start_time": "2023-12-11T17:25:00.094Z"
   },
   {
    "duration": 233,
    "start_time": "2023-12-11T17:25:00.114Z"
   },
   {
    "duration": 517,
    "start_time": "2023-12-11T17:25:00.348Z"
   },
   {
    "duration": 3642,
    "start_time": "2023-12-11T17:25:00.866Z"
   },
   {
    "duration": 68,
    "start_time": "2023-12-11T17:25:04.510Z"
   },
   {
    "duration": 3,
    "start_time": "2023-12-11T17:25:04.580Z"
   },
   {
    "duration": 23,
    "start_time": "2023-12-11T17:25:04.585Z"
   },
   {
    "duration": 2542,
    "start_time": "2023-12-11T17:25:04.610Z"
   },
   {
    "duration": 3300,
    "start_time": "2023-12-11T17:25:07.153Z"
   },
   {
    "duration": 1555,
    "start_time": "2023-12-11T17:25:10.454Z"
   },
   {
    "duration": 3,
    "start_time": "2023-12-11T17:25:12.010Z"
   },
   {
    "duration": 29,
    "start_time": "2023-12-11T17:25:12.014Z"
   },
   {
    "duration": 124,
    "start_time": "2023-12-11T17:25:12.044Z"
   },
   {
    "duration": 75,
    "start_time": "2023-12-11T17:25:12.169Z"
   },
   {
    "duration": 125,
    "start_time": "2023-12-11T17:25:12.245Z"
   },
   {
    "duration": 225,
    "start_time": "2023-12-11T17:25:12.371Z"
   },
   {
    "duration": 2,
    "start_time": "2023-12-11T17:25:12.598Z"
   },
   {
    "duration": 24,
    "start_time": "2023-12-11T17:25:12.602Z"
   },
   {
    "duration": 2,
    "start_time": "2023-12-11T17:25:12.627Z"
   },
   {
    "duration": 4324,
    "start_time": "2023-12-11T17:25:12.630Z"
   },
   {
    "duration": 20,
    "start_time": "2023-12-11T17:25:16.956Z"
   },
   {
    "duration": 18,
    "start_time": "2023-12-11T17:25:16.977Z"
   },
   {
    "duration": 44,
    "start_time": "2023-12-11T17:25:16.997Z"
   },
   {
    "duration": 30,
    "start_time": "2023-12-11T17:25:17.042Z"
   },
   {
    "duration": 31,
    "start_time": "2023-12-11T17:25:17.073Z"
   },
   {
    "duration": 36,
    "start_time": "2023-12-11T17:25:17.105Z"
   },
   {
    "duration": 29,
    "start_time": "2023-12-11T17:25:17.143Z"
   },
   {
    "duration": 16,
    "start_time": "2023-12-11T17:25:17.174Z"
   },
   {
    "duration": 771,
    "start_time": "2023-12-11T17:25:17.191Z"
   },
   {
    "duration": 2,
    "start_time": "2023-12-11T17:25:17.964Z"
   },
   {
    "duration": 35,
    "start_time": "2023-12-11T17:25:17.968Z"
   },
   {
    "duration": 2156,
    "start_time": "2023-12-11T17:25:18.005Z"
   },
   {
    "duration": 2509,
    "start_time": "2023-12-11T17:25:20.162Z"
   },
   {
    "duration": 26912,
    "start_time": "2023-12-11T17:25:22.672Z"
   },
   {
    "duration": 4483,
    "start_time": "2023-12-11T17:25:49.586Z"
   },
   {
    "duration": 2,
    "start_time": "2023-12-11T17:25:54.071Z"
   },
   {
    "duration": 24,
    "start_time": "2023-12-11T17:25:54.078Z"
   },
   {
    "duration": 166,
    "start_time": "2023-12-11T17:25:54.104Z"
   },
   {
    "duration": 26971,
    "start_time": "2023-12-11T17:25:54.272Z"
   },
   {
    "duration": 3,
    "start_time": "2023-12-11T17:26:21.244Z"
   },
   {
    "duration": 37,
    "start_time": "2023-12-11T17:26:21.248Z"
   },
   {
    "duration": 2,
    "start_time": "2023-12-11T17:26:21.287Z"
   },
   {
    "duration": 4286,
    "start_time": "2023-12-11T17:26:21.291Z"
   },
   {
    "duration": 24,
    "start_time": "2023-12-11T17:26:25.578Z"
   },
   {
    "duration": 49,
    "start_time": "2023-12-11T17:26:25.604Z"
   },
   {
    "duration": 39,
    "start_time": "2023-12-11T17:26:25.654Z"
   },
   {
    "duration": 74,
    "start_time": "2023-12-11T17:26:25.694Z"
   },
   {
    "duration": 45,
    "start_time": "2023-12-11T17:26:25.769Z"
   },
   {
    "duration": 65,
    "start_time": "2023-12-11T17:26:25.816Z"
   },
   {
    "duration": 41,
    "start_time": "2023-12-11T17:26:25.882Z"
   },
   {
    "duration": 15,
    "start_time": "2023-12-11T17:26:25.925Z"
   },
   {
    "duration": 684,
    "start_time": "2023-12-11T17:26:25.941Z"
   },
   {
    "duration": 2,
    "start_time": "2023-12-11T17:26:26.626Z"
   },
   {
    "duration": 5,
    "start_time": "2023-12-11T17:26:26.630Z"
   },
   {
    "duration": 11,
    "start_time": "2023-12-11T17:26:26.637Z"
   },
   {
    "duration": 14,
    "start_time": "2023-12-11T17:26:26.650Z"
   },
   {
    "duration": 11,
    "start_time": "2023-12-11T17:26:26.665Z"
   },
   {
    "duration": 12,
    "start_time": "2023-12-11T17:26:26.677Z"
   },
   {
    "duration": 12,
    "start_time": "2023-12-11T17:26:26.690Z"
   },
   {
    "duration": 22,
    "start_time": "2023-12-11T17:26:26.704Z"
   },
   {
    "duration": 995,
    "start_time": "2023-12-11T17:26:26.728Z"
   },
   {
    "duration": 12393,
    "start_time": "2023-12-11T17:26:27.725Z"
   },
   {
    "duration": 6011,
    "start_time": "2023-12-11T17:26:40.119Z"
   },
   {
    "duration": 2,
    "start_time": "2023-12-11T17:26:46.131Z"
   },
   {
    "duration": 7,
    "start_time": "2023-12-11T17:26:46.135Z"
   },
   {
    "duration": 13,
    "start_time": "2023-12-11T17:26:46.143Z"
   },
   {
    "duration": 2945,
    "start_time": "2023-12-11T17:26:46.157Z"
   },
   {
    "duration": 39624,
    "start_time": "2023-12-11T17:26:49.104Z"
   },
   {
    "duration": 80,
    "start_time": "2023-12-11T17:27:28.730Z"
   },
   {
    "duration": 0,
    "start_time": "2023-12-11T17:27:28.812Z"
   },
   {
    "duration": 0,
    "start_time": "2023-12-11T17:27:28.812Z"
   },
   {
    "duration": 0,
    "start_time": "2023-12-11T17:27:28.813Z"
   },
   {
    "duration": 1,
    "start_time": "2023-12-11T17:27:28.814Z"
   },
   {
    "duration": 0,
    "start_time": "2023-12-11T17:27:28.815Z"
   },
   {
    "duration": 0,
    "start_time": "2023-12-11T17:27:28.816Z"
   },
   {
    "duration": 0,
    "start_time": "2023-12-11T17:27:28.817Z"
   },
   {
    "duration": 0,
    "start_time": "2023-12-11T17:27:28.818Z"
   },
   {
    "duration": 0,
    "start_time": "2023-12-11T17:27:28.819Z"
   },
   {
    "duration": 0,
    "start_time": "2023-12-11T17:27:28.820Z"
   },
   {
    "duration": 0,
    "start_time": "2023-12-11T17:27:28.822Z"
   },
   {
    "duration": 0,
    "start_time": "2023-12-11T17:27:28.823Z"
   },
   {
    "duration": 0,
    "start_time": "2023-12-11T17:27:28.824Z"
   },
   {
    "duration": 0,
    "start_time": "2023-12-11T17:27:28.824Z"
   },
   {
    "duration": 2,
    "start_time": "2023-12-11T17:29:45.391Z"
   },
   {
    "duration": 21,
    "start_time": "2023-12-11T17:29:49.573Z"
   },
   {
    "duration": 4213,
    "start_time": "2023-12-11T17:29:56.676Z"
   },
   {
    "duration": 51836,
    "start_time": "2023-12-11T17:30:37.812Z"
   },
   {
    "duration": 29214,
    "start_time": "2023-12-11T17:31:35.702Z"
   },
   {
    "duration": 4,
    "start_time": "2023-12-11T17:32:55.243Z"
   },
   {
    "duration": 3,
    "start_time": "2023-12-11T17:32:56.108Z"
   },
   {
    "duration": 102951,
    "start_time": "2023-12-11T17:33:08.981Z"
   },
   {
    "duration": 14655,
    "start_time": "2023-12-11T17:35:25.400Z"
   },
   {
    "duration": 94,
    "start_time": "2023-12-11T17:38:47.992Z"
   },
   {
    "duration": 15,
    "start_time": "2023-12-11T17:38:58.737Z"
   },
   {
    "duration": 1489,
    "start_time": "2023-12-11T17:39:56.185Z"
   },
   {
    "duration": 95,
    "start_time": "2023-12-11T17:40:25.039Z"
   },
   {
    "duration": 102,
    "start_time": "2023-12-11T17:40:34.271Z"
   },
   {
    "duration": 1459,
    "start_time": "2023-12-11T17:40:57.354Z"
   },
   {
    "duration": 1365,
    "start_time": "2023-12-11T17:45:27.620Z"
   },
   {
    "duration": 89,
    "start_time": "2023-12-11T17:45:35.628Z"
   },
   {
    "duration": 1394,
    "start_time": "2023-12-11T17:46:30.804Z"
   },
   {
    "duration": 111,
    "start_time": "2023-12-11T17:46:47.144Z"
   },
   {
    "duration": 12,
    "start_time": "2023-12-11T17:46:55.610Z"
   },
   {
    "duration": 103095,
    "start_time": "2023-12-11T17:51:55.230Z"
   },
   {
    "duration": 7,
    "start_time": "2023-12-11T18:03:22.719Z"
   },
   {
    "duration": 3,
    "start_time": "2023-12-11T18:03:38.645Z"
   },
   {
    "duration": 105,
    "start_time": "2023-12-11T18:03:45.660Z"
   },
   {
    "duration": 101939,
    "start_time": "2023-12-11T18:06:49.287Z"
   },
   {
    "duration": 103341,
    "start_time": "2023-12-11T18:21:22.286Z"
   },
   {
    "duration": 170354,
    "start_time": "2023-12-11T18:26:37.790Z"
   },
   {
    "duration": 28,
    "start_time": "2023-12-11T18:31:41.340Z"
   },
   {
    "duration": 18,
    "start_time": "2023-12-11T18:31:42.330Z"
   },
   {
    "duration": 15,
    "start_time": "2023-12-11T18:32:42.930Z"
   },
   {
    "duration": 8,
    "start_time": "2023-12-11T18:33:28.475Z"
   },
   {
    "duration": 29,
    "start_time": "2023-12-11T18:33:31.660Z"
   },
   {
    "duration": 18,
    "start_time": "2023-12-11T18:33:32.211Z"
   },
   {
    "duration": 29,
    "start_time": "2023-12-11T18:34:05.497Z"
   },
   {
    "duration": 18,
    "start_time": "2023-12-11T18:34:07.372Z"
   },
   {
    "duration": 20,
    "start_time": "2023-12-11T18:35:19.228Z"
   },
   {
    "duration": 16,
    "start_time": "2023-12-11T18:35:48.756Z"
   },
   {
    "duration": 23,
    "start_time": "2023-12-11T18:35:56.381Z"
   },
   {
    "duration": 19,
    "start_time": "2023-12-11T18:36:01.853Z"
   },
   {
    "duration": 18,
    "start_time": "2023-12-11T18:37:13.549Z"
   },
   {
    "duration": 89,
    "start_time": "2023-12-11T18:44:49.652Z"
   },
   {
    "duration": 3,
    "start_time": "2023-12-11T18:45:00.287Z"
   },
   {
    "duration": 2,
    "start_time": "2023-12-11T18:45:07.760Z"
   },
   {
    "duration": 104,
    "start_time": "2023-12-11T18:45:14.175Z"
   },
   {
    "duration": 24,
    "start_time": "2023-12-11T18:45:16.736Z"
   },
   {
    "duration": 108508,
    "start_time": "2023-12-11T18:45:37.864Z"
   },
   {
    "duration": 171111,
    "start_time": "2023-12-11T19:06:46.569Z"
   },
   {
    "duration": 29,
    "start_time": "2023-12-11T19:10:28.713Z"
   },
   {
    "duration": 16,
    "start_time": "2023-12-11T19:10:32.636Z"
   },
   {
    "duration": 30,
    "start_time": "2023-12-11T19:10:36.323Z"
   },
   {
    "duration": 18,
    "start_time": "2023-12-11T19:10:36.957Z"
   },
   {
    "duration": 29,
    "start_time": "2023-12-11T19:10:37.909Z"
   },
   {
    "duration": 17,
    "start_time": "2023-12-11T19:10:40.780Z"
   },
   {
    "duration": 18,
    "start_time": "2023-12-11T19:10:42.734Z"
   },
   {
    "duration": 19,
    "start_time": "2023-12-11T19:11:04.365Z"
   },
   {
    "duration": 18,
    "start_time": "2023-12-11T19:11:17.398Z"
   },
   {
    "duration": 18,
    "start_time": "2023-12-11T19:11:28.213Z"
   },
   {
    "duration": 20,
    "start_time": "2023-12-11T19:11:44.558Z"
   },
   {
    "duration": 3,
    "start_time": "2023-12-11T19:15:13.408Z"
   },
   {
    "duration": 30,
    "start_time": "2023-12-11T19:15:30.405Z"
   },
   {
    "duration": 3,
    "start_time": "2023-12-11T19:15:56.457Z"
   },
   {
    "duration": 23,
    "start_time": "2023-12-11T19:15:57.390Z"
   },
   {
    "duration": 3,
    "start_time": "2023-12-11T19:16:09.213Z"
   },
   {
    "duration": 25,
    "start_time": "2023-12-11T19:16:10.117Z"
   },
   {
    "duration": 3,
    "start_time": "2023-12-11T19:16:29.638Z"
   },
   {
    "duration": 25,
    "start_time": "2023-12-11T19:16:30.278Z"
   },
   {
    "duration": 3,
    "start_time": "2023-12-11T19:17:04.077Z"
   },
   {
    "duration": 23,
    "start_time": "2023-12-11T19:17:04.775Z"
   },
   {
    "duration": 3,
    "start_time": "2023-12-11T19:18:10.007Z"
   },
   {
    "duration": 25,
    "start_time": "2023-12-11T19:18:10.598Z"
   },
   {
    "duration": 3,
    "start_time": "2023-12-11T19:18:58.974Z"
   },
   {
    "duration": 20,
    "start_time": "2023-12-11T19:18:59.783Z"
   },
   {
    "duration": 4,
    "start_time": "2023-12-11T19:19:18.575Z"
   },
   {
    "duration": 22,
    "start_time": "2023-12-11T19:19:19.271Z"
   },
   {
    "duration": 47,
    "start_time": "2023-12-11T19:20:03.639Z"
   },
   {
    "duration": 24,
    "start_time": "2023-12-11T19:20:04.189Z"
   },
   {
    "duration": 69,
    "start_time": "2023-12-11T19:20:50.502Z"
   },
   {
    "duration": 4,
    "start_time": "2023-12-11T19:20:59.878Z"
   },
   {
    "duration": 24,
    "start_time": "2023-12-11T19:21:00.927Z"
   },
   {
    "duration": 3,
    "start_time": "2023-12-11T19:22:06.679Z"
   },
   {
    "duration": 23,
    "start_time": "2023-12-11T19:22:07.758Z"
   },
   {
    "duration": 67,
    "start_time": "2023-12-11T19:22:25.783Z"
   },
   {
    "duration": 3,
    "start_time": "2023-12-11T19:22:40.840Z"
   },
   {
    "duration": 22,
    "start_time": "2023-12-11T19:22:49.072Z"
   },
   {
    "duration": 23,
    "start_time": "2023-12-11T19:23:31.359Z"
   },
   {
    "duration": 22,
    "start_time": "2023-12-11T19:23:45.768Z"
   },
   {
    "duration": 5,
    "start_time": "2023-12-11T19:34:11.157Z"
   },
   {
    "duration": 10,
    "start_time": "2023-12-11T19:35:53.620Z"
   },
   {
    "duration": 11,
    "start_time": "2023-12-11T19:35:57.770Z"
   },
   {
    "duration": 12,
    "start_time": "2023-12-11T19:36:02.068Z"
   },
   {
    "duration": 2,
    "start_time": "2023-12-11T19:36:17.711Z"
   },
   {
    "duration": 2,
    "start_time": "2023-12-11T19:36:18.855Z"
   },
   {
    "duration": 3,
    "start_time": "2023-12-11T19:36:19.385Z"
   },
   {
    "duration": 3,
    "start_time": "2023-12-11T19:36:20.919Z"
   },
   {
    "duration": 3,
    "start_time": "2023-12-11T19:36:22.082Z"
   },
   {
    "duration": 130,
    "start_time": "2023-12-11T19:36:23.832Z"
   },
   {
    "duration": 20,
    "start_time": "2023-12-11T19:36:25.480Z"
   },
   {
    "duration": 18,
    "start_time": "2023-12-11T19:36:26.784Z"
   },
   {
    "duration": 3926,
    "start_time": "2023-12-11T19:36:28.232Z"
   },
   {
    "duration": 52767,
    "start_time": "2023-12-11T19:36:33.681Z"
   },
   {
    "duration": 27820,
    "start_time": "2023-12-11T19:37:32.073Z"
   },
   {
    "duration": 5,
    "start_time": "2023-12-11T19:38:10.215Z"
   },
   {
    "duration": 3,
    "start_time": "2023-12-11T19:38:11.819Z"
   },
   {
    "duration": 4,
    "start_time": "2023-12-11T19:40:44.603Z"
   },
   {
    "duration": 4,
    "start_time": "2023-12-11T19:41:02.763Z"
   },
   {
    "duration": 4,
    "start_time": "2023-12-11T19:41:19.924Z"
   },
   {
    "duration": 4,
    "start_time": "2023-12-11T19:41:58.677Z"
   },
   {
    "duration": 9,
    "start_time": "2023-12-11T19:42:54.163Z"
   },
   {
    "duration": 3,
    "start_time": "2023-12-11T19:43:07.700Z"
   },
   {
    "duration": 4,
    "start_time": "2023-12-11T19:43:12.644Z"
   },
   {
    "duration": 4,
    "start_time": "2023-12-11T19:43:21.284Z"
   },
   {
    "duration": 3,
    "start_time": "2023-12-11T19:43:49.236Z"
   },
   {
    "duration": 3,
    "start_time": "2023-12-11T19:44:47.957Z"
   },
   {
    "duration": 2,
    "start_time": "2023-12-11T19:46:39.854Z"
   },
   {
    "duration": 3,
    "start_time": "2023-12-11T19:46:40.853Z"
   },
   {
    "duration": 171614,
    "start_time": "2023-12-11T19:46:42.398Z"
   },
   {
    "duration": 4,
    "start_time": "2023-12-11T19:53:50.352Z"
   },
   {
    "duration": 2,
    "start_time": "2023-12-11T19:53:52.719Z"
   },
   {
    "duration": 26,
    "start_time": "2023-12-11T19:53:53.793Z"
   },
   {
    "duration": 13,
    "start_time": "2023-12-11T19:54:03.037Z"
   },
   {
    "duration": 13,
    "start_time": "2023-12-11T19:54:11.993Z"
   },
   {
    "duration": 4,
    "start_time": "2023-12-11T19:55:59.720Z"
   },
   {
    "duration": 2,
    "start_time": "2023-12-11T19:56:00.591Z"
   },
   {
    "duration": 28,
    "start_time": "2023-12-11T19:56:02.240Z"
   },
   {
    "duration": 12,
    "start_time": "2023-12-11T19:56:03.416Z"
   },
   {
    "duration": 4,
    "start_time": "2023-12-11T19:56:24.096Z"
   },
   {
    "duration": 3,
    "start_time": "2023-12-11T19:56:24.662Z"
   },
   {
    "duration": 27,
    "start_time": "2023-12-11T19:56:25.503Z"
   },
   {
    "duration": 12,
    "start_time": "2023-12-11T19:56:26.289Z"
   },
   {
    "duration": 3,
    "start_time": "2023-12-11T19:57:48.893Z"
   },
   {
    "duration": 25,
    "start_time": "2023-12-11T19:58:46.105Z"
   },
   {
    "duration": 12,
    "start_time": "2023-12-11T19:58:48.778Z"
   },
   {
    "duration": 30,
    "start_time": "2023-12-11T19:59:23.912Z"
   },
   {
    "duration": 12,
    "start_time": "2023-12-11T19:59:25.648Z"
   },
   {
    "duration": 3,
    "start_time": "2023-12-11T19:59:52.095Z"
   },
   {
    "duration": 26,
    "start_time": "2023-12-11T20:00:28.897Z"
   },
   {
    "duration": 12,
    "start_time": "2023-12-11T20:00:36.185Z"
   },
   {
    "duration": 3,
    "start_time": "2023-12-11T20:01:23.681Z"
   },
   {
    "duration": 2,
    "start_time": "2023-12-11T20:01:25.712Z"
   },
   {
    "duration": 29,
    "start_time": "2023-12-11T20:01:26.569Z"
   },
   {
    "duration": 13,
    "start_time": "2023-12-11T20:01:27.889Z"
   },
   {
    "duration": 4,
    "start_time": "2023-12-11T20:01:57.936Z"
   },
   {
    "duration": 2,
    "start_time": "2023-12-11T20:02:00.488Z"
   },
   {
    "duration": 21,
    "start_time": "2023-12-11T20:02:01.352Z"
   },
   {
    "duration": 4,
    "start_time": "2023-12-11T20:02:17.561Z"
   },
   {
    "duration": 3,
    "start_time": "2023-12-11T20:02:18.376Z"
   },
   {
    "duration": 32,
    "start_time": "2023-12-11T20:02:19.462Z"
   },
   {
    "duration": 4,
    "start_time": "2023-12-11T20:02:46.732Z"
   },
   {
    "duration": 2,
    "start_time": "2023-12-11T20:02:47.582Z"
   },
   {
    "duration": 27,
    "start_time": "2023-12-11T20:02:48.289Z"
   },
   {
    "duration": 12,
    "start_time": "2023-12-11T20:02:49.784Z"
   },
   {
    "duration": 3,
    "start_time": "2023-12-11T20:03:57.986Z"
   },
   {
    "duration": 2,
    "start_time": "2023-12-11T20:03:59.185Z"
   },
   {
    "duration": 23,
    "start_time": "2023-12-11T20:04:00.312Z"
   },
   {
    "duration": 13,
    "start_time": "2023-12-11T20:04:01.538Z"
   },
   {
    "duration": 4,
    "start_time": "2023-12-11T20:04:21.929Z"
   },
   {
    "duration": 2,
    "start_time": "2023-12-11T20:04:22.563Z"
   },
   {
    "duration": 26,
    "start_time": "2023-12-11T20:04:23.074Z"
   },
   {
    "duration": 11,
    "start_time": "2023-12-11T20:04:23.674Z"
   },
   {
    "duration": 17,
    "start_time": "2023-12-11T20:04:36.921Z"
   },
   {
    "duration": 12,
    "start_time": "2023-12-11T20:04:47.961Z"
   },
   {
    "duration": 15,
    "start_time": "2023-12-11T20:06:15.878Z"
   },
   {
    "duration": 13,
    "start_time": "2023-12-11T20:06:15.895Z"
   },
   {
    "duration": 19,
    "start_time": "2023-12-11T20:06:15.910Z"
   },
   {
    "duration": 8,
    "start_time": "2023-12-11T20:06:15.930Z"
   },
   {
    "duration": 11,
    "start_time": "2023-12-11T20:06:15.940Z"
   },
   {
    "duration": 9,
    "start_time": "2023-12-11T20:06:15.952Z"
   },
   {
    "duration": 2,
    "start_time": "2023-12-11T20:06:15.963Z"
   },
   {
    "duration": 100,
    "start_time": "2023-12-11T20:06:15.967Z"
   },
   {
    "duration": 3,
    "start_time": "2023-12-11T20:06:16.069Z"
   },
   {
    "duration": 8,
    "start_time": "2023-12-11T20:06:16.074Z"
   },
   {
    "duration": 40,
    "start_time": "2023-12-11T20:06:16.084Z"
   },
   {
    "duration": 3,
    "start_time": "2023-12-11T20:06:16.125Z"
   },
   {
    "duration": 6,
    "start_time": "2023-12-11T20:06:16.130Z"
   },
   {
    "duration": 7,
    "start_time": "2023-12-11T20:06:16.138Z"
   },
   {
    "duration": 5,
    "start_time": "2023-12-11T20:06:16.147Z"
   },
   {
    "duration": 4908,
    "start_time": "2023-12-11T20:06:16.153Z"
   },
   {
    "duration": 23,
    "start_time": "2023-12-11T20:06:21.063Z"
   },
   {
    "duration": 55,
    "start_time": "2023-12-11T20:06:21.088Z"
   },
   {
    "duration": 34,
    "start_time": "2023-12-11T20:06:21.146Z"
   },
   {
    "duration": 30,
    "start_time": "2023-12-11T20:06:21.181Z"
   },
   {
    "duration": 44,
    "start_time": "2023-12-11T20:06:21.212Z"
   },
   {
    "duration": 40,
    "start_time": "2023-12-11T20:06:21.258Z"
   },
   {
    "duration": 24,
    "start_time": "2023-12-11T20:06:21.300Z"
   },
   {
    "duration": 72,
    "start_time": "2023-12-11T20:06:21.325Z"
   },
   {
    "duration": 77,
    "start_time": "2023-12-11T20:06:21.399Z"
   },
   {
    "duration": 18,
    "start_time": "2023-12-11T20:06:21.478Z"
   },
   {
    "duration": 30,
    "start_time": "2023-12-11T20:06:21.497Z"
   },
   {
    "duration": 41,
    "start_time": "2023-12-11T20:06:21.528Z"
   },
   {
    "duration": 62,
    "start_time": "2023-12-11T20:06:21.570Z"
   },
   {
    "duration": 1010,
    "start_time": "2023-12-11T20:06:21.633Z"
   },
   {
    "duration": 25,
    "start_time": "2023-12-11T20:06:22.644Z"
   },
   {
    "duration": 24,
    "start_time": "2023-12-11T20:06:22.670Z"
   },
   {
    "duration": 12,
    "start_time": "2023-12-11T20:06:22.696Z"
   },
   {
    "duration": 54,
    "start_time": "2023-12-11T20:06:22.709Z"
   },
   {
    "duration": 3365,
    "start_time": "2023-12-11T20:06:22.764Z"
   },
   {
    "duration": 93,
    "start_time": "2023-12-11T20:06:26.131Z"
   },
   {
    "duration": 2,
    "start_time": "2023-12-11T20:06:26.226Z"
   },
   {
    "duration": 38,
    "start_time": "2023-12-11T20:06:26.230Z"
   },
   {
    "duration": 2511,
    "start_time": "2023-12-11T20:06:26.271Z"
   },
   {
    "duration": 2691,
    "start_time": "2023-12-11T20:06:28.784Z"
   },
   {
    "duration": 1630,
    "start_time": "2023-12-11T20:06:31.477Z"
   },
   {
    "duration": 3,
    "start_time": "2023-12-11T20:06:33.109Z"
   },
   {
    "duration": 30,
    "start_time": "2023-12-11T20:06:33.116Z"
   },
   {
    "duration": 81,
    "start_time": "2023-12-11T20:06:33.147Z"
   },
   {
    "duration": 87,
    "start_time": "2023-12-11T20:06:33.229Z"
   },
   {
    "duration": 84,
    "start_time": "2023-12-11T20:06:33.317Z"
   },
   {
    "duration": 173,
    "start_time": "2023-12-11T20:06:33.402Z"
   },
   {
    "duration": 3,
    "start_time": "2023-12-11T20:06:33.576Z"
   },
   {
    "duration": 22,
    "start_time": "2023-12-11T20:06:33.580Z"
   },
   {
    "duration": 2,
    "start_time": "2023-12-11T20:06:33.604Z"
   },
   {
    "duration": 4166,
    "start_time": "2023-12-11T20:06:33.607Z"
   },
   {
    "duration": 20,
    "start_time": "2023-12-11T20:06:37.775Z"
   },
   {
    "duration": 13,
    "start_time": "2023-12-11T20:06:37.796Z"
   },
   {
    "duration": 7,
    "start_time": "2023-12-11T20:06:37.810Z"
   },
   {
    "duration": 11,
    "start_time": "2023-12-11T20:06:37.819Z"
   },
   {
    "duration": 28,
    "start_time": "2023-12-11T20:06:37.831Z"
   },
   {
    "duration": 4,
    "start_time": "2023-12-11T20:06:37.861Z"
   },
   {
    "duration": 25,
    "start_time": "2023-12-11T20:06:37.866Z"
   },
   {
    "duration": 18,
    "start_time": "2023-12-11T20:06:37.893Z"
   },
   {
    "duration": 869,
    "start_time": "2023-12-11T20:06:37.913Z"
   },
   {
    "duration": 3,
    "start_time": "2023-12-11T20:06:38.783Z"
   },
   {
    "duration": 27,
    "start_time": "2023-12-11T20:06:38.787Z"
   },
   {
    "duration": 2229,
    "start_time": "2023-12-11T20:06:38.816Z"
   },
   {
    "duration": 2175,
    "start_time": "2023-12-11T20:06:41.046Z"
   },
   {
    "duration": 28063,
    "start_time": "2023-12-11T20:06:43.223Z"
   },
   {
    "duration": 4709,
    "start_time": "2023-12-11T20:07:11.287Z"
   },
   {
    "duration": 2,
    "start_time": "2023-12-11T20:07:15.998Z"
   },
   {
    "duration": 24,
    "start_time": "2023-12-11T20:07:16.002Z"
   },
   {
    "duration": 190,
    "start_time": "2023-12-11T20:07:16.028Z"
   },
   {
    "duration": 28414,
    "start_time": "2023-12-11T20:07:16.220Z"
   },
   {
    "duration": 3,
    "start_time": "2023-12-11T20:07:44.636Z"
   },
   {
    "duration": 24,
    "start_time": "2023-12-11T20:07:44.641Z"
   },
   {
    "duration": 4,
    "start_time": "2023-12-11T20:07:44.667Z"
   },
   {
    "duration": 4436,
    "start_time": "2023-12-11T20:07:44.672Z"
   },
   {
    "duration": 22,
    "start_time": "2023-12-11T20:07:49.109Z"
   },
   {
    "duration": 14,
    "start_time": "2023-12-11T20:07:49.132Z"
   },
   {
    "duration": 10,
    "start_time": "2023-12-11T20:07:49.148Z"
   },
   {
    "duration": 12,
    "start_time": "2023-12-11T20:07:49.159Z"
   },
   {
    "duration": 8,
    "start_time": "2023-12-11T20:07:49.173Z"
   },
   {
    "duration": 5,
    "start_time": "2023-12-11T20:07:49.183Z"
   },
   {
    "duration": 28,
    "start_time": "2023-12-11T20:07:49.190Z"
   },
   {
    "duration": 36,
    "start_time": "2023-12-11T20:07:49.220Z"
   },
   {
    "duration": 886,
    "start_time": "2023-12-11T20:07:49.257Z"
   },
   {
    "duration": 3,
    "start_time": "2023-12-11T20:07:50.145Z"
   },
   {
    "duration": 31,
    "start_time": "2023-12-11T20:07:50.150Z"
   },
   {
    "duration": 11,
    "start_time": "2023-12-11T20:07:50.183Z"
   },
   {
    "duration": 7,
    "start_time": "2023-12-11T20:07:50.195Z"
   },
   {
    "duration": 41,
    "start_time": "2023-12-11T20:07:50.204Z"
   },
   {
    "duration": 30,
    "start_time": "2023-12-11T20:07:50.247Z"
   },
   {
    "duration": 25,
    "start_time": "2023-12-11T20:07:50.278Z"
   },
   {
    "duration": 20,
    "start_time": "2023-12-11T20:07:50.305Z"
   },
   {
    "duration": 3770,
    "start_time": "2023-12-11T20:07:50.326Z"
   },
   {
    "duration": 52936,
    "start_time": "2023-12-11T20:07:54.097Z"
   },
   {
    "duration": 29673,
    "start_time": "2023-12-11T20:08:47.035Z"
   },
   {
    "duration": 6,
    "start_time": "2023-12-11T20:09:16.709Z"
   },
   {
    "duration": 13,
    "start_time": "2023-12-11T20:09:16.716Z"
   },
   {
    "duration": 5,
    "start_time": "2023-12-11T20:09:16.731Z"
   },
   {
    "duration": 12,
    "start_time": "2023-12-11T20:09:16.737Z"
   },
   {
    "duration": 175842,
    "start_time": "2023-12-11T20:09:16.750Z"
   },
   {
    "duration": 31,
    "start_time": "2023-12-11T20:12:12.594Z"
   },
   {
    "duration": 10,
    "start_time": "2023-12-11T20:12:12.627Z"
   },
   {
    "duration": 48,
    "start_time": "2023-12-11T20:12:12.638Z"
   },
   {
    "duration": 11,
    "start_time": "2023-12-11T20:12:12.688Z"
   },
   {
    "duration": 38,
    "start_time": "2023-12-11T20:12:12.701Z"
   },
   {
    "duration": 16,
    "start_time": "2023-12-11T20:12:12.741Z"
   },
   {
    "duration": 21,
    "start_time": "2023-12-11T20:12:12.759Z"
   },
   {
    "duration": 57,
    "start_time": "2023-12-11T20:12:12.781Z"
   },
   {
    "duration": 23,
    "start_time": "2023-12-11T20:12:12.840Z"
   },
   {
    "duration": 27,
    "start_time": "2023-12-11T20:12:12.865Z"
   },
   {
    "duration": 6,
    "start_time": "2023-12-11T20:12:12.894Z"
   },
   {
    "duration": 20,
    "start_time": "2023-12-11T20:12:12.902Z"
   },
   {
    "duration": 28,
    "start_time": "2023-12-11T20:12:12.924Z"
   },
   {
    "duration": 22,
    "start_time": "2023-12-11T20:12:12.954Z"
   },
   {
    "duration": 1148,
    "start_time": "2023-12-11T20:12:12.978Z"
   },
   {
    "duration": 2,
    "start_time": "2023-12-11T20:12:14.133Z"
   },
   {
    "duration": 47,
    "start_time": "2023-12-11T20:12:14.136Z"
   },
   {
    "duration": 0,
    "start_time": "2023-12-11T20:12:14.184Z"
   },
   {
    "duration": 0,
    "start_time": "2023-12-11T20:12:14.185Z"
   },
   {
    "duration": 0,
    "start_time": "2023-12-11T20:12:14.186Z"
   },
   {
    "duration": 0,
    "start_time": "2023-12-11T20:12:14.187Z"
   },
   {
    "duration": 0,
    "start_time": "2023-12-11T20:12:14.188Z"
   },
   {
    "duration": 0,
    "start_time": "2023-12-11T20:12:14.189Z"
   },
   {
    "duration": 11,
    "start_time": "2023-12-11T20:12:27.443Z"
   },
   {
    "duration": 6,
    "start_time": "2023-12-11T20:12:35.339Z"
   },
   {
    "duration": 9,
    "start_time": "2023-12-11T20:16:15.707Z"
   },
   {
    "duration": 23,
    "start_time": "2023-12-11T20:16:17.151Z"
   },
   {
    "duration": 16,
    "start_time": "2023-12-11T20:16:18.781Z"
   },
   {
    "duration": 7,
    "start_time": "2023-12-11T20:16:39.396Z"
   },
   {
    "duration": 13,
    "start_time": "2023-12-11T20:16:43.395Z"
   },
   {
    "duration": 4,
    "start_time": "2023-12-11T20:17:12.804Z"
   },
   {
    "duration": 4,
    "start_time": "2023-12-11T20:17:31.261Z"
   },
   {
    "duration": 2,
    "start_time": "2023-12-11T20:17:48.612Z"
   },
   {
    "duration": 25,
    "start_time": "2023-12-11T20:18:04.061Z"
   },
   {
    "duration": 15,
    "start_time": "2023-12-11T20:18:05.125Z"
   },
   {
    "duration": 7,
    "start_time": "2023-12-11T20:18:11.229Z"
   },
   {
    "duration": 13,
    "start_time": "2023-12-11T20:18:12.861Z"
   },
   {
    "duration": 17,
    "start_time": "2023-12-11T20:19:10.765Z"
   },
   {
    "duration": 25,
    "start_time": "2023-12-11T20:19:28.141Z"
   },
   {
    "duration": 11,
    "start_time": "2023-12-11T20:19:29.732Z"
   },
   {
    "duration": 2,
    "start_time": "2023-12-11T20:19:41.724Z"
   },
   {
    "duration": 17,
    "start_time": "2023-12-11T20:19:43.228Z"
   },
   {
    "duration": 22,
    "start_time": "2023-12-11T20:20:08.445Z"
   },
   {
    "duration": 10,
    "start_time": "2023-12-11T20:20:32.940Z"
   },
   {
    "duration": 7,
    "start_time": "2023-12-11T20:20:45.715Z"
   },
   {
    "duration": 3,
    "start_time": "2023-12-11T20:27:40.366Z"
   },
   {
    "duration": 10,
    "start_time": "2023-12-11T20:28:23.671Z"
   },
   {
    "duration": 17,
    "start_time": "2023-12-11T20:28:25.414Z"
   },
   {
    "duration": 16,
    "start_time": "2023-12-11T20:28:51.792Z"
   },
   {
    "duration": 11,
    "start_time": "2023-12-11T20:29:20.749Z"
   },
   {
    "duration": 17,
    "start_time": "2023-12-11T20:29:21.615Z"
   },
   {
    "duration": 5,
    "start_time": "2023-12-11T20:30:21.552Z"
   },
   {
    "duration": 5,
    "start_time": "2023-12-11T20:32:17.366Z"
   },
   {
    "duration": 2,
    "start_time": "2023-12-11T20:32:35.870Z"
   },
   {
    "duration": 11,
    "start_time": "2023-12-11T20:32:36.799Z"
   },
   {
    "duration": 19,
    "start_time": "2023-12-11T20:32:37.647Z"
   },
   {
    "duration": 16,
    "start_time": "2023-12-11T20:34:35.560Z"
   },
   {
    "duration": 14,
    "start_time": "2023-12-11T20:34:54.122Z"
   },
   {
    "duration": 13,
    "start_time": "2023-12-11T20:35:15.393Z"
   },
   {
    "duration": 6,
    "start_time": "2023-12-11T20:37:04.802Z"
   },
   {
    "duration": 10,
    "start_time": "2023-12-11T20:40:20.698Z"
   },
   {
    "duration": 6,
    "start_time": "2023-12-11T20:46:56.021Z"
   },
   {
    "duration": 8,
    "start_time": "2023-12-11T20:48:26.886Z"
   },
   {
    "duration": 7,
    "start_time": "2023-12-11T20:48:42.957Z"
   },
   {
    "duration": 23,
    "start_time": "2023-12-11T20:49:06.076Z"
   },
   {
    "duration": 6,
    "start_time": "2023-12-11T20:49:50.420Z"
   },
   {
    "duration": 6,
    "start_time": "2023-12-11T20:50:10.205Z"
   },
   {
    "duration": 12,
    "start_time": "2023-12-11T20:50:38.680Z"
   },
   {
    "duration": 7,
    "start_time": "2023-12-11T20:51:12.020Z"
   },
   {
    "duration": 5,
    "start_time": "2023-12-11T20:53:24.462Z"
   },
   {
    "duration": 8295,
    "start_time": "2023-12-11T20:57:22.945Z"
   },
   {
    "duration": 3430,
    "start_time": "2023-12-12T06:31:04.704Z"
   },
   {
    "duration": 4,
    "start_time": "2023-12-12T06:31:08.137Z"
   },
   {
    "duration": 574,
    "start_time": "2023-12-12T06:31:08.143Z"
   },
   {
    "duration": 58,
    "start_time": "2023-12-12T06:31:08.720Z"
   },
   {
    "duration": 58,
    "start_time": "2023-12-12T06:31:08.780Z"
   },
   {
    "duration": 10,
    "start_time": "2023-12-12T06:31:08.839Z"
   },
   {
    "duration": 16750,
    "start_time": "2023-12-12T06:31:08.851Z"
   },
   {
    "duration": 74,
    "start_time": "2023-12-12T06:31:25.603Z"
   },
   {
    "duration": 183,
    "start_time": "2023-12-12T06:31:25.679Z"
   },
   {
    "duration": 1858,
    "start_time": "2023-12-12T06:31:25.865Z"
   },
   {
    "duration": 3,
    "start_time": "2023-12-12T06:31:27.725Z"
   },
   {
    "duration": 11,
    "start_time": "2023-12-12T06:31:27.729Z"
   },
   {
    "duration": 68848,
    "start_time": "2023-12-12T06:31:27.742Z"
   },
   {
    "duration": 71,
    "start_time": "2023-12-12T06:32:36.592Z"
   },
   {
    "duration": 3,
    "start_time": "2023-12-12T06:32:36.665Z"
   },
   {
    "duration": 5,
    "start_time": "2023-12-12T06:32:36.670Z"
   },
   {
    "duration": 5,
    "start_time": "2023-12-12T06:32:36.677Z"
   },
   {
    "duration": 10,
    "start_time": "2023-12-12T06:32:36.684Z"
   },
   {
    "duration": 10,
    "start_time": "2023-12-12T06:32:36.695Z"
   },
   {
    "duration": 6,
    "start_time": "2023-12-12T06:32:36.707Z"
   },
   {
    "duration": 7,
    "start_time": "2023-12-12T06:32:36.715Z"
   },
   {
    "duration": 36,
    "start_time": "2023-12-12T06:32:36.724Z"
   },
   {
    "duration": 4,
    "start_time": "2023-12-12T06:32:36.762Z"
   },
   {
    "duration": 8,
    "start_time": "2023-12-12T06:32:36.768Z"
   },
   {
    "duration": 24,
    "start_time": "2023-12-12T06:32:36.778Z"
   },
   {
    "duration": 5,
    "start_time": "2023-12-12T06:32:36.803Z"
   },
   {
    "duration": 5,
    "start_time": "2023-12-12T06:32:36.810Z"
   },
   {
    "duration": 6,
    "start_time": "2023-12-12T06:32:36.820Z"
   },
   {
    "duration": 16,
    "start_time": "2023-12-12T06:32:36.827Z"
   },
   {
    "duration": 3965,
    "start_time": "2023-12-12T06:32:36.845Z"
   },
   {
    "duration": 25,
    "start_time": "2023-12-12T06:32:40.811Z"
   },
   {
    "duration": 26,
    "start_time": "2023-12-12T06:32:40.838Z"
   },
   {
    "duration": 9,
    "start_time": "2023-12-12T06:32:40.865Z"
   },
   {
    "duration": 6,
    "start_time": "2023-12-12T06:32:40.876Z"
   },
   {
    "duration": 18,
    "start_time": "2023-12-12T06:32:40.884Z"
   },
   {
    "duration": 11,
    "start_time": "2023-12-12T06:32:40.904Z"
   },
   {
    "duration": 15,
    "start_time": "2023-12-12T06:32:40.916Z"
   },
   {
    "duration": 15,
    "start_time": "2023-12-12T06:32:40.932Z"
   },
   {
    "duration": 34,
    "start_time": "2023-12-12T06:32:40.948Z"
   },
   {
    "duration": 3,
    "start_time": "2023-12-12T06:32:40.984Z"
   },
   {
    "duration": 8,
    "start_time": "2023-12-12T06:32:40.988Z"
   },
   {
    "duration": 5,
    "start_time": "2023-12-12T06:32:40.997Z"
   },
   {
    "duration": 9,
    "start_time": "2023-12-12T06:32:41.003Z"
   },
   {
    "duration": 803,
    "start_time": "2023-12-12T06:32:41.013Z"
   },
   {
    "duration": 24,
    "start_time": "2023-12-12T06:32:41.817Z"
   },
   {
    "duration": 3,
    "start_time": "2023-12-12T06:32:41.843Z"
   },
   {
    "duration": 14,
    "start_time": "2023-12-12T06:32:41.847Z"
   },
   {
    "duration": 39,
    "start_time": "2023-12-12T06:32:41.862Z"
   },
   {
    "duration": 2492,
    "start_time": "2023-12-12T06:32:41.903Z"
   },
   {
    "duration": 89,
    "start_time": "2023-12-12T06:32:44.397Z"
   },
   {
    "duration": 3,
    "start_time": "2023-12-12T06:32:44.488Z"
   },
   {
    "duration": 24,
    "start_time": "2023-12-12T06:32:44.493Z"
   },
   {
    "duration": 2692,
    "start_time": "2023-12-12T06:32:44.519Z"
   },
   {
    "duration": 2266,
    "start_time": "2023-12-12T06:32:47.213Z"
   },
   {
    "duration": 1545,
    "start_time": "2023-12-12T06:32:49.480Z"
   },
   {
    "duration": 2,
    "start_time": "2023-12-12T06:32:51.027Z"
   },
   {
    "duration": 26,
    "start_time": "2023-12-12T06:32:51.031Z"
   },
   {
    "duration": 97,
    "start_time": "2023-12-12T06:32:51.058Z"
   },
   {
    "duration": 77,
    "start_time": "2023-12-12T06:32:51.157Z"
   },
   {
    "duration": 81,
    "start_time": "2023-12-12T06:32:51.235Z"
   },
   {
    "duration": 235,
    "start_time": "2023-12-12T06:32:51.318Z"
   },
   {
    "duration": 3,
    "start_time": "2023-12-12T06:32:51.555Z"
   },
   {
    "duration": 31,
    "start_time": "2023-12-12T06:32:51.560Z"
   },
   {
    "duration": 3,
    "start_time": "2023-12-12T06:32:51.593Z"
   },
   {
    "duration": 4631,
    "start_time": "2023-12-12T06:32:51.598Z"
   },
   {
    "duration": 22,
    "start_time": "2023-12-12T06:32:56.231Z"
   },
   {
    "duration": 14,
    "start_time": "2023-12-12T06:32:56.255Z"
   },
   {
    "duration": 28,
    "start_time": "2023-12-12T06:32:56.271Z"
   },
   {
    "duration": 54,
    "start_time": "2023-12-12T06:32:56.300Z"
   },
   {
    "duration": 37,
    "start_time": "2023-12-12T06:32:56.355Z"
   },
   {
    "duration": 18,
    "start_time": "2023-12-12T06:32:56.394Z"
   },
   {
    "duration": 32,
    "start_time": "2023-12-12T06:32:56.414Z"
   },
   {
    "duration": 57,
    "start_time": "2023-12-12T06:32:56.448Z"
   },
   {
    "duration": 801,
    "start_time": "2023-12-12T06:32:56.506Z"
   },
   {
    "duration": 3,
    "start_time": "2023-12-12T06:32:57.309Z"
   },
   {
    "duration": 41,
    "start_time": "2023-12-12T06:32:57.313Z"
   },
   {
    "duration": 2350,
    "start_time": "2023-12-12T06:32:57.356Z"
   },
   {
    "duration": 3080,
    "start_time": "2023-12-12T06:32:59.708Z"
   },
   {
    "duration": 28981,
    "start_time": "2023-12-12T06:33:02.789Z"
   },
   {
    "duration": 4461,
    "start_time": "2023-12-12T06:33:31.772Z"
   },
   {
    "duration": 3,
    "start_time": "2023-12-12T06:33:36.234Z"
   },
   {
    "duration": 53,
    "start_time": "2023-12-12T06:33:36.244Z"
   },
   {
    "duration": 182,
    "start_time": "2023-12-12T06:33:36.299Z"
   },
   {
    "duration": 28329,
    "start_time": "2023-12-12T06:33:36.483Z"
   },
   {
    "duration": 3,
    "start_time": "2023-12-12T06:34:04.813Z"
   },
   {
    "duration": 28,
    "start_time": "2023-12-12T06:34:04.817Z"
   },
   {
    "duration": 2,
    "start_time": "2023-12-12T06:34:04.847Z"
   },
   {
    "duration": 4710,
    "start_time": "2023-12-12T06:34:04.851Z"
   },
   {
    "duration": 23,
    "start_time": "2023-12-12T06:34:09.562Z"
   },
   {
    "duration": 16,
    "start_time": "2023-12-12T06:34:09.586Z"
   },
   {
    "duration": 7,
    "start_time": "2023-12-12T06:34:09.604Z"
   },
   {
    "duration": 13,
    "start_time": "2023-12-12T06:34:09.631Z"
   },
   {
    "duration": 8,
    "start_time": "2023-12-12T06:34:09.645Z"
   },
   {
    "duration": 5,
    "start_time": "2023-12-12T06:34:09.654Z"
   },
   {
    "duration": 19,
    "start_time": "2023-12-12T06:34:09.660Z"
   },
   {
    "duration": 15,
    "start_time": "2023-12-12T06:34:09.680Z"
   },
   {
    "duration": 821,
    "start_time": "2023-12-12T06:34:09.697Z"
   },
   {
    "duration": 3,
    "start_time": "2023-12-12T06:34:10.520Z"
   },
   {
    "duration": 27,
    "start_time": "2023-12-12T06:34:10.525Z"
   },
   {
    "duration": 6,
    "start_time": "2023-12-12T06:34:10.554Z"
   },
   {
    "duration": 6,
    "start_time": "2023-12-12T06:34:10.562Z"
   },
   {
    "duration": 10,
    "start_time": "2023-12-12T06:34:10.569Z"
   },
   {
    "duration": 29,
    "start_time": "2023-12-12T06:34:10.580Z"
   },
   {
    "duration": 21,
    "start_time": "2023-12-12T06:34:10.611Z"
   },
   {
    "duration": 22,
    "start_time": "2023-12-12T06:34:10.634Z"
   },
   {
    "duration": 4825,
    "start_time": "2023-12-12T06:34:10.658Z"
   },
   {
    "duration": 53276,
    "start_time": "2023-12-12T06:34:15.484Z"
   },
   {
    "duration": 30737,
    "start_time": "2023-12-12T06:35:08.763Z"
   },
   {
    "duration": 3,
    "start_time": "2023-12-12T06:35:39.501Z"
   },
   {
    "duration": 9,
    "start_time": "2023-12-12T06:35:39.505Z"
   },
   {
    "duration": 6,
    "start_time": "2023-12-12T06:35:39.516Z"
   },
   {
    "duration": 8,
    "start_time": "2023-12-12T06:35:39.523Z"
   },
   {
    "duration": 173740,
    "start_time": "2023-12-12T06:35:39.532Z"
   },
   {
    "duration": 31,
    "start_time": "2023-12-12T06:38:33.274Z"
   },
   {
    "duration": 29,
    "start_time": "2023-12-12T06:38:33.307Z"
   },
   {
    "duration": 42,
    "start_time": "2023-12-12T06:38:33.337Z"
   },
   {
    "duration": 12,
    "start_time": "2023-12-12T06:38:33.381Z"
   },
   {
    "duration": 44,
    "start_time": "2023-12-12T06:38:33.394Z"
   },
   {
    "duration": 19,
    "start_time": "2023-12-12T06:38:33.439Z"
   },
   {
    "duration": 3,
    "start_time": "2023-12-12T06:38:33.460Z"
   },
   {
    "duration": 37,
    "start_time": "2023-12-12T06:38:33.465Z"
   },
   {
    "duration": 48,
    "start_time": "2023-12-12T06:38:33.504Z"
   },
   {
    "duration": 30,
    "start_time": "2023-12-12T06:38:33.554Z"
   },
   {
    "duration": 7,
    "start_time": "2023-12-12T06:38:33.586Z"
   },
   {
    "duration": 41,
    "start_time": "2023-12-12T06:38:33.595Z"
   },
   {
    "duration": 13,
    "start_time": "2023-12-12T06:38:33.638Z"
   },
   {
    "duration": 8,
    "start_time": "2023-12-12T06:38:33.653Z"
   },
   {
    "duration": 6,
    "start_time": "2023-12-12T06:38:33.663Z"
   },
   {
    "duration": 23,
    "start_time": "2023-12-12T06:38:33.671Z"
   },
   {
    "duration": 25,
    "start_time": "2023-12-12T06:38:33.696Z"
   },
   {
    "duration": 9,
    "start_time": "2023-12-12T06:38:33.723Z"
   },
   {
    "duration": 8,
    "start_time": "2023-12-12T06:38:33.734Z"
   },
   {
    "duration": 8,
    "start_time": "2023-12-12T06:38:33.743Z"
   },
   {
    "duration": 7,
    "start_time": "2023-12-12T06:38:33.752Z"
   },
   {
    "duration": 18,
    "start_time": "2023-12-12T06:38:33.761Z"
   },
   {
    "duration": 14,
    "start_time": "2023-12-12T06:38:33.781Z"
   },
   {
    "duration": 36,
    "start_time": "2023-12-12T06:38:33.797Z"
   },
   {
    "duration": 28,
    "start_time": "2023-12-12T06:38:33.835Z"
   },
   {
    "duration": 17,
    "start_time": "2023-12-12T06:38:33.865Z"
   },
   {
    "duration": 17,
    "start_time": "2023-12-12T06:38:33.884Z"
   },
   {
    "duration": 1255,
    "start_time": "2023-12-12T06:38:33.903Z"
   },
   {
    "duration": 2,
    "start_time": "2023-12-12T06:38:35.160Z"
   },
   {
    "duration": 125,
    "start_time": "2023-12-12T06:38:35.164Z"
   },
   {
    "duration": 0,
    "start_time": "2023-12-12T06:38:35.290Z"
   },
   {
    "duration": 0,
    "start_time": "2023-12-12T06:38:35.291Z"
   },
   {
    "duration": 0,
    "start_time": "2023-12-12T06:38:35.292Z"
   },
   {
    "duration": 0,
    "start_time": "2023-12-12T06:38:35.293Z"
   },
   {
    "duration": 0,
    "start_time": "2023-12-12T06:38:35.294Z"
   },
   {
    "duration": 0,
    "start_time": "2023-12-12T06:38:35.295Z"
   },
   {
    "duration": 809,
    "start_time": "2023-12-12T06:49:37.678Z"
   },
   {
    "duration": 4,
    "start_time": "2023-12-12T06:49:52.977Z"
   },
   {
    "duration": 9,
    "start_time": "2023-12-12T06:49:57.897Z"
   },
   {
    "duration": 4,
    "start_time": "2023-12-12T06:50:34.896Z"
   },
   {
    "duration": 6,
    "start_time": "2023-12-12T06:51:00.490Z"
   },
   {
    "duration": 13,
    "start_time": "2023-12-12T06:51:29.466Z"
   },
   {
    "duration": 15,
    "start_time": "2023-12-12T06:52:08.401Z"
   },
   {
    "duration": 8,
    "start_time": "2023-12-12T06:52:22.124Z"
   },
   {
    "duration": 5,
    "start_time": "2023-12-12T06:52:48.768Z"
   },
   {
    "duration": 16,
    "start_time": "2023-12-12T06:54:52.770Z"
   },
   {
    "duration": 19,
    "start_time": "2023-12-12T06:55:08.325Z"
   },
   {
    "duration": 15,
    "start_time": "2023-12-12T06:55:32.972Z"
   },
   {
    "duration": 6,
    "start_time": "2023-12-12T06:57:15.253Z"
   },
   {
    "duration": 6,
    "start_time": "2023-12-12T06:57:34.355Z"
   },
   {
    "duration": 5,
    "start_time": "2023-12-12T06:57:47.041Z"
   },
   {
    "duration": 4,
    "start_time": "2023-12-12T06:59:58.572Z"
   },
   {
    "duration": 91,
    "start_time": "2023-12-12T07:00:05.788Z"
   },
   {
    "duration": 12,
    "start_time": "2023-12-12T07:00:57.036Z"
   },
   {
    "duration": 28,
    "start_time": "2023-12-12T07:02:45.590Z"
   },
   {
    "duration": 4,
    "start_time": "2023-12-12T07:06:52.021Z"
   },
   {
    "duration": 6,
    "start_time": "2023-12-12T07:08:02.278Z"
   },
   {
    "duration": 6,
    "start_time": "2023-12-12T07:08:21.573Z"
   },
   {
    "duration": 9,
    "start_time": "2023-12-12T07:24:23.367Z"
   },
   {
    "duration": 28,
    "start_time": "2023-12-12T07:24:32.441Z"
   },
   {
    "duration": 33,
    "start_time": "2023-12-12T07:25:36.696Z"
   },
   {
    "duration": 8,
    "start_time": "2023-12-12T07:25:52.494Z"
   },
   {
    "duration": 32,
    "start_time": "2023-12-12T07:26:04.319Z"
   },
   {
    "duration": 16,
    "start_time": "2023-12-12T07:26:33.877Z"
   },
   {
    "duration": 8,
    "start_time": "2023-12-12T07:26:39.380Z"
   },
   {
    "duration": 18,
    "start_time": "2023-12-12T07:26:50.476Z"
   },
   {
    "duration": 12,
    "start_time": "2023-12-12T07:31:11.604Z"
   },
   {
    "duration": 9,
    "start_time": "2023-12-12T07:31:42.709Z"
   },
   {
    "duration": 9,
    "start_time": "2023-12-12T07:31:56.212Z"
   },
   {
    "duration": 16,
    "start_time": "2023-12-12T07:32:10.126Z"
   },
   {
    "duration": 10,
    "start_time": "2023-12-12T07:36:05.944Z"
   },
   {
    "duration": 7,
    "start_time": "2023-12-12T07:36:36.631Z"
   },
   {
    "duration": 17,
    "start_time": "2023-12-12T07:37:00.280Z"
   },
   {
    "duration": 21,
    "start_time": "2023-12-12T07:42:29.826Z"
   },
   {
    "duration": 30,
    "start_time": "2023-12-12T07:43:37.960Z"
   },
   {
    "duration": 18,
    "start_time": "2023-12-12T07:44:03.595Z"
   },
   {
    "duration": 9,
    "start_time": "2023-12-12T07:49:27.029Z"
   },
   {
    "duration": 8,
    "start_time": "2023-12-12T07:49:36.388Z"
   },
   {
    "duration": 4,
    "start_time": "2023-12-12T07:51:04.988Z"
   },
   {
    "duration": 4,
    "start_time": "2023-12-12T07:51:27.540Z"
   },
   {
    "duration": 9,
    "start_time": "2023-12-12T07:51:40.717Z"
   },
   {
    "duration": 9,
    "start_time": "2023-12-12T07:51:49.179Z"
   },
   {
    "duration": 18,
    "start_time": "2023-12-12T07:53:24.100Z"
   },
   {
    "duration": 7,
    "start_time": "2023-12-12T07:54:16.740Z"
   },
   {
    "duration": 8,
    "start_time": "2023-12-12T07:54:27.200Z"
   },
   {
    "duration": 10,
    "start_time": "2023-12-12T07:54:44.238Z"
   },
   {
    "duration": 45,
    "start_time": "2023-12-12T07:55:58.153Z"
   },
   {
    "duration": 4,
    "start_time": "2023-12-12T07:56:17.696Z"
   },
   {
    "duration": 3,
    "start_time": "2023-12-12T07:56:18.180Z"
   },
   {
    "duration": 3,
    "start_time": "2023-12-12T07:56:18.398Z"
   },
   {
    "duration": 4,
    "start_time": "2023-12-12T07:56:19.372Z"
   },
   {
    "duration": 3,
    "start_time": "2023-12-12T07:56:20.062Z"
   },
   {
    "duration": 115,
    "start_time": "2023-12-12T07:56:21.971Z"
   },
   {
    "duration": 19,
    "start_time": "2023-12-12T07:56:23.691Z"
   },
   {
    "duration": 18,
    "start_time": "2023-12-12T07:56:24.870Z"
   },
   {
    "duration": 6737,
    "start_time": "2023-12-12T07:56:26.663Z"
   },
   {
    "duration": 15863,
    "start_time": "2023-12-12T07:56:45.065Z"
   },
   {
    "duration": 38571,
    "start_time": "2023-12-12T07:58:55.549Z"
   },
   {
    "duration": 42208,
    "start_time": "2023-12-12T07:59:42.425Z"
   },
   {
    "duration": 44118,
    "start_time": "2023-12-12T08:02:12.686Z"
   },
   {
    "duration": 44980,
    "start_time": "2023-12-12T08:03:58.495Z"
   },
   {
    "duration": 42509,
    "start_time": "2023-12-12T08:06:23.940Z"
   },
   {
    "duration": 3,
    "start_time": "2023-12-12T08:07:12.329Z"
   },
   {
    "duration": 39,
    "start_time": "2023-12-12T08:07:18.343Z"
   },
   {
    "duration": 6996,
    "start_time": "2023-12-12T08:07:37.314Z"
   },
   {
    "duration": 7108,
    "start_time": "2023-12-12T08:08:00.937Z"
   },
   {
    "duration": 6862,
    "start_time": "2023-12-12T08:08:16.992Z"
   },
   {
    "duration": 6573,
    "start_time": "2023-12-12T08:08:38.154Z"
   },
   {
    "duration": 6958,
    "start_time": "2023-12-12T08:09:07.706Z"
   },
   {
    "duration": 7847,
    "start_time": "2023-12-12T08:09:30.471Z"
   },
   {
    "duration": 7461,
    "start_time": "2023-12-12T08:09:38.908Z"
   },
   {
    "duration": 7913,
    "start_time": "2023-12-12T08:10:10.496Z"
   },
   {
    "duration": 81230,
    "start_time": "2023-12-12T08:13:19.591Z"
   },
   {
    "duration": 3,
    "start_time": "2023-12-12T08:15:03.391Z"
   },
   {
    "duration": 7,
    "start_time": "2023-12-12T08:15:13.884Z"
   },
   {
    "duration": 669,
    "start_time": "2023-12-12T08:15:40.924Z"
   },
   {
    "duration": 76534,
    "start_time": "2023-12-12T08:16:31.396Z"
   },
   {
    "duration": 33214,
    "start_time": "2023-12-12T08:23:17.184Z"
   },
   {
    "duration": 2,
    "start_time": "2023-12-12T08:24:10.146Z"
   },
   {
    "duration": 71,
    "start_time": "2023-12-12T08:24:15.784Z"
   },
   {
    "duration": 9640,
    "start_time": "2023-12-12T08:26:29.432Z"
   },
   {
    "duration": 9541,
    "start_time": "2023-12-12T08:27:39.774Z"
   },
   {
    "duration": 74,
    "start_time": "2023-12-12T08:30:31.948Z"
   },
   {
    "duration": 3,
    "start_time": "2023-12-12T08:30:38.179Z"
   },
   {
    "duration": 4,
    "start_time": "2023-12-12T08:30:46.948Z"
   },
   {
    "duration": 499,
    "start_time": "2023-12-12T08:30:50.540Z"
   },
   {
    "duration": 422,
    "start_time": "2023-12-12T08:32:51.301Z"
   },
   {
    "duration": 430,
    "start_time": "2023-12-12T08:33:04.123Z"
   },
   {
    "duration": 499,
    "start_time": "2023-12-12T08:33:53.586Z"
   },
   {
    "duration": 461,
    "start_time": "2023-12-12T08:34:02.432Z"
   },
   {
    "duration": 358,
    "start_time": "2023-12-12T08:34:08.105Z"
   },
   {
    "duration": 513,
    "start_time": "2023-12-12T08:35:31.481Z"
   },
   {
    "duration": 71,
    "start_time": "2023-12-12T08:35:49.837Z"
   },
   {
    "duration": 505,
    "start_time": "2023-12-12T08:35:54.970Z"
   },
   {
    "duration": 640,
    "start_time": "2023-12-12T08:36:00.770Z"
   },
   {
    "duration": 440,
    "start_time": "2023-12-12T08:36:14.948Z"
   },
   {
    "duration": 480,
    "start_time": "2023-12-12T08:36:35.054Z"
   },
   {
    "duration": 446,
    "start_time": "2023-12-12T08:36:41.510Z"
   },
   {
    "duration": 398,
    "start_time": "2023-12-12T08:37:28.913Z"
   },
   {
    "duration": 471,
    "start_time": "2023-12-12T08:37:44.482Z"
   },
   {
    "duration": 548,
    "start_time": "2023-12-12T08:37:58.491Z"
   },
   {
    "duration": 564,
    "start_time": "2023-12-12T08:38:46.791Z"
   },
   {
    "duration": 471,
    "start_time": "2023-12-12T08:39:27.809Z"
   },
   {
    "duration": 447,
    "start_time": "2023-12-12T08:39:39.457Z"
   },
   {
    "duration": 513,
    "start_time": "2023-12-12T08:40:03.606Z"
   },
   {
    "duration": 361,
    "start_time": "2023-12-12T08:40:58.071Z"
   },
   {
    "duration": 482,
    "start_time": "2023-12-12T08:41:09.470Z"
   },
   {
    "duration": 392,
    "start_time": "2023-12-12T08:41:41.898Z"
   },
   {
    "duration": 354,
    "start_time": "2023-12-12T08:41:52.257Z"
   },
   {
    "duration": 481,
    "start_time": "2023-12-12T08:42:04.388Z"
   },
   {
    "duration": 386,
    "start_time": "2023-12-12T08:43:47.406Z"
   },
   {
    "duration": 416,
    "start_time": "2023-12-12T08:44:35.306Z"
   },
   {
    "duration": 458,
    "start_time": "2023-12-12T08:44:43.778Z"
   },
   {
    "duration": 406,
    "start_time": "2023-12-12T08:44:54.314Z"
   },
   {
    "duration": 464,
    "start_time": "2023-12-12T08:45:03.081Z"
   },
   {
    "duration": 580,
    "start_time": "2023-12-12T08:45:17.522Z"
   },
   {
    "duration": 451,
    "start_time": "2023-12-12T08:45:23.450Z"
   },
   {
    "duration": 418,
    "start_time": "2023-12-12T08:45:37.539Z"
   },
   {
    "duration": 661,
    "start_time": "2023-12-12T08:46:15.709Z"
   },
   {
    "duration": 47966,
    "start_time": "2023-12-12T08:57:25.276Z"
   },
   {
    "duration": 687,
    "start_time": "2023-12-12T09:10:03.233Z"
   },
   {
    "duration": 21141,
    "start_time": "2023-12-12T09:10:13.407Z"
   },
   {
    "duration": 8,
    "start_time": "2023-12-12T09:10:36.775Z"
   },
   {
    "duration": 12,
    "start_time": "2023-12-12T09:10:37.878Z"
   },
   {
    "duration": 7,
    "start_time": "2023-12-12T09:10:40.526Z"
   },
   {
    "duration": 10,
    "start_time": "2023-12-12T09:10:41.310Z"
   },
   {
    "duration": 8,
    "start_time": "2023-12-12T09:10:42.375Z"
   },
   {
    "duration": 16,
    "start_time": "2023-12-12T09:10:42.983Z"
   },
   {
    "duration": 3,
    "start_time": "2023-12-12T09:10:51.291Z"
   },
   {
    "duration": 16,
    "start_time": "2023-12-12T09:10:52.822Z"
   },
   {
    "duration": 17,
    "start_time": "2023-12-12T09:11:00.063Z"
   },
   {
    "duration": 17,
    "start_time": "2023-12-12T09:11:00.950Z"
   },
   {
    "duration": 9,
    "start_time": "2023-12-12T09:12:19.718Z"
   },
   {
    "duration": 9,
    "start_time": "2023-12-12T09:12:27.975Z"
   },
   {
    "duration": 10,
    "start_time": "2023-12-12T09:13:30.896Z"
   },
   {
    "duration": 5,
    "start_time": "2023-12-12T09:13:49.039Z"
   },
   {
    "duration": 16,
    "start_time": "2023-12-12T09:13:59.105Z"
   },
   {
    "duration": 5,
    "start_time": "2023-12-12T09:14:37.883Z"
   },
   {
    "duration": 4,
    "start_time": "2023-12-12T09:15:08.591Z"
   },
   {
    "duration": 5,
    "start_time": "2023-12-12T09:15:09.322Z"
   },
   {
    "duration": 2,
    "start_time": "2023-12-12T09:15:19.287Z"
   },
   {
    "duration": 17,
    "start_time": "2023-12-12T09:15:20.159Z"
   },
   {
    "duration": 8,
    "start_time": "2023-12-12T09:15:26.560Z"
   },
   {
    "duration": 5,
    "start_time": "2023-12-12T09:15:27.198Z"
   },
   {
    "duration": 3,
    "start_time": "2023-12-12T09:15:41.318Z"
   },
   {
    "duration": 4,
    "start_time": "2023-12-12T09:15:53.966Z"
   },
   {
    "duration": 16,
    "start_time": "2023-12-12T09:15:58.096Z"
   },
   {
    "duration": 10,
    "start_time": "2023-12-12T09:18:50.546Z"
   },
   {
    "duration": 19,
    "start_time": "2023-12-12T09:18:54.040Z"
   },
   {
    "duration": 12,
    "start_time": "2023-12-12T09:19:13.543Z"
   },
   {
    "duration": 17,
    "start_time": "2023-12-12T09:19:21.384Z"
   },
   {
    "duration": 30,
    "start_time": "2023-12-12T09:19:29.569Z"
   },
   {
    "duration": 5,
    "start_time": "2023-12-12T10:30:01.966Z"
   },
   {
    "duration": 5,
    "start_time": "2023-12-12T10:30:02.693Z"
   },
   {
    "duration": 3,
    "start_time": "2023-12-12T10:30:07.423Z"
   },
   {
    "duration": 17,
    "start_time": "2023-12-12T10:30:08.542Z"
   },
   {
    "duration": 6,
    "start_time": "2023-12-12T10:30:14.214Z"
   },
   {
    "duration": 4,
    "start_time": "2023-12-12T10:30:15.120Z"
   },
   {
    "duration": 3,
    "start_time": "2023-12-12T10:30:20.303Z"
   },
   {
    "duration": 4,
    "start_time": "2023-12-12T10:30:24.447Z"
   },
   {
    "duration": 22,
    "start_time": "2023-12-12T10:30:26.537Z"
   },
   {
    "duration": 4,
    "start_time": "2023-12-12T10:30:36.857Z"
   },
   {
    "duration": 10,
    "start_time": "2023-12-12T10:30:37.608Z"
   },
   {
    "duration": 20,
    "start_time": "2023-12-12T10:30:50.253Z"
   },
   {
    "duration": 7,
    "start_time": "2023-12-12T10:31:45.071Z"
   },
   {
    "duration": 16,
    "start_time": "2023-12-12T10:31:46.343Z"
   },
   {
    "duration": 4,
    "start_time": "2023-12-12T10:31:56.744Z"
   },
   {
    "duration": 5,
    "start_time": "2023-12-12T10:31:58.070Z"
   },
   {
    "duration": 2,
    "start_time": "2023-12-12T10:32:04.197Z"
   },
   {
    "duration": 16,
    "start_time": "2023-12-12T10:32:05.040Z"
   },
   {
    "duration": 16,
    "start_time": "2023-12-12T10:32:29.104Z"
   },
   {
    "duration": 18,
    "start_time": "2023-12-12T10:33:10.335Z"
   },
   {
    "duration": 5,
    "start_time": "2023-12-12T10:33:41.503Z"
   },
   {
    "duration": 4,
    "start_time": "2023-12-12T10:33:42.408Z"
   },
   {
    "duration": 3,
    "start_time": "2023-12-12T10:34:04.856Z"
   },
   {
    "duration": 17,
    "start_time": "2023-12-12T10:34:07.304Z"
   },
   {
    "duration": 5,
    "start_time": "2023-12-12T10:34:34.863Z"
   },
   {
    "duration": 17,
    "start_time": "2023-12-12T10:34:36.370Z"
   },
   {
    "duration": 11,
    "start_time": "2023-12-12T10:35:01.183Z"
   },
   {
    "duration": 20,
    "start_time": "2023-12-12T10:35:06.921Z"
   },
   {
    "duration": 31,
    "start_time": "2023-12-12T10:35:27.570Z"
   },
   {
    "duration": 3,
    "start_time": "2023-12-12T10:36:05.100Z"
   },
   {
    "duration": 3,
    "start_time": "2023-12-12T10:36:05.654Z"
   },
   {
    "duration": 3,
    "start_time": "2023-12-12T10:36:08.196Z"
   },
   {
    "duration": 4,
    "start_time": "2023-12-12T10:36:08.742Z"
   },
   {
    "duration": 5,
    "start_time": "2023-12-12T10:36:14.915Z"
   },
   {
    "duration": 4,
    "start_time": "2023-12-12T10:36:15.726Z"
   },
   {
    "duration": 80,
    "start_time": "2023-12-12T10:36:17.092Z"
   },
   {
    "duration": 21,
    "start_time": "2023-12-12T10:36:18.596Z"
   },
   {
    "duration": 18,
    "start_time": "2023-12-12T10:36:19.916Z"
   },
   {
    "duration": 633,
    "start_time": "2023-12-12T10:36:21.566Z"
   },
   {
    "duration": 6047,
    "start_time": "2023-12-12T10:36:24.983Z"
   },
   {
    "duration": 3157,
    "start_time": "2023-12-12T10:36:34.545Z"
   },
   {
    "duration": 4,
    "start_time": "2023-12-12T10:36:47.640Z"
   },
   {
    "duration": 3,
    "start_time": "2023-12-12T10:36:48.620Z"
   },
   {
    "duration": 3,
    "start_time": "2023-12-12T10:36:50.291Z"
   },
   {
    "duration": 1382,
    "start_time": "2023-12-12T10:37:32.321Z"
   },
   {
    "duration": 19546,
    "start_time": "2023-12-12T10:37:39.110Z"
   },
   {
    "duration": 8,
    "start_time": "2023-12-12T10:38:01.485Z"
   },
   {
    "duration": 12,
    "start_time": "2023-12-12T10:38:06.456Z"
   },
   {
    "duration": 9,
    "start_time": "2023-12-12T10:38:07.799Z"
   },
   {
    "duration": 13,
    "start_time": "2023-12-12T10:38:08.775Z"
   },
   {
    "duration": 9,
    "start_time": "2023-12-12T10:38:10.092Z"
   },
   {
    "duration": 17,
    "start_time": "2023-12-12T10:38:10.735Z"
   },
   {
    "duration": 3,
    "start_time": "2023-12-12T10:38:18.437Z"
   },
   {
    "duration": 15,
    "start_time": "2023-12-12T10:38:20.985Z"
   },
   {
    "duration": 16,
    "start_time": "2023-12-12T10:38:21.782Z"
   },
   {
    "duration": 17,
    "start_time": "2023-12-12T10:38:22.503Z"
   },
   {
    "duration": 4,
    "start_time": "2023-12-12T10:38:30.998Z"
   },
   {
    "duration": 5,
    "start_time": "2023-12-12T10:38:32.234Z"
   },
   {
    "duration": 3,
    "start_time": "2023-12-12T10:38:44.807Z"
   },
   {
    "duration": 2,
    "start_time": "2023-12-12T10:38:47.608Z"
   },
   {
    "duration": 16,
    "start_time": "2023-12-12T10:38:51.000Z"
   },
   {
    "duration": 6,
    "start_time": "2023-12-12T10:38:53.856Z"
   },
   {
    "duration": 5,
    "start_time": "2023-12-12T10:39:34.247Z"
   },
   {
    "duration": 3,
    "start_time": "2023-12-12T10:39:35.408Z"
   },
   {
    "duration": 5,
    "start_time": "2023-12-12T10:39:47.905Z"
   },
   {
    "duration": 18,
    "start_time": "2023-12-12T10:39:50.625Z"
   },
   {
    "duration": 5,
    "start_time": "2023-12-12T10:39:54.720Z"
   },
   {
    "duration": 11,
    "start_time": "2023-12-12T10:39:55.847Z"
   },
   {
    "duration": 22,
    "start_time": "2023-12-12T10:39:57.803Z"
   },
   {
    "duration": 20,
    "start_time": "2023-12-12T10:40:01.721Z"
   },
   {
    "duration": 3,
    "start_time": "2023-12-12T10:42:55.728Z"
   },
   {
    "duration": 3,
    "start_time": "2023-12-12T10:48:18.210Z"
   },
   {
    "duration": 5,
    "start_time": "2023-12-12T10:48:41.152Z"
   },
   {
    "duration": 3,
    "start_time": "2023-12-12T10:48:54.106Z"
   },
   {
    "duration": 3,
    "start_time": "2023-12-12T10:49:20.818Z"
   },
   {
    "duration": 6,
    "start_time": "2023-12-12T10:52:54.121Z"
   },
   {
    "duration": 3,
    "start_time": "2023-12-12T10:55:34.075Z"
   },
   {
    "duration": 32,
    "start_time": "2023-12-12T10:55:56.297Z"
   },
   {
    "duration": 4,
    "start_time": "2023-12-12T10:56:06.705Z"
   },
   {
    "duration": 34,
    "start_time": "2023-12-12T10:56:07.381Z"
   },
   {
    "duration": 3,
    "start_time": "2023-12-12T10:56:56.185Z"
   },
   {
    "duration": 28,
    "start_time": "2023-12-12T10:56:56.875Z"
   },
   {
    "duration": 3,
    "start_time": "2023-12-12T11:01:06.025Z"
   },
   {
    "duration": 457,
    "start_time": "2023-12-12T11:01:08.376Z"
   },
   {
    "duration": 3,
    "start_time": "2023-12-12T11:04:29.654Z"
   },
   {
    "duration": 26,
    "start_time": "2023-12-12T11:04:29.661Z"
   },
   {
    "duration": 6,
    "start_time": "2023-12-12T11:04:29.689Z"
   },
   {
    "duration": 15,
    "start_time": "2023-12-12T11:04:29.697Z"
   },
   {
    "duration": 6,
    "start_time": "2023-12-12T11:04:29.714Z"
   },
   {
    "duration": 8,
    "start_time": "2023-12-12T11:04:29.721Z"
   },
   {
    "duration": 44,
    "start_time": "2023-12-12T11:04:29.731Z"
   },
   {
    "duration": 18,
    "start_time": "2023-12-12T11:04:29.776Z"
   },
   {
    "duration": 19,
    "start_time": "2023-12-12T11:04:29.797Z"
   },
   {
    "duration": 432,
    "start_time": "2023-12-12T11:04:29.817Z"
   },
   {
    "duration": 5984,
    "start_time": "2023-12-12T11:04:30.251Z"
   },
   {
    "duration": 3203,
    "start_time": "2023-12-12T11:04:36.237Z"
   },
   {
    "duration": 3,
    "start_time": "2023-12-12T11:04:39.441Z"
   },
   {
    "duration": 20,
    "start_time": "2023-12-12T11:04:39.446Z"
   },
   {
    "duration": 15,
    "start_time": "2023-12-12T11:04:39.468Z"
   },
   {
    "duration": 1555,
    "start_time": "2023-12-12T11:04:39.485Z"
   },
   {
    "duration": 20305,
    "start_time": "2023-12-12T11:04:41.043Z"
   },
   {
    "duration": 7,
    "start_time": "2023-12-12T11:05:01.350Z"
   },
   {
    "duration": 89,
    "start_time": "2023-12-12T11:05:01.359Z"
   },
   {
    "duration": 122,
    "start_time": "2023-12-12T11:05:01.450Z"
   },
   {
    "duration": 162,
    "start_time": "2023-12-12T11:05:01.575Z"
   },
   {
    "duration": 158,
    "start_time": "2023-12-12T11:05:01.739Z"
   },
   {
    "duration": 78,
    "start_time": "2023-12-12T11:05:01.899Z"
   },
   {
    "duration": 28,
    "start_time": "2023-12-12T11:05:01.979Z"
   },
   {
    "duration": 86,
    "start_time": "2023-12-12T11:05:02.009Z"
   },
   {
    "duration": 75,
    "start_time": "2023-12-12T11:05:02.096Z"
   },
   {
    "duration": 211,
    "start_time": "2023-12-12T11:05:02.173Z"
   },
   {
    "duration": 141,
    "start_time": "2023-12-12T11:05:02.387Z"
   },
   {
    "duration": 47,
    "start_time": "2023-12-12T11:05:02.530Z"
   },
   {
    "duration": 29,
    "start_time": "2023-12-12T11:05:02.579Z"
   },
   {
    "duration": 37,
    "start_time": "2023-12-12T11:05:02.610Z"
   },
   {
    "duration": 369,
    "start_time": "2023-12-12T11:05:02.649Z"
   },
   {
    "duration": 308,
    "start_time": "2023-12-12T11:05:03.020Z"
   },
   {
    "duration": 4,
    "start_time": "2023-12-12T11:05:03.330Z"
   },
   {
    "duration": 32,
    "start_time": "2023-12-12T11:05:03.335Z"
   },
   {
    "duration": 47,
    "start_time": "2023-12-12T11:05:03.368Z"
   },
   {
    "duration": 18,
    "start_time": "2023-12-12T11:05:03.417Z"
   },
   {
    "duration": 36,
    "start_time": "2023-12-12T11:05:03.437Z"
   },
   {
    "duration": 27,
    "start_time": "2023-12-12T11:05:03.474Z"
   },
   {
    "duration": 26,
    "start_time": "2023-12-12T11:05:03.504Z"
   },
   {
    "duration": 28,
    "start_time": "2023-12-12T11:05:03.531Z"
   },
   {
    "duration": 48,
    "start_time": "2023-12-12T11:05:03.562Z"
   },
   {
    "duration": 374,
    "start_time": "2023-12-12T11:05:03.612Z"
   },
   {
    "duration": 142,
    "start_time": "2023-12-12T11:05:03.988Z"
   },
   {
    "duration": 14070,
    "start_time": "2023-12-12T11:05:04.132Z"
   },
   {
    "duration": 11,
    "start_time": "2023-12-12T11:06:23.802Z"
   },
   {
    "duration": 9,
    "start_time": "2023-12-12T11:06:35.186Z"
   },
   {
    "duration": 6,
    "start_time": "2023-12-12T11:07:00.426Z"
   },
   {
    "duration": 4,
    "start_time": "2023-12-12T11:07:02.193Z"
   },
   {
    "duration": 4,
    "start_time": "2023-12-12T11:07:05.392Z"
   },
   {
    "duration": 326,
    "start_time": "2023-12-12T11:07:14.076Z"
   },
   {
    "duration": 5,
    "start_time": "2023-12-12T11:08:57.050Z"
   },
   {
    "duration": 3,
    "start_time": "2023-12-12T11:09:04.330Z"
   },
   {
    "duration": 485,
    "start_time": "2023-12-12T11:09:05.675Z"
   },
   {
    "duration": 7,
    "start_time": "2023-12-12T11:09:38.131Z"
   },
   {
    "duration": 17,
    "start_time": "2023-12-12T11:09:38.875Z"
   },
   {
    "duration": 5,
    "start_time": "2023-12-12T11:09:46.847Z"
   },
   {
    "duration": 17,
    "start_time": "2023-12-12T11:09:48.418Z"
   },
   {
    "duration": 17,
    "start_time": "2023-12-12T11:09:49.297Z"
   },
   {
    "duration": 17,
    "start_time": "2023-12-12T11:09:49.945Z"
   },
   {
    "duration": 4,
    "start_time": "2023-12-12T11:09:54.490Z"
   },
   {
    "duration": 5,
    "start_time": "2023-12-12T11:09:55.321Z"
   },
   {
    "duration": 3,
    "start_time": "2023-12-12T11:09:55.883Z"
   },
   {
    "duration": 4,
    "start_time": "2023-12-12T11:09:58.904Z"
   },
   {
    "duration": 360,
    "start_time": "2023-12-12T11:10:00.011Z"
   },
   {
    "duration": 4,
    "start_time": "2023-12-12T11:12:17.548Z"
   },
   {
    "duration": 4,
    "start_time": "2023-12-12T11:12:21.667Z"
   },
   {
    "duration": 18,
    "start_time": "2023-12-12T11:12:22.382Z"
   },
   {
    "duration": 4,
    "start_time": "2023-12-12T11:14:09.038Z"
   },
   {
    "duration": 6,
    "start_time": "2023-12-12T11:14:10.635Z"
   },
   {
    "duration": 3,
    "start_time": "2023-12-12T11:14:11.115Z"
   },
   {
    "duration": 4,
    "start_time": "2023-12-12T11:14:13.329Z"
   },
   {
    "duration": 19,
    "start_time": "2023-12-12T11:14:13.972Z"
   },
   {
    "duration": 4,
    "start_time": "2023-12-12T11:14:49.717Z"
   },
   {
    "duration": 4,
    "start_time": "2023-12-12T11:14:53.083Z"
   },
   {
    "duration": 311,
    "start_time": "2023-12-12T11:14:53.788Z"
   },
   {
    "duration": 4,
    "start_time": "2023-12-12T11:15:14.294Z"
   },
   {
    "duration": 5,
    "start_time": "2023-12-12T11:15:17.980Z"
   },
   {
    "duration": 333,
    "start_time": "2023-12-12T11:15:18.589Z"
   },
   {
    "duration": 5,
    "start_time": "2023-12-12T11:16:40.478Z"
   },
   {
    "duration": 4,
    "start_time": "2023-12-12T11:16:45.045Z"
   },
   {
    "duration": 300,
    "start_time": "2023-12-12T11:16:49.076Z"
   },
   {
    "duration": 5,
    "start_time": "2023-12-12T11:17:23.695Z"
   },
   {
    "duration": 324,
    "start_time": "2023-12-12T11:17:27.527Z"
   },
   {
    "duration": 6,
    "start_time": "2023-12-12T11:28:25.265Z"
   },
   {
    "duration": 330,
    "start_time": "2023-12-12T11:28:26.750Z"
   },
   {
    "duration": 3,
    "start_time": "2023-12-12T11:31:32.040Z"
   },
   {
    "duration": 285,
    "start_time": "2023-12-12T11:31:33.008Z"
   },
   {
    "duration": 6,
    "start_time": "2023-12-12T11:33:08.354Z"
   },
   {
    "duration": 10,
    "start_time": "2023-12-12T11:44:38.989Z"
   },
   {
    "duration": 18,
    "start_time": "2023-12-12T11:44:49.106Z"
   },
   {
    "duration": 12,
    "start_time": "2023-12-12T11:45:35.323Z"
   },
   {
    "duration": 7,
    "start_time": "2023-12-12T11:46:14.300Z"
   },
   {
    "duration": 18,
    "start_time": "2023-12-12T11:46:16.147Z"
   },
   {
    "duration": 585,
    "start_time": "2023-12-12T11:47:08.268Z"
   },
   {
    "duration": 2,
    "start_time": "2023-12-12T11:51:30.164Z"
   },
   {
    "duration": 9,
    "start_time": "2023-12-12T11:51:30.171Z"
   },
   {
    "duration": 15,
    "start_time": "2023-12-12T11:51:30.182Z"
   },
   {
    "duration": 22,
    "start_time": "2023-12-12T11:51:30.199Z"
   },
   {
    "duration": 22,
    "start_time": "2023-12-12T11:51:30.223Z"
   },
   {
    "duration": 33,
    "start_time": "2023-12-12T11:51:30.247Z"
   },
   {
    "duration": 179,
    "start_time": "2023-12-12T11:51:30.281Z"
   },
   {
    "duration": 19,
    "start_time": "2023-12-12T11:51:30.462Z"
   },
   {
    "duration": 37,
    "start_time": "2023-12-12T11:51:30.483Z"
   },
   {
    "duration": 6723,
    "start_time": "2023-12-12T11:51:30.522Z"
   },
   {
    "duration": 55133,
    "start_time": "2023-12-12T11:51:37.248Z"
   },
   {
    "duration": 31656,
    "start_time": "2023-12-12T11:52:32.382Z"
   },
   {
    "duration": 3,
    "start_time": "2023-12-12T11:53:04.039Z"
   },
   {
    "duration": 6,
    "start_time": "2023-12-12T11:53:04.043Z"
   },
   {
    "duration": 5,
    "start_time": "2023-12-12T11:53:04.051Z"
   },
   {
    "duration": 14749,
    "start_time": "2023-12-12T11:53:04.058Z"
   },
   {
    "duration": 182849,
    "start_time": "2023-12-12T11:53:18.809Z"
   },
   {
    "duration": 31,
    "start_time": "2023-12-12T11:56:21.659Z"
   },
   {
    "duration": 11,
    "start_time": "2023-12-12T11:56:21.692Z"
   },
   {
    "duration": 58,
    "start_time": "2023-12-12T11:56:21.705Z"
   },
   {
    "duration": 20,
    "start_time": "2023-12-12T11:56:21.765Z"
   },
   {
    "duration": 51,
    "start_time": "2023-12-12T11:56:21.786Z"
   },
   {
    "duration": 21,
    "start_time": "2023-12-12T11:56:21.840Z"
   },
   {
    "duration": 3,
    "start_time": "2023-12-12T11:56:21.864Z"
   },
   {
    "duration": 40,
    "start_time": "2023-12-12T11:56:21.871Z"
   },
   {
    "duration": 35,
    "start_time": "2023-12-12T11:56:21.913Z"
   },
   {
    "duration": 34,
    "start_time": "2023-12-12T11:56:21.950Z"
   },
   {
    "duration": 22,
    "start_time": "2023-12-12T11:56:21.985Z"
   },
   {
    "duration": 19,
    "start_time": "2023-12-12T11:56:22.009Z"
   },
   {
    "duration": 18,
    "start_time": "2023-12-12T11:56:22.030Z"
   },
   {
    "duration": 38,
    "start_time": "2023-12-12T11:56:22.049Z"
   },
   {
    "duration": 18,
    "start_time": "2023-12-12T11:56:22.089Z"
   },
   {
    "duration": 22,
    "start_time": "2023-12-12T11:56:22.109Z"
   },
   {
    "duration": 43,
    "start_time": "2023-12-12T11:56:22.133Z"
   },
   {
    "duration": 4198,
    "start_time": "2023-12-12T11:56:22.177Z"
   },
   {
    "duration": 287,
    "start_time": "2023-12-12T11:56:26.377Z"
   },
   {
    "duration": 7,
    "start_time": "2023-12-12T11:56:26.666Z"
   },
   {
    "duration": 8,
    "start_time": "2023-12-12T11:56:26.674Z"
   },
   {
    "duration": 9,
    "start_time": "2023-12-12T11:56:26.683Z"
   },
   {
    "duration": 17,
    "start_time": "2023-12-12T11:56:26.693Z"
   },
   {
    "duration": 12,
    "start_time": "2023-12-12T11:56:26.712Z"
   },
   {
    "duration": 8,
    "start_time": "2023-12-12T11:56:26.726Z"
   },
   {
    "duration": 28,
    "start_time": "2023-12-12T11:56:26.736Z"
   },
   {
    "duration": 2,
    "start_time": "2023-12-12T11:56:26.766Z"
   },
   {
    "duration": 26,
    "start_time": "2023-12-12T11:56:26.769Z"
   },
   {
    "duration": 1411,
    "start_time": "2023-12-12T11:56:26.797Z"
   },
   {
    "duration": 1199,
    "start_time": "2023-12-12T11:56:28.210Z"
   },
   {
    "duration": 135397,
    "start_time": "2023-12-12T11:56:29.411Z"
   },
   {
    "duration": 4,
    "start_time": "2023-12-12T12:11:55.001Z"
   },
   {
    "duration": 3,
    "start_time": "2023-12-12T12:12:07.385Z"
   },
   {
    "duration": 2,
    "start_time": "2023-12-12T12:12:08.046Z"
   },
   {
    "duration": 2,
    "start_time": "2023-12-12T12:12:14.995Z"
   },
   {
    "duration": 3,
    "start_time": "2023-12-12T12:12:15.852Z"
   },
   {
    "duration": 5,
    "start_time": "2023-12-12T12:12:23.418Z"
   },
   {
    "duration": 3,
    "start_time": "2023-12-12T12:12:24.393Z"
   },
   {
    "duration": 141,
    "start_time": "2023-12-12T12:12:27.425Z"
   },
   {
    "duration": 26,
    "start_time": "2023-12-12T12:12:34.722Z"
   },
   {
    "duration": 28,
    "start_time": "2023-12-12T12:12:37.993Z"
   },
   {
    "duration": 4101,
    "start_time": "2023-12-12T12:12:41.090Z"
   },
   {
    "duration": 43053,
    "start_time": "2023-12-12T12:13:12.427Z"
   },
   {
    "duration": 20598,
    "start_time": "2023-12-12T12:18:03.661Z"
   },
   {
    "duration": 3,
    "start_time": "2023-12-12T12:21:31.359Z"
   },
   {
    "duration": 3,
    "start_time": "2023-12-12T12:21:34.504Z"
   },
   {
    "duration": 5,
    "start_time": "2023-12-12T12:22:04.412Z"
   },
   {
    "duration": 3,
    "start_time": "2023-12-12T12:22:08.108Z"
   },
   {
    "duration": 3,
    "start_time": "2023-12-12T12:22:10.506Z"
   },
   {
    "duration": 11088,
    "start_time": "2023-12-12T12:22:25.650Z"
   },
   {
    "duration": 85484,
    "start_time": "2023-12-12T12:22:45.708Z"
   },
   {
    "duration": 3,
    "start_time": "2023-12-12T12:31:15.306Z"
   },
   {
    "duration": 9,
    "start_time": "2023-12-12T12:32:21.058Z"
   },
   {
    "duration": 4,
    "start_time": "2023-12-12T12:32:28.005Z"
   },
   {
    "duration": 3,
    "start_time": "2023-12-12T12:33:17.418Z"
   },
   {
    "duration": 4,
    "start_time": "2023-12-12T12:33:50.587Z"
   },
   {
    "duration": 3,
    "start_time": "2023-12-12T12:33:55.187Z"
   },
   {
    "duration": 3,
    "start_time": "2023-12-12T12:34:02.644Z"
   },
   {
    "duration": 3,
    "start_time": "2023-12-12T12:34:23.289Z"
   },
   {
    "duration": 3,
    "start_time": "2023-12-12T12:34:24.670Z"
   },
   {
    "duration": 3,
    "start_time": "2023-12-12T12:34:25.203Z"
   },
   {
    "duration": 4,
    "start_time": "2023-12-12T12:34:27.078Z"
   },
   {
    "duration": 3,
    "start_time": "2023-12-12T12:34:28.089Z"
   },
   {
    "duration": 95,
    "start_time": "2023-12-12T12:34:31.446Z"
   },
   {
    "duration": 20,
    "start_time": "2023-12-12T12:34:35.984Z"
   },
   {
    "duration": 19,
    "start_time": "2023-12-12T12:34:39.782Z"
   },
   {
    "duration": 13054,
    "start_time": "2023-12-12T12:35:01.692Z"
   },
   {
    "duration": 153968,
    "start_time": "2023-12-12T12:36:53.197Z"
   },
   {
    "duration": 26,
    "start_time": "2023-12-12T12:39:33.120Z"
   },
   {
    "duration": 12,
    "start_time": "2023-12-12T12:39:33.805Z"
   },
   {
    "duration": 26,
    "start_time": "2023-12-12T12:39:35.851Z"
   },
   {
    "duration": 15,
    "start_time": "2023-12-12T12:39:37.107Z"
   },
   {
    "duration": 25,
    "start_time": "2023-12-12T12:39:39.725Z"
   },
   {
    "duration": 18,
    "start_time": "2023-12-12T12:39:41.577Z"
   },
   {
    "duration": 3,
    "start_time": "2023-12-12T12:39:50.913Z"
   },
   {
    "duration": 25,
    "start_time": "2023-12-12T12:39:52.511Z"
   },
   {
    "duration": 24,
    "start_time": "2023-12-12T12:39:55.491Z"
   },
   {
    "duration": 26,
    "start_time": "2023-12-12T12:39:57.315Z"
   },
   {
    "duration": 11,
    "start_time": "2023-12-12T12:40:24.127Z"
   },
   {
    "duration": 18,
    "start_time": "2023-12-12T12:40:26.477Z"
   },
   {
    "duration": 4,
    "start_time": "2023-12-12T12:40:32.944Z"
   },
   {
    "duration": 10,
    "start_time": "2023-12-12T12:40:34.996Z"
   },
   {
    "duration": 7,
    "start_time": "2023-12-12T12:40:40.608Z"
   },
   {
    "duration": 4,
    "start_time": "2023-12-12T12:40:42.487Z"
   },
   {
    "duration": 3408,
    "start_time": "2023-12-12T12:40:45.208Z"
   },
   {
    "duration": 7,
    "start_time": "2023-12-12T12:45:56.101Z"
   },
   {
    "duration": 13,
    "start_time": "2023-12-12T12:51:50.823Z"
   },
   {
    "duration": 14,
    "start_time": "2023-12-12T12:51:56.984Z"
   },
   {
    "duration": 15,
    "start_time": "2023-12-12T12:53:30.496Z"
   },
   {
    "duration": 10,
    "start_time": "2023-12-12T12:53:59.931Z"
   },
   {
    "duration": 6,
    "start_time": "2023-12-12T12:54:03.320Z"
   },
   {
    "duration": 8,
    "start_time": "2023-12-12T12:54:24.763Z"
   },
   {
    "duration": 11,
    "start_time": "2023-12-12T13:00:03.161Z"
   },
   {
    "duration": 7,
    "start_time": "2023-12-12T13:00:04.459Z"
   },
   {
    "duration": 6,
    "start_time": "2023-12-12T13:00:48.393Z"
   },
   {
    "duration": 4,
    "start_time": "2023-12-12T13:00:48.848Z"
   },
   {
    "duration": 3027,
    "start_time": "2023-12-12T13:00:50.797Z"
   },
   {
    "duration": 11,
    "start_time": "2023-12-12T13:02:51.384Z"
   },
   {
    "duration": 6,
    "start_time": "2023-12-12T13:03:01.642Z"
   },
   {
    "duration": 20,
    "start_time": "2023-12-12T13:03:45.465Z"
   },
   {
    "duration": 13,
    "start_time": "2023-12-12T13:03:46.177Z"
   },
   {
    "duration": 22,
    "start_time": "2023-12-12T13:03:47.691Z"
   },
   {
    "duration": 13,
    "start_time": "2023-12-12T13:03:48.400Z"
   },
   {
    "duration": 19,
    "start_time": "2023-12-12T13:03:49.833Z"
   },
   {
    "duration": 18,
    "start_time": "2023-12-12T13:03:50.517Z"
   },
   {
    "duration": 4,
    "start_time": "2023-12-12T13:03:54.837Z"
   },
   {
    "duration": 27,
    "start_time": "2023-12-12T13:03:56.869Z"
   },
   {
    "duration": 27,
    "start_time": "2023-12-12T13:03:59.988Z"
   },
   {
    "duration": 24,
    "start_time": "2023-12-12T13:04:00.833Z"
   },
   {
    "duration": 10,
    "start_time": "2023-12-12T13:05:29.121Z"
   },
   {
    "duration": 18,
    "start_time": "2023-12-12T13:05:30.171Z"
   },
   {
    "duration": 5,
    "start_time": "2023-12-12T13:05:34.077Z"
   },
   {
    "duration": 15,
    "start_time": "2023-12-12T13:05:37.281Z"
   },
   {
    "duration": 7,
    "start_time": "2023-12-12T13:05:38.783Z"
   },
   {
    "duration": 11,
    "start_time": "2023-12-12T13:06:04.732Z"
   },
   {
    "duration": 7,
    "start_time": "2023-12-12T13:06:08.304Z"
   },
   {
    "duration": 11,
    "start_time": "2023-12-12T13:06:16.289Z"
   },
   {
    "duration": 7,
    "start_time": "2023-12-12T13:06:17.927Z"
   },
   {
    "duration": 4,
    "start_time": "2023-12-12T13:06:20.357Z"
   },
   {
    "duration": 3034,
    "start_time": "2023-12-12T13:06:24.190Z"
   },
   {
    "duration": 3,
    "start_time": "2023-12-12T13:09:52.275Z"
   },
   {
    "duration": 3,
    "start_time": "2023-12-12T13:10:43.945Z"
   },
   {
    "duration": 3,
    "start_time": "2023-12-12T13:10:44.668Z"
   },
   {
    "duration": 4,
    "start_time": "2023-12-12T13:10:54.722Z"
   },
   {
    "duration": 2,
    "start_time": "2023-12-12T13:10:55.436Z"
   },
   {
    "duration": 73,
    "start_time": "2023-12-12T13:10:58.086Z"
   },
   {
    "duration": 19,
    "start_time": "2023-12-12T13:11:02.652Z"
   },
   {
    "duration": 23,
    "start_time": "2023-12-12T13:11:12.419Z"
   },
   {
    "duration": 9726,
    "start_time": "2023-12-12T13:11:28.886Z"
   },
   {
    "duration": 106736,
    "start_time": "2023-12-12T13:13:28.344Z"
   },
   {
    "duration": 56100,
    "start_time": "2023-12-12T13:15:15.082Z"
   },
   {
    "duration": 4,
    "start_time": "2023-12-12T13:18:34.951Z"
   },
   {
    "duration": 4738,
    "start_time": "2023-12-12T13:18:48.318Z"
   },
   {
    "duration": 4,
    "start_time": "2023-12-12T13:19:53.140Z"
   },
   {
    "duration": 4,
    "start_time": "2023-12-12T13:19:55.544Z"
   },
   {
    "duration": 4,
    "start_time": "2023-12-12T13:19:56.867Z"
   },
   {
    "duration": 27872,
    "start_time": "2023-12-12T13:20:03.990Z"
   },
   {
    "duration": 5,
    "start_time": "2023-12-12T13:20:42.113Z"
   },
   {
    "duration": 340390,
    "start_time": "2023-12-12T13:20:46.091Z"
   },
   {
    "duration": 51,
    "start_time": "2023-12-12T13:26:31.465Z"
   },
   {
    "duration": 12,
    "start_time": "2023-12-12T13:26:33.038Z"
   },
   {
    "duration": 53,
    "start_time": "2023-12-12T13:26:35.909Z"
   },
   {
    "duration": 13,
    "start_time": "2023-12-12T13:26:37.855Z"
   },
   {
    "duration": 55,
    "start_time": "2023-12-12T13:26:39.878Z"
   },
   {
    "duration": 12,
    "start_time": "2023-12-12T13:26:45.375Z"
   },
   {
    "duration": 3,
    "start_time": "2023-12-12T13:26:50.281Z"
   },
   {
    "duration": 56,
    "start_time": "2023-12-12T13:26:53.215Z"
   },
   {
    "duration": 34,
    "start_time": "2023-12-12T13:26:55.926Z"
   },
   {
    "duration": 35,
    "start_time": "2023-12-12T13:26:57.172Z"
   },
   {
    "duration": 17,
    "start_time": "2023-12-12T13:27:21.643Z"
   },
   {
    "duration": 19,
    "start_time": "2023-12-12T13:27:23.835Z"
   },
   {
    "duration": 5,
    "start_time": "2023-12-12T13:27:43.966Z"
   },
   {
    "duration": 19,
    "start_time": "2023-12-12T13:27:55.569Z"
   },
   {
    "duration": 10,
    "start_time": "2023-12-12T13:28:01.095Z"
   },
   {
    "duration": 3,
    "start_time": "2023-12-12T13:28:12.357Z"
   },
   {
    "duration": 11,
    "start_time": "2023-12-12T13:28:26.479Z"
   },
   {
    "duration": 9,
    "start_time": "2023-12-12T13:28:31.546Z"
   },
   {
    "duration": 4,
    "start_time": "2023-12-12T13:28:33.802Z"
   },
   {
    "duration": 6207,
    "start_time": "2023-12-12T13:28:37.251Z"
   },
   {
    "duration": 44,
    "start_time": "2023-12-12T13:39:30.586Z"
   },
   {
    "duration": 3,
    "start_time": "2023-12-12T13:40:26.532Z"
   },
   {
    "duration": 3,
    "start_time": "2023-12-12T13:40:27.176Z"
   },
   {
    "duration": 3,
    "start_time": "2023-12-12T13:40:27.867Z"
   },
   {
    "duration": 2,
    "start_time": "2023-12-12T13:40:28.273Z"
   },
   {
    "duration": 4,
    "start_time": "2023-12-12T13:40:29.030Z"
   },
   {
    "duration": 4,
    "start_time": "2023-12-12T13:40:29.255Z"
   },
   {
    "duration": 113,
    "start_time": "2023-12-12T13:40:29.740Z"
   },
   {
    "duration": 21,
    "start_time": "2023-12-12T13:40:31.775Z"
   },
   {
    "duration": 21,
    "start_time": "2023-12-12T13:40:33.109Z"
   },
   {
    "duration": 2,
    "start_time": "2023-12-12T13:40:44.205Z"
   },
   {
    "duration": 3,
    "start_time": "2023-12-12T13:40:45.292Z"
   },
   {
    "duration": 3,
    "start_time": "2023-12-12T13:40:48.412Z"
   },
   {
    "duration": 8,
    "start_time": "2023-12-12T13:40:48.417Z"
   },
   {
    "duration": 334227,
    "start_time": "2023-12-12T13:40:50.126Z"
   },
   {
    "duration": 63,
    "start_time": "2023-12-12T13:51:22.985Z"
   },
   {
    "duration": 12,
    "start_time": "2023-12-12T13:51:23.247Z"
   },
   {
    "duration": 56,
    "start_time": "2023-12-12T13:51:24.245Z"
   },
   {
    "duration": 13,
    "start_time": "2023-12-12T13:51:24.884Z"
   },
   {
    "duration": 58,
    "start_time": "2023-12-12T13:51:25.881Z"
   },
   {
    "duration": 14,
    "start_time": "2023-12-12T13:51:26.579Z"
   },
   {
    "duration": 4,
    "start_time": "2023-12-12T13:51:28.559Z"
   },
   {
    "duration": 39,
    "start_time": "2023-12-12T13:51:29.486Z"
   },
   {
    "duration": 39,
    "start_time": "2023-12-12T13:51:30.187Z"
   },
   {
    "duration": 39,
    "start_time": "2023-12-12T13:51:31.085Z"
   },
   {
    "duration": 19,
    "start_time": "2023-12-12T13:51:33.016Z"
   },
   {
    "duration": 18,
    "start_time": "2023-12-12T13:51:33.747Z"
   },
   {
    "duration": 5,
    "start_time": "2023-12-12T13:51:37.536Z"
   },
   {
    "duration": 20,
    "start_time": "2023-12-12T13:51:38.202Z"
   },
   {
    "duration": 11,
    "start_time": "2023-12-12T13:51:38.955Z"
   },
   {
    "duration": 7,
    "start_time": "2023-12-12T13:51:41.007Z"
   },
   {
    "duration": 4,
    "start_time": "2023-12-12T13:51:43.191Z"
   },
   {
    "duration": 6250,
    "start_time": "2023-12-12T13:51:44.807Z"
   },
   {
    "duration": 3457,
    "start_time": "2023-12-13T07:59:25.138Z"
   },
   {
    "duration": 3,
    "start_time": "2023-12-13T07:59:28.597Z"
   },
   {
    "duration": 539,
    "start_time": "2023-12-13T07:59:28.601Z"
   },
   {
    "duration": 58,
    "start_time": "2023-12-13T07:59:29.142Z"
   },
   {
    "duration": 63,
    "start_time": "2023-12-13T07:59:29.201Z"
   },
   {
    "duration": 7,
    "start_time": "2023-12-13T07:59:29.265Z"
   },
   {
    "duration": 44715,
    "start_time": "2023-12-13T07:59:29.274Z"
   },
   {
    "duration": 0,
    "start_time": "2023-12-13T08:00:13.994Z"
   },
   {
    "duration": 0,
    "start_time": "2023-12-13T08:00:13.995Z"
   },
   {
    "duration": 0,
    "start_time": "2023-12-13T08:00:13.996Z"
   },
   {
    "duration": 0,
    "start_time": "2023-12-13T08:00:13.997Z"
   },
   {
    "duration": 0,
    "start_time": "2023-12-13T08:00:13.998Z"
   },
   {
    "duration": 0,
    "start_time": "2023-12-13T08:00:13.999Z"
   },
   {
    "duration": 0,
    "start_time": "2023-12-13T08:00:14.000Z"
   },
   {
    "duration": 0,
    "start_time": "2023-12-13T08:00:14.000Z"
   },
   {
    "duration": 0,
    "start_time": "2023-12-13T08:00:14.001Z"
   },
   {
    "duration": 0,
    "start_time": "2023-12-13T08:00:14.002Z"
   },
   {
    "duration": 0,
    "start_time": "2023-12-13T08:00:14.002Z"
   },
   {
    "duration": 0,
    "start_time": "2023-12-13T08:00:14.015Z"
   },
   {
    "duration": 0,
    "start_time": "2023-12-13T08:00:14.016Z"
   },
   {
    "duration": 0,
    "start_time": "2023-12-13T08:00:14.017Z"
   },
   {
    "duration": 0,
    "start_time": "2023-12-13T08:00:14.018Z"
   },
   {
    "duration": 0,
    "start_time": "2023-12-13T08:00:14.019Z"
   },
   {
    "duration": 0,
    "start_time": "2023-12-13T08:00:14.019Z"
   },
   {
    "duration": 0,
    "start_time": "2023-12-13T08:00:14.020Z"
   },
   {
    "duration": 0,
    "start_time": "2023-12-13T08:00:14.021Z"
   },
   {
    "duration": 0,
    "start_time": "2023-12-13T08:00:14.022Z"
   },
   {
    "duration": 0,
    "start_time": "2023-12-13T08:00:14.023Z"
   },
   {
    "duration": 0,
    "start_time": "2023-12-13T08:00:14.024Z"
   },
   {
    "duration": 0,
    "start_time": "2023-12-13T08:00:14.025Z"
   },
   {
    "duration": 0,
    "start_time": "2023-12-13T08:00:14.026Z"
   },
   {
    "duration": 0,
    "start_time": "2023-12-13T08:00:14.027Z"
   },
   {
    "duration": 0,
    "start_time": "2023-12-13T08:00:14.028Z"
   },
   {
    "duration": 0,
    "start_time": "2023-12-13T08:00:14.029Z"
   },
   {
    "duration": 0,
    "start_time": "2023-12-13T08:00:14.031Z"
   },
   {
    "duration": 0,
    "start_time": "2023-12-13T08:00:14.032Z"
   },
   {
    "duration": 0,
    "start_time": "2023-12-13T08:00:14.033Z"
   },
   {
    "duration": 0,
    "start_time": "2023-12-13T08:00:14.034Z"
   },
   {
    "duration": 0,
    "start_time": "2023-12-13T08:00:14.035Z"
   },
   {
    "duration": 0,
    "start_time": "2023-12-13T08:00:14.036Z"
   },
   {
    "duration": 0,
    "start_time": "2023-12-13T08:00:14.036Z"
   },
   {
    "duration": 0,
    "start_time": "2023-12-13T08:00:14.037Z"
   },
   {
    "duration": 0,
    "start_time": "2023-12-13T08:00:14.038Z"
   },
   {
    "duration": 0,
    "start_time": "2023-12-13T08:00:14.039Z"
   },
   {
    "duration": 0,
    "start_time": "2023-12-13T08:00:14.040Z"
   },
   {
    "duration": 0,
    "start_time": "2023-12-13T08:00:14.041Z"
   },
   {
    "duration": 0,
    "start_time": "2023-12-13T08:00:14.042Z"
   },
   {
    "duration": 0,
    "start_time": "2023-12-13T08:00:14.043Z"
   },
   {
    "duration": 1,
    "start_time": "2023-12-13T08:00:14.043Z"
   },
   {
    "duration": 0,
    "start_time": "2023-12-13T08:00:14.044Z"
   },
   {
    "duration": 0,
    "start_time": "2023-12-13T08:00:14.045Z"
   },
   {
    "duration": 0,
    "start_time": "2023-12-13T08:00:14.046Z"
   },
   {
    "duration": 0,
    "start_time": "2023-12-13T08:00:14.047Z"
   },
   {
    "duration": 0,
    "start_time": "2023-12-13T08:00:14.048Z"
   },
   {
    "duration": 0,
    "start_time": "2023-12-13T08:00:14.049Z"
   },
   {
    "duration": 0,
    "start_time": "2023-12-13T08:00:14.049Z"
   },
   {
    "duration": 0,
    "start_time": "2023-12-13T08:00:14.050Z"
   },
   {
    "duration": 0,
    "start_time": "2023-12-13T08:00:14.115Z"
   },
   {
    "duration": 0,
    "start_time": "2023-12-13T08:00:14.116Z"
   },
   {
    "duration": 0,
    "start_time": "2023-12-13T08:00:14.117Z"
   },
   {
    "duration": 0,
    "start_time": "2023-12-13T08:00:14.117Z"
   },
   {
    "duration": 0,
    "start_time": "2023-12-13T08:00:14.118Z"
   },
   {
    "duration": 0,
    "start_time": "2023-12-13T08:00:14.119Z"
   },
   {
    "duration": 0,
    "start_time": "2023-12-13T08:00:14.120Z"
   },
   {
    "duration": 0,
    "start_time": "2023-12-13T08:00:14.120Z"
   },
   {
    "duration": 0,
    "start_time": "2023-12-13T08:00:14.121Z"
   },
   {
    "duration": 0,
    "start_time": "2023-12-13T08:00:14.122Z"
   },
   {
    "duration": 0,
    "start_time": "2023-12-13T08:00:14.122Z"
   },
   {
    "duration": 0,
    "start_time": "2023-12-13T08:00:14.123Z"
   },
   {
    "duration": 0,
    "start_time": "2023-12-13T08:00:14.124Z"
   },
   {
    "duration": 0,
    "start_time": "2023-12-13T08:00:14.124Z"
   },
   {
    "duration": 0,
    "start_time": "2023-12-13T08:00:14.125Z"
   },
   {
    "duration": 0,
    "start_time": "2023-12-13T08:00:14.126Z"
   },
   {
    "duration": 0,
    "start_time": "2023-12-13T08:00:14.126Z"
   },
   {
    "duration": 0,
    "start_time": "2023-12-13T08:00:14.127Z"
   },
   {
    "duration": 0,
    "start_time": "2023-12-13T08:00:14.128Z"
   },
   {
    "duration": 0,
    "start_time": "2023-12-13T08:00:14.129Z"
   },
   {
    "duration": 0,
    "start_time": "2023-12-13T08:00:14.129Z"
   },
   {
    "duration": 0,
    "start_time": "2023-12-13T08:00:14.130Z"
   },
   {
    "duration": 0,
    "start_time": "2023-12-13T08:00:14.131Z"
   },
   {
    "duration": 0,
    "start_time": "2023-12-13T08:00:14.132Z"
   },
   {
    "duration": 0,
    "start_time": "2023-12-13T08:00:14.132Z"
   },
   {
    "duration": 0,
    "start_time": "2023-12-13T08:00:14.133Z"
   },
   {
    "duration": 0,
    "start_time": "2023-12-13T08:00:14.134Z"
   },
   {
    "duration": 0,
    "start_time": "2023-12-13T08:00:14.135Z"
   },
   {
    "duration": 0,
    "start_time": "2023-12-13T08:00:14.135Z"
   },
   {
    "duration": 0,
    "start_time": "2023-12-13T08:00:14.136Z"
   },
   {
    "duration": 0,
    "start_time": "2023-12-13T08:00:14.137Z"
   },
   {
    "duration": 0,
    "start_time": "2023-12-13T08:00:14.138Z"
   },
   {
    "duration": 0,
    "start_time": "2023-12-13T08:00:14.139Z"
   },
   {
    "duration": 0,
    "start_time": "2023-12-13T08:00:14.139Z"
   },
   {
    "duration": 0,
    "start_time": "2023-12-13T08:00:14.140Z"
   },
   {
    "duration": 0,
    "start_time": "2023-12-13T08:00:14.141Z"
   },
   {
    "duration": 0,
    "start_time": "2023-12-13T08:00:14.142Z"
   },
   {
    "duration": 0,
    "start_time": "2023-12-13T08:00:14.142Z"
   },
   {
    "duration": 0,
    "start_time": "2023-12-13T08:00:14.143Z"
   },
   {
    "duration": 1,
    "start_time": "2023-12-13T08:00:14.143Z"
   },
   {
    "duration": 0,
    "start_time": "2023-12-13T08:00:14.144Z"
   },
   {
    "duration": 0,
    "start_time": "2023-12-13T08:00:14.145Z"
   },
   {
    "duration": 0,
    "start_time": "2023-12-13T08:00:14.146Z"
   },
   {
    "duration": 0,
    "start_time": "2023-12-13T08:00:14.147Z"
   },
   {
    "duration": 0,
    "start_time": "2023-12-13T08:00:14.147Z"
   },
   {
    "duration": 0,
    "start_time": "2023-12-13T08:00:14.148Z"
   },
   {
    "duration": 0,
    "start_time": "2023-12-13T08:00:14.149Z"
   },
   {
    "duration": 0,
    "start_time": "2023-12-13T08:00:14.149Z"
   },
   {
    "duration": 0,
    "start_time": "2023-12-13T08:00:14.150Z"
   },
   {
    "duration": 0,
    "start_time": "2023-12-13T08:00:14.151Z"
   },
   {
    "duration": 0,
    "start_time": "2023-12-13T08:00:14.151Z"
   },
   {
    "duration": 0,
    "start_time": "2023-12-13T08:00:14.215Z"
   },
   {
    "duration": 0,
    "start_time": "2023-12-13T08:00:14.216Z"
   },
   {
    "duration": 0,
    "start_time": "2023-12-13T08:00:14.216Z"
   },
   {
    "duration": 0,
    "start_time": "2023-12-13T08:00:14.217Z"
   },
   {
    "duration": 0,
    "start_time": "2023-12-13T08:00:14.218Z"
   },
   {
    "duration": 0,
    "start_time": "2023-12-13T08:00:14.219Z"
   },
   {
    "duration": 1,
    "start_time": "2023-12-13T08:00:14.219Z"
   },
   {
    "duration": 0,
    "start_time": "2023-12-13T08:00:14.220Z"
   },
   {
    "duration": 0,
    "start_time": "2023-12-13T08:00:14.221Z"
   },
   {
    "duration": 0,
    "start_time": "2023-12-13T08:00:14.221Z"
   },
   {
    "duration": 0,
    "start_time": "2023-12-13T08:00:14.222Z"
   },
   {
    "duration": 0,
    "start_time": "2023-12-13T08:00:14.223Z"
   },
   {
    "duration": 0,
    "start_time": "2023-12-13T08:00:14.223Z"
   },
   {
    "duration": 0,
    "start_time": "2023-12-13T08:00:14.224Z"
   },
   {
    "duration": 0,
    "start_time": "2023-12-13T08:00:14.225Z"
   },
   {
    "duration": 0,
    "start_time": "2023-12-13T08:00:14.226Z"
   },
   {
    "duration": 0,
    "start_time": "2023-12-13T08:00:14.227Z"
   },
   {
    "duration": 0,
    "start_time": "2023-12-13T08:00:14.227Z"
   },
   {
    "duration": 0,
    "start_time": "2023-12-13T08:00:14.228Z"
   },
   {
    "duration": 13110,
    "start_time": "2023-12-13T08:00:51.073Z"
   },
   {
    "duration": 2832,
    "start_time": "2023-12-13T08:01:59.193Z"
   },
   {
    "duration": 2,
    "start_time": "2023-12-13T08:02:02.027Z"
   },
   {
    "duration": 532,
    "start_time": "2023-12-13T08:02:02.030Z"
   },
   {
    "duration": 51,
    "start_time": "2023-12-13T08:02:02.564Z"
   },
   {
    "duration": 37,
    "start_time": "2023-12-13T08:02:02.616Z"
   },
   {
    "duration": 7,
    "start_time": "2023-12-13T08:02:02.654Z"
   },
   {
    "duration": 14485,
    "start_time": "2023-12-13T08:02:02.662Z"
   },
   {
    "duration": 0,
    "start_time": "2023-12-13T08:02:17.152Z"
   },
   {
    "duration": 0,
    "start_time": "2023-12-13T08:02:17.153Z"
   },
   {
    "duration": 0,
    "start_time": "2023-12-13T08:02:17.154Z"
   },
   {
    "duration": 0,
    "start_time": "2023-12-13T08:02:17.155Z"
   },
   {
    "duration": 0,
    "start_time": "2023-12-13T08:02:17.155Z"
   },
   {
    "duration": 0,
    "start_time": "2023-12-13T08:02:17.156Z"
   },
   {
    "duration": 0,
    "start_time": "2023-12-13T08:02:17.157Z"
   },
   {
    "duration": 0,
    "start_time": "2023-12-13T08:02:17.158Z"
   },
   {
    "duration": 0,
    "start_time": "2023-12-13T08:02:17.159Z"
   },
   {
    "duration": 0,
    "start_time": "2023-12-13T08:02:17.160Z"
   },
   {
    "duration": 0,
    "start_time": "2023-12-13T08:02:17.161Z"
   },
   {
    "duration": 0,
    "start_time": "2023-12-13T08:02:17.162Z"
   },
   {
    "duration": 0,
    "start_time": "2023-12-13T08:02:17.162Z"
   },
   {
    "duration": 0,
    "start_time": "2023-12-13T08:02:17.163Z"
   },
   {
    "duration": 0,
    "start_time": "2023-12-13T08:02:17.164Z"
   },
   {
    "duration": 0,
    "start_time": "2023-12-13T08:02:17.165Z"
   },
   {
    "duration": 0,
    "start_time": "2023-12-13T08:02:17.166Z"
   },
   {
    "duration": 0,
    "start_time": "2023-12-13T08:02:17.166Z"
   },
   {
    "duration": 0,
    "start_time": "2023-12-13T08:02:17.167Z"
   },
   {
    "duration": 0,
    "start_time": "2023-12-13T08:02:17.168Z"
   },
   {
    "duration": 0,
    "start_time": "2023-12-13T08:02:17.169Z"
   },
   {
    "duration": 0,
    "start_time": "2023-12-13T08:02:17.169Z"
   },
   {
    "duration": 0,
    "start_time": "2023-12-13T08:02:17.170Z"
   },
   {
    "duration": 0,
    "start_time": "2023-12-13T08:02:17.171Z"
   },
   {
    "duration": 0,
    "start_time": "2023-12-13T08:02:17.172Z"
   },
   {
    "duration": 0,
    "start_time": "2023-12-13T08:02:17.173Z"
   },
   {
    "duration": 0,
    "start_time": "2023-12-13T08:02:17.174Z"
   },
   {
    "duration": 0,
    "start_time": "2023-12-13T08:02:17.174Z"
   },
   {
    "duration": 0,
    "start_time": "2023-12-13T08:02:17.175Z"
   },
   {
    "duration": 0,
    "start_time": "2023-12-13T08:02:17.215Z"
   },
   {
    "duration": 0,
    "start_time": "2023-12-13T08:02:17.216Z"
   },
   {
    "duration": 0,
    "start_time": "2023-12-13T08:02:17.217Z"
   },
   {
    "duration": 0,
    "start_time": "2023-12-13T08:02:17.218Z"
   },
   {
    "duration": 0,
    "start_time": "2023-12-13T08:02:17.219Z"
   },
   {
    "duration": 0,
    "start_time": "2023-12-13T08:02:17.219Z"
   },
   {
    "duration": 0,
    "start_time": "2023-12-13T08:02:17.220Z"
   },
   {
    "duration": 0,
    "start_time": "2023-12-13T08:02:17.221Z"
   },
   {
    "duration": 0,
    "start_time": "2023-12-13T08:02:17.221Z"
   },
   {
    "duration": 0,
    "start_time": "2023-12-13T08:02:17.222Z"
   },
   {
    "duration": 0,
    "start_time": "2023-12-13T08:02:17.223Z"
   },
   {
    "duration": 0,
    "start_time": "2023-12-13T08:02:17.224Z"
   },
   {
    "duration": 0,
    "start_time": "2023-12-13T08:02:17.224Z"
   },
   {
    "duration": 0,
    "start_time": "2023-12-13T08:02:17.225Z"
   },
   {
    "duration": 0,
    "start_time": "2023-12-13T08:02:17.226Z"
   },
   {
    "duration": 0,
    "start_time": "2023-12-13T08:02:17.226Z"
   },
   {
    "duration": 0,
    "start_time": "2023-12-13T08:02:17.227Z"
   },
   {
    "duration": 0,
    "start_time": "2023-12-13T08:02:17.228Z"
   },
   {
    "duration": 0,
    "start_time": "2023-12-13T08:02:17.229Z"
   },
   {
    "duration": 0,
    "start_time": "2023-12-13T08:02:17.229Z"
   },
   {
    "duration": 0,
    "start_time": "2023-12-13T08:02:17.230Z"
   },
   {
    "duration": 0,
    "start_time": "2023-12-13T08:02:17.231Z"
   },
   {
    "duration": 0,
    "start_time": "2023-12-13T08:02:17.232Z"
   },
   {
    "duration": 0,
    "start_time": "2023-12-13T08:02:17.233Z"
   },
   {
    "duration": 0,
    "start_time": "2023-12-13T08:02:17.233Z"
   },
   {
    "duration": 0,
    "start_time": "2023-12-13T08:02:17.234Z"
   },
   {
    "duration": 0,
    "start_time": "2023-12-13T08:02:17.235Z"
   },
   {
    "duration": 0,
    "start_time": "2023-12-13T08:02:17.236Z"
   },
   {
    "duration": 0,
    "start_time": "2023-12-13T08:02:17.237Z"
   },
   {
    "duration": 0,
    "start_time": "2023-12-13T08:02:17.238Z"
   },
   {
    "duration": 0,
    "start_time": "2023-12-13T08:02:17.238Z"
   },
   {
    "duration": 0,
    "start_time": "2023-12-13T08:02:17.239Z"
   },
   {
    "duration": 0,
    "start_time": "2023-12-13T08:02:17.240Z"
   },
   {
    "duration": 0,
    "start_time": "2023-12-13T08:02:17.241Z"
   },
   {
    "duration": 0,
    "start_time": "2023-12-13T08:02:17.242Z"
   },
   {
    "duration": 0,
    "start_time": "2023-12-13T08:02:17.243Z"
   },
   {
    "duration": 0,
    "start_time": "2023-12-13T08:02:17.244Z"
   },
   {
    "duration": 0,
    "start_time": "2023-12-13T08:02:17.245Z"
   },
   {
    "duration": 0,
    "start_time": "2023-12-13T08:02:17.245Z"
   },
   {
    "duration": 0,
    "start_time": "2023-12-13T08:02:17.246Z"
   },
   {
    "duration": 0,
    "start_time": "2023-12-13T08:02:17.247Z"
   },
   {
    "duration": 0,
    "start_time": "2023-12-13T08:02:17.248Z"
   },
   {
    "duration": 0,
    "start_time": "2023-12-13T08:02:17.249Z"
   },
   {
    "duration": 0,
    "start_time": "2023-12-13T08:02:17.250Z"
   },
   {
    "duration": 0,
    "start_time": "2023-12-13T08:02:17.251Z"
   },
   {
    "duration": 0,
    "start_time": "2023-12-13T08:02:17.315Z"
   },
   {
    "duration": 0,
    "start_time": "2023-12-13T08:02:17.316Z"
   },
   {
    "duration": 0,
    "start_time": "2023-12-13T08:02:17.317Z"
   },
   {
    "duration": 0,
    "start_time": "2023-12-13T08:02:17.317Z"
   },
   {
    "duration": 0,
    "start_time": "2023-12-13T08:02:17.318Z"
   },
   {
    "duration": 0,
    "start_time": "2023-12-13T08:02:17.319Z"
   },
   {
    "duration": 0,
    "start_time": "2023-12-13T08:02:17.320Z"
   },
   {
    "duration": 0,
    "start_time": "2023-12-13T08:02:17.321Z"
   },
   {
    "duration": 0,
    "start_time": "2023-12-13T08:02:17.321Z"
   },
   {
    "duration": 0,
    "start_time": "2023-12-13T08:02:17.322Z"
   },
   {
    "duration": 0,
    "start_time": "2023-12-13T08:02:17.323Z"
   },
   {
    "duration": 0,
    "start_time": "2023-12-13T08:02:17.323Z"
   },
   {
    "duration": 0,
    "start_time": "2023-12-13T08:02:17.324Z"
   },
   {
    "duration": 0,
    "start_time": "2023-12-13T08:02:17.325Z"
   },
   {
    "duration": 0,
    "start_time": "2023-12-13T08:02:17.325Z"
   },
   {
    "duration": 0,
    "start_time": "2023-12-13T08:02:17.326Z"
   },
   {
    "duration": 0,
    "start_time": "2023-12-13T08:02:17.327Z"
   },
   {
    "duration": 0,
    "start_time": "2023-12-13T08:02:17.327Z"
   },
   {
    "duration": 0,
    "start_time": "2023-12-13T08:02:17.329Z"
   },
   {
    "duration": 0,
    "start_time": "2023-12-13T08:02:17.329Z"
   },
   {
    "duration": 0,
    "start_time": "2023-12-13T08:02:17.330Z"
   },
   {
    "duration": 0,
    "start_time": "2023-12-13T08:02:17.331Z"
   },
   {
    "duration": 0,
    "start_time": "2023-12-13T08:02:17.331Z"
   },
   {
    "duration": 0,
    "start_time": "2023-12-13T08:02:17.332Z"
   },
   {
    "duration": 0,
    "start_time": "2023-12-13T08:02:17.333Z"
   },
   {
    "duration": 0,
    "start_time": "2023-12-13T08:02:17.333Z"
   },
   {
    "duration": 0,
    "start_time": "2023-12-13T08:02:17.334Z"
   },
   {
    "duration": 0,
    "start_time": "2023-12-13T08:02:17.335Z"
   },
   {
    "duration": 0,
    "start_time": "2023-12-13T08:02:17.336Z"
   },
   {
    "duration": 0,
    "start_time": "2023-12-13T08:02:17.337Z"
   },
   {
    "duration": 0,
    "start_time": "2023-12-13T08:02:17.337Z"
   },
   {
    "duration": 0,
    "start_time": "2023-12-13T08:02:17.338Z"
   },
   {
    "duration": 0,
    "start_time": "2023-12-13T08:02:17.339Z"
   },
   {
    "duration": 0,
    "start_time": "2023-12-13T08:02:17.340Z"
   },
   {
    "duration": 0,
    "start_time": "2023-12-13T08:02:17.341Z"
   },
   {
    "duration": 0,
    "start_time": "2023-12-13T08:02:17.341Z"
   },
   {
    "duration": 0,
    "start_time": "2023-12-13T08:02:17.342Z"
   },
   {
    "duration": 0,
    "start_time": "2023-12-13T08:02:17.343Z"
   },
   {
    "duration": 0,
    "start_time": "2023-12-13T08:02:17.344Z"
   },
   {
    "duration": 0,
    "start_time": "2023-12-13T08:02:17.345Z"
   },
   {
    "duration": 0,
    "start_time": "2023-12-13T08:02:17.346Z"
   },
   {
    "duration": 0,
    "start_time": "2023-12-13T08:02:17.347Z"
   },
   {
    "duration": 0,
    "start_time": "2023-12-13T08:02:17.347Z"
   },
   {
    "duration": 0,
    "start_time": "2023-12-13T08:02:17.348Z"
   },
   {
    "duration": 0,
    "start_time": "2023-12-13T08:02:17.349Z"
   },
   {
    "duration": 0,
    "start_time": "2023-12-13T08:02:17.350Z"
   },
   {
    "duration": 13180,
    "start_time": "2023-12-13T08:26:10.007Z"
   },
   {
    "duration": 7,
    "start_time": "2023-12-13T08:41:20.275Z"
   },
   {
    "duration": 309,
    "start_time": "2023-12-13T08:41:36.651Z"
   },
   {
    "duration": 291,
    "start_time": "2023-12-13T08:41:43.714Z"
   },
   {
    "duration": 350,
    "start_time": "2023-12-13T08:41:44.789Z"
   },
   {
    "duration": 2493,
    "start_time": "2023-12-13T08:41:51.351Z"
   },
   {
    "duration": 2,
    "start_time": "2023-12-13T08:41:53.846Z"
   },
   {
    "duration": 14,
    "start_time": "2023-12-13T08:41:53.849Z"
   },
   {
    "duration": 21,
    "start_time": "2023-12-13T08:41:53.865Z"
   },
   {
    "duration": 6,
    "start_time": "2023-12-13T08:41:53.887Z"
   },
   {
    "duration": 21,
    "start_time": "2023-12-13T08:41:53.894Z"
   },
   {
    "duration": 175,
    "start_time": "2023-12-13T08:41:53.917Z"
   },
   {
    "duration": 80,
    "start_time": "2023-12-13T08:41:54.093Z"
   },
   {
    "duration": 384,
    "start_time": "2023-12-13T08:41:54.174Z"
   },
   {
    "duration": 1499,
    "start_time": "2023-12-13T08:41:54.561Z"
   },
   {
    "duration": 3,
    "start_time": "2023-12-13T08:41:56.061Z"
   },
   {
    "duration": 10,
    "start_time": "2023-12-13T08:41:56.065Z"
   },
   {
    "duration": 91706,
    "start_time": "2023-12-13T08:41:56.076Z"
   },
   {
    "duration": 105,
    "start_time": "2023-12-13T08:43:27.783Z"
   },
   {
    "duration": 2,
    "start_time": "2023-12-13T08:43:27.889Z"
   },
   {
    "duration": 11,
    "start_time": "2023-12-13T08:43:27.892Z"
   },
   {
    "duration": 10,
    "start_time": "2023-12-13T08:43:27.904Z"
   },
   {
    "duration": 3,
    "start_time": "2023-12-13T08:43:27.915Z"
   },
   {
    "duration": 21,
    "start_time": "2023-12-13T08:43:27.919Z"
   },
   {
    "duration": 16,
    "start_time": "2023-12-13T08:43:27.941Z"
   },
   {
    "duration": 15,
    "start_time": "2023-12-13T08:43:27.958Z"
   },
   {
    "duration": 24,
    "start_time": "2023-12-13T08:43:27.974Z"
   },
   {
    "duration": 3,
    "start_time": "2023-12-13T08:43:27.999Z"
   },
   {
    "duration": 9,
    "start_time": "2023-12-13T08:43:28.003Z"
   },
   {
    "duration": 32,
    "start_time": "2023-12-13T08:43:28.013Z"
   },
   {
    "duration": 2,
    "start_time": "2023-12-13T08:43:28.046Z"
   },
   {
    "duration": 5194,
    "start_time": "2023-12-13T08:43:28.049Z"
   },
   {
    "duration": 24,
    "start_time": "2023-12-13T08:43:33.248Z"
   },
   {
    "duration": 18,
    "start_time": "2023-12-13T08:43:33.273Z"
   },
   {
    "duration": 7,
    "start_time": "2023-12-13T08:43:33.292Z"
   },
   {
    "duration": 23,
    "start_time": "2023-12-13T08:43:33.300Z"
   },
   {
    "duration": 14,
    "start_time": "2023-12-13T08:43:33.324Z"
   },
   {
    "duration": 26,
    "start_time": "2023-12-13T08:43:33.339Z"
   },
   {
    "duration": 14,
    "start_time": "2023-12-13T08:43:33.366Z"
   },
   {
    "duration": 39,
    "start_time": "2023-12-13T08:43:33.381Z"
   },
   {
    "duration": 32,
    "start_time": "2023-12-13T08:43:33.421Z"
   },
   {
    "duration": 10,
    "start_time": "2023-12-13T08:43:33.454Z"
   },
   {
    "duration": 14,
    "start_time": "2023-12-13T08:43:33.465Z"
   },
   {
    "duration": 924,
    "start_time": "2023-12-13T08:43:33.480Z"
   },
   {
    "duration": 19,
    "start_time": "2023-12-13T08:43:34.405Z"
   },
   {
    "duration": 2,
    "start_time": "2023-12-13T08:43:34.426Z"
   },
   {
    "duration": 20,
    "start_time": "2023-12-13T08:43:34.429Z"
   },
   {
    "duration": 31,
    "start_time": "2023-12-13T08:43:34.450Z"
   },
   {
    "duration": 2698,
    "start_time": "2023-12-13T08:43:34.482Z"
   },
   {
    "duration": 103,
    "start_time": "2023-12-13T08:43:37.182Z"
   },
   {
    "duration": 3,
    "start_time": "2023-12-13T08:43:37.286Z"
   },
   {
    "duration": 10,
    "start_time": "2023-12-13T08:43:37.290Z"
   },
   {
    "duration": 2609,
    "start_time": "2023-12-13T08:43:37.301Z"
   },
   {
    "duration": 2350,
    "start_time": "2023-12-13T08:43:39.911Z"
   },
   {
    "duration": 1548,
    "start_time": "2023-12-13T08:43:42.263Z"
   },
   {
    "duration": 2,
    "start_time": "2023-12-13T08:43:43.812Z"
   },
   {
    "duration": 154,
    "start_time": "2023-12-13T08:43:43.815Z"
   },
   {
    "duration": 51,
    "start_time": "2023-12-13T08:43:43.971Z"
   },
   {
    "duration": 55,
    "start_time": "2023-12-13T08:43:44.023Z"
   },
   {
    "duration": 107,
    "start_time": "2023-12-13T08:43:44.079Z"
   },
   {
    "duration": 209,
    "start_time": "2023-12-13T08:43:44.187Z"
   },
   {
    "duration": 2,
    "start_time": "2023-12-13T08:43:44.398Z"
   },
   {
    "duration": 36,
    "start_time": "2023-12-13T08:43:44.401Z"
   },
   {
    "duration": 1,
    "start_time": "2023-12-13T08:43:44.438Z"
   },
   {
    "duration": 4986,
    "start_time": "2023-12-13T08:43:44.441Z"
   },
   {
    "duration": 16,
    "start_time": "2023-12-13T08:43:49.429Z"
   },
   {
    "duration": 39,
    "start_time": "2023-12-13T08:43:49.446Z"
   },
   {
    "duration": 20,
    "start_time": "2023-12-13T08:43:49.486Z"
   },
   {
    "duration": 40,
    "start_time": "2023-12-13T08:43:49.508Z"
   },
   {
    "duration": 50,
    "start_time": "2023-12-13T08:43:49.549Z"
   },
   {
    "duration": 23,
    "start_time": "2023-12-13T08:43:49.600Z"
   },
   {
    "duration": 52,
    "start_time": "2023-12-13T08:43:49.625Z"
   },
   {
    "duration": 23,
    "start_time": "2023-12-13T08:43:49.678Z"
   },
   {
    "duration": 928,
    "start_time": "2023-12-13T08:43:49.702Z"
   },
   {
    "duration": 3,
    "start_time": "2023-12-13T08:43:50.631Z"
   },
   {
    "duration": 39,
    "start_time": "2023-12-13T08:43:50.635Z"
   },
   {
    "duration": 2461,
    "start_time": "2023-12-13T08:43:50.676Z"
   },
   {
    "duration": 2637,
    "start_time": "2023-12-13T08:43:53.139Z"
   },
   {
    "duration": 24103,
    "start_time": "2023-12-13T08:43:55.777Z"
   },
   {
    "duration": 4638,
    "start_time": "2023-12-13T08:44:19.881Z"
   },
   {
    "duration": 2,
    "start_time": "2023-12-13T08:44:24.521Z"
   },
   {
    "duration": 33,
    "start_time": "2023-12-13T08:44:24.524Z"
   },
   {
    "duration": 174,
    "start_time": "2023-12-13T08:44:24.558Z"
   },
   {
    "duration": 24137,
    "start_time": "2023-12-13T08:44:24.734Z"
   },
   {
    "duration": 2,
    "start_time": "2023-12-13T08:44:48.873Z"
   },
   {
    "duration": 33,
    "start_time": "2023-12-13T08:44:48.876Z"
   },
   {
    "duration": 2,
    "start_time": "2023-12-13T08:44:48.915Z"
   },
   {
    "duration": 5374,
    "start_time": "2023-12-13T08:44:48.919Z"
   },
   {
    "duration": 17,
    "start_time": "2023-12-13T08:44:54.294Z"
   },
   {
    "duration": 11,
    "start_time": "2023-12-13T08:44:54.312Z"
   },
   {
    "duration": 10,
    "start_time": "2023-12-13T08:44:54.324Z"
   },
   {
    "duration": 25,
    "start_time": "2023-12-13T08:44:54.335Z"
   },
   {
    "duration": 6,
    "start_time": "2023-12-13T08:44:54.361Z"
   },
   {
    "duration": 3,
    "start_time": "2023-12-13T08:44:54.369Z"
   },
   {
    "duration": 16,
    "start_time": "2023-12-13T08:44:54.373Z"
   },
   {
    "duration": 11,
    "start_time": "2023-12-13T08:44:54.390Z"
   },
   {
    "duration": 852,
    "start_time": "2023-12-13T08:44:54.402Z"
   },
   {
    "duration": 2,
    "start_time": "2023-12-13T08:44:55.256Z"
   },
   {
    "duration": 66,
    "start_time": "2023-12-13T08:44:55.259Z"
   },
   {
    "duration": 20,
    "start_time": "2023-12-13T08:44:55.327Z"
   },
   {
    "duration": 5,
    "start_time": "2023-12-13T08:44:55.348Z"
   },
   {
    "duration": 6,
    "start_time": "2023-12-13T08:44:55.354Z"
   },
   {
    "duration": 22,
    "start_time": "2023-12-13T08:44:55.361Z"
   },
   {
    "duration": 40,
    "start_time": "2023-12-13T08:44:55.384Z"
   },
   {
    "duration": 21,
    "start_time": "2023-12-13T08:44:55.425Z"
   },
   {
    "duration": 26,
    "start_time": "2023-12-13T08:44:55.447Z"
   },
   {
    "duration": 9215,
    "start_time": "2023-12-13T08:44:55.474Z"
   },
   {
    "duration": 84900,
    "start_time": "2023-12-13T08:45:04.691Z"
   },
   {
    "duration": 56314,
    "start_time": "2023-12-13T08:46:29.592Z"
   },
   {
    "duration": 2,
    "start_time": "2023-12-13T08:47:25.907Z"
   },
   {
    "duration": 18,
    "start_time": "2023-12-13T08:47:25.910Z"
   },
   {
    "duration": 11,
    "start_time": "2023-12-13T08:47:25.929Z"
   },
   {
    "duration": 5,
    "start_time": "2023-12-13T08:47:25.941Z"
   },
   {
    "duration": 281658,
    "start_time": "2023-12-13T08:47:25.947Z"
   },
   {
    "duration": 39,
    "start_time": "2023-12-13T08:52:07.606Z"
   },
   {
    "duration": 9,
    "start_time": "2023-12-13T08:52:07.646Z"
   },
   {
    "duration": 41,
    "start_time": "2023-12-13T08:52:07.656Z"
   },
   {
    "duration": 18,
    "start_time": "2023-12-13T08:52:07.698Z"
   },
   {
    "duration": 50,
    "start_time": "2023-12-13T08:52:07.718Z"
   },
   {
    "duration": 9,
    "start_time": "2023-12-13T08:52:07.770Z"
   },
   {
    "duration": 12,
    "start_time": "2023-12-13T08:52:07.780Z"
   },
   {
    "duration": 29,
    "start_time": "2023-12-13T08:52:07.794Z"
   },
   {
    "duration": 25,
    "start_time": "2023-12-13T08:52:07.824Z"
   },
   {
    "duration": 24,
    "start_time": "2023-12-13T08:52:07.850Z"
   },
   {
    "duration": 12,
    "start_time": "2023-12-13T08:52:07.875Z"
   },
   {
    "duration": 36,
    "start_time": "2023-12-13T08:52:07.889Z"
   },
   {
    "duration": 9,
    "start_time": "2023-12-13T08:52:07.926Z"
   },
   {
    "duration": 33,
    "start_time": "2023-12-13T08:52:07.936Z"
   },
   {
    "duration": 9,
    "start_time": "2023-12-13T08:52:07.971Z"
   },
   {
    "duration": 12,
    "start_time": "2023-12-13T08:52:07.981Z"
   },
   {
    "duration": 7,
    "start_time": "2023-12-13T08:52:07.994Z"
   },
   {
    "duration": 5623,
    "start_time": "2023-12-13T08:52:08.002Z"
   },
   {
    "duration": 998,
    "start_time": "2023-12-13T09:44:38.768Z"
   },
   {
    "duration": 5396,
    "start_time": "2023-12-13T10:12:34.607Z"
   },
   {
    "duration": 14,
    "start_time": "2023-12-13T10:12:41.261Z"
   },
   {
    "duration": 10,
    "start_time": "2023-12-13T10:14:33.054Z"
   },
   {
    "duration": 3,
    "start_time": "2023-12-13T10:15:48.247Z"
   },
   {
    "duration": 9,
    "start_time": "2023-12-13T10:15:51.961Z"
   },
   {
    "duration": 367,
    "start_time": "2023-12-13T10:16:30.079Z"
   },
   {
    "duration": 18,
    "start_time": "2023-12-13T10:16:30.701Z"
   },
   {
    "duration": 418,
    "start_time": "2023-12-13T10:16:47.560Z"
   },
   {
    "duration": 4622,
    "start_time": "2023-12-13T10:16:48.183Z"
   },
   {
    "duration": 77,
    "start_time": "2023-12-13T10:18:22.736Z"
   },
   {
    "duration": 2639,
    "start_time": "2023-12-13T10:18:47.160Z"
   },
   {
    "duration": 9,
    "start_time": "2023-12-13T10:21:11.049Z"
   },
   {
    "duration": 19,
    "start_time": "2023-12-13T10:21:56.537Z"
   },
   {
    "duration": 23,
    "start_time": "2023-12-13T10:23:35.785Z"
   },
   {
    "duration": 76,
    "start_time": "2023-12-13T10:24:34.290Z"
   },
   {
    "duration": 45,
    "start_time": "2023-12-13T10:24:48.330Z"
   },
   {
    "duration": 444,
    "start_time": "2023-12-13T10:25:46.065Z"
   },
   {
    "duration": 101,
    "start_time": "2023-12-13T10:25:59.200Z"
   },
   {
    "duration": 15,
    "start_time": "2023-12-13T10:26:15.065Z"
   },
   {
    "duration": 19,
    "start_time": "2023-12-13T10:26:46.909Z"
   },
   {
    "duration": 6,
    "start_time": "2023-12-13T10:26:58.081Z"
   },
   {
    "duration": 23,
    "start_time": "2023-12-13T10:27:18.794Z"
   },
   {
    "duration": 22,
    "start_time": "2023-12-13T10:27:19.513Z"
   },
   {
    "duration": 1511,
    "start_time": "2023-12-13T10:27:48.627Z"
   },
   {
    "duration": 23,
    "start_time": "2023-12-13T10:29:35.130Z"
   },
   {
    "duration": 1556,
    "start_time": "2023-12-13T10:29:37.514Z"
   },
   {
    "duration": 1562,
    "start_time": "2023-12-13T10:30:26.477Z"
   },
   {
    "duration": 106,
    "start_time": "2023-12-13T10:33:29.948Z"
   },
   {
    "duration": 24,
    "start_time": "2023-12-13T10:33:43.541Z"
   },
   {
    "duration": 1786,
    "start_time": "2023-12-13T10:33:55.355Z"
   },
   {
    "duration": 71,
    "start_time": "2023-12-13T10:34:13.585Z"
   },
   {
    "duration": 2956,
    "start_time": "2023-12-13T10:34:41.862Z"
   },
   {
    "duration": 81,
    "start_time": "2023-12-13T10:38:16.031Z"
   },
   {
    "duration": 74,
    "start_time": "2023-12-13T10:38:48.046Z"
   },
   {
    "duration": 21,
    "start_time": "2023-12-13T10:40:02.709Z"
   },
   {
    "duration": 24,
    "start_time": "2023-12-13T10:40:34.158Z"
   },
   {
    "duration": 15,
    "start_time": "2023-12-13T10:41:09.245Z"
   },
   {
    "duration": 331,
    "start_time": "2023-12-13T10:42:37.840Z"
   },
   {
    "duration": 25,
    "start_time": "2023-12-13T10:42:57.601Z"
   },
   {
    "duration": 12,
    "start_time": "2023-12-13T10:43:23.343Z"
   },
   {
    "duration": 27,
    "start_time": "2023-12-13T10:43:33.805Z"
   },
   {
    "duration": 27,
    "start_time": "2023-12-13T10:44:24.831Z"
   },
   {
    "duration": 4818,
    "start_time": "2023-12-13T10:45:21.664Z"
   },
   {
    "duration": 15,
    "start_time": "2023-12-13T10:45:30.583Z"
   },
   {
    "duration": 3101,
    "start_time": "2023-12-13T10:46:45.736Z"
   },
   {
    "duration": 858,
    "start_time": "2023-12-13T10:47:08.594Z"
   },
   {
    "duration": 12,
    "start_time": "2023-12-13T10:47:23.751Z"
   },
   {
    "duration": 908,
    "start_time": "2023-12-13T10:47:26.104Z"
   },
   {
    "duration": 862,
    "start_time": "2023-12-13T10:47:49.430Z"
   },
   {
    "duration": 26,
    "start_time": "2023-12-13T10:49:01.824Z"
   },
   {
    "duration": 18,
    "start_time": "2023-12-13T10:49:34.808Z"
   },
   {
    "duration": 15,
    "start_time": "2023-12-13T10:49:49.393Z"
   },
   {
    "duration": 868,
    "start_time": "2023-12-13T10:50:42.849Z"
   },
   {
    "duration": 798,
    "start_time": "2023-12-13T10:51:11.753Z"
   },
   {
    "duration": 926,
    "start_time": "2023-12-13T10:51:30.944Z"
   },
   {
    "duration": 866,
    "start_time": "2023-12-13T10:51:56.512Z"
   },
   {
    "duration": 933,
    "start_time": "2023-12-13T10:52:16.752Z"
   },
   {
    "duration": 971,
    "start_time": "2023-12-13T10:52:25.682Z"
   },
   {
    "duration": 15,
    "start_time": "2023-12-13T10:53:02.370Z"
   },
   {
    "duration": 1115,
    "start_time": "2023-12-13T10:55:28.186Z"
   },
   {
    "duration": 892,
    "start_time": "2023-12-13T10:55:43.269Z"
   },
   {
    "duration": 1139,
    "start_time": "2023-12-13T10:58:19.698Z"
   },
   {
    "duration": 1139,
    "start_time": "2023-12-13T10:58:44.342Z"
   },
   {
    "duration": 1055,
    "start_time": "2023-12-13T11:00:03.773Z"
   },
   {
    "duration": 1031,
    "start_time": "2023-12-13T11:00:10.114Z"
   },
   {
    "duration": 11,
    "start_time": "2023-12-13T11:00:53.502Z"
   },
   {
    "duration": 1071,
    "start_time": "2023-12-13T11:01:04.253Z"
   },
   {
    "duration": 968,
    "start_time": "2023-12-13T11:01:24.107Z"
   },
   {
    "duration": 1082,
    "start_time": "2023-12-13T11:03:48.717Z"
   },
   {
    "duration": 1172,
    "start_time": "2023-12-13T11:04:52.327Z"
   },
   {
    "duration": 1090,
    "start_time": "2023-12-13T11:05:02.812Z"
   },
   {
    "duration": 1211,
    "start_time": "2023-12-13T11:10:09.048Z"
   },
   {
    "duration": 1115,
    "start_time": "2023-12-13T11:10:44.214Z"
   },
   {
    "duration": 893,
    "start_time": "2023-12-13T11:14:56.137Z"
   },
   {
    "duration": 953,
    "start_time": "2023-12-13T11:15:17.295Z"
   },
   {
    "duration": 889,
    "start_time": "2023-12-13T11:15:41.953Z"
   },
   {
    "duration": 1160,
    "start_time": "2023-12-13T11:15:50.218Z"
   },
   {
    "duration": 20,
    "start_time": "2023-12-13T11:17:14.826Z"
   },
   {
    "duration": 424,
    "start_time": "2023-12-13T11:17:26.268Z"
   },
   {
    "duration": 547,
    "start_time": "2023-12-13T11:18:13.913Z"
   },
   {
    "duration": 32,
    "start_time": "2023-12-13T11:18:49.635Z"
   },
   {
    "duration": 610,
    "start_time": "2023-12-13T11:18:50.614Z"
   },
   {
    "duration": 517,
    "start_time": "2023-12-13T11:35:19.434Z"
   },
   {
    "duration": 73,
    "start_time": "2023-12-13T11:35:59.886Z"
   },
   {
    "duration": 565,
    "start_time": "2023-12-13T11:36:07.504Z"
   },
   {
    "duration": 47,
    "start_time": "2023-12-13T11:49:49.940Z"
   },
   {
    "duration": 14,
    "start_time": "2023-12-13T11:52:23.404Z"
   },
   {
    "duration": 539,
    "start_time": "2023-12-13T11:53:00.494Z"
   },
   {
    "duration": 15,
    "start_time": "2023-12-13T11:54:34.108Z"
   },
   {
    "duration": 523,
    "start_time": "2023-12-13T11:55:21.341Z"
   },
   {
    "duration": 102,
    "start_time": "2023-12-13T11:57:51.778Z"
   },
   {
    "duration": 15,
    "start_time": "2023-12-13T11:58:15.837Z"
   },
   {
    "duration": 14,
    "start_time": "2023-12-13T11:58:53.455Z"
   },
   {
    "duration": 19,
    "start_time": "2023-12-13T12:00:10.279Z"
   },
   {
    "duration": 3123,
    "start_time": "2023-12-13T12:00:22.976Z"
   },
   {
    "duration": 357,
    "start_time": "2023-12-13T12:01:04.188Z"
   },
   {
    "duration": 14,
    "start_time": "2023-12-13T12:01:50.536Z"
   },
   {
    "duration": 17,
    "start_time": "2023-12-13T12:02:11.637Z"
   },
   {
    "duration": 94,
    "start_time": "2023-12-13T12:02:21.289Z"
   },
   {
    "duration": 16,
    "start_time": "2023-12-13T12:02:29.002Z"
   },
   {
    "duration": 14,
    "start_time": "2023-12-13T12:02:30.659Z"
   },
   {
    "duration": 20,
    "start_time": "2023-12-13T12:03:42.154Z"
   },
   {
    "duration": 13,
    "start_time": "2023-12-13T12:04:22.107Z"
   },
   {
    "duration": 14,
    "start_time": "2023-12-13T12:04:23.882Z"
   },
   {
    "duration": 15,
    "start_time": "2023-12-13T12:05:13.980Z"
   },
   {
    "duration": 595,
    "start_time": "2023-12-13T12:05:22.349Z"
   },
   {
    "duration": 14,
    "start_time": "2023-12-13T12:06:05.157Z"
   },
   {
    "duration": 15,
    "start_time": "2023-12-13T12:06:05.947Z"
   },
   {
    "duration": 20,
    "start_time": "2023-12-13T12:06:11.606Z"
   },
   {
    "duration": 100,
    "start_time": "2023-12-13T12:17:35.098Z"
   },
   {
    "duration": 74,
    "start_time": "2023-12-13T12:17:53.167Z"
   },
   {
    "duration": 4,
    "start_time": "2023-12-13T12:18:06.215Z"
   },
   {
    "duration": 14,
    "start_time": "2023-12-13T12:18:34.044Z"
   },
   {
    "duration": 4,
    "start_time": "2023-12-13T12:18:49.241Z"
   },
   {
    "duration": 527,
    "start_time": "2023-12-13T12:18:49.814Z"
   },
   {
    "duration": 275,
    "start_time": "2023-12-13T12:20:12.535Z"
   },
   {
    "duration": 4,
    "start_time": "2023-12-13T12:21:56.362Z"
   },
   {
    "duration": 13,
    "start_time": "2023-12-13T12:21:57.399Z"
   },
   {
    "duration": 4,
    "start_time": "2023-12-13T12:22:05.886Z"
   },
   {
    "duration": 515,
    "start_time": "2023-12-13T12:22:06.990Z"
   },
   {
    "duration": 278,
    "start_time": "2023-12-13T12:22:16.471Z"
   },
   {
    "duration": 366,
    "start_time": "2023-12-13T12:22:36.671Z"
   },
   {
    "duration": 381,
    "start_time": "2023-12-13T12:23:04.686Z"
   },
   {
    "duration": 330,
    "start_time": "2023-12-13T12:23:25.735Z"
   },
   {
    "duration": 313,
    "start_time": "2023-12-13T12:23:37.666Z"
   },
   {
    "duration": 5,
    "start_time": "2023-12-13T12:26:41.649Z"
   },
   {
    "duration": 7,
    "start_time": "2023-12-13T12:26:43.863Z"
   },
   {
    "duration": 8,
    "start_time": "2023-12-13T12:26:54.242Z"
   },
   {
    "duration": 97,
    "start_time": "2023-12-13T12:26:57.128Z"
   },
   {
    "duration": 802,
    "start_time": "2023-12-13T12:27:04.321Z"
   },
   {
    "duration": 4,
    "start_time": "2023-12-13T12:27:44.129Z"
   },
   {
    "duration": 582,
    "start_time": "2023-12-13T12:27:47.934Z"
   },
   {
    "duration": 4,
    "start_time": "2023-12-13T12:28:12.305Z"
   },
   {
    "duration": 312,
    "start_time": "2023-12-13T12:28:23.417Z"
   },
   {
    "duration": 4,
    "start_time": "2023-12-13T12:28:33.898Z"
   },
   {
    "duration": 545,
    "start_time": "2023-12-13T12:28:35.039Z"
   },
   {
    "duration": 38,
    "start_time": "2023-12-13T12:36:49.247Z"
   },
   {
    "duration": 9,
    "start_time": "2023-12-13T12:38:33.268Z"
   },
   {
    "duration": 8,
    "start_time": "2023-12-13T12:38:44.834Z"
   },
   {
    "duration": 8,
    "start_time": "2023-12-13T12:39:03.628Z"
   },
   {
    "duration": 4,
    "start_time": "2023-12-13T12:39:27.699Z"
   },
   {
    "duration": 4,
    "start_time": "2023-12-13T12:39:32.308Z"
   },
   {
    "duration": 3,
    "start_time": "2023-12-13T12:40:01.493Z"
   },
   {
    "duration": 3,
    "start_time": "2023-12-13T12:40:09.590Z"
   },
   {
    "duration": 13,
    "start_time": "2023-12-13T12:40:55.723Z"
   },
   {
    "duration": 80,
    "start_time": "2023-12-13T12:42:12.837Z"
   },
   {
    "duration": 27,
    "start_time": "2023-12-13T12:42:22.652Z"
   },
   {
    "duration": 23,
    "start_time": "2023-12-13T12:43:29.371Z"
   },
   {
    "duration": 3,
    "start_time": "2023-12-13T12:43:38.261Z"
   },
   {
    "duration": 3,
    "start_time": "2023-12-13T12:43:38.859Z"
   },
   {
    "duration": 23,
    "start_time": "2023-12-13T12:45:04.263Z"
   },
   {
    "duration": 26,
    "start_time": "2023-12-13T12:48:08.371Z"
   },
   {
    "duration": 353,
    "start_time": "2023-12-13T12:50:07.173Z"
   },
   {
    "duration": 25,
    "start_time": "2023-12-13T12:50:16.662Z"
   },
   {
    "duration": 28,
    "start_time": "2023-12-13T12:53:38.014Z"
   },
   {
    "duration": 16,
    "start_time": "2023-12-13T12:54:03.273Z"
   },
   {
    "duration": 15,
    "start_time": "2023-12-13T12:54:43.911Z"
   },
   {
    "duration": 14,
    "start_time": "2023-12-13T12:55:42.984Z"
   },
   {
    "duration": 15,
    "start_time": "2023-12-13T12:56:41.452Z"
   },
   {
    "duration": 4,
    "start_time": "2023-12-13T13:07:29.369Z"
   },
   {
    "duration": 7,
    "start_time": "2023-12-13T13:08:12.355Z"
   },
   {
    "duration": 4,
    "start_time": "2023-12-13T13:08:39.138Z"
   },
   {
    "duration": 7,
    "start_time": "2023-12-13T13:08:39.752Z"
   },
   {
    "duration": 14,
    "start_time": "2023-12-13T13:09:04.250Z"
   },
   {
    "duration": 4,
    "start_time": "2023-12-13T13:09:14.507Z"
   },
   {
    "duration": 19,
    "start_time": "2023-12-13T13:09:15.865Z"
   },
   {
    "duration": 8,
    "start_time": "2023-12-13T13:10:02.819Z"
   },
   {
    "duration": 14,
    "start_time": "2023-12-13T13:11:24.653Z"
   },
   {
    "duration": 16,
    "start_time": "2023-12-13T13:12:28.696Z"
   },
   {
    "duration": 3,
    "start_time": "2023-12-13T13:13:40.069Z"
   },
   {
    "duration": 8,
    "start_time": "2023-12-13T13:13:50.100Z"
   },
   {
    "duration": 7,
    "start_time": "2023-12-13T13:13:58.366Z"
   },
   {
    "duration": 9,
    "start_time": "2023-12-13T13:14:15.569Z"
   },
   {
    "duration": 7,
    "start_time": "2023-12-13T13:14:42.072Z"
   },
   {
    "duration": 7,
    "start_time": "2023-12-13T13:14:50.536Z"
   },
   {
    "duration": 4,
    "start_time": "2023-12-13T13:16:28.534Z"
   },
   {
    "duration": 9,
    "start_time": "2023-12-13T13:16:31.773Z"
   },
   {
    "duration": 3,
    "start_time": "2023-12-13T13:16:49.016Z"
   },
   {
    "duration": 8,
    "start_time": "2023-12-13T13:16:50.190Z"
   },
   {
    "duration": 4,
    "start_time": "2023-12-13T13:17:02.311Z"
   },
   {
    "duration": 330,
    "start_time": "2023-12-13T13:17:20.782Z"
   },
   {
    "duration": 412,
    "start_time": "2023-12-13T13:17:41.255Z"
   },
   {
    "duration": 504,
    "start_time": "2023-12-13T13:17:52.976Z"
   },
   {
    "duration": 86,
    "start_time": "2023-12-13T13:18:07.392Z"
   },
   {
    "duration": 4,
    "start_time": "2023-12-13T13:18:20.807Z"
   },
   {
    "duration": 1901,
    "start_time": "2023-12-13T13:18:22.988Z"
   },
   {
    "duration": 2741,
    "start_time": "2023-12-13T13:26:38.628Z"
   },
   {
    "duration": 3,
    "start_time": "2023-12-13T13:26:41.371Z"
   },
   {
    "duration": 12,
    "start_time": "2023-12-13T13:26:41.376Z"
   },
   {
    "duration": 2,
    "start_time": "2023-12-13T13:26:41.390Z"
   },
   {
    "duration": 4,
    "start_time": "2023-12-13T13:26:41.394Z"
   },
   {
    "duration": 5,
    "start_time": "2023-12-13T13:26:41.399Z"
   },
   {
    "duration": 382,
    "start_time": "2023-12-13T13:26:41.405Z"
   },
   {
    "duration": 339,
    "start_time": "2023-12-13T13:26:41.789Z"
   },
   {
    "duration": 391,
    "start_time": "2023-12-13T13:26:42.129Z"
   },
   {
    "duration": 1661,
    "start_time": "2023-12-13T13:26:42.522Z"
   },
   {
    "duration": 2,
    "start_time": "2023-12-13T13:26:44.185Z"
   },
   {
    "duration": 14,
    "start_time": "2023-12-13T13:26:44.188Z"
   },
   {
    "duration": 109110,
    "start_time": "2023-12-13T13:26:44.203Z"
   },
   {
    "duration": 142,
    "start_time": "2023-12-13T13:28:33.315Z"
   },
   {
    "duration": 3,
    "start_time": "2023-12-13T13:28:33.458Z"
   },
   {
    "duration": 21,
    "start_time": "2023-12-13T13:28:33.462Z"
   },
   {
    "duration": 15,
    "start_time": "2023-12-13T13:28:33.484Z"
   },
   {
    "duration": 25,
    "start_time": "2023-12-13T13:28:33.501Z"
   },
   {
    "duration": 6,
    "start_time": "2023-12-13T13:28:33.527Z"
   },
   {
    "duration": 9,
    "start_time": "2023-12-13T13:28:33.535Z"
   },
   {
    "duration": 7,
    "start_time": "2023-12-13T13:28:33.545Z"
   },
   {
    "duration": 57,
    "start_time": "2023-12-13T13:28:33.553Z"
   },
   {
    "duration": 4,
    "start_time": "2023-12-13T13:28:33.611Z"
   },
   {
    "duration": 22,
    "start_time": "2023-12-13T13:28:33.616Z"
   },
   {
    "duration": 34,
    "start_time": "2023-12-13T13:28:33.639Z"
   },
   {
    "duration": 4,
    "start_time": "2023-12-13T13:28:33.674Z"
   },
   {
    "duration": 6772,
    "start_time": "2023-12-13T13:28:33.679Z"
   },
   {
    "duration": 22,
    "start_time": "2023-12-13T13:28:40.454Z"
   },
   {
    "duration": 12,
    "start_time": "2023-12-13T13:28:40.477Z"
   },
   {
    "duration": 63,
    "start_time": "2023-12-13T13:28:40.490Z"
   },
   {
    "duration": 19,
    "start_time": "2023-12-13T13:28:40.554Z"
   },
   {
    "duration": 22,
    "start_time": "2023-12-13T13:28:40.574Z"
   },
   {
    "duration": 30,
    "start_time": "2023-12-13T13:28:40.597Z"
   },
   {
    "duration": 8,
    "start_time": "2023-12-13T13:28:40.628Z"
   },
   {
    "duration": 10,
    "start_time": "2023-12-13T13:28:40.637Z"
   },
   {
    "duration": 28,
    "start_time": "2023-12-13T13:28:40.648Z"
   },
   {
    "duration": 3,
    "start_time": "2023-12-13T13:28:40.677Z"
   },
   {
    "duration": 9,
    "start_time": "2023-12-13T13:28:40.681Z"
   },
   {
    "duration": 1012,
    "start_time": "2023-12-13T13:28:40.691Z"
   },
   {
    "duration": 20,
    "start_time": "2023-12-13T13:28:41.704Z"
   },
   {
    "duration": 4,
    "start_time": "2023-12-13T13:28:41.725Z"
   },
   {
    "duration": 4,
    "start_time": "2023-12-13T13:28:41.730Z"
   },
   {
    "duration": 26,
    "start_time": "2023-12-13T13:28:41.735Z"
   },
   {
    "duration": 3280,
    "start_time": "2023-12-13T13:28:41.762Z"
   },
   {
    "duration": 188,
    "start_time": "2023-12-13T13:28:45.044Z"
   },
   {
    "duration": 2,
    "start_time": "2023-12-13T13:28:45.234Z"
   },
   {
    "duration": 22,
    "start_time": "2023-12-13T13:28:45.237Z"
   },
   {
    "duration": 2785,
    "start_time": "2023-12-13T13:28:45.260Z"
   },
   {
    "duration": 2562,
    "start_time": "2023-12-13T13:28:48.046Z"
   },
   {
    "duration": 1668,
    "start_time": "2023-12-13T13:28:50.609Z"
   },
   {
    "duration": 2,
    "start_time": "2023-12-13T13:28:52.278Z"
   },
   {
    "duration": 23,
    "start_time": "2023-12-13T13:28:52.281Z"
   },
   {
    "duration": 109,
    "start_time": "2023-12-13T13:28:52.306Z"
   },
   {
    "duration": 91,
    "start_time": "2023-12-13T13:28:52.416Z"
   },
   {
    "duration": 102,
    "start_time": "2023-12-13T13:28:52.508Z"
   },
   {
    "duration": 216,
    "start_time": "2023-12-13T13:28:52.611Z"
   },
   {
    "duration": 2,
    "start_time": "2023-12-13T13:28:52.828Z"
   },
   {
    "duration": 37,
    "start_time": "2023-12-13T13:28:52.831Z"
   },
   {
    "duration": 2,
    "start_time": "2023-12-13T13:28:52.870Z"
   },
   {
    "duration": 5375,
    "start_time": "2023-12-13T13:28:52.873Z"
   },
   {
    "duration": 18,
    "start_time": "2023-12-13T13:28:58.250Z"
   },
   {
    "duration": 13,
    "start_time": "2023-12-13T13:28:58.269Z"
   },
   {
    "duration": 11,
    "start_time": "2023-12-13T13:28:58.283Z"
   },
   {
    "duration": 12,
    "start_time": "2023-12-13T13:28:58.295Z"
   },
   {
    "duration": 12,
    "start_time": "2023-12-13T13:28:58.308Z"
   },
   {
    "duration": 4,
    "start_time": "2023-12-13T13:28:58.322Z"
   },
   {
    "duration": 21,
    "start_time": "2023-12-13T13:28:58.327Z"
   },
   {
    "duration": 11,
    "start_time": "2023-12-13T13:28:58.349Z"
   },
   {
    "duration": 965,
    "start_time": "2023-12-13T13:28:58.361Z"
   },
   {
    "duration": 3,
    "start_time": "2023-12-13T13:28:59.327Z"
   },
   {
    "duration": 33,
    "start_time": "2023-12-13T13:28:59.331Z"
   },
   {
    "duration": 3445,
    "start_time": "2023-12-13T13:28:59.366Z"
   },
   {
    "duration": 3153,
    "start_time": "2023-12-13T13:29:02.815Z"
   },
   {
    "duration": 28339,
    "start_time": "2023-12-13T13:29:05.970Z"
   },
   {
    "duration": 5592,
    "start_time": "2023-12-13T13:29:34.310Z"
   },
   {
    "duration": 3,
    "start_time": "2023-12-13T13:29:39.904Z"
   },
   {
    "duration": 31,
    "start_time": "2023-12-13T13:29:39.908Z"
   },
   {
    "duration": 290,
    "start_time": "2023-12-13T13:29:39.941Z"
   },
   {
    "duration": 29360,
    "start_time": "2023-12-13T13:29:40.232Z"
   },
   {
    "duration": 2,
    "start_time": "2023-12-13T13:30:09.594Z"
   },
   {
    "duration": 105,
    "start_time": "2023-12-13T13:30:09.598Z"
   },
   {
    "duration": 2,
    "start_time": "2023-12-13T13:30:09.710Z"
   },
   {
    "duration": 6937,
    "start_time": "2023-12-13T13:30:09.713Z"
   },
   {
    "duration": 18,
    "start_time": "2023-12-13T13:30:16.651Z"
   },
   {
    "duration": 10,
    "start_time": "2023-12-13T13:30:16.670Z"
   },
   {
    "duration": 6,
    "start_time": "2023-12-13T13:30:16.682Z"
   },
   {
    "duration": 9,
    "start_time": "2023-12-13T13:30:16.689Z"
   },
   {
    "duration": 20,
    "start_time": "2023-12-13T13:30:16.699Z"
   },
   {
    "duration": 4,
    "start_time": "2023-12-13T13:30:16.720Z"
   },
   {
    "duration": 13,
    "start_time": "2023-12-13T13:30:16.725Z"
   },
   {
    "duration": 14,
    "start_time": "2023-12-13T13:30:16.739Z"
   },
   {
    "duration": 888,
    "start_time": "2023-12-13T13:30:16.754Z"
   },
   {
    "duration": 3,
    "start_time": "2023-12-13T13:30:17.643Z"
   },
   {
    "duration": 5,
    "start_time": "2023-12-13T13:30:17.647Z"
   },
   {
    "duration": 5,
    "start_time": "2023-12-13T13:30:17.653Z"
   },
   {
    "duration": 5,
    "start_time": "2023-12-13T13:30:17.659Z"
   },
   {
    "duration": 15,
    "start_time": "2023-12-13T13:30:17.665Z"
   },
   {
    "duration": 4,
    "start_time": "2023-12-13T13:30:17.681Z"
   },
   {
    "duration": 64,
    "start_time": "2023-12-13T13:30:17.686Z"
   },
   {
    "duration": 23,
    "start_time": "2023-12-13T13:30:17.751Z"
   },
   {
    "duration": 22,
    "start_time": "2023-12-13T13:30:17.775Z"
   },
   {
    "duration": 10165,
    "start_time": "2023-12-13T13:30:17.798Z"
   },
   {
    "duration": 102795,
    "start_time": "2023-12-13T13:30:27.964Z"
   },
   {
    "duration": 66592,
    "start_time": "2023-12-13T13:32:10.760Z"
   },
   {
    "duration": 7,
    "start_time": "2023-12-13T13:33:17.353Z"
   },
   {
    "duration": 12,
    "start_time": "2023-12-13T13:33:17.361Z"
   },
   {
    "duration": 6,
    "start_time": "2023-12-13T13:33:17.374Z"
   },
   {
    "duration": 9,
    "start_time": "2023-12-13T13:33:17.381Z"
   },
   {
    "duration": 342064,
    "start_time": "2023-12-13T13:33:17.391Z"
   },
   {
    "duration": 36,
    "start_time": "2023-12-13T13:38:59.456Z"
   },
   {
    "duration": 8,
    "start_time": "2023-12-13T13:38:59.493Z"
   },
   {
    "duration": 61,
    "start_time": "2023-12-13T13:38:59.502Z"
   },
   {
    "duration": 10,
    "start_time": "2023-12-13T13:38:59.564Z"
   },
   {
    "duration": 52,
    "start_time": "2023-12-13T13:38:59.575Z"
   },
   {
    "duration": 11,
    "start_time": "2023-12-13T13:38:59.629Z"
   },
   {
    "duration": 3,
    "start_time": "2023-12-13T13:38:59.642Z"
   },
   {
    "duration": 27,
    "start_time": "2023-12-13T13:38:59.646Z"
   },
   {
    "duration": 48,
    "start_time": "2023-12-13T13:38:59.674Z"
   },
   {
    "duration": 27,
    "start_time": "2023-12-13T13:38:59.724Z"
   },
   {
    "duration": 22,
    "start_time": "2023-12-13T13:38:59.752Z"
   },
   {
    "duration": 13,
    "start_time": "2023-12-13T13:38:59.775Z"
   },
   {
    "duration": 13,
    "start_time": "2023-12-13T13:38:59.789Z"
   },
   {
    "duration": 48,
    "start_time": "2023-12-13T13:38:59.804Z"
   },
   {
    "duration": 8,
    "start_time": "2023-12-13T13:38:59.853Z"
   },
   {
    "duration": 21,
    "start_time": "2023-12-13T13:38:59.862Z"
   },
   {
    "duration": 21,
    "start_time": "2023-12-13T13:38:59.885Z"
   },
   {
    "duration": 5823,
    "start_time": "2023-12-13T13:38:59.907Z"
   },
   {
    "duration": 10,
    "start_time": "2023-12-13T13:39:05.731Z"
   },
   {
    "duration": 19,
    "start_time": "2023-12-13T13:39:05.745Z"
   },
   {
    "duration": 14,
    "start_time": "2023-12-13T13:39:05.765Z"
   },
   {
    "duration": 31,
    "start_time": "2023-12-13T13:39:05.780Z"
   },
   {
    "duration": 10,
    "start_time": "2023-12-13T13:39:05.813Z"
   },
   {
    "duration": 23,
    "start_time": "2023-12-13T13:39:05.826Z"
   },
   {
    "duration": 559,
    "start_time": "2023-12-13T13:39:05.850Z"
   },
   {
    "duration": 325,
    "start_time": "2023-12-13T13:39:06.411Z"
   },
   {
    "duration": 369,
    "start_time": "2023-12-13T13:39:06.738Z"
   },
   {
    "duration": 1464,
    "start_time": "2023-12-13T13:39:07.108Z"
   },
   {
    "duration": 18,
    "start_time": "2023-12-13T13:39:08.573Z"
   },
   {
    "duration": 22,
    "start_time": "2023-12-13T13:39:08.593Z"
   },
   {
    "duration": 2,
    "start_time": "2023-12-13T13:39:08.620Z"
   },
   {
    "duration": 9,
    "start_time": "2023-12-13T13:39:08.624Z"
   },
   {
    "duration": 4,
    "start_time": "2023-12-13T13:39:08.635Z"
   },
   {
    "duration": 1908,
    "start_time": "2023-12-13T13:39:08.640Z"
   },
   {
    "duration": 4894,
    "start_time": "2023-12-28T11:34:03.426Z"
   },
   {
    "duration": 3,
    "start_time": "2023-12-28T11:34:08.323Z"
   },
   {
    "duration": 672,
    "start_time": "2023-12-28T11:34:08.328Z"
   },
   {
    "duration": 101,
    "start_time": "2023-12-28T11:34:09.003Z"
   },
   {
    "duration": 3,
    "start_time": "2023-12-28T11:34:09.105Z"
   },
   {
    "duration": 10,
    "start_time": "2023-12-28T11:34:09.109Z"
   },
   {
    "duration": 361,
    "start_time": "2023-12-28T11:34:09.166Z"
   },
   {
    "duration": 304,
    "start_time": "2023-12-28T11:34:09.528Z"
   },
   {
    "duration": 344,
    "start_time": "2023-12-28T11:34:09.834Z"
   },
   {
    "duration": 1422,
    "start_time": "2023-12-28T11:34:10.181Z"
   },
   {
    "duration": 3,
    "start_time": "2023-12-28T11:34:11.604Z"
   },
   {
    "duration": 8,
    "start_time": "2023-12-28T11:34:11.608Z"
   },
   {
    "duration": 104334,
    "start_time": "2023-12-28T11:34:11.618Z"
   },
   {
    "duration": 140,
    "start_time": "2023-12-28T11:35:55.953Z"
   },
   {
    "duration": 2,
    "start_time": "2023-12-28T11:35:56.095Z"
   },
   {
    "duration": 25,
    "start_time": "2023-12-28T11:35:56.099Z"
   },
   {
    "duration": 53,
    "start_time": "2023-12-28T11:35:56.125Z"
   },
   {
    "duration": 40,
    "start_time": "2023-12-28T11:35:56.180Z"
   },
   {
    "duration": 39,
    "start_time": "2023-12-28T11:35:56.221Z"
   },
   {
    "duration": 16,
    "start_time": "2023-12-28T11:35:56.261Z"
   },
   {
    "duration": 9,
    "start_time": "2023-12-28T11:35:56.279Z"
   },
   {
    "duration": 64,
    "start_time": "2023-12-28T11:35:56.289Z"
   },
   {
    "duration": 4,
    "start_time": "2023-12-28T11:35:56.354Z"
   },
   {
    "duration": 18,
    "start_time": "2023-12-28T11:35:56.359Z"
   },
   {
    "duration": 44,
    "start_time": "2023-12-28T11:35:56.379Z"
   },
   {
    "duration": 2,
    "start_time": "2023-12-28T11:35:56.425Z"
   },
   {
    "duration": 6504,
    "start_time": "2023-12-28T11:35:56.429Z"
   },
   {
    "duration": 28,
    "start_time": "2023-12-28T11:36:02.938Z"
   },
   {
    "duration": 18,
    "start_time": "2023-12-28T11:36:02.972Z"
   },
   {
    "duration": 8,
    "start_time": "2023-12-28T11:36:02.992Z"
   },
   {
    "duration": 14,
    "start_time": "2023-12-28T11:36:03.001Z"
   },
   {
    "duration": 15,
    "start_time": "2023-12-28T11:36:03.016Z"
   },
   {
    "duration": 5,
    "start_time": "2023-12-28T11:36:03.033Z"
   },
   {
    "duration": 5,
    "start_time": "2023-12-28T11:36:03.040Z"
   },
   {
    "duration": 26,
    "start_time": "2023-12-28T11:36:03.046Z"
   },
   {
    "duration": 26,
    "start_time": "2023-12-28T11:36:03.077Z"
   },
   {
    "duration": 3,
    "start_time": "2023-12-28T11:36:03.104Z"
   },
   {
    "duration": 6,
    "start_time": "2023-12-28T11:36:03.109Z"
   },
   {
    "duration": 909,
    "start_time": "2023-12-28T11:36:03.116Z"
   },
   {
    "duration": 23,
    "start_time": "2023-12-28T11:36:04.027Z"
   },
   {
    "duration": 3,
    "start_time": "2023-12-28T11:36:04.052Z"
   },
   {
    "duration": 11,
    "start_time": "2023-12-28T11:36:04.057Z"
   },
   {
    "duration": 25,
    "start_time": "2023-12-28T11:36:04.070Z"
   },
   {
    "duration": 2902,
    "start_time": "2023-12-28T11:36:04.097Z"
   },
   {
    "duration": 109,
    "start_time": "2023-12-28T11:36:07.001Z"
   },
   {
    "duration": 8,
    "start_time": "2023-12-28T11:36:07.112Z"
   },
   {
    "duration": 6,
    "start_time": "2023-12-28T11:36:07.121Z"
   },
   {
    "duration": 2879,
    "start_time": "2023-12-28T11:36:07.129Z"
   },
   {
    "duration": 2577,
    "start_time": "2023-12-28T11:36:10.009Z"
   },
   {
    "duration": 1763,
    "start_time": "2023-12-28T11:36:12.588Z"
   },
   {
    "duration": 3,
    "start_time": "2023-12-28T11:36:14.352Z"
   },
   {
    "duration": 27,
    "start_time": "2023-12-28T11:36:14.356Z"
   },
   {
    "duration": 118,
    "start_time": "2023-12-28T11:36:14.384Z"
   },
   {
    "duration": 100,
    "start_time": "2023-12-28T11:36:14.503Z"
   },
   {
    "duration": 106,
    "start_time": "2023-12-28T11:36:14.605Z"
   },
   {
    "duration": 247,
    "start_time": "2023-12-28T11:36:14.713Z"
   },
   {
    "duration": 3,
    "start_time": "2023-12-28T11:36:14.961Z"
   },
   {
    "duration": 32,
    "start_time": "2023-12-28T11:36:14.965Z"
   },
   {
    "duration": 2,
    "start_time": "2023-12-28T11:36:14.998Z"
   },
   {
    "duration": 5293,
    "start_time": "2023-12-28T11:36:15.002Z"
   },
   {
    "duration": 23,
    "start_time": "2023-12-28T11:36:20.297Z"
   },
   {
    "duration": 14,
    "start_time": "2023-12-28T11:36:20.321Z"
   },
   {
    "duration": 9,
    "start_time": "2023-12-28T11:36:20.336Z"
   },
   {
    "duration": 35,
    "start_time": "2023-12-28T11:36:20.346Z"
   },
   {
    "duration": 9,
    "start_time": "2023-12-28T11:36:20.382Z"
   },
   {
    "duration": 4,
    "start_time": "2023-12-28T11:36:20.393Z"
   },
   {
    "duration": 16,
    "start_time": "2023-12-28T11:36:20.398Z"
   },
   {
    "duration": 13,
    "start_time": "2023-12-28T11:36:20.415Z"
   },
   {
    "duration": 847,
    "start_time": "2023-12-28T11:36:20.430Z"
   },
   {
    "duration": 3,
    "start_time": "2023-12-28T11:36:21.279Z"
   },
   {
    "duration": 37,
    "start_time": "2023-12-28T11:36:21.283Z"
   },
   {
    "duration": 2607,
    "start_time": "2023-12-28T11:36:21.321Z"
   },
   {
    "duration": 2976,
    "start_time": "2023-12-28T11:36:23.930Z"
   },
   {
    "duration": 28723,
    "start_time": "2023-12-28T11:36:26.908Z"
   },
   {
    "duration": 5397,
    "start_time": "2023-12-28T11:36:55.632Z"
   },
   {
    "duration": 2,
    "start_time": "2023-12-28T11:37:01.031Z"
   },
   {
    "duration": 68,
    "start_time": "2023-12-28T11:37:01.035Z"
   },
   {
    "duration": 239,
    "start_time": "2023-12-28T11:37:01.105Z"
   },
   {
    "duration": 30840,
    "start_time": "2023-12-28T11:37:01.346Z"
   },
   {
    "duration": 4,
    "start_time": "2023-12-28T11:37:32.188Z"
   },
   {
    "duration": 44,
    "start_time": "2023-12-28T11:37:32.193Z"
   },
   {
    "duration": 3,
    "start_time": "2023-12-28T11:37:32.244Z"
   },
   {
    "duration": 5929,
    "start_time": "2023-12-28T11:37:32.249Z"
   },
   {
    "duration": 20,
    "start_time": "2023-12-28T11:37:38.180Z"
   },
   {
    "duration": 14,
    "start_time": "2023-12-28T11:37:38.202Z"
   },
   {
    "duration": 9,
    "start_time": "2023-12-28T11:37:38.217Z"
   },
   {
    "duration": 11,
    "start_time": "2023-12-28T11:37:38.227Z"
   },
   {
    "duration": 7,
    "start_time": "2023-12-28T11:37:38.239Z"
   },
   {
    "duration": 12,
    "start_time": "2023-12-28T11:37:38.265Z"
   },
   {
    "duration": 16,
    "start_time": "2023-12-28T11:37:38.279Z"
   },
   {
    "duration": 13,
    "start_time": "2023-12-28T11:37:38.297Z"
   },
   {
    "duration": 1029,
    "start_time": "2023-12-28T11:37:38.311Z"
   },
   {
    "duration": 3,
    "start_time": "2023-12-28T11:37:39.342Z"
   },
   {
    "duration": 4,
    "start_time": "2023-12-28T11:37:39.347Z"
   },
   {
    "duration": 4,
    "start_time": "2023-12-28T11:37:39.352Z"
   },
   {
    "duration": 7,
    "start_time": "2023-12-28T11:37:39.357Z"
   },
   {
    "duration": 5,
    "start_time": "2023-12-28T11:37:39.377Z"
   },
   {
    "duration": 8,
    "start_time": "2023-12-28T11:37:39.383Z"
   },
   {
    "duration": 35,
    "start_time": "2023-12-28T11:37:39.392Z"
   },
   {
    "duration": 25,
    "start_time": "2023-12-28T11:37:39.429Z"
   },
   {
    "duration": 24,
    "start_time": "2023-12-28T11:37:39.455Z"
   },
   {
    "duration": 9060,
    "start_time": "2023-12-28T11:37:39.480Z"
   },
   {
    "duration": 100748,
    "start_time": "2023-12-28T11:37:48.541Z"
   },
   {
    "duration": 65395,
    "start_time": "2023-12-28T11:39:29.290Z"
   },
   {
    "duration": 2,
    "start_time": "2023-12-28T11:40:34.687Z"
   },
   {
    "duration": 8,
    "start_time": "2023-12-28T11:40:34.691Z"
   },
   {
    "duration": 3,
    "start_time": "2023-12-28T11:40:34.700Z"
   },
   {
    "duration": 6,
    "start_time": "2023-12-28T11:40:34.705Z"
   },
   {
    "duration": 339245,
    "start_time": "2023-12-28T11:40:34.765Z"
   },
   {
    "duration": 56,
    "start_time": "2023-12-28T11:46:14.011Z"
   },
   {
    "duration": 11,
    "start_time": "2023-12-28T11:46:14.077Z"
   },
   {
    "duration": 50,
    "start_time": "2023-12-28T11:46:14.090Z"
   },
   {
    "duration": 11,
    "start_time": "2023-12-28T11:46:14.141Z"
   },
   {
    "duration": 55,
    "start_time": "2023-12-28T11:46:14.153Z"
   },
   {
    "duration": 12,
    "start_time": "2023-12-28T11:46:14.209Z"
   },
   {
    "duration": 12,
    "start_time": "2023-12-28T11:46:14.222Z"
   },
   {
    "duration": 47,
    "start_time": "2023-12-28T11:46:14.235Z"
   },
   {
    "duration": 42,
    "start_time": "2023-12-28T11:46:14.284Z"
   },
   {
    "duration": 61,
    "start_time": "2023-12-28T11:46:14.328Z"
   },
   {
    "duration": 16,
    "start_time": "2023-12-28T11:46:14.390Z"
   },
   {
    "duration": 17,
    "start_time": "2023-12-28T11:46:14.407Z"
   },
   {
    "duration": 14,
    "start_time": "2023-12-28T11:46:14.425Z"
   },
   {
    "duration": 39,
    "start_time": "2023-12-28T11:46:14.440Z"
   },
   {
    "duration": 11,
    "start_time": "2023-12-28T11:46:14.481Z"
   },
   {
    "duration": 7,
    "start_time": "2023-12-28T11:46:14.494Z"
   },
   {
    "duration": 12,
    "start_time": "2023-12-28T11:46:14.503Z"
   },
   {
    "duration": 6454,
    "start_time": "2023-12-28T11:46:14.516Z"
   },
   {
    "duration": 12,
    "start_time": "2023-12-28T11:46:20.976Z"
   },
   {
    "duration": 36,
    "start_time": "2023-12-28T11:46:20.990Z"
   },
   {
    "duration": 25,
    "start_time": "2023-12-28T11:46:21.028Z"
   },
   {
    "duration": 49,
    "start_time": "2023-12-28T11:46:21.054Z"
   },
   {
    "duration": 1127,
    "start_time": "2023-12-28T11:46:21.104Z"
   },
   {
    "duration": 5,
    "start_time": "2023-12-28T11:46:22.233Z"
   },
   {
    "duration": 644,
    "start_time": "2023-12-28T11:46:22.239Z"
   },
   {
    "duration": 333,
    "start_time": "2023-12-28T11:46:22.884Z"
   },
   {
    "duration": 414,
    "start_time": "2023-12-28T11:46:23.218Z"
   },
   {
    "duration": 1395,
    "start_time": "2023-12-28T11:46:23.633Z"
   },
   {
    "duration": 20,
    "start_time": "2023-12-28T11:46:25.030Z"
   },
   {
    "duration": 9,
    "start_time": "2023-12-28T11:46:25.069Z"
   },
   {
    "duration": 7,
    "start_time": "2023-12-28T11:46:25.080Z"
   },
   {
    "duration": 12,
    "start_time": "2023-12-28T11:46:25.088Z"
   },
   {
    "duration": 5,
    "start_time": "2023-12-28T11:46:25.101Z"
   },
   {
    "duration": 2200,
    "start_time": "2023-12-28T11:46:25.107Z"
   },
   {
    "duration": 100,
    "start_time": "2023-12-28T11:58:59.166Z"
   },
   {
    "duration": 4,
    "start_time": "2023-12-28T11:59:06.709Z"
   },
   {
    "duration": 375,
    "start_time": "2023-12-28T11:59:17.723Z"
   },
   {
    "duration": 2463,
    "start_time": "2023-12-28T12:00:21.527Z"
   },
   {
    "duration": 2,
    "start_time": "2023-12-28T12:00:27.147Z"
   },
   {
    "duration": 657,
    "start_time": "2023-12-28T12:00:32.155Z"
   },
   {
    "duration": 25,
    "start_time": "2023-12-28T12:00:35.437Z"
   },
   {
    "duration": 11,
    "start_time": "2023-12-28T12:00:37.802Z"
   },
   {
    "duration": 93,
    "start_time": "2023-12-28T12:00:52.724Z"
   },
   {
    "duration": 12,
    "start_time": "2023-12-28T12:01:26.681Z"
   },
   {
    "duration": 8,
    "start_time": "2023-12-28T12:01:53.119Z"
   },
   {
    "duration": 7,
    "start_time": "2023-12-28T12:02:56.621Z"
   },
   {
    "duration": 4,
    "start_time": "2023-12-28T12:03:26.712Z"
   },
   {
    "duration": 3,
    "start_time": "2023-12-28T12:03:31.623Z"
   },
   {
    "duration": 4,
    "start_time": "2023-12-28T12:03:43.086Z"
   },
   {
    "duration": 4,
    "start_time": "2023-12-28T12:03:52.552Z"
   },
   {
    "duration": 18,
    "start_time": "2023-12-28T12:04:36.971Z"
   },
   {
    "duration": 4,
    "start_time": "2023-12-28T12:06:27.796Z"
   },
   {
    "duration": 15,
    "start_time": "2023-12-28T12:06:35.473Z"
   },
   {
    "duration": 2671,
    "start_time": "2023-12-28T12:08:01.424Z"
   },
   {
    "duration": 2,
    "start_time": "2023-12-28T12:08:07.592Z"
   },
   {
    "duration": 609,
    "start_time": "2023-12-28T12:08:11.212Z"
   },
   {
    "duration": 9,
    "start_time": "2023-12-28T12:08:14.436Z"
   },
   {
    "duration": 54,
    "start_time": "2023-12-28T12:08:16.527Z"
   },
   {
    "duration": 88,
    "start_time": "2023-12-28T12:08:21.640Z"
   },
   {
    "duration": 4,
    "start_time": "2023-12-28T12:08:27.409Z"
   },
   {
    "duration": 2486,
    "start_time": "2023-12-28T12:12:36.429Z"
   },
   {
    "duration": 2,
    "start_time": "2023-12-28T12:12:44.926Z"
   },
   {
    "duration": 577,
    "start_time": "2023-12-28T12:12:47.630Z"
   },
   {
    "duration": 8,
    "start_time": "2023-12-28T12:12:50.603Z"
   },
   {
    "duration": 26,
    "start_time": "2023-12-28T12:12:51.732Z"
   },
   {
    "duration": 4,
    "start_time": "2023-12-28T12:12:53.391Z"
   },
   {
    "duration": 15200,
    "start_time": "2023-12-28T12:12:57.332Z"
   },
   {
    "duration": 13954,
    "start_time": "2023-12-28T12:16:36.830Z"
   },
   {
    "duration": 8,
    "start_time": "2023-12-28T12:22:36.816Z"
   },
   {
    "duration": 5,
    "start_time": "2023-12-28T12:22:55.076Z"
   },
   {
    "duration": 7,
    "start_time": "2023-12-28T12:22:57.679Z"
   },
   {
    "duration": 5,
    "start_time": "2023-12-28T12:25:10.983Z"
   },
   {
    "duration": 7,
    "start_time": "2023-12-28T12:25:15.187Z"
   },
   {
    "duration": 574,
    "start_time": "2023-12-28T12:26:21.000Z"
   },
   {
    "duration": 18,
    "start_time": "2023-12-28T12:26:25.259Z"
   },
   {
    "duration": 236,
    "start_time": "2023-12-28T12:26:27.291Z"
   },
   {
    "duration": 90,
    "start_time": "2023-12-28T12:26:35.717Z"
   },
   {
    "duration": 3,
    "start_time": "2023-12-28T12:26:41.388Z"
   },
   {
    "duration": 12977,
    "start_time": "2023-12-28T12:27:05.519Z"
   },
   {
    "duration": 7,
    "start_time": "2023-12-28T12:28:32.995Z"
   },
   {
    "duration": 380,
    "start_time": "2023-12-28T12:28:58.447Z"
   },
   {
    "duration": 9,
    "start_time": "2023-12-28T12:34:50.216Z"
   },
   {
    "duration": 381,
    "start_time": "2023-12-28T12:34:59.712Z"
   },
   {
    "duration": 378,
    "start_time": "2023-12-28T12:35:12.300Z"
   },
   {
    "duration": 299,
    "start_time": "2023-12-28T12:37:19.535Z"
   },
   {
    "duration": 1902,
    "start_time": "2023-12-28T12:43:29.454Z"
   },
   {
    "duration": 26,
    "start_time": "2023-12-28T12:43:49.300Z"
   },
   {
    "duration": 4,
    "start_time": "2023-12-28T12:43:54.749Z"
   },
   {
    "duration": 109158,
    "start_time": "2023-12-28T12:48:28.624Z"
   },
   {
    "duration": 4,
    "start_time": "2023-12-28T12:55:32.046Z"
   },
   {
    "duration": 96921,
    "start_time": "2023-12-28T12:55:37.007Z"
   },
   {
    "duration": 5,
    "start_time": "2023-12-28T13:04:54.874Z"
   },
   {
    "duration": 3,
    "start_time": "2023-12-28T13:06:20.321Z"
   },
   {
    "duration": 4,
    "start_time": "2023-12-28T13:06:29.281Z"
   },
   {
    "duration": 3,
    "start_time": "2023-12-28T13:06:46.416Z"
   },
   {
    "duration": 44,
    "start_time": "2023-12-28T13:06:58.240Z"
   },
   {
    "duration": 9,
    "start_time": "2023-12-28T13:08:22.834Z"
   },
   {
    "duration": 7,
    "start_time": "2023-12-28T13:08:30.104Z"
   },
   {
    "duration": 4,
    "start_time": "2023-12-28T13:08:45.730Z"
   },
   {
    "duration": 28,
    "start_time": "2023-12-28T13:08:55.715Z"
   },
   {
    "duration": 5,
    "start_time": "2023-12-28T13:27:32.390Z"
   },
   {
    "duration": 3,
    "start_time": "2023-12-28T13:29:51.111Z"
   },
   {
    "duration": 4,
    "start_time": "2023-12-28T13:30:39.002Z"
   },
   {
    "duration": 283,
    "start_time": "2023-12-28T13:30:45.954Z"
   },
   {
    "duration": 119804,
    "start_time": "2023-12-28T13:30:47.619Z"
   },
   {
    "duration": 3,
    "start_time": "2023-12-28T13:32:47.425Z"
   },
   {
    "duration": 2476,
    "start_time": "2023-12-28T13:34:19.308Z"
   },
   {
    "duration": 2,
    "start_time": "2023-12-28T13:34:21.787Z"
   },
   {
    "duration": 4,
    "start_time": "2023-12-28T13:34:21.791Z"
   },
   {
    "duration": 5,
    "start_time": "2023-12-28T13:34:21.797Z"
   },
   {
    "duration": 2,
    "start_time": "2023-12-28T13:34:21.804Z"
   },
   {
    "duration": 3,
    "start_time": "2023-12-28T13:34:21.808Z"
   },
   {
    "duration": 4,
    "start_time": "2023-12-28T13:34:21.812Z"
   },
   {
    "duration": 375,
    "start_time": "2023-12-28T13:34:21.818Z"
   },
   {
    "duration": 386,
    "start_time": "2023-12-28T13:34:22.194Z"
   },
   {
    "duration": 1524,
    "start_time": "2023-12-28T13:34:22.582Z"
   },
   {
    "duration": 4,
    "start_time": "2023-12-28T13:34:24.108Z"
   },
   {
    "duration": 6,
    "start_time": "2023-12-28T13:34:24.113Z"
   },
   {
    "duration": 95854,
    "start_time": "2023-12-28T13:34:24.120Z"
   },
   {
    "duration": 2,
    "start_time": "2023-12-28T13:36:25.353Z"
   },
   {
    "duration": 4,
    "start_time": "2023-12-28T13:36:46.623Z"
   },
   {
    "duration": 3,
    "start_time": "2023-12-28T13:36:47.675Z"
   },
   {
    "duration": 11,
    "start_time": "2023-12-28T13:36:49.977Z"
   },
   {
    "duration": 2,
    "start_time": "2023-12-28T13:36:55.737Z"
   },
   {
    "duration": 4,
    "start_time": "2023-12-28T13:36:57.188Z"
   },
   {
    "duration": 2,
    "start_time": "2023-12-28T13:36:57.744Z"
   },
   {
    "duration": 3,
    "start_time": "2023-12-28T13:36:59.523Z"
   },
   {
    "duration": 5,
    "start_time": "2023-12-28T13:37:28.905Z"
   },
   {
    "duration": 3,
    "start_time": "2023-12-28T13:37:40.761Z"
   },
   {
    "duration": 3,
    "start_time": "2023-12-28T13:51:53.822Z"
   },
   {
    "duration": 4,
    "start_time": "2023-12-28T13:52:08.883Z"
   },
   {
    "duration": 4,
    "start_time": "2023-12-28T13:52:16.972Z"
   },
   {
    "duration": 3,
    "start_time": "2023-12-28T13:52:20.211Z"
   },
   {
    "duration": 3,
    "start_time": "2023-12-28T13:54:43.685Z"
   },
   {
    "duration": 3,
    "start_time": "2023-12-28T13:55:06.013Z"
   },
   {
    "duration": 5,
    "start_time": "2023-12-28T13:55:09.669Z"
   },
   {
    "duration": 3,
    "start_time": "2023-12-28T13:55:10.619Z"
   },
   {
    "duration": 3,
    "start_time": "2023-12-28T13:57:41.080Z"
   },
   {
    "duration": 95,
    "start_time": "2023-12-28T13:57:43.327Z"
   },
   {
    "duration": 89,
    "start_time": "2023-12-28T13:58:34.647Z"
   },
   {
    "duration": 70,
    "start_time": "2023-12-28T13:58:54.714Z"
   },
   {
    "duration": 110,
    "start_time": "2023-12-28T14:00:42.442Z"
   },
   {
    "duration": 91,
    "start_time": "2023-12-28T14:00:53.642Z"
   },
   {
    "duration": 85,
    "start_time": "2023-12-28T14:26:11.796Z"
   },
   {
    "duration": 79,
    "start_time": "2023-12-28T14:26:57.498Z"
   },
   {
    "duration": 92,
    "start_time": "2023-12-28T14:27:26.087Z"
   },
   {
    "duration": 74,
    "start_time": "2023-12-28T14:27:43.438Z"
   },
   {
    "duration": 85,
    "start_time": "2023-12-28T14:27:53.212Z"
   },
   {
    "duration": 90,
    "start_time": "2023-12-28T14:27:58.702Z"
   },
   {
    "duration": 3,
    "start_time": "2023-12-28T14:30:09.434Z"
   },
   {
    "duration": 3,
    "start_time": "2023-12-28T14:30:32.431Z"
   },
   {
    "duration": 4,
    "start_time": "2023-12-28T14:33:31.481Z"
   },
   {
    "duration": 3,
    "start_time": "2023-12-28T14:34:57.113Z"
   },
   {
    "duration": 5,
    "start_time": "2023-12-28T14:35:04.672Z"
   },
   {
    "duration": 3,
    "start_time": "2023-12-28T14:35:12.526Z"
   },
   {
    "duration": 3,
    "start_time": "2023-12-28T14:42:03.046Z"
   },
   {
    "duration": 2,
    "start_time": "2023-12-28T14:42:29.827Z"
   },
   {
    "duration": 3,
    "start_time": "2023-12-28T14:42:39.441Z"
   },
   {
    "duration": 4,
    "start_time": "2023-12-28T14:43:26.161Z"
   },
   {
    "duration": 3,
    "start_time": "2023-12-28T14:43:39.409Z"
   },
   {
    "duration": 3,
    "start_time": "2023-12-28T14:43:57.126Z"
   },
   {
    "duration": 4,
    "start_time": "2023-12-28T14:43:58.409Z"
   },
   {
    "duration": 4,
    "start_time": "2023-12-28T14:44:14.617Z"
   },
   {
    "duration": 3,
    "start_time": "2023-12-28T14:45:32.703Z"
   },
   {
    "duration": 9,
    "start_time": "2023-12-28T14:46:12.106Z"
   },
   {
    "duration": 4,
    "start_time": "2023-12-28T14:46:20.823Z"
   },
   {
    "duration": 3,
    "start_time": "2023-12-28T14:46:22.720Z"
   },
   {
    "duration": 176,
    "start_time": "2023-12-28T14:46:24.542Z"
   },
   {
    "duration": 3,
    "start_time": "2023-12-28T14:49:00.227Z"
   },
   {
    "duration": 3,
    "start_time": "2023-12-28T14:49:59.780Z"
   },
   {
    "duration": 2,
    "start_time": "2023-12-28T14:50:04.804Z"
   },
   {
    "duration": 3,
    "start_time": "2023-12-28T14:54:10.726Z"
   },
   {
    "duration": 37,
    "start_time": "2023-12-28T14:54:29.738Z"
   },
   {
    "duration": 4,
    "start_time": "2023-12-28T14:54:41.404Z"
   },
   {
    "duration": 37,
    "start_time": "2023-12-28T14:54:43.475Z"
   },
   {
    "duration": 4,
    "start_time": "2023-12-28T14:55:00.718Z"
   },
   {
    "duration": 3,
    "start_time": "2023-12-28T14:56:19.924Z"
   },
   {
    "duration": 4,
    "start_time": "2023-12-28T14:56:20.680Z"
   },
   {
    "duration": 3,
    "start_time": "2023-12-28T14:56:32.017Z"
   },
   {
    "duration": 4,
    "start_time": "2023-12-28T14:56:33.348Z"
   },
   {
    "duration": 3,
    "start_time": "2023-12-28T14:56:34.100Z"
   },
   {
    "duration": 2,
    "start_time": "2023-12-28T14:56:41.272Z"
   },
   {
    "duration": 4,
    "start_time": "2023-12-28T14:56:51.696Z"
   },
   {
    "duration": 4,
    "start_time": "2023-12-28T14:57:09.380Z"
   },
   {
    "duration": 29,
    "start_time": "2023-12-28T14:57:19.329Z"
   },
   {
    "duration": 3,
    "start_time": "2023-12-28T14:58:12.786Z"
   },
   {
    "duration": 28,
    "start_time": "2023-12-28T14:58:41.124Z"
   },
   {
    "duration": 3,
    "start_time": "2023-12-28T14:58:58.883Z"
   },
   {
    "duration": 3,
    "start_time": "2023-12-28T14:59:05.360Z"
   },
   {
    "duration": 2,
    "start_time": "2023-12-28T14:59:19.481Z"
   },
   {
    "duration": 3,
    "start_time": "2023-12-28T14:59:20.293Z"
   },
   {
    "duration": 4,
    "start_time": "2023-12-28T14:59:25.476Z"
   },
   {
    "duration": 33,
    "start_time": "2023-12-28T14:59:28.105Z"
   },
   {
    "duration": 24,
    "start_time": "2023-12-28T15:01:20.962Z"
   },
   {
    "duration": 131,
    "start_time": "2023-12-28T15:03:24.053Z"
   },
   {
    "duration": 4,
    "start_time": "2023-12-28T15:03:43.634Z"
   },
   {
    "duration": 23,
    "start_time": "2023-12-28T15:03:47.883Z"
   },
   {
    "duration": 2,
    "start_time": "2023-12-28T15:04:24.262Z"
   },
   {
    "duration": 2,
    "start_time": "2023-12-28T15:05:54.254Z"
   },
   {
    "duration": 5904,
    "start_time": "2023-12-28T15:06:00.627Z"
   },
   {
    "duration": 281,
    "start_time": "2023-12-28T15:09:16.073Z"
   },
   {
    "duration": 248,
    "start_time": "2023-12-28T15:14:49.155Z"
   },
   {
    "duration": 393,
    "start_time": "2023-12-28T15:16:26.932Z"
   },
   {
    "duration": 520,
    "start_time": "2023-12-28T15:17:02.290Z"
   },
   {
    "duration": 172,
    "start_time": "2023-12-28T15:18:09.956Z"
   },
   {
    "duration": 166,
    "start_time": "2023-12-28T15:18:33.243Z"
   },
   {
    "duration": 144,
    "start_time": "2023-12-28T15:18:47.635Z"
   },
   {
    "duration": 154,
    "start_time": "2023-12-28T15:19:08.487Z"
   },
   {
    "duration": 140,
    "start_time": "2023-12-28T15:22:54.861Z"
   },
   {
    "duration": 3,
    "start_time": "2023-12-28T15:26:21.224Z"
   },
   {
    "duration": 397,
    "start_time": "2023-12-28T15:26:40.701Z"
   },
   {
    "duration": 3,
    "start_time": "2023-12-28T15:27:33.292Z"
   },
   {
    "duration": 289,
    "start_time": "2023-12-28T17:17:54.111Z"
   },
   {
    "duration": 812,
    "start_time": "2023-12-28T17:18:20.992Z"
   },
   {
    "duration": 646,
    "start_time": "2023-12-28T17:18:56.666Z"
   },
   {
    "duration": 608,
    "start_time": "2023-12-28T17:20:52.555Z"
   },
   {
    "duration": 928,
    "start_time": "2023-12-28T17:23:09.869Z"
   },
   {
    "duration": 844,
    "start_time": "2023-12-28T17:23:46.576Z"
   },
   {
    "duration": 302,
    "start_time": "2023-12-28T17:24:14.943Z"
   },
   {
    "duration": 835,
    "start_time": "2023-12-28T17:24:34.623Z"
   },
   {
    "duration": 276,
    "start_time": "2023-12-28T17:25:16.168Z"
   },
   {
    "duration": 880,
    "start_time": "2023-12-28T17:25:39.932Z"
   },
   {
    "duration": 888,
    "start_time": "2023-12-28T17:26:55.681Z"
   },
   {
    "duration": 857,
    "start_time": "2023-12-28T17:29:07.108Z"
   },
   {
    "duration": 437,
    "start_time": "2023-12-28T17:29:59.184Z"
   },
   {
    "duration": 88,
    "start_time": "2023-12-28T17:32:26.042Z"
   },
   {
    "duration": 523,
    "start_time": "2023-12-28T17:32:38.937Z"
   },
   {
    "duration": 451,
    "start_time": "2023-12-28T17:33:53.311Z"
   },
   {
    "duration": 1246,
    "start_time": "2023-12-28T17:35:02.921Z"
   },
   {
    "duration": 1092,
    "start_time": "2023-12-28T17:35:58.926Z"
   },
   {
    "duration": 1591,
    "start_time": "2023-12-28T17:37:04.526Z"
   },
   {
    "duration": 1445,
    "start_time": "2023-12-28T17:37:15.242Z"
   },
   {
    "duration": 3410,
    "start_time": "2024-01-12T17:19:24.009Z"
   },
   {
    "duration": 3,
    "start_time": "2024-01-12T17:19:27.421Z"
   },
   {
    "duration": 535,
    "start_time": "2024-01-12T17:19:27.426Z"
   },
   {
    "duration": 9,
    "start_time": "2024-01-12T17:19:27.963Z"
   },
   {
    "duration": 74,
    "start_time": "2024-01-12T17:19:27.973Z"
   },
   {
    "duration": 3,
    "start_time": "2024-01-12T17:19:28.049Z"
   },
   {
    "duration": 11,
    "start_time": "2024-01-12T17:19:28.053Z"
   },
   {
    "duration": 91,
    "start_time": "2024-01-12T17:19:28.065Z"
   },
   {
    "duration": 0,
    "start_time": "2024-01-12T17:19:28.163Z"
   },
   {
    "duration": 0,
    "start_time": "2024-01-12T17:19:28.165Z"
   },
   {
    "duration": 0,
    "start_time": "2024-01-12T17:19:28.166Z"
   },
   {
    "duration": 0,
    "start_time": "2024-01-12T17:19:28.168Z"
   },
   {
    "duration": 0,
    "start_time": "2024-01-12T17:19:28.169Z"
   },
   {
    "duration": 0,
    "start_time": "2024-01-12T17:19:28.171Z"
   },
   {
    "duration": 0,
    "start_time": "2024-01-12T17:19:28.172Z"
   },
   {
    "duration": 0,
    "start_time": "2024-01-12T17:19:28.173Z"
   },
   {
    "duration": 0,
    "start_time": "2024-01-12T17:19:28.175Z"
   },
   {
    "duration": 0,
    "start_time": "2024-01-12T17:19:28.176Z"
   },
   {
    "duration": 0,
    "start_time": "2024-01-12T17:19:28.177Z"
   },
   {
    "duration": 0,
    "start_time": "2024-01-12T17:19:28.179Z"
   },
   {
    "duration": 0,
    "start_time": "2024-01-12T17:19:28.180Z"
   },
   {
    "duration": 0,
    "start_time": "2024-01-12T17:19:28.181Z"
   },
   {
    "duration": 0,
    "start_time": "2024-01-12T17:19:28.183Z"
   },
   {
    "duration": 0,
    "start_time": "2024-01-12T17:19:28.184Z"
   },
   {
    "duration": 0,
    "start_time": "2024-01-12T17:19:28.186Z"
   },
   {
    "duration": 0,
    "start_time": "2024-01-12T17:19:28.187Z"
   },
   {
    "duration": 0,
    "start_time": "2024-01-12T17:19:28.189Z"
   },
   {
    "duration": 0,
    "start_time": "2024-01-12T17:19:28.190Z"
   },
   {
    "duration": 0,
    "start_time": "2024-01-12T17:19:28.192Z"
   },
   {
    "duration": 0,
    "start_time": "2024-01-12T17:19:28.193Z"
   },
   {
    "duration": 0,
    "start_time": "2024-01-12T17:19:28.194Z"
   },
   {
    "duration": 0,
    "start_time": "2024-01-12T17:19:28.196Z"
   },
   {
    "duration": 0,
    "start_time": "2024-01-12T17:19:28.197Z"
   },
   {
    "duration": 0,
    "start_time": "2024-01-12T17:19:28.199Z"
   },
   {
    "duration": 0,
    "start_time": "2024-01-12T17:19:28.200Z"
   },
   {
    "duration": 0,
    "start_time": "2024-01-12T17:19:28.201Z"
   },
   {
    "duration": 0,
    "start_time": "2024-01-12T17:19:28.203Z"
   },
   {
    "duration": 0,
    "start_time": "2024-01-12T17:19:28.204Z"
   },
   {
    "duration": 0,
    "start_time": "2024-01-12T17:19:28.206Z"
   },
   {
    "duration": 0,
    "start_time": "2024-01-12T17:19:28.207Z"
   },
   {
    "duration": 1,
    "start_time": "2024-01-12T17:19:28.265Z"
   },
   {
    "duration": 0,
    "start_time": "2024-01-12T17:19:28.268Z"
   },
   {
    "duration": 0,
    "start_time": "2024-01-12T17:19:28.269Z"
   },
   {
    "duration": 0,
    "start_time": "2024-01-12T17:19:28.271Z"
   },
   {
    "duration": 0,
    "start_time": "2024-01-12T17:19:28.272Z"
   },
   {
    "duration": 0,
    "start_time": "2024-01-12T17:19:28.273Z"
   },
   {
    "duration": 0,
    "start_time": "2024-01-12T17:19:28.275Z"
   },
   {
    "duration": 0,
    "start_time": "2024-01-12T17:19:28.276Z"
   },
   {
    "duration": 0,
    "start_time": "2024-01-12T17:19:28.277Z"
   },
   {
    "duration": 0,
    "start_time": "2024-01-12T17:19:28.279Z"
   },
   {
    "duration": 0,
    "start_time": "2024-01-12T17:19:28.280Z"
   },
   {
    "duration": 0,
    "start_time": "2024-01-12T17:19:28.282Z"
   },
   {
    "duration": 0,
    "start_time": "2024-01-12T17:19:28.283Z"
   },
   {
    "duration": 0,
    "start_time": "2024-01-12T17:19:28.285Z"
   },
   {
    "duration": 0,
    "start_time": "2024-01-12T17:19:28.286Z"
   },
   {
    "duration": 0,
    "start_time": "2024-01-12T17:19:28.287Z"
   },
   {
    "duration": 0,
    "start_time": "2024-01-12T17:19:28.288Z"
   },
   {
    "duration": 0,
    "start_time": "2024-01-12T17:19:28.289Z"
   },
   {
    "duration": 0,
    "start_time": "2024-01-12T17:19:28.290Z"
   },
   {
    "duration": 0,
    "start_time": "2024-01-12T17:19:28.291Z"
   },
   {
    "duration": 0,
    "start_time": "2024-01-12T17:19:28.292Z"
   },
   {
    "duration": 0,
    "start_time": "2024-01-12T17:19:28.293Z"
   },
   {
    "duration": 0,
    "start_time": "2024-01-12T17:19:28.294Z"
   },
   {
    "duration": 0,
    "start_time": "2024-01-12T17:19:28.296Z"
   },
   {
    "duration": 0,
    "start_time": "2024-01-12T17:19:28.297Z"
   },
   {
    "duration": 0,
    "start_time": "2024-01-12T17:19:28.298Z"
   },
   {
    "duration": 0,
    "start_time": "2024-01-12T17:19:28.299Z"
   },
   {
    "duration": 0,
    "start_time": "2024-01-12T17:19:28.300Z"
   },
   {
    "duration": 0,
    "start_time": "2024-01-12T17:19:28.301Z"
   },
   {
    "duration": 0,
    "start_time": "2024-01-12T17:19:28.302Z"
   },
   {
    "duration": 0,
    "start_time": "2024-01-12T17:19:28.303Z"
   },
   {
    "duration": 0,
    "start_time": "2024-01-12T17:19:28.304Z"
   },
   {
    "duration": 0,
    "start_time": "2024-01-12T17:19:28.366Z"
   },
   {
    "duration": 0,
    "start_time": "2024-01-12T17:19:28.367Z"
   },
   {
    "duration": 0,
    "start_time": "2024-01-12T17:19:28.368Z"
   },
   {
    "duration": 0,
    "start_time": "2024-01-12T17:19:28.369Z"
   },
   {
    "duration": 0,
    "start_time": "2024-01-12T17:19:28.370Z"
   },
   {
    "duration": 0,
    "start_time": "2024-01-12T17:19:28.371Z"
   },
   {
    "duration": 0,
    "start_time": "2024-01-12T17:19:28.372Z"
   },
   {
    "duration": 0,
    "start_time": "2024-01-12T17:19:28.373Z"
   },
   {
    "duration": 1,
    "start_time": "2024-01-12T17:19:28.374Z"
   },
   {
    "duration": 0,
    "start_time": "2024-01-12T17:19:28.375Z"
   },
   {
    "duration": 0,
    "start_time": "2024-01-12T17:19:28.376Z"
   },
   {
    "duration": 0,
    "start_time": "2024-01-12T17:19:28.377Z"
   },
   {
    "duration": 0,
    "start_time": "2024-01-12T17:19:28.378Z"
   },
   {
    "duration": 0,
    "start_time": "2024-01-12T17:19:28.379Z"
   },
   {
    "duration": 0,
    "start_time": "2024-01-12T17:19:28.380Z"
   },
   {
    "duration": 0,
    "start_time": "2024-01-12T17:19:28.381Z"
   },
   {
    "duration": 0,
    "start_time": "2024-01-12T17:19:28.382Z"
   },
   {
    "duration": 0,
    "start_time": "2024-01-12T17:19:28.382Z"
   },
   {
    "duration": 0,
    "start_time": "2024-01-12T17:19:28.383Z"
   },
   {
    "duration": 0,
    "start_time": "2024-01-12T17:19:28.384Z"
   },
   {
    "duration": 0,
    "start_time": "2024-01-12T17:19:28.385Z"
   },
   {
    "duration": 0,
    "start_time": "2024-01-12T17:19:28.386Z"
   },
   {
    "duration": 0,
    "start_time": "2024-01-12T17:19:28.387Z"
   },
   {
    "duration": 0,
    "start_time": "2024-01-12T17:19:28.388Z"
   },
   {
    "duration": 0,
    "start_time": "2024-01-12T17:19:28.389Z"
   },
   {
    "duration": 0,
    "start_time": "2024-01-12T17:19:28.390Z"
   },
   {
    "duration": 0,
    "start_time": "2024-01-12T17:19:28.390Z"
   },
   {
    "duration": 0,
    "start_time": "2024-01-12T17:19:28.391Z"
   },
   {
    "duration": 0,
    "start_time": "2024-01-12T17:19:28.392Z"
   },
   {
    "duration": 0,
    "start_time": "2024-01-12T17:19:28.393Z"
   },
   {
    "duration": 0,
    "start_time": "2024-01-12T17:19:28.394Z"
   },
   {
    "duration": 0,
    "start_time": "2024-01-12T17:19:28.395Z"
   },
   {
    "duration": 0,
    "start_time": "2024-01-12T17:19:28.396Z"
   },
   {
    "duration": 0,
    "start_time": "2024-01-12T17:19:28.396Z"
   },
   {
    "duration": 0,
    "start_time": "2024-01-12T17:19:28.397Z"
   },
   {
    "duration": 0,
    "start_time": "2024-01-12T17:19:28.398Z"
   },
   {
    "duration": 0,
    "start_time": "2024-01-12T17:19:28.399Z"
   },
   {
    "duration": 0,
    "start_time": "2024-01-12T17:19:28.400Z"
   },
   {
    "duration": 0,
    "start_time": "2024-01-12T17:19:28.401Z"
   },
   {
    "duration": 0,
    "start_time": "2024-01-12T17:19:28.402Z"
   },
   {
    "duration": 0,
    "start_time": "2024-01-12T17:19:28.403Z"
   },
   {
    "duration": 0,
    "start_time": "2024-01-12T17:19:28.404Z"
   },
   {
    "duration": 0,
    "start_time": "2024-01-12T17:19:28.405Z"
   },
   {
    "duration": 0,
    "start_time": "2024-01-12T17:19:28.466Z"
   },
   {
    "duration": 0,
    "start_time": "2024-01-12T17:19:28.467Z"
   },
   {
    "duration": 0,
    "start_time": "2024-01-12T17:19:28.467Z"
   },
   {
    "duration": 0,
    "start_time": "2024-01-12T17:19:28.468Z"
   },
   {
    "duration": 0,
    "start_time": "2024-01-12T17:19:28.470Z"
   },
   {
    "duration": 0,
    "start_time": "2024-01-12T17:19:28.470Z"
   },
   {
    "duration": 0,
    "start_time": "2024-01-12T17:19:28.471Z"
   },
   {
    "duration": 0,
    "start_time": "2024-01-12T17:19:28.472Z"
   },
   {
    "duration": 0,
    "start_time": "2024-01-12T17:19:28.473Z"
   },
   {
    "duration": 0,
    "start_time": "2024-01-12T17:19:28.474Z"
   },
   {
    "duration": 0,
    "start_time": "2024-01-12T17:19:28.475Z"
   },
   {
    "duration": 0,
    "start_time": "2024-01-12T17:19:28.476Z"
   },
   {
    "duration": 0,
    "start_time": "2024-01-12T17:19:28.477Z"
   },
   {
    "duration": 0,
    "start_time": "2024-01-12T17:19:28.478Z"
   },
   {
    "duration": 0,
    "start_time": "2024-01-12T17:19:28.479Z"
   },
   {
    "duration": 0,
    "start_time": "2024-01-12T17:19:28.480Z"
   },
   {
    "duration": 0,
    "start_time": "2024-01-12T17:19:28.481Z"
   },
   {
    "duration": 0,
    "start_time": "2024-01-12T17:19:28.482Z"
   },
   {
    "duration": 0,
    "start_time": "2024-01-12T17:19:28.482Z"
   },
   {
    "duration": 0,
    "start_time": "2024-01-12T17:19:28.483Z"
   },
   {
    "duration": 0,
    "start_time": "2024-01-12T17:19:28.484Z"
   },
   {
    "duration": 0,
    "start_time": "2024-01-12T17:19:28.485Z"
   },
   {
    "duration": 0,
    "start_time": "2024-01-12T17:19:28.486Z"
   },
   {
    "duration": 0,
    "start_time": "2024-01-12T17:19:28.487Z"
   },
   {
    "duration": 0,
    "start_time": "2024-01-12T17:19:28.487Z"
   },
   {
    "duration": 0,
    "start_time": "2024-01-12T17:19:28.488Z"
   },
   {
    "duration": 0,
    "start_time": "2024-01-12T17:19:28.489Z"
   },
   {
    "duration": 7,
    "start_time": "2024-01-12T17:21:09.358Z"
   },
   {
    "duration": 151,
    "start_time": "2024-01-12T17:21:26.231Z"
   },
   {
    "duration": 1284,
    "start_time": "2024-01-12T17:21:32.978Z"
   },
   {
    "duration": 2582,
    "start_time": "2024-01-12T17:24:40.672Z"
   },
   {
    "duration": 2,
    "start_time": "2024-01-12T17:24:43.257Z"
   },
   {
    "duration": 49,
    "start_time": "2024-01-12T17:24:43.261Z"
   },
   {
    "duration": 16,
    "start_time": "2024-01-12T17:24:43.313Z"
   },
   {
    "duration": 14,
    "start_time": "2024-01-12T17:24:43.331Z"
   },
   {
    "duration": 5,
    "start_time": "2024-01-12T17:24:43.347Z"
   },
   {
    "duration": 16,
    "start_time": "2024-01-12T17:24:43.353Z"
   },
   {
    "duration": 23,
    "start_time": "2024-01-12T17:24:43.371Z"
   },
   {
    "duration": 119,
    "start_time": "2024-01-12T17:24:43.397Z"
   },
   {
    "duration": 1475,
    "start_time": "2024-01-12T17:24:43.519Z"
   },
   {
    "duration": 141,
    "start_time": "2024-01-12T17:24:44.996Z"
   },
   {
    "duration": 3,
    "start_time": "2024-01-12T17:24:45.139Z"
   },
   {
    "duration": 62535,
    "start_time": "2024-01-12T17:24:45.143Z"
   },
   {
    "duration": 3,
    "start_time": "2024-01-12T17:25:47.680Z"
   },
   {
    "duration": 60,
    "start_time": "2024-01-12T17:25:47.684Z"
   },
   {
    "duration": 26,
    "start_time": "2024-01-12T17:25:47.746Z"
   },
   {
    "duration": 33,
    "start_time": "2024-01-12T17:25:47.773Z"
   },
   {
    "duration": 28,
    "start_time": "2024-01-12T17:25:47.808Z"
   },
   {
    "duration": 52,
    "start_time": "2024-01-12T17:25:47.837Z"
   },
   {
    "duration": 46,
    "start_time": "2024-01-12T17:25:47.891Z"
   },
   {
    "duration": 41,
    "start_time": "2024-01-12T17:25:47.939Z"
   },
   {
    "duration": 143,
    "start_time": "2024-01-12T17:25:47.982Z"
   },
   {
    "duration": 3,
    "start_time": "2024-01-12T17:25:48.127Z"
   },
   {
    "duration": 46,
    "start_time": "2024-01-12T17:25:48.131Z"
   },
   {
    "duration": 1890,
    "start_time": "2024-01-12T17:25:48.179Z"
   },
   {
    "duration": 5738,
    "start_time": "2024-01-12T17:25:50.070Z"
   },
   {
    "duration": 33,
    "start_time": "2024-01-12T17:25:55.810Z"
   },
   {
    "duration": 58,
    "start_time": "2024-01-12T17:25:55.847Z"
   },
   {
    "duration": 21,
    "start_time": "2024-01-12T17:25:55.908Z"
   },
   {
    "duration": 27,
    "start_time": "2024-01-12T17:25:55.931Z"
   },
   {
    "duration": 45,
    "start_time": "2024-01-12T17:25:55.960Z"
   },
   {
    "duration": 33,
    "start_time": "2024-01-12T17:25:56.007Z"
   },
   {
    "duration": 46,
    "start_time": "2024-01-12T17:25:56.042Z"
   },
   {
    "duration": 53,
    "start_time": "2024-01-12T17:25:56.090Z"
   },
   {
    "duration": 76,
    "start_time": "2024-01-12T17:25:56.145Z"
   },
   {
    "duration": 13,
    "start_time": "2024-01-12T17:25:56.223Z"
   },
   {
    "duration": 32,
    "start_time": "2024-01-12T17:25:56.238Z"
   },
   {
    "duration": 938,
    "start_time": "2024-01-12T17:25:56.272Z"
   },
   {
    "duration": 24,
    "start_time": "2024-01-12T17:25:57.211Z"
   },
   {
    "duration": 31,
    "start_time": "2024-01-12T17:25:57.237Z"
   },
   {
    "duration": 29,
    "start_time": "2024-01-12T17:25:57.270Z"
   },
   {
    "duration": 70,
    "start_time": "2024-01-12T17:25:57.301Z"
   },
   {
    "duration": 9,
    "start_time": "2024-01-12T17:25:57.374Z"
   },
   {
    "duration": 173,
    "start_time": "2024-01-12T17:25:57.385Z"
   },
   {
    "duration": 3,
    "start_time": "2024-01-12T17:25:57.560Z"
   },
   {
    "duration": 33,
    "start_time": "2024-01-12T17:25:57.564Z"
   },
   {
    "duration": 23,
    "start_time": "2024-01-12T17:25:57.599Z"
   },
   {
    "duration": 23,
    "start_time": "2024-01-12T17:25:57.624Z"
   },
   {
    "duration": 29,
    "start_time": "2024-01-12T17:25:57.649Z"
   },
   {
    "duration": 38,
    "start_time": "2024-01-12T17:25:57.680Z"
   },
   {
    "duration": 59,
    "start_time": "2024-01-12T17:25:57.720Z"
   },
   {
    "duration": 16,
    "start_time": "2024-01-12T17:25:57.781Z"
   },
   {
    "duration": 33,
    "start_time": "2024-01-12T17:25:57.799Z"
   },
   {
    "duration": 35,
    "start_time": "2024-01-12T17:25:57.833Z"
   },
   {
    "duration": 42,
    "start_time": "2024-01-12T17:25:57.870Z"
   },
   {
    "duration": 28,
    "start_time": "2024-01-12T17:25:57.914Z"
   },
   {
    "duration": 47,
    "start_time": "2024-01-12T17:25:57.943Z"
   },
   {
    "duration": 15,
    "start_time": "2024-01-12T17:25:57.991Z"
   },
   {
    "duration": 28,
    "start_time": "2024-01-12T17:25:58.007Z"
   },
   {
    "duration": 75,
    "start_time": "2024-01-12T17:25:58.036Z"
   },
   {
    "duration": 0,
    "start_time": "2024-01-12T17:25:58.114Z"
   },
   {
    "duration": 0,
    "start_time": "2024-01-12T17:25:58.116Z"
   },
   {
    "duration": 0,
    "start_time": "2024-01-12T17:25:58.116Z"
   },
   {
    "duration": 0,
    "start_time": "2024-01-12T17:25:58.117Z"
   },
   {
    "duration": 0,
    "start_time": "2024-01-12T17:25:58.118Z"
   },
   {
    "duration": 0,
    "start_time": "2024-01-12T17:25:58.119Z"
   },
   {
    "duration": 0,
    "start_time": "2024-01-12T17:25:58.120Z"
   },
   {
    "duration": 0,
    "start_time": "2024-01-12T17:25:58.121Z"
   },
   {
    "duration": 0,
    "start_time": "2024-01-12T17:25:58.122Z"
   },
   {
    "duration": 0,
    "start_time": "2024-01-12T17:25:58.123Z"
   },
   {
    "duration": 0,
    "start_time": "2024-01-12T17:25:58.124Z"
   },
   {
    "duration": 0,
    "start_time": "2024-01-12T17:25:58.125Z"
   },
   {
    "duration": 0,
    "start_time": "2024-01-12T17:25:58.126Z"
   },
   {
    "duration": 0,
    "start_time": "2024-01-12T17:25:58.127Z"
   },
   {
    "duration": 0,
    "start_time": "2024-01-12T17:25:58.128Z"
   },
   {
    "duration": 0,
    "start_time": "2024-01-12T17:25:58.129Z"
   },
   {
    "duration": 0,
    "start_time": "2024-01-12T17:25:58.130Z"
   },
   {
    "duration": 0,
    "start_time": "2024-01-12T17:25:58.131Z"
   },
   {
    "duration": 0,
    "start_time": "2024-01-12T17:25:58.132Z"
   },
   {
    "duration": 0,
    "start_time": "2024-01-12T17:25:58.132Z"
   },
   {
    "duration": 0,
    "start_time": "2024-01-12T17:25:58.133Z"
   },
   {
    "duration": 0,
    "start_time": "2024-01-12T17:25:58.134Z"
   },
   {
    "duration": 0,
    "start_time": "2024-01-12T17:25:58.135Z"
   },
   {
    "duration": 0,
    "start_time": "2024-01-12T17:25:58.136Z"
   },
   {
    "duration": 0,
    "start_time": "2024-01-12T17:25:58.137Z"
   },
   {
    "duration": 0,
    "start_time": "2024-01-12T17:25:58.138Z"
   },
   {
    "duration": 0,
    "start_time": "2024-01-12T17:25:58.139Z"
   },
   {
    "duration": 0,
    "start_time": "2024-01-12T17:25:58.140Z"
   },
   {
    "duration": 0,
    "start_time": "2024-01-12T17:25:58.141Z"
   },
   {
    "duration": 0,
    "start_time": "2024-01-12T17:25:58.142Z"
   },
   {
    "duration": 0,
    "start_time": "2024-01-12T17:25:58.143Z"
   },
   {
    "duration": 0,
    "start_time": "2024-01-12T17:25:58.166Z"
   },
   {
    "duration": 0,
    "start_time": "2024-01-12T17:25:58.167Z"
   },
   {
    "duration": 0,
    "start_time": "2024-01-12T17:25:58.168Z"
   },
   {
    "duration": 0,
    "start_time": "2024-01-12T17:25:58.169Z"
   },
   {
    "duration": 0,
    "start_time": "2024-01-12T17:25:58.171Z"
   },
   {
    "duration": 0,
    "start_time": "2024-01-12T17:25:58.172Z"
   },
   {
    "duration": 0,
    "start_time": "2024-01-12T17:25:58.173Z"
   },
   {
    "duration": 0,
    "start_time": "2024-01-12T17:25:58.174Z"
   },
   {
    "duration": 0,
    "start_time": "2024-01-12T17:25:58.178Z"
   },
   {
    "duration": 0,
    "start_time": "2024-01-12T17:25:58.179Z"
   },
   {
    "duration": 0,
    "start_time": "2024-01-12T17:25:58.180Z"
   },
   {
    "duration": 0,
    "start_time": "2024-01-12T17:25:58.181Z"
   },
   {
    "duration": 0,
    "start_time": "2024-01-12T17:25:58.182Z"
   },
   {
    "duration": 0,
    "start_time": "2024-01-12T17:25:58.183Z"
   },
   {
    "duration": 0,
    "start_time": "2024-01-12T17:25:58.185Z"
   },
   {
    "duration": 0,
    "start_time": "2024-01-12T17:25:58.186Z"
   },
   {
    "duration": 0,
    "start_time": "2024-01-12T17:25:58.187Z"
   },
   {
    "duration": 0,
    "start_time": "2024-01-12T17:25:58.188Z"
   },
   {
    "duration": 0,
    "start_time": "2024-01-12T17:25:58.189Z"
   },
   {
    "duration": 1,
    "start_time": "2024-01-12T17:25:58.190Z"
   },
   {
    "duration": 0,
    "start_time": "2024-01-12T17:25:58.192Z"
   },
   {
    "duration": 0,
    "start_time": "2024-01-12T17:25:58.193Z"
   },
   {
    "duration": 0,
    "start_time": "2024-01-12T17:25:58.194Z"
   },
   {
    "duration": 0,
    "start_time": "2024-01-12T17:25:58.195Z"
   },
   {
    "duration": 0,
    "start_time": "2024-01-12T17:25:58.196Z"
   },
   {
    "duration": 0,
    "start_time": "2024-01-12T17:25:58.197Z"
   },
   {
    "duration": 0,
    "start_time": "2024-01-12T17:25:58.198Z"
   },
   {
    "duration": 0,
    "start_time": "2024-01-12T17:25:58.199Z"
   },
   {
    "duration": 0,
    "start_time": "2024-01-12T17:25:58.200Z"
   },
   {
    "duration": 0,
    "start_time": "2024-01-12T17:25:58.201Z"
   },
   {
    "duration": 0,
    "start_time": "2024-01-12T17:25:58.202Z"
   },
   {
    "duration": 0,
    "start_time": "2024-01-12T17:25:58.203Z"
   },
   {
    "duration": 0,
    "start_time": "2024-01-12T17:25:58.265Z"
   },
   {
    "duration": 0,
    "start_time": "2024-01-12T17:25:58.266Z"
   },
   {
    "duration": 0,
    "start_time": "2024-01-12T17:25:58.268Z"
   },
   {
    "duration": 0,
    "start_time": "2024-01-12T17:25:58.269Z"
   },
   {
    "duration": 0,
    "start_time": "2024-01-12T17:25:58.271Z"
   },
   {
    "duration": 0,
    "start_time": "2024-01-12T17:25:58.272Z"
   },
   {
    "duration": 0,
    "start_time": "2024-01-12T17:25:58.273Z"
   },
   {
    "duration": 0,
    "start_time": "2024-01-12T17:25:58.274Z"
   },
   {
    "duration": 0,
    "start_time": "2024-01-12T17:25:58.276Z"
   },
   {
    "duration": 0,
    "start_time": "2024-01-12T17:25:58.277Z"
   },
   {
    "duration": 0,
    "start_time": "2024-01-12T17:25:58.278Z"
   },
   {
    "duration": 0,
    "start_time": "2024-01-12T17:25:58.279Z"
   },
   {
    "duration": 0,
    "start_time": "2024-01-12T17:25:58.281Z"
   },
   {
    "duration": 0,
    "start_time": "2024-01-12T17:25:58.282Z"
   },
   {
    "duration": 0,
    "start_time": "2024-01-12T17:25:58.283Z"
   },
   {
    "duration": 0,
    "start_time": "2024-01-12T17:25:58.284Z"
   },
   {
    "duration": 0,
    "start_time": "2024-01-12T17:25:58.285Z"
   },
   {
    "duration": 0,
    "start_time": "2024-01-12T17:25:58.286Z"
   },
   {
    "duration": 0,
    "start_time": "2024-01-12T17:25:58.288Z"
   },
   {
    "duration": 7,
    "start_time": "2024-01-12T17:26:22.590Z"
   },
   {
    "duration": 5,
    "start_time": "2024-01-12T17:48:55.747Z"
   },
   {
    "duration": 3,
    "start_time": "2024-01-12T17:49:16.116Z"
   },
   {
    "duration": 5,
    "start_time": "2024-01-12T18:00:35.066Z"
   },
   {
    "duration": 3,
    "start_time": "2024-01-12T18:01:00.586Z"
   },
   {
    "duration": 4,
    "start_time": "2024-01-12T18:01:02.335Z"
   },
   {
    "duration": 29,
    "start_time": "2024-01-12T18:01:22.867Z"
   },
   {
    "duration": 4,
    "start_time": "2024-01-12T18:20:46.698Z"
   },
   {
    "duration": 3,
    "start_time": "2024-01-12T18:20:52.228Z"
   },
   {
    "duration": 3,
    "start_time": "2024-01-12T18:22:18.121Z"
   },
   {
    "duration": 3,
    "start_time": "2024-01-12T18:22:27.144Z"
   },
   {
    "duration": 5,
    "start_time": "2024-01-12T18:22:28.294Z"
   },
   {
    "duration": 4,
    "start_time": "2024-01-12T18:22:29.470Z"
   },
   {
    "duration": 4,
    "start_time": "2024-01-12T18:23:27.439Z"
   },
   {
    "duration": 2,
    "start_time": "2024-01-12T18:23:44.166Z"
   },
   {
    "duration": 3,
    "start_time": "2024-01-12T18:23:53.955Z"
   },
   {
    "duration": 2,
    "start_time": "2024-01-12T18:24:24.052Z"
   },
   {
    "duration": 3,
    "start_time": "2024-01-12T18:24:30.711Z"
   },
   {
    "duration": 3,
    "start_time": "2024-01-12T18:24:33.784Z"
   },
   {
    "duration": 4,
    "start_time": "2024-01-12T18:24:37.150Z"
   },
   {
    "duration": 3,
    "start_time": "2024-01-12T18:26:42.567Z"
   },
   {
    "duration": 4,
    "start_time": "2024-01-12T18:26:47.371Z"
   },
   {
    "duration": 4,
    "start_time": "2024-01-12T18:26:58.099Z"
   },
   {
    "duration": 4,
    "start_time": "2024-01-12T18:27:12.315Z"
   },
   {
    "duration": 4,
    "start_time": "2024-01-12T18:29:25.848Z"
   },
   {
    "duration": 3,
    "start_time": "2024-01-12T18:29:44.412Z"
   },
   {
    "duration": 4,
    "start_time": "2024-01-12T18:29:53.117Z"
   },
   {
    "duration": 5,
    "start_time": "2024-01-12T18:30:06.652Z"
   },
   {
    "duration": 4,
    "start_time": "2024-01-12T18:30:10.492Z"
   },
   {
    "duration": 3,
    "start_time": "2024-01-12T18:30:31.348Z"
   },
   {
    "duration": 179,
    "start_time": "2024-01-12T18:30:37.744Z"
   },
   {
    "duration": 52,
    "start_time": "2024-01-12T18:32:06.321Z"
   },
   {
    "duration": 4,
    "start_time": "2024-01-12T18:33:26.853Z"
   },
   {
    "duration": 4,
    "start_time": "2024-01-12T18:33:46.631Z"
   },
   {
    "duration": 31,
    "start_time": "2024-01-12T18:33:48.205Z"
   },
   {
    "duration": 3,
    "start_time": "2024-01-12T18:34:52.855Z"
   },
   {
    "duration": 50,
    "start_time": "2024-01-12T18:34:54.541Z"
   },
   {
    "duration": 4,
    "start_time": "2024-01-12T18:35:14.091Z"
   },
   {
    "duration": 4,
    "start_time": "2024-01-12T18:35:15.773Z"
   },
   {
    "duration": 3,
    "start_time": "2024-01-12T18:36:25.064Z"
   },
   {
    "duration": 30,
    "start_time": "2024-01-12T18:36:26.073Z"
   },
   {
    "duration": 3,
    "start_time": "2024-01-12T18:38:47.379Z"
   },
   {
    "duration": 44,
    "start_time": "2024-01-12T18:38:49.313Z"
   },
   {
    "duration": 4370,
    "start_time": "2024-01-12T18:40:16.621Z"
   },
   {
    "duration": 166,
    "start_time": "2024-01-12T18:42:06.621Z"
   },
   {
    "duration": 2,
    "start_time": "2024-01-12T18:42:07.380Z"
   },
   {
    "duration": 4,
    "start_time": "2024-01-12T18:42:07.952Z"
   },
   {
    "duration": 3697,
    "start_time": "2024-01-12T18:42:09.663Z"
   },
   {
    "duration": 3078,
    "start_time": "2024-01-12T18:42:17.644Z"
   },
   {
    "duration": 2058,
    "start_time": "2024-01-12T18:42:23.471Z"
   },
   {
    "duration": 3,
    "start_time": "2024-01-12T18:45:39.221Z"
   },
   {
    "duration": 113,
    "start_time": "2024-01-12T18:45:42.680Z"
   },
   {
    "duration": 120,
    "start_time": "2024-01-12T18:45:49.710Z"
   },
   {
    "duration": 102,
    "start_time": "2024-01-12T18:47:10.283Z"
   },
   {
    "duration": 112,
    "start_time": "2024-01-12T18:47:44.953Z"
   },
   {
    "duration": 104,
    "start_time": "2024-01-12T18:48:00.080Z"
   },
   {
    "duration": 236,
    "start_time": "2024-01-12T18:48:08.087Z"
   },
   {
    "duration": 3,
    "start_time": "2024-01-12T18:48:24.943Z"
   },
   {
    "duration": 25,
    "start_time": "2024-01-12T18:48:26.746Z"
   },
   {
    "duration": 6218,
    "start_time": "2024-01-12T18:49:58.804Z"
   },
   {
    "duration": 23,
    "start_time": "2024-01-12T18:50:11.124Z"
   },
   {
    "duration": 14,
    "start_time": "2024-01-12T18:50:13.583Z"
   },
   {
    "duration": 2,
    "start_time": "2024-01-12T18:50:24.257Z"
   },
   {
    "duration": 8,
    "start_time": "2024-01-12T18:50:51.796Z"
   },
   {
    "duration": 13,
    "start_time": "2024-01-12T18:50:54.303Z"
   },
   {
    "duration": 8,
    "start_time": "2024-01-12T18:50:55.304Z"
   },
   {
    "duration": 4,
    "start_time": "2024-01-12T18:51:07.192Z"
   },
   {
    "duration": 19,
    "start_time": "2024-01-12T18:51:09.344Z"
   },
   {
    "duration": 14,
    "start_time": "2024-01-12T18:51:13.133Z"
   },
   {
    "duration": 896,
    "start_time": "2024-01-12T18:54:05.904Z"
   },
   {
    "duration": 3,
    "start_time": "2024-01-12T19:00:50.391Z"
   },
   {
    "duration": 116,
    "start_time": "2024-01-12T19:00:52.572Z"
   },
   {
    "duration": 3017,
    "start_time": "2024-01-12T19:01:08.105Z"
   },
   {
    "duration": 2823,
    "start_time": "2024-01-12T19:01:25.358Z"
   },
   {
    "duration": 29398,
    "start_time": "2024-01-12T19:01:34.600Z"
   },
   {
    "duration": 5610,
    "start_time": "2024-01-12T19:02:04.000Z"
   },
   {
    "duration": 3,
    "start_time": "2024-01-12T19:07:48.763Z"
   },
   {
    "duration": 20,
    "start_time": "2024-01-12T19:07:50.148Z"
   },
   {
    "duration": 227,
    "start_time": "2024-01-12T19:08:24.336Z"
   },
   {
    "duration": 29332,
    "start_time": "2024-01-12T19:08:35.004Z"
   },
   {
    "duration": 4,
    "start_time": "2024-01-12T19:15:13.721Z"
   },
   {
    "duration": 32,
    "start_time": "2024-01-12T19:15:33.466Z"
   },
   {
    "duration": 3,
    "start_time": "2024-01-12T19:16:45.446Z"
   },
   {
    "duration": 5533,
    "start_time": "2024-01-12T19:16:46.986Z"
   },
   {
    "duration": 5849,
    "start_time": "2024-01-12T19:17:06.959Z"
   },
   {
    "duration": 5633,
    "start_time": "2024-01-12T19:17:27.207Z"
   },
   {
    "duration": 5323,
    "start_time": "2024-01-12T19:18:05.078Z"
   },
   {
    "duration": 110,
    "start_time": "2024-01-12T19:18:27.023Z"
   },
   {
    "duration": 5525,
    "start_time": "2024-01-12T19:19:10.000Z"
   },
   {
    "duration": 5376,
    "start_time": "2024-01-12T19:19:21.843Z"
   },
   {
    "duration": 115,
    "start_time": "2024-01-12T19:19:36.509Z"
   },
   {
    "duration": 14,
    "start_time": "2024-01-12T19:19:37.853Z"
   },
   {
    "duration": 3,
    "start_time": "2024-01-12T19:19:46.481Z"
   },
   {
    "duration": 16,
    "start_time": "2024-01-12T19:19:59.389Z"
   },
   {
    "duration": 22,
    "start_time": "2024-01-12T19:20:00.386Z"
   },
   {
    "duration": 25,
    "start_time": "2024-01-12T19:20:02.535Z"
   },
   {
    "duration": 83,
    "start_time": "2024-01-12T19:21:49.640Z"
   },
   {
    "duration": 2,
    "start_time": "2024-01-12T19:21:50.284Z"
   },
   {
    "duration": 11,
    "start_time": "2024-01-12T19:21:51.460Z"
   },
   {
    "duration": 16,
    "start_time": "2024-01-12T19:21:52.247Z"
   },
   {
    "duration": 17,
    "start_time": "2024-01-12T19:21:52.916Z"
   },
   {
    "duration": 4,
    "start_time": "2024-01-12T19:22:03.010Z"
   },
   {
    "duration": 46,
    "start_time": "2024-01-12T19:23:02.954Z"
   },
   {
    "duration": 14,
    "start_time": "2024-01-12T19:23:25.121Z"
   },
   {
    "duration": 4149,
    "start_time": "2024-01-12T19:23:42.120Z"
   },
   {
    "duration": 3,
    "start_time": "2024-01-12T19:29:13.396Z"
   },
   {
    "duration": 4,
    "start_time": "2024-01-12T19:33:05.996Z"
   },
   {
    "duration": 3,
    "start_time": "2024-01-12T19:33:07.414Z"
   },
   {
    "duration": 3,
    "start_time": "2024-01-12T19:33:09.626Z"
   },
   {
    "duration": 3,
    "start_time": "2024-01-12T19:33:10.459Z"
   },
   {
    "duration": 3,
    "start_time": "2024-01-12T19:33:13.600Z"
   },
   {
    "duration": 3,
    "start_time": "2024-01-12T19:33:14.599Z"
   },
   {
    "duration": 114,
    "start_time": "2024-01-12T19:33:18.315Z"
   },
   {
    "duration": 28,
    "start_time": "2024-01-12T19:33:33.829Z"
   },
   {
    "duration": 25,
    "start_time": "2024-01-12T19:33:35.706Z"
   },
   {
    "duration": 8306,
    "start_time": "2024-01-12T19:34:25.168Z"
   },
   {
    "duration": 4600,
    "start_time": "2024-01-12T19:41:20.250Z"
   },
   {
    "duration": 2810,
    "start_time": "2024-01-12T19:41:32.262Z"
   },
   {
    "duration": 3,
    "start_time": "2024-01-12T19:42:37.180Z"
   },
   {
    "duration": 2,
    "start_time": "2024-01-12T19:42:50.784Z"
   },
   {
    "duration": 3,
    "start_time": "2024-01-12T19:42:57.032Z"
   },
   {
    "duration": 324647,
    "start_time": "2024-01-12T19:45:15.830Z"
   },
   {
    "duration": 47,
    "start_time": "2024-01-12T19:50:40.479Z"
   },
   {
    "duration": 10,
    "start_time": "2024-01-12T19:50:40.528Z"
   },
   {
    "duration": 95,
    "start_time": "2024-01-12T19:50:40.540Z"
   },
   {
    "duration": 16,
    "start_time": "2024-01-12T19:50:40.637Z"
   },
   {
    "duration": 71,
    "start_time": "2024-01-12T19:50:40.665Z"
   },
   {
    "duration": 11,
    "start_time": "2024-01-12T19:50:40.738Z"
   },
   {
    "duration": 22,
    "start_time": "2024-01-12T19:50:40.751Z"
   },
   {
    "duration": 77,
    "start_time": "2024-01-12T19:50:40.774Z"
   },
   {
    "duration": 32,
    "start_time": "2024-01-12T19:50:40.853Z"
   },
   {
    "duration": 34,
    "start_time": "2024-01-12T19:50:40.887Z"
   },
   {
    "duration": 13,
    "start_time": "2024-01-12T19:50:40.923Z"
   },
   {
    "duration": 29,
    "start_time": "2024-01-12T19:50:40.938Z"
   },
   {
    "duration": 27,
    "start_time": "2024-01-12T19:50:40.969Z"
   },
   {
    "duration": 38,
    "start_time": "2024-01-12T19:50:40.997Z"
   },
   {
    "duration": 23,
    "start_time": "2024-01-12T19:50:41.037Z"
   },
   {
    "duration": 24,
    "start_time": "2024-01-12T19:50:41.062Z"
   },
   {
    "duration": 25,
    "start_time": "2024-01-12T19:50:41.087Z"
   },
   {
    "duration": 6173,
    "start_time": "2024-01-12T19:50:41.114Z"
   },
   {
    "duration": 2419,
    "start_time": "2024-01-12T19:53:07.192Z"
   },
   {
    "duration": 2,
    "start_time": "2024-01-12T19:53:09.614Z"
   },
   {
    "duration": 8,
    "start_time": "2024-01-12T19:53:09.618Z"
   },
   {
    "duration": 9,
    "start_time": "2024-01-12T19:53:09.628Z"
   },
   {
    "duration": 6,
    "start_time": "2024-01-12T19:53:09.639Z"
   },
   {
    "duration": 5,
    "start_time": "2024-01-12T19:53:09.646Z"
   },
   {
    "duration": 12,
    "start_time": "2024-01-12T19:53:09.652Z"
   },
   {
    "duration": 11,
    "start_time": "2024-01-12T19:53:09.666Z"
   },
   {
    "duration": 122,
    "start_time": "2024-01-12T19:53:09.679Z"
   },
   {
    "duration": 1238,
    "start_time": "2024-01-12T19:53:09.804Z"
   },
   {
    "duration": 3,
    "start_time": "2024-01-12T19:53:11.044Z"
   },
   {
    "duration": 16,
    "start_time": "2024-01-12T19:53:11.049Z"
   },
   {
    "duration": 58785,
    "start_time": "2024-01-12T19:53:11.067Z"
   },
   {
    "duration": 2,
    "start_time": "2024-01-12T19:54:09.854Z"
   },
   {
    "duration": 6,
    "start_time": "2024-01-12T19:54:09.857Z"
   },
   {
    "duration": 10,
    "start_time": "2024-01-12T19:54:09.865Z"
   },
   {
    "duration": 5,
    "start_time": "2024-01-12T19:54:09.876Z"
   },
   {
    "duration": 7,
    "start_time": "2024-01-12T19:54:09.882Z"
   },
   {
    "duration": 4,
    "start_time": "2024-01-12T19:54:09.891Z"
   },
   {
    "duration": 9,
    "start_time": "2024-01-12T19:54:09.896Z"
   },
   {
    "duration": 11,
    "start_time": "2024-01-12T19:54:09.907Z"
   },
   {
    "duration": 115,
    "start_time": "2024-01-12T19:54:09.920Z"
   },
   {
    "duration": 3,
    "start_time": "2024-01-12T19:54:10.037Z"
   },
   {
    "duration": 9,
    "start_time": "2024-01-12T19:54:10.042Z"
   },
   {
    "duration": 1811,
    "start_time": "2024-01-12T19:54:10.052Z"
   },
   {
    "duration": 4494,
    "start_time": "2024-01-12T19:54:11.865Z"
   },
   {
    "duration": 29,
    "start_time": "2024-01-12T19:54:16.361Z"
   },
   {
    "duration": 2,
    "start_time": "2024-01-12T19:54:16.394Z"
   },
   {
    "duration": 9,
    "start_time": "2024-01-12T19:54:16.398Z"
   },
   {
    "duration": 6,
    "start_time": "2024-01-12T19:54:16.408Z"
   },
   {
    "duration": 5,
    "start_time": "2024-01-12T19:54:16.416Z"
   },
   {
    "duration": 5,
    "start_time": "2024-01-12T19:54:16.423Z"
   },
   {
    "duration": 41,
    "start_time": "2024-01-12T19:54:16.429Z"
   },
   {
    "duration": 9,
    "start_time": "2024-01-12T19:54:16.472Z"
   },
   {
    "duration": 7,
    "start_time": "2024-01-12T19:54:16.483Z"
   },
   {
    "duration": 4,
    "start_time": "2024-01-12T19:54:16.491Z"
   },
   {
    "duration": 8,
    "start_time": "2024-01-12T19:54:16.497Z"
   },
   {
    "duration": 736,
    "start_time": "2024-01-12T19:54:16.507Z"
   },
   {
    "duration": 2,
    "start_time": "2024-01-12T19:54:17.244Z"
   },
   {
    "duration": 3,
    "start_time": "2024-01-12T19:54:17.248Z"
   },
   {
    "duration": 10,
    "start_time": "2024-01-12T19:54:17.252Z"
   },
   {
    "duration": 27,
    "start_time": "2024-01-12T19:54:17.263Z"
   },
   {
    "duration": 3159,
    "start_time": "2024-01-12T19:54:17.292Z"
   },
   {
    "duration": 169,
    "start_time": "2024-01-12T19:54:20.452Z"
   },
   {
    "duration": 3,
    "start_time": "2024-01-12T19:54:20.622Z"
   },
   {
    "duration": 20,
    "start_time": "2024-01-12T19:54:20.626Z"
   },
   {
    "duration": 2778,
    "start_time": "2024-01-12T19:54:20.647Z"
   },
   {
    "duration": 2698,
    "start_time": "2024-01-12T19:54:23.426Z"
   },
   {
    "duration": 1694,
    "start_time": "2024-01-12T19:54:26.126Z"
   },
   {
    "duration": 2,
    "start_time": "2024-01-12T19:54:27.822Z"
   },
   {
    "duration": 39,
    "start_time": "2024-01-12T19:54:27.825Z"
   },
   {
    "duration": 103,
    "start_time": "2024-01-12T19:54:27.866Z"
   },
   {
    "duration": 115,
    "start_time": "2024-01-12T19:54:27.971Z"
   },
   {
    "duration": 116,
    "start_time": "2024-01-12T19:54:28.087Z"
   },
   {
    "duration": 254,
    "start_time": "2024-01-12T19:54:28.205Z"
   },
   {
    "duration": 3,
    "start_time": "2024-01-12T19:54:28.460Z"
   },
   {
    "duration": 65,
    "start_time": "2024-01-12T19:54:28.464Z"
   },
   {
    "duration": 5574,
    "start_time": "2024-01-12T19:54:28.530Z"
   },
   {
    "duration": 32,
    "start_time": "2024-01-12T19:54:34.106Z"
   },
   {
    "duration": 3,
    "start_time": "2024-01-12T19:54:34.140Z"
   },
   {
    "duration": 14,
    "start_time": "2024-01-12T19:54:34.144Z"
   },
   {
    "duration": 14,
    "start_time": "2024-01-12T19:54:34.166Z"
   },
   {
    "duration": 13,
    "start_time": "2024-01-12T19:54:34.182Z"
   },
   {
    "duration": 35,
    "start_time": "2024-01-12T19:54:34.196Z"
   },
   {
    "duration": 25,
    "start_time": "2024-01-12T19:54:34.233Z"
   },
   {
    "duration": 14,
    "start_time": "2024-01-12T19:54:34.259Z"
   },
   {
    "duration": 873,
    "start_time": "2024-01-12T19:54:34.275Z"
   },
   {
    "duration": 2,
    "start_time": "2024-01-12T19:54:35.150Z"
   },
   {
    "duration": 25,
    "start_time": "2024-01-12T19:54:35.154Z"
   },
   {
    "duration": 2697,
    "start_time": "2024-01-12T19:54:35.181Z"
   },
   {
    "duration": 2881,
    "start_time": "2024-01-12T19:54:37.880Z"
   },
   {
    "duration": 29363,
    "start_time": "2024-01-12T19:54:40.762Z"
   },
   {
    "duration": 5133,
    "start_time": "2024-01-12T19:55:10.126Z"
   },
   {
    "duration": 2,
    "start_time": "2024-01-12T19:55:15.261Z"
   },
   {
    "duration": 30,
    "start_time": "2024-01-12T19:55:15.265Z"
   },
   {
    "duration": 181,
    "start_time": "2024-01-12T19:55:15.297Z"
   },
   {
    "duration": 29675,
    "start_time": "2024-01-12T19:55:15.479Z"
   },
   {
    "duration": 2,
    "start_time": "2024-01-12T19:55:45.156Z"
   },
   {
    "duration": 27,
    "start_time": "2024-01-12T19:55:45.160Z"
   },
   {
    "duration": 2,
    "start_time": "2024-01-12T19:55:45.189Z"
   },
   {
    "duration": 4916,
    "start_time": "2024-01-12T19:55:45.194Z"
   },
   {
    "duration": 22,
    "start_time": "2024-01-12T19:55:50.117Z"
   },
   {
    "duration": 2,
    "start_time": "2024-01-12T19:55:50.140Z"
   },
   {
    "duration": 8,
    "start_time": "2024-01-12T19:55:50.144Z"
   },
   {
    "duration": 17,
    "start_time": "2024-01-12T19:55:50.153Z"
   },
   {
    "duration": 7,
    "start_time": "2024-01-12T19:55:50.172Z"
   },
   {
    "duration": 4,
    "start_time": "2024-01-12T19:55:50.180Z"
   },
   {
    "duration": 21,
    "start_time": "2024-01-12T19:55:50.186Z"
   },
   {
    "duration": 14,
    "start_time": "2024-01-12T19:55:50.208Z"
   },
   {
    "duration": 898,
    "start_time": "2024-01-12T19:55:50.224Z"
   },
   {
    "duration": 3,
    "start_time": "2024-01-12T19:55:51.124Z"
   },
   {
    "duration": 12,
    "start_time": "2024-01-12T19:55:51.129Z"
   },
   {
    "duration": 4,
    "start_time": "2024-01-12T19:55:51.144Z"
   },
   {
    "duration": 9,
    "start_time": "2024-01-12T19:55:51.149Z"
   },
   {
    "duration": 12,
    "start_time": "2024-01-12T19:55:51.159Z"
   },
   {
    "duration": 11,
    "start_time": "2024-01-12T19:55:51.173Z"
   },
   {
    "duration": 27,
    "start_time": "2024-01-12T19:55:51.185Z"
   },
   {
    "duration": 21,
    "start_time": "2024-01-12T19:55:51.213Z"
   },
   {
    "duration": 21,
    "start_time": "2024-01-12T19:55:51.235Z"
   },
   {
    "duration": 8340,
    "start_time": "2024-01-12T19:55:51.257Z"
   },
   {
    "duration": 3297,
    "start_time": "2024-01-12T19:55:59.599Z"
   },
   {
    "duration": 22059,
    "start_time": "2024-01-12T19:56:02.898Z"
   },
   {
    "duration": 7,
    "start_time": "2024-01-12T19:56:24.959Z"
   },
   {
    "duration": 31,
    "start_time": "2024-01-12T19:56:24.968Z"
   },
   {
    "duration": 10,
    "start_time": "2024-01-12T19:56:25.000Z"
   },
   {
    "duration": 42,
    "start_time": "2024-01-12T19:56:25.011Z"
   },
   {
    "duration": 325696,
    "start_time": "2024-01-12T19:56:25.054Z"
   },
   {
    "duration": 56,
    "start_time": "2024-01-12T20:01:50.752Z"
   },
   {
    "duration": 11,
    "start_time": "2024-01-12T20:01:50.809Z"
   },
   {
    "duration": 61,
    "start_time": "2024-01-12T20:01:50.822Z"
   },
   {
    "duration": 12,
    "start_time": "2024-01-12T20:01:50.885Z"
   },
   {
    "duration": 74,
    "start_time": "2024-01-12T20:01:50.898Z"
   },
   {
    "duration": 11,
    "start_time": "2024-01-12T20:01:50.974Z"
   },
   {
    "duration": 13,
    "start_time": "2024-01-12T20:01:50.987Z"
   },
   {
    "duration": 38,
    "start_time": "2024-01-12T20:01:51.001Z"
   },
   {
    "duration": 40,
    "start_time": "2024-01-12T20:01:51.041Z"
   },
   {
    "duration": 31,
    "start_time": "2024-01-12T20:01:51.082Z"
   },
   {
    "duration": 14,
    "start_time": "2024-01-12T20:01:51.115Z"
   },
   {
    "duration": 37,
    "start_time": "2024-01-12T20:01:51.130Z"
   },
   {
    "duration": 5,
    "start_time": "2024-01-12T20:01:51.169Z"
   },
   {
    "duration": 35,
    "start_time": "2024-01-12T20:01:51.175Z"
   },
   {
    "duration": 2,
    "start_time": "2024-01-12T20:01:51.211Z"
   },
   {
    "duration": 7,
    "start_time": "2024-01-12T20:01:51.215Z"
   },
   {
    "duration": 11,
    "start_time": "2024-01-12T20:01:51.223Z"
   },
   {
    "duration": 6195,
    "start_time": "2024-01-12T20:01:51.235Z"
   },
   {
    "duration": 13,
    "start_time": "2024-01-12T20:01:57.432Z"
   },
   {
    "duration": 18,
    "start_time": "2024-01-12T20:01:57.446Z"
   },
   {
    "duration": 31,
    "start_time": "2024-01-12T20:01:57.466Z"
   },
   {
    "duration": 29,
    "start_time": "2024-01-12T20:01:57.499Z"
   },
   {
    "duration": 1485,
    "start_time": "2024-01-12T20:01:57.530Z"
   },
   {
    "duration": 4,
    "start_time": "2024-01-12T20:01:59.017Z"
   },
   {
    "duration": 612,
    "start_time": "2024-01-12T20:01:59.022Z"
   },
   {
    "duration": 321,
    "start_time": "2024-01-12T20:01:59.635Z"
   },
   {
    "duration": 373,
    "start_time": "2024-01-12T20:01:59.965Z"
   },
   {
    "duration": 1444,
    "start_time": "2024-01-12T20:02:00.341Z"
   },
   {
    "duration": 21,
    "start_time": "2024-01-12T20:02:01.786Z"
   },
   {
    "duration": 11,
    "start_time": "2024-01-12T20:02:01.808Z"
   },
   {
    "duration": 14,
    "start_time": "2024-01-12T20:02:01.821Z"
   },
   {
    "duration": 12,
    "start_time": "2024-01-12T20:02:01.836Z"
   },
   {
    "duration": 15,
    "start_time": "2024-01-12T20:02:01.850Z"
   },
   {
    "duration": 2082,
    "start_time": "2024-01-12T20:02:01.867Z"
   },
   {
    "duration": 1171,
    "start_time": "2024-01-13T04:30:51.376Z"
   },
   {
    "duration": 3190,
    "start_time": "2024-01-13T04:33:00.485Z"
   },
   {
    "duration": 494,
    "start_time": "2024-01-13T04:47:58.913Z"
   },
   {
    "duration": 8,
    "start_time": "2024-01-13T04:48:02.297Z"
   },
   {
    "duration": 2,
    "start_time": "2024-01-13T04:48:18.980Z"
   },
   {
    "duration": 95,
    "start_time": "2024-01-13T04:48:23.874Z"
   },
   {
    "duration": 3,
    "start_time": "2024-01-13T04:48:32.618Z"
   },
   {
    "duration": 137,
    "start_time": "2024-01-13T04:53:14.814Z"
   },
   {
    "duration": 1115,
    "start_time": "2024-01-13T04:53:21.648Z"
   },
   {
    "duration": 1837,
    "start_time": "2024-01-13T04:53:33.265Z"
   },
   {
    "duration": 1321,
    "start_time": "2024-01-13T04:55:46.838Z"
   },
   {
    "duration": 965,
    "start_time": "2024-01-13T04:56:01.907Z"
   },
   {
    "duration": 1104,
    "start_time": "2024-01-13T04:56:09.592Z"
   },
   {
    "duration": 36,
    "start_time": "2024-01-13T04:58:37.450Z"
   },
   {
    "duration": 112,
    "start_time": "2024-01-13T05:00:11.802Z"
   },
   {
    "duration": 2,
    "start_time": "2024-01-13T05:00:36.734Z"
   },
   {
    "duration": 62479,
    "start_time": "2024-01-13T05:02:33.163Z"
   },
   {
    "duration": 1061,
    "start_time": "2024-01-13T05:04:12.299Z"
   },
   {
    "duration": 3,
    "start_time": "2024-01-13T05:06:57.607Z"
   },
   {
    "duration": 2,
    "start_time": "2024-01-13T05:07:30.578Z"
   },
   {
    "duration": 3,
    "start_time": "2024-01-13T05:07:33.898Z"
   },
   {
    "duration": 2,
    "start_time": "2024-01-13T05:07:35.797Z"
   },
   {
    "duration": 4,
    "start_time": "2024-01-13T05:08:27.867Z"
   },
   {
    "duration": 138,
    "start_time": "2024-01-13T05:09:00.633Z"
   },
   {
    "duration": 2,
    "start_time": "2024-01-13T05:09:08.445Z"
   },
   {
    "duration": 4,
    "start_time": "2024-01-13T05:09:45.063Z"
   },
   {
    "duration": 3,
    "start_time": "2024-01-13T05:10:46.510Z"
   },
   {
    "duration": 3,
    "start_time": "2024-01-13T05:11:20.358Z"
   },
   {
    "duration": 5,
    "start_time": "2024-01-13T05:13:07.608Z"
   },
   {
    "duration": 5626,
    "start_time": "2024-01-13T05:13:15.069Z"
   },
   {
    "duration": 25,
    "start_time": "2024-01-13T05:13:38.253Z"
   },
   {
    "duration": 15,
    "start_time": "2024-01-13T05:13:55.767Z"
   },
   {
    "duration": 9,
    "start_time": "2024-01-13T05:16:25.395Z"
   },
   {
    "duration": 6,
    "start_time": "2024-01-13T05:17:25.000Z"
   },
   {
    "duration": 17,
    "start_time": "2024-01-13T05:18:00.163Z"
   },
   {
    "duration": 4,
    "start_time": "2024-01-13T05:18:13.445Z"
   },
   {
    "duration": 5,
    "start_time": "2024-01-13T05:19:17.804Z"
   },
   {
    "duration": 73,
    "start_time": "2024-01-13T05:27:23.871Z"
   },
   {
    "duration": 3,
    "start_time": "2024-01-13T05:28:50.533Z"
   },
   {
    "duration": 82,
    "start_time": "2024-01-13T05:29:34.170Z"
   },
   {
    "duration": 135,
    "start_time": "2024-01-13T05:29:52.341Z"
   },
   {
    "duration": 124,
    "start_time": "2024-01-13T05:30:04.290Z"
   },
   {
    "duration": 9,
    "start_time": "2024-01-13T05:30:11.002Z"
   },
   {
    "duration": 2,
    "start_time": "2024-01-13T05:31:05.734Z"
   },
   {
    "duration": 3,
    "start_time": "2024-01-13T05:31:13.065Z"
   },
   {
    "duration": 7,
    "start_time": "2024-01-13T05:31:17.569Z"
   },
   {
    "duration": 3,
    "start_time": "2024-01-13T05:33:55.513Z"
   },
   {
    "duration": 3,
    "start_time": "2024-01-13T05:34:01.485Z"
   },
   {
    "duration": 3,
    "start_time": "2024-01-13T05:34:27.618Z"
   },
   {
    "duration": 2,
    "start_time": "2024-01-13T05:34:34.354Z"
   },
   {
    "duration": 7,
    "start_time": "2024-01-13T05:34:40.749Z"
   },
   {
    "duration": 3,
    "start_time": "2024-01-13T05:37:19.948Z"
   },
   {
    "duration": 3,
    "start_time": "2024-01-13T05:37:39.448Z"
   },
   {
    "duration": 75,
    "start_time": "2024-01-13T05:41:04.374Z"
   },
   {
    "duration": 8,
    "start_time": "2024-01-13T05:41:47.347Z"
   },
   {
    "duration": 9,
    "start_time": "2024-01-13T05:42:09.142Z"
   },
   {
    "duration": 2193,
    "start_time": "2024-01-13T05:44:53.055Z"
   },
   {
    "duration": 4,
    "start_time": "2024-01-13T05:44:58.800Z"
   },
   {
    "duration": 3,
    "start_time": "2024-01-13T05:45:02.222Z"
   },
   {
    "duration": 2,
    "start_time": "2024-01-13T05:45:04.604Z"
   },
   {
    "duration": 30,
    "start_time": "2024-01-13T05:45:11.684Z"
   },
   {
    "duration": 6,
    "start_time": "2024-01-13T05:45:16.894Z"
   },
   {
    "duration": 6,
    "start_time": "2024-01-13T05:46:16.875Z"
   },
   {
    "duration": 7,
    "start_time": "2024-01-13T05:52:52.060Z"
   },
   {
    "duration": 2,
    "start_time": "2024-01-13T05:53:15.393Z"
   },
   {
    "duration": 3334,
    "start_time": "2024-01-14T12:11:12.287Z"
   },
   {
    "duration": 532,
    "start_time": "2024-01-14T12:11:21.822Z"
   },
   {
    "duration": 3,
    "start_time": "2024-01-14T12:11:26.071Z"
   },
   {
    "duration": 83,
    "start_time": "2024-01-14T12:11:31.169Z"
   },
   {
    "duration": 503,
    "start_time": "2024-01-14T12:11:32.263Z"
   },
   {
    "duration": 9,
    "start_time": "2024-01-14T12:11:58.470Z"
   },
   {
    "duration": 10224,
    "start_time": "2024-01-14T12:16:36.079Z"
   },
   {
    "duration": 1554,
    "start_time": "2024-01-14T12:16:46.304Z"
   },
   {
    "duration": 2143,
    "start_time": "2024-01-14T12:17:35.526Z"
   },
   {
    "duration": 1601,
    "start_time": "2024-01-14T12:17:49.567Z"
   },
   {
    "duration": 1531,
    "start_time": "2024-01-14T12:18:03.341Z"
   },
   {
    "duration": 17,
    "start_time": "2024-01-14T12:18:19.814Z"
   },
   {
    "duration": 3,
    "start_time": "2024-01-14T12:18:22.446Z"
   },
   {
    "duration": 76551,
    "start_time": "2024-01-14T12:18:30.266Z"
   },
   {
    "duration": 3,
    "start_time": "2024-01-14T12:19:51.833Z"
   },
   {
    "duration": 2,
    "start_time": "2024-01-14T12:19:56.407Z"
   },
   {
    "duration": 3,
    "start_time": "2024-01-14T12:19:58.261Z"
   },
   {
    "duration": 2,
    "start_time": "2024-01-14T12:19:59.571Z"
   },
   {
    "duration": 3,
    "start_time": "2024-01-14T12:20:01.416Z"
   },
   {
    "duration": 132,
    "start_time": "2024-01-14T12:20:04.742Z"
   },
   {
    "duration": 3,
    "start_time": "2024-01-14T12:20:07.666Z"
   },
   {
    "duration": 4,
    "start_time": "2024-01-14T12:20:12.604Z"
   },
   {
    "duration": 5391,
    "start_time": "2024-01-14T12:20:15.708Z"
   },
   {
    "duration": 26,
    "start_time": "2024-01-14T12:20:22.946Z"
   },
   {
    "duration": 10,
    "start_time": "2024-01-14T12:20:25.341Z"
   },
   {
    "duration": 4,
    "start_time": "2024-01-14T12:20:28.783Z"
   },
   {
    "duration": 5,
    "start_time": "2024-01-14T12:20:32.003Z"
   },
   {
    "duration": 5,
    "start_time": "2024-01-14T12:20:34.625Z"
   },
   {
    "duration": 7,
    "start_time": "2024-01-14T12:20:52.745Z"
   },
   {
    "duration": 6,
    "start_time": "2024-01-14T12:20:56.942Z"
   },
   {
    "duration": 3,
    "start_time": "2024-01-14T12:21:42.868Z"
   },
   {
    "duration": 7,
    "start_time": "2024-01-14T12:21:49.145Z"
   },
   {
    "duration": 769,
    "start_time": "2024-01-14T12:21:52.786Z"
   },
   {
    "duration": 25,
    "start_time": "2024-01-14T12:22:20.035Z"
   },
   {
    "duration": 2,
    "start_time": "2024-01-14T12:22:43.298Z"
   },
   {
    "duration": 3,
    "start_time": "2024-01-14T12:22:54.002Z"
   },
   {
    "duration": 32,
    "start_time": "2024-01-14T12:22:57.538Z"
   },
   {
    "duration": 3,
    "start_time": "2024-01-14T12:23:24.802Z"
   },
   {
    "duration": 3247,
    "start_time": "2024-01-14T12:23:44.010Z"
   },
   {
    "duration": 107,
    "start_time": "2024-01-14T12:24:39.458Z"
   },
   {
    "duration": 2,
    "start_time": "2024-01-14T12:24:57.417Z"
   },
   {
    "duration": 4,
    "start_time": "2024-01-14T12:24:58.816Z"
   },
   {
    "duration": 2817,
    "start_time": "2024-01-14T12:25:08.980Z"
   },
   {
    "duration": 3,
    "start_time": "2024-01-14T12:28:24.754Z"
   },
   {
    "duration": 47,
    "start_time": "2024-01-14T12:28:25.998Z"
   },
   {
    "duration": 171,
    "start_time": "2024-01-14T12:29:58.488Z"
   },
   {
    "duration": 139,
    "start_time": "2024-01-14T12:30:01.029Z"
   },
   {
    "duration": 104,
    "start_time": "2024-01-14T12:30:28.832Z"
   },
   {
    "duration": 106,
    "start_time": "2024-01-14T12:30:38.183Z"
   },
   {
    "duration": 231,
    "start_time": "2024-01-14T12:30:50.657Z"
   },
   {
    "duration": 250,
    "start_time": "2024-01-14T12:31:08.278Z"
   },
   {
    "duration": 2,
    "start_time": "2024-01-14T12:31:13.053Z"
   },
   {
    "duration": 24,
    "start_time": "2024-01-14T12:31:13.944Z"
   },
   {
    "duration": 5314,
    "start_time": "2024-01-14T12:31:18.267Z"
   },
   {
    "duration": 21,
    "start_time": "2024-01-14T12:31:30.772Z"
   },
   {
    "duration": 2,
    "start_time": "2024-01-14T12:31:34.389Z"
   },
   {
    "duration": 8,
    "start_time": "2024-01-14T12:31:50.699Z"
   },
   {
    "duration": 13,
    "start_time": "2024-01-14T12:31:52.391Z"
   },
   {
    "duration": 11,
    "start_time": "2024-01-14T12:31:53.167Z"
   },
   {
    "duration": 4,
    "start_time": "2024-01-14T12:32:03.975Z"
   },
   {
    "duration": 15,
    "start_time": "2024-01-14T12:32:05.363Z"
   },
   {
    "duration": 14,
    "start_time": "2024-01-14T12:32:16.006Z"
   },
   {
    "duration": 851,
    "start_time": "2024-01-14T12:32:31.701Z"
   },
   {
    "duration": 3,
    "start_time": "2024-01-14T12:32:47.010Z"
   },
   {
    "duration": 29,
    "start_time": "2024-01-14T12:33:00.335Z"
   },
   {
    "duration": 2614,
    "start_time": "2024-01-14T12:33:04.315Z"
   },
   {
    "duration": 2,
    "start_time": "2024-01-14T12:35:42.629Z"
   },
   {
    "duration": 89,
    "start_time": "2024-01-14T12:35:44.577Z"
   },
   {
    "duration": 3,
    "start_time": "2024-01-14T12:37:15.374Z"
   },
   {
    "duration": 33,
    "start_time": "2024-01-14T12:37:16.337Z"
   },
   {
    "duration": 3,
    "start_time": "2024-01-14T12:37:30.818Z"
   },
   {
    "duration": 5753,
    "start_time": "2024-01-14T12:37:34.637Z"
   },
   {
    "duration": 0,
    "start_time": "2024-01-14T12:37:40.391Z"
   },
   {
    "duration": 198,
    "start_time": "2024-01-14T12:38:36.485Z"
   },
   {
    "duration": 226,
    "start_time": "2024-01-14T12:39:19.350Z"
   },
   {
    "duration": 5181,
    "start_time": "2024-01-14T12:39:40.663Z"
   },
   {
    "duration": 204,
    "start_time": "2024-01-14T12:39:49.986Z"
   },
   {
    "duration": 28627,
    "start_time": "2024-01-14T12:41:28.187Z"
   },
   {
    "duration": 2871,
    "start_time": "2024-01-14T12:42:36.968Z"
   },
   {
    "duration": 2675,
    "start_time": "2024-01-14T12:44:24.816Z"
   },
   {
    "duration": 6,
    "start_time": "2024-01-14T12:44:27.494Z"
   },
   {
    "duration": 4,
    "start_time": "2024-01-14T12:44:27.502Z"
   },
   {
    "duration": 3,
    "start_time": "2024-01-14T12:44:27.509Z"
   },
   {
    "duration": 3,
    "start_time": "2024-01-14T12:44:27.514Z"
   },
   {
    "duration": 158,
    "start_time": "2024-01-14T12:44:27.518Z"
   },
   {
    "duration": 1708,
    "start_time": "2024-01-14T12:44:27.677Z"
   },
   {
    "duration": 4,
    "start_time": "2024-01-14T12:44:29.386Z"
   },
   {
    "duration": 5,
    "start_time": "2024-01-14T12:44:29.392Z"
   },
   {
    "duration": 70564,
    "start_time": "2024-01-14T12:44:29.400Z"
   },
   {
    "duration": 3,
    "start_time": "2024-01-14T12:45:39.965Z"
   },
   {
    "duration": 24,
    "start_time": "2024-01-14T12:45:39.969Z"
   },
   {
    "duration": 16,
    "start_time": "2024-01-14T12:45:39.995Z"
   },
   {
    "duration": 29,
    "start_time": "2024-01-14T12:45:40.013Z"
   },
   {
    "duration": 13,
    "start_time": "2024-01-14T12:45:40.044Z"
   },
   {
    "duration": 132,
    "start_time": "2024-01-14T12:45:40.058Z"
   },
   {
    "duration": 3,
    "start_time": "2024-01-14T12:45:40.192Z"
   },
   {
    "duration": 15,
    "start_time": "2024-01-14T12:45:40.196Z"
   },
   {
    "duration": 4947,
    "start_time": "2024-01-14T12:45:40.212Z"
   },
   {
    "duration": 25,
    "start_time": "2024-01-14T12:45:45.160Z"
   },
   {
    "duration": 6,
    "start_time": "2024-01-14T12:45:45.187Z"
   },
   {
    "duration": 20,
    "start_time": "2024-01-14T12:45:45.195Z"
   },
   {
    "duration": 7,
    "start_time": "2024-01-14T12:45:45.217Z"
   },
   {
    "duration": 19,
    "start_time": "2024-01-14T12:45:45.226Z"
   },
   {
    "duration": 17,
    "start_time": "2024-01-14T12:45:45.246Z"
   },
   {
    "duration": 14,
    "start_time": "2024-01-14T12:45:45.265Z"
   },
   {
    "duration": 6,
    "start_time": "2024-01-14T12:45:45.280Z"
   },
   {
    "duration": 7,
    "start_time": "2024-01-14T12:45:45.290Z"
   },
   {
    "duration": 935,
    "start_time": "2024-01-14T12:45:45.298Z"
   },
   {
    "duration": 2,
    "start_time": "2024-01-14T12:45:46.235Z"
   },
   {
    "duration": 6,
    "start_time": "2024-01-14T12:45:46.239Z"
   },
   {
    "duration": 30,
    "start_time": "2024-01-14T12:45:46.247Z"
   },
   {
    "duration": 4971,
    "start_time": "2024-01-14T12:45:46.279Z"
   },
   {
    "duration": 107,
    "start_time": "2024-01-14T12:45:51.252Z"
   },
   {
    "duration": 2,
    "start_time": "2024-01-14T12:45:51.361Z"
   },
   {
    "duration": 27,
    "start_time": "2024-01-14T12:45:51.365Z"
   },
   {
    "duration": 23,
    "start_time": "2024-01-14T12:45:51.393Z"
   },
   {
    "duration": 20,
    "start_time": "2024-01-14T12:45:51.418Z"
   },
   {
    "duration": 5,
    "start_time": "2024-01-14T12:45:51.440Z"
   },
   {
    "duration": 9,
    "start_time": "2024-01-14T12:45:51.447Z"
   },
   {
    "duration": 47,
    "start_time": "2024-01-14T12:45:51.458Z"
   },
   {
    "duration": 132,
    "start_time": "2024-01-14T12:45:51.506Z"
   },
   {
    "duration": 108,
    "start_time": "2024-01-14T12:45:51.640Z"
   },
   {
    "duration": 117,
    "start_time": "2024-01-14T12:45:51.750Z"
   },
   {
    "duration": 232,
    "start_time": "2024-01-14T12:45:51.868Z"
   },
   {
    "duration": 3,
    "start_time": "2024-01-14T12:45:52.102Z"
   },
   {
    "duration": 50,
    "start_time": "2024-01-14T12:45:52.106Z"
   },
   {
    "duration": 5218,
    "start_time": "2024-01-14T12:45:52.158Z"
   },
   {
    "duration": 19,
    "start_time": "2024-01-14T12:45:57.377Z"
   },
   {
    "duration": 8,
    "start_time": "2024-01-14T12:45:57.398Z"
   },
   {
    "duration": 18,
    "start_time": "2024-01-14T12:45:57.407Z"
   },
   {
    "duration": 22,
    "start_time": "2024-01-14T12:45:57.426Z"
   },
   {
    "duration": 14,
    "start_time": "2024-01-14T12:45:57.449Z"
   },
   {
    "duration": 23,
    "start_time": "2024-01-14T12:45:57.465Z"
   },
   {
    "duration": 12,
    "start_time": "2024-01-14T12:45:57.490Z"
   },
   {
    "duration": 869,
    "start_time": "2024-01-14T12:45:57.504Z"
   },
   {
    "duration": 3,
    "start_time": "2024-01-14T12:45:58.374Z"
   },
   {
    "duration": 57,
    "start_time": "2024-01-14T12:45:58.378Z"
   },
   {
    "duration": 6,
    "start_time": "2024-01-14T12:45:58.436Z"
   },
   {
    "duration": 2975,
    "start_time": "2024-01-14T12:45:58.443Z"
   },
   {
    "duration": 3,
    "start_time": "2024-01-14T12:46:01.420Z"
   },
   {
    "duration": 35,
    "start_time": "2024-01-14T12:46:01.424Z"
   },
   {
    "duration": 2607,
    "start_time": "2024-01-14T12:46:53.103Z"
   },
   {
    "duration": 3,
    "start_time": "2024-01-14T12:47:15.704Z"
   },
   {
    "duration": 29,
    "start_time": "2024-01-14T12:47:16.819Z"
   },
   {
    "duration": 246,
    "start_time": "2024-01-14T12:47:18.748Z"
   },
   {
    "duration": 4,
    "start_time": "2024-01-14T12:48:08.328Z"
   },
   {
    "duration": 2,
    "start_time": "2024-01-14T12:48:10.844Z"
   },
   {
    "duration": 25,
    "start_time": "2024-01-14T12:48:11.569Z"
   },
   {
    "duration": 2,
    "start_time": "2024-01-14T12:48:14.405Z"
   },
   {
    "duration": 5121,
    "start_time": "2024-01-14T12:48:16.088Z"
   },
   {
    "duration": 25,
    "start_time": "2024-01-14T12:48:21.211Z"
   },
   {
    "duration": 14,
    "start_time": "2024-01-14T12:48:31.028Z"
   },
   {
    "duration": 2,
    "start_time": "2024-01-14T12:48:50.761Z"
   },
   {
    "duration": 8,
    "start_time": "2024-01-14T12:48:52.742Z"
   },
   {
    "duration": 14,
    "start_time": "2024-01-14T12:48:54.192Z"
   },
   {
    "duration": 9,
    "start_time": "2024-01-14T12:48:54.924Z"
   },
   {
    "duration": 4,
    "start_time": "2024-01-14T12:49:00.255Z"
   },
   {
    "duration": 16,
    "start_time": "2024-01-14T12:49:01.412Z"
   },
   {
    "duration": 2,
    "start_time": "2024-01-14T12:49:10.952Z"
   },
   {
    "duration": 943,
    "start_time": "2024-01-14T12:49:13.724Z"
   },
   {
    "duration": 3,
    "start_time": "2024-01-14T12:49:31.714Z"
   },
   {
    "duration": 2,
    "start_time": "2024-01-14T12:49:39.396Z"
   },
   {
    "duration": 3,
    "start_time": "2024-01-14T12:49:41.358Z"
   },
   {
    "duration": 2,
    "start_time": "2024-01-14T12:49:41.848Z"
   },
   {
    "duration": 3,
    "start_time": "2024-01-14T12:49:45.635Z"
   },
   {
    "duration": 2,
    "start_time": "2024-01-14T12:49:46.519Z"
   },
   {
    "duration": 23,
    "start_time": "2024-01-14T12:49:56.872Z"
   },
   {
    "duration": 4,
    "start_time": "2024-01-14T12:50:14.148Z"
   },
   {
    "duration": 31,
    "start_time": "2024-01-14T12:50:39.633Z"
   },
   {
    "duration": 26,
    "start_time": "2024-01-14T12:50:41.085Z"
   },
   {
    "duration": 4,
    "start_time": "2024-01-14T12:51:35.385Z"
   },
   {
    "duration": 2780,
    "start_time": "2024-01-14T12:52:35.997Z"
   },
   {
    "duration": 4,
    "start_time": "2024-01-14T12:53:42.796Z"
   },
   {
    "duration": 2,
    "start_time": "2024-01-14T12:53:48.326Z"
   },
   {
    "duration": 2,
    "start_time": "2024-01-14T12:53:49.832Z"
   },
   {
    "duration": 2,
    "start_time": "2024-01-14T12:53:54.121Z"
   },
   {
    "duration": 3,
    "start_time": "2024-01-14T12:54:17.202Z"
   },
   {
    "duration": 315319,
    "start_time": "2024-01-14T12:54:18.547Z"
   },
   {
    "duration": 3,
    "start_time": "2024-01-14T12:59:33.867Z"
   },
   {
    "duration": 8,
    "start_time": "2024-01-14T12:59:33.872Z"
   },
   {
    "duration": 0,
    "start_time": "2024-01-14T12:59:33.882Z"
   },
   {
    "duration": 0,
    "start_time": "2024-01-14T12:59:33.883Z"
   },
   {
    "duration": 0,
    "start_time": "2024-01-14T12:59:33.884Z"
   },
   {
    "duration": 0,
    "start_time": "2024-01-14T12:59:33.885Z"
   },
   {
    "duration": 0,
    "start_time": "2024-01-14T12:59:33.886Z"
   },
   {
    "duration": 0,
    "start_time": "2024-01-14T12:59:33.887Z"
   },
   {
    "duration": 0,
    "start_time": "2024-01-14T12:59:33.888Z"
   },
   {
    "duration": 0,
    "start_time": "2024-01-14T12:59:33.889Z"
   },
   {
    "duration": 46,
    "start_time": "2024-01-14T13:00:51.722Z"
   },
   {
    "duration": 45,
    "start_time": "2024-01-14T13:00:55.565Z"
   },
   {
    "duration": 91,
    "start_time": "2024-01-14T13:00:57.682Z"
   },
   {
    "duration": 3,
    "start_time": "2024-01-14T13:01:01.097Z"
   },
   {
    "duration": 32,
    "start_time": "2024-01-14T13:01:04.246Z"
   },
   {
    "duration": 33,
    "start_time": "2024-01-14T13:01:14.537Z"
   },
   {
    "duration": 32,
    "start_time": "2024-01-14T13:01:17.447Z"
   },
   {
    "duration": 15,
    "start_time": "2024-01-14T13:02:58.338Z"
   },
   {
    "duration": 4,
    "start_time": "2024-01-14T13:03:01.665Z"
   },
   {
    "duration": 18,
    "start_time": "2024-01-14T13:03:03.633Z"
   },
   {
    "duration": 5,
    "start_time": "2024-01-14T13:03:07.143Z"
   },
   {
    "duration": 4,
    "start_time": "2024-01-14T13:03:09.592Z"
   },
   {
    "duration": 5982,
    "start_time": "2024-01-14T13:03:12.385Z"
   },
   {
    "duration": 2442,
    "start_time": "2024-01-14T13:17:15.296Z"
   },
   {
    "duration": 4,
    "start_time": "2024-01-14T13:17:17.740Z"
   },
   {
    "duration": 8,
    "start_time": "2024-01-14T13:17:17.746Z"
   },
   {
    "duration": 17,
    "start_time": "2024-01-14T13:17:17.757Z"
   },
   {
    "duration": 7,
    "start_time": "2024-01-14T13:17:17.776Z"
   },
   {
    "duration": 134,
    "start_time": "2024-01-14T13:17:17.784Z"
   },
   {
    "duration": 1717,
    "start_time": "2024-01-14T13:17:17.920Z"
   },
   {
    "duration": 4,
    "start_time": "2024-01-14T13:17:19.638Z"
   },
   {
    "duration": 16,
    "start_time": "2024-01-14T13:17:19.643Z"
   },
   {
    "duration": 66899,
    "start_time": "2024-01-14T13:17:19.662Z"
   },
   {
    "duration": 3,
    "start_time": "2024-01-14T13:18:26.563Z"
   },
   {
    "duration": 7,
    "start_time": "2024-01-14T13:18:26.567Z"
   },
   {
    "duration": 4,
    "start_time": "2024-01-14T13:18:26.575Z"
   },
   {
    "duration": 3,
    "start_time": "2024-01-14T13:18:26.580Z"
   },
   {
    "duration": 7,
    "start_time": "2024-01-14T13:18:26.585Z"
   },
   {
    "duration": 106,
    "start_time": "2024-01-14T13:18:26.593Z"
   },
   {
    "duration": 3,
    "start_time": "2024-01-14T13:18:26.701Z"
   },
   {
    "duration": 4946,
    "start_time": "2024-01-14T13:18:26.706Z"
   },
   {
    "duration": 26,
    "start_time": "2024-01-14T13:18:31.654Z"
   },
   {
    "duration": 8,
    "start_time": "2024-01-14T13:18:31.681Z"
   },
   {
    "duration": 21,
    "start_time": "2024-01-14T13:18:31.691Z"
   },
   {
    "duration": 44,
    "start_time": "2024-01-14T13:18:31.714Z"
   },
   {
    "duration": 47,
    "start_time": "2024-01-14T13:18:31.759Z"
   },
   {
    "duration": 13,
    "start_time": "2024-01-14T13:18:31.807Z"
   },
   {
    "duration": 37,
    "start_time": "2024-01-14T13:18:31.822Z"
   },
   {
    "duration": 43,
    "start_time": "2024-01-14T13:18:31.861Z"
   },
   {
    "duration": 1138,
    "start_time": "2024-01-14T13:18:31.906Z"
   },
   {
    "duration": 3,
    "start_time": "2024-01-14T13:18:33.048Z"
   },
   {
    "duration": 164,
    "start_time": "2024-01-14T13:18:33.052Z"
   },
   {
    "duration": 61,
    "start_time": "2024-01-14T13:18:33.217Z"
   },
   {
    "duration": 5,
    "start_time": "2024-01-14T13:18:33.280Z"
   },
   {
    "duration": 191,
    "start_time": "2024-01-14T13:18:33.287Z"
   },
   {
    "duration": 3,
    "start_time": "2024-01-14T13:18:33.479Z"
   },
   {
    "duration": 5,
    "start_time": "2024-01-14T13:18:33.483Z"
   },
   {
    "duration": 5,
    "start_time": "2024-01-14T13:18:33.489Z"
   },
   {
    "duration": 4,
    "start_time": "2024-01-14T13:18:33.495Z"
   },
   {
    "duration": 17,
    "start_time": "2024-01-14T13:18:33.500Z"
   },
   {
    "duration": 4,
    "start_time": "2024-01-14T13:18:33.519Z"
   },
   {
    "duration": 31,
    "start_time": "2024-01-14T13:18:33.524Z"
   },
   {
    "duration": 127,
    "start_time": "2024-01-14T13:18:33.557Z"
   },
   {
    "duration": 122,
    "start_time": "2024-01-14T13:18:33.685Z"
   },
   {
    "duration": 115,
    "start_time": "2024-01-14T13:18:33.808Z"
   },
   {
    "duration": 233,
    "start_time": "2024-01-14T13:18:33.925Z"
   },
   {
    "duration": 2,
    "start_time": "2024-01-14T13:18:34.160Z"
   },
   {
    "duration": 59,
    "start_time": "2024-01-14T13:18:34.163Z"
   },
   {
    "duration": 5313,
    "start_time": "2024-01-14T13:18:34.224Z"
   },
   {
    "duration": 22,
    "start_time": "2024-01-14T13:18:39.538Z"
   },
   {
    "duration": 13,
    "start_time": "2024-01-14T13:18:39.562Z"
   },
   {
    "duration": 19,
    "start_time": "2024-01-14T13:18:39.576Z"
   },
   {
    "duration": 8,
    "start_time": "2024-01-14T13:18:39.597Z"
   },
   {
    "duration": 5,
    "start_time": "2024-01-14T13:18:39.607Z"
   },
   {
    "duration": 18,
    "start_time": "2024-01-14T13:18:39.614Z"
   },
   {
    "duration": 2,
    "start_time": "2024-01-14T13:18:39.633Z"
   },
   {
    "duration": 763,
    "start_time": "2024-01-14T13:18:39.636Z"
   },
   {
    "duration": 3,
    "start_time": "2024-01-14T13:18:40.400Z"
   },
   {
    "duration": 28,
    "start_time": "2024-01-14T13:18:40.405Z"
   },
   {
    "duration": 4,
    "start_time": "2024-01-14T13:18:40.434Z"
   },
   {
    "duration": 3714,
    "start_time": "2024-01-14T13:18:40.439Z"
   },
   {
    "duration": 4,
    "start_time": "2024-01-14T13:18:44.155Z"
   },
   {
    "duration": 4,
    "start_time": "2024-01-14T13:18:44.160Z"
   },
   {
    "duration": 3,
    "start_time": "2024-01-14T13:18:44.166Z"
   },
   {
    "duration": 32,
    "start_time": "2024-01-14T13:18:44.171Z"
   },
   {
    "duration": 188,
    "start_time": "2024-01-14T13:18:44.205Z"
   },
   {
    "duration": 3,
    "start_time": "2024-01-14T13:18:44.394Z"
   },
   {
    "duration": 38,
    "start_time": "2024-01-14T13:18:44.398Z"
   },
   {
    "duration": 3,
    "start_time": "2024-01-14T13:18:44.437Z"
   },
   {
    "duration": 5413,
    "start_time": "2024-01-14T13:18:44.442Z"
   },
   {
    "duration": 30,
    "start_time": "2024-01-14T13:18:49.856Z"
   },
   {
    "duration": 7,
    "start_time": "2024-01-14T13:18:49.888Z"
   },
   {
    "duration": 12,
    "start_time": "2024-01-14T13:18:49.896Z"
   },
   {
    "duration": 8,
    "start_time": "2024-01-14T13:18:49.910Z"
   },
   {
    "duration": 4,
    "start_time": "2024-01-14T13:18:49.919Z"
   },
   {
    "duration": 43,
    "start_time": "2024-01-14T13:18:49.925Z"
   },
   {
    "duration": 2,
    "start_time": "2024-01-14T13:18:49.970Z"
   },
   {
    "duration": 796,
    "start_time": "2024-01-14T13:18:49.974Z"
   },
   {
    "duration": 2,
    "start_time": "2024-01-14T13:18:50.773Z"
   },
   {
    "duration": 11,
    "start_time": "2024-01-14T13:18:50.777Z"
   },
   {
    "duration": 6,
    "start_time": "2024-01-14T13:18:50.789Z"
   },
   {
    "duration": 17,
    "start_time": "2024-01-14T13:18:50.796Z"
   },
   {
    "duration": 3,
    "start_time": "2024-01-14T13:18:50.815Z"
   },
   {
    "duration": 24,
    "start_time": "2024-01-14T13:18:50.820Z"
   },
   {
    "duration": 22,
    "start_time": "2024-01-14T13:18:50.850Z"
   },
   {
    "duration": 22,
    "start_time": "2024-01-14T13:18:50.874Z"
   },
   {
    "duration": 2849,
    "start_time": "2024-01-14T13:18:50.898Z"
   },
   {
    "duration": 3,
    "start_time": "2024-01-14T13:18:53.749Z"
   },
   {
    "duration": 9,
    "start_time": "2024-01-14T13:18:53.753Z"
   },
   {
    "duration": 6,
    "start_time": "2024-01-14T13:18:53.764Z"
   },
   {
    "duration": 6,
    "start_time": "2024-01-14T13:18:53.771Z"
   },
   {
    "duration": 316407,
    "start_time": "2024-01-14T13:18:53.778Z"
   },
   {
    "duration": 156,
    "start_time": "2024-01-14T13:24:10.187Z"
   },
   {
    "duration": 3,
    "start_time": "2024-01-14T13:24:10.344Z"
   },
   {
    "duration": 44,
    "start_time": "2024-01-14T13:24:10.348Z"
   },
   {
    "duration": 32,
    "start_time": "2024-01-14T13:24:10.394Z"
   },
   {
    "duration": 50,
    "start_time": "2024-01-14T13:24:10.427Z"
   },
   {
    "duration": 18,
    "start_time": "2024-01-14T13:24:10.479Z"
   },
   {
    "duration": 4,
    "start_time": "2024-01-14T13:24:10.499Z"
   },
   {
    "duration": 21,
    "start_time": "2024-01-14T13:24:10.504Z"
   },
   {
    "duration": 5,
    "start_time": "2024-01-14T13:24:10.527Z"
   },
   {
    "duration": 28,
    "start_time": "2024-01-14T13:24:10.534Z"
   },
   {
    "duration": 5950,
    "start_time": "2024-01-14T13:24:10.564Z"
   },
   {
    "duration": 12,
    "start_time": "2024-01-14T13:32:52.295Z"
   },
   {
    "duration": 21,
    "start_time": "2024-01-14T13:32:52.309Z"
   },
   {
    "duration": 17,
    "start_time": "2024-01-14T13:32:52.331Z"
   },
   {
    "duration": 37,
    "start_time": "2024-01-14T13:32:52.350Z"
   },
   {
    "duration": 1191,
    "start_time": "2024-01-14T13:32:52.388Z"
   },
   {
    "duration": 5,
    "start_time": "2024-01-14T13:32:53.580Z"
   },
   {
    "duration": 594,
    "start_time": "2024-01-14T13:32:53.586Z"
   },
   {
    "duration": 326,
    "start_time": "2024-01-14T13:32:54.182Z"
   },
   {
    "duration": 425,
    "start_time": "2024-01-14T13:32:54.511Z"
   },
   {
    "duration": 1382,
    "start_time": "2024-01-14T13:32:54.938Z"
   },
   {
    "duration": 18,
    "start_time": "2024-01-14T13:32:56.322Z"
   },
   {
    "duration": 4,
    "start_time": "2024-01-14T13:32:56.355Z"
   },
   {
    "duration": 15,
    "start_time": "2024-01-14T13:32:56.360Z"
   },
   {
    "duration": 39,
    "start_time": "2024-01-14T13:32:56.376Z"
   },
   {
    "duration": 12,
    "start_time": "2024-01-14T13:32:56.417Z"
   },
   {
    "duration": 2160,
    "start_time": "2024-01-14T13:32:56.430Z"
   },
   {
    "duration": 1227,
    "start_time": "2024-01-14T13:36:44.041Z"
   },
   {
    "duration": 1305,
    "start_time": "2024-01-14T13:37:05.083Z"
   },
   {
    "duration": 1626,
    "start_time": "2024-01-14T13:37:50.174Z"
   },
   {
    "duration": 1332,
    "start_time": "2024-01-14T13:38:03.855Z"
   },
   {
    "duration": 1405,
    "start_time": "2024-01-14T13:38:27.161Z"
   },
   {
    "duration": 1247,
    "start_time": "2024-01-14T13:38:45.855Z"
   },
   {
    "duration": 5,
    "start_time": "2024-01-14T13:40:37.801Z"
   },
   {
    "duration": 451,
    "start_time": "2024-01-14T13:40:42.238Z"
   },
   {
    "duration": 291,
    "start_time": "2024-01-14T13:41:01.254Z"
   },
   {
    "duration": 297,
    "start_time": "2024-01-14T13:41:12.647Z"
   },
   {
    "duration": 4,
    "start_time": "2024-01-14T13:42:51.245Z"
   },
   {
    "duration": 2290,
    "start_time": "2024-01-14T13:42:52.053Z"
   },
   {
    "duration": 5,
    "start_time": "2024-01-14T13:44:45.037Z"
   },
   {
    "duration": 2159,
    "start_time": "2024-01-14T13:44:46.007Z"
   },
   {
    "duration": 18,
    "start_time": "2024-01-14T13:49:59.145Z"
   },
   {
    "duration": 17,
    "start_time": "2024-01-14T13:50:00.422Z"
   },
   {
    "duration": 6317,
    "start_time": "2024-01-14T13:50:16.607Z"
   },
   {
    "duration": 6040,
    "start_time": "2024-01-14T13:51:05.290Z"
   },
   {
    "duration": 6660,
    "start_time": "2024-01-14T13:51:21.937Z"
   },
   {
    "duration": 18,
    "start_time": "2024-01-14T13:51:35.457Z"
   },
   {
    "duration": 15,
    "start_time": "2024-01-14T13:51:38.210Z"
   },
   {
    "duration": 15,
    "start_time": "2024-01-14T13:51:39.275Z"
   },
   {
    "duration": 29,
    "start_time": "2024-01-14T13:51:41.035Z"
   },
   {
    "duration": 3,
    "start_time": "2024-01-14T13:51:42.370Z"
   },
   {
    "duration": 4,
    "start_time": "2024-01-14T13:51:43.828Z"
   },
   {
    "duration": 471,
    "start_time": "2024-01-14T13:51:45.035Z"
   },
   {
    "duration": 267,
    "start_time": "2024-01-14T13:51:46.562Z"
   },
   {
    "duration": 311,
    "start_time": "2024-01-14T13:51:47.335Z"
   },
   {
    "duration": 1288,
    "start_time": "2024-01-14T13:51:50.036Z"
   },
   {
    "duration": 21,
    "start_time": "2024-01-14T13:51:53.275Z"
   },
   {
    "duration": 4,
    "start_time": "2024-01-14T13:51:54.881Z"
   },
   {
    "duration": 4,
    "start_time": "2024-01-14T13:51:55.235Z"
   },
   {
    "duration": 10,
    "start_time": "2024-01-14T13:51:55.813Z"
   },
   {
    "duration": 7,
    "start_time": "2024-01-14T13:51:57.370Z"
   },
   {
    "duration": 2176,
    "start_time": "2024-01-14T13:51:58.091Z"
   },
   {
    "duration": 4,
    "start_time": "2024-01-14T14:08:41.855Z"
   },
   {
    "duration": 6,
    "start_time": "2024-01-14T14:14:41.164Z"
   },
   {
    "duration": 4,
    "start_time": "2024-01-14T14:14:45.925Z"
   },
   {
    "duration": 6812,
    "start_time": "2024-01-14T14:14:48.747Z"
   }
  ],
  "colab": {
   "provenance": [
    {
     "file_id": "1HC06wnh1rFE_5NEED468y5E0fRTDaMZk",
     "timestamp": 1703761112437
    },
    {
     "file_id": "1LXYLQbMAz6Zr96J8GZghmaiREM1YqGLg",
     "timestamp": 1702578318341
    }
   ]
  },
  "kernelspec": {
   "display_name": "Python 3 (ipykernel)",
   "language": "python",
   "name": "python3"
  },
  "language_info": {
   "codemirror_mode": {
    "name": "ipython",
    "version": 3
   },
   "file_extension": ".py",
   "mimetype": "text/x-python",
   "name": "python",
   "nbconvert_exporter": "python",
   "pygments_lexer": "ipython3",
   "version": "3.9.5"
  },
  "toc": {
   "base_numbering": 1,
   "nav_menu": {},
   "number_sections": true,
   "sideBar": true,
   "skip_h1_title": true,
   "title_cell": "Table of Contents",
   "title_sidebar": "Contents",
   "toc_cell": false,
   "toc_position": {
    "height": "calc(100% - 180px)",
    "left": "10px",
    "top": "150px",
    "width": "194.75px"
   },
   "toc_section_display": true,
   "toc_window_display": true
  }
 },
 "nbformat": 4,
 "nbformat_minor": 5
}
